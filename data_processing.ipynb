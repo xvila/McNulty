{
 "cells": [
  {
   "cell_type": "code",
   "execution_count": 101,
   "metadata": {
    "ExecuteTime": {
     "end_time": "2017-10-20T00:36:00.889346Z",
     "start_time": "2017-10-20T00:36:00.832775Z"
    }
   },
   "outputs": [],
   "source": [
    "from __future__ import print_function\n",
    "\n",
    "import pandas as pd\n",
    "import numpy as np\n",
    "import json\n",
    "from sklearn.cross_validation import train_test_split\n",
    "from sklearn.neighbors import KNeighborsClassifier\n",
    "from sklearn.metrics import accuracy_score\n",
    "from sklearn.metrics import precision_score\n",
    "from sklearn.metrics import recall_score\n",
    "from sklearn.metrics import f1_score\n",
    "from sklearn.metrics import roc_curve\n",
    "from sklearn.metrics import roc_auc_score\n",
    "from sklearn.model_selection import cross_val_score\n",
    "from sklearn.linear_model import LogisticRegression\n",
    "from sklearn.ensemble import RandomForestClassifier\n",
    "from sklearn import cross_validation\n",
    "import difflib\n",
    "import pprint\n",
    "from sklearn.utils import resample\n",
    "\n",
    "%matplotlib inline\n",
    "import seaborn as sns\n",
    "import matplotlib.pyplot as plt\n",
    "plt.style.use('fivethirtyeight')\n",
    "sns.set_style('whitegrid')\n",
    "customFig = (10,8)\n"
   ]
  },
  {
   "cell_type": "code",
   "execution_count": 2,
   "metadata": {
    "ExecuteTime": {
     "end_time": "2017-10-19T21:26:48.797986Z",
     "start_time": "2017-10-19T21:26:47.063004Z"
    },
    "collapsed": true
   },
   "outputs": [],
   "source": [
    "df = pd.read_csv('data/nyc_inspection_results.csv')"
   ]
  },
  {
   "cell_type": "code",
   "execution_count": 3,
   "metadata": {
    "ExecuteTime": {
     "end_time": "2017-10-19T21:26:48.803355Z",
     "start_time": "2017-10-19T21:26:48.800114Z"
    },
    "collapsed": true
   },
   "outputs": [],
   "source": [
    "df.columns = map(str.lower, df.columns)"
   ]
  },
  {
   "cell_type": "code",
   "execution_count": 17,
   "metadata": {
    "ExecuteTime": {
     "end_time": "2017-10-19T21:40:59.740947Z",
     "start_time": "2017-10-19T21:40:59.737728Z"
    }
   },
   "outputs": [],
   "source": [
    "df.columns = [x.strip().replace(' ', '_') for x in df.columns]"
   ]
  },
  {
   "cell_type": "code",
   "execution_count": 19,
   "metadata": {
    "ExecuteTime": {
     "end_time": "2017-10-19T21:41:09.573670Z",
     "start_time": "2017-10-19T21:41:09.513951Z"
    },
    "collapsed": true
   },
   "outputs": [],
   "source": [
    "df['zipcode'] = df.zipcode.astype(str)"
   ]
  },
  {
   "cell_type": "code",
   "execution_count": 20,
   "metadata": {
    "ExecuteTime": {
     "end_time": "2017-10-19T21:41:09.993723Z",
     "start_time": "2017-10-19T21:41:09.912540Z"
    },
    "collapsed": true
   },
   "outputs": [],
   "source": [
    "df['zipcode'] = df['zipcode'].str.slice(0,5)"
   ]
  },
  {
   "cell_type": "code",
   "execution_count": 21,
   "metadata": {
    "ExecuteTime": {
     "end_time": "2017-10-19T21:41:11.029212Z",
     "start_time": "2017-10-19T21:41:11.023233Z"
    },
    "collapsed": true
   },
   "outputs": [],
   "source": [
    "# df.boro.replace(\"MANHATTAN\",\"NEW YORK\",inplace=True)"
   ]
  },
  {
   "cell_type": "code",
   "execution_count": 22,
   "metadata": {
    "ExecuteTime": {
     "end_time": "2017-10-19T21:41:13.568218Z",
     "start_time": "2017-10-19T21:41:13.540986Z"
    }
   },
   "outputs": [
    {
     "data": {
      "text/plain": [
       "'12/31/2016'"
      ]
     },
     "execution_count": 22,
     "metadata": {},
     "output_type": "execute_result"
    }
   ],
   "source": [
    "df['inspection_date'].max()"
   ]
  },
  {
   "cell_type": "code",
   "execution_count": 23,
   "metadata": {
    "ExecuteTime": {
     "end_time": "2017-10-19T21:41:17.149355Z",
     "start_time": "2017-10-19T21:41:17.120581Z"
    }
   },
   "outputs": [
    {
     "data": {
      "text/plain": [
       "'01/01/1900'"
      ]
     },
     "execution_count": 23,
     "metadata": {},
     "output_type": "execute_result"
    }
   ],
   "source": [
    "df['inspection_date'].min()"
   ]
  },
  {
   "cell_type": "code",
   "execution_count": 25,
   "metadata": {
    "ExecuteTime": {
     "end_time": "2017-10-19T21:42:02.939191Z",
     "start_time": "2017-10-19T21:42:02.661160Z"
    }
   },
   "outputs": [
    {
     "name": "stdout",
     "output_type": "stream",
     "text": [
      "<class 'pandas.core.frame.DataFrame'>\n",
      "RangeIndex: 399918 entries, 0 to 399917\n",
      "Data columns (total 18 columns):\n",
      "camis                    399918 non-null int64\n",
      "dba                      399559 non-null object\n",
      "boro                     399918 non-null object\n",
      "building                 399809 non-null object\n",
      "street                   399909 non-null object\n",
      "zipcode                  399918 non-null object\n",
      "phone                    399913 non-null object\n",
      "cuisine_description      399918 non-null object\n",
      "inspection_date          399918 non-null object\n",
      "action                   398783 non-null object\n",
      "violation_code           393414 non-null object\n",
      "violation_description    392939 non-null object\n",
      "critical_flag            399918 non-null object\n",
      "score                    376704 non-null float64\n",
      "grade                    195413 non-null object\n",
      "grade_date               192820 non-null object\n",
      "record_date              399918 non-null object\n",
      "inspection_type          398783 non-null object\n",
      "dtypes: float64(1), int64(1), object(16)\n",
      "memory usage: 54.9+ MB\n"
     ]
    }
   ],
   "source": [
    "df.info()"
   ]
  },
  {
   "cell_type": "code",
   "execution_count": 26,
   "metadata": {
    "ExecuteTime": {
     "end_time": "2017-10-19T21:44:44.271611Z",
     "start_time": "2017-10-19T21:43:06.169410Z"
    },
    "collapsed": true
   },
   "outputs": [],
   "source": [
    "df['inspection_date'] = pd.to_datetime(df.inspection_date)\n",
    "df['grade_date'] = pd.to_datetime(df.grade_date)\n",
    "df['record_date'] = pd.to_datetime(df.record_date)"
   ]
  },
  {
   "cell_type": "code",
   "execution_count": 27,
   "metadata": {
    "ExecuteTime": {
     "end_time": "2017-10-19T21:45:44.005549Z",
     "start_time": "2017-10-19T21:45:43.990307Z"
    },
    "collapsed": true
   },
   "outputs": [],
   "source": [
    "start_date = '01/01/2014'\n",
    "end_date = '12/31/2016'\n",
    "mask = (df['inspection_date'] > start_date) & (df['inspection_date'] <= end_date)"
   ]
  },
  {
   "cell_type": "code",
   "execution_count": 37,
   "metadata": {
    "ExecuteTime": {
     "end_time": "2017-10-19T23:55:25.869392Z",
     "start_time": "2017-10-19T23:55:25.776929Z"
    },
    "collapsed": true
   },
   "outputs": [],
   "source": [
    "df = df[mask]"
   ]
  },
  {
   "cell_type": "code",
   "execution_count": 38,
   "metadata": {
    "ExecuteTime": {
     "end_time": "2017-10-19T23:55:28.775685Z",
     "start_time": "2017-10-19T23:55:28.771539Z"
    }
   },
   "outputs": [
    {
     "data": {
      "text/plain": [
       "(313983, 18)"
      ]
     },
     "execution_count": 38,
     "metadata": {},
     "output_type": "execute_result"
    }
   ],
   "source": [
    "df.shape"
   ]
  },
  {
   "cell_type": "code",
   "execution_count": 39,
   "metadata": {
    "ExecuteTime": {
     "end_time": "2017-10-19T23:55:32.848469Z",
     "start_time": "2017-10-19T23:55:32.828560Z"
    }
   },
   "outputs": [
    {
     "data": {
      "text/plain": [
       "4572"
      ]
     },
     "execution_count": 39,
     "metadata": {},
     "output_type": "execute_result"
    }
   ],
   "source": [
    "df.violation_code.isnull().sum()"
   ]
  },
  {
   "cell_type": "code",
   "execution_count": 40,
   "metadata": {
    "ExecuteTime": {
     "end_time": "2017-10-19T23:56:17.249661Z",
     "start_time": "2017-10-19T23:56:17.019565Z"
    },
    "collapsed": true
   },
   "outputs": [],
   "source": [
    "df.dropna(subset=['violation_code'],axis=0,inplace=True)"
   ]
  },
  {
   "cell_type": "code",
   "execution_count": 41,
   "metadata": {
    "ExecuteTime": {
     "end_time": "2017-10-19T23:56:19.690752Z",
     "start_time": "2017-10-19T23:56:19.681414Z"
    },
    "collapsed": true
   },
   "outputs": [],
   "source": [
    "vermin_codes = ['04K','04L','04M','04N']\n",
    "contamination_codes = ['04H','06B','06C','06D','08C']\n",
    "facility_codes = ['08A','10A','10B','10D','10E','10F','10H','15L','22A','22C']\n",
    "food_handling_codes = ['03A','03C','09A','09B','09C']\n",
    "hygiene_codes = ['04D','04F','06A','06E','06F','08B','10I']\n",
    "regulatory_codes = ['04A','16B','20D','20F']\n",
    "temperature_codes = ['02B','02G','02H','05F']"
   ]
  },
  {
   "cell_type": "code",
   "execution_count": 43,
   "metadata": {
    "ExecuteTime": {
     "end_time": "2017-10-19T23:56:31.406029Z",
     "start_time": "2017-10-19T23:56:31.402346Z"
    },
    "collapsed": true
   },
   "outputs": [],
   "source": [
    "d = {'vermin':vermin_codes,'contamination':contamination_codes,\n",
    "            'facility':facility_codes,'food_handling':food_handling_codes,\n",
    "            'hygiene':hygiene_codes,'regulatory':regulatory_codes,\n",
    "            'temperature':temperature_codes}"
   ]
  },
  {
   "cell_type": "code",
   "execution_count": 44,
   "metadata": {
    "ExecuteTime": {
     "end_time": "2017-10-19T23:56:34.869345Z",
     "start_time": "2017-10-19T23:56:34.864655Z"
    },
    "collapsed": true
   },
   "outputs": [],
   "source": [
    "\n",
    "def violations(row,d):\n",
    "    for k,v in code_dict.items():\n",
    "        if row['violation_code'] in v:\n",
    "            return k\n",
    "    "
   ]
  },
  {
   "cell_type": "code",
   "execution_count": 45,
   "metadata": {
    "ExecuteTime": {
     "end_time": "2017-10-19T23:57:09.232348Z",
     "start_time": "2017-10-19T23:56:46.313515Z"
    }
   },
   "outputs": [],
   "source": [
    "df['violations'] = df.apply(lambda x: violations(x,d),axis=1)"
   ]
  },
  {
   "cell_type": "code",
   "execution_count": 46,
   "metadata": {
    "ExecuteTime": {
     "end_time": "2017-10-19T23:57:09.258481Z",
     "start_time": "2017-10-19T23:57:09.233967Z"
    }
   },
   "outputs": [
    {
     "data": {
      "text/html": [
       "<div>\n",
       "<style>\n",
       "    .dataframe thead tr:only-child th {\n",
       "        text-align: right;\n",
       "    }\n",
       "\n",
       "    .dataframe thead th {\n",
       "        text-align: left;\n",
       "    }\n",
       "\n",
       "    .dataframe tbody tr th {\n",
       "        vertical-align: top;\n",
       "    }\n",
       "</style>\n",
       "<table border=\"1\" class=\"dataframe\">\n",
       "  <thead>\n",
       "    <tr style=\"text-align: right;\">\n",
       "      <th></th>\n",
       "      <th>camis</th>\n",
       "      <th>dba</th>\n",
       "      <th>boro</th>\n",
       "      <th>building</th>\n",
       "      <th>street</th>\n",
       "      <th>zipcode</th>\n",
       "      <th>phone</th>\n",
       "      <th>cuisine_description</th>\n",
       "      <th>inspection_date</th>\n",
       "      <th>action</th>\n",
       "      <th>violation_code</th>\n",
       "      <th>violation_description</th>\n",
       "      <th>critical_flag</th>\n",
       "      <th>score</th>\n",
       "      <th>grade</th>\n",
       "      <th>grade_date</th>\n",
       "      <th>record_date</th>\n",
       "      <th>inspection_type</th>\n",
       "      <th>violations</th>\n",
       "    </tr>\n",
       "  </thead>\n",
       "  <tbody>\n",
       "    <tr>\n",
       "      <th>0</th>\n",
       "      <td>40511702</td>\n",
       "      <td>NOTARO RESTAURANT</td>\n",
       "      <td>MANHATTAN</td>\n",
       "      <td>635</td>\n",
       "      <td>SECOND AVENUE</td>\n",
       "      <td>10016</td>\n",
       "      <td>2126863400</td>\n",
       "      <td>Italian</td>\n",
       "      <td>2015-06-15</td>\n",
       "      <td>Violations were cited in the following area(s).</td>\n",
       "      <td>02B</td>\n",
       "      <td>Hot food item not held at or above 140Âº F.</td>\n",
       "      <td>Critical</td>\n",
       "      <td>30.0</td>\n",
       "      <td>NaN</td>\n",
       "      <td>NaT</td>\n",
       "      <td>2017-08-28</td>\n",
       "      <td>Cycle Inspection / Initial Inspection</td>\n",
       "      <td>temperature</td>\n",
       "    </tr>\n",
       "    <tr>\n",
       "      <th>1</th>\n",
       "      <td>40511702</td>\n",
       "      <td>NOTARO RESTAURANT</td>\n",
       "      <td>MANHATTAN</td>\n",
       "      <td>635</td>\n",
       "      <td>SECOND AVENUE</td>\n",
       "      <td>10016</td>\n",
       "      <td>2126863400</td>\n",
       "      <td>Italian</td>\n",
       "      <td>2014-11-25</td>\n",
       "      <td>Violations were cited in the following area(s).</td>\n",
       "      <td>20F</td>\n",
       "      <td>Current letter grade card not posted.</td>\n",
       "      <td>Not Critical</td>\n",
       "      <td>NaN</td>\n",
       "      <td>NaN</td>\n",
       "      <td>NaT</td>\n",
       "      <td>2017-08-28</td>\n",
       "      <td>Administrative Miscellaneous / Initial Inspection</td>\n",
       "      <td>regulatory</td>\n",
       "    </tr>\n",
       "    <tr>\n",
       "      <th>2</th>\n",
       "      <td>50046354</td>\n",
       "      <td>VITE BAR</td>\n",
       "      <td>QUEENS</td>\n",
       "      <td>2507</td>\n",
       "      <td>BROADWAY</td>\n",
       "      <td>11106</td>\n",
       "      <td>3478134702</td>\n",
       "      <td>Italian</td>\n",
       "      <td>2016-10-03</td>\n",
       "      <td>Violations were cited in the following area(s).</td>\n",
       "      <td>10F</td>\n",
       "      <td>Non-food contact surface improperly constructe...</td>\n",
       "      <td>Not Critical</td>\n",
       "      <td>2.0</td>\n",
       "      <td>NaN</td>\n",
       "      <td>NaT</td>\n",
       "      <td>2017-08-28</td>\n",
       "      <td>Pre-permit (Operational) / Initial Inspection</td>\n",
       "      <td>facility</td>\n",
       "    </tr>\n",
       "    <tr>\n",
       "      <th>5</th>\n",
       "      <td>50015855</td>\n",
       "      <td>KABAB HOUSE NYC</td>\n",
       "      <td>QUEENS</td>\n",
       "      <td>4339</td>\n",
       "      <td>MAIN ST</td>\n",
       "      <td>11355</td>\n",
       "      <td>9172852796</td>\n",
       "      <td>Pakistani</td>\n",
       "      <td>2015-03-03</td>\n",
       "      <td>Violations were cited in the following area(s).</td>\n",
       "      <td>10F</td>\n",
       "      <td>Non-food contact surface improperly constructe...</td>\n",
       "      <td>Not Critical</td>\n",
       "      <td>19.0</td>\n",
       "      <td>NaN</td>\n",
       "      <td>NaT</td>\n",
       "      <td>2017-08-28</td>\n",
       "      <td>Pre-permit (Operational) / Compliance Inspection</td>\n",
       "      <td>facility</td>\n",
       "    </tr>\n",
       "    <tr>\n",
       "      <th>8</th>\n",
       "      <td>41547684</td>\n",
       "      <td>PLANET WINGS</td>\n",
       "      <td>STATEN ISLAND</td>\n",
       "      <td>480</td>\n",
       "      <td>FOREST AVENUE</td>\n",
       "      <td>10310</td>\n",
       "      <td>7187209464</td>\n",
       "      <td>American</td>\n",
       "      <td>2015-03-10</td>\n",
       "      <td>Violations were cited in the following area(s).</td>\n",
       "      <td>02G</td>\n",
       "      <td>Cold food item held above 41Âº F (smoked fish ...</td>\n",
       "      <td>Critical</td>\n",
       "      <td>28.0</td>\n",
       "      <td>NaN</td>\n",
       "      <td>NaT</td>\n",
       "      <td>2017-08-28</td>\n",
       "      <td>Cycle Inspection / Initial Inspection</td>\n",
       "      <td>temperature</td>\n",
       "    </tr>\n",
       "  </tbody>\n",
       "</table>\n",
       "</div>"
      ],
      "text/plain": [
       "      camis                dba           boro building         street zipcode  \\\n",
       "0  40511702  NOTARO RESTAURANT      MANHATTAN      635  SECOND AVENUE   10016   \n",
       "1  40511702  NOTARO RESTAURANT      MANHATTAN      635  SECOND AVENUE   10016   \n",
       "2  50046354           VITE BAR         QUEENS     2507       BROADWAY   11106   \n",
       "5  50015855    KABAB HOUSE NYC         QUEENS     4339        MAIN ST   11355   \n",
       "8  41547684       PLANET WINGS  STATEN ISLAND      480  FOREST AVENUE   10310   \n",
       "\n",
       "        phone cuisine_description inspection_date  \\\n",
       "0  2126863400             Italian      2015-06-15   \n",
       "1  2126863400             Italian      2014-11-25   \n",
       "2  3478134702             Italian      2016-10-03   \n",
       "5  9172852796           Pakistani      2015-03-03   \n",
       "8  7187209464            American      2015-03-10   \n",
       "\n",
       "                                            action violation_code  \\\n",
       "0  Violations were cited in the following area(s).            02B   \n",
       "1  Violations were cited in the following area(s).            20F   \n",
       "2  Violations were cited in the following area(s).            10F   \n",
       "5  Violations were cited in the following area(s).            10F   \n",
       "8  Violations were cited in the following area(s).            02G   \n",
       "\n",
       "                               violation_description critical_flag  score  \\\n",
       "0        Hot food item not held at or above 140Âº F.      Critical   30.0   \n",
       "1              Current letter grade card not posted.  Not Critical    NaN   \n",
       "2  Non-food contact surface improperly constructe...  Not Critical    2.0   \n",
       "5  Non-food contact surface improperly constructe...  Not Critical   19.0   \n",
       "8  Cold food item held above 41Âº F (smoked fish ...      Critical   28.0   \n",
       "\n",
       "  grade grade_date record_date  \\\n",
       "0   NaN        NaT  2017-08-28   \n",
       "1   NaN        NaT  2017-08-28   \n",
       "2   NaN        NaT  2017-08-28   \n",
       "5   NaN        NaT  2017-08-28   \n",
       "8   NaN        NaT  2017-08-28   \n",
       "\n",
       "                                     inspection_type   violations  \n",
       "0              Cycle Inspection / Initial Inspection  temperature  \n",
       "1  Administrative Miscellaneous / Initial Inspection   regulatory  \n",
       "2      Pre-permit (Operational) / Initial Inspection     facility  \n",
       "5   Pre-permit (Operational) / Compliance Inspection     facility  \n",
       "8              Cycle Inspection / Initial Inspection  temperature  "
      ]
     },
     "execution_count": 46,
     "metadata": {},
     "output_type": "execute_result"
    }
   ],
   "source": [
    "df.head()"
   ]
  },
  {
   "cell_type": "code",
   "execution_count": 47,
   "metadata": {
    "ExecuteTime": {
     "end_time": "2017-10-19T23:58:35.641635Z",
     "start_time": "2017-10-19T23:58:35.535989Z"
    },
    "collapsed": true
   },
   "outputs": [],
   "source": [
    "df.drop(['violation_code','violation_description','action'],axis=1,inplace=True)"
   ]
  },
  {
   "cell_type": "code",
   "execution_count": 48,
   "metadata": {
    "ExecuteTime": {
     "end_time": "2017-10-19T23:58:48.002510Z",
     "start_time": "2017-10-19T23:58:47.980970Z"
    }
   },
   "outputs": [
    {
     "data": {
      "text/plain": [
       "array(['Cycle Inspection / Initial Inspection',\n",
       "       'Administrative Miscellaneous / Initial Inspection',\n",
       "       'Pre-permit (Operational) / Initial Inspection',\n",
       "       'Pre-permit (Operational) / Compliance Inspection',\n",
       "       'Cycle Inspection / Re-inspection',\n",
       "       'Cycle Inspection / Compliance Inspection',\n",
       "       'Trans Fat / Initial Inspection',\n",
       "       'Administrative Miscellaneous / Reopening Inspection',\n",
       "       'Smoke-Free Air Act / Re-inspection',\n",
       "       'Administrative Miscellaneous / Re-inspection',\n",
       "       'Smoke-Free Air Act / Initial Inspection',\n",
       "       'Pre-permit (Operational) / Re-inspection',\n",
       "       'Cycle Inspection / Reopening Inspection',\n",
       "       'Pre-permit (Non-operational) / Re-inspection',\n",
       "       'Pre-permit (Non-operational) / Initial Inspection',\n",
       "       'Inter-Agency Task Force / Initial Inspection',\n",
       "       'Trans Fat / Re-inspection', 'Calorie Posting / Initial Inspection',\n",
       "       'Calorie Posting / Re-inspection',\n",
       "       'Administrative Miscellaneous / Compliance Inspection',\n",
       "       'Trans Fat / Compliance Inspection',\n",
       "       'Pre-permit (Operational) / Reopening Inspection',\n",
       "       'Trans Fat / Second Compliance Inspection',\n",
       "       'Smoke-Free Air Act / Compliance Inspection',\n",
       "       'Pre-permit (Operational) / Second Compliance Inspection',\n",
       "       'Cycle Inspection / Second Compliance Inspection',\n",
       "       'Administrative Miscellaneous / Second Compliance Inspection',\n",
       "       'Pre-permit (Non-operational) / Compliance Inspection',\n",
       "       'Calorie Posting / Compliance Inspection',\n",
       "       'Inter-Agency Task Force / Re-inspection',\n",
       "       'Smoke-Free Air Act / Second Compliance Inspection',\n",
       "       'Smoke-Free Air Act / Limited Inspection',\n",
       "       'Trans Fat / Limited Inspection'], dtype=object)"
      ]
     },
     "execution_count": 48,
     "metadata": {},
     "output_type": "execute_result"
    }
   ],
   "source": [
    "df.inspection_type.unique()"
   ]
  },
  {
   "cell_type": "code",
   "execution_count": 49,
   "metadata": {
    "ExecuteTime": {
     "end_time": "2017-10-19T23:59:24.029633Z",
     "start_time": "2017-10-19T23:59:24.012121Z"
    }
   },
   "outputs": [
    {
     "data": {
      "text/plain": [
       "array(['Italian', 'Pakistani', 'American', 'Japanese', 'Caribbean',\n",
       "       'Seafood', 'Chinese', 'Pizza', 'Indian', 'Soul Food',\n",
       "       'Bagels/Pretzels', 'Steak', 'Tapas', 'Chinese/Japanese',\n",
       "       'Vegetarian', 'Mexican', 'Turkish', 'Spanish', 'CafÃ©/Coffee/Tea',\n",
       "       'Greek', 'Hamburgers', 'Bakery',\n",
       "       'Latin (Cuban, Dominican, Puerto Rican, South & Central American)',\n",
       "       'Continental', 'Brazilian', 'Mediterranean', 'Thai', 'Donuts',\n",
       "       'Delicatessen', 'Jewish/Kosher', 'Sandwiches', 'Russian',\n",
       "       'Vietnamese/Cambodian/Malaysia', 'Sandwiches/Salads/Mixed Buffet',\n",
       "       'Tex-Mex',\n",
       "       'Bottled beverages, including water, sodas, juices, etc.', 'Irish',\n",
       "       'Korean', 'French', 'Ice Cream, Gelato, Yogurt, Ices',\n",
       "       'Middle Eastern', 'Asian', 'Juice, Smoothies, Fruit Salads',\n",
       "       'Pizza/Italian', 'Chicken', 'Australian', 'Bangladeshi', 'African',\n",
       "       'Peruvian', 'Creole', 'Hotdogs', 'Hotdogs/Pretzels', 'English',\n",
       "       'German', 'Hawaiian', 'Pancakes/Waffles', 'Scandinavian', 'Polish',\n",
       "       'Barbecue', 'Salads', 'Afghan', 'Eastern European', 'Cajun',\n",
       "       'Egyptian', 'Indonesian', 'Moroccan', 'Ethiopian',\n",
       "       'Soups & Sandwiches', 'Other', 'Fruits/Vegetables', 'Filipino',\n",
       "       'Southwestern', 'Nuts/Confectionary', 'Armenian', 'Soups',\n",
       "       'Chinese/Cuban', 'Not Listed/Not Applicable', 'Creole/Cajun',\n",
       "       'Portuguese', 'Chilean', 'Polynesian', 'Czech', 'Iranian',\n",
       "       'Californian'], dtype=object)"
      ]
     },
     "execution_count": 49,
     "metadata": {},
     "output_type": "execute_result"
    }
   ],
   "source": [
    "df.cuisine_description.unique()"
   ]
  },
  {
   "cell_type": "code",
   "execution_count": 94,
   "metadata": {
    "ExecuteTime": {
     "end_time": "2017-10-20T00:28:31.807211Z",
     "start_time": "2017-10-20T00:28:31.742356Z"
    }
   },
   "outputs": [],
   "source": [
    "gradeMask = (df['grade'] == 'A') | (df['grade'] == 'B') | (df['grade']== 'C')\n",
    "gradeDF = df[gradeMask]"
   ]
  },
  {
   "cell_type": "code",
   "execution_count": 65,
   "metadata": {
    "ExecuteTime": {
     "end_time": "2017-10-20T00:07:50.965359Z",
     "start_time": "2017-10-20T00:07:50.961247Z"
    }
   },
   "outputs": [
    {
     "data": {
      "text/plain": [
       "(150893, 16)"
      ]
     },
     "execution_count": 65,
     "metadata": {},
     "output_type": "execute_result"
    }
   ],
   "source": [
    "gradeDF.shape"
   ]
  },
  {
   "cell_type": "code",
   "execution_count": 73,
   "metadata": {
    "ExecuteTime": {
     "end_time": "2017-10-20T00:13:11.352942Z",
     "start_time": "2017-10-20T00:13:11.235799Z"
    }
   },
   "outputs": [
    {
     "data": {
      "text/plain": [
       "<matplotlib.text.Text at 0x1a18f80c18>"
      ]
     },
     "execution_count": 73,
     "metadata": {},
     "output_type": "execute_result"
    },
    {
     "data": {
      "image/png": "[encoded data removed]",
      "text/plain": [
       "<matplotlib.figure.Figure at 0x1a18f91400>"
      ]
     },
     "metadata": {},
     "output_type": "display_data"
    }
   ],
   "source": [
    "gradeGroup = gradeDF.groupby('grade').grade.count()\n",
    "gradeGroup.plot(kind='bar')\n",
    "plt.ylabel(\"Count\")\n",
    "plt.xlabel(\"Health Grade\")"
   ]
  },
  {
   "cell_type": "code",
   "execution_count": 90,
   "metadata": {
    "ExecuteTime": {
     "end_time": "2017-10-20T00:24:28.499820Z",
     "start_time": "2017-10-20T00:24:28.349853Z"
    }
   },
   "outputs": [
    {
     "data": {
      "text/plain": [
       "<matplotlib.axes._subplots.AxesSubplot at 0x1a1904ea58>"
      ]
     },
     "execution_count": 90,
     "metadata": {},
     "output_type": "execute_result"
    },
    {
     "data": {
      "image/png": "[encoded data removed]",
      "text/plain": [
       "<matplotlib.figure.Figure at 0x1a18fc7898>"
      ]
     },
     "metadata": {},
     "output_type": "display_data"
    }
   ],
   "source": [
    "violationGroup = gradeDF.groupby('violations').violations.count()\n",
    "violationGroup.plot(kind='barh')"
   ]
  },
  {
   "cell_type": "code",
   "execution_count": 93,
   "metadata": {
    "ExecuteTime": {
     "end_time": "2017-10-20T00:28:26.887128Z",
     "start_time": "2017-10-20T00:28:26.882390Z"
    }
   },
   "outputs": [
    {
     "data": {
      "text/plain": [
       "(309411, 16)"
      ]
     },
     "execution_count": 93,
     "metadata": {},
     "output_type": "execute_result"
    }
   ],
   "source": [
    "gradeDF.shape"
   ]
  },
  {
   "cell_type": "code",
   "execution_count": 66,
   "metadata": {
    "ExecuteTime": {
     "end_time": "2017-10-20T00:08:06.162578Z",
     "start_time": "2017-10-20T00:08:06.157869Z"
    }
   },
   "outputs": [
    {
     "data": {
      "text/plain": [
       "grade\n",
       "A                 120770\n",
       "B                  24079\n",
       "C                   6044\n",
       "Not Yet Graded       100\n",
       "P                    963\n",
       "Z                     70\n",
       "Name: grade, dtype: int64"
      ]
     },
     "execution_count": 66,
     "metadata": {},
     "output_type": "execute_result"
    }
   ],
   "source": [
    "gradeGroup"
   ]
  },
  {
   "cell_type": "code",
   "execution_count": 96,
   "metadata": {
    "ExecuteTime": {
     "end_time": "2017-10-20T00:28:43.534888Z",
     "start_time": "2017-10-20T00:28:43.531224Z"
    }
   },
   "outputs": [],
   "source": [
    "df = gradeDF"
   ]
  },
  {
   "cell_type": "code",
   "execution_count": 97,
   "metadata": {
    "ExecuteTime": {
     "end_time": "2017-10-20T00:29:30.227534Z",
     "start_time": "2017-10-20T00:29:30.126271Z"
    },
    "collapsed": true
   },
   "outputs": [],
   "source": [
    "df['inspection_year'] = df.inspection_date.dt.year "
   ]
  },
  {
   "cell_type": "code",
   "execution_count": 104,
   "metadata": {
    "ExecuteTime": {
     "end_time": "2017-10-20T00:37:20.635450Z",
     "start_time": "2017-10-20T00:37:20.473179Z"
    }
   },
   "outputs": [
    {
     "data": {
      "text/plain": [
       "([<matplotlib.axis.XTick at 0x1a18751b00>,\n",
       "  <matplotlib.axis.XTick at 0x1a1862c438>,\n",
       "  <matplotlib.axis.XTick at 0x1a185fdda0>],\n",
       " <a list of 3 Text xticklabel objects>)"
      ]
     },
     "execution_count": 104,
     "metadata": {},
     "output_type": "execute_result"
    },
    {
     "data": {
      "image/png": "[encoded data removed]",
      "text/plain": [
       "<matplotlib.figure.Figure at 0x1a190fff28>"
      ]
     },
     "metadata": {},
     "output_type": "display_data"
    }
   ],
   "source": [
    "gradeYearGroup = df.groupby(['inspection_year','grade']).camis.count().reset_index()\n",
    "year_ticks = ('2014','2015','2016')\n",
    "#entry_ticks = (200,300,400)\n",
    "plot_out = gradeYearGroup.pivot('inspection_year','grade','camis').plot(kind='line',figsize=(12,6))\n",
    "plt.xticks(range(2014,2017),year_ticks)\n",
    "#plt.ylabel(\"ENTRIES\")"
   ]
  },
  {
   "cell_type": "markdown",
   "metadata": {},
   "source": [
    "### Prepare to match with Yelp"
   ]
  },
  {
   "cell_type": "code",
   "execution_count": 105,
   "metadata": {
    "ExecuteTime": {
     "end_time": "2017-10-20T00:37:39.819185Z",
     "start_time": "2017-10-20T00:37:39.652364Z"
    },
    "collapsed": true
   },
   "outputs": [],
   "source": [
    "df['address'] = df.building + ' ' + df.street + ' ' + df.boro + ' ' + df.zipcode"
   ]
  },
  {
   "cell_type": "code",
   "execution_count": 106,
   "metadata": {
    "ExecuteTime": {
     "end_time": "2017-10-20T00:37:40.557041Z",
     "start_time": "2017-10-20T00:37:40.551260Z"
    }
   },
   "outputs": [
    {
     "data": {
      "text/plain": [
       "['camis',\n",
       " 'dba',\n",
       " 'boro',\n",
       " 'building',\n",
       " 'street',\n",
       " 'zipcode',\n",
       " 'phone',\n",
       " 'cuisine_description',\n",
       " 'inspection_date',\n",
       " 'critical_flag',\n",
       " 'score',\n",
       " 'grade',\n",
       " 'grade_date',\n",
       " 'record_date',\n",
       " 'inspection_type',\n",
       " 'violations',\n",
       " 'inspection_year',\n",
       " 'address']"
      ]
     },
     "execution_count": 106,
     "metadata": {},
     "output_type": "execute_result"
    }
   ],
   "source": [
    "df.columns.tolist()"
   ]
  },
  {
   "cell_type": "code",
   "execution_count": 107,
   "metadata": {
    "ExecuteTime": {
     "end_time": "2017-10-20T00:38:26.907198Z",
     "start_time": "2017-10-20T00:38:26.808289Z"
    },
    "collapsed": true
   },
   "outputs": [],
   "source": [
    "df.dropna(subset=['dba','zipcode'],inplace=True,axis=0)"
   ]
  },
  {
   "cell_type": "code",
   "execution_count": 108,
   "metadata": {
    "ExecuteTime": {
     "end_time": "2017-10-20T00:38:27.956334Z",
     "start_time": "2017-10-20T00:38:27.938985Z"
    }
   },
   "outputs": [
    {
     "data": {
      "text/html": [
       "<div>\n",
       "<style>\n",
       "    .dataframe thead tr:only-child th {\n",
       "        text-align: right;\n",
       "    }\n",
       "\n",
       "    .dataframe thead th {\n",
       "        text-align: left;\n",
       "    }\n",
       "\n",
       "    .dataframe tbody tr th {\n",
       "        vertical-align: top;\n",
       "    }\n",
       "</style>\n",
       "<table border=\"1\" class=\"dataframe\">\n",
       "  <thead>\n",
       "    <tr style=\"text-align: right;\">\n",
       "      <th></th>\n",
       "      <th>camis</th>\n",
       "      <th>dba</th>\n",
       "      <th>boro</th>\n",
       "      <th>building</th>\n",
       "      <th>street</th>\n",
       "      <th>zipcode</th>\n",
       "      <th>phone</th>\n",
       "      <th>cuisine_description</th>\n",
       "      <th>inspection_date</th>\n",
       "      <th>critical_flag</th>\n",
       "      <th>score</th>\n",
       "      <th>grade</th>\n",
       "      <th>grade_date</th>\n",
       "      <th>record_date</th>\n",
       "      <th>inspection_type</th>\n",
       "      <th>violations</th>\n",
       "      <th>inspection_year</th>\n",
       "      <th>address</th>\n",
       "    </tr>\n",
       "  </thead>\n",
       "  <tbody>\n",
       "    <tr>\n",
       "      <th>9</th>\n",
       "      <td>40376944</td>\n",
       "      <td>TOMOE SUSHI</td>\n",
       "      <td>MANHATTAN</td>\n",
       "      <td>172</td>\n",
       "      <td>THOMPSON STREET</td>\n",
       "      <td>10012</td>\n",
       "      <td>2127779346</td>\n",
       "      <td>Japanese</td>\n",
       "      <td>2015-10-06</td>\n",
       "      <td>Critical</td>\n",
       "      <td>13.0</td>\n",
       "      <td>A</td>\n",
       "      <td>2015-10-06</td>\n",
       "      <td>2017-08-28</td>\n",
       "      <td>Cycle Inspection / Re-inspection</td>\n",
       "      <td>temperature</td>\n",
       "      <td>2015</td>\n",
       "      <td>172 THOMPSON STREET MANHATTAN 10012</td>\n",
       "    </tr>\n",
       "    <tr>\n",
       "      <th>12</th>\n",
       "      <td>41701178</td>\n",
       "      <td>CRAB SPOT RESTAURANT</td>\n",
       "      <td>BROOKLYN</td>\n",
       "      <td>833</td>\n",
       "      <td>UNION STREET</td>\n",
       "      <td>11215</td>\n",
       "      <td>7186222722</td>\n",
       "      <td>Seafood</td>\n",
       "      <td>2016-07-28</td>\n",
       "      <td>Not Critical</td>\n",
       "      <td>12.0</td>\n",
       "      <td>A</td>\n",
       "      <td>2016-07-28</td>\n",
       "      <td>2017-08-28</td>\n",
       "      <td>Cycle Inspection / Initial Inspection</td>\n",
       "      <td>food_handling</td>\n",
       "      <td>2016</td>\n",
       "      <td>833 UNION STREET BROOKLYN 11215</td>\n",
       "    </tr>\n",
       "    <tr>\n",
       "      <th>16</th>\n",
       "      <td>41552184</td>\n",
       "      <td>NOM WAH TEA/DIM SUM PALOR</td>\n",
       "      <td>MANHATTAN</td>\n",
       "      <td>13</td>\n",
       "      <td>DOYERS STREET</td>\n",
       "      <td>10013</td>\n",
       "      <td>2129626047</td>\n",
       "      <td>Chinese</td>\n",
       "      <td>2014-09-02</td>\n",
       "      <td>Critical</td>\n",
       "      <td>18.0</td>\n",
       "      <td>B</td>\n",
       "      <td>2014-09-02</td>\n",
       "      <td>2017-08-28</td>\n",
       "      <td>Cycle Inspection / Re-inspection</td>\n",
       "      <td>temperature</td>\n",
       "      <td>2014</td>\n",
       "      <td>13 DOYERS STREET MANHATTAN 10013</td>\n",
       "    </tr>\n",
       "    <tr>\n",
       "      <th>17</th>\n",
       "      <td>41696159</td>\n",
       "      <td>LUIGI'S PIZZA &amp; PASTA</td>\n",
       "      <td>BRONX</td>\n",
       "      <td>119</td>\n",
       "      <td>EAST MOUNT EDEN AVENUE</td>\n",
       "      <td>10452</td>\n",
       "      <td>7182941800</td>\n",
       "      <td>Pizza</td>\n",
       "      <td>2014-10-27</td>\n",
       "      <td>Not Critical</td>\n",
       "      <td>13.0</td>\n",
       "      <td>A</td>\n",
       "      <td>2014-10-27</td>\n",
       "      <td>2017-08-28</td>\n",
       "      <td>Cycle Inspection / Re-inspection</td>\n",
       "      <td>facility</td>\n",
       "      <td>2014</td>\n",
       "      <td>119 EAST MOUNT EDEN AVENUE BRONX 10452</td>\n",
       "    </tr>\n",
       "    <tr>\n",
       "      <th>22</th>\n",
       "      <td>41611667</td>\n",
       "      <td>SERVICE BAR 7</td>\n",
       "      <td>QUEENS</td>\n",
       "      <td>11000</td>\n",
       "      <td>ROCKAWAY BOULEVARD</td>\n",
       "      <td>11420</td>\n",
       "      <td>6465881074</td>\n",
       "      <td>American</td>\n",
       "      <td>2016-04-07</td>\n",
       "      <td>Not Critical</td>\n",
       "      <td>7.0</td>\n",
       "      <td>A</td>\n",
       "      <td>2016-04-07</td>\n",
       "      <td>2017-08-28</td>\n",
       "      <td>Cycle Inspection / Initial Inspection</td>\n",
       "      <td>facility</td>\n",
       "      <td>2016</td>\n",
       "      <td>11000 ROCKAWAY BOULEVARD QUEENS 11420</td>\n",
       "    </tr>\n",
       "  </tbody>\n",
       "</table>\n",
       "</div>"
      ],
      "text/plain": [
       "       camis                        dba       boro building  \\\n",
       "9   40376944                TOMOE SUSHI  MANHATTAN      172   \n",
       "12  41701178       CRAB SPOT RESTAURANT   BROOKLYN      833   \n",
       "16  41552184  NOM WAH TEA/DIM SUM PALOR  MANHATTAN       13   \n",
       "17  41696159      LUIGI'S PIZZA & PASTA      BRONX      119   \n",
       "22  41611667              SERVICE BAR 7     QUEENS    11000   \n",
       "\n",
       "                    street zipcode       phone cuisine_description  \\\n",
       "9          THOMPSON STREET   10012  2127779346            Japanese   \n",
       "12            UNION STREET   11215  7186222722             Seafood   \n",
       "16           DOYERS STREET   10013  2129626047             Chinese   \n",
       "17  EAST MOUNT EDEN AVENUE   10452  7182941800               Pizza   \n",
       "22      ROCKAWAY BOULEVARD   11420  6465881074            American   \n",
       "\n",
       "   inspection_date critical_flag  score grade grade_date record_date  \\\n",
       "9       2015-10-06      Critical   13.0     A 2015-10-06  2017-08-28   \n",
       "12      2016-07-28  Not Critical   12.0     A 2016-07-28  2017-08-28   \n",
       "16      2014-09-02      Critical   18.0     B 2014-09-02  2017-08-28   \n",
       "17      2014-10-27  Not Critical   13.0     A 2014-10-27  2017-08-28   \n",
       "22      2016-04-07  Not Critical    7.0     A 2016-04-07  2017-08-28   \n",
       "\n",
       "                          inspection_type     violations  inspection_year  \\\n",
       "9        Cycle Inspection / Re-inspection    temperature             2015   \n",
       "12  Cycle Inspection / Initial Inspection  food_handling             2016   \n",
       "16       Cycle Inspection / Re-inspection    temperature             2014   \n",
       "17       Cycle Inspection / Re-inspection       facility             2014   \n",
       "22  Cycle Inspection / Initial Inspection       facility             2016   \n",
       "\n",
       "                                   address  \n",
       "9      172 THOMPSON STREET MANHATTAN 10012  \n",
       "12         833 UNION STREET BROOKLYN 11215  \n",
       "16        13 DOYERS STREET MANHATTAN 10013  \n",
       "17  119 EAST MOUNT EDEN AVENUE BRONX 10452  \n",
       "22   11000 ROCKAWAY BOULEVARD QUEENS 11420  "
      ]
     },
     "execution_count": 108,
     "metadata": {},
     "output_type": "execute_result"
    }
   ],
   "source": [
    "df.head()"
   ]
  },
  {
   "cell_type": "code",
   "execution_count": 109,
   "metadata": {
    "ExecuteTime": {
     "end_time": "2017-10-20T00:38:32.142450Z",
     "start_time": "2017-10-20T00:38:32.139046Z"
    },
    "collapsed": true
   },
   "outputs": [],
   "source": [
    "uniqueDF = df"
   ]
  },
  {
   "cell_type": "code",
   "execution_count": 110,
   "metadata": {
    "ExecuteTime": {
     "end_time": "2017-10-20T00:38:32.665579Z",
     "start_time": "2017-10-20T00:38:32.568705Z"
    }
   },
   "outputs": [
    {
     "name": "stdout",
     "output_type": "stream",
     "text": [
      "<class 'pandas.core.frame.DataFrame'>\n",
      "Int64Index: 150893 entries, 9 to 399917\n",
      "Data columns (total 18 columns):\n",
      "camis                  150893 non-null int64\n",
      "dba                    150893 non-null object\n",
      "boro                   150893 non-null object\n",
      "building               150850 non-null object\n",
      "street                 150893 non-null object\n",
      "zipcode                150893 non-null object\n",
      "phone                  150893 non-null object\n",
      "cuisine_description    150893 non-null object\n",
      "inspection_date        150893 non-null datetime64[ns]\n",
      "critical_flag          150893 non-null object\n",
      "score                  150891 non-null float64\n",
      "grade                  150893 non-null object\n",
      "grade_date             150893 non-null datetime64[ns]\n",
      "record_date            150893 non-null datetime64[ns]\n",
      "inspection_type        150893 non-null object\n",
      "violations             146126 non-null object\n",
      "inspection_year        150893 non-null int64\n",
      "address                150850 non-null object\n",
      "dtypes: datetime64[ns](3), float64(1), int64(2), object(12)\n",
      "memory usage: 21.9+ MB\n"
     ]
    }
   ],
   "source": [
    "uniqueDF.info()"
   ]
  },
  {
   "cell_type": "code",
   "execution_count": 111,
   "metadata": {
    "ExecuteTime": {
     "end_time": "2017-10-20T00:38:35.535906Z",
     "start_time": "2017-10-20T00:38:35.526389Z"
    }
   },
   "outputs": [
    {
     "data": {
      "text/plain": [
       "0"
      ]
     },
     "execution_count": 111,
     "metadata": {},
     "output_type": "execute_result"
    }
   ],
   "source": [
    "uniqueDF.grade.isnull().sum()"
   ]
  },
  {
   "cell_type": "code",
   "execution_count": 112,
   "metadata": {
    "ExecuteTime": {
     "end_time": "2017-10-20T00:38:37.361299Z",
     "start_time": "2017-10-20T00:38:37.343717Z"
    }
   },
   "outputs": [
    {
     "data": {
      "text/html": [
       "<div>\n",
       "<style>\n",
       "    .dataframe thead tr:only-child th {\n",
       "        text-align: right;\n",
       "    }\n",
       "\n",
       "    .dataframe thead th {\n",
       "        text-align: left;\n",
       "    }\n",
       "\n",
       "    .dataframe tbody tr th {\n",
       "        vertical-align: top;\n",
       "    }\n",
       "</style>\n",
       "<table border=\"1\" class=\"dataframe\">\n",
       "  <thead>\n",
       "    <tr style=\"text-align: right;\">\n",
       "      <th></th>\n",
       "      <th>camis</th>\n",
       "      <th>dba</th>\n",
       "      <th>boro</th>\n",
       "      <th>building</th>\n",
       "      <th>street</th>\n",
       "      <th>zipcode</th>\n",
       "      <th>phone</th>\n",
       "      <th>cuisine_description</th>\n",
       "      <th>inspection_date</th>\n",
       "      <th>critical_flag</th>\n",
       "      <th>score</th>\n",
       "      <th>grade</th>\n",
       "      <th>grade_date</th>\n",
       "      <th>record_date</th>\n",
       "      <th>inspection_type</th>\n",
       "      <th>violations</th>\n",
       "      <th>inspection_year</th>\n",
       "      <th>address</th>\n",
       "    </tr>\n",
       "  </thead>\n",
       "  <tbody>\n",
       "    <tr>\n",
       "      <th>9</th>\n",
       "      <td>40376944</td>\n",
       "      <td>TOMOE SUSHI</td>\n",
       "      <td>MANHATTAN</td>\n",
       "      <td>172</td>\n",
       "      <td>THOMPSON STREET</td>\n",
       "      <td>10012</td>\n",
       "      <td>2127779346</td>\n",
       "      <td>Japanese</td>\n",
       "      <td>2015-10-06</td>\n",
       "      <td>Critical</td>\n",
       "      <td>13.0</td>\n",
       "      <td>A</td>\n",
       "      <td>2015-10-06</td>\n",
       "      <td>2017-08-28</td>\n",
       "      <td>Cycle Inspection / Re-inspection</td>\n",
       "      <td>temperature</td>\n",
       "      <td>2015</td>\n",
       "      <td>172 THOMPSON STREET MANHATTAN 10012</td>\n",
       "    </tr>\n",
       "    <tr>\n",
       "      <th>12</th>\n",
       "      <td>41701178</td>\n",
       "      <td>CRAB SPOT RESTAURANT</td>\n",
       "      <td>BROOKLYN</td>\n",
       "      <td>833</td>\n",
       "      <td>UNION STREET</td>\n",
       "      <td>11215</td>\n",
       "      <td>7186222722</td>\n",
       "      <td>Seafood</td>\n",
       "      <td>2016-07-28</td>\n",
       "      <td>Not Critical</td>\n",
       "      <td>12.0</td>\n",
       "      <td>A</td>\n",
       "      <td>2016-07-28</td>\n",
       "      <td>2017-08-28</td>\n",
       "      <td>Cycle Inspection / Initial Inspection</td>\n",
       "      <td>food_handling</td>\n",
       "      <td>2016</td>\n",
       "      <td>833 UNION STREET BROOKLYN 11215</td>\n",
       "    </tr>\n",
       "    <tr>\n",
       "      <th>16</th>\n",
       "      <td>41552184</td>\n",
       "      <td>NOM WAH TEA/DIM SUM PALOR</td>\n",
       "      <td>MANHATTAN</td>\n",
       "      <td>13</td>\n",
       "      <td>DOYERS STREET</td>\n",
       "      <td>10013</td>\n",
       "      <td>2129626047</td>\n",
       "      <td>Chinese</td>\n",
       "      <td>2014-09-02</td>\n",
       "      <td>Critical</td>\n",
       "      <td>18.0</td>\n",
       "      <td>B</td>\n",
       "      <td>2014-09-02</td>\n",
       "      <td>2017-08-28</td>\n",
       "      <td>Cycle Inspection / Re-inspection</td>\n",
       "      <td>temperature</td>\n",
       "      <td>2014</td>\n",
       "      <td>13 DOYERS STREET MANHATTAN 10013</td>\n",
       "    </tr>\n",
       "    <tr>\n",
       "      <th>17</th>\n",
       "      <td>41696159</td>\n",
       "      <td>LUIGI'S PIZZA &amp; PASTA</td>\n",
       "      <td>BRONX</td>\n",
       "      <td>119</td>\n",
       "      <td>EAST MOUNT EDEN AVENUE</td>\n",
       "      <td>10452</td>\n",
       "      <td>7182941800</td>\n",
       "      <td>Pizza</td>\n",
       "      <td>2014-10-27</td>\n",
       "      <td>Not Critical</td>\n",
       "      <td>13.0</td>\n",
       "      <td>A</td>\n",
       "      <td>2014-10-27</td>\n",
       "      <td>2017-08-28</td>\n",
       "      <td>Cycle Inspection / Re-inspection</td>\n",
       "      <td>facility</td>\n",
       "      <td>2014</td>\n",
       "      <td>119 EAST MOUNT EDEN AVENUE BRONX 10452</td>\n",
       "    </tr>\n",
       "    <tr>\n",
       "      <th>22</th>\n",
       "      <td>41611667</td>\n",
       "      <td>SERVICE BAR 7</td>\n",
       "      <td>QUEENS</td>\n",
       "      <td>11000</td>\n",
       "      <td>ROCKAWAY BOULEVARD</td>\n",
       "      <td>11420</td>\n",
       "      <td>6465881074</td>\n",
       "      <td>American</td>\n",
       "      <td>2016-04-07</td>\n",
       "      <td>Not Critical</td>\n",
       "      <td>7.0</td>\n",
       "      <td>A</td>\n",
       "      <td>2016-04-07</td>\n",
       "      <td>2017-08-28</td>\n",
       "      <td>Cycle Inspection / Initial Inspection</td>\n",
       "      <td>facility</td>\n",
       "      <td>2016</td>\n",
       "      <td>11000 ROCKAWAY BOULEVARD QUEENS 11420</td>\n",
       "    </tr>\n",
       "  </tbody>\n",
       "</table>\n",
       "</div>"
      ],
      "text/plain": [
       "       camis                        dba       boro building  \\\n",
       "9   40376944                TOMOE SUSHI  MANHATTAN      172   \n",
       "12  41701178       CRAB SPOT RESTAURANT   BROOKLYN      833   \n",
       "16  41552184  NOM WAH TEA/DIM SUM PALOR  MANHATTAN       13   \n",
       "17  41696159      LUIGI'S PIZZA & PASTA      BRONX      119   \n",
       "22  41611667              SERVICE BAR 7     QUEENS    11000   \n",
       "\n",
       "                    street zipcode       phone cuisine_description  \\\n",
       "9          THOMPSON STREET   10012  2127779346            Japanese   \n",
       "12            UNION STREET   11215  7186222722             Seafood   \n",
       "16           DOYERS STREET   10013  2129626047             Chinese   \n",
       "17  EAST MOUNT EDEN AVENUE   10452  7182941800               Pizza   \n",
       "22      ROCKAWAY BOULEVARD   11420  6465881074            American   \n",
       "\n",
       "   inspection_date critical_flag  score grade grade_date record_date  \\\n",
       "9       2015-10-06      Critical   13.0     A 2015-10-06  2017-08-28   \n",
       "12      2016-07-28  Not Critical   12.0     A 2016-07-28  2017-08-28   \n",
       "16      2014-09-02      Critical   18.0     B 2014-09-02  2017-08-28   \n",
       "17      2014-10-27  Not Critical   13.0     A 2014-10-27  2017-08-28   \n",
       "22      2016-04-07  Not Critical    7.0     A 2016-04-07  2017-08-28   \n",
       "\n",
       "                          inspection_type     violations  inspection_year  \\\n",
       "9        Cycle Inspection / Re-inspection    temperature             2015   \n",
       "12  Cycle Inspection / Initial Inspection  food_handling             2016   \n",
       "16       Cycle Inspection / Re-inspection    temperature             2014   \n",
       "17       Cycle Inspection / Re-inspection       facility             2014   \n",
       "22  Cycle Inspection / Initial Inspection       facility             2016   \n",
       "\n",
       "                                   address  \n",
       "9      172 THOMPSON STREET MANHATTAN 10012  \n",
       "12         833 UNION STREET BROOKLYN 11215  \n",
       "16        13 DOYERS STREET MANHATTAN 10013  \n",
       "17  119 EAST MOUNT EDEN AVENUE BRONX 10452  \n",
       "22   11000 ROCKAWAY BOULEVARD QUEENS 11420  "
      ]
     },
     "execution_count": 112,
     "metadata": {},
     "output_type": "execute_result"
    }
   ],
   "source": [
    "uniqueDF.head()"
   ]
  },
  {
   "cell_type": "code",
   "execution_count": 113,
   "metadata": {
    "ExecuteTime": {
     "end_time": "2017-10-20T00:38:39.882336Z",
     "start_time": "2017-10-20T00:38:39.876523Z"
    }
   },
   "outputs": [
    {
     "data": {
      "text/plain": [
       "(150893, 18)"
      ]
     },
     "execution_count": 113,
     "metadata": {},
     "output_type": "execute_result"
    }
   ],
   "source": [
    "uniqueDF.shape"
   ]
  },
  {
   "cell_type": "code",
   "execution_count": 114,
   "metadata": {
    "ExecuteTime": {
     "end_time": "2017-10-20T00:38:45.732040Z",
     "start_time": "2017-10-20T00:38:45.727898Z"
    },
    "collapsed": true
   },
   "outputs": [],
   "source": [
    "dupes = ['dba','address']"
   ]
  },
  {
   "cell_type": "code",
   "execution_count": 115,
   "metadata": {
    "ExecuteTime": {
     "end_time": "2017-10-20T00:38:50.928118Z",
     "start_time": "2017-10-20T00:38:50.856144Z"
    },
    "collapsed": true
   },
   "outputs": [],
   "source": [
    "df2 = uniqueDF.drop_duplicates(subset=dupes,keep='first')"
   ]
  },
  {
   "cell_type": "code",
   "execution_count": 116,
   "metadata": {
    "ExecuteTime": {
     "end_time": "2017-10-20T00:38:51.522073Z",
     "start_time": "2017-10-20T00:38:51.517410Z"
    }
   },
   "outputs": [
    {
     "data": {
      "text/plain": [
       "(22325, 18)"
      ]
     },
     "execution_count": 116,
     "metadata": {},
     "output_type": "execute_result"
    }
   ],
   "source": [
    "df2.shape"
   ]
  },
  {
   "cell_type": "code",
   "execution_count": 117,
   "metadata": {
    "ExecuteTime": {
     "end_time": "2017-10-20T00:39:09.087336Z",
     "start_time": "2017-10-20T00:39:09.068050Z"
    }
   },
   "outputs": [
    {
     "data": {
      "text/html": [
       "<div>\n",
       "<style>\n",
       "    .dataframe thead tr:only-child th {\n",
       "        text-align: right;\n",
       "    }\n",
       "\n",
       "    .dataframe thead th {\n",
       "        text-align: left;\n",
       "    }\n",
       "\n",
       "    .dataframe tbody tr th {\n",
       "        vertical-align: top;\n",
       "    }\n",
       "</style>\n",
       "<table border=\"1\" class=\"dataframe\">\n",
       "  <thead>\n",
       "    <tr style=\"text-align: right;\">\n",
       "      <th></th>\n",
       "      <th>camis</th>\n",
       "      <th>dba</th>\n",
       "      <th>boro</th>\n",
       "      <th>building</th>\n",
       "      <th>street</th>\n",
       "      <th>zipcode</th>\n",
       "      <th>phone</th>\n",
       "      <th>cuisine_description</th>\n",
       "      <th>inspection_date</th>\n",
       "      <th>critical_flag</th>\n",
       "      <th>score</th>\n",
       "      <th>grade</th>\n",
       "      <th>grade_date</th>\n",
       "      <th>record_date</th>\n",
       "      <th>inspection_type</th>\n",
       "      <th>violations</th>\n",
       "      <th>inspection_year</th>\n",
       "      <th>address</th>\n",
       "    </tr>\n",
       "  </thead>\n",
       "  <tbody>\n",
       "    <tr>\n",
       "      <th>9</th>\n",
       "      <td>40376944</td>\n",
       "      <td>TOMOE SUSHI</td>\n",
       "      <td>MANHATTAN</td>\n",
       "      <td>172</td>\n",
       "      <td>THOMPSON STREET</td>\n",
       "      <td>10012</td>\n",
       "      <td>2127779346</td>\n",
       "      <td>Japanese</td>\n",
       "      <td>2015-10-06</td>\n",
       "      <td>Critical</td>\n",
       "      <td>13.0</td>\n",
       "      <td>A</td>\n",
       "      <td>2015-10-06</td>\n",
       "      <td>2017-08-28</td>\n",
       "      <td>Cycle Inspection / Re-inspection</td>\n",
       "      <td>temperature</td>\n",
       "      <td>2015</td>\n",
       "      <td>172 THOMPSON STREET MANHATTAN 10012</td>\n",
       "    </tr>\n",
       "    <tr>\n",
       "      <th>12</th>\n",
       "      <td>41701178</td>\n",
       "      <td>CRAB SPOT RESTAURANT</td>\n",
       "      <td>BROOKLYN</td>\n",
       "      <td>833</td>\n",
       "      <td>UNION STREET</td>\n",
       "      <td>11215</td>\n",
       "      <td>7186222722</td>\n",
       "      <td>Seafood</td>\n",
       "      <td>2016-07-28</td>\n",
       "      <td>Not Critical</td>\n",
       "      <td>12.0</td>\n",
       "      <td>A</td>\n",
       "      <td>2016-07-28</td>\n",
       "      <td>2017-08-28</td>\n",
       "      <td>Cycle Inspection / Initial Inspection</td>\n",
       "      <td>food_handling</td>\n",
       "      <td>2016</td>\n",
       "      <td>833 UNION STREET BROOKLYN 11215</td>\n",
       "    </tr>\n",
       "    <tr>\n",
       "      <th>16</th>\n",
       "      <td>41552184</td>\n",
       "      <td>NOM WAH TEA/DIM SUM PALOR</td>\n",
       "      <td>MANHATTAN</td>\n",
       "      <td>13</td>\n",
       "      <td>DOYERS STREET</td>\n",
       "      <td>10013</td>\n",
       "      <td>2129626047</td>\n",
       "      <td>Chinese</td>\n",
       "      <td>2014-09-02</td>\n",
       "      <td>Critical</td>\n",
       "      <td>18.0</td>\n",
       "      <td>B</td>\n",
       "      <td>2014-09-02</td>\n",
       "      <td>2017-08-28</td>\n",
       "      <td>Cycle Inspection / Re-inspection</td>\n",
       "      <td>temperature</td>\n",
       "      <td>2014</td>\n",
       "      <td>13 DOYERS STREET MANHATTAN 10013</td>\n",
       "    </tr>\n",
       "    <tr>\n",
       "      <th>17</th>\n",
       "      <td>41696159</td>\n",
       "      <td>LUIGI'S PIZZA &amp; PASTA</td>\n",
       "      <td>BRONX</td>\n",
       "      <td>119</td>\n",
       "      <td>EAST MOUNT EDEN AVENUE</td>\n",
       "      <td>10452</td>\n",
       "      <td>7182941800</td>\n",
       "      <td>Pizza</td>\n",
       "      <td>2014-10-27</td>\n",
       "      <td>Not Critical</td>\n",
       "      <td>13.0</td>\n",
       "      <td>A</td>\n",
       "      <td>2014-10-27</td>\n",
       "      <td>2017-08-28</td>\n",
       "      <td>Cycle Inspection / Re-inspection</td>\n",
       "      <td>facility</td>\n",
       "      <td>2014</td>\n",
       "      <td>119 EAST MOUNT EDEN AVENUE BRONX 10452</td>\n",
       "    </tr>\n",
       "    <tr>\n",
       "      <th>22</th>\n",
       "      <td>41611667</td>\n",
       "      <td>SERVICE BAR 7</td>\n",
       "      <td>QUEENS</td>\n",
       "      <td>11000</td>\n",
       "      <td>ROCKAWAY BOULEVARD</td>\n",
       "      <td>11420</td>\n",
       "      <td>6465881074</td>\n",
       "      <td>American</td>\n",
       "      <td>2016-04-07</td>\n",
       "      <td>Not Critical</td>\n",
       "      <td>7.0</td>\n",
       "      <td>A</td>\n",
       "      <td>2016-04-07</td>\n",
       "      <td>2017-08-28</td>\n",
       "      <td>Cycle Inspection / Initial Inspection</td>\n",
       "      <td>facility</td>\n",
       "      <td>2016</td>\n",
       "      <td>11000 ROCKAWAY BOULEVARD QUEENS 11420</td>\n",
       "    </tr>\n",
       "  </tbody>\n",
       "</table>\n",
       "</div>"
      ],
      "text/plain": [
       "       camis                        dba       boro building  \\\n",
       "9   40376944                TOMOE SUSHI  MANHATTAN      172   \n",
       "12  41701178       CRAB SPOT RESTAURANT   BROOKLYN      833   \n",
       "16  41552184  NOM WAH TEA/DIM SUM PALOR  MANHATTAN       13   \n",
       "17  41696159      LUIGI'S PIZZA & PASTA      BRONX      119   \n",
       "22  41611667              SERVICE BAR 7     QUEENS    11000   \n",
       "\n",
       "                    street zipcode       phone cuisine_description  \\\n",
       "9          THOMPSON STREET   10012  2127779346            Japanese   \n",
       "12            UNION STREET   11215  7186222722             Seafood   \n",
       "16           DOYERS STREET   10013  2129626047             Chinese   \n",
       "17  EAST MOUNT EDEN AVENUE   10452  7182941800               Pizza   \n",
       "22      ROCKAWAY BOULEVARD   11420  6465881074            American   \n",
       "\n",
       "   inspection_date critical_flag  score grade grade_date record_date  \\\n",
       "9       2015-10-06      Critical   13.0     A 2015-10-06  2017-08-28   \n",
       "12      2016-07-28  Not Critical   12.0     A 2016-07-28  2017-08-28   \n",
       "16      2014-09-02      Critical   18.0     B 2014-09-02  2017-08-28   \n",
       "17      2014-10-27  Not Critical   13.0     A 2014-10-27  2017-08-28   \n",
       "22      2016-04-07  Not Critical    7.0     A 2016-04-07  2017-08-28   \n",
       "\n",
       "                          inspection_type     violations  inspection_year  \\\n",
       "9        Cycle Inspection / Re-inspection    temperature             2015   \n",
       "12  Cycle Inspection / Initial Inspection  food_handling             2016   \n",
       "16       Cycle Inspection / Re-inspection    temperature             2014   \n",
       "17       Cycle Inspection / Re-inspection       facility             2014   \n",
       "22  Cycle Inspection / Initial Inspection       facility             2016   \n",
       "\n",
       "                                   address  \n",
       "9      172 THOMPSON STREET MANHATTAN 10012  \n",
       "12         833 UNION STREET BROOKLYN 11215  \n",
       "16        13 DOYERS STREET MANHATTAN 10013  \n",
       "17  119 EAST MOUNT EDEN AVENUE BRONX 10452  \n",
       "22   11000 ROCKAWAY BOULEVARD QUEENS 11420  "
      ]
     },
     "execution_count": 117,
     "metadata": {},
     "output_type": "execute_result"
    }
   ],
   "source": [
    "df2.head()"
   ]
  },
  {
   "cell_type": "code",
   "execution_count": 118,
   "metadata": {
    "ExecuteTime": {
     "end_time": "2017-10-20T00:39:15.174221Z",
     "start_time": "2017-10-20T00:39:15.054529Z"
    }
   },
   "outputs": [
    {
     "name": "stderr",
     "output_type": "stream",
     "text": [
      "/Users/xavier/anaconda/lib/python3.6/site-packages/ipykernel_launcher.py:1: SettingWithCopyWarning: \n",
      "A value is trying to be set on a copy of a slice from a DataFrame\n",
      "\n",
      "See the caveats in the documentation: http://pandas.pydata.org/pandas-docs/stable/indexing.html#indexing-view-versus-copy\n",
      "  \"\"\"Entry point for launching an IPython kernel.\n"
     ]
    }
   ],
   "source": [
    "df2.dropna(subset=['address'],inplace=True,axis=0)"
   ]
  },
  {
   "cell_type": "code",
   "execution_count": 119,
   "metadata": {
    "ExecuteTime": {
     "end_time": "2017-10-20T00:39:19.677162Z",
     "start_time": "2017-10-20T00:39:19.672577Z"
    }
   },
   "outputs": [
    {
     "data": {
      "text/plain": [
       "(22316, 18)"
      ]
     },
     "execution_count": 119,
     "metadata": {},
     "output_type": "execute_result"
    }
   ],
   "source": [
    "df2.shape"
   ]
  },
  {
   "cell_type": "code",
   "execution_count": 120,
   "metadata": {
    "ExecuteTime": {
     "end_time": "2017-10-20T00:39:22.460928Z",
     "start_time": "2017-10-20T00:39:22.341821Z"
    }
   },
   "outputs": [
    {
     "name": "stderr",
     "output_type": "stream",
     "text": [
      "/Users/xavier/anaconda/lib/python3.6/site-packages/pandas/core/frame.py:2746: SettingWithCopyWarning: \n",
      "A value is trying to be set on a copy of a slice from a DataFrame\n",
      "\n",
      "See the caveats in the documentation: http://pandas.pydata.org/pandas-docs/stable/indexing.html#indexing-view-versus-copy\n",
      "  **kwargs)\n"
     ]
    }
   ],
   "source": [
    "df2.rename(columns={'dba':'name'},inplace=True)"
   ]
  },
  {
   "cell_type": "code",
   "execution_count": 121,
   "metadata": {
    "ExecuteTime": {
     "end_time": "2017-10-20T00:39:24.491592Z",
     "start_time": "2017-10-20T00:39:24.473464Z"
    }
   },
   "outputs": [
    {
     "data": {
      "text/html": [
       "<div>\n",
       "<style>\n",
       "    .dataframe thead tr:only-child th {\n",
       "        text-align: right;\n",
       "    }\n",
       "\n",
       "    .dataframe thead th {\n",
       "        text-align: left;\n",
       "    }\n",
       "\n",
       "    .dataframe tbody tr th {\n",
       "        vertical-align: top;\n",
       "    }\n",
       "</style>\n",
       "<table border=\"1\" class=\"dataframe\">\n",
       "  <thead>\n",
       "    <tr style=\"text-align: right;\">\n",
       "      <th></th>\n",
       "      <th>camis</th>\n",
       "      <th>name</th>\n",
       "      <th>boro</th>\n",
       "      <th>building</th>\n",
       "      <th>street</th>\n",
       "      <th>zipcode</th>\n",
       "      <th>phone</th>\n",
       "      <th>cuisine_description</th>\n",
       "      <th>inspection_date</th>\n",
       "      <th>critical_flag</th>\n",
       "      <th>score</th>\n",
       "      <th>grade</th>\n",
       "      <th>grade_date</th>\n",
       "      <th>record_date</th>\n",
       "      <th>inspection_type</th>\n",
       "      <th>violations</th>\n",
       "      <th>inspection_year</th>\n",
       "      <th>address</th>\n",
       "    </tr>\n",
       "  </thead>\n",
       "  <tbody>\n",
       "    <tr>\n",
       "      <th>9</th>\n",
       "      <td>40376944</td>\n",
       "      <td>TOMOE SUSHI</td>\n",
       "      <td>MANHATTAN</td>\n",
       "      <td>172</td>\n",
       "      <td>THOMPSON STREET</td>\n",
       "      <td>10012</td>\n",
       "      <td>2127779346</td>\n",
       "      <td>Japanese</td>\n",
       "      <td>2015-10-06</td>\n",
       "      <td>Critical</td>\n",
       "      <td>13.0</td>\n",
       "      <td>A</td>\n",
       "      <td>2015-10-06</td>\n",
       "      <td>2017-08-28</td>\n",
       "      <td>Cycle Inspection / Re-inspection</td>\n",
       "      <td>temperature</td>\n",
       "      <td>2015</td>\n",
       "      <td>172 THOMPSON STREET MANHATTAN 10012</td>\n",
       "    </tr>\n",
       "    <tr>\n",
       "      <th>12</th>\n",
       "      <td>41701178</td>\n",
       "      <td>CRAB SPOT RESTAURANT</td>\n",
       "      <td>BROOKLYN</td>\n",
       "      <td>833</td>\n",
       "      <td>UNION STREET</td>\n",
       "      <td>11215</td>\n",
       "      <td>7186222722</td>\n",
       "      <td>Seafood</td>\n",
       "      <td>2016-07-28</td>\n",
       "      <td>Not Critical</td>\n",
       "      <td>12.0</td>\n",
       "      <td>A</td>\n",
       "      <td>2016-07-28</td>\n",
       "      <td>2017-08-28</td>\n",
       "      <td>Cycle Inspection / Initial Inspection</td>\n",
       "      <td>food_handling</td>\n",
       "      <td>2016</td>\n",
       "      <td>833 UNION STREET BROOKLYN 11215</td>\n",
       "    </tr>\n",
       "    <tr>\n",
       "      <th>16</th>\n",
       "      <td>41552184</td>\n",
       "      <td>NOM WAH TEA/DIM SUM PALOR</td>\n",
       "      <td>MANHATTAN</td>\n",
       "      <td>13</td>\n",
       "      <td>DOYERS STREET</td>\n",
       "      <td>10013</td>\n",
       "      <td>2129626047</td>\n",
       "      <td>Chinese</td>\n",
       "      <td>2014-09-02</td>\n",
       "      <td>Critical</td>\n",
       "      <td>18.0</td>\n",
       "      <td>B</td>\n",
       "      <td>2014-09-02</td>\n",
       "      <td>2017-08-28</td>\n",
       "      <td>Cycle Inspection / Re-inspection</td>\n",
       "      <td>temperature</td>\n",
       "      <td>2014</td>\n",
       "      <td>13 DOYERS STREET MANHATTAN 10013</td>\n",
       "    </tr>\n",
       "    <tr>\n",
       "      <th>17</th>\n",
       "      <td>41696159</td>\n",
       "      <td>LUIGI'S PIZZA &amp; PASTA</td>\n",
       "      <td>BRONX</td>\n",
       "      <td>119</td>\n",
       "      <td>EAST MOUNT EDEN AVENUE</td>\n",
       "      <td>10452</td>\n",
       "      <td>7182941800</td>\n",
       "      <td>Pizza</td>\n",
       "      <td>2014-10-27</td>\n",
       "      <td>Not Critical</td>\n",
       "      <td>13.0</td>\n",
       "      <td>A</td>\n",
       "      <td>2014-10-27</td>\n",
       "      <td>2017-08-28</td>\n",
       "      <td>Cycle Inspection / Re-inspection</td>\n",
       "      <td>facility</td>\n",
       "      <td>2014</td>\n",
       "      <td>119 EAST MOUNT EDEN AVENUE BRONX 10452</td>\n",
       "    </tr>\n",
       "    <tr>\n",
       "      <th>22</th>\n",
       "      <td>41611667</td>\n",
       "      <td>SERVICE BAR 7</td>\n",
       "      <td>QUEENS</td>\n",
       "      <td>11000</td>\n",
       "      <td>ROCKAWAY BOULEVARD</td>\n",
       "      <td>11420</td>\n",
       "      <td>6465881074</td>\n",
       "      <td>American</td>\n",
       "      <td>2016-04-07</td>\n",
       "      <td>Not Critical</td>\n",
       "      <td>7.0</td>\n",
       "      <td>A</td>\n",
       "      <td>2016-04-07</td>\n",
       "      <td>2017-08-28</td>\n",
       "      <td>Cycle Inspection / Initial Inspection</td>\n",
       "      <td>facility</td>\n",
       "      <td>2016</td>\n",
       "      <td>11000 ROCKAWAY BOULEVARD QUEENS 11420</td>\n",
       "    </tr>\n",
       "  </tbody>\n",
       "</table>\n",
       "</div>"
      ],
      "text/plain": [
       "       camis                       name       boro building  \\\n",
       "9   40376944                TOMOE SUSHI  MANHATTAN      172   \n",
       "12  41701178       CRAB SPOT RESTAURANT   BROOKLYN      833   \n",
       "16  41552184  NOM WAH TEA/DIM SUM PALOR  MANHATTAN       13   \n",
       "17  41696159      LUIGI'S PIZZA & PASTA      BRONX      119   \n",
       "22  41611667              SERVICE BAR 7     QUEENS    11000   \n",
       "\n",
       "                    street zipcode       phone cuisine_description  \\\n",
       "9          THOMPSON STREET   10012  2127779346            Japanese   \n",
       "12            UNION STREET   11215  7186222722             Seafood   \n",
       "16           DOYERS STREET   10013  2129626047             Chinese   \n",
       "17  EAST MOUNT EDEN AVENUE   10452  7182941800               Pizza   \n",
       "22      ROCKAWAY BOULEVARD   11420  6465881074            American   \n",
       "\n",
       "   inspection_date critical_flag  score grade grade_date record_date  \\\n",
       "9       2015-10-06      Critical   13.0     A 2015-10-06  2017-08-28   \n",
       "12      2016-07-28  Not Critical   12.0     A 2016-07-28  2017-08-28   \n",
       "16      2014-09-02      Critical   18.0     B 2014-09-02  2017-08-28   \n",
       "17      2014-10-27  Not Critical   13.0     A 2014-10-27  2017-08-28   \n",
       "22      2016-04-07  Not Critical    7.0     A 2016-04-07  2017-08-28   \n",
       "\n",
       "                          inspection_type     violations  inspection_year  \\\n",
       "9        Cycle Inspection / Re-inspection    temperature             2015   \n",
       "12  Cycle Inspection / Initial Inspection  food_handling             2016   \n",
       "16       Cycle Inspection / Re-inspection    temperature             2014   \n",
       "17       Cycle Inspection / Re-inspection       facility             2014   \n",
       "22  Cycle Inspection / Initial Inspection       facility             2016   \n",
       "\n",
       "                                   address  \n",
       "9      172 THOMPSON STREET MANHATTAN 10012  \n",
       "12         833 UNION STREET BROOKLYN 11215  \n",
       "16        13 DOYERS STREET MANHATTAN 10013  \n",
       "17  119 EAST MOUNT EDEN AVENUE BRONX 10452  \n",
       "22   11000 ROCKAWAY BOULEVARD QUEENS 11420  "
      ]
     },
     "execution_count": 121,
     "metadata": {},
     "output_type": "execute_result"
    }
   ],
   "source": [
    "df2.head()"
   ]
  },
  {
   "cell_type": "code",
   "execution_count": 122,
   "metadata": {
    "ExecuteTime": {
     "end_time": "2017-10-20T00:39:25.242663Z",
     "start_time": "2017-10-20T00:39:25.238851Z"
    },
    "collapsed": true
   },
   "outputs": [],
   "source": [
    "uniqueDF = df2"
   ]
  },
  {
   "cell_type": "code",
   "execution_count": 123,
   "metadata": {
    "ExecuteTime": {
     "end_time": "2017-10-20T00:39:31.125925Z",
     "start_time": "2017-10-20T00:39:31.118607Z"
    }
   },
   "outputs": [
    {
     "data": {
      "text/plain": [
       "0"
      ]
     },
     "execution_count": 123,
     "metadata": {},
     "output_type": "execute_result"
    }
   ],
   "source": [
    "uniqueDF.grade.isnull().sum()"
   ]
  },
  {
   "cell_type": "code",
   "execution_count": 124,
   "metadata": {
    "ExecuteTime": {
     "end_time": "2017-10-20T00:39:36.341996Z",
     "start_time": "2017-10-20T00:39:36.337547Z"
    }
   },
   "outputs": [
    {
     "data": {
      "text/plain": [
       "(22316, 18)"
      ]
     },
     "execution_count": 124,
     "metadata": {},
     "output_type": "execute_result"
    }
   ],
   "source": [
    "uniqueDF.shape"
   ]
  },
  {
   "cell_type": "code",
   "execution_count": 125,
   "metadata": {
    "ExecuteTime": {
     "end_time": "2017-10-20T00:39:40.698591Z",
     "start_time": "2017-10-20T00:39:40.672798Z"
    }
   },
   "outputs": [
    {
     "data": {
      "text/plain": [
       "grade\n",
       "A    15460\n",
       "B     2286\n",
       "C      475\n",
       "Name: name, dtype: int64"
      ]
     },
     "execution_count": 125,
     "metadata": {},
     "output_type": "execute_result"
    }
   ],
   "source": [
    "uniqueDF.groupby('grade').name.nunique()"
   ]
  },
  {
   "cell_type": "code",
   "execution_count": 126,
   "metadata": {
    "ExecuteTime": {
     "end_time": "2017-10-20T00:40:33.722885Z",
     "start_time": "2017-10-20T00:40:32.713370Z"
    },
    "collapsed": true
   },
   "outputs": [],
   "source": [
    "cuisineDF = uniqueDF.cuisine_description.str.get_dummies()"
   ]
  },
  {
   "cell_type": "code",
   "execution_count": 127,
   "metadata": {
    "ExecuteTime": {
     "end_time": "2017-10-20T00:40:38.888800Z",
     "start_time": "2017-10-20T00:40:38.873520Z"
    }
   },
   "outputs": [
    {
     "data": {
      "text/html": [
       "<div>\n",
       "<style>\n",
       "    .dataframe thead tr:only-child th {\n",
       "        text-align: right;\n",
       "    }\n",
       "\n",
       "    .dataframe thead th {\n",
       "        text-align: left;\n",
       "    }\n",
       "\n",
       "    .dataframe tbody tr th {\n",
       "        vertical-align: top;\n",
       "    }\n",
       "</style>\n",
       "<table border=\"1\" class=\"dataframe\">\n",
       "  <thead>\n",
       "    <tr style=\"text-align: right;\">\n",
       "      <th></th>\n",
       "      <th>Afghan</th>\n",
       "      <th>African</th>\n",
       "      <th>American</th>\n",
       "      <th>Armenian</th>\n",
       "      <th>Asian</th>\n",
       "      <th>Australian</th>\n",
       "      <th>Bagels/Pretzels</th>\n",
       "      <th>Bakery</th>\n",
       "      <th>Bangladeshi</th>\n",
       "      <th>Barbecue</th>\n",
       "      <th>...</th>\n",
       "      <th>Soups &amp; Sandwiches</th>\n",
       "      <th>Southwestern</th>\n",
       "      <th>Spanish</th>\n",
       "      <th>Steak</th>\n",
       "      <th>Tapas</th>\n",
       "      <th>Tex-Mex</th>\n",
       "      <th>Thai</th>\n",
       "      <th>Turkish</th>\n",
       "      <th>Vegetarian</th>\n",
       "      <th>Vietnamese/Cambodian/Malaysia</th>\n",
       "    </tr>\n",
       "  </thead>\n",
       "  <tbody>\n",
       "    <tr>\n",
       "      <th>9</th>\n",
       "      <td>0</td>\n",
       "      <td>0</td>\n",
       "      <td>0</td>\n",
       "      <td>0</td>\n",
       "      <td>0</td>\n",
       "      <td>0</td>\n",
       "      <td>0</td>\n",
       "      <td>0</td>\n",
       "      <td>0</td>\n",
       "      <td>0</td>\n",
       "      <td>...</td>\n",
       "      <td>0</td>\n",
       "      <td>0</td>\n",
       "      <td>0</td>\n",
       "      <td>0</td>\n",
       "      <td>0</td>\n",
       "      <td>0</td>\n",
       "      <td>0</td>\n",
       "      <td>0</td>\n",
       "      <td>0</td>\n",
       "      <td>0</td>\n",
       "    </tr>\n",
       "    <tr>\n",
       "      <th>12</th>\n",
       "      <td>0</td>\n",
       "      <td>0</td>\n",
       "      <td>0</td>\n",
       "      <td>0</td>\n",
       "      <td>0</td>\n",
       "      <td>0</td>\n",
       "      <td>0</td>\n",
       "      <td>0</td>\n",
       "      <td>0</td>\n",
       "      <td>0</td>\n",
       "      <td>...</td>\n",
       "      <td>0</td>\n",
       "      <td>0</td>\n",
       "      <td>0</td>\n",
       "      <td>0</td>\n",
       "      <td>0</td>\n",
       "      <td>0</td>\n",
       "      <td>0</td>\n",
       "      <td>0</td>\n",
       "      <td>0</td>\n",
       "      <td>0</td>\n",
       "    </tr>\n",
       "    <tr>\n",
       "      <th>16</th>\n",
       "      <td>0</td>\n",
       "      <td>0</td>\n",
       "      <td>0</td>\n",
       "      <td>0</td>\n",
       "      <td>0</td>\n",
       "      <td>0</td>\n",
       "      <td>0</td>\n",
       "      <td>0</td>\n",
       "      <td>0</td>\n",
       "      <td>0</td>\n",
       "      <td>...</td>\n",
       "      <td>0</td>\n",
       "      <td>0</td>\n",
       "      <td>0</td>\n",
       "      <td>0</td>\n",
       "      <td>0</td>\n",
       "      <td>0</td>\n",
       "      <td>0</td>\n",
       "      <td>0</td>\n",
       "      <td>0</td>\n",
       "      <td>0</td>\n",
       "    </tr>\n",
       "    <tr>\n",
       "      <th>17</th>\n",
       "      <td>0</td>\n",
       "      <td>0</td>\n",
       "      <td>0</td>\n",
       "      <td>0</td>\n",
       "      <td>0</td>\n",
       "      <td>0</td>\n",
       "      <td>0</td>\n",
       "      <td>0</td>\n",
       "      <td>0</td>\n",
       "      <td>0</td>\n",
       "      <td>...</td>\n",
       "      <td>0</td>\n",
       "      <td>0</td>\n",
       "      <td>0</td>\n",
       "      <td>0</td>\n",
       "      <td>0</td>\n",
       "      <td>0</td>\n",
       "      <td>0</td>\n",
       "      <td>0</td>\n",
       "      <td>0</td>\n",
       "      <td>0</td>\n",
       "    </tr>\n",
       "    <tr>\n",
       "      <th>22</th>\n",
       "      <td>0</td>\n",
       "      <td>0</td>\n",
       "      <td>1</td>\n",
       "      <td>0</td>\n",
       "      <td>0</td>\n",
       "      <td>0</td>\n",
       "      <td>0</td>\n",
       "      <td>0</td>\n",
       "      <td>0</td>\n",
       "      <td>0</td>\n",
       "      <td>...</td>\n",
       "      <td>0</td>\n",
       "      <td>0</td>\n",
       "      <td>0</td>\n",
       "      <td>0</td>\n",
       "      <td>0</td>\n",
       "      <td>0</td>\n",
       "      <td>0</td>\n",
       "      <td>0</td>\n",
       "      <td>0</td>\n",
       "      <td>0</td>\n",
       "    </tr>\n",
       "  </tbody>\n",
       "</table>\n",
       "<p>5 rows × 84 columns</p>\n",
       "</div>"
      ],
      "text/plain": [
       "    Afghan  African  American  Armenian  Asian  Australian  Bagels/Pretzels  \\\n",
       "9        0        0         0         0      0           0                0   \n",
       "12       0        0         0         0      0           0                0   \n",
       "16       0        0         0         0      0           0                0   \n",
       "17       0        0         0         0      0           0                0   \n",
       "22       0        0         1         0      0           0                0   \n",
       "\n",
       "    Bakery  Bangladeshi  Barbecue              ...                \\\n",
       "9        0            0         0              ...                 \n",
       "12       0            0         0              ...                 \n",
       "16       0            0         0              ...                 \n",
       "17       0            0         0              ...                 \n",
       "22       0            0         0              ...                 \n",
       "\n",
       "    Soups & Sandwiches  Southwestern  Spanish  Steak  Tapas  Tex-Mex  Thai  \\\n",
       "9                    0             0        0      0      0        0     0   \n",
       "12                   0             0        0      0      0        0     0   \n",
       "16                   0             0        0      0      0        0     0   \n",
       "17                   0             0        0      0      0        0     0   \n",
       "22                   0             0        0      0      0        0     0   \n",
       "\n",
       "    Turkish  Vegetarian  Vietnamese/Cambodian/Malaysia  \n",
       "9         0           0                              0  \n",
       "12        0           0                              0  \n",
       "16        0           0                              0  \n",
       "17        0           0                              0  \n",
       "22        0           0                              0  \n",
       "\n",
       "[5 rows x 84 columns]"
      ]
     },
     "execution_count": 127,
     "metadata": {},
     "output_type": "execute_result"
    }
   ],
   "source": [
    "cuisineDF.head()"
   ]
  },
  {
   "cell_type": "code",
   "execution_count": 129,
   "metadata": {
    "ExecuteTime": {
     "end_time": "2017-10-20T00:42:54.755758Z",
     "start_time": "2017-10-20T00:42:54.736790Z"
    }
   },
   "outputs": [],
   "source": [
    "uniqueDF = uniqueDF.join(cuisineDF)"
   ]
  },
  {
   "cell_type": "code",
   "execution_count": 130,
   "metadata": {
    "ExecuteTime": {
     "end_time": "2017-10-20T00:43:37.800225Z",
     "start_time": "2017-10-20T00:43:37.739310Z"
    },
    "collapsed": true
   },
   "outputs": [],
   "source": [
    "uniqueDF.to_pickle('data/inspection.pkl')"
   ]
  },
  {
   "cell_type": "markdown",
   "metadata": {},
   "source": [
    "## Yelp Data"
   ]
  },
  {
   "cell_type": "code",
   "execution_count": 131,
   "metadata": {
    "ExecuteTime": {
     "end_time": "2017-10-20T00:43:44.521754Z",
     "start_time": "2017-10-20T00:43:42.380169Z"
    },
    "collapsed": true,
    "scrolled": true
   },
   "outputs": [],
   "source": [
    "data = []\n",
    "with open('data/yelp_restaurants.json') as f:\n",
    "    for line in f:\n",
    "        data.append(json.loads(line))\n",
    "    \n",
    "yelpDF = pd.io.json.json_normalize(data)"
   ]
  },
  {
   "cell_type": "code",
   "execution_count": 132,
   "metadata": {
    "ExecuteTime": {
     "end_time": "2017-10-20T00:43:44.544642Z",
     "start_time": "2017-10-20T00:43:44.523399Z"
    }
   },
   "outputs": [
    {
     "data": {
      "text/html": [
       "<div>\n",
       "<style>\n",
       "    .dataframe thead tr:only-child th {\n",
       "        text-align: right;\n",
       "    }\n",
       "\n",
       "    .dataframe thead th {\n",
       "        text-align: left;\n",
       "    }\n",
       "\n",
       "    .dataframe tbody tr th {\n",
       "        vertical-align: top;\n",
       "    }\n",
       "</style>\n",
       "<table border=\"1\" class=\"dataframe\">\n",
       "  <thead>\n",
       "    <tr style=\"text-align: right;\">\n",
       "      <th></th>\n",
       "      <th>business_id</th>\n",
       "      <th>business_name</th>\n",
       "      <th>categories</th>\n",
       "      <th>coordinates.latitude</th>\n",
       "      <th>coordinates.longitude</th>\n",
       "      <th>is_closed</th>\n",
       "      <th>location.address1</th>\n",
       "      <th>location.address2</th>\n",
       "      <th>location.address3</th>\n",
       "      <th>location.city</th>\n",
       "      <th>location.country</th>\n",
       "      <th>location.display_address</th>\n",
       "      <th>location.state</th>\n",
       "      <th>location.zip_code</th>\n",
       "      <th>price</th>\n",
       "      <th>rating</th>\n",
       "      <th>review_count</th>\n",
       "    </tr>\n",
       "  </thead>\n",
       "  <tbody>\n",
       "    <tr>\n",
       "      <th>0</th>\n",
       "      <td>notaro-ristorante-new-york-2</td>\n",
       "      <td>Notaro Ristorante</td>\n",
       "      <td>[{'alias': 'italian', 'title': 'Italian'}]</td>\n",
       "      <td>40.745323</td>\n",
       "      <td>-73.975845</td>\n",
       "      <td>False</td>\n",
       "      <td>635 2nd Ave</td>\n",
       "      <td></td>\n",
       "      <td></td>\n",
       "      <td>New York</td>\n",
       "      <td>US</td>\n",
       "      <td>[635 2nd Ave, New York, NY 10016]</td>\n",
       "      <td>NY</td>\n",
       "      <td>10016</td>\n",
       "      <td>$$</td>\n",
       "      <td>3.0</td>\n",
       "      <td>90</td>\n",
       "    </tr>\n",
       "    <tr>\n",
       "      <th>1</th>\n",
       "      <td>vite-bar-astoria</td>\n",
       "      <td>Vite Bar</td>\n",
       "      <td>[{'alias': 'italian', 'title': 'Italian'}, {'a...</td>\n",
       "      <td>40.763414</td>\n",
       "      <td>-73.928119</td>\n",
       "      <td>False</td>\n",
       "      <td>2507 Broadway</td>\n",
       "      <td></td>\n",
       "      <td></td>\n",
       "      <td>Astoria</td>\n",
       "      <td>US</td>\n",
       "      <td>[2507 Broadway, Astoria, NY 11106]</td>\n",
       "      <td>NY</td>\n",
       "      <td>11106</td>\n",
       "      <td>$$</td>\n",
       "      <td>4.5</td>\n",
       "      <td>76</td>\n",
       "    </tr>\n",
       "    <tr>\n",
       "      <th>2</th>\n",
       "      <td>tacks-chinese-take-out-staten-island</td>\n",
       "      <td>Tack's Chinese Take Out</td>\n",
       "      <td>[{'alias': 'chinese', 'title': 'Chinese'}]</td>\n",
       "      <td>40.604620</td>\n",
       "      <td>-74.121230</td>\n",
       "      <td>False</td>\n",
       "      <td>11C Holden Blvd</td>\n",
       "      <td></td>\n",
       "      <td></td>\n",
       "      <td>Staten Island</td>\n",
       "      <td>US</td>\n",
       "      <td>[11C Holden Blvd, Staten Island, NY 10314]</td>\n",
       "      <td>NY</td>\n",
       "      <td>10314</td>\n",
       "      <td>$$</td>\n",
       "      <td>4.0</td>\n",
       "      <td>52</td>\n",
       "    </tr>\n",
       "    <tr>\n",
       "      <th>3</th>\n",
       "      <td>no-quarter-brooklyn</td>\n",
       "      <td>No Quarter</td>\n",
       "      <td>[{'alias': 'lounges', 'title': 'Lounges'}]</td>\n",
       "      <td>40.625198</td>\n",
       "      <td>-74.024025</td>\n",
       "      <td>False</td>\n",
       "      <td>8015 5th Ave</td>\n",
       "      <td></td>\n",
       "      <td></td>\n",
       "      <td>Brooklyn</td>\n",
       "      <td>US</td>\n",
       "      <td>[8015 5th Ave, Brooklyn, NY 11209]</td>\n",
       "      <td>NY</td>\n",
       "      <td>11209</td>\n",
       "      <td>$</td>\n",
       "      <td>2.5</td>\n",
       "      <td>16</td>\n",
       "    </tr>\n",
       "    <tr>\n",
       "      <th>4</th>\n",
       "      <td>henris-backyard-brooklyn</td>\n",
       "      <td>HENRI's Backyard</td>\n",
       "      <td>[{'alias': 'beerbar', 'title': 'Beer Bar'}, {'...</td>\n",
       "      <td>40.676470</td>\n",
       "      <td>-73.983940</td>\n",
       "      <td>True</td>\n",
       "      <td>256 4th Ave</td>\n",
       "      <td>None</td>\n",
       "      <td></td>\n",
       "      <td>Brooklyn</td>\n",
       "      <td>US</td>\n",
       "      <td>[256 4th Ave, Brooklyn, NY 11215]</td>\n",
       "      <td>NY</td>\n",
       "      <td>11215</td>\n",
       "      <td>$$</td>\n",
       "      <td>4.0</td>\n",
       "      <td>15</td>\n",
       "    </tr>\n",
       "  </tbody>\n",
       "</table>\n",
       "</div>"
      ],
      "text/plain": [
       "                            business_id            business_name  \\\n",
       "0          notaro-ristorante-new-york-2        Notaro Ristorante   \n",
       "1                      vite-bar-astoria                 Vite Bar   \n",
       "2  tacks-chinese-take-out-staten-island  Tack's Chinese Take Out   \n",
       "3                   no-quarter-brooklyn               No Quarter   \n",
       "4              henris-backyard-brooklyn         HENRI's Backyard   \n",
       "\n",
       "                                          categories  coordinates.latitude  \\\n",
       "0         [{'alias': 'italian', 'title': 'Italian'}]             40.745323   \n",
       "1  [{'alias': 'italian', 'title': 'Italian'}, {'a...             40.763414   \n",
       "2         [{'alias': 'chinese', 'title': 'Chinese'}]             40.604620   \n",
       "3         [{'alias': 'lounges', 'title': 'Lounges'}]             40.625198   \n",
       "4  [{'alias': 'beerbar', 'title': 'Beer Bar'}, {'...             40.676470   \n",
       "\n",
       "   coordinates.longitude  is_closed location.address1 location.address2  \\\n",
       "0             -73.975845      False       635 2nd Ave                     \n",
       "1             -73.928119      False     2507 Broadway                     \n",
       "2             -74.121230      False   11C Holden Blvd                     \n",
       "3             -74.024025      False      8015 5th Ave                     \n",
       "4             -73.983940       True       256 4th Ave              None   \n",
       "\n",
       "  location.address3  location.city location.country  \\\n",
       "0                         New York               US   \n",
       "1                          Astoria               US   \n",
       "2                    Staten Island               US   \n",
       "3                         Brooklyn               US   \n",
       "4                         Brooklyn               US   \n",
       "\n",
       "                     location.display_address location.state  \\\n",
       "0           [635 2nd Ave, New York, NY 10016]             NY   \n",
       "1          [2507 Broadway, Astoria, NY 11106]             NY   \n",
       "2  [11C Holden Blvd, Staten Island, NY 10314]             NY   \n",
       "3          [8015 5th Ave, Brooklyn, NY 11209]             NY   \n",
       "4           [256 4th Ave, Brooklyn, NY 11215]             NY   \n",
       "\n",
       "  location.zip_code price  rating  review_count  \n",
       "0             10016    $$     3.0            90  \n",
       "1             11106    $$     4.5            76  \n",
       "2             10314    $$     4.0            52  \n",
       "3             11209     $     2.5            16  \n",
       "4             11215    $$     4.0            15  "
      ]
     },
     "execution_count": 132,
     "metadata": {},
     "output_type": "execute_result"
    }
   ],
   "source": [
    "yelpDF.head()"
   ]
  },
  {
   "cell_type": "code",
   "execution_count": 133,
   "metadata": {
    "ExecuteTime": {
     "end_time": "2017-10-20T00:43:50.545208Z",
     "start_time": "2017-10-20T00:43:50.541001Z"
    }
   },
   "outputs": [
    {
     "data": {
      "text/plain": [
       "(23397, 17)"
      ]
     },
     "execution_count": 133,
     "metadata": {},
     "output_type": "execute_result"
    }
   ],
   "source": [
    "yelpDF.shape"
   ]
  },
  {
   "cell_type": "code",
   "execution_count": 134,
   "metadata": {
    "ExecuteTime": {
     "end_time": "2017-10-20T00:43:52.957679Z",
     "start_time": "2017-10-20T00:43:52.941900Z"
    },
    "collapsed": true
   },
   "outputs": [],
   "source": [
    "yelpDF['clean_address'] = yelpDF['location.display_address'].apply(lambda x: ', '.join(x))"
   ]
  },
  {
   "cell_type": "code",
   "execution_count": 135,
   "metadata": {
    "ExecuteTime": {
     "end_time": "2017-10-20T00:43:57.835114Z",
     "start_time": "2017-10-20T00:43:57.801877Z"
    },
    "collapsed": true
   },
   "outputs": [],
   "source": [
    "yelpDF.drop('location.display_address',axis=1,inplace=True)"
   ]
  },
  {
   "cell_type": "code",
   "execution_count": 136,
   "metadata": {
    "ExecuteTime": {
     "end_time": "2017-10-20T00:43:58.484220Z",
     "start_time": "2017-10-20T00:43:58.476126Z"
    },
    "collapsed": true
   },
   "outputs": [],
   "source": [
    "def convert_categoies(row):\n",
    "    cats = ''\n",
    "    for dic in row['categories']:\n",
    "        for key in dic:\n",
    "            if key == 'alias':\n",
    "                cats += dic[key]+','\n",
    "            else:\n",
    "                next\n",
    "    return cats[:-1]"
   ]
  },
  {
   "cell_type": "code",
   "execution_count": 137,
   "metadata": {
    "ExecuteTime": {
     "end_time": "2017-10-20T00:44:00.688136Z",
     "start_time": "2017-10-20T00:44:00.305549Z"
    },
    "collapsed": true
   },
   "outputs": [],
   "source": [
    "yelpDF['categories_clean'] = yelpDF.apply(lambda row: convert_categoies(row),axis=1)"
   ]
  },
  {
   "cell_type": "code",
   "execution_count": 138,
   "metadata": {
    "ExecuteTime": {
     "end_time": "2017-10-20T00:44:01.498626Z",
     "start_time": "2017-10-20T00:44:01.476747Z"
    }
   },
   "outputs": [
    {
     "data": {
      "text/html": [
       "<div>\n",
       "<style>\n",
       "    .dataframe thead tr:only-child th {\n",
       "        text-align: right;\n",
       "    }\n",
       "\n",
       "    .dataframe thead th {\n",
       "        text-align: left;\n",
       "    }\n",
       "\n",
       "    .dataframe tbody tr th {\n",
       "        vertical-align: top;\n",
       "    }\n",
       "</style>\n",
       "<table border=\"1\" class=\"dataframe\">\n",
       "  <thead>\n",
       "    <tr style=\"text-align: right;\">\n",
       "      <th></th>\n",
       "      <th>business_id</th>\n",
       "      <th>business_name</th>\n",
       "      <th>categories</th>\n",
       "      <th>coordinates.latitude</th>\n",
       "      <th>coordinates.longitude</th>\n",
       "      <th>is_closed</th>\n",
       "      <th>location.address1</th>\n",
       "      <th>location.address2</th>\n",
       "      <th>location.address3</th>\n",
       "      <th>location.city</th>\n",
       "      <th>location.country</th>\n",
       "      <th>location.state</th>\n",
       "      <th>location.zip_code</th>\n",
       "      <th>price</th>\n",
       "      <th>rating</th>\n",
       "      <th>review_count</th>\n",
       "      <th>clean_address</th>\n",
       "      <th>categories_clean</th>\n",
       "    </tr>\n",
       "  </thead>\n",
       "  <tbody>\n",
       "    <tr>\n",
       "      <th>0</th>\n",
       "      <td>notaro-ristorante-new-york-2</td>\n",
       "      <td>Notaro Ristorante</td>\n",
       "      <td>[{'alias': 'italian', 'title': 'Italian'}]</td>\n",
       "      <td>40.745323</td>\n",
       "      <td>-73.975845</td>\n",
       "      <td>False</td>\n",
       "      <td>635 2nd Ave</td>\n",
       "      <td></td>\n",
       "      <td></td>\n",
       "      <td>New York</td>\n",
       "      <td>US</td>\n",
       "      <td>NY</td>\n",
       "      <td>10016</td>\n",
       "      <td>$$</td>\n",
       "      <td>3.0</td>\n",
       "      <td>90</td>\n",
       "      <td>635 2nd Ave, New York, NY 10016</td>\n",
       "      <td>italian</td>\n",
       "    </tr>\n",
       "    <tr>\n",
       "      <th>1</th>\n",
       "      <td>vite-bar-astoria</td>\n",
       "      <td>Vite Bar</td>\n",
       "      <td>[{'alias': 'italian', 'title': 'Italian'}, {'a...</td>\n",
       "      <td>40.763414</td>\n",
       "      <td>-73.928119</td>\n",
       "      <td>False</td>\n",
       "      <td>2507 Broadway</td>\n",
       "      <td></td>\n",
       "      <td></td>\n",
       "      <td>Astoria</td>\n",
       "      <td>US</td>\n",
       "      <td>NY</td>\n",
       "      <td>11106</td>\n",
       "      <td>$$</td>\n",
       "      <td>4.5</td>\n",
       "      <td>76</td>\n",
       "      <td>2507 Broadway, Astoria, NY 11106</td>\n",
       "      <td>italian,tapas</td>\n",
       "    </tr>\n",
       "    <tr>\n",
       "      <th>2</th>\n",
       "      <td>tacks-chinese-take-out-staten-island</td>\n",
       "      <td>Tack's Chinese Take Out</td>\n",
       "      <td>[{'alias': 'chinese', 'title': 'Chinese'}]</td>\n",
       "      <td>40.604620</td>\n",
       "      <td>-74.121230</td>\n",
       "      <td>False</td>\n",
       "      <td>11C Holden Blvd</td>\n",
       "      <td></td>\n",
       "      <td></td>\n",
       "      <td>Staten Island</td>\n",
       "      <td>US</td>\n",
       "      <td>NY</td>\n",
       "      <td>10314</td>\n",
       "      <td>$$</td>\n",
       "      <td>4.0</td>\n",
       "      <td>52</td>\n",
       "      <td>11C Holden Blvd, Staten Island, NY 10314</td>\n",
       "      <td>chinese</td>\n",
       "    </tr>\n",
       "    <tr>\n",
       "      <th>3</th>\n",
       "      <td>no-quarter-brooklyn</td>\n",
       "      <td>No Quarter</td>\n",
       "      <td>[{'alias': 'lounges', 'title': 'Lounges'}]</td>\n",
       "      <td>40.625198</td>\n",
       "      <td>-74.024025</td>\n",
       "      <td>False</td>\n",
       "      <td>8015 5th Ave</td>\n",
       "      <td></td>\n",
       "      <td></td>\n",
       "      <td>Brooklyn</td>\n",
       "      <td>US</td>\n",
       "      <td>NY</td>\n",
       "      <td>11209</td>\n",
       "      <td>$</td>\n",
       "      <td>2.5</td>\n",
       "      <td>16</td>\n",
       "      <td>8015 5th Ave, Brooklyn, NY 11209</td>\n",
       "      <td>lounges</td>\n",
       "    </tr>\n",
       "    <tr>\n",
       "      <th>4</th>\n",
       "      <td>henris-backyard-brooklyn</td>\n",
       "      <td>HENRI's Backyard</td>\n",
       "      <td>[{'alias': 'beerbar', 'title': 'Beer Bar'}, {'...</td>\n",
       "      <td>40.676470</td>\n",
       "      <td>-73.983940</td>\n",
       "      <td>True</td>\n",
       "      <td>256 4th Ave</td>\n",
       "      <td>None</td>\n",
       "      <td></td>\n",
       "      <td>Brooklyn</td>\n",
       "      <td>US</td>\n",
       "      <td>NY</td>\n",
       "      <td>11215</td>\n",
       "      <td>$$</td>\n",
       "      <td>4.0</td>\n",
       "      <td>15</td>\n",
       "      <td>256 4th Ave, Brooklyn, NY 11215</td>\n",
       "      <td>beerbar,newamerican,vegan</td>\n",
       "    </tr>\n",
       "  </tbody>\n",
       "</table>\n",
       "</div>"
      ],
      "text/plain": [
       "                            business_id            business_name  \\\n",
       "0          notaro-ristorante-new-york-2        Notaro Ristorante   \n",
       "1                      vite-bar-astoria                 Vite Bar   \n",
       "2  tacks-chinese-take-out-staten-island  Tack's Chinese Take Out   \n",
       "3                   no-quarter-brooklyn               No Quarter   \n",
       "4              henris-backyard-brooklyn         HENRI's Backyard   \n",
       "\n",
       "                                          categories  coordinates.latitude  \\\n",
       "0         [{'alias': 'italian', 'title': 'Italian'}]             40.745323   \n",
       "1  [{'alias': 'italian', 'title': 'Italian'}, {'a...             40.763414   \n",
       "2         [{'alias': 'chinese', 'title': 'Chinese'}]             40.604620   \n",
       "3         [{'alias': 'lounges', 'title': 'Lounges'}]             40.625198   \n",
       "4  [{'alias': 'beerbar', 'title': 'Beer Bar'}, {'...             40.676470   \n",
       "\n",
       "   coordinates.longitude  is_closed location.address1 location.address2  \\\n",
       "0             -73.975845      False       635 2nd Ave                     \n",
       "1             -73.928119      False     2507 Broadway                     \n",
       "2             -74.121230      False   11C Holden Blvd                     \n",
       "3             -74.024025      False      8015 5th Ave                     \n",
       "4             -73.983940       True       256 4th Ave              None   \n",
       "\n",
       "  location.address3  location.city location.country location.state  \\\n",
       "0                         New York               US             NY   \n",
       "1                          Astoria               US             NY   \n",
       "2                    Staten Island               US             NY   \n",
       "3                         Brooklyn               US             NY   \n",
       "4                         Brooklyn               US             NY   \n",
       "\n",
       "  location.zip_code price  rating  review_count  \\\n",
       "0             10016    $$     3.0            90   \n",
       "1             11106    $$     4.5            76   \n",
       "2             10314    $$     4.0            52   \n",
       "3             11209     $     2.5            16   \n",
       "4             11215    $$     4.0            15   \n",
       "\n",
       "                              clean_address           categories_clean  \n",
       "0           635 2nd Ave, New York, NY 10016                    italian  \n",
       "1          2507 Broadway, Astoria, NY 11106              italian,tapas  \n",
       "2  11C Holden Blvd, Staten Island, NY 10314                    chinese  \n",
       "3          8015 5th Ave, Brooklyn, NY 11209                    lounges  \n",
       "4           256 4th Ave, Brooklyn, NY 11215  beerbar,newamerican,vegan  "
      ]
     },
     "execution_count": 138,
     "metadata": {},
     "output_type": "execute_result"
    }
   ],
   "source": [
    "yelpDF.head()"
   ]
  },
  {
   "cell_type": "code",
   "execution_count": 139,
   "metadata": {
    "ExecuteTime": {
     "end_time": "2017-10-20T00:44:03.593196Z",
     "start_time": "2017-10-20T00:44:03.562486Z"
    },
    "collapsed": true
   },
   "outputs": [],
   "source": [
    "yelpDF.drop('categories',axis=1,inplace=True)"
   ]
  },
  {
   "cell_type": "code",
   "execution_count": 140,
   "metadata": {
    "ExecuteTime": {
     "end_time": "2017-10-20T00:44:04.154001Z",
     "start_time": "2017-10-20T00:44:04.132168Z"
    }
   },
   "outputs": [
    {
     "data": {
      "text/html": [
       "<div>\n",
       "<style>\n",
       "    .dataframe thead tr:only-child th {\n",
       "        text-align: right;\n",
       "    }\n",
       "\n",
       "    .dataframe thead th {\n",
       "        text-align: left;\n",
       "    }\n",
       "\n",
       "    .dataframe tbody tr th {\n",
       "        vertical-align: top;\n",
       "    }\n",
       "</style>\n",
       "<table border=\"1\" class=\"dataframe\">\n",
       "  <thead>\n",
       "    <tr style=\"text-align: right;\">\n",
       "      <th></th>\n",
       "      <th>business_id</th>\n",
       "      <th>business_name</th>\n",
       "      <th>coordinates.latitude</th>\n",
       "      <th>coordinates.longitude</th>\n",
       "      <th>is_closed</th>\n",
       "      <th>location.address1</th>\n",
       "      <th>location.address2</th>\n",
       "      <th>location.address3</th>\n",
       "      <th>location.city</th>\n",
       "      <th>location.country</th>\n",
       "      <th>location.state</th>\n",
       "      <th>location.zip_code</th>\n",
       "      <th>price</th>\n",
       "      <th>rating</th>\n",
       "      <th>review_count</th>\n",
       "      <th>clean_address</th>\n",
       "      <th>categories_clean</th>\n",
       "    </tr>\n",
       "  </thead>\n",
       "  <tbody>\n",
       "    <tr>\n",
       "      <th>0</th>\n",
       "      <td>notaro-ristorante-new-york-2</td>\n",
       "      <td>Notaro Ristorante</td>\n",
       "      <td>40.745323</td>\n",
       "      <td>-73.975845</td>\n",
       "      <td>False</td>\n",
       "      <td>635 2nd Ave</td>\n",
       "      <td></td>\n",
       "      <td></td>\n",
       "      <td>New York</td>\n",
       "      <td>US</td>\n",
       "      <td>NY</td>\n",
       "      <td>10016</td>\n",
       "      <td>$$</td>\n",
       "      <td>3.0</td>\n",
       "      <td>90</td>\n",
       "      <td>635 2nd Ave, New York, NY 10016</td>\n",
       "      <td>italian</td>\n",
       "    </tr>\n",
       "    <tr>\n",
       "      <th>1</th>\n",
       "      <td>vite-bar-astoria</td>\n",
       "      <td>Vite Bar</td>\n",
       "      <td>40.763414</td>\n",
       "      <td>-73.928119</td>\n",
       "      <td>False</td>\n",
       "      <td>2507 Broadway</td>\n",
       "      <td></td>\n",
       "      <td></td>\n",
       "      <td>Astoria</td>\n",
       "      <td>US</td>\n",
       "      <td>NY</td>\n",
       "      <td>11106</td>\n",
       "      <td>$$</td>\n",
       "      <td>4.5</td>\n",
       "      <td>76</td>\n",
       "      <td>2507 Broadway, Astoria, NY 11106</td>\n",
       "      <td>italian,tapas</td>\n",
       "    </tr>\n",
       "    <tr>\n",
       "      <th>2</th>\n",
       "      <td>tacks-chinese-take-out-staten-island</td>\n",
       "      <td>Tack's Chinese Take Out</td>\n",
       "      <td>40.604620</td>\n",
       "      <td>-74.121230</td>\n",
       "      <td>False</td>\n",
       "      <td>11C Holden Blvd</td>\n",
       "      <td></td>\n",
       "      <td></td>\n",
       "      <td>Staten Island</td>\n",
       "      <td>US</td>\n",
       "      <td>NY</td>\n",
       "      <td>10314</td>\n",
       "      <td>$$</td>\n",
       "      <td>4.0</td>\n",
       "      <td>52</td>\n",
       "      <td>11C Holden Blvd, Staten Island, NY 10314</td>\n",
       "      <td>chinese</td>\n",
       "    </tr>\n",
       "    <tr>\n",
       "      <th>3</th>\n",
       "      <td>no-quarter-brooklyn</td>\n",
       "      <td>No Quarter</td>\n",
       "      <td>40.625198</td>\n",
       "      <td>-74.024025</td>\n",
       "      <td>False</td>\n",
       "      <td>8015 5th Ave</td>\n",
       "      <td></td>\n",
       "      <td></td>\n",
       "      <td>Brooklyn</td>\n",
       "      <td>US</td>\n",
       "      <td>NY</td>\n",
       "      <td>11209</td>\n",
       "      <td>$</td>\n",
       "      <td>2.5</td>\n",
       "      <td>16</td>\n",
       "      <td>8015 5th Ave, Brooklyn, NY 11209</td>\n",
       "      <td>lounges</td>\n",
       "    </tr>\n",
       "    <tr>\n",
       "      <th>4</th>\n",
       "      <td>henris-backyard-brooklyn</td>\n",
       "      <td>HENRI's Backyard</td>\n",
       "      <td>40.676470</td>\n",
       "      <td>-73.983940</td>\n",
       "      <td>True</td>\n",
       "      <td>256 4th Ave</td>\n",
       "      <td>None</td>\n",
       "      <td></td>\n",
       "      <td>Brooklyn</td>\n",
       "      <td>US</td>\n",
       "      <td>NY</td>\n",
       "      <td>11215</td>\n",
       "      <td>$$</td>\n",
       "      <td>4.0</td>\n",
       "      <td>15</td>\n",
       "      <td>256 4th Ave, Brooklyn, NY 11215</td>\n",
       "      <td>beerbar,newamerican,vegan</td>\n",
       "    </tr>\n",
       "  </tbody>\n",
       "</table>\n",
       "</div>"
      ],
      "text/plain": [
       "                            business_id            business_name  \\\n",
       "0          notaro-ristorante-new-york-2        Notaro Ristorante   \n",
       "1                      vite-bar-astoria                 Vite Bar   \n",
       "2  tacks-chinese-take-out-staten-island  Tack's Chinese Take Out   \n",
       "3                   no-quarter-brooklyn               No Quarter   \n",
       "4              henris-backyard-brooklyn         HENRI's Backyard   \n",
       "\n",
       "   coordinates.latitude  coordinates.longitude  is_closed location.address1  \\\n",
       "0             40.745323             -73.975845      False       635 2nd Ave   \n",
       "1             40.763414             -73.928119      False     2507 Broadway   \n",
       "2             40.604620             -74.121230      False   11C Holden Blvd   \n",
       "3             40.625198             -74.024025      False      8015 5th Ave   \n",
       "4             40.676470             -73.983940       True       256 4th Ave   \n",
       "\n",
       "  location.address2 location.address3  location.city location.country  \\\n",
       "0                                           New York               US   \n",
       "1                                            Astoria               US   \n",
       "2                                      Staten Island               US   \n",
       "3                                           Brooklyn               US   \n",
       "4              None                         Brooklyn               US   \n",
       "\n",
       "  location.state location.zip_code price  rating  review_count  \\\n",
       "0             NY             10016    $$     3.0            90   \n",
       "1             NY             11106    $$     4.5            76   \n",
       "2             NY             10314    $$     4.0            52   \n",
       "3             NY             11209     $     2.5            16   \n",
       "4             NY             11215    $$     4.0            15   \n",
       "\n",
       "                              clean_address           categories_clean  \n",
       "0           635 2nd Ave, New York, NY 10016                    italian  \n",
       "1          2507 Broadway, Astoria, NY 11106              italian,tapas  \n",
       "2  11C Holden Blvd, Staten Island, NY 10314                    chinese  \n",
       "3          8015 5th Ave, Brooklyn, NY 11209                    lounges  \n",
       "4           256 4th Ave, Brooklyn, NY 11215  beerbar,newamerican,vegan  "
      ]
     },
     "execution_count": 140,
     "metadata": {},
     "output_type": "execute_result"
    }
   ],
   "source": [
    "yelpDF.head()"
   ]
  },
  {
   "cell_type": "code",
   "execution_count": 141,
   "metadata": {
    "ExecuteTime": {
     "end_time": "2017-10-20T00:44:06.270546Z",
     "start_time": "2017-10-20T00:44:06.267081Z"
    },
    "collapsed": true
   },
   "outputs": [],
   "source": [
    "def return_dummies(col):\n",
    "    return col.str.get_dummies(sep=',')\n",
    "    "
   ]
  },
  {
   "cell_type": "code",
   "execution_count": 142,
   "metadata": {
    "ExecuteTime": {
     "end_time": "2017-10-20T00:44:12.030043Z",
     "start_time": "2017-10-20T00:44:06.894132Z"
    },
    "collapsed": true
   },
   "outputs": [],
   "source": [
    "catDF = return_dummies(yelpDF.categories_clean)"
   ]
  },
  {
   "cell_type": "code",
   "execution_count": 143,
   "metadata": {
    "ExecuteTime": {
     "end_time": "2017-10-20T00:44:12.296800Z",
     "start_time": "2017-10-20T00:44:12.032040Z"
    },
    "collapsed": true
   },
   "outputs": [],
   "source": [
    "priceDF = return_dummies(yelpDF.price)"
   ]
  },
  {
   "cell_type": "code",
   "execution_count": 144,
   "metadata": {
    "ExecuteTime": {
     "end_time": "2017-10-20T00:44:12.303206Z",
     "start_time": "2017-10-20T00:44:12.298346Z"
    }
   },
   "outputs": [
    {
     "data": {
      "text/plain": [
       "(23397, 396)"
      ]
     },
     "execution_count": 144,
     "metadata": {},
     "output_type": "execute_result"
    }
   ],
   "source": [
    "catDF.shape"
   ]
  },
  {
   "cell_type": "code",
   "execution_count": 145,
   "metadata": {
    "ExecuteTime": {
     "end_time": "2017-10-20T00:44:12.311504Z",
     "start_time": "2017-10-20T00:44:12.305569Z"
    }
   },
   "outputs": [
    {
     "data": {
      "text/plain": [
       "array(['$$', '$', '$$$', '$$$$'], dtype=object)"
      ]
     },
     "execution_count": 145,
     "metadata": {},
     "output_type": "execute_result"
    }
   ],
   "source": [
    "yelpDF.price.unique()"
   ]
  },
  {
   "cell_type": "code",
   "execution_count": 146,
   "metadata": {
    "ExecuteTime": {
     "end_time": "2017-10-20T00:44:12.317243Z",
     "start_time": "2017-10-20T00:44:12.313360Z"
    },
    "collapsed": true
   },
   "outputs": [],
   "source": [
    "priceDF = priceDF[priceDF.columns.tolist()[0:-1]]"
   ]
  },
  {
   "cell_type": "code",
   "execution_count": 147,
   "metadata": {
    "ExecuteTime": {
     "end_time": "2017-10-20T00:44:12.338963Z",
     "start_time": "2017-10-20T00:44:12.319167Z"
    },
    "collapsed": true
   },
   "outputs": [],
   "source": [
    "catDF = catDF[catDF.columns.tolist()[0:-1]]"
   ]
  },
  {
   "cell_type": "code",
   "execution_count": 148,
   "metadata": {
    "ExecuteTime": {
     "end_time": "2017-10-20T00:44:12.355806Z",
     "start_time": "2017-10-20T00:44:12.340856Z"
    },
    "collapsed": true
   },
   "outputs": [],
   "source": [
    "yelpDF = yelpDF.join(priceDF)"
   ]
  },
  {
   "cell_type": "code",
   "execution_count": 149,
   "metadata": {
    "ExecuteTime": {
     "end_time": "2017-10-20T00:44:12.393542Z",
     "start_time": "2017-10-20T00:44:12.358254Z"
    },
    "collapsed": true
   },
   "outputs": [],
   "source": [
    "yelpDF.drop(['categories_clean','price'],inplace=True,axis=1)"
   ]
  },
  {
   "cell_type": "code",
   "execution_count": 150,
   "metadata": {
    "ExecuteTime": {
     "end_time": "2017-10-20T00:44:12.514568Z",
     "start_time": "2017-10-20T00:44:12.494456Z"
    }
   },
   "outputs": [
    {
     "data": {
      "text/html": [
       "<div>\n",
       "<style>\n",
       "    .dataframe thead tr:only-child th {\n",
       "        text-align: right;\n",
       "    }\n",
       "\n",
       "    .dataframe thead th {\n",
       "        text-align: left;\n",
       "    }\n",
       "\n",
       "    .dataframe tbody tr th {\n",
       "        vertical-align: top;\n",
       "    }\n",
       "</style>\n",
       "<table border=\"1\" class=\"dataframe\">\n",
       "  <thead>\n",
       "    <tr style=\"text-align: right;\">\n",
       "      <th></th>\n",
       "      <th>business_id</th>\n",
       "      <th>business_name</th>\n",
       "      <th>coordinates.latitude</th>\n",
       "      <th>coordinates.longitude</th>\n",
       "      <th>is_closed</th>\n",
       "      <th>location.address1</th>\n",
       "      <th>location.address2</th>\n",
       "      <th>location.address3</th>\n",
       "      <th>location.city</th>\n",
       "      <th>location.country</th>\n",
       "      <th>location.state</th>\n",
       "      <th>location.zip_code</th>\n",
       "      <th>rating</th>\n",
       "      <th>review_count</th>\n",
       "      <th>clean_address</th>\n",
       "      <th>$</th>\n",
       "      <th>$$</th>\n",
       "      <th>$$$</th>\n",
       "    </tr>\n",
       "  </thead>\n",
       "  <tbody>\n",
       "    <tr>\n",
       "      <th>0</th>\n",
       "      <td>notaro-ristorante-new-york-2</td>\n",
       "      <td>Notaro Ristorante</td>\n",
       "      <td>40.745323</td>\n",
       "      <td>-73.975845</td>\n",
       "      <td>False</td>\n",
       "      <td>635 2nd Ave</td>\n",
       "      <td></td>\n",
       "      <td></td>\n",
       "      <td>New York</td>\n",
       "      <td>US</td>\n",
       "      <td>NY</td>\n",
       "      <td>10016</td>\n",
       "      <td>3.0</td>\n",
       "      <td>90</td>\n",
       "      <td>635 2nd Ave, New York, NY 10016</td>\n",
       "      <td>0</td>\n",
       "      <td>1</td>\n",
       "      <td>0</td>\n",
       "    </tr>\n",
       "    <tr>\n",
       "      <th>1</th>\n",
       "      <td>vite-bar-astoria</td>\n",
       "      <td>Vite Bar</td>\n",
       "      <td>40.763414</td>\n",
       "      <td>-73.928119</td>\n",
       "      <td>False</td>\n",
       "      <td>2507 Broadway</td>\n",
       "      <td></td>\n",
       "      <td></td>\n",
       "      <td>Astoria</td>\n",
       "      <td>US</td>\n",
       "      <td>NY</td>\n",
       "      <td>11106</td>\n",
       "      <td>4.5</td>\n",
       "      <td>76</td>\n",
       "      <td>2507 Broadway, Astoria, NY 11106</td>\n",
       "      <td>0</td>\n",
       "      <td>1</td>\n",
       "      <td>0</td>\n",
       "    </tr>\n",
       "    <tr>\n",
       "      <th>2</th>\n",
       "      <td>tacks-chinese-take-out-staten-island</td>\n",
       "      <td>Tack's Chinese Take Out</td>\n",
       "      <td>40.604620</td>\n",
       "      <td>-74.121230</td>\n",
       "      <td>False</td>\n",
       "      <td>11C Holden Blvd</td>\n",
       "      <td></td>\n",
       "      <td></td>\n",
       "      <td>Staten Island</td>\n",
       "      <td>US</td>\n",
       "      <td>NY</td>\n",
       "      <td>10314</td>\n",
       "      <td>4.0</td>\n",
       "      <td>52</td>\n",
       "      <td>11C Holden Blvd, Staten Island, NY 10314</td>\n",
       "      <td>0</td>\n",
       "      <td>1</td>\n",
       "      <td>0</td>\n",
       "    </tr>\n",
       "    <tr>\n",
       "      <th>3</th>\n",
       "      <td>no-quarter-brooklyn</td>\n",
       "      <td>No Quarter</td>\n",
       "      <td>40.625198</td>\n",
       "      <td>-74.024025</td>\n",
       "      <td>False</td>\n",
       "      <td>8015 5th Ave</td>\n",
       "      <td></td>\n",
       "      <td></td>\n",
       "      <td>Brooklyn</td>\n",
       "      <td>US</td>\n",
       "      <td>NY</td>\n",
       "      <td>11209</td>\n",
       "      <td>2.5</td>\n",
       "      <td>16</td>\n",
       "      <td>8015 5th Ave, Brooklyn, NY 11209</td>\n",
       "      <td>1</td>\n",
       "      <td>0</td>\n",
       "      <td>0</td>\n",
       "    </tr>\n",
       "    <tr>\n",
       "      <th>4</th>\n",
       "      <td>henris-backyard-brooklyn</td>\n",
       "      <td>HENRI's Backyard</td>\n",
       "      <td>40.676470</td>\n",
       "      <td>-73.983940</td>\n",
       "      <td>True</td>\n",
       "      <td>256 4th Ave</td>\n",
       "      <td>None</td>\n",
       "      <td></td>\n",
       "      <td>Brooklyn</td>\n",
       "      <td>US</td>\n",
       "      <td>NY</td>\n",
       "      <td>11215</td>\n",
       "      <td>4.0</td>\n",
       "      <td>15</td>\n",
       "      <td>256 4th Ave, Brooklyn, NY 11215</td>\n",
       "      <td>0</td>\n",
       "      <td>1</td>\n",
       "      <td>0</td>\n",
       "    </tr>\n",
       "  </tbody>\n",
       "</table>\n",
       "</div>"
      ],
      "text/plain": [
       "                            business_id            business_name  \\\n",
       "0          notaro-ristorante-new-york-2        Notaro Ristorante   \n",
       "1                      vite-bar-astoria                 Vite Bar   \n",
       "2  tacks-chinese-take-out-staten-island  Tack's Chinese Take Out   \n",
       "3                   no-quarter-brooklyn               No Quarter   \n",
       "4              henris-backyard-brooklyn         HENRI's Backyard   \n",
       "\n",
       "   coordinates.latitude  coordinates.longitude  is_closed location.address1  \\\n",
       "0             40.745323             -73.975845      False       635 2nd Ave   \n",
       "1             40.763414             -73.928119      False     2507 Broadway   \n",
       "2             40.604620             -74.121230      False   11C Holden Blvd   \n",
       "3             40.625198             -74.024025      False      8015 5th Ave   \n",
       "4             40.676470             -73.983940       True       256 4th Ave   \n",
       "\n",
       "  location.address2 location.address3  location.city location.country  \\\n",
       "0                                           New York               US   \n",
       "1                                            Astoria               US   \n",
       "2                                      Staten Island               US   \n",
       "3                                           Brooklyn               US   \n",
       "4              None                         Brooklyn               US   \n",
       "\n",
       "  location.state location.zip_code  rating  review_count  \\\n",
       "0             NY             10016     3.0            90   \n",
       "1             NY             11106     4.5            76   \n",
       "2             NY             10314     4.0            52   \n",
       "3             NY             11209     2.5            16   \n",
       "4             NY             11215     4.0            15   \n",
       "\n",
       "                              clean_address  $  $$  $$$  \n",
       "0           635 2nd Ave, New York, NY 10016  0   1    0  \n",
       "1          2507 Broadway, Astoria, NY 11106  0   1    0  \n",
       "2  11C Holden Blvd, Staten Island, NY 10314  0   1    0  \n",
       "3          8015 5th Ave, Brooklyn, NY 11209  1   0    0  \n",
       "4           256 4th Ave, Brooklyn, NY 11215  0   1    0  "
      ]
     },
     "execution_count": 150,
     "metadata": {},
     "output_type": "execute_result"
    }
   ],
   "source": [
    "yelpDF.head()"
   ]
  },
  {
   "cell_type": "code",
   "execution_count": 151,
   "metadata": {
    "ExecuteTime": {
     "end_time": "2017-10-20T00:44:14.793778Z",
     "start_time": "2017-10-20T00:44:14.782284Z"
    }
   },
   "outputs": [
    {
     "data": {
      "text/plain": [
       "9         False\n",
       "12        False\n",
       "16        False\n",
       "17        False\n",
       "22        False\n",
       "26        False\n",
       "27        False\n",
       "29        False\n",
       "30        False\n",
       "34        False\n",
       "39        False\n",
       "40        False\n",
       "42        False\n",
       "50        False\n",
       "57        False\n",
       "58        False\n",
       "60        False\n",
       "67        False\n",
       "69        False\n",
       "72        False\n",
       "73        False\n",
       "74        False\n",
       "76        False\n",
       "78        False\n",
       "81        False\n",
       "83        False\n",
       "85        False\n",
       "87        False\n",
       "91        False\n",
       "92        False\n",
       "          ...  \n",
       "385866    False\n",
       "386209    False\n",
       "386399    False\n",
       "386533     True\n",
       "386558    False\n",
       "387261    False\n",
       "387970     True\n",
       "388422    False\n",
       "388591    False\n",
       "388960    False\n",
       "389001     True\n",
       "389896    False\n",
       "389917    False\n",
       "390586    False\n",
       "390908    False\n",
       "391854    False\n",
       "392787    False\n",
       "393169     True\n",
       "394474     True\n",
       "394893    False\n",
       "395304     True\n",
       "395731     True\n",
       "396031    False\n",
       "396906    False\n",
       "397332    False\n",
       "398071     True\n",
       "398388     True\n",
       "398908    False\n",
       "399453    False\n",
       "399608    False\n",
       "Length: 22316, dtype: bool"
      ]
     },
     "execution_count": 151,
     "metadata": {},
     "output_type": "execute_result"
    }
   ],
   "source": [
    "uniqueDF.duplicated(subset=['name'],keep='first')"
   ]
  },
  {
   "cell_type": "code",
   "execution_count": 152,
   "metadata": {
    "ExecuteTime": {
     "end_time": "2017-10-20T00:44:15.269049Z",
     "start_time": "2017-10-20T00:44:15.264501Z"
    }
   },
   "outputs": [
    {
     "data": {
      "text/plain": [
       "(23397, 18)"
      ]
     },
     "execution_count": 152,
     "metadata": {},
     "output_type": "execute_result"
    }
   ],
   "source": [
    "yelpDF.shape"
   ]
  },
  {
   "cell_type": "code",
   "execution_count": 153,
   "metadata": {
    "ExecuteTime": {
     "end_time": "2017-10-20T00:44:17.643873Z",
     "start_time": "2017-10-20T00:44:17.622770Z"
    }
   },
   "outputs": [
    {
     "data": {
      "text/html": [
       "<div>\n",
       "<style>\n",
       "    .dataframe thead tr:only-child th {\n",
       "        text-align: right;\n",
       "    }\n",
       "\n",
       "    .dataframe thead th {\n",
       "        text-align: left;\n",
       "    }\n",
       "\n",
       "    .dataframe tbody tr th {\n",
       "        vertical-align: top;\n",
       "    }\n",
       "</style>\n",
       "<table border=\"1\" class=\"dataframe\">\n",
       "  <thead>\n",
       "    <tr style=\"text-align: right;\">\n",
       "      <th></th>\n",
       "      <th>business_id</th>\n",
       "      <th>business_name</th>\n",
       "      <th>coordinates.latitude</th>\n",
       "      <th>coordinates.longitude</th>\n",
       "      <th>is_closed</th>\n",
       "      <th>location.address1</th>\n",
       "      <th>location.address2</th>\n",
       "      <th>location.address3</th>\n",
       "      <th>location.city</th>\n",
       "      <th>location.country</th>\n",
       "      <th>location.state</th>\n",
       "      <th>location.zip_code</th>\n",
       "      <th>rating</th>\n",
       "      <th>review_count</th>\n",
       "      <th>clean_address</th>\n",
       "      <th>$</th>\n",
       "      <th>$$</th>\n",
       "      <th>$$$</th>\n",
       "    </tr>\n",
       "  </thead>\n",
       "  <tbody>\n",
       "    <tr>\n",
       "      <th>0</th>\n",
       "      <td>notaro-ristorante-new-york-2</td>\n",
       "      <td>Notaro Ristorante</td>\n",
       "      <td>40.745323</td>\n",
       "      <td>-73.975845</td>\n",
       "      <td>False</td>\n",
       "      <td>635 2nd Ave</td>\n",
       "      <td></td>\n",
       "      <td></td>\n",
       "      <td>New York</td>\n",
       "      <td>US</td>\n",
       "      <td>NY</td>\n",
       "      <td>10016</td>\n",
       "      <td>3.0</td>\n",
       "      <td>90</td>\n",
       "      <td>635 2nd Ave, New York, NY 10016</td>\n",
       "      <td>0</td>\n",
       "      <td>1</td>\n",
       "      <td>0</td>\n",
       "    </tr>\n",
       "    <tr>\n",
       "      <th>1</th>\n",
       "      <td>vite-bar-astoria</td>\n",
       "      <td>Vite Bar</td>\n",
       "      <td>40.763414</td>\n",
       "      <td>-73.928119</td>\n",
       "      <td>False</td>\n",
       "      <td>2507 Broadway</td>\n",
       "      <td></td>\n",
       "      <td></td>\n",
       "      <td>Astoria</td>\n",
       "      <td>US</td>\n",
       "      <td>NY</td>\n",
       "      <td>11106</td>\n",
       "      <td>4.5</td>\n",
       "      <td>76</td>\n",
       "      <td>2507 Broadway, Astoria, NY 11106</td>\n",
       "      <td>0</td>\n",
       "      <td>1</td>\n",
       "      <td>0</td>\n",
       "    </tr>\n",
       "    <tr>\n",
       "      <th>2</th>\n",
       "      <td>tacks-chinese-take-out-staten-island</td>\n",
       "      <td>Tack's Chinese Take Out</td>\n",
       "      <td>40.604620</td>\n",
       "      <td>-74.121230</td>\n",
       "      <td>False</td>\n",
       "      <td>11C Holden Blvd</td>\n",
       "      <td></td>\n",
       "      <td></td>\n",
       "      <td>Staten Island</td>\n",
       "      <td>US</td>\n",
       "      <td>NY</td>\n",
       "      <td>10314</td>\n",
       "      <td>4.0</td>\n",
       "      <td>52</td>\n",
       "      <td>11C Holden Blvd, Staten Island, NY 10314</td>\n",
       "      <td>0</td>\n",
       "      <td>1</td>\n",
       "      <td>0</td>\n",
       "    </tr>\n",
       "    <tr>\n",
       "      <th>3</th>\n",
       "      <td>no-quarter-brooklyn</td>\n",
       "      <td>No Quarter</td>\n",
       "      <td>40.625198</td>\n",
       "      <td>-74.024025</td>\n",
       "      <td>False</td>\n",
       "      <td>8015 5th Ave</td>\n",
       "      <td></td>\n",
       "      <td></td>\n",
       "      <td>Brooklyn</td>\n",
       "      <td>US</td>\n",
       "      <td>NY</td>\n",
       "      <td>11209</td>\n",
       "      <td>2.5</td>\n",
       "      <td>16</td>\n",
       "      <td>8015 5th Ave, Brooklyn, NY 11209</td>\n",
       "      <td>1</td>\n",
       "      <td>0</td>\n",
       "      <td>0</td>\n",
       "    </tr>\n",
       "    <tr>\n",
       "      <th>4</th>\n",
       "      <td>henris-backyard-brooklyn</td>\n",
       "      <td>HENRI's Backyard</td>\n",
       "      <td>40.676470</td>\n",
       "      <td>-73.983940</td>\n",
       "      <td>True</td>\n",
       "      <td>256 4th Ave</td>\n",
       "      <td>None</td>\n",
       "      <td></td>\n",
       "      <td>Brooklyn</td>\n",
       "      <td>US</td>\n",
       "      <td>NY</td>\n",
       "      <td>11215</td>\n",
       "      <td>4.0</td>\n",
       "      <td>15</td>\n",
       "      <td>256 4th Ave, Brooklyn, NY 11215</td>\n",
       "      <td>0</td>\n",
       "      <td>1</td>\n",
       "      <td>0</td>\n",
       "    </tr>\n",
       "  </tbody>\n",
       "</table>\n",
       "</div>"
      ],
      "text/plain": [
       "                            business_id            business_name  \\\n",
       "0          notaro-ristorante-new-york-2        Notaro Ristorante   \n",
       "1                      vite-bar-astoria                 Vite Bar   \n",
       "2  tacks-chinese-take-out-staten-island  Tack's Chinese Take Out   \n",
       "3                   no-quarter-brooklyn               No Quarter   \n",
       "4              henris-backyard-brooklyn         HENRI's Backyard   \n",
       "\n",
       "   coordinates.latitude  coordinates.longitude  is_closed location.address1  \\\n",
       "0             40.745323             -73.975845      False       635 2nd Ave   \n",
       "1             40.763414             -73.928119      False     2507 Broadway   \n",
       "2             40.604620             -74.121230      False   11C Holden Blvd   \n",
       "3             40.625198             -74.024025      False      8015 5th Ave   \n",
       "4             40.676470             -73.983940       True       256 4th Ave   \n",
       "\n",
       "  location.address2 location.address3  location.city location.country  \\\n",
       "0                                           New York               US   \n",
       "1                                            Astoria               US   \n",
       "2                                      Staten Island               US   \n",
       "3                                           Brooklyn               US   \n",
       "4              None                         Brooklyn               US   \n",
       "\n",
       "  location.state location.zip_code  rating  review_count  \\\n",
       "0             NY             10016     3.0            90   \n",
       "1             NY             11106     4.5            76   \n",
       "2             NY             10314     4.0            52   \n",
       "3             NY             11209     2.5            16   \n",
       "4             NY             11215     4.0            15   \n",
       "\n",
       "                              clean_address  $  $$  $$$  \n",
       "0           635 2nd Ave, New York, NY 10016  0   1    0  \n",
       "1          2507 Broadway, Astoria, NY 11106  0   1    0  \n",
       "2  11C Holden Blvd, Staten Island, NY 10314  0   1    0  \n",
       "3          8015 5th Ave, Brooklyn, NY 11209  1   0    0  \n",
       "4           256 4th Ave, Brooklyn, NY 11215  0   1    0  "
      ]
     },
     "execution_count": 153,
     "metadata": {},
     "output_type": "execute_result"
    }
   ],
   "source": [
    "yelpDF.head()"
   ]
  },
  {
   "cell_type": "code",
   "execution_count": 154,
   "metadata": {
    "ExecuteTime": {
     "end_time": "2017-10-20T00:44:31.068438Z",
     "start_time": "2017-10-20T00:44:31.056588Z"
    },
    "collapsed": true
   },
   "outputs": [],
   "source": [
    "yelpDF['match'] = yelpDF['business_name'] +';'+ yelpDF['clean_address']"
   ]
  },
  {
   "cell_type": "markdown",
   "metadata": {},
   "source": [
    "Remove columns without grade"
   ]
  },
  {
   "cell_type": "code",
   "execution_count": 63,
   "metadata": {
    "ExecuteTime": {
     "end_time": "2017-10-18T22:53:22.911177Z",
     "start_time": "2017-10-18T22:53:22.907288Z"
    },
    "collapsed": true
   },
   "outputs": [],
   "source": [
    "#uniqueDF = uniqueDF.dropna(subset=['grade'],axis=0)"
   ]
  },
  {
   "cell_type": "code",
   "execution_count": 155,
   "metadata": {
    "ExecuteTime": {
     "end_time": "2017-10-20T00:44:40.653972Z",
     "start_time": "2017-10-20T00:44:40.641518Z"
    }
   },
   "outputs": [],
   "source": [
    "uniqueDF['match'] = uniqueDF['name'] +';'+uniqueDF['address']"
   ]
  },
  {
   "cell_type": "code",
   "execution_count": 156,
   "metadata": {
    "ExecuteTime": {
     "end_time": "2017-10-20T00:44:42.690099Z",
     "start_time": "2017-10-20T00:44:42.655476Z"
    }
   },
   "outputs": [
    {
     "data": {
      "text/html": [
       "<div>\n",
       "<style>\n",
       "    .dataframe thead tr:only-child th {\n",
       "        text-align: right;\n",
       "    }\n",
       "\n",
       "    .dataframe thead th {\n",
       "        text-align: left;\n",
       "    }\n",
       "\n",
       "    .dataframe tbody tr th {\n",
       "        vertical-align: top;\n",
       "    }\n",
       "</style>\n",
       "<table border=\"1\" class=\"dataframe\">\n",
       "  <thead>\n",
       "    <tr style=\"text-align: right;\">\n",
       "      <th></th>\n",
       "      <th>business_id</th>\n",
       "      <th>business_name</th>\n",
       "      <th>coordinates.latitude</th>\n",
       "      <th>coordinates.longitude</th>\n",
       "      <th>is_closed</th>\n",
       "      <th>location.address1</th>\n",
       "      <th>location.address2</th>\n",
       "      <th>location.address3</th>\n",
       "      <th>location.city</th>\n",
       "      <th>location.country</th>\n",
       "      <th>location.state</th>\n",
       "      <th>location.zip_code</th>\n",
       "      <th>rating</th>\n",
       "      <th>review_count</th>\n",
       "      <th>clean_address</th>\n",
       "      <th>$</th>\n",
       "      <th>$$</th>\n",
       "      <th>$$$</th>\n",
       "      <th>match</th>\n",
       "    </tr>\n",
       "  </thead>\n",
       "  <tbody>\n",
       "    <tr>\n",
       "      <th>0</th>\n",
       "      <td>notaro-ristorante-new-york-2</td>\n",
       "      <td>Notaro Ristorante</td>\n",
       "      <td>40.745323</td>\n",
       "      <td>-73.975845</td>\n",
       "      <td>False</td>\n",
       "      <td>635 2nd Ave</td>\n",
       "      <td></td>\n",
       "      <td></td>\n",
       "      <td>New York</td>\n",
       "      <td>US</td>\n",
       "      <td>NY</td>\n",
       "      <td>10016</td>\n",
       "      <td>3.0</td>\n",
       "      <td>90</td>\n",
       "      <td>635 2nd Ave, New York, NY 10016</td>\n",
       "      <td>0</td>\n",
       "      <td>1</td>\n",
       "      <td>0</td>\n",
       "      <td>Notaro Ristorante;635 2nd Ave, New York, NY 10016</td>\n",
       "    </tr>\n",
       "    <tr>\n",
       "      <th>1</th>\n",
       "      <td>vite-bar-astoria</td>\n",
       "      <td>Vite Bar</td>\n",
       "      <td>40.763414</td>\n",
       "      <td>-73.928119</td>\n",
       "      <td>False</td>\n",
       "      <td>2507 Broadway</td>\n",
       "      <td></td>\n",
       "      <td></td>\n",
       "      <td>Astoria</td>\n",
       "      <td>US</td>\n",
       "      <td>NY</td>\n",
       "      <td>11106</td>\n",
       "      <td>4.5</td>\n",
       "      <td>76</td>\n",
       "      <td>2507 Broadway, Astoria, NY 11106</td>\n",
       "      <td>0</td>\n",
       "      <td>1</td>\n",
       "      <td>0</td>\n",
       "      <td>Vite Bar;2507 Broadway, Astoria, NY 11106</td>\n",
       "    </tr>\n",
       "    <tr>\n",
       "      <th>2</th>\n",
       "      <td>tacks-chinese-take-out-staten-island</td>\n",
       "      <td>Tack's Chinese Take Out</td>\n",
       "      <td>40.604620</td>\n",
       "      <td>-74.121230</td>\n",
       "      <td>False</td>\n",
       "      <td>11C Holden Blvd</td>\n",
       "      <td></td>\n",
       "      <td></td>\n",
       "      <td>Staten Island</td>\n",
       "      <td>US</td>\n",
       "      <td>NY</td>\n",
       "      <td>10314</td>\n",
       "      <td>4.0</td>\n",
       "      <td>52</td>\n",
       "      <td>11C Holden Blvd, Staten Island, NY 10314</td>\n",
       "      <td>0</td>\n",
       "      <td>1</td>\n",
       "      <td>0</td>\n",
       "      <td>Tack's Chinese Take Out;11C Holden Blvd, State...</td>\n",
       "    </tr>\n",
       "    <tr>\n",
       "      <th>3</th>\n",
       "      <td>no-quarter-brooklyn</td>\n",
       "      <td>No Quarter</td>\n",
       "      <td>40.625198</td>\n",
       "      <td>-74.024025</td>\n",
       "      <td>False</td>\n",
       "      <td>8015 5th Ave</td>\n",
       "      <td></td>\n",
       "      <td></td>\n",
       "      <td>Brooklyn</td>\n",
       "      <td>US</td>\n",
       "      <td>NY</td>\n",
       "      <td>11209</td>\n",
       "      <td>2.5</td>\n",
       "      <td>16</td>\n",
       "      <td>8015 5th Ave, Brooklyn, NY 11209</td>\n",
       "      <td>1</td>\n",
       "      <td>0</td>\n",
       "      <td>0</td>\n",
       "      <td>No Quarter;8015 5th Ave, Brooklyn, NY 11209</td>\n",
       "    </tr>\n",
       "    <tr>\n",
       "      <th>4</th>\n",
       "      <td>henris-backyard-brooklyn</td>\n",
       "      <td>HENRI's Backyard</td>\n",
       "      <td>40.676470</td>\n",
       "      <td>-73.983940</td>\n",
       "      <td>True</td>\n",
       "      <td>256 4th Ave</td>\n",
       "      <td>None</td>\n",
       "      <td></td>\n",
       "      <td>Brooklyn</td>\n",
       "      <td>US</td>\n",
       "      <td>NY</td>\n",
       "      <td>11215</td>\n",
       "      <td>4.0</td>\n",
       "      <td>15</td>\n",
       "      <td>256 4th Ave, Brooklyn, NY 11215</td>\n",
       "      <td>0</td>\n",
       "      <td>1</td>\n",
       "      <td>0</td>\n",
       "      <td>HENRI's Backyard;256 4th Ave, Brooklyn, NY 11215</td>\n",
       "    </tr>\n",
       "  </tbody>\n",
       "</table>\n",
       "</div>"
      ],
      "text/plain": [
       "                            business_id            business_name  \\\n",
       "0          notaro-ristorante-new-york-2        Notaro Ristorante   \n",
       "1                      vite-bar-astoria                 Vite Bar   \n",
       "2  tacks-chinese-take-out-staten-island  Tack's Chinese Take Out   \n",
       "3                   no-quarter-brooklyn               No Quarter   \n",
       "4              henris-backyard-brooklyn         HENRI's Backyard   \n",
       "\n",
       "   coordinates.latitude  coordinates.longitude  is_closed location.address1  \\\n",
       "0             40.745323             -73.975845      False       635 2nd Ave   \n",
       "1             40.763414             -73.928119      False     2507 Broadway   \n",
       "2             40.604620             -74.121230      False   11C Holden Blvd   \n",
       "3             40.625198             -74.024025      False      8015 5th Ave   \n",
       "4             40.676470             -73.983940       True       256 4th Ave   \n",
       "\n",
       "  location.address2 location.address3  location.city location.country  \\\n",
       "0                                           New York               US   \n",
       "1                                            Astoria               US   \n",
       "2                                      Staten Island               US   \n",
       "3                                           Brooklyn               US   \n",
       "4              None                         Brooklyn               US   \n",
       "\n",
       "  location.state location.zip_code  rating  review_count  \\\n",
       "0             NY             10016     3.0            90   \n",
       "1             NY             11106     4.5            76   \n",
       "2             NY             10314     4.0            52   \n",
       "3             NY             11209     2.5            16   \n",
       "4             NY             11215     4.0            15   \n",
       "\n",
       "                              clean_address  $  $$  $$$  \\\n",
       "0           635 2nd Ave, New York, NY 10016  0   1    0   \n",
       "1          2507 Broadway, Astoria, NY 11106  0   1    0   \n",
       "2  11C Holden Blvd, Staten Island, NY 10314  0   1    0   \n",
       "3          8015 5th Ave, Brooklyn, NY 11209  1   0    0   \n",
       "4           256 4th Ave, Brooklyn, NY 11215  0   1    0   \n",
       "\n",
       "                                               match  \n",
       "0  Notaro Ristorante;635 2nd Ave, New York, NY 10016  \n",
       "1          Vite Bar;2507 Broadway, Astoria, NY 11106  \n",
       "2  Tack's Chinese Take Out;11C Holden Blvd, State...  \n",
       "3        No Quarter;8015 5th Ave, Brooklyn, NY 11209  \n",
       "4   HENRI's Backyard;256 4th Ave, Brooklyn, NY 11215  "
      ]
     },
     "execution_count": 156,
     "metadata": {},
     "output_type": "execute_result"
    }
   ],
   "source": [
    "yelpDF.head()"
   ]
  },
  {
   "cell_type": "code",
   "execution_count": 157,
   "metadata": {
    "ExecuteTime": {
     "end_time": "2017-10-20T00:44:48.059907Z",
     "start_time": "2017-10-20T00:44:48.037666Z"
    }
   },
   "outputs": [
    {
     "data": {
      "text/html": [
       "<div>\n",
       "<style>\n",
       "    .dataframe thead tr:only-child th {\n",
       "        text-align: right;\n",
       "    }\n",
       "\n",
       "    .dataframe thead th {\n",
       "        text-align: left;\n",
       "    }\n",
       "\n",
       "    .dataframe tbody tr th {\n",
       "        vertical-align: top;\n",
       "    }\n",
       "</style>\n",
       "<table border=\"1\" class=\"dataframe\">\n",
       "  <thead>\n",
       "    <tr style=\"text-align: right;\">\n",
       "      <th></th>\n",
       "      <th>camis</th>\n",
       "      <th>name</th>\n",
       "      <th>boro</th>\n",
       "      <th>building</th>\n",
       "      <th>street</th>\n",
       "      <th>zipcode</th>\n",
       "      <th>phone</th>\n",
       "      <th>cuisine_description</th>\n",
       "      <th>inspection_date</th>\n",
       "      <th>critical_flag</th>\n",
       "      <th>...</th>\n",
       "      <th>Southwestern</th>\n",
       "      <th>Spanish</th>\n",
       "      <th>Steak</th>\n",
       "      <th>Tapas</th>\n",
       "      <th>Tex-Mex</th>\n",
       "      <th>Thai</th>\n",
       "      <th>Turkish</th>\n",
       "      <th>Vegetarian</th>\n",
       "      <th>Vietnamese/Cambodian/Malaysia</th>\n",
       "      <th>match</th>\n",
       "    </tr>\n",
       "  </thead>\n",
       "  <tbody>\n",
       "    <tr>\n",
       "      <th>9</th>\n",
       "      <td>40376944</td>\n",
       "      <td>TOMOE SUSHI</td>\n",
       "      <td>MANHATTAN</td>\n",
       "      <td>172</td>\n",
       "      <td>THOMPSON STREET</td>\n",
       "      <td>10012</td>\n",
       "      <td>2127779346</td>\n",
       "      <td>Japanese</td>\n",
       "      <td>2015-10-06</td>\n",
       "      <td>Critical</td>\n",
       "      <td>...</td>\n",
       "      <td>0</td>\n",
       "      <td>0</td>\n",
       "      <td>0</td>\n",
       "      <td>0</td>\n",
       "      <td>0</td>\n",
       "      <td>0</td>\n",
       "      <td>0</td>\n",
       "      <td>0</td>\n",
       "      <td>0</td>\n",
       "      <td>TOMOE SUSHI;172 THOMPSON STREET MANHATTAN 10012</td>\n",
       "    </tr>\n",
       "    <tr>\n",
       "      <th>12</th>\n",
       "      <td>41701178</td>\n",
       "      <td>CRAB SPOT RESTAURANT</td>\n",
       "      <td>BROOKLYN</td>\n",
       "      <td>833</td>\n",
       "      <td>UNION STREET</td>\n",
       "      <td>11215</td>\n",
       "      <td>7186222722</td>\n",
       "      <td>Seafood</td>\n",
       "      <td>2016-07-28</td>\n",
       "      <td>Not Critical</td>\n",
       "      <td>...</td>\n",
       "      <td>0</td>\n",
       "      <td>0</td>\n",
       "      <td>0</td>\n",
       "      <td>0</td>\n",
       "      <td>0</td>\n",
       "      <td>0</td>\n",
       "      <td>0</td>\n",
       "      <td>0</td>\n",
       "      <td>0</td>\n",
       "      <td>CRAB SPOT RESTAURANT;833 UNION STREET BROOKLYN...</td>\n",
       "    </tr>\n",
       "    <tr>\n",
       "      <th>16</th>\n",
       "      <td>41552184</td>\n",
       "      <td>NOM WAH TEA/DIM SUM PALOR</td>\n",
       "      <td>MANHATTAN</td>\n",
       "      <td>13</td>\n",
       "      <td>DOYERS STREET</td>\n",
       "      <td>10013</td>\n",
       "      <td>2129626047</td>\n",
       "      <td>Chinese</td>\n",
       "      <td>2014-09-02</td>\n",
       "      <td>Critical</td>\n",
       "      <td>...</td>\n",
       "      <td>0</td>\n",
       "      <td>0</td>\n",
       "      <td>0</td>\n",
       "      <td>0</td>\n",
       "      <td>0</td>\n",
       "      <td>0</td>\n",
       "      <td>0</td>\n",
       "      <td>0</td>\n",
       "      <td>0</td>\n",
       "      <td>NOM WAH TEA/DIM SUM PALOR;13 DOYERS STREET MAN...</td>\n",
       "    </tr>\n",
       "    <tr>\n",
       "      <th>17</th>\n",
       "      <td>41696159</td>\n",
       "      <td>LUIGI'S PIZZA &amp; PASTA</td>\n",
       "      <td>BRONX</td>\n",
       "      <td>119</td>\n",
       "      <td>EAST MOUNT EDEN AVENUE</td>\n",
       "      <td>10452</td>\n",
       "      <td>7182941800</td>\n",
       "      <td>Pizza</td>\n",
       "      <td>2014-10-27</td>\n",
       "      <td>Not Critical</td>\n",
       "      <td>...</td>\n",
       "      <td>0</td>\n",
       "      <td>0</td>\n",
       "      <td>0</td>\n",
       "      <td>0</td>\n",
       "      <td>0</td>\n",
       "      <td>0</td>\n",
       "      <td>0</td>\n",
       "      <td>0</td>\n",
       "      <td>0</td>\n",
       "      <td>LUIGI'S PIZZA &amp; PASTA;119 EAST MOUNT EDEN AVEN...</td>\n",
       "    </tr>\n",
       "    <tr>\n",
       "      <th>22</th>\n",
       "      <td>41611667</td>\n",
       "      <td>SERVICE BAR 7</td>\n",
       "      <td>QUEENS</td>\n",
       "      <td>11000</td>\n",
       "      <td>ROCKAWAY BOULEVARD</td>\n",
       "      <td>11420</td>\n",
       "      <td>6465881074</td>\n",
       "      <td>American</td>\n",
       "      <td>2016-04-07</td>\n",
       "      <td>Not Critical</td>\n",
       "      <td>...</td>\n",
       "      <td>0</td>\n",
       "      <td>0</td>\n",
       "      <td>0</td>\n",
       "      <td>0</td>\n",
       "      <td>0</td>\n",
       "      <td>0</td>\n",
       "      <td>0</td>\n",
       "      <td>0</td>\n",
       "      <td>0</td>\n",
       "      <td>SERVICE BAR 7;11000 ROCKAWAY BOULEVARD QUEENS ...</td>\n",
       "    </tr>\n",
       "  </tbody>\n",
       "</table>\n",
       "<p>5 rows × 103 columns</p>\n",
       "</div>"
      ],
      "text/plain": [
       "       camis                       name       boro building  \\\n",
       "9   40376944                TOMOE SUSHI  MANHATTAN      172   \n",
       "12  41701178       CRAB SPOT RESTAURANT   BROOKLYN      833   \n",
       "16  41552184  NOM WAH TEA/DIM SUM PALOR  MANHATTAN       13   \n",
       "17  41696159      LUIGI'S PIZZA & PASTA      BRONX      119   \n",
       "22  41611667              SERVICE BAR 7     QUEENS    11000   \n",
       "\n",
       "                    street zipcode       phone cuisine_description  \\\n",
       "9          THOMPSON STREET   10012  2127779346            Japanese   \n",
       "12            UNION STREET   11215  7186222722             Seafood   \n",
       "16           DOYERS STREET   10013  2129626047             Chinese   \n",
       "17  EAST MOUNT EDEN AVENUE   10452  7182941800               Pizza   \n",
       "22      ROCKAWAY BOULEVARD   11420  6465881074            American   \n",
       "\n",
       "   inspection_date critical_flag  \\\n",
       "9       2015-10-06      Critical   \n",
       "12      2016-07-28  Not Critical   \n",
       "16      2014-09-02      Critical   \n",
       "17      2014-10-27  Not Critical   \n",
       "22      2016-04-07  Not Critical   \n",
       "\n",
       "                          ...                          Southwestern Spanish  \\\n",
       "9                         ...                                     0       0   \n",
       "12                        ...                                     0       0   \n",
       "16                        ...                                     0       0   \n",
       "17                        ...                                     0       0   \n",
       "22                        ...                                     0       0   \n",
       "\n",
       "   Steak Tapas Tex-Mex Thai  Turkish Vegetarian  \\\n",
       "9      0     0       0    0        0          0   \n",
       "12     0     0       0    0        0          0   \n",
       "16     0     0       0    0        0          0   \n",
       "17     0     0       0    0        0          0   \n",
       "22     0     0       0    0        0          0   \n",
       "\n",
       "    Vietnamese/Cambodian/Malaysia  \\\n",
       "9                               0   \n",
       "12                              0   \n",
       "16                              0   \n",
       "17                              0   \n",
       "22                              0   \n",
       "\n",
       "                                                match  \n",
       "9     TOMOE SUSHI;172 THOMPSON STREET MANHATTAN 10012  \n",
       "12  CRAB SPOT RESTAURANT;833 UNION STREET BROOKLYN...  \n",
       "16  NOM WAH TEA/DIM SUM PALOR;13 DOYERS STREET MAN...  \n",
       "17  LUIGI'S PIZZA & PASTA;119 EAST MOUNT EDEN AVEN...  \n",
       "22  SERVICE BAR 7;11000 ROCKAWAY BOULEVARD QUEENS ...  \n",
       "\n",
       "[5 rows x 103 columns]"
      ]
     },
     "execution_count": 157,
     "metadata": {},
     "output_type": "execute_result"
    }
   ],
   "source": [
    "uniqueDF.head()"
   ]
  },
  {
   "cell_type": "code",
   "execution_count": 67,
   "metadata": {
    "ExecuteTime": {
     "end_time": "2017-10-19T14:50:40.538097Z",
     "start_time": "2017-10-19T14:50:40.532854Z"
    },
    "collapsed": true
   },
   "outputs": [],
   "source": [
    "# a = df2.title.map(lambda x: difflib.get_close_matches(x, box2.name))\n",
    "# df2['merge']= [e[0] if e else '' for e in a]\n",
    "# boxdf = pd.merge(left=df2,left_on='merge', right=box2,right_on='name')"
   ]
  },
  {
   "cell_type": "markdown",
   "metadata": {},
   "source": [
    "Test Merge Data (first 100 for each data frame)"
   ]
  },
  {
   "cell_type": "code",
   "execution_count": 68,
   "metadata": {
    "ExecuteTime": {
     "end_time": "2017-10-19T14:50:41.884804Z",
     "start_time": "2017-10-19T14:50:41.876486Z"
    },
    "collapsed": true
   },
   "outputs": [],
   "source": [
    "yelpTest = yelpDF.head(100)"
   ]
  },
  {
   "cell_type": "code",
   "execution_count": 69,
   "metadata": {
    "ExecuteTime": {
     "end_time": "2017-10-19T14:51:01.893107Z",
     "start_time": "2017-10-19T14:51:01.684892Z"
    }
   },
   "outputs": [
    {
     "name": "stderr",
     "output_type": "stream",
     "text": [
      "/Users/xavier/anaconda/lib/python3.6/site-packages/ipykernel_launcher.py:1: SettingWithCopyWarning: \n",
      "A value is trying to be set on a copy of a slice from a DataFrame.\n",
      "Try using .loc[row_indexer,col_indexer] = value instead\n",
      "\n",
      "See the caveats in the documentation: http://pandas.pydata.org/pandas-docs/stable/indexing.html#indexing-view-versus-copy\n",
      "  \"\"\"Entry point for launching an IPython kernel.\n",
      "/Users/xavier/anaconda/lib/python3.6/site-packages/ipykernel_launcher.py:2: SettingWithCopyWarning: \n",
      "A value is trying to be set on a copy of a slice from a DataFrame.\n",
      "Try using .loc[row_indexer,col_indexer] = value instead\n",
      "\n",
      "See the caveats in the documentation: http://pandas.pydata.org/pandas-docs/stable/indexing.html#indexing-view-versus-copy\n",
      "  \n"
     ]
    }
   ],
   "source": [
    "yelpTest['business_name'] = yelpTest.business_name.str.lower()\n",
    "yelpTest['match'] = yelpTest.match.str.lower()"
   ]
  },
  {
   "cell_type": "code",
   "execution_count": 70,
   "metadata": {
    "ExecuteTime": {
     "end_time": "2017-10-19T14:51:02.503837Z",
     "start_time": "2017-10-19T14:51:02.499082Z"
    },
    "collapsed": true
   },
   "outputs": [],
   "source": [
    "nycTest = uniqueDF.head(100)"
   ]
  },
  {
   "cell_type": "code",
   "execution_count": 71,
   "metadata": {
    "ExecuteTime": {
     "end_time": "2017-10-19T14:51:04.508723Z",
     "start_time": "2017-10-19T14:51:04.403113Z"
    }
   },
   "outputs": [
    {
     "name": "stderr",
     "output_type": "stream",
     "text": [
      "/Users/xavier/anaconda/lib/python3.6/site-packages/ipykernel_launcher.py:1: SettingWithCopyWarning: \n",
      "A value is trying to be set on a copy of a slice from a DataFrame.\n",
      "Try using .loc[row_indexer,col_indexer] = value instead\n",
      "\n",
      "See the caveats in the documentation: http://pandas.pydata.org/pandas-docs/stable/indexing.html#indexing-view-versus-copy\n",
      "  \"\"\"Entry point for launching an IPython kernel.\n"
     ]
    }
   ],
   "source": [
    "nycTest['match'] = nycTest.match.str.lower()"
   ]
  },
  {
   "cell_type": "code",
   "execution_count": 72,
   "metadata": {
    "ExecuteTime": {
     "end_time": "2017-10-19T14:51:11.829386Z",
     "start_time": "2017-10-19T14:51:11.824554Z"
    },
    "collapsed": true
   },
   "outputs": [],
   "source": [
    "# a = yelpTest.match.map(lambda x: difflib.get_close_matches(x, nycTest.match,cutoff=.7,))"
   ]
  },
  {
   "cell_type": "code",
   "execution_count": 73,
   "metadata": {
    "ExecuteTime": {
     "end_time": "2017-10-19T14:51:15.226269Z",
     "start_time": "2017-10-19T14:51:15.223014Z"
    },
    "collapsed": true
   },
   "outputs": [],
   "source": [
    "# yelpTest['merge'] = [e[0] if e else '' for e in a]"
   ]
  },
  {
   "cell_type": "code",
   "execution_count": 117,
   "metadata": {
    "ExecuteTime": {
     "end_time": "2017-10-18T23:17:42.095823Z",
     "start_time": "2017-10-18T23:17:42.090600Z"
    },
    "collapsed": true
   },
   "outputs": [],
   "source": [
    "#yelpTest.head(50)"
   ]
  },
  {
   "cell_type": "code",
   "execution_count": 74,
   "metadata": {
    "ExecuteTime": {
     "end_time": "2017-10-19T14:52:30.643681Z",
     "start_time": "2017-10-19T14:52:30.511618Z"
    }
   },
   "outputs": [
    {
     "name": "stderr",
     "output_type": "stream",
     "text": [
      "/Users/xavier/anaconda/lib/python3.6/site-packages/ipykernel_launcher.py:2: SettingWithCopyWarning: \n",
      "A value is trying to be set on a copy of a slice from a DataFrame.\n",
      "Try using .loc[row_indexer,col_indexer] = value instead\n",
      "\n",
      "See the caveats in the documentation: http://pandas.pydata.org/pandas-docs/stable/indexing.html#indexing-view-versus-copy\n",
      "  \n"
     ]
    }
   ],
   "source": [
    "yelpDF['match'] = yelpDF.match.str.lower()\n",
    "uniqueDF['match'] = uniqueDF.match.str.lower()"
   ]
  },
  {
   "cell_type": "code",
   "execution_count": 76,
   "metadata": {
    "ExecuteTime": {
     "end_time": "2017-10-19T20:28:04.434842Z",
     "start_time": "2017-10-19T20:28:04.429899Z"
    },
    "collapsed": true
   },
   "outputs": [],
   "source": [
    "# a = yelpDF.match.map(lambda x: difflib.get_close_matches(x, uniqueDF.match))"
   ]
  },
  {
   "cell_type": "code",
   "execution_count": 77,
   "metadata": {
    "ExecuteTime": {
     "end_time": "2017-10-19T20:28:24.080292Z",
     "start_time": "2017-10-19T20:28:24.065480Z"
    },
    "collapsed": true
   },
   "outputs": [],
   "source": [
    "yelp10k = yelpDF.head(10000)"
   ]
  },
  {
   "cell_type": "code",
   "execution_count": 83,
   "metadata": {
    "ExecuteTime": {
     "end_time": "2017-10-19T20:30:20.502421Z",
     "start_time": "2017-10-19T20:30:20.496606Z"
    }
   },
   "outputs": [
    {
     "data": {
      "text/plain": [
       "(10000, 19)"
      ]
     },
     "execution_count": 83,
     "metadata": {},
     "output_type": "execute_result"
    }
   ],
   "source": [
    "yelp10k.shape"
   ]
  },
  {
   "cell_type": "code",
   "execution_count": 80,
   "metadata": {
    "ExecuteTime": {
     "end_time": "2017-10-19T20:29:43.215137Z",
     "start_time": "2017-10-19T20:29:43.184537Z"
    },
    "collapsed": true
   },
   "outputs": [],
   "source": [
    "gradeDF = uniqueDF.dropna(subset=[\"grade\"],axis=0)"
   ]
  },
  {
   "cell_type": "code",
   "execution_count": 82,
   "metadata": {
    "ExecuteTime": {
     "end_time": "2017-10-19T20:29:51.756546Z",
     "start_time": "2017-10-19T20:29:51.750921Z"
    }
   },
   "outputs": [
    {
     "data": {
      "text/plain": [
       "(14985, 20)"
      ]
     },
     "execution_count": 82,
     "metadata": {},
     "output_type": "execute_result"
    }
   ],
   "source": [
    "gradeDF.shape"
   ]
  },
  {
   "cell_type": "code",
   "execution_count": 84,
   "metadata": {
    "ExecuteTime": {
     "end_time": "2017-10-19T21:16:34.015206Z",
     "start_time": "2017-10-19T20:31:16.049334Z"
    }
   },
   "outputs": [
    {
     "ename": "KeyboardInterrupt",
     "evalue": "",
     "output_type": "error",
     "traceback": [
      "\u001b[0;31m---------------------------------------------------------------------------\u001b[0m",
      "\u001b[0;31mKeyboardInterrupt\u001b[0m                         Traceback (most recent call last)",
      "\u001b[0;32m<ipython-input-84-fbd887908dd5>\u001b[0m in \u001b[0;36m<module>\u001b[0;34m()\u001b[0m\n\u001b[0;32m----> 1\u001b[0;31m \u001b[0ma\u001b[0m \u001b[0;34m=\u001b[0m \u001b[0myelp10k\u001b[0m\u001b[0;34m.\u001b[0m\u001b[0mmatch\u001b[0m\u001b[0;34m.\u001b[0m\u001b[0mmap\u001b[0m\u001b[0;34m(\u001b[0m\u001b[0;32mlambda\u001b[0m \u001b[0mx\u001b[0m\u001b[0;34m:\u001b[0m \u001b[0mdifflib\u001b[0m\u001b[0;34m.\u001b[0m\u001b[0mget_close_matches\u001b[0m\u001b[0;34m(\u001b[0m\u001b[0mx\u001b[0m\u001b[0;34m,\u001b[0m \u001b[0mgradeDF\u001b[0m\u001b[0;34m.\u001b[0m\u001b[0mmatch\u001b[0m\u001b[0;34m)\u001b[0m\u001b[0;34m)\u001b[0m\u001b[0;34m\u001b[0m\u001b[0m\n\u001b[0m",
      "\u001b[0;32m~/anaconda/lib/python3.6/site-packages/pandas/core/series.py\u001b[0m in \u001b[0;36mmap\u001b[0;34m(self, arg, na_action)\u001b[0m\n\u001b[1;32m   2156\u001b[0m         \u001b[0;32melse\u001b[0m\u001b[0;34m:\u001b[0m\u001b[0;34m\u001b[0m\u001b[0m\n\u001b[1;32m   2157\u001b[0m             \u001b[0;31m# arg is a function\u001b[0m\u001b[0;34m\u001b[0m\u001b[0;34m\u001b[0m\u001b[0m\n\u001b[0;32m-> 2158\u001b[0;31m             \u001b[0mnew_values\u001b[0m \u001b[0;34m=\u001b[0m \u001b[0mmap_f\u001b[0m\u001b[0;34m(\u001b[0m\u001b[0mvalues\u001b[0m\u001b[0;34m,\u001b[0m \u001b[0marg\u001b[0m\u001b[0;34m)\u001b[0m\u001b[0;34m\u001b[0m\u001b[0m\n\u001b[0m\u001b[1;32m   2159\u001b[0m \u001b[0;34m\u001b[0m\u001b[0m\n\u001b[1;32m   2160\u001b[0m         return self._constructor(new_values,\n",
      "\u001b[0;32mpandas/_libs/src/inference.pyx\u001b[0m in \u001b[0;36mpandas._libs.lib.map_infer\u001b[0;34m()\u001b[0m\n",
      "\u001b[0;32m<ipython-input-84-fbd887908dd5>\u001b[0m in \u001b[0;36m<lambda>\u001b[0;34m(x)\u001b[0m\n\u001b[0;32m----> 1\u001b[0;31m \u001b[0ma\u001b[0m \u001b[0;34m=\u001b[0m \u001b[0myelp10k\u001b[0m\u001b[0;34m.\u001b[0m\u001b[0mmatch\u001b[0m\u001b[0;34m.\u001b[0m\u001b[0mmap\u001b[0m\u001b[0;34m(\u001b[0m\u001b[0;32mlambda\u001b[0m \u001b[0mx\u001b[0m\u001b[0;34m:\u001b[0m \u001b[0mdifflib\u001b[0m\u001b[0;34m.\u001b[0m\u001b[0mget_close_matches\u001b[0m\u001b[0;34m(\u001b[0m\u001b[0mx\u001b[0m\u001b[0;34m,\u001b[0m \u001b[0mgradeDF\u001b[0m\u001b[0;34m.\u001b[0m\u001b[0mmatch\u001b[0m\u001b[0;34m)\u001b[0m\u001b[0;34m)\u001b[0m\u001b[0;34m\u001b[0m\u001b[0m\n\u001b[0m",
      "\u001b[0;32m~/anaconda/lib/python3.6/difflib.py\u001b[0m in \u001b[0;36mget_close_matches\u001b[0;34m(word, possibilities, n, cutoff)\u001b[0m\n\u001b[1;32m    726\u001b[0m         \u001b[0;32mif\u001b[0m \u001b[0ms\u001b[0m\u001b[0;34m.\u001b[0m\u001b[0mreal_quick_ratio\u001b[0m\u001b[0;34m(\u001b[0m\u001b[0;34m)\u001b[0m \u001b[0;34m>=\u001b[0m \u001b[0mcutoff\u001b[0m \u001b[0;32mand\u001b[0m\u001b[0;31m \u001b[0m\u001b[0;31m\\\u001b[0m\u001b[0;34m\u001b[0m\u001b[0m\n\u001b[1;32m    727\u001b[0m            \u001b[0ms\u001b[0m\u001b[0;34m.\u001b[0m\u001b[0mquick_ratio\u001b[0m\u001b[0;34m(\u001b[0m\u001b[0;34m)\u001b[0m \u001b[0;34m>=\u001b[0m \u001b[0mcutoff\u001b[0m \u001b[0;32mand\u001b[0m\u001b[0;31m \u001b[0m\u001b[0;31m\\\u001b[0m\u001b[0;34m\u001b[0m\u001b[0m\n\u001b[0;32m--> 728\u001b[0;31m            \u001b[0ms\u001b[0m\u001b[0;34m.\u001b[0m\u001b[0mratio\u001b[0m\u001b[0;34m(\u001b[0m\u001b[0;34m)\u001b[0m \u001b[0;34m>=\u001b[0m \u001b[0mcutoff\u001b[0m\u001b[0;34m:\u001b[0m\u001b[0;34m\u001b[0m\u001b[0m\n\u001b[0m\u001b[1;32m    729\u001b[0m             \u001b[0mresult\u001b[0m\u001b[0;34m.\u001b[0m\u001b[0mappend\u001b[0m\u001b[0;34m(\u001b[0m\u001b[0;34m(\u001b[0m\u001b[0ms\u001b[0m\u001b[0;34m.\u001b[0m\u001b[0mratio\u001b[0m\u001b[0;34m(\u001b[0m\u001b[0;34m)\u001b[0m\u001b[0;34m,\u001b[0m \u001b[0mx\u001b[0m\u001b[0;34m)\u001b[0m\u001b[0;34m)\u001b[0m\u001b[0;34m\u001b[0m\u001b[0m\n\u001b[1;32m    730\u001b[0m \u001b[0;34m\u001b[0m\u001b[0m\n",
      "\u001b[0;32m~/anaconda/lib/python3.6/difflib.py\u001b[0m in \u001b[0;36mratio\u001b[0;34m(self)\u001b[0m\n\u001b[1;32m    642\u001b[0m         \"\"\"\n\u001b[1;32m    643\u001b[0m \u001b[0;34m\u001b[0m\u001b[0m\n\u001b[0;32m--> 644\u001b[0;31m         \u001b[0mmatches\u001b[0m \u001b[0;34m=\u001b[0m \u001b[0msum\u001b[0m\u001b[0;34m(\u001b[0m\u001b[0mtriple\u001b[0m\u001b[0;34m[\u001b[0m\u001b[0;34m-\u001b[0m\u001b[0;36m1\u001b[0m\u001b[0;34m]\u001b[0m \u001b[0;32mfor\u001b[0m \u001b[0mtriple\u001b[0m \u001b[0;32min\u001b[0m \u001b[0mself\u001b[0m\u001b[0;34m.\u001b[0m\u001b[0mget_matching_blocks\u001b[0m\u001b[0;34m(\u001b[0m\u001b[0;34m)\u001b[0m\u001b[0;34m)\u001b[0m\u001b[0;34m\u001b[0m\u001b[0m\n\u001b[0m\u001b[1;32m    645\u001b[0m         \u001b[0;32mreturn\u001b[0m \u001b[0m_calculate_ratio\u001b[0m\u001b[0;34m(\u001b[0m\u001b[0mmatches\u001b[0m\u001b[0;34m,\u001b[0m \u001b[0mlen\u001b[0m\u001b[0;34m(\u001b[0m\u001b[0mself\u001b[0m\u001b[0;34m.\u001b[0m\u001b[0ma\u001b[0m\u001b[0;34m)\u001b[0m \u001b[0;34m+\u001b[0m \u001b[0mlen\u001b[0m\u001b[0;34m(\u001b[0m\u001b[0mself\u001b[0m\u001b[0;34m.\u001b[0m\u001b[0mb\u001b[0m\u001b[0;34m)\u001b[0m\u001b[0;34m)\u001b[0m\u001b[0;34m\u001b[0m\u001b[0m\n\u001b[1;32m    646\u001b[0m \u001b[0;34m\u001b[0m\u001b[0m\n",
      "\u001b[0;32m~/anaconda/lib/python3.6/difflib.py\u001b[0m in \u001b[0;36mget_matching_blocks\u001b[0;34m(self)\u001b[0m\n\u001b[1;32m    477\u001b[0m         \u001b[0;32mwhile\u001b[0m \u001b[0mqueue\u001b[0m\u001b[0;34m:\u001b[0m\u001b[0;34m\u001b[0m\u001b[0m\n\u001b[1;32m    478\u001b[0m             \u001b[0malo\u001b[0m\u001b[0;34m,\u001b[0m \u001b[0mahi\u001b[0m\u001b[0;34m,\u001b[0m \u001b[0mblo\u001b[0m\u001b[0;34m,\u001b[0m \u001b[0mbhi\u001b[0m \u001b[0;34m=\u001b[0m \u001b[0mqueue\u001b[0m\u001b[0;34m.\u001b[0m\u001b[0mpop\u001b[0m\u001b[0;34m(\u001b[0m\u001b[0;34m)\u001b[0m\u001b[0;34m\u001b[0m\u001b[0m\n\u001b[0;32m--> 479\u001b[0;31m             \u001b[0mi\u001b[0m\u001b[0;34m,\u001b[0m \u001b[0mj\u001b[0m\u001b[0;34m,\u001b[0m \u001b[0mk\u001b[0m \u001b[0;34m=\u001b[0m \u001b[0mx\u001b[0m \u001b[0;34m=\u001b[0m \u001b[0mself\u001b[0m\u001b[0;34m.\u001b[0m\u001b[0mfind_longest_match\u001b[0m\u001b[0;34m(\u001b[0m\u001b[0malo\u001b[0m\u001b[0;34m,\u001b[0m \u001b[0mahi\u001b[0m\u001b[0;34m,\u001b[0m \u001b[0mblo\u001b[0m\u001b[0;34m,\u001b[0m \u001b[0mbhi\u001b[0m\u001b[0;34m)\u001b[0m\u001b[0;34m\u001b[0m\u001b[0m\n\u001b[0m\u001b[1;32m    480\u001b[0m             \u001b[0;31m# a[alo:i] vs b[blo:j] unknown\u001b[0m\u001b[0;34m\u001b[0m\u001b[0;34m\u001b[0m\u001b[0m\n\u001b[1;32m    481\u001b[0m             \u001b[0;31m# a[i:i+k] same as b[j:j+k]\u001b[0m\u001b[0;34m\u001b[0m\u001b[0;34m\u001b[0m\u001b[0m\n",
      "\u001b[0;32m~/anaconda/lib/python3.6/difflib.py\u001b[0m in \u001b[0;36mfind_longest_match\u001b[0;34m(self, alo, ahi, blo, bhi)\u001b[0m\n\u001b[1;32m    408\u001b[0m                 \u001b[0;32mif\u001b[0m \u001b[0mj\u001b[0m \u001b[0;34m>=\u001b[0m \u001b[0mbhi\u001b[0m\u001b[0;34m:\u001b[0m\u001b[0;34m\u001b[0m\u001b[0m\n\u001b[1;32m    409\u001b[0m                     \u001b[0;32mbreak\u001b[0m\u001b[0;34m\u001b[0m\u001b[0m\n\u001b[0;32m--> 410\u001b[0;31m                 \u001b[0mk\u001b[0m \u001b[0;34m=\u001b[0m \u001b[0mnewj2len\u001b[0m\u001b[0;34m[\u001b[0m\u001b[0mj\u001b[0m\u001b[0;34m]\u001b[0m \u001b[0;34m=\u001b[0m \u001b[0mj2lenget\u001b[0m\u001b[0;34m(\u001b[0m\u001b[0mj\u001b[0m\u001b[0;34m-\u001b[0m\u001b[0;36m1\u001b[0m\u001b[0;34m,\u001b[0m \u001b[0;36m0\u001b[0m\u001b[0;34m)\u001b[0m \u001b[0;34m+\u001b[0m \u001b[0;36m1\u001b[0m\u001b[0;34m\u001b[0m\u001b[0m\n\u001b[0m\u001b[1;32m    411\u001b[0m                 \u001b[0;32mif\u001b[0m \u001b[0mk\u001b[0m \u001b[0;34m>\u001b[0m \u001b[0mbestsize\u001b[0m\u001b[0;34m:\u001b[0m\u001b[0;34m\u001b[0m\u001b[0m\n\u001b[1;32m    412\u001b[0m                     \u001b[0mbesti\u001b[0m\u001b[0;34m,\u001b[0m \u001b[0mbestj\u001b[0m\u001b[0;34m,\u001b[0m \u001b[0mbestsize\u001b[0m \u001b[0;34m=\u001b[0m \u001b[0mi\u001b[0m\u001b[0;34m-\u001b[0m\u001b[0mk\u001b[0m\u001b[0;34m+\u001b[0m\u001b[0;36m1\u001b[0m\u001b[0;34m,\u001b[0m \u001b[0mj\u001b[0m\u001b[0;34m-\u001b[0m\u001b[0mk\u001b[0m\u001b[0;34m+\u001b[0m\u001b[0;36m1\u001b[0m\u001b[0;34m,\u001b[0m \u001b[0mk\u001b[0m\u001b[0;34m\u001b[0m\u001b[0m\n",
      "\u001b[0;31mKeyboardInterrupt\u001b[0m: "
     ]
    }
   ],
   "source": [
    "a = yelp10k.match.map(lambda x: difflib.get_close_matches(x, gradeDF.match))"
   ]
  },
  {
   "cell_type": "code",
   "execution_count": null,
   "metadata": {
    "collapsed": true
   },
   "outputs": [],
   "source": [
    "yelp10k['merge'] = [e[0] if e else '' for e in a]"
   ]
  },
  {
   "cell_type": "code",
   "execution_count": 119,
   "metadata": {
    "ExecuteTime": {
     "end_time": "2017-10-18T23:17:42.888519Z",
     "start_time": "2017-10-18T23:17:42.885486Z"
    },
    "collapsed": true
   },
   "outputs": [],
   "source": [
    "# yelpDF['merge'] = [e[0] if e else '' for e in a]"
   ]
  },
  {
   "cell_type": "code",
   "execution_count": 120,
   "metadata": {
    "ExecuteTime": {
     "end_time": "2017-10-18T23:17:43.070462Z",
     "start_time": "2017-10-18T23:17:43.066519Z"
    },
    "collapsed": true
   },
   "outputs": [],
   "source": [
    "yelpDF.head(5)"
   ]
  },
  {
   "cell_type": "code",
   "execution_count": 133,
   "metadata": {
    "ExecuteTime": {
     "end_time": "2017-10-18T23:35:21.726154Z",
     "start_time": "2017-10-18T23:35:21.718791Z"
    },
    "collapsed": true
   },
   "outputs": [],
   "source": [
    "#mergeDF = yelpTest.merge(nycTest,left_on='merge',right_on='match')"
   ]
  },
  {
   "cell_type": "code",
   "execution_count": 134,
   "metadata": {
    "ExecuteTime": {
     "end_time": "2017-10-18T23:35:46.685501Z",
     "start_time": "2017-10-18T23:35:46.657107Z"
    },
    "collapsed": true
   },
   "outputs": [],
   "source": [
    "#mergeDF.to_csv('merge.csv')"
   ]
  },
  {
   "cell_type": "markdown",
   "metadata": {
    "collapsed": true
   },
   "source": [
    "Remove NYC Records without Grades\n",
    "Try with first 10k yelp records"
   ]
  }
 ],
 "metadata": {
  "kernelspec": {
   "display_name": "Python 3",
   "language": "python",
   "name": "python3"
  },
  "language_info": {
   "codemirror_mode": {
    "name": "ipython",
    "version": 3
   },
   "file_extension": ".py",
   "mimetype": "text/x-python",
   "name": "python",
   "nbconvert_exporter": "python",
   "pygments_lexer": "ipython3",
   "version": "3.6.2"
  }
 },
 "nbformat": 4,
 "nbformat_minor": 2
}
