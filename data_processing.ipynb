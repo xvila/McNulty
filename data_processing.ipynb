{
 "cells": [
  {
   "cell_type": "code",
   "execution_count": 1,
   "metadata": {
    "ExecuteTime": {
     "end_time": "2017-10-22T14:35:59.230930Z",
     "start_time": "2017-10-22T14:35:54.431972Z"
    },
    "collapsed": true
   },
   "outputs": [],
   "source": [
    "from __future__ import print_function\n",
    "\n",
    "import pandas as pd\n",
    "import numpy as np\n",
    "import json\n",
    "import difflib\n",
    "import pprint\n",
    "from sklearn.utils import resample\n",
    "\n",
    "%matplotlib inline\n",
    "import seaborn as sns\n",
    "import matplotlib.pyplot as plt\n",
    "plt.style.use('fivethirtyeight')\n",
    "sns.set_style('whitegrid')\n",
    "customFig = (10,8)\n"
   ]
  },
  {
   "cell_type": "code",
   "execution_count": 2,
   "metadata": {
    "ExecuteTime": {
     "end_time": "2017-10-22T14:36:00.865226Z",
     "start_time": "2017-10-22T14:35:59.234973Z"
    },
    "collapsed": true
   },
   "outputs": [],
   "source": [
    "df = pd.read_csv('data/nyc_inspection_results.csv')"
   ]
  },
  {
   "cell_type": "code",
   "execution_count": 3,
   "metadata": {
    "ExecuteTime": {
     "end_time": "2017-10-22T14:36:00.870812Z",
     "start_time": "2017-10-22T14:36:00.867234Z"
    },
    "collapsed": true
   },
   "outputs": [],
   "source": [
    "df.columns = map(str.lower, df.columns)"
   ]
  },
  {
   "cell_type": "code",
   "execution_count": 4,
   "metadata": {
    "ExecuteTime": {
     "end_time": "2017-10-22T14:36:00.876932Z",
     "start_time": "2017-10-22T14:36:00.872753Z"
    },
    "collapsed": true
   },
   "outputs": [],
   "source": [
    "df.columns = [x.strip().replace(' ', '_') for x in df.columns]"
   ]
  },
  {
   "cell_type": "code",
   "execution_count": 5,
   "metadata": {
    "ExecuteTime": {
     "end_time": "2017-10-22T14:36:01.169625Z",
     "start_time": "2017-10-22T14:36:00.879136Z"
    },
    "collapsed": true
   },
   "outputs": [],
   "source": [
    "df['zipcode'] = df.zipcode.astype(str)"
   ]
  },
  {
   "cell_type": "code",
   "execution_count": 6,
   "metadata": {
    "ExecuteTime": {
     "end_time": "2017-10-22T14:36:01.306932Z",
     "start_time": "2017-10-22T14:36:01.171131Z"
    },
    "collapsed": true
   },
   "outputs": [],
   "source": [
    "df['zipcode'] = df['zipcode'].str.slice(0,5)"
   ]
  },
  {
   "cell_type": "code",
   "execution_count": 7,
   "metadata": {
    "ExecuteTime": {
     "end_time": "2017-10-22T14:36:01.775844Z",
     "start_time": "2017-10-22T14:36:01.310795Z"
    },
    "collapsed": true
   },
   "outputs": [],
   "source": [
    "df['address'] = df.building + ' ' + df.street + ' ' + df.boro + ' ' + df.zipcode"
   ]
  },
  {
   "cell_type": "code",
   "execution_count": 8,
   "metadata": {
    "ExecuteTime": {
     "end_time": "2017-10-22T14:36:02.191329Z",
     "start_time": "2017-10-22T14:36:01.777907Z"
    }
   },
   "outputs": [
    {
     "name": "stdout",
     "output_type": "stream",
     "text": [
      "<class 'pandas.core.frame.DataFrame'>\n",
      "RangeIndex: 399918 entries, 0 to 399917\n",
      "Data columns (total 19 columns):\n",
      "camis                    399918 non-null int64\n",
      "dba                      399559 non-null object\n",
      "boro                     399918 non-null object\n",
      "building                 399809 non-null object\n",
      "street                   399909 non-null object\n",
      "zipcode                  399918 non-null object\n",
      "phone                    399913 non-null object\n",
      "cuisine_description      399918 non-null object\n",
      "inspection_date          399918 non-null object\n",
      "action                   398783 non-null object\n",
      "violation_code           393414 non-null object\n",
      "violation_description    392939 non-null object\n",
      "critical_flag            399918 non-null object\n",
      "score                    376704 non-null float64\n",
      "grade                    195413 non-null object\n",
      "grade_date               192820 non-null object\n",
      "record_date              399918 non-null object\n",
      "inspection_type          398783 non-null object\n",
      "address                  399809 non-null object\n",
      "dtypes: float64(1), int64(1), object(17)\n",
      "memory usage: 58.0+ MB\n"
     ]
    }
   ],
   "source": [
    "df.info()"
   ]
  },
  {
   "cell_type": "code",
   "execution_count": 9,
   "metadata": {
    "ExecuteTime": {
     "end_time": "2017-10-22T14:37:33.306459Z",
     "start_time": "2017-10-22T14:36:02.193318Z"
    },
    "collapsed": true
   },
   "outputs": [],
   "source": [
    "df['inspection_date'] = pd.to_datetime(df.inspection_date)\n",
    "df['grade_date'] = pd.to_datetime(df.grade_date)\n",
    "df['record_date'] = pd.to_datetime(df.record_date)"
   ]
  },
  {
   "cell_type": "code",
   "execution_count": 10,
   "metadata": {
    "ExecuteTime": {
     "end_time": "2017-10-22T14:37:33.327281Z",
     "start_time": "2017-10-22T14:37:33.308611Z"
    }
   },
   "outputs": [
    {
     "data": {
      "text/plain": [
       "Timestamp('2017-08-26 00:00:00')"
      ]
     },
     "execution_count": 10,
     "metadata": {},
     "output_type": "execute_result"
    }
   ],
   "source": [
    "df['inspection_date'].max()"
   ]
  },
  {
   "cell_type": "code",
   "execution_count": 11,
   "metadata": {
    "ExecuteTime": {
     "end_time": "2017-10-22T14:37:33.334389Z",
     "start_time": "2017-10-22T14:37:33.328997Z"
    }
   },
   "outputs": [
    {
     "data": {
      "text/plain": [
       "Timestamp('1900-01-01 00:00:00')"
      ]
     },
     "execution_count": 11,
     "metadata": {},
     "output_type": "execute_result"
    }
   ],
   "source": [
    "df['inspection_date'].min()"
   ]
  },
  {
   "cell_type": "code",
   "execution_count": 12,
   "metadata": {
    "ExecuteTime": {
     "end_time": "2017-10-22T14:37:35.365478Z",
     "start_time": "2017-10-22T14:37:33.335985Z"
    },
    "collapsed": true
   },
   "outputs": [],
   "source": [
    "testDF = df.loc[df.groupby(['dba','address'])['inspection_date'].idxmax()]"
   ]
  },
  {
   "cell_type": "code",
   "execution_count": 13,
   "metadata": {
    "ExecuteTime": {
     "end_time": "2017-10-22T14:37:35.373155Z",
     "start_time": "2017-10-22T14:37:35.367883Z"
    }
   },
   "outputs": [
    {
     "data": {
      "text/plain": [
       "(25985, 19)"
      ]
     },
     "execution_count": 13,
     "metadata": {},
     "output_type": "execute_result"
    }
   ],
   "source": [
    "testDF.shape"
   ]
  },
  {
   "cell_type": "code",
   "execution_count": 14,
   "metadata": {
    "ExecuteTime": {
     "end_time": "2017-10-22T14:37:35.422142Z",
     "start_time": "2017-10-22T14:37:35.375567Z"
    }
   },
   "outputs": [
    {
     "data": {
      "text/html": [
       "<div>\n",
       "<style>\n",
       "    .dataframe thead tr:only-child th {\n",
       "        text-align: right;\n",
       "    }\n",
       "\n",
       "    .dataframe thead th {\n",
       "        text-align: left;\n",
       "    }\n",
       "\n",
       "    .dataframe tbody tr th {\n",
       "        vertical-align: top;\n",
       "    }\n",
       "</style>\n",
       "<table border=\"1\" class=\"dataframe\">\n",
       "  <thead>\n",
       "    <tr style=\"text-align: right;\">\n",
       "      <th></th>\n",
       "      <th>camis</th>\n",
       "      <th>dba</th>\n",
       "      <th>boro</th>\n",
       "      <th>building</th>\n",
       "      <th>street</th>\n",
       "      <th>zipcode</th>\n",
       "      <th>phone</th>\n",
       "      <th>cuisine_description</th>\n",
       "      <th>inspection_date</th>\n",
       "      <th>action</th>\n",
       "      <th>violation_code</th>\n",
       "      <th>violation_description</th>\n",
       "      <th>critical_flag</th>\n",
       "      <th>score</th>\n",
       "      <th>grade</th>\n",
       "      <th>grade_date</th>\n",
       "      <th>record_date</th>\n",
       "      <th>inspection_type</th>\n",
       "      <th>address</th>\n",
       "    </tr>\n",
       "  </thead>\n",
       "  <tbody>\n",
       "    <tr>\n",
       "      <th>270497</th>\n",
       "      <td>41336841</td>\n",
       "      <td>#1 SABOR LATINO RESTAURANT</td>\n",
       "      <td>BRONX</td>\n",
       "      <td>4120</td>\n",
       "      <td>WHITE PLAINS ROAD</td>\n",
       "      <td>10466</td>\n",
       "      <td>7186532222</td>\n",
       "      <td>Latin (Cuban, Dominican, Puerto Rican, South &amp;...</td>\n",
       "      <td>2017-03-16</td>\n",
       "      <td>Violations were cited in the following area(s).</td>\n",
       "      <td>08A</td>\n",
       "      <td>Facility not vermin proof. Harborage or condit...</td>\n",
       "      <td>Not Critical</td>\n",
       "      <td>11.0</td>\n",
       "      <td>A</td>\n",
       "      <td>2017-03-16</td>\n",
       "      <td>2017-08-28</td>\n",
       "      <td>Cycle Inspection / Initial Inspection</td>\n",
       "      <td>4120 WHITE PLAINS ROAD BRONX 10466</td>\n",
       "    </tr>\n",
       "    <tr>\n",
       "      <th>284675</th>\n",
       "      <td>41336841</td>\n",
       "      <td>#1 SABOR LATINO RESTAURANT</td>\n",
       "      <td>BRONX</td>\n",
       "      <td>4120</td>\n",
       "      <td>WHITE PLAINS ROAD</td>\n",
       "      <td>10466</td>\n",
       "      <td>7186532222</td>\n",
       "      <td>Latin (Cuban, Dominican, Puerto Rican, South &amp;...</td>\n",
       "      <td>2017-03-16</td>\n",
       "      <td>Violations were cited in the following area(s).</td>\n",
       "      <td>04L</td>\n",
       "      <td>Evidence of mice or live mice present in facil...</td>\n",
       "      <td>Critical</td>\n",
       "      <td>11.0</td>\n",
       "      <td>A</td>\n",
       "      <td>2017-03-16</td>\n",
       "      <td>2017-08-28</td>\n",
       "      <td>Cycle Inspection / Initial Inspection</td>\n",
       "      <td>4120 WHITE PLAINS ROAD BRONX 10466</td>\n",
       "    </tr>\n",
       "  </tbody>\n",
       "</table>\n",
       "</div>"
      ],
      "text/plain": [
       "           camis                         dba   boro building  \\\n",
       "270497  41336841  #1 SABOR LATINO RESTAURANT  BRONX     4120   \n",
       "284675  41336841  #1 SABOR LATINO RESTAURANT  BRONX     4120   \n",
       "\n",
       "                   street zipcode       phone  \\\n",
       "270497  WHITE PLAINS ROAD   10466  7186532222   \n",
       "284675  WHITE PLAINS ROAD   10466  7186532222   \n",
       "\n",
       "                                      cuisine_description inspection_date  \\\n",
       "270497  Latin (Cuban, Dominican, Puerto Rican, South &...      2017-03-16   \n",
       "284675  Latin (Cuban, Dominican, Puerto Rican, South &...      2017-03-16   \n",
       "\n",
       "                                                 action violation_code  \\\n",
       "270497  Violations were cited in the following area(s).            08A   \n",
       "284675  Violations were cited in the following area(s).            04L   \n",
       "\n",
       "                                    violation_description critical_flag  \\\n",
       "270497  Facility not vermin proof. Harborage or condit...  Not Critical   \n",
       "284675  Evidence of mice or live mice present in facil...      Critical   \n",
       "\n",
       "        score grade grade_date record_date  \\\n",
       "270497   11.0     A 2017-03-16  2017-08-28   \n",
       "284675   11.0     A 2017-03-16  2017-08-28   \n",
       "\n",
       "                              inspection_type  \\\n",
       "270497  Cycle Inspection / Initial Inspection   \n",
       "284675  Cycle Inspection / Initial Inspection   \n",
       "\n",
       "                                   address  \n",
       "270497  4120 WHITE PLAINS ROAD BRONX 10466  \n",
       "284675  4120 WHITE PLAINS ROAD BRONX 10466  "
      ]
     },
     "execution_count": 14,
     "metadata": {},
     "output_type": "execute_result"
    }
   ],
   "source": [
    "df[(df.dba == '#1 SABOR LATINO RESTAURANT') & (df.inspection_date == '2017-03-16')]"
   ]
  },
  {
   "cell_type": "code",
   "execution_count": 15,
   "metadata": {
    "ExecuteTime": {
     "end_time": "2017-10-22T14:37:35.542003Z",
     "start_time": "2017-10-22T14:37:35.423827Z"
    },
    "collapsed": true
   },
   "outputs": [],
   "source": [
    "testDF['inspection_date'] = testDF.inspection_date.astype(str)"
   ]
  },
  {
   "cell_type": "code",
   "execution_count": 16,
   "metadata": {
    "ExecuteTime": {
     "end_time": "2017-10-22T14:37:35.623360Z",
     "start_time": "2017-10-22T14:37:35.543451Z"
    }
   },
   "outputs": [
    {
     "data": {
      "text/plain": [
       "[['#1 Chinese Restaurant', '2016-09-30'],\n",
       " ['#1 GARDEN CHINESE', '2017-08-23'],\n",
       " ['#1 Natural Juice Bar', '2017-08-17'],\n",
       " ['#1 SABOR LATINO RESTAURANT', '2017-03-16'],\n",
       " ['$1 PIZZA', '2017-05-22'],\n",
       " ['$1 PIZZA $2 BEER', '2017-08-23']]"
      ]
     },
     "execution_count": 16,
     "metadata": {},
     "output_type": "execute_result"
    }
   ],
   "source": [
    "# create a dictionary of the restaurant name and the inspection date\n",
    "l = testDF.reset_index()[['dba','inspection_date']].values.tolist()\n",
    "l[:6]"
   ]
  },
  {
   "cell_type": "code",
   "execution_count": 17,
   "metadata": {
    "ExecuteTime": {
     "end_time": "2017-10-22T14:37:35.631118Z",
     "start_time": "2017-10-22T14:37:35.625523Z"
    }
   },
   "outputs": [
    {
     "data": {
      "text/plain": [
       "25985"
      ]
     },
     "execution_count": 17,
     "metadata": {},
     "output_type": "execute_result"
    }
   ],
   "source": [
    "len(l)"
   ]
  },
  {
   "cell_type": "code",
   "execution_count": 18,
   "metadata": {
    "ExecuteTime": {
     "end_time": "2017-10-22T14:37:35.639167Z",
     "start_time": "2017-10-22T14:37:35.633137Z"
    }
   },
   "outputs": [
    {
     "data": {
      "text/plain": [
       "(25985, 19)"
      ]
     },
     "execution_count": 18,
     "metadata": {},
     "output_type": "execute_result"
    }
   ],
   "source": [
    "testDF.shape"
   ]
  },
  {
   "cell_type": "code",
   "execution_count": 20,
   "metadata": {
    "ExecuteTime": {
     "end_time": "2017-10-22T14:38:07.818777Z",
     "start_time": "2017-10-22T14:38:07.812375Z"
    },
    "collapsed": true
   },
   "outputs": [],
   "source": [
    "def date_max(l,df):\n",
    "    maxDF = pd.DataFrame()\n",
    "    \n",
    "    for val in l:\n",
    "        ndf = df[(df.dba == val[0]) & (df.inspection_date == val[1])]\n",
    "        maxDF = maxDF.append(ndf)\n",
    "    return maxDF\n",
    "        "
   ]
  },
  {
   "cell_type": "code",
   "execution_count": 21,
   "metadata": {
    "ExecuteTime": {
     "end_time": "2017-10-22T15:03:49.250067Z",
     "start_time": "2017-10-22T14:38:08.264402Z"
    },
    "collapsed": true
   },
   "outputs": [],
   "source": [
    "dateDF = date_max(l,df)"
   ]
  },
  {
   "cell_type": "code",
   "execution_count": 22,
   "metadata": {
    "ExecuteTime": {
     "end_time": "2017-10-22T15:03:49.257919Z",
     "start_time": "2017-10-22T15:03:49.251961Z"
    }
   },
   "outputs": [
    {
     "data": {
      "text/plain": [
       "(72480, 19)"
      ]
     },
     "execution_count": 22,
     "metadata": {},
     "output_type": "execute_result"
    }
   ],
   "source": [
    "dateDF.shape"
   ]
  },
  {
   "cell_type": "code",
   "execution_count": 23,
   "metadata": {
    "ExecuteTime": {
     "end_time": "2017-10-22T15:03:49.394299Z",
     "start_time": "2017-10-22T15:03:49.262656Z"
    },
    "collapsed": true
   },
   "outputs": [],
   "source": [
    "dateDF.to_pickle('data/date.pkl')"
   ]
  },
  {
   "cell_type": "code",
   "execution_count": 24,
   "metadata": {
    "ExecuteTime": {
     "end_time": "2017-10-22T15:03:49.402019Z",
     "start_time": "2017-10-22T15:03:49.396061Z"
    }
   },
   "outputs": [
    {
     "data": {
      "text/plain": [
       "Timestamp('2017-08-26 00:00:00')"
      ]
     },
     "execution_count": 24,
     "metadata": {},
     "output_type": "execute_result"
    }
   ],
   "source": [
    "dateDF.inspection_date.max()"
   ]
  },
  {
   "cell_type": "code",
   "execution_count": 25,
   "metadata": {
    "ExecuteTime": {
     "end_time": "2017-10-22T15:03:49.410556Z",
     "start_time": "2017-10-22T15:03:49.404204Z"
    }
   },
   "outputs": [
    {
     "data": {
      "text/plain": [
       "Timestamp('1900-01-01 00:00:00')"
      ]
     },
     "execution_count": 25,
     "metadata": {},
     "output_type": "execute_result"
    }
   ],
   "source": [
    "dateDF.inspection_date.min()"
   ]
  },
  {
   "cell_type": "code",
   "execution_count": 26,
   "metadata": {
    "ExecuteTime": {
     "end_time": "2017-10-22T15:03:49.416031Z",
     "start_time": "2017-10-22T15:03:49.412904Z"
    },
    "collapsed": true
   },
   "outputs": [],
   "source": [
    "#dateDF.to_csv('date.csv')"
   ]
  },
  {
   "cell_type": "code",
   "execution_count": 27,
   "metadata": {
    "ExecuteTime": {
     "end_time": "2017-10-22T15:03:49.439047Z",
     "start_time": "2017-10-22T15:03:49.418460Z"
    }
   },
   "outputs": [
    {
     "data": {
      "text/html": [
       "<div>\n",
       "<style>\n",
       "    .dataframe thead tr:only-child th {\n",
       "        text-align: right;\n",
       "    }\n",
       "\n",
       "    .dataframe thead th {\n",
       "        text-align: left;\n",
       "    }\n",
       "\n",
       "    .dataframe tbody tr th {\n",
       "        vertical-align: top;\n",
       "    }\n",
       "</style>\n",
       "<table border=\"1\" class=\"dataframe\">\n",
       "  <thead>\n",
       "    <tr style=\"text-align: right;\">\n",
       "      <th></th>\n",
       "      <th>camis</th>\n",
       "      <th>dba</th>\n",
       "      <th>boro</th>\n",
       "      <th>building</th>\n",
       "      <th>street</th>\n",
       "      <th>zipcode</th>\n",
       "      <th>phone</th>\n",
       "      <th>cuisine_description</th>\n",
       "      <th>inspection_date</th>\n",
       "      <th>action</th>\n",
       "      <th>violation_code</th>\n",
       "      <th>violation_description</th>\n",
       "      <th>critical_flag</th>\n",
       "      <th>score</th>\n",
       "      <th>grade</th>\n",
       "      <th>grade_date</th>\n",
       "      <th>record_date</th>\n",
       "      <th>inspection_type</th>\n",
       "      <th>address</th>\n",
       "    </tr>\n",
       "  </thead>\n",
       "  <tbody>\n",
       "    <tr>\n",
       "      <th>114442</th>\n",
       "      <td>50050805</td>\n",
       "      <td>#1 Chinese Restaurant</td>\n",
       "      <td>MANHATTAN</td>\n",
       "      <td>825</td>\n",
       "      <td>W 181ST ST</td>\n",
       "      <td>10033</td>\n",
       "      <td>9173258805</td>\n",
       "      <td>Chinese</td>\n",
       "      <td>2016-09-30</td>\n",
       "      <td>Violations were cited in the following area(s).</td>\n",
       "      <td>06C</td>\n",
       "      <td>Food not protected from potential source of co...</td>\n",
       "      <td>Critical</td>\n",
       "      <td>13.0</td>\n",
       "      <td>A</td>\n",
       "      <td>2016-09-30</td>\n",
       "      <td>2017-08-28</td>\n",
       "      <td>Pre-permit (Operational) / Initial Inspection</td>\n",
       "      <td>825 W 181ST ST MANHATTAN 10033</td>\n",
       "    </tr>\n",
       "    <tr>\n",
       "      <th>171822</th>\n",
       "      <td>50050805</td>\n",
       "      <td>#1 Chinese Restaurant</td>\n",
       "      <td>MANHATTAN</td>\n",
       "      <td>825</td>\n",
       "      <td>W 181ST ST</td>\n",
       "      <td>10033</td>\n",
       "      <td>9173258805</td>\n",
       "      <td>Chinese</td>\n",
       "      <td>2016-09-30</td>\n",
       "      <td>Violations were cited in the following area(s).</td>\n",
       "      <td>06D</td>\n",
       "      <td>Food contact surface not properly washed, rins...</td>\n",
       "      <td>Critical</td>\n",
       "      <td>13.0</td>\n",
       "      <td>A</td>\n",
       "      <td>2016-09-30</td>\n",
       "      <td>2017-08-28</td>\n",
       "      <td>Pre-permit (Operational) / Initial Inspection</td>\n",
       "      <td>825 W 181ST ST MANHATTAN 10033</td>\n",
       "    </tr>\n",
       "    <tr>\n",
       "      <th>270114</th>\n",
       "      <td>50050805</td>\n",
       "      <td>#1 Chinese Restaurant</td>\n",
       "      <td>MANHATTAN</td>\n",
       "      <td>825</td>\n",
       "      <td>W 181ST ST</td>\n",
       "      <td>10033</td>\n",
       "      <td>9173258805</td>\n",
       "      <td>Chinese</td>\n",
       "      <td>2016-09-30</td>\n",
       "      <td>Violations were cited in the following area(s).</td>\n",
       "      <td>10F</td>\n",
       "      <td>Non-food contact surface improperly constructe...</td>\n",
       "      <td>Not Critical</td>\n",
       "      <td>13.0</td>\n",
       "      <td>A</td>\n",
       "      <td>2016-09-30</td>\n",
       "      <td>2017-08-28</td>\n",
       "      <td>Pre-permit (Operational) / Initial Inspection</td>\n",
       "      <td>825 W 181ST ST MANHATTAN 10033</td>\n",
       "    </tr>\n",
       "    <tr>\n",
       "      <th>147868</th>\n",
       "      <td>41568346</td>\n",
       "      <td>#1 GARDEN CHINESE</td>\n",
       "      <td>BROOKLYN</td>\n",
       "      <td>221</td>\n",
       "      <td>PROSPECT PARK WEST</td>\n",
       "      <td>11215</td>\n",
       "      <td>7188321795</td>\n",
       "      <td>Chinese</td>\n",
       "      <td>2017-08-23</td>\n",
       "      <td>Violations were cited in the following area(s).</td>\n",
       "      <td>06A</td>\n",
       "      <td>Personal cleanliness inadequate. Outer garment...</td>\n",
       "      <td>Critical</td>\n",
       "      <td>12.0</td>\n",
       "      <td>A</td>\n",
       "      <td>2017-08-23</td>\n",
       "      <td>2017-08-28</td>\n",
       "      <td>Cycle Inspection / Initial Inspection</td>\n",
       "      <td>221 PROSPECT PARK WEST BROOKLYN 11215</td>\n",
       "    </tr>\n",
       "    <tr>\n",
       "      <th>350094</th>\n",
       "      <td>41568346</td>\n",
       "      <td>#1 GARDEN CHINESE</td>\n",
       "      <td>BROOKLYN</td>\n",
       "      <td>221</td>\n",
       "      <td>PROSPECT PARK WEST</td>\n",
       "      <td>11215</td>\n",
       "      <td>7188321795</td>\n",
       "      <td>Chinese</td>\n",
       "      <td>2017-08-23</td>\n",
       "      <td>Violations were cited in the following area(s).</td>\n",
       "      <td>02G</td>\n",
       "      <td>Cold food item held above 41Âº F (smoked fish ...</td>\n",
       "      <td>Critical</td>\n",
       "      <td>12.0</td>\n",
       "      <td>A</td>\n",
       "      <td>2017-08-23</td>\n",
       "      <td>2017-08-28</td>\n",
       "      <td>Cycle Inspection / Initial Inspection</td>\n",
       "      <td>221 PROSPECT PARK WEST BROOKLYN 11215</td>\n",
       "    </tr>\n",
       "  </tbody>\n",
       "</table>\n",
       "</div>"
      ],
      "text/plain": [
       "           camis                    dba       boro building  \\\n",
       "114442  50050805  #1 Chinese Restaurant  MANHATTAN      825   \n",
       "171822  50050805  #1 Chinese Restaurant  MANHATTAN      825   \n",
       "270114  50050805  #1 Chinese Restaurant  MANHATTAN      825   \n",
       "147868  41568346      #1 GARDEN CHINESE   BROOKLYN      221   \n",
       "350094  41568346      #1 GARDEN CHINESE   BROOKLYN      221   \n",
       "\n",
       "                    street zipcode       phone cuisine_description  \\\n",
       "114442          W 181ST ST   10033  9173258805             Chinese   \n",
       "171822          W 181ST ST   10033  9173258805             Chinese   \n",
       "270114          W 181ST ST   10033  9173258805             Chinese   \n",
       "147868  PROSPECT PARK WEST   11215  7188321795             Chinese   \n",
       "350094  PROSPECT PARK WEST   11215  7188321795             Chinese   \n",
       "\n",
       "       inspection_date                                           action  \\\n",
       "114442      2016-09-30  Violations were cited in the following area(s).   \n",
       "171822      2016-09-30  Violations were cited in the following area(s).   \n",
       "270114      2016-09-30  Violations were cited in the following area(s).   \n",
       "147868      2017-08-23  Violations were cited in the following area(s).   \n",
       "350094      2017-08-23  Violations were cited in the following area(s).   \n",
       "\n",
       "       violation_code                              violation_description  \\\n",
       "114442            06C  Food not protected from potential source of co...   \n",
       "171822            06D  Food contact surface not properly washed, rins...   \n",
       "270114            10F  Non-food contact surface improperly constructe...   \n",
       "147868            06A  Personal cleanliness inadequate. Outer garment...   \n",
       "350094            02G  Cold food item held above 41Âº F (smoked fish ...   \n",
       "\n",
       "       critical_flag  score grade grade_date record_date  \\\n",
       "114442      Critical   13.0     A 2016-09-30  2017-08-28   \n",
       "171822      Critical   13.0     A 2016-09-30  2017-08-28   \n",
       "270114  Not Critical   13.0     A 2016-09-30  2017-08-28   \n",
       "147868      Critical   12.0     A 2017-08-23  2017-08-28   \n",
       "350094      Critical   12.0     A 2017-08-23  2017-08-28   \n",
       "\n",
       "                                      inspection_type  \\\n",
       "114442  Pre-permit (Operational) / Initial Inspection   \n",
       "171822  Pre-permit (Operational) / Initial Inspection   \n",
       "270114  Pre-permit (Operational) / Initial Inspection   \n",
       "147868          Cycle Inspection / Initial Inspection   \n",
       "350094          Cycle Inspection / Initial Inspection   \n",
       "\n",
       "                                      address  \n",
       "114442         825 W 181ST ST MANHATTAN 10033  \n",
       "171822         825 W 181ST ST MANHATTAN 10033  \n",
       "270114         825 W 181ST ST MANHATTAN 10033  \n",
       "147868  221 PROSPECT PARK WEST BROOKLYN 11215  \n",
       "350094  221 PROSPECT PARK WEST BROOKLYN 11215  "
      ]
     },
     "execution_count": 27,
     "metadata": {},
     "output_type": "execute_result"
    }
   ],
   "source": [
    "dateDF.head()"
   ]
  },
  {
   "cell_type": "code",
   "execution_count": 28,
   "metadata": {
    "ExecuteTime": {
     "end_time": "2017-10-22T15:03:49.472045Z",
     "start_time": "2017-10-22T15:03:49.440728Z"
    },
    "collapsed": true
   },
   "outputs": [],
   "source": [
    "dateDF['key'] = dateDF.dba + '---' + dateDF.address"
   ]
  },
  {
   "cell_type": "code",
   "execution_count": 29,
   "metadata": {
    "ExecuteTime": {
     "end_time": "2017-10-22T15:03:49.477894Z",
     "start_time": "2017-10-22T15:03:49.474123Z"
    },
    "collapsed": true
   },
   "outputs": [],
   "source": [
    "from collections import defaultdict"
   ]
  },
  {
   "cell_type": "code",
   "execution_count": 30,
   "metadata": {
    "ExecuteTime": {
     "end_time": "2017-10-22T15:03:49.487779Z",
     "start_time": "2017-10-22T15:03:49.480163Z"
    },
    "collapsed": true
   },
   "outputs": [],
   "source": [
    "def violation_dict(df):\n",
    "    d = defaultdict(list)\n",
    "    i=0\n",
    "    for i in range(len(df)):\n",
    "        value = df['violation_code'].iloc[i]\n",
    "        name = df['key'].iloc[i]\n",
    "        if name not in d:\n",
    "            d[name] = [value]   \n",
    "        else:\n",
    "            d[name].append(value)\n",
    "    return d   "
   ]
  },
  {
   "cell_type": "code",
   "execution_count": 31,
   "metadata": {
    "ExecuteTime": {
     "end_time": "2017-10-22T15:03:51.415897Z",
     "start_time": "2017-10-22T15:03:49.489490Z"
    },
    "collapsed": true
   },
   "outputs": [],
   "source": [
    "vD = violation_dict(dateDF)"
   ]
  },
  {
   "cell_type": "code",
   "execution_count": 32,
   "metadata": {
    "ExecuteTime": {
     "end_time": "2017-10-22T15:04:48.578236Z",
     "start_time": "2017-10-22T15:03:51.421393Z"
    },
    "collapsed": true
   },
   "outputs": [],
   "source": [
    "vDF = pd.DataFrame(columns=('key','violations'))\n",
    "\n",
    "for k,v in vD.items():\n",
    "    vDF = vDF.append({'key':k,'violations':v},ignore_index=True)\n",
    "    "
   ]
  },
  {
   "cell_type": "code",
   "execution_count": 33,
   "metadata": {
    "ExecuteTime": {
     "end_time": "2017-10-22T15:04:48.585264Z",
     "start_time": "2017-10-22T15:04:48.580120Z"
    }
   },
   "outputs": [
    {
     "data": {
      "text/plain": [
       "(25985, 2)"
      ]
     },
     "execution_count": 33,
     "metadata": {},
     "output_type": "execute_result"
    }
   ],
   "source": [
    "vDF.shape"
   ]
  },
  {
   "cell_type": "code",
   "execution_count": 34,
   "metadata": {
    "ExecuteTime": {
     "end_time": "2017-10-22T15:04:48.596929Z",
     "start_time": "2017-10-22T15:04:48.588209Z"
    },
    "collapsed": true
   },
   "outputs": [],
   "source": [
    "def crit_dict(df):\n",
    "    d = defaultdict(list)\n",
    "    i=0\n",
    "    for i in range(len(df)):\n",
    "        value = df['critical_flag'].iloc[i]\n",
    "        name = df['key'].iloc[i]\n",
    "        if name not in d:\n",
    "            d[name] = [value]   \n",
    "        else:\n",
    "            d[name].append(value)\n",
    "    return d   "
   ]
  },
  {
   "cell_type": "code",
   "execution_count": 35,
   "metadata": {
    "ExecuteTime": {
     "end_time": "2017-10-22T15:04:51.096518Z",
     "start_time": "2017-10-22T15:04:48.598757Z"
    },
    "collapsed": true
   },
   "outputs": [],
   "source": [
    "cD = crit_dict(dateDF)"
   ]
  },
  {
   "cell_type": "code",
   "execution_count": 36,
   "metadata": {
    "ExecuteTime": {
     "end_time": "2017-10-22T15:05:58.669299Z",
     "start_time": "2017-10-22T15:04:51.098507Z"
    },
    "collapsed": true
   },
   "outputs": [],
   "source": [
    "cDF = pd.DataFrame(columns=('key2','critical'))\n",
    "\n",
    "for k,v in cD.items():\n",
    "    cDF = cDF.append({'key2':k,'critical':v},ignore_index=True)"
   ]
  },
  {
   "cell_type": "code",
   "execution_count": 37,
   "metadata": {
    "ExecuteTime": {
     "end_time": "2017-10-22T15:05:58.675882Z",
     "start_time": "2017-10-22T15:05:58.671459Z"
    }
   },
   "outputs": [
    {
     "data": {
      "text/plain": [
       "(25985, 2)"
      ]
     },
     "execution_count": 37,
     "metadata": {},
     "output_type": "execute_result"
    }
   ],
   "source": [
    "cDF.shape"
   ]
  },
  {
   "cell_type": "code",
   "execution_count": 38,
   "metadata": {
    "ExecuteTime": {
     "end_time": "2017-10-22T15:05:58.702558Z",
     "start_time": "2017-10-22T15:05:58.679346Z"
    },
    "collapsed": true
   },
   "outputs": [],
   "source": [
    "aggDF = vDF.merge(cDF,left_on='key',right_on='key2')"
   ]
  },
  {
   "cell_type": "code",
   "execution_count": 39,
   "metadata": {
    "ExecuteTime": {
     "end_time": "2017-10-22T15:05:58.709943Z",
     "start_time": "2017-10-22T15:05:58.704711Z"
    }
   },
   "outputs": [
    {
     "data": {
      "text/plain": [
       "(25985, 4)"
      ]
     },
     "execution_count": 39,
     "metadata": {},
     "output_type": "execute_result"
    }
   ],
   "source": [
    "aggDF.shape"
   ]
  },
  {
   "cell_type": "code",
   "execution_count": 40,
   "metadata": {
    "ExecuteTime": {
     "end_time": "2017-10-22T15:05:58.725994Z",
     "start_time": "2017-10-22T15:05:58.711959Z"
    }
   },
   "outputs": [
    {
     "data": {
      "text/html": [
       "<div>\n",
       "<style>\n",
       "    .dataframe thead tr:only-child th {\n",
       "        text-align: right;\n",
       "    }\n",
       "\n",
       "    .dataframe thead th {\n",
       "        text-align: left;\n",
       "    }\n",
       "\n",
       "    .dataframe tbody tr th {\n",
       "        vertical-align: top;\n",
       "    }\n",
       "</style>\n",
       "<table border=\"1\" class=\"dataframe\">\n",
       "  <thead>\n",
       "    <tr style=\"text-align: right;\">\n",
       "      <th></th>\n",
       "      <th>key</th>\n",
       "      <th>violations</th>\n",
       "      <th>key2</th>\n",
       "      <th>critical</th>\n",
       "    </tr>\n",
       "  </thead>\n",
       "  <tbody>\n",
       "    <tr>\n",
       "      <th>0</th>\n",
       "      <td>#1 Chinese Restaurant---825 W 181ST ST MANHATT...</td>\n",
       "      <td>[06C, 06D, 10F]</td>\n",
       "      <td>#1 Chinese Restaurant---825 W 181ST ST MANHATT...</td>\n",
       "      <td>[Critical, Critical, Not Critical]</td>\n",
       "    </tr>\n",
       "    <tr>\n",
       "      <th>1</th>\n",
       "      <td>#1 GARDEN CHINESE---221 PROSPECT PARK WEST BRO...</td>\n",
       "      <td>[06A, 02G]</td>\n",
       "      <td>#1 GARDEN CHINESE---221 PROSPECT PARK WEST BRO...</td>\n",
       "      <td>[Critical, Critical]</td>\n",
       "    </tr>\n",
       "    <tr>\n",
       "      <th>2</th>\n",
       "      <td>#1 Natural Juice Bar---685 SENECA AVE QUEENS 1...</td>\n",
       "      <td>[08A, 04L]</td>\n",
       "      <td>#1 Natural Juice Bar---685 SENECA AVE QUEENS 1...</td>\n",
       "      <td>[Not Critical, Critical]</td>\n",
       "    </tr>\n",
       "    <tr>\n",
       "      <th>3</th>\n",
       "      <td>#1 SABOR LATINO RESTAURANT---4120 WHITE PLAINS...</td>\n",
       "      <td>[08A, 04L]</td>\n",
       "      <td>#1 SABOR LATINO RESTAURANT---4120 WHITE PLAINS...</td>\n",
       "      <td>[Not Critical, Critical]</td>\n",
       "    </tr>\n",
       "    <tr>\n",
       "      <th>4</th>\n",
       "      <td>$1 PIZZA---1276 FULTON ST BROOKLYN 11216</td>\n",
       "      <td>[10H, 06E]</td>\n",
       "      <td>$1 PIZZA---1276 FULTON ST BROOKLYN 11216</td>\n",
       "      <td>[Not Critical, Critical]</td>\n",
       "    </tr>\n",
       "  </tbody>\n",
       "</table>\n",
       "</div>"
      ],
      "text/plain": [
       "                                                 key       violations  \\\n",
       "0  #1 Chinese Restaurant---825 W 181ST ST MANHATT...  [06C, 06D, 10F]   \n",
       "1  #1 GARDEN CHINESE---221 PROSPECT PARK WEST BRO...       [06A, 02G]   \n",
       "2  #1 Natural Juice Bar---685 SENECA AVE QUEENS 1...       [08A, 04L]   \n",
       "3  #1 SABOR LATINO RESTAURANT---4120 WHITE PLAINS...       [08A, 04L]   \n",
       "4           $1 PIZZA---1276 FULTON ST BROOKLYN 11216       [10H, 06E]   \n",
       "\n",
       "                                                key2  \\\n",
       "0  #1 Chinese Restaurant---825 W 181ST ST MANHATT...   \n",
       "1  #1 GARDEN CHINESE---221 PROSPECT PARK WEST BRO...   \n",
       "2  #1 Natural Juice Bar---685 SENECA AVE QUEENS 1...   \n",
       "3  #1 SABOR LATINO RESTAURANT---4120 WHITE PLAINS...   \n",
       "4           $1 PIZZA---1276 FULTON ST BROOKLYN 11216   \n",
       "\n",
       "                             critical  \n",
       "0  [Critical, Critical, Not Critical]  \n",
       "1                [Critical, Critical]  \n",
       "2            [Not Critical, Critical]  \n",
       "3            [Not Critical, Critical]  \n",
       "4            [Not Critical, Critical]  "
      ]
     },
     "execution_count": 40,
     "metadata": {},
     "output_type": "execute_result"
    }
   ],
   "source": [
    "aggDF.head()"
   ]
  },
  {
   "cell_type": "code",
   "execution_count": 41,
   "metadata": {
    "ExecuteTime": {
     "end_time": "2017-10-22T15:05:58.740789Z",
     "start_time": "2017-10-22T15:05:58.731325Z"
    },
    "collapsed": true
   },
   "outputs": [],
   "source": [
    "aggDF.drop('key2',inplace=True,axis=1)"
   ]
  },
  {
   "cell_type": "code",
   "execution_count": 42,
   "metadata": {
    "ExecuteTime": {
     "end_time": "2017-10-22T15:05:58.755211Z",
     "start_time": "2017-10-22T15:05:58.742664Z"
    },
    "collapsed": true
   },
   "outputs": [],
   "source": [
    "aggDF['critical'] = aggDF['critical'].apply(lambda x: ', '.join(x))"
   ]
  },
  {
   "cell_type": "code",
   "execution_count": 43,
   "metadata": {
    "ExecuteTime": {
     "end_time": "2017-10-22T15:05:58.791349Z",
     "start_time": "2017-10-22T15:05:58.757465Z"
    },
    "collapsed": true
   },
   "outputs": [],
   "source": [
    "aggDF['violations'] = aggDF['violations'].apply(lambda x: ', '.join(str(v) for v in x))"
   ]
  },
  {
   "cell_type": "code",
   "execution_count": 44,
   "metadata": {
    "ExecuteTime": {
     "end_time": "2017-10-22T15:05:58.824024Z",
     "start_time": "2017-10-22T15:05:58.793161Z"
    },
    "collapsed": true
   },
   "outputs": [],
   "source": [
    "aggDF.to_pickle('data/aggregated.pkl')"
   ]
  },
  {
   "cell_type": "code",
   "execution_count": 45,
   "metadata": {
    "ExecuteTime": {
     "end_time": "2017-10-22T15:05:58.840691Z",
     "start_time": "2017-10-22T15:05:58.825600Z"
    },
    "collapsed": true
   },
   "outputs": [],
   "source": [
    "testDF['key'] = testDF.dba + '---' + testDF.address"
   ]
  },
  {
   "cell_type": "code",
   "execution_count": 46,
   "metadata": {
    "ExecuteTime": {
     "end_time": "2017-10-22T15:05:58.953713Z",
     "start_time": "2017-10-22T15:05:58.842189Z"
    },
    "collapsed": true
   },
   "outputs": [],
   "source": [
    "cleanDF = aggDF.merge(testDF,how='left',on='key')"
   ]
  },
  {
   "cell_type": "code",
   "execution_count": 47,
   "metadata": {
    "ExecuteTime": {
     "end_time": "2017-10-22T15:05:58.961790Z",
     "start_time": "2017-10-22T15:05:58.956904Z"
    }
   },
   "outputs": [
    {
     "data": {
      "text/plain": [
       "(25985, 22)"
      ]
     },
     "execution_count": 47,
     "metadata": {},
     "output_type": "execute_result"
    }
   ],
   "source": [
    "cleanDF.shape"
   ]
  },
  {
   "cell_type": "code",
   "execution_count": 48,
   "metadata": {
    "ExecuteTime": {
     "end_time": "2017-10-22T15:05:58.974462Z",
     "start_time": "2017-10-22T15:05:58.967274Z"
    }
   },
   "outputs": [
    {
     "data": {
      "text/plain": [
       "['key',\n",
       " 'violations',\n",
       " 'critical',\n",
       " 'camis',\n",
       " 'dba',\n",
       " 'boro',\n",
       " 'building',\n",
       " 'street',\n",
       " 'zipcode',\n",
       " 'phone',\n",
       " 'cuisine_description',\n",
       " 'inspection_date',\n",
       " 'action',\n",
       " 'violation_code',\n",
       " 'violation_description',\n",
       " 'critical_flag',\n",
       " 'score',\n",
       " 'grade',\n",
       " 'grade_date',\n",
       " 'record_date',\n",
       " 'inspection_type',\n",
       " 'address']"
      ]
     },
     "execution_count": 48,
     "metadata": {},
     "output_type": "execute_result"
    }
   ],
   "source": [
    "cleanDF.columns.tolist()"
   ]
  },
  {
   "cell_type": "code",
   "execution_count": 49,
   "metadata": {
    "ExecuteTime": {
     "end_time": "2017-10-22T15:05:58.987386Z",
     "start_time": "2017-10-22T15:05:58.976380Z"
    }
   },
   "outputs": [
    {
     "data": {
      "text/plain": [
       "'2017-08-26'"
      ]
     },
     "execution_count": 49,
     "metadata": {},
     "output_type": "execute_result"
    }
   ],
   "source": [
    "cleanDF.inspection_date.max()"
   ]
  },
  {
   "cell_type": "code",
   "execution_count": 50,
   "metadata": {
    "ExecuteTime": {
     "end_time": "2017-10-22T15:05:58.992919Z",
     "start_time": "2017-10-22T15:05:58.989253Z"
    },
    "collapsed": true
   },
   "outputs": [],
   "source": [
    "# start_date = '01/01/2014'\n",
    "# end_date = '08/27/2017'\n",
    "# mask = (df['inspection_date'] >= start_date) & (df['inspection_date'] <= end_date)"
   ]
  },
  {
   "cell_type": "code",
   "execution_count": 51,
   "metadata": {
    "ExecuteTime": {
     "end_time": "2017-10-22T15:05:59.019098Z",
     "start_time": "2017-10-22T15:05:58.994927Z"
    },
    "collapsed": true
   },
   "outputs": [],
   "source": [
    "df = cleanDF.copy()"
   ]
  },
  {
   "cell_type": "code",
   "execution_count": 52,
   "metadata": {
    "ExecuteTime": {
     "end_time": "2017-10-22T15:05:59.026428Z",
     "start_time": "2017-10-22T15:05:59.021704Z"
    }
   },
   "outputs": [
    {
     "data": {
      "text/plain": [
       "(25985, 22)"
      ]
     },
     "execution_count": 52,
     "metadata": {},
     "output_type": "execute_result"
    }
   ],
   "source": [
    "df.shape"
   ]
  },
  {
   "cell_type": "code",
   "execution_count": 53,
   "metadata": {
    "ExecuteTime": {
     "end_time": "2017-10-22T15:05:59.038657Z",
     "start_time": "2017-10-22T15:05:59.029160Z"
    }
   },
   "outputs": [
    {
     "data": {
      "text/plain": [
       "1098"
      ]
     },
     "execution_count": 53,
     "metadata": {},
     "output_type": "execute_result"
    }
   ],
   "source": [
    "df.violation_code.isnull().sum()"
   ]
  },
  {
   "cell_type": "code",
   "execution_count": 54,
   "metadata": {
    "ExecuteTime": {
     "end_time": "2017-10-22T15:05:59.060222Z",
     "start_time": "2017-10-22T15:05:59.041002Z"
    },
    "collapsed": true
   },
   "outputs": [],
   "source": [
    "df.dropna(subset=['violation_code'],axis=0,inplace=True)"
   ]
  },
  {
   "cell_type": "code",
   "execution_count": 55,
   "metadata": {
    "ExecuteTime": {
     "end_time": "2017-10-22T15:05:59.091468Z",
     "start_time": "2017-10-22T15:05:59.063697Z"
    }
   },
   "outputs": [
    {
     "data": {
      "text/html": [
       "<div>\n",
       "<style>\n",
       "    .dataframe thead tr:only-child th {\n",
       "        text-align: right;\n",
       "    }\n",
       "\n",
       "    .dataframe thead th {\n",
       "        text-align: left;\n",
       "    }\n",
       "\n",
       "    .dataframe tbody tr th {\n",
       "        vertical-align: top;\n",
       "    }\n",
       "</style>\n",
       "<table border=\"1\" class=\"dataframe\">\n",
       "  <thead>\n",
       "    <tr style=\"text-align: right;\">\n",
       "      <th></th>\n",
       "      <th>key</th>\n",
       "      <th>violations</th>\n",
       "      <th>critical</th>\n",
       "      <th>camis</th>\n",
       "      <th>dba</th>\n",
       "      <th>boro</th>\n",
       "      <th>building</th>\n",
       "      <th>street</th>\n",
       "      <th>zipcode</th>\n",
       "      <th>phone</th>\n",
       "      <th>...</th>\n",
       "      <th>action</th>\n",
       "      <th>violation_code</th>\n",
       "      <th>violation_description</th>\n",
       "      <th>critical_flag</th>\n",
       "      <th>score</th>\n",
       "      <th>grade</th>\n",
       "      <th>grade_date</th>\n",
       "      <th>record_date</th>\n",
       "      <th>inspection_type</th>\n",
       "      <th>address</th>\n",
       "    </tr>\n",
       "  </thead>\n",
       "  <tbody>\n",
       "    <tr>\n",
       "      <th>0</th>\n",
       "      <td>#1 Chinese Restaurant---825 W 181ST ST MANHATT...</td>\n",
       "      <td>06C, 06D, 10F</td>\n",
       "      <td>Critical, Critical, Not Critical</td>\n",
       "      <td>50050805</td>\n",
       "      <td>#1 Chinese Restaurant</td>\n",
       "      <td>MANHATTAN</td>\n",
       "      <td>825</td>\n",
       "      <td>W 181ST ST</td>\n",
       "      <td>10033</td>\n",
       "      <td>9173258805</td>\n",
       "      <td>...</td>\n",
       "      <td>Violations were cited in the following area(s).</td>\n",
       "      <td>06C</td>\n",
       "      <td>Food not protected from potential source of co...</td>\n",
       "      <td>Critical</td>\n",
       "      <td>13.0</td>\n",
       "      <td>A</td>\n",
       "      <td>2016-09-30</td>\n",
       "      <td>2017-08-28</td>\n",
       "      <td>Pre-permit (Operational) / Initial Inspection</td>\n",
       "      <td>825 W 181ST ST MANHATTAN 10033</td>\n",
       "    </tr>\n",
       "    <tr>\n",
       "      <th>1</th>\n",
       "      <td>#1 GARDEN CHINESE---221 PROSPECT PARK WEST BRO...</td>\n",
       "      <td>06A, 02G</td>\n",
       "      <td>Critical, Critical</td>\n",
       "      <td>41568346</td>\n",
       "      <td>#1 GARDEN CHINESE</td>\n",
       "      <td>BROOKLYN</td>\n",
       "      <td>221</td>\n",
       "      <td>PROSPECT PARK WEST</td>\n",
       "      <td>11215</td>\n",
       "      <td>7188321795</td>\n",
       "      <td>...</td>\n",
       "      <td>Violations were cited in the following area(s).</td>\n",
       "      <td>06A</td>\n",
       "      <td>Personal cleanliness inadequate. Outer garment...</td>\n",
       "      <td>Critical</td>\n",
       "      <td>12.0</td>\n",
       "      <td>A</td>\n",
       "      <td>2017-08-23</td>\n",
       "      <td>2017-08-28</td>\n",
       "      <td>Cycle Inspection / Initial Inspection</td>\n",
       "      <td>221 PROSPECT PARK WEST BROOKLYN 11215</td>\n",
       "    </tr>\n",
       "    <tr>\n",
       "      <th>2</th>\n",
       "      <td>#1 Natural Juice Bar---685 SENECA AVE QUEENS 1...</td>\n",
       "      <td>08A, 04L</td>\n",
       "      <td>Not Critical, Critical</td>\n",
       "      <td>50051964</td>\n",
       "      <td>#1 Natural Juice Bar</td>\n",
       "      <td>QUEENS</td>\n",
       "      <td>685</td>\n",
       "      <td>SENECA AVE</td>\n",
       "      <td>11385</td>\n",
       "      <td>3479565161</td>\n",
       "      <td>...</td>\n",
       "      <td>Violations were cited in the following area(s).</td>\n",
       "      <td>08A</td>\n",
       "      <td>Facility not vermin proof. Harborage or condit...</td>\n",
       "      <td>Not Critical</td>\n",
       "      <td>10.0</td>\n",
       "      <td>A</td>\n",
       "      <td>2017-08-17</td>\n",
       "      <td>2017-08-28</td>\n",
       "      <td>Cycle Inspection / Initial Inspection</td>\n",
       "      <td>685 SENECA AVE QUEENS 11385</td>\n",
       "    </tr>\n",
       "    <tr>\n",
       "      <th>3</th>\n",
       "      <td>#1 SABOR LATINO RESTAURANT---4120 WHITE PLAINS...</td>\n",
       "      <td>08A, 04L</td>\n",
       "      <td>Not Critical, Critical</td>\n",
       "      <td>41336841</td>\n",
       "      <td>#1 SABOR LATINO RESTAURANT</td>\n",
       "      <td>BRONX</td>\n",
       "      <td>4120</td>\n",
       "      <td>WHITE PLAINS ROAD</td>\n",
       "      <td>10466</td>\n",
       "      <td>7186532222</td>\n",
       "      <td>...</td>\n",
       "      <td>Violations were cited in the following area(s).</td>\n",
       "      <td>08A</td>\n",
       "      <td>Facility not vermin proof. Harborage or condit...</td>\n",
       "      <td>Not Critical</td>\n",
       "      <td>11.0</td>\n",
       "      <td>A</td>\n",
       "      <td>2017-03-16</td>\n",
       "      <td>2017-08-28</td>\n",
       "      <td>Cycle Inspection / Initial Inspection</td>\n",
       "      <td>4120 WHITE PLAINS ROAD BRONX 10466</td>\n",
       "    </tr>\n",
       "    <tr>\n",
       "      <th>4</th>\n",
       "      <td>$1 PIZZA---1276 FULTON ST BROOKLYN 11216</td>\n",
       "      <td>10H, 06E</td>\n",
       "      <td>Not Critical, Critical</td>\n",
       "      <td>50061194</td>\n",
       "      <td>$1 PIZZA</td>\n",
       "      <td>BROOKLYN</td>\n",
       "      <td>1276</td>\n",
       "      <td>FULTON ST</td>\n",
       "      <td>11216</td>\n",
       "      <td>7186384685</td>\n",
       "      <td>...</td>\n",
       "      <td>Violations were cited in the following area(s).</td>\n",
       "      <td>10H</td>\n",
       "      <td>Proper sanitization not provided for utensil w...</td>\n",
       "      <td>Not Critical</td>\n",
       "      <td>10.0</td>\n",
       "      <td>A</td>\n",
       "      <td>2017-05-22</td>\n",
       "      <td>2017-08-28</td>\n",
       "      <td>Pre-permit (Operational) / Re-inspection</td>\n",
       "      <td>1276 FULTON ST BROOKLYN 11216</td>\n",
       "    </tr>\n",
       "  </tbody>\n",
       "</table>\n",
       "<p>5 rows × 22 columns</p>\n",
       "</div>"
      ],
      "text/plain": [
       "                                                 key     violations  \\\n",
       "0  #1 Chinese Restaurant---825 W 181ST ST MANHATT...  06C, 06D, 10F   \n",
       "1  #1 GARDEN CHINESE---221 PROSPECT PARK WEST BRO...       06A, 02G   \n",
       "2  #1 Natural Juice Bar---685 SENECA AVE QUEENS 1...       08A, 04L   \n",
       "3  #1 SABOR LATINO RESTAURANT---4120 WHITE PLAINS...       08A, 04L   \n",
       "4           $1 PIZZA---1276 FULTON ST BROOKLYN 11216       10H, 06E   \n",
       "\n",
       "                           critical     camis                         dba  \\\n",
       "0  Critical, Critical, Not Critical  50050805       #1 Chinese Restaurant   \n",
       "1                Critical, Critical  41568346           #1 GARDEN CHINESE   \n",
       "2            Not Critical, Critical  50051964        #1 Natural Juice Bar   \n",
       "3            Not Critical, Critical  41336841  #1 SABOR LATINO RESTAURANT   \n",
       "4            Not Critical, Critical  50061194                    $1 PIZZA   \n",
       "\n",
       "        boro building              street zipcode       phone  \\\n",
       "0  MANHATTAN      825          W 181ST ST   10033  9173258805   \n",
       "1   BROOKLYN      221  PROSPECT PARK WEST   11215  7188321795   \n",
       "2     QUEENS      685          SENECA AVE   11385  3479565161   \n",
       "3      BRONX     4120   WHITE PLAINS ROAD   10466  7186532222   \n",
       "4   BROOKLYN     1276           FULTON ST   11216  7186384685   \n",
       "\n",
       "                   ...                    \\\n",
       "0                  ...                     \n",
       "1                  ...                     \n",
       "2                  ...                     \n",
       "3                  ...                     \n",
       "4                  ...                     \n",
       "\n",
       "                                            action violation_code  \\\n",
       "0  Violations were cited in the following area(s).            06C   \n",
       "1  Violations were cited in the following area(s).            06A   \n",
       "2  Violations were cited in the following area(s).            08A   \n",
       "3  Violations were cited in the following area(s).            08A   \n",
       "4  Violations were cited in the following area(s).            10H   \n",
       "\n",
       "                               violation_description critical_flag score  \\\n",
       "0  Food not protected from potential source of co...      Critical  13.0   \n",
       "1  Personal cleanliness inadequate. Outer garment...      Critical  12.0   \n",
       "2  Facility not vermin proof. Harborage or condit...  Not Critical  10.0   \n",
       "3  Facility not vermin proof. Harborage or condit...  Not Critical  11.0   \n",
       "4  Proper sanitization not provided for utensil w...  Not Critical  10.0   \n",
       "\n",
       "  grade  grade_date record_date  \\\n",
       "0     A  2016-09-30  2017-08-28   \n",
       "1     A  2017-08-23  2017-08-28   \n",
       "2     A  2017-08-17  2017-08-28   \n",
       "3     A  2017-03-16  2017-08-28   \n",
       "4     A  2017-05-22  2017-08-28   \n",
       "\n",
       "                                 inspection_type  \\\n",
       "0  Pre-permit (Operational) / Initial Inspection   \n",
       "1          Cycle Inspection / Initial Inspection   \n",
       "2          Cycle Inspection / Initial Inspection   \n",
       "3          Cycle Inspection / Initial Inspection   \n",
       "4       Pre-permit (Operational) / Re-inspection   \n",
       "\n",
       "                                 address  \n",
       "0         825 W 181ST ST MANHATTAN 10033  \n",
       "1  221 PROSPECT PARK WEST BROOKLYN 11215  \n",
       "2            685 SENECA AVE QUEENS 11385  \n",
       "3     4120 WHITE PLAINS ROAD BRONX 10466  \n",
       "4          1276 FULTON ST BROOKLYN 11216  \n",
       "\n",
       "[5 rows x 22 columns]"
      ]
     },
     "execution_count": 55,
     "metadata": {},
     "output_type": "execute_result"
    }
   ],
   "source": [
    "df.head()"
   ]
  },
  {
   "cell_type": "code",
   "execution_count": 56,
   "metadata": {
    "ExecuteTime": {
     "end_time": "2017-10-22T15:05:59.101476Z",
     "start_time": "2017-10-22T15:05:59.093632Z"
    },
    "collapsed": true
   },
   "outputs": [],
   "source": [
    "vermin_codes = ['04K','04L','04M','04N','08A']\n",
    "contamination_codes = ['04H','06B','06C','06D','08C']\n",
    "facility_codes = ['10A','10B','10D','10E','10F','10H','15L','22A','22C']\n",
    "food_handling_codes = ['03A','03C','09A','09B','09C']\n",
    "hygiene_codes = ['04D','04F','06A','06E','06F','08B','10I']\n",
    "regulatory_codes = ['04A','16B','20D','20F']\n",
    "temperature_codes = ['02B','02G','02H','05F']"
   ]
  },
  {
   "cell_type": "code",
   "execution_count": 57,
   "metadata": {
    "ExecuteTime": {
     "end_time": "2017-10-22T15:05:59.110340Z",
     "start_time": "2017-10-22T15:05:59.103714Z"
    },
    "collapsed": true
   },
   "outputs": [],
   "source": [
    "vDict = {'04K':'vermin','04L':'vermin','04M':'vermin','04N':'vermin','08A':'vermin',\n",
    "'04H':'contamination','06B':'contamination','06C':'contamination','06D':'contamination',\n",
    "'08C':'contamination','10A':'facility','10B':'facility','10D':'facility','10E':'facility',\n",
    "'10F':'facility','10H':'facility','15L':'facility','22A':'facility','22C':'facility',\n",
    "'03A':'food_handling','03C':'food_handling','09A':'food_handling','09B':'food_handling',\n",
    "'09C':'food_handling','04D':'hygiene','04F':'hygiene','06A':'hygiene','06E':'hygiene',\n",
    "'06F':'hygiene','08B':'hygiene','10I':'hygiene','04A':'regulatory','16B':'regulatory',\n",
    "'20D':'regulatory','20F':'regulatory','02B':'temperature','02G':'temperature','02H':'temperature',\n",
    "'05F':'temperature'}"
   ]
  },
  {
   "cell_type": "code",
   "execution_count": 58,
   "metadata": {
    "ExecuteTime": {
     "end_time": "2017-10-22T15:05:59.130920Z",
     "start_time": "2017-10-22T15:05:59.119994Z"
    },
    "collapsed": true
   },
   "outputs": [],
   "source": [
    "def violations(row,d):\n",
    "    s = ''\n",
    "    for word in row['violations'].split(', '):\n",
    "        for k,v in d.items():\n",
    "            if word == k:\n",
    "                s += v+', '\n",
    "    return s.rstrip(', ')\n",
    "    "
   ]
  },
  {
   "cell_type": "code",
   "execution_count": 59,
   "metadata": {
    "ExecuteTime": {
     "end_time": "2017-10-22T15:06:00.715655Z",
     "start_time": "2017-10-22T15:05:59.135055Z"
    },
    "collapsed": true
   },
   "outputs": [],
   "source": [
    "df['new_violations'] = df.apply(lambda x: violations(x,vDict),axis=1)"
   ]
  },
  {
   "cell_type": "code",
   "execution_count": 60,
   "metadata": {
    "ExecuteTime": {
     "end_time": "2017-10-22T15:06:00.738857Z",
     "start_time": "2017-10-22T15:06:00.717688Z"
    }
   },
   "outputs": [
    {
     "data": {
      "text/html": [
       "<div>\n",
       "<style>\n",
       "    .dataframe thead tr:only-child th {\n",
       "        text-align: right;\n",
       "    }\n",
       "\n",
       "    .dataframe thead th {\n",
       "        text-align: left;\n",
       "    }\n",
       "\n",
       "    .dataframe tbody tr th {\n",
       "        vertical-align: top;\n",
       "    }\n",
       "</style>\n",
       "<table border=\"1\" class=\"dataframe\">\n",
       "  <thead>\n",
       "    <tr style=\"text-align: right;\">\n",
       "      <th></th>\n",
       "      <th>key</th>\n",
       "      <th>violations</th>\n",
       "      <th>critical</th>\n",
       "      <th>camis</th>\n",
       "      <th>dba</th>\n",
       "      <th>boro</th>\n",
       "      <th>building</th>\n",
       "      <th>street</th>\n",
       "      <th>zipcode</th>\n",
       "      <th>phone</th>\n",
       "      <th>...</th>\n",
       "      <th>violation_code</th>\n",
       "      <th>violation_description</th>\n",
       "      <th>critical_flag</th>\n",
       "      <th>score</th>\n",
       "      <th>grade</th>\n",
       "      <th>grade_date</th>\n",
       "      <th>record_date</th>\n",
       "      <th>inspection_type</th>\n",
       "      <th>address</th>\n",
       "      <th>new_violations</th>\n",
       "    </tr>\n",
       "  </thead>\n",
       "  <tbody>\n",
       "    <tr>\n",
       "      <th>0</th>\n",
       "      <td>#1 Chinese Restaurant---825 W 181ST ST MANHATT...</td>\n",
       "      <td>06C, 06D, 10F</td>\n",
       "      <td>Critical, Critical, Not Critical</td>\n",
       "      <td>50050805</td>\n",
       "      <td>#1 Chinese Restaurant</td>\n",
       "      <td>MANHATTAN</td>\n",
       "      <td>825</td>\n",
       "      <td>W 181ST ST</td>\n",
       "      <td>10033</td>\n",
       "      <td>9173258805</td>\n",
       "      <td>...</td>\n",
       "      <td>06C</td>\n",
       "      <td>Food not protected from potential source of co...</td>\n",
       "      <td>Critical</td>\n",
       "      <td>13.0</td>\n",
       "      <td>A</td>\n",
       "      <td>2016-09-30</td>\n",
       "      <td>2017-08-28</td>\n",
       "      <td>Pre-permit (Operational) / Initial Inspection</td>\n",
       "      <td>825 W 181ST ST MANHATTAN 10033</td>\n",
       "      <td>contamination, contamination, facility</td>\n",
       "    </tr>\n",
       "    <tr>\n",
       "      <th>1</th>\n",
       "      <td>#1 GARDEN CHINESE---221 PROSPECT PARK WEST BRO...</td>\n",
       "      <td>06A, 02G</td>\n",
       "      <td>Critical, Critical</td>\n",
       "      <td>41568346</td>\n",
       "      <td>#1 GARDEN CHINESE</td>\n",
       "      <td>BROOKLYN</td>\n",
       "      <td>221</td>\n",
       "      <td>PROSPECT PARK WEST</td>\n",
       "      <td>11215</td>\n",
       "      <td>7188321795</td>\n",
       "      <td>...</td>\n",
       "      <td>06A</td>\n",
       "      <td>Personal cleanliness inadequate. Outer garment...</td>\n",
       "      <td>Critical</td>\n",
       "      <td>12.0</td>\n",
       "      <td>A</td>\n",
       "      <td>2017-08-23</td>\n",
       "      <td>2017-08-28</td>\n",
       "      <td>Cycle Inspection / Initial Inspection</td>\n",
       "      <td>221 PROSPECT PARK WEST BROOKLYN 11215</td>\n",
       "      <td>hygiene, temperature</td>\n",
       "    </tr>\n",
       "    <tr>\n",
       "      <th>2</th>\n",
       "      <td>#1 Natural Juice Bar---685 SENECA AVE QUEENS 1...</td>\n",
       "      <td>08A, 04L</td>\n",
       "      <td>Not Critical, Critical</td>\n",
       "      <td>50051964</td>\n",
       "      <td>#1 Natural Juice Bar</td>\n",
       "      <td>QUEENS</td>\n",
       "      <td>685</td>\n",
       "      <td>SENECA AVE</td>\n",
       "      <td>11385</td>\n",
       "      <td>3479565161</td>\n",
       "      <td>...</td>\n",
       "      <td>08A</td>\n",
       "      <td>Facility not vermin proof. Harborage or condit...</td>\n",
       "      <td>Not Critical</td>\n",
       "      <td>10.0</td>\n",
       "      <td>A</td>\n",
       "      <td>2017-08-17</td>\n",
       "      <td>2017-08-28</td>\n",
       "      <td>Cycle Inspection / Initial Inspection</td>\n",
       "      <td>685 SENECA AVE QUEENS 11385</td>\n",
       "      <td>vermin, vermin</td>\n",
       "    </tr>\n",
       "    <tr>\n",
       "      <th>3</th>\n",
       "      <td>#1 SABOR LATINO RESTAURANT---4120 WHITE PLAINS...</td>\n",
       "      <td>08A, 04L</td>\n",
       "      <td>Not Critical, Critical</td>\n",
       "      <td>41336841</td>\n",
       "      <td>#1 SABOR LATINO RESTAURANT</td>\n",
       "      <td>BRONX</td>\n",
       "      <td>4120</td>\n",
       "      <td>WHITE PLAINS ROAD</td>\n",
       "      <td>10466</td>\n",
       "      <td>7186532222</td>\n",
       "      <td>...</td>\n",
       "      <td>08A</td>\n",
       "      <td>Facility not vermin proof. Harborage or condit...</td>\n",
       "      <td>Not Critical</td>\n",
       "      <td>11.0</td>\n",
       "      <td>A</td>\n",
       "      <td>2017-03-16</td>\n",
       "      <td>2017-08-28</td>\n",
       "      <td>Cycle Inspection / Initial Inspection</td>\n",
       "      <td>4120 WHITE PLAINS ROAD BRONX 10466</td>\n",
       "      <td>vermin, vermin</td>\n",
       "    </tr>\n",
       "    <tr>\n",
       "      <th>4</th>\n",
       "      <td>$1 PIZZA---1276 FULTON ST BROOKLYN 11216</td>\n",
       "      <td>10H, 06E</td>\n",
       "      <td>Not Critical, Critical</td>\n",
       "      <td>50061194</td>\n",
       "      <td>$1 PIZZA</td>\n",
       "      <td>BROOKLYN</td>\n",
       "      <td>1276</td>\n",
       "      <td>FULTON ST</td>\n",
       "      <td>11216</td>\n",
       "      <td>7186384685</td>\n",
       "      <td>...</td>\n",
       "      <td>10H</td>\n",
       "      <td>Proper sanitization not provided for utensil w...</td>\n",
       "      <td>Not Critical</td>\n",
       "      <td>10.0</td>\n",
       "      <td>A</td>\n",
       "      <td>2017-05-22</td>\n",
       "      <td>2017-08-28</td>\n",
       "      <td>Pre-permit (Operational) / Re-inspection</td>\n",
       "      <td>1276 FULTON ST BROOKLYN 11216</td>\n",
       "      <td>facility, hygiene</td>\n",
       "    </tr>\n",
       "  </tbody>\n",
       "</table>\n",
       "<p>5 rows × 23 columns</p>\n",
       "</div>"
      ],
      "text/plain": [
       "                                                 key     violations  \\\n",
       "0  #1 Chinese Restaurant---825 W 181ST ST MANHATT...  06C, 06D, 10F   \n",
       "1  #1 GARDEN CHINESE---221 PROSPECT PARK WEST BRO...       06A, 02G   \n",
       "2  #1 Natural Juice Bar---685 SENECA AVE QUEENS 1...       08A, 04L   \n",
       "3  #1 SABOR LATINO RESTAURANT---4120 WHITE PLAINS...       08A, 04L   \n",
       "4           $1 PIZZA---1276 FULTON ST BROOKLYN 11216       10H, 06E   \n",
       "\n",
       "                           critical     camis                         dba  \\\n",
       "0  Critical, Critical, Not Critical  50050805       #1 Chinese Restaurant   \n",
       "1                Critical, Critical  41568346           #1 GARDEN CHINESE   \n",
       "2            Not Critical, Critical  50051964        #1 Natural Juice Bar   \n",
       "3            Not Critical, Critical  41336841  #1 SABOR LATINO RESTAURANT   \n",
       "4            Not Critical, Critical  50061194                    $1 PIZZA   \n",
       "\n",
       "        boro building              street zipcode       phone  \\\n",
       "0  MANHATTAN      825          W 181ST ST   10033  9173258805   \n",
       "1   BROOKLYN      221  PROSPECT PARK WEST   11215  7188321795   \n",
       "2     QUEENS      685          SENECA AVE   11385  3479565161   \n",
       "3      BRONX     4120   WHITE PLAINS ROAD   10466  7186532222   \n",
       "4   BROOKLYN     1276           FULTON ST   11216  7186384685   \n",
       "\n",
       "                    ...                   violation_code  \\\n",
       "0                   ...                              06C   \n",
       "1                   ...                              06A   \n",
       "2                   ...                              08A   \n",
       "3                   ...                              08A   \n",
       "4                   ...                              10H   \n",
       "\n",
       "                               violation_description critical_flag score  \\\n",
       "0  Food not protected from potential source of co...      Critical  13.0   \n",
       "1  Personal cleanliness inadequate. Outer garment...      Critical  12.0   \n",
       "2  Facility not vermin proof. Harborage or condit...  Not Critical  10.0   \n",
       "3  Facility not vermin proof. Harborage or condit...  Not Critical  11.0   \n",
       "4  Proper sanitization not provided for utensil w...  Not Critical  10.0   \n",
       "\n",
       "  grade grade_date  record_date  \\\n",
       "0     A 2016-09-30   2017-08-28   \n",
       "1     A 2017-08-23   2017-08-28   \n",
       "2     A 2017-08-17   2017-08-28   \n",
       "3     A 2017-03-16   2017-08-28   \n",
       "4     A 2017-05-22   2017-08-28   \n",
       "\n",
       "                                 inspection_type  \\\n",
       "0  Pre-permit (Operational) / Initial Inspection   \n",
       "1          Cycle Inspection / Initial Inspection   \n",
       "2          Cycle Inspection / Initial Inspection   \n",
       "3          Cycle Inspection / Initial Inspection   \n",
       "4       Pre-permit (Operational) / Re-inspection   \n",
       "\n",
       "                                 address  \\\n",
       "0         825 W 181ST ST MANHATTAN 10033   \n",
       "1  221 PROSPECT PARK WEST BROOKLYN 11215   \n",
       "2            685 SENECA AVE QUEENS 11385   \n",
       "3     4120 WHITE PLAINS ROAD BRONX 10466   \n",
       "4          1276 FULTON ST BROOKLYN 11216   \n",
       "\n",
       "                           new_violations  \n",
       "0  contamination, contamination, facility  \n",
       "1                    hygiene, temperature  \n",
       "2                          vermin, vermin  \n",
       "3                          vermin, vermin  \n",
       "4                       facility, hygiene  \n",
       "\n",
       "[5 rows x 23 columns]"
      ]
     },
     "execution_count": 60,
     "metadata": {},
     "output_type": "execute_result"
    }
   ],
   "source": [
    "df.head()"
   ]
  },
  {
   "cell_type": "code",
   "execution_count": 61,
   "metadata": {
    "ExecuteTime": {
     "end_time": "2017-10-22T15:06:00.744591Z",
     "start_time": "2017-10-22T15:06:00.741096Z"
    },
    "collapsed": true
   },
   "outputs": [],
   "source": [
    "#df.drop(['violation_code','violation_description','action'],axis=1,inplace=True)"
   ]
  },
  {
   "cell_type": "code",
   "execution_count": 62,
   "metadata": {
    "ExecuteTime": {
     "end_time": "2017-10-22T15:06:00.752489Z",
     "start_time": "2017-10-22T15:06:00.746447Z"
    }
   },
   "outputs": [
    {
     "data": {
      "text/plain": [
       "array(['Pre-permit (Operational) / Initial Inspection',\n",
       "       'Cycle Inspection / Initial Inspection',\n",
       "       'Pre-permit (Operational) / Re-inspection',\n",
       "       'Cycle Inspection / Re-inspection',\n",
       "       'Smoke-Free Air Act / Initial Inspection',\n",
       "       'Administrative Miscellaneous / Re-inspection',\n",
       "       'Administrative Miscellaneous / Initial Inspection',\n",
       "       'Cycle Inspection / Reopening Inspection',\n",
       "       'Pre-permit (Non-operational) / Initial Inspection',\n",
       "       'Pre-permit (Operational) / Reopening Inspection',\n",
       "       'Trans Fat / Initial Inspection',\n",
       "       'Inter-Agency Task Force / Initial Inspection',\n",
       "       'Cycle Inspection / Compliance Inspection',\n",
       "       'Administrative Miscellaneous / Reopening Inspection',\n",
       "       'Pre-permit (Operational) / Compliance Inspection',\n",
       "       'Calorie Posting / Initial Inspection',\n",
       "       'Pre-permit (Non-operational) / Re-inspection',\n",
       "       'Smoke-Free Air Act / Re-inspection',\n",
       "       'Calorie Posting / Re-inspection',\n",
       "       'Cycle Inspection / Second Compliance Inspection',\n",
       "       'Administrative Miscellaneous / Compliance Inspection',\n",
       "       'Trans Fat / Re-inspection',\n",
       "       'Pre-permit (Operational) / Second Compliance Inspection',\n",
       "       'Administrative Miscellaneous / Second Compliance Inspection',\n",
       "       'Trans Fat / Second Compliance Inspection',\n",
       "       'Calorie Posting / Compliance Inspection',\n",
       "       'Pre-permit (Non-operational) / Compliance Inspection'], dtype=object)"
      ]
     },
     "execution_count": 62,
     "metadata": {},
     "output_type": "execute_result"
    }
   ],
   "source": [
    "df.inspection_type.unique()"
   ]
  },
  {
   "cell_type": "code",
   "execution_count": 63,
   "metadata": {
    "ExecuteTime": {
     "end_time": "2017-10-22T15:06:00.760414Z",
     "start_time": "2017-10-22T15:06:00.754306Z"
    }
   },
   "outputs": [
    {
     "data": {
      "text/plain": [
       "array(['Chinese', 'Juice, Smoothies, Fruit Salads',\n",
       "       'Latin (Cuban, Dominican, Puerto Rican, South & Central American)',\n",
       "       'Pizza', 'American', 'Italian', 'CafÃ©/Coffee/Tea', 'Asian',\n",
       "       'Indian', 'Japanese', 'Bakery', 'Mediterranean',\n",
       "       'Ice Cream, Gelato, Yogurt, Ices', 'Spanish', 'Delicatessen',\n",
       "       'Jewish/Kosher', 'Greek', 'African', 'Tex-Mex', 'Middle Eastern',\n",
       "       'Egyptian', 'Pizza/Italian', 'Seafood', 'Other', 'Salads',\n",
       "       'Mexican', 'Steak', 'Thai', 'Caribbean', 'Filipino', 'Hamburgers',\n",
       "       'Korean', 'Not Listed/Not Applicable', 'Russian', 'French', 'Irish',\n",
       "       'Chinese/Cuban',\n",
       "       'Bottled beverages, including water, sodas, juices, etc.', 'Donuts',\n",
       "       'Chicken', 'Sandwiches', 'Vietnamese/Cambodian/Malaysia',\n",
       "       'Bagels/Pretzels', 'Portuguese', 'Chinese/Japanese', 'Turkish',\n",
       "       'Tapas', 'Bangladeshi', 'Ethiopian', 'Vegetarian', 'Moroccan',\n",
       "       'Afghan', 'Pakistani', 'Armenian', 'Soul Food',\n",
       "       'Sandwiches/Salads/Mixed Buffet', 'Hawaiian', 'Continental',\n",
       "       'Eastern European', 'Peruvian', 'Hotdogs/Pretzels', 'Scandinavian',\n",
       "       'Brazilian', 'Barbecue', 'Indonesian', 'Soups & Sandwiches',\n",
       "       'Australian', 'Californian', 'Hotdogs', 'German', 'Cajun', 'Creole',\n",
       "       'Czech', 'Creole/Cajun', 'Polynesian', 'Chilean', 'English',\n",
       "       'Polish', 'Pancakes/Waffles', 'Fruits/Vegetables', 'Soups',\n",
       "       'Southwestern', 'Nuts/Confectionary', 'Iranian'], dtype=object)"
      ]
     },
     "execution_count": 63,
     "metadata": {},
     "output_type": "execute_result"
    }
   ],
   "source": [
    "df.cuisine_description.unique()"
   ]
  },
  {
   "cell_type": "code",
   "execution_count": 64,
   "metadata": {
    "ExecuteTime": {
     "end_time": "2017-10-22T15:06:00.790569Z",
     "start_time": "2017-10-22T15:06:00.762352Z"
    },
    "collapsed": true
   },
   "outputs": [],
   "source": [
    "gradeMask = (df['grade'] == 'A') | (df['grade'] == 'B') | (df['grade']== 'C')\n",
    "gradeDF = df[gradeMask]"
   ]
  },
  {
   "cell_type": "code",
   "execution_count": 65,
   "metadata": {
    "ExecuteTime": {
     "end_time": "2017-10-22T15:06:00.797928Z",
     "start_time": "2017-10-22T15:06:00.792533Z"
    }
   },
   "outputs": [
    {
     "data": {
      "text/plain": [
       "(20284, 23)"
      ]
     },
     "execution_count": 65,
     "metadata": {},
     "output_type": "execute_result"
    }
   ],
   "source": [
    "gradeDF.shape"
   ]
  },
  {
   "cell_type": "code",
   "execution_count": 66,
   "metadata": {
    "ExecuteTime": {
     "end_time": "2017-10-22T15:06:01.188804Z",
     "start_time": "2017-10-22T15:06:00.800632Z"
    }
   },
   "outputs": [
    {
     "data": {
      "text/plain": [
       "<matplotlib.text.Text at 0x1a22a622e8>"
      ]
     },
     "execution_count": 66,
     "metadata": {},
     "output_type": "execute_result"
    },
    {
     "data": {
      "image/png": "[encoded data removed]",
      "text/plain": [
       "<matplotlib.figure.Figure at 0x1a22b20f28>"
      ]
     },
     "metadata": {},
     "output_type": "display_data"
    }
   ],
   "source": [
    "gradeGroup = gradeDF.groupby('grade').grade.count()\n",
    "gradeGroup.plot(kind='bar')\n",
    "plt.ylabel(\"Count\")\n",
    "plt.xlabel(\"Health Grade\")"
   ]
  },
  {
   "cell_type": "code",
   "execution_count": 67,
   "metadata": {
    "ExecuteTime": {
     "end_time": "2017-10-22T15:06:01.196313Z",
     "start_time": "2017-10-22T15:06:01.190991Z"
    }
   },
   "outputs": [
    {
     "data": {
      "text/plain": [
       "(20284, 23)"
      ]
     },
     "execution_count": 67,
     "metadata": {},
     "output_type": "execute_result"
    }
   ],
   "source": [
    "gradeDF.shape"
   ]
  },
  {
   "cell_type": "code",
   "execution_count": 68,
   "metadata": {
    "ExecuteTime": {
     "end_time": "2017-10-22T15:06:01.203810Z",
     "start_time": "2017-10-22T15:06:01.198249Z"
    }
   },
   "outputs": [
    {
     "data": {
      "text/plain": [
       "grade\n",
       "A    19241\n",
       "B      947\n",
       "C       96\n",
       "Name: grade, dtype: int64"
      ]
     },
     "execution_count": 68,
     "metadata": {},
     "output_type": "execute_result"
    }
   ],
   "source": [
    "gradeGroup"
   ]
  },
  {
   "cell_type": "code",
   "execution_count": 69,
   "metadata": {
    "ExecuteTime": {
     "end_time": "2017-10-22T15:06:01.209163Z",
     "start_time": "2017-10-22T15:06:01.206016Z"
    },
    "collapsed": true
   },
   "outputs": [],
   "source": [
    "df = gradeDF"
   ]
  },
  {
   "cell_type": "code",
   "execution_count": 70,
   "metadata": {
    "ExecuteTime": {
     "end_time": "2017-10-22T15:06:01.339644Z",
     "start_time": "2017-10-22T15:06:01.211455Z"
    },
    "collapsed": true
   },
   "outputs": [],
   "source": [
    "df['inspection_date'] = pd.to_datetime(df.inspection_date)"
   ]
  },
  {
   "cell_type": "code",
   "execution_count": 71,
   "metadata": {
    "ExecuteTime": {
     "end_time": "2017-10-22T15:06:01.359585Z",
     "start_time": "2017-10-22T15:06:01.342902Z"
    },
    "collapsed": true
   },
   "outputs": [],
   "source": [
    "df['inspection_year'] = df.inspection_date.dt.year "
   ]
  },
  {
   "cell_type": "code",
   "execution_count": 72,
   "metadata": {
    "ExecuteTime": {
     "end_time": "2017-10-22T15:06:01.576674Z",
     "start_time": "2017-10-22T15:06:01.362477Z"
    }
   },
   "outputs": [
    {
     "data": {
      "text/plain": [
       "<matplotlib.text.Text at 0x1a19522d68>"
      ]
     },
     "execution_count": 72,
     "metadata": {},
     "output_type": "execute_result"
    },
    {
     "data": {
      "image/png": "[encoded data removed]",
      "text/plain": [
       "<matplotlib.figure.Figure at 0x1a19511898>"
      ]
     },
     "metadata": {},
     "output_type": "display_data"
    }
   ],
   "source": [
    "gradeYearGroup = df.groupby(['inspection_year','grade']).camis.count().reset_index()\n",
    "year_ticks = ('2014','2015','2016')\n",
    "#entry_ticks = (200,300,400)\n",
    "plot_out = gradeYearGroup.pivot('inspection_year','grade','camis').plot(kind='line',figsize=(11,6))\n",
    "plt.xticks(range(2014,2017),year_ticks)\n",
    "plt.xlabel(\"Inspection Year\")\n",
    "plt.xlabel(\"Grade Count\")"
   ]
  },
  {
   "cell_type": "markdown",
   "metadata": {},
   "source": [
    "### Agregate Violations by Restaurant"
   ]
  },
  {
   "cell_type": "code",
   "execution_count": 73,
   "metadata": {
    "ExecuteTime": {
     "end_time": "2017-10-22T15:06:01.598850Z",
     "start_time": "2017-10-22T15:06:01.578384Z"
    },
    "collapsed": true
   },
   "outputs": [],
   "source": [
    "df.dropna(subset=['dba','zipcode'],inplace=True,axis=0)"
   ]
  },
  {
   "cell_type": "code",
   "execution_count": 74,
   "metadata": {
    "ExecuteTime": {
     "end_time": "2017-10-22T15:06:01.609438Z",
     "start_time": "2017-10-22T15:06:01.601318Z"
    },
    "collapsed": true
   },
   "outputs": [],
   "source": [
    "df.address.replace(\"MANHATTAN\",\"NEW YORK\",inplace=True)"
   ]
  },
  {
   "cell_type": "code",
   "execution_count": 75,
   "metadata": {
    "ExecuteTime": {
     "end_time": "2017-10-22T15:06:01.616294Z",
     "start_time": "2017-10-22T15:06:01.611411Z"
    }
   },
   "outputs": [
    {
     "data": {
      "text/plain": [
       "(20284, 24)"
      ]
     },
     "execution_count": 75,
     "metadata": {},
     "output_type": "execute_result"
    }
   ],
   "source": [
    "df.shape"
   ]
  },
  {
   "cell_type": "code",
   "execution_count": 76,
   "metadata": {
    "ExecuteTime": {
     "end_time": "2017-10-22T15:06:01.771318Z",
     "start_time": "2017-10-22T15:06:01.618341Z"
    },
    "collapsed": true
   },
   "outputs": [],
   "source": [
    "df['violation_count'] = 1\n",
    "restGroup = df.groupby(['dba','address']).violation_count.sum().reset_index()\n",
    "restGroup.sort_values('violation_count',ascending=False,inplace=True)"
   ]
  },
  {
   "cell_type": "code",
   "execution_count": 77,
   "metadata": {
    "ExecuteTime": {
     "end_time": "2017-10-22T15:06:01.775786Z",
     "start_time": "2017-10-22T15:06:01.773025Z"
    },
    "collapsed": true
   },
   "outputs": [],
   "source": [
    "#df.to_csv('test.csv')"
   ]
  },
  {
   "cell_type": "code",
   "execution_count": 78,
   "metadata": {
    "ExecuteTime": {
     "end_time": "2017-10-22T15:06:01.786764Z",
     "start_time": "2017-10-22T15:06:01.777704Z"
    }
   },
   "outputs": [
    {
     "data": {
      "text/html": [
       "<div>\n",
       "<style>\n",
       "    .dataframe thead tr:only-child th {\n",
       "        text-align: right;\n",
       "    }\n",
       "\n",
       "    .dataframe thead th {\n",
       "        text-align: left;\n",
       "    }\n",
       "\n",
       "    .dataframe tbody tr th {\n",
       "        vertical-align: top;\n",
       "    }\n",
       "</style>\n",
       "<table border=\"1\" class=\"dataframe\">\n",
       "  <thead>\n",
       "    <tr style=\"text-align: right;\">\n",
       "      <th></th>\n",
       "      <th>dba</th>\n",
       "      <th>address</th>\n",
       "      <th>violation_count</th>\n",
       "    </tr>\n",
       "  </thead>\n",
       "  <tbody>\n",
       "    <tr>\n",
       "      <th>0</th>\n",
       "      <td>#1 Chinese Restaurant</td>\n",
       "      <td>825 W 181ST ST MANHATTAN 10033</td>\n",
       "      <td>1</td>\n",
       "    </tr>\n",
       "    <tr>\n",
       "      <th>13520</th>\n",
       "      <td>OVERLOOK</td>\n",
       "      <td>225 EAST   44 STREET MANHATTAN 10017</td>\n",
       "      <td>1</td>\n",
       "    </tr>\n",
       "    <tr>\n",
       "      <th>13527</th>\n",
       "      <td>OXFORD CAFE</td>\n",
       "      <td>109 EAST   59 STREET MANHATTAN 10022</td>\n",
       "      <td>1</td>\n",
       "    </tr>\n",
       "    <tr>\n",
       "      <th>13526</th>\n",
       "      <td>OXFORD BAKE SHOP</td>\n",
       "      <td>10401 LIBERTY AVENUE QUEENS 11417</td>\n",
       "      <td>1</td>\n",
       "    </tr>\n",
       "    <tr>\n",
       "      <th>13525</th>\n",
       "      <td>OX VERTE</td>\n",
       "      <td>63 READE ST MANHATTAN 10007</td>\n",
       "      <td>1</td>\n",
       "    </tr>\n",
       "  </tbody>\n",
       "</table>\n",
       "</div>"
      ],
      "text/plain": [
       "                         dba                               address  \\\n",
       "0      #1 Chinese Restaurant        825 W 181ST ST MANHATTAN 10033   \n",
       "13520               OVERLOOK  225 EAST   44 STREET MANHATTAN 10017   \n",
       "13527            OXFORD CAFE  109 EAST   59 STREET MANHATTAN 10022   \n",
       "13526       OXFORD BAKE SHOP     10401 LIBERTY AVENUE QUEENS 11417   \n",
       "13525               OX VERTE           63 READE ST MANHATTAN 10007   \n",
       "\n",
       "       violation_count  \n",
       "0                    1  \n",
       "13520                1  \n",
       "13527                1  \n",
       "13526                1  \n",
       "13525                1  "
      ]
     },
     "execution_count": 78,
     "metadata": {},
     "output_type": "execute_result"
    }
   ],
   "source": [
    "restGroup.head()"
   ]
  },
  {
   "cell_type": "code",
   "execution_count": 79,
   "metadata": {
    "ExecuteTime": {
     "end_time": "2017-10-22T15:06:01.793160Z",
     "start_time": "2017-10-22T15:06:01.788731Z"
    }
   },
   "outputs": [
    {
     "data": {
      "text/plain": [
       "(20284, 3)"
      ]
     },
     "execution_count": 79,
     "metadata": {},
     "output_type": "execute_result"
    }
   ],
   "source": [
    "restGroup.shape"
   ]
  },
  {
   "cell_type": "markdown",
   "metadata": {},
   "source": [
    "### Prepare to match with Yelp"
   ]
  },
  {
   "cell_type": "code",
   "execution_count": 80,
   "metadata": {
    "ExecuteTime": {
     "end_time": "2017-10-22T15:06:01.798847Z",
     "start_time": "2017-10-22T15:06:01.794937Z"
    }
   },
   "outputs": [
    {
     "data": {
      "text/plain": [
       "['key',\n",
       " 'violations',\n",
       " 'critical',\n",
       " 'camis',\n",
       " 'dba',\n",
       " 'boro',\n",
       " 'building',\n",
       " 'street',\n",
       " 'zipcode',\n",
       " 'phone',\n",
       " 'cuisine_description',\n",
       " 'inspection_date',\n",
       " 'action',\n",
       " 'violation_code',\n",
       " 'violation_description',\n",
       " 'critical_flag',\n",
       " 'score',\n",
       " 'grade',\n",
       " 'grade_date',\n",
       " 'record_date',\n",
       " 'inspection_type',\n",
       " 'address',\n",
       " 'new_violations',\n",
       " 'inspection_year',\n",
       " 'violation_count']"
      ]
     },
     "execution_count": 80,
     "metadata": {},
     "output_type": "execute_result"
    }
   ],
   "source": [
    "df.columns.tolist()"
   ]
  },
  {
   "cell_type": "code",
   "execution_count": 81,
   "metadata": {
    "ExecuteTime": {
     "end_time": "2017-10-22T15:06:01.825419Z",
     "start_time": "2017-10-22T15:06:01.801008Z"
    }
   },
   "outputs": [
    {
     "data": {
      "text/html": [
       "<div>\n",
       "<style>\n",
       "    .dataframe thead tr:only-child th {\n",
       "        text-align: right;\n",
       "    }\n",
       "\n",
       "    .dataframe thead th {\n",
       "        text-align: left;\n",
       "    }\n",
       "\n",
       "    .dataframe tbody tr th {\n",
       "        vertical-align: top;\n",
       "    }\n",
       "</style>\n",
       "<table border=\"1\" class=\"dataframe\">\n",
       "  <thead>\n",
       "    <tr style=\"text-align: right;\">\n",
       "      <th></th>\n",
       "      <th>key</th>\n",
       "      <th>violations</th>\n",
       "      <th>critical</th>\n",
       "      <th>camis</th>\n",
       "      <th>dba</th>\n",
       "      <th>boro</th>\n",
       "      <th>building</th>\n",
       "      <th>street</th>\n",
       "      <th>zipcode</th>\n",
       "      <th>phone</th>\n",
       "      <th>...</th>\n",
       "      <th>critical_flag</th>\n",
       "      <th>score</th>\n",
       "      <th>grade</th>\n",
       "      <th>grade_date</th>\n",
       "      <th>record_date</th>\n",
       "      <th>inspection_type</th>\n",
       "      <th>address</th>\n",
       "      <th>new_violations</th>\n",
       "      <th>inspection_year</th>\n",
       "      <th>violation_count</th>\n",
       "    </tr>\n",
       "  </thead>\n",
       "  <tbody>\n",
       "    <tr>\n",
       "      <th>0</th>\n",
       "      <td>#1 Chinese Restaurant---825 W 181ST ST MANHATT...</td>\n",
       "      <td>06C, 06D, 10F</td>\n",
       "      <td>Critical, Critical, Not Critical</td>\n",
       "      <td>50050805</td>\n",
       "      <td>#1 Chinese Restaurant</td>\n",
       "      <td>MANHATTAN</td>\n",
       "      <td>825</td>\n",
       "      <td>W 181ST ST</td>\n",
       "      <td>10033</td>\n",
       "      <td>9173258805</td>\n",
       "      <td>...</td>\n",
       "      <td>Critical</td>\n",
       "      <td>13.0</td>\n",
       "      <td>A</td>\n",
       "      <td>2016-09-30</td>\n",
       "      <td>2017-08-28</td>\n",
       "      <td>Pre-permit (Operational) / Initial Inspection</td>\n",
       "      <td>825 W 181ST ST MANHATTAN 10033</td>\n",
       "      <td>contamination, contamination, facility</td>\n",
       "      <td>2016</td>\n",
       "      <td>1</td>\n",
       "    </tr>\n",
       "    <tr>\n",
       "      <th>1</th>\n",
       "      <td>#1 GARDEN CHINESE---221 PROSPECT PARK WEST BRO...</td>\n",
       "      <td>06A, 02G</td>\n",
       "      <td>Critical, Critical</td>\n",
       "      <td>41568346</td>\n",
       "      <td>#1 GARDEN CHINESE</td>\n",
       "      <td>BROOKLYN</td>\n",
       "      <td>221</td>\n",
       "      <td>PROSPECT PARK WEST</td>\n",
       "      <td>11215</td>\n",
       "      <td>7188321795</td>\n",
       "      <td>...</td>\n",
       "      <td>Critical</td>\n",
       "      <td>12.0</td>\n",
       "      <td>A</td>\n",
       "      <td>2017-08-23</td>\n",
       "      <td>2017-08-28</td>\n",
       "      <td>Cycle Inspection / Initial Inspection</td>\n",
       "      <td>221 PROSPECT PARK WEST BROOKLYN 11215</td>\n",
       "      <td>hygiene, temperature</td>\n",
       "      <td>2017</td>\n",
       "      <td>1</td>\n",
       "    </tr>\n",
       "    <tr>\n",
       "      <th>2</th>\n",
       "      <td>#1 Natural Juice Bar---685 SENECA AVE QUEENS 1...</td>\n",
       "      <td>08A, 04L</td>\n",
       "      <td>Not Critical, Critical</td>\n",
       "      <td>50051964</td>\n",
       "      <td>#1 Natural Juice Bar</td>\n",
       "      <td>QUEENS</td>\n",
       "      <td>685</td>\n",
       "      <td>SENECA AVE</td>\n",
       "      <td>11385</td>\n",
       "      <td>3479565161</td>\n",
       "      <td>...</td>\n",
       "      <td>Not Critical</td>\n",
       "      <td>10.0</td>\n",
       "      <td>A</td>\n",
       "      <td>2017-08-17</td>\n",
       "      <td>2017-08-28</td>\n",
       "      <td>Cycle Inspection / Initial Inspection</td>\n",
       "      <td>685 SENECA AVE QUEENS 11385</td>\n",
       "      <td>vermin, vermin</td>\n",
       "      <td>2017</td>\n",
       "      <td>1</td>\n",
       "    </tr>\n",
       "    <tr>\n",
       "      <th>3</th>\n",
       "      <td>#1 SABOR LATINO RESTAURANT---4120 WHITE PLAINS...</td>\n",
       "      <td>08A, 04L</td>\n",
       "      <td>Not Critical, Critical</td>\n",
       "      <td>41336841</td>\n",
       "      <td>#1 SABOR LATINO RESTAURANT</td>\n",
       "      <td>BRONX</td>\n",
       "      <td>4120</td>\n",
       "      <td>WHITE PLAINS ROAD</td>\n",
       "      <td>10466</td>\n",
       "      <td>7186532222</td>\n",
       "      <td>...</td>\n",
       "      <td>Not Critical</td>\n",
       "      <td>11.0</td>\n",
       "      <td>A</td>\n",
       "      <td>2017-03-16</td>\n",
       "      <td>2017-08-28</td>\n",
       "      <td>Cycle Inspection / Initial Inspection</td>\n",
       "      <td>4120 WHITE PLAINS ROAD BRONX 10466</td>\n",
       "      <td>vermin, vermin</td>\n",
       "      <td>2017</td>\n",
       "      <td>1</td>\n",
       "    </tr>\n",
       "    <tr>\n",
       "      <th>4</th>\n",
       "      <td>$1 PIZZA---1276 FULTON ST BROOKLYN 11216</td>\n",
       "      <td>10H, 06E</td>\n",
       "      <td>Not Critical, Critical</td>\n",
       "      <td>50061194</td>\n",
       "      <td>$1 PIZZA</td>\n",
       "      <td>BROOKLYN</td>\n",
       "      <td>1276</td>\n",
       "      <td>FULTON ST</td>\n",
       "      <td>11216</td>\n",
       "      <td>7186384685</td>\n",
       "      <td>...</td>\n",
       "      <td>Not Critical</td>\n",
       "      <td>10.0</td>\n",
       "      <td>A</td>\n",
       "      <td>2017-05-22</td>\n",
       "      <td>2017-08-28</td>\n",
       "      <td>Pre-permit (Operational) / Re-inspection</td>\n",
       "      <td>1276 FULTON ST BROOKLYN 11216</td>\n",
       "      <td>facility, hygiene</td>\n",
       "      <td>2017</td>\n",
       "      <td>1</td>\n",
       "    </tr>\n",
       "  </tbody>\n",
       "</table>\n",
       "<p>5 rows × 25 columns</p>\n",
       "</div>"
      ],
      "text/plain": [
       "                                                 key     violations  \\\n",
       "0  #1 Chinese Restaurant---825 W 181ST ST MANHATT...  06C, 06D, 10F   \n",
       "1  #1 GARDEN CHINESE---221 PROSPECT PARK WEST BRO...       06A, 02G   \n",
       "2  #1 Natural Juice Bar---685 SENECA AVE QUEENS 1...       08A, 04L   \n",
       "3  #1 SABOR LATINO RESTAURANT---4120 WHITE PLAINS...       08A, 04L   \n",
       "4           $1 PIZZA---1276 FULTON ST BROOKLYN 11216       10H, 06E   \n",
       "\n",
       "                           critical     camis                         dba  \\\n",
       "0  Critical, Critical, Not Critical  50050805       #1 Chinese Restaurant   \n",
       "1                Critical, Critical  41568346           #1 GARDEN CHINESE   \n",
       "2            Not Critical, Critical  50051964        #1 Natural Juice Bar   \n",
       "3            Not Critical, Critical  41336841  #1 SABOR LATINO RESTAURANT   \n",
       "4            Not Critical, Critical  50061194                    $1 PIZZA   \n",
       "\n",
       "        boro building              street zipcode       phone       ...        \\\n",
       "0  MANHATTAN      825          W 181ST ST   10033  9173258805       ...         \n",
       "1   BROOKLYN      221  PROSPECT PARK WEST   11215  7188321795       ...         \n",
       "2     QUEENS      685          SENECA AVE   11385  3479565161       ...         \n",
       "3      BRONX     4120   WHITE PLAINS ROAD   10466  7186532222       ...         \n",
       "4   BROOKLYN     1276           FULTON ST   11216  7186384685       ...         \n",
       "\n",
       "  critical_flag score grade grade_date record_date  \\\n",
       "0      Critical  13.0     A 2016-09-30  2017-08-28   \n",
       "1      Critical  12.0     A 2017-08-23  2017-08-28   \n",
       "2  Not Critical  10.0     A 2017-08-17  2017-08-28   \n",
       "3  Not Critical  11.0     A 2017-03-16  2017-08-28   \n",
       "4  Not Critical  10.0     A 2017-05-22  2017-08-28   \n",
       "\n",
       "                                 inspection_type  \\\n",
       "0  Pre-permit (Operational) / Initial Inspection   \n",
       "1          Cycle Inspection / Initial Inspection   \n",
       "2          Cycle Inspection / Initial Inspection   \n",
       "3          Cycle Inspection / Initial Inspection   \n",
       "4       Pre-permit (Operational) / Re-inspection   \n",
       "\n",
       "                                 address  \\\n",
       "0         825 W 181ST ST MANHATTAN 10033   \n",
       "1  221 PROSPECT PARK WEST BROOKLYN 11215   \n",
       "2            685 SENECA AVE QUEENS 11385   \n",
       "3     4120 WHITE PLAINS ROAD BRONX 10466   \n",
       "4          1276 FULTON ST BROOKLYN 11216   \n",
       "\n",
       "                           new_violations inspection_year violation_count  \n",
       "0  contamination, contamination, facility            2016               1  \n",
       "1                    hygiene, temperature            2017               1  \n",
       "2                          vermin, vermin            2017               1  \n",
       "3                          vermin, vermin            2017               1  \n",
       "4                       facility, hygiene            2017               1  \n",
       "\n",
       "[5 rows x 25 columns]"
      ]
     },
     "execution_count": 81,
     "metadata": {},
     "output_type": "execute_result"
    }
   ],
   "source": [
    "df.head()"
   ]
  },
  {
   "cell_type": "code",
   "execution_count": 82,
   "metadata": {
    "ExecuteTime": {
     "end_time": "2017-10-22T15:06:01.835923Z",
     "start_time": "2017-10-22T15:06:01.827858Z"
    },
    "collapsed": true
   },
   "outputs": [],
   "source": [
    "uniqueDF = df.copy()"
   ]
  },
  {
   "cell_type": "code",
   "execution_count": 83,
   "metadata": {
    "ExecuteTime": {
     "end_time": "2017-10-22T15:06:01.875127Z",
     "start_time": "2017-10-22T15:06:01.837651Z"
    }
   },
   "outputs": [
    {
     "name": "stdout",
     "output_type": "stream",
     "text": [
      "<class 'pandas.core.frame.DataFrame'>\n",
      "Int64Index: 20284 entries, 0 to 25984\n",
      "Data columns (total 25 columns):\n",
      "key                      20284 non-null object\n",
      "violations               20284 non-null object\n",
      "critical                 20284 non-null object\n",
      "camis                    20284 non-null int64\n",
      "dba                      20284 non-null object\n",
      "boro                     20284 non-null object\n",
      "building                 20284 non-null object\n",
      "street                   20284 non-null object\n",
      "zipcode                  20284 non-null object\n",
      "phone                    20284 non-null object\n",
      "cuisine_description      20284 non-null object\n",
      "inspection_date          20284 non-null datetime64[ns]\n",
      "action                   20284 non-null object\n",
      "violation_code           20284 non-null object\n",
      "violation_description    20254 non-null object\n",
      "critical_flag            20284 non-null object\n",
      "score                    20284 non-null float64\n",
      "grade                    20284 non-null object\n",
      "grade_date               20284 non-null datetime64[ns]\n",
      "record_date              20284 non-null datetime64[ns]\n",
      "inspection_type          20284 non-null object\n",
      "address                  20284 non-null object\n",
      "new_violations           20284 non-null object\n",
      "inspection_year          20284 non-null int64\n",
      "violation_count          20284 non-null int64\n",
      "dtypes: datetime64[ns](3), float64(1), int64(3), object(18)\n",
      "memory usage: 4.0+ MB\n"
     ]
    }
   ],
   "source": [
    "uniqueDF.info()"
   ]
  },
  {
   "cell_type": "code",
   "execution_count": 84,
   "metadata": {
    "ExecuteTime": {
     "end_time": "2017-10-22T15:06:01.883923Z",
     "start_time": "2017-10-22T15:06:01.877095Z"
    }
   },
   "outputs": [
    {
     "data": {
      "text/plain": [
       "0"
      ]
     },
     "execution_count": 84,
     "metadata": {},
     "output_type": "execute_result"
    }
   ],
   "source": [
    "uniqueDF.grade.isnull().sum()"
   ]
  },
  {
   "cell_type": "code",
   "execution_count": 85,
   "metadata": {
    "ExecuteTime": {
     "end_time": "2017-10-22T15:06:01.911104Z",
     "start_time": "2017-10-22T15:06:01.885824Z"
    }
   },
   "outputs": [
    {
     "data": {
      "text/html": [
       "<div>\n",
       "<style>\n",
       "    .dataframe thead tr:only-child th {\n",
       "        text-align: right;\n",
       "    }\n",
       "\n",
       "    .dataframe thead th {\n",
       "        text-align: left;\n",
       "    }\n",
       "\n",
       "    .dataframe tbody tr th {\n",
       "        vertical-align: top;\n",
       "    }\n",
       "</style>\n",
       "<table border=\"1\" class=\"dataframe\">\n",
       "  <thead>\n",
       "    <tr style=\"text-align: right;\">\n",
       "      <th></th>\n",
       "      <th>key</th>\n",
       "      <th>violations</th>\n",
       "      <th>critical</th>\n",
       "      <th>camis</th>\n",
       "      <th>dba</th>\n",
       "      <th>boro</th>\n",
       "      <th>building</th>\n",
       "      <th>street</th>\n",
       "      <th>zipcode</th>\n",
       "      <th>phone</th>\n",
       "      <th>...</th>\n",
       "      <th>critical_flag</th>\n",
       "      <th>score</th>\n",
       "      <th>grade</th>\n",
       "      <th>grade_date</th>\n",
       "      <th>record_date</th>\n",
       "      <th>inspection_type</th>\n",
       "      <th>address</th>\n",
       "      <th>new_violations</th>\n",
       "      <th>inspection_year</th>\n",
       "      <th>violation_count</th>\n",
       "    </tr>\n",
       "  </thead>\n",
       "  <tbody>\n",
       "    <tr>\n",
       "      <th>0</th>\n",
       "      <td>#1 Chinese Restaurant---825 W 181ST ST MANHATT...</td>\n",
       "      <td>06C, 06D, 10F</td>\n",
       "      <td>Critical, Critical, Not Critical</td>\n",
       "      <td>50050805</td>\n",
       "      <td>#1 Chinese Restaurant</td>\n",
       "      <td>MANHATTAN</td>\n",
       "      <td>825</td>\n",
       "      <td>W 181ST ST</td>\n",
       "      <td>10033</td>\n",
       "      <td>9173258805</td>\n",
       "      <td>...</td>\n",
       "      <td>Critical</td>\n",
       "      <td>13.0</td>\n",
       "      <td>A</td>\n",
       "      <td>2016-09-30</td>\n",
       "      <td>2017-08-28</td>\n",
       "      <td>Pre-permit (Operational) / Initial Inspection</td>\n",
       "      <td>825 W 181ST ST MANHATTAN 10033</td>\n",
       "      <td>contamination, contamination, facility</td>\n",
       "      <td>2016</td>\n",
       "      <td>1</td>\n",
       "    </tr>\n",
       "    <tr>\n",
       "      <th>1</th>\n",
       "      <td>#1 GARDEN CHINESE---221 PROSPECT PARK WEST BRO...</td>\n",
       "      <td>06A, 02G</td>\n",
       "      <td>Critical, Critical</td>\n",
       "      <td>41568346</td>\n",
       "      <td>#1 GARDEN CHINESE</td>\n",
       "      <td>BROOKLYN</td>\n",
       "      <td>221</td>\n",
       "      <td>PROSPECT PARK WEST</td>\n",
       "      <td>11215</td>\n",
       "      <td>7188321795</td>\n",
       "      <td>...</td>\n",
       "      <td>Critical</td>\n",
       "      <td>12.0</td>\n",
       "      <td>A</td>\n",
       "      <td>2017-08-23</td>\n",
       "      <td>2017-08-28</td>\n",
       "      <td>Cycle Inspection / Initial Inspection</td>\n",
       "      <td>221 PROSPECT PARK WEST BROOKLYN 11215</td>\n",
       "      <td>hygiene, temperature</td>\n",
       "      <td>2017</td>\n",
       "      <td>1</td>\n",
       "    </tr>\n",
       "    <tr>\n",
       "      <th>2</th>\n",
       "      <td>#1 Natural Juice Bar---685 SENECA AVE QUEENS 1...</td>\n",
       "      <td>08A, 04L</td>\n",
       "      <td>Not Critical, Critical</td>\n",
       "      <td>50051964</td>\n",
       "      <td>#1 Natural Juice Bar</td>\n",
       "      <td>QUEENS</td>\n",
       "      <td>685</td>\n",
       "      <td>SENECA AVE</td>\n",
       "      <td>11385</td>\n",
       "      <td>3479565161</td>\n",
       "      <td>...</td>\n",
       "      <td>Not Critical</td>\n",
       "      <td>10.0</td>\n",
       "      <td>A</td>\n",
       "      <td>2017-08-17</td>\n",
       "      <td>2017-08-28</td>\n",
       "      <td>Cycle Inspection / Initial Inspection</td>\n",
       "      <td>685 SENECA AVE QUEENS 11385</td>\n",
       "      <td>vermin, vermin</td>\n",
       "      <td>2017</td>\n",
       "      <td>1</td>\n",
       "    </tr>\n",
       "    <tr>\n",
       "      <th>3</th>\n",
       "      <td>#1 SABOR LATINO RESTAURANT---4120 WHITE PLAINS...</td>\n",
       "      <td>08A, 04L</td>\n",
       "      <td>Not Critical, Critical</td>\n",
       "      <td>41336841</td>\n",
       "      <td>#1 SABOR LATINO RESTAURANT</td>\n",
       "      <td>BRONX</td>\n",
       "      <td>4120</td>\n",
       "      <td>WHITE PLAINS ROAD</td>\n",
       "      <td>10466</td>\n",
       "      <td>7186532222</td>\n",
       "      <td>...</td>\n",
       "      <td>Not Critical</td>\n",
       "      <td>11.0</td>\n",
       "      <td>A</td>\n",
       "      <td>2017-03-16</td>\n",
       "      <td>2017-08-28</td>\n",
       "      <td>Cycle Inspection / Initial Inspection</td>\n",
       "      <td>4120 WHITE PLAINS ROAD BRONX 10466</td>\n",
       "      <td>vermin, vermin</td>\n",
       "      <td>2017</td>\n",
       "      <td>1</td>\n",
       "    </tr>\n",
       "    <tr>\n",
       "      <th>4</th>\n",
       "      <td>$1 PIZZA---1276 FULTON ST BROOKLYN 11216</td>\n",
       "      <td>10H, 06E</td>\n",
       "      <td>Not Critical, Critical</td>\n",
       "      <td>50061194</td>\n",
       "      <td>$1 PIZZA</td>\n",
       "      <td>BROOKLYN</td>\n",
       "      <td>1276</td>\n",
       "      <td>FULTON ST</td>\n",
       "      <td>11216</td>\n",
       "      <td>7186384685</td>\n",
       "      <td>...</td>\n",
       "      <td>Not Critical</td>\n",
       "      <td>10.0</td>\n",
       "      <td>A</td>\n",
       "      <td>2017-05-22</td>\n",
       "      <td>2017-08-28</td>\n",
       "      <td>Pre-permit (Operational) / Re-inspection</td>\n",
       "      <td>1276 FULTON ST BROOKLYN 11216</td>\n",
       "      <td>facility, hygiene</td>\n",
       "      <td>2017</td>\n",
       "      <td>1</td>\n",
       "    </tr>\n",
       "  </tbody>\n",
       "</table>\n",
       "<p>5 rows × 25 columns</p>\n",
       "</div>"
      ],
      "text/plain": [
       "                                                 key     violations  \\\n",
       "0  #1 Chinese Restaurant---825 W 181ST ST MANHATT...  06C, 06D, 10F   \n",
       "1  #1 GARDEN CHINESE---221 PROSPECT PARK WEST BRO...       06A, 02G   \n",
       "2  #1 Natural Juice Bar---685 SENECA AVE QUEENS 1...       08A, 04L   \n",
       "3  #1 SABOR LATINO RESTAURANT---4120 WHITE PLAINS...       08A, 04L   \n",
       "4           $1 PIZZA---1276 FULTON ST BROOKLYN 11216       10H, 06E   \n",
       "\n",
       "                           critical     camis                         dba  \\\n",
       "0  Critical, Critical, Not Critical  50050805       #1 Chinese Restaurant   \n",
       "1                Critical, Critical  41568346           #1 GARDEN CHINESE   \n",
       "2            Not Critical, Critical  50051964        #1 Natural Juice Bar   \n",
       "3            Not Critical, Critical  41336841  #1 SABOR LATINO RESTAURANT   \n",
       "4            Not Critical, Critical  50061194                    $1 PIZZA   \n",
       "\n",
       "        boro building              street zipcode       phone       ...        \\\n",
       "0  MANHATTAN      825          W 181ST ST   10033  9173258805       ...         \n",
       "1   BROOKLYN      221  PROSPECT PARK WEST   11215  7188321795       ...         \n",
       "2     QUEENS      685          SENECA AVE   11385  3479565161       ...         \n",
       "3      BRONX     4120   WHITE PLAINS ROAD   10466  7186532222       ...         \n",
       "4   BROOKLYN     1276           FULTON ST   11216  7186384685       ...         \n",
       "\n",
       "  critical_flag score grade grade_date record_date  \\\n",
       "0      Critical  13.0     A 2016-09-30  2017-08-28   \n",
       "1      Critical  12.0     A 2017-08-23  2017-08-28   \n",
       "2  Not Critical  10.0     A 2017-08-17  2017-08-28   \n",
       "3  Not Critical  11.0     A 2017-03-16  2017-08-28   \n",
       "4  Not Critical  10.0     A 2017-05-22  2017-08-28   \n",
       "\n",
       "                                 inspection_type  \\\n",
       "0  Pre-permit (Operational) / Initial Inspection   \n",
       "1          Cycle Inspection / Initial Inspection   \n",
       "2          Cycle Inspection / Initial Inspection   \n",
       "3          Cycle Inspection / Initial Inspection   \n",
       "4       Pre-permit (Operational) / Re-inspection   \n",
       "\n",
       "                                 address  \\\n",
       "0         825 W 181ST ST MANHATTAN 10033   \n",
       "1  221 PROSPECT PARK WEST BROOKLYN 11215   \n",
       "2            685 SENECA AVE QUEENS 11385   \n",
       "3     4120 WHITE PLAINS ROAD BRONX 10466   \n",
       "4          1276 FULTON ST BROOKLYN 11216   \n",
       "\n",
       "                           new_violations inspection_year violation_count  \n",
       "0  contamination, contamination, facility            2016               1  \n",
       "1                    hygiene, temperature            2017               1  \n",
       "2                          vermin, vermin            2017               1  \n",
       "3                          vermin, vermin            2017               1  \n",
       "4                       facility, hygiene            2017               1  \n",
       "\n",
       "[5 rows x 25 columns]"
      ]
     },
     "execution_count": 85,
     "metadata": {},
     "output_type": "execute_result"
    }
   ],
   "source": [
    "uniqueDF.head()"
   ]
  },
  {
   "cell_type": "code",
   "execution_count": 86,
   "metadata": {
    "ExecuteTime": {
     "end_time": "2017-10-22T15:06:01.915972Z",
     "start_time": "2017-10-22T15:06:01.912922Z"
    },
    "collapsed": true
   },
   "outputs": [],
   "source": [
    "#uniqueDF.shape"
   ]
  },
  {
   "cell_type": "code",
   "execution_count": 87,
   "metadata": {
    "ExecuteTime": {
     "end_time": "2017-10-22T15:06:01.920894Z",
     "start_time": "2017-10-22T15:06:01.917752Z"
    },
    "collapsed": true
   },
   "outputs": [],
   "source": [
    "#dupes = ['dba','address']"
   ]
  },
  {
   "cell_type": "code",
   "execution_count": 88,
   "metadata": {
    "ExecuteTime": {
     "end_time": "2017-10-22T15:06:01.926196Z",
     "start_time": "2017-10-22T15:06:01.923289Z"
    },
    "collapsed": true
   },
   "outputs": [],
   "source": [
    "#df2 = uniqueDF.drop_duplicates(subset=dupes,keep='first')"
   ]
  },
  {
   "cell_type": "code",
   "execution_count": 89,
   "metadata": {
    "ExecuteTime": {
     "end_time": "2017-10-22T15:06:01.930977Z",
     "start_time": "2017-10-22T15:06:01.927961Z"
    },
    "collapsed": true
   },
   "outputs": [],
   "source": [
    "#df2.shape"
   ]
  },
  {
   "cell_type": "code",
   "execution_count": 90,
   "metadata": {
    "ExecuteTime": {
     "end_time": "2017-10-22T15:06:01.936338Z",
     "start_time": "2017-10-22T15:06:01.932869Z"
    },
    "collapsed": true
   },
   "outputs": [],
   "source": [
    "#df2.head()"
   ]
  },
  {
   "cell_type": "code",
   "execution_count": 91,
   "metadata": {
    "ExecuteTime": {
     "end_time": "2017-10-22T15:06:01.942920Z",
     "start_time": "2017-10-22T15:06:01.938445Z"
    },
    "collapsed": true
   },
   "outputs": [],
   "source": [
    "#df2.dropna(subset=['address'],inplace=True,axis=0)"
   ]
  },
  {
   "cell_type": "code",
   "execution_count": 92,
   "metadata": {
    "ExecuteTime": {
     "end_time": "2017-10-22T15:06:01.949497Z",
     "start_time": "2017-10-22T15:06:01.946321Z"
    },
    "collapsed": true
   },
   "outputs": [],
   "source": [
    "#"
   ]
  },
  {
   "cell_type": "code",
   "execution_count": 93,
   "metadata": {
    "ExecuteTime": {
     "end_time": "2017-10-22T15:06:01.962714Z",
     "start_time": "2017-10-22T15:06:01.951685Z"
    },
    "collapsed": true
   },
   "outputs": [],
   "source": [
    "df.rename(columns={'dba':'name'},inplace=True)"
   ]
  },
  {
   "cell_type": "code",
   "execution_count": 94,
   "metadata": {
    "ExecuteTime": {
     "end_time": "2017-10-22T15:06:01.974591Z",
     "start_time": "2017-10-22T15:06:01.965184Z"
    },
    "collapsed": true
   },
   "outputs": [],
   "source": [
    "uniqueDF = df.copy()"
   ]
  },
  {
   "cell_type": "code",
   "execution_count": 95,
   "metadata": {
    "ExecuteTime": {
     "end_time": "2017-10-22T15:06:01.984366Z",
     "start_time": "2017-10-22T15:06:01.976872Z"
    }
   },
   "outputs": [
    {
     "data": {
      "text/plain": [
       "0"
      ]
     },
     "execution_count": 95,
     "metadata": {},
     "output_type": "execute_result"
    }
   ],
   "source": [
    "uniqueDF.grade.isnull().sum()"
   ]
  },
  {
   "cell_type": "code",
   "execution_count": 96,
   "metadata": {
    "ExecuteTime": {
     "end_time": "2017-10-22T15:06:02.099378Z",
     "start_time": "2017-10-22T15:06:01.987109Z"
    }
   },
   "outputs": [
    {
     "data": {
      "text/plain": [
       "<matplotlib.text.Text at 0x1a1d13c080>"
      ]
     },
     "execution_count": 96,
     "metadata": {},
     "output_type": "execute_result"
    },
    {
     "data": {
      "image/png": "[encoded data removed]",
      "text/plain": [
       "<matplotlib.figure.Figure at 0x1a1d1324e0>"
      ]
     },
     "metadata": {},
     "output_type": "display_data"
    }
   ],
   "source": [
    "gradeGroup = uniqueDF.groupby('grade').grade.count()\n",
    "gradeGroup.plot(kind='bar')\n",
    "plt.ylabel(\"Count\")\n",
    "plt.xlabel(\"Health Grade\")"
   ]
  },
  {
   "cell_type": "code",
   "execution_count": 97,
   "metadata": {
    "ExecuteTime": {
     "end_time": "2017-10-22T15:06:02.119830Z",
     "start_time": "2017-10-22T15:06:02.101161Z"
    }
   },
   "outputs": [
    {
     "data": {
      "text/plain": [
       "grade\n",
       "A    15395\n",
       "B      919\n",
       "C       96\n",
       "Name: name, dtype: int64"
      ]
     },
     "execution_count": 97,
     "metadata": {},
     "output_type": "execute_result"
    }
   ],
   "source": [
    "uniqueDF.groupby('grade').name.nunique()"
   ]
  },
  {
   "cell_type": "code",
   "execution_count": 98,
   "metadata": {
    "ExecuteTime": {
     "end_time": "2017-10-22T15:06:02.125280Z",
     "start_time": "2017-10-22T15:06:02.122136Z"
    },
    "collapsed": true
   },
   "outputs": [],
   "source": [
    "# def replace_cuisine(row,s,r):\n",
    "# #     "
   ]
  },
  {
   "cell_type": "code",
   "execution_count": 99,
   "metadata": {
    "ExecuteTime": {
     "end_time": "2017-10-22T15:06:02.131363Z",
     "start_time": "2017-10-22T15:06:02.126842Z"
    },
    "collapsed": true
   },
   "outputs": [],
   "source": [
    "uniqueDF.cuisine_description.replace('CafÃ©/Coffee/Tea','Coffee',inplace=True)"
   ]
  },
  {
   "cell_type": "code",
   "execution_count": 100,
   "metadata": {
    "ExecuteTime": {
     "end_time": "2017-10-22T15:06:02.139059Z",
     "start_time": "2017-10-22T15:06:02.133400Z"
    },
    "collapsed": true
   },
   "outputs": [],
   "source": [
    "uniqueDF.cuisine_description.replace('Latin (Cuban, Dominican, Puerto Rican, South & Central American)','Latin',inplace=True)"
   ]
  },
  {
   "cell_type": "code",
   "execution_count": 101,
   "metadata": {
    "ExecuteTime": {
     "end_time": "2017-10-22T15:06:02.145100Z",
     "start_time": "2017-10-22T15:06:02.140864Z"
    },
    "collapsed": true
   },
   "outputs": [],
   "source": [
    "uniqueDF.cuisine_description.replace('Bottled beverages, including water, sodas, juices, etc.','Bottle Beverages',inplace=True)"
   ]
  },
  {
   "cell_type": "code",
   "execution_count": 102,
   "metadata": {
    "ExecuteTime": {
     "end_time": "2017-10-22T15:06:02.151589Z",
     "start_time": "2017-10-22T15:06:02.146853Z"
    },
    "collapsed": true
   },
   "outputs": [],
   "source": [
    "uniqueDF.cuisine_description.replace('Sandwiches/Salads/Mixed Buffet','Mixed Buffet',inplace=True)"
   ]
  },
  {
   "cell_type": "code",
   "execution_count": 103,
   "metadata": {
    "ExecuteTime": {
     "end_time": "2017-10-22T15:06:02.159029Z",
     "start_time": "2017-10-22T15:06:02.153403Z"
    },
    "collapsed": true
   },
   "outputs": [],
   "source": [
    "uniqueDF.cuisine_description.replace('Ice Cream, Gelato, Yogurt, Ices','Ice Cream',inplace=True)"
   ]
  },
  {
   "cell_type": "code",
   "execution_count": 104,
   "metadata": {
    "ExecuteTime": {
     "end_time": "2017-10-22T15:06:02.166205Z",
     "start_time": "2017-10-22T15:06:02.160776Z"
    },
    "collapsed": true
   },
   "outputs": [],
   "source": [
    "uniqueDF.cuisine_description.replace('Soups & Sandwiches','Sandwiches',inplace=True)"
   ]
  },
  {
   "cell_type": "code",
   "execution_count": 105,
   "metadata": {
    "ExecuteTime": {
     "end_time": "2017-10-22T15:06:02.180657Z",
     "start_time": "2017-10-22T15:06:02.168324Z"
    }
   },
   "outputs": [
    {
     "data": {
      "text/html": [
       "<div>\n",
       "<style>\n",
       "    .dataframe thead tr:only-child th {\n",
       "        text-align: right;\n",
       "    }\n",
       "\n",
       "    .dataframe thead th {\n",
       "        text-align: left;\n",
       "    }\n",
       "\n",
       "    .dataframe tbody tr th {\n",
       "        vertical-align: top;\n",
       "    }\n",
       "</style>\n",
       "<table border=\"1\" class=\"dataframe\">\n",
       "  <thead>\n",
       "    <tr style=\"text-align: right;\">\n",
       "      <th></th>\n",
       "      <th>cuisine_description</th>\n",
       "      <th>grade</th>\n",
       "    </tr>\n",
       "  </thead>\n",
       "  <tbody>\n",
       "    <tr>\n",
       "      <th>2</th>\n",
       "      <td>American</td>\n",
       "      <td>4876</td>\n",
       "    </tr>\n",
       "    <tr>\n",
       "      <th>17</th>\n",
       "      <td>Chinese</td>\n",
       "      <td>1937</td>\n",
       "    </tr>\n",
       "    <tr>\n",
       "      <th>20</th>\n",
       "      <td>Coffee</td>\n",
       "      <td>1286</td>\n",
       "    </tr>\n",
       "    <tr>\n",
       "      <th>62</th>\n",
       "      <td>Pizza</td>\n",
       "      <td>960</td>\n",
       "    </tr>\n",
       "    <tr>\n",
       "      <th>45</th>\n",
       "      <td>Italian</td>\n",
       "      <td>815</td>\n",
       "    </tr>\n",
       "  </tbody>\n",
       "</table>\n",
       "</div>"
      ],
      "text/plain": [
       "   cuisine_description  grade\n",
       "2             American   4876\n",
       "17             Chinese   1937\n",
       "20              Coffee   1286\n",
       "62               Pizza    960\n",
       "45             Italian    815"
      ]
     },
     "execution_count": 105,
     "metadata": {},
     "output_type": "execute_result"
    }
   ],
   "source": [
    "cuisineGroup = uniqueDF.groupby('cuisine_description').grade.count().reset_index()\n",
    "cuisineGroup.sort_values('grade',ascending=False,inplace=True)\n",
    "cuisineGroup.head()"
   ]
  },
  {
   "cell_type": "code",
   "execution_count": 106,
   "metadata": {
    "ExecuteTime": {
     "end_time": "2017-10-22T15:06:03.126829Z",
     "start_time": "2017-10-22T15:06:02.182638Z"
    },
    "collapsed": true
   },
   "outputs": [],
   "source": [
    "cuisineDF = uniqueDF.cuisine_description.str.get_dummies()"
   ]
  },
  {
   "cell_type": "code",
   "execution_count": 107,
   "metadata": {
    "ExecuteTime": {
     "end_time": "2017-10-22T15:06:03.133544Z",
     "start_time": "2017-10-22T15:06:03.128799Z"
    }
   },
   "outputs": [
    {
     "data": {
      "text/plain": [
       "['Afghan',\n",
       " 'African',\n",
       " 'American',\n",
       " 'Armenian',\n",
       " 'Asian',\n",
       " 'Australian',\n",
       " 'Bagels/Pretzels',\n",
       " 'Bakery',\n",
       " 'Bangladeshi',\n",
       " 'Barbecue',\n",
       " 'Bottle Beverages',\n",
       " 'Brazilian',\n",
       " 'Cajun',\n",
       " 'Californian',\n",
       " 'Caribbean',\n",
       " 'Chicken',\n",
       " 'Chilean',\n",
       " 'Chinese',\n",
       " 'Chinese/Cuban',\n",
       " 'Chinese/Japanese',\n",
       " 'Coffee',\n",
       " 'Continental',\n",
       " 'Creole',\n",
       " 'Creole/Cajun',\n",
       " 'Czech',\n",
       " 'Delicatessen',\n",
       " 'Donuts',\n",
       " 'Eastern European',\n",
       " 'Egyptian',\n",
       " 'English',\n",
       " 'Ethiopian',\n",
       " 'Filipino',\n",
       " 'French',\n",
       " 'Fruits/Vegetables',\n",
       " 'German',\n",
       " 'Greek',\n",
       " 'Hamburgers',\n",
       " 'Hawaiian',\n",
       " 'Hotdogs',\n",
       " 'Hotdogs/Pretzels',\n",
       " 'Ice Cream',\n",
       " 'Indian',\n",
       " 'Indonesian',\n",
       " 'Iranian',\n",
       " 'Irish',\n",
       " 'Italian',\n",
       " 'Japanese',\n",
       " 'Jewish/Kosher',\n",
       " 'Juice, Smoothies, Fruit Salads',\n",
       " 'Korean',\n",
       " 'Latin',\n",
       " 'Mediterranean',\n",
       " 'Mexican',\n",
       " 'Middle Eastern',\n",
       " 'Mixed Buffet',\n",
       " 'Moroccan',\n",
       " 'Not Listed/Not Applicable',\n",
       " 'Nuts/Confectionary',\n",
       " 'Other',\n",
       " 'Pakistani',\n",
       " 'Pancakes/Waffles',\n",
       " 'Peruvian',\n",
       " 'Pizza',\n",
       " 'Pizza/Italian',\n",
       " 'Polish',\n",
       " 'Polynesian',\n",
       " 'Portuguese',\n",
       " 'Russian',\n",
       " 'Salads',\n",
       " 'Sandwiches',\n",
       " 'Scandinavian',\n",
       " 'Seafood',\n",
       " 'Soul Food',\n",
       " 'Soups',\n",
       " 'Southwestern',\n",
       " 'Spanish',\n",
       " 'Steak',\n",
       " 'Tapas',\n",
       " 'Tex-Mex',\n",
       " 'Thai',\n",
       " 'Turkish',\n",
       " 'Vegetarian',\n",
       " 'Vietnamese/Cambodian/Malaysia']"
      ]
     },
     "execution_count": 107,
     "metadata": {},
     "output_type": "execute_result"
    }
   ],
   "source": [
    "cuisineDF.columns.tolist()"
   ]
  },
  {
   "cell_type": "code",
   "execution_count": 108,
   "metadata": {
    "ExecuteTime": {
     "end_time": "2017-10-22T15:06:03.150852Z",
     "start_time": "2017-10-22T15:06:03.135674Z"
    }
   },
   "outputs": [
    {
     "data": {
      "text/html": [
       "<div>\n",
       "<style>\n",
       "    .dataframe thead tr:only-child th {\n",
       "        text-align: right;\n",
       "    }\n",
       "\n",
       "    .dataframe thead th {\n",
       "        text-align: left;\n",
       "    }\n",
       "\n",
       "    .dataframe tbody tr th {\n",
       "        vertical-align: top;\n",
       "    }\n",
       "</style>\n",
       "<table border=\"1\" class=\"dataframe\">\n",
       "  <thead>\n",
       "    <tr style=\"text-align: right;\">\n",
       "      <th></th>\n",
       "      <th>Afghan</th>\n",
       "      <th>African</th>\n",
       "      <th>American</th>\n",
       "      <th>Armenian</th>\n",
       "      <th>Asian</th>\n",
       "      <th>Australian</th>\n",
       "      <th>Bagels/Pretzels</th>\n",
       "      <th>Bakery</th>\n",
       "      <th>Bangladeshi</th>\n",
       "      <th>Barbecue</th>\n",
       "      <th>...</th>\n",
       "      <th>Soups</th>\n",
       "      <th>Southwestern</th>\n",
       "      <th>Spanish</th>\n",
       "      <th>Steak</th>\n",
       "      <th>Tapas</th>\n",
       "      <th>Tex-Mex</th>\n",
       "      <th>Thai</th>\n",
       "      <th>Turkish</th>\n",
       "      <th>Vegetarian</th>\n",
       "      <th>Vietnamese/Cambodian/Malaysia</th>\n",
       "    </tr>\n",
       "  </thead>\n",
       "  <tbody>\n",
       "    <tr>\n",
       "      <th>0</th>\n",
       "      <td>0</td>\n",
       "      <td>0</td>\n",
       "      <td>0</td>\n",
       "      <td>0</td>\n",
       "      <td>0</td>\n",
       "      <td>0</td>\n",
       "      <td>0</td>\n",
       "      <td>0</td>\n",
       "      <td>0</td>\n",
       "      <td>0</td>\n",
       "      <td>...</td>\n",
       "      <td>0</td>\n",
       "      <td>0</td>\n",
       "      <td>0</td>\n",
       "      <td>0</td>\n",
       "      <td>0</td>\n",
       "      <td>0</td>\n",
       "      <td>0</td>\n",
       "      <td>0</td>\n",
       "      <td>0</td>\n",
       "      <td>0</td>\n",
       "    </tr>\n",
       "    <tr>\n",
       "      <th>1</th>\n",
       "      <td>0</td>\n",
       "      <td>0</td>\n",
       "      <td>0</td>\n",
       "      <td>0</td>\n",
       "      <td>0</td>\n",
       "      <td>0</td>\n",
       "      <td>0</td>\n",
       "      <td>0</td>\n",
       "      <td>0</td>\n",
       "      <td>0</td>\n",
       "      <td>...</td>\n",
       "      <td>0</td>\n",
       "      <td>0</td>\n",
       "      <td>0</td>\n",
       "      <td>0</td>\n",
       "      <td>0</td>\n",
       "      <td>0</td>\n",
       "      <td>0</td>\n",
       "      <td>0</td>\n",
       "      <td>0</td>\n",
       "      <td>0</td>\n",
       "    </tr>\n",
       "    <tr>\n",
       "      <th>2</th>\n",
       "      <td>0</td>\n",
       "      <td>0</td>\n",
       "      <td>0</td>\n",
       "      <td>0</td>\n",
       "      <td>0</td>\n",
       "      <td>0</td>\n",
       "      <td>0</td>\n",
       "      <td>0</td>\n",
       "      <td>0</td>\n",
       "      <td>0</td>\n",
       "      <td>...</td>\n",
       "      <td>0</td>\n",
       "      <td>0</td>\n",
       "      <td>0</td>\n",
       "      <td>0</td>\n",
       "      <td>0</td>\n",
       "      <td>0</td>\n",
       "      <td>0</td>\n",
       "      <td>0</td>\n",
       "      <td>0</td>\n",
       "      <td>0</td>\n",
       "    </tr>\n",
       "    <tr>\n",
       "      <th>3</th>\n",
       "      <td>0</td>\n",
       "      <td>0</td>\n",
       "      <td>0</td>\n",
       "      <td>0</td>\n",
       "      <td>0</td>\n",
       "      <td>0</td>\n",
       "      <td>0</td>\n",
       "      <td>0</td>\n",
       "      <td>0</td>\n",
       "      <td>0</td>\n",
       "      <td>...</td>\n",
       "      <td>0</td>\n",
       "      <td>0</td>\n",
       "      <td>0</td>\n",
       "      <td>0</td>\n",
       "      <td>0</td>\n",
       "      <td>0</td>\n",
       "      <td>0</td>\n",
       "      <td>0</td>\n",
       "      <td>0</td>\n",
       "      <td>0</td>\n",
       "    </tr>\n",
       "    <tr>\n",
       "      <th>4</th>\n",
       "      <td>0</td>\n",
       "      <td>0</td>\n",
       "      <td>0</td>\n",
       "      <td>0</td>\n",
       "      <td>0</td>\n",
       "      <td>0</td>\n",
       "      <td>0</td>\n",
       "      <td>0</td>\n",
       "      <td>0</td>\n",
       "      <td>0</td>\n",
       "      <td>...</td>\n",
       "      <td>0</td>\n",
       "      <td>0</td>\n",
       "      <td>0</td>\n",
       "      <td>0</td>\n",
       "      <td>0</td>\n",
       "      <td>0</td>\n",
       "      <td>0</td>\n",
       "      <td>0</td>\n",
       "      <td>0</td>\n",
       "      <td>0</td>\n",
       "    </tr>\n",
       "  </tbody>\n",
       "</table>\n",
       "<p>5 rows × 83 columns</p>\n",
       "</div>"
      ],
      "text/plain": [
       "   Afghan  African  American  Armenian  Asian  Australian  Bagels/Pretzels  \\\n",
       "0       0        0         0         0      0           0                0   \n",
       "1       0        0         0         0      0           0                0   \n",
       "2       0        0         0         0      0           0                0   \n",
       "3       0        0         0         0      0           0                0   \n",
       "4       0        0         0         0      0           0                0   \n",
       "\n",
       "   Bakery  Bangladeshi  Barbecue              ...                Soups  \\\n",
       "0       0            0         0              ...                    0   \n",
       "1       0            0         0              ...                    0   \n",
       "2       0            0         0              ...                    0   \n",
       "3       0            0         0              ...                    0   \n",
       "4       0            0         0              ...                    0   \n",
       "\n",
       "   Southwestern  Spanish  Steak  Tapas  Tex-Mex  Thai  Turkish  Vegetarian  \\\n",
       "0             0        0      0      0        0     0        0           0   \n",
       "1             0        0      0      0        0     0        0           0   \n",
       "2             0        0      0      0        0     0        0           0   \n",
       "3             0        0      0      0        0     0        0           0   \n",
       "4             0        0      0      0        0     0        0           0   \n",
       "\n",
       "   Vietnamese/Cambodian/Malaysia  \n",
       "0                              0  \n",
       "1                              0  \n",
       "2                              0  \n",
       "3                              0  \n",
       "4                              0  \n",
       "\n",
       "[5 rows x 83 columns]"
      ]
     },
     "execution_count": 108,
     "metadata": {},
     "output_type": "execute_result"
    }
   ],
   "source": [
    "cuisineDF.head()"
   ]
  },
  {
   "cell_type": "code",
   "execution_count": 109,
   "metadata": {
    "ExecuteTime": {
     "end_time": "2017-10-22T15:06:03.169709Z",
     "start_time": "2017-10-22T15:06:03.152729Z"
    },
    "collapsed": true
   },
   "outputs": [],
   "source": [
    "uniqueDF = uniqueDF.join(cuisineDF)"
   ]
  },
  {
   "cell_type": "code",
   "execution_count": 111,
   "metadata": {
    "ExecuteTime": {
     "end_time": "2017-10-22T15:10:11.812739Z",
     "start_time": "2017-10-22T15:10:11.720326Z"
    },
    "collapsed": true
   },
   "outputs": [],
   "source": [
    "uniqueDF.to_pickle('data/inspectionv1.pkl')"
   ]
  },
  {
   "cell_type": "code",
   "execution_count": 201,
   "metadata": {
    "ExecuteTime": {
     "end_time": "2017-10-22T15:55:37.150852Z",
     "start_time": "2017-10-22T15:55:37.081683Z"
    },
    "collapsed": true
   },
   "outputs": [],
   "source": [
    "uniqueDF = pd.read_pickle('data/inspectionv1.pkl')"
   ]
  },
  {
   "cell_type": "code",
   "execution_count": 202,
   "metadata": {
    "ExecuteTime": {
     "end_time": "2017-10-22T15:55:41.466021Z",
     "start_time": "2017-10-22T15:55:41.455028Z"
    },
    "collapsed": true
   },
   "outputs": [],
   "source": [
    "uniqueDF['critical'] = [x.strip().replace(' ', '') for x in uniqueDF.critical]"
   ]
  },
  {
   "cell_type": "code",
   "execution_count": 203,
   "metadata": {
    "ExecuteTime": {
     "end_time": "2017-10-22T15:55:42.134720Z",
     "start_time": "2017-10-22T15:55:42.116041Z"
    }
   },
   "outputs": [
    {
     "data": {
      "text/html": [
       "<div>\n",
       "<style>\n",
       "    .dataframe thead tr:only-child th {\n",
       "        text-align: right;\n",
       "    }\n",
       "\n",
       "    .dataframe thead th {\n",
       "        text-align: left;\n",
       "    }\n",
       "\n",
       "    .dataframe tbody tr th {\n",
       "        vertical-align: top;\n",
       "    }\n",
       "</style>\n",
       "<table border=\"1\" class=\"dataframe\">\n",
       "  <thead>\n",
       "    <tr style=\"text-align: right;\">\n",
       "      <th></th>\n",
       "      <th>key</th>\n",
       "      <th>violations</th>\n",
       "      <th>critical</th>\n",
       "      <th>camis</th>\n",
       "      <th>name</th>\n",
       "      <th>boro</th>\n",
       "      <th>building</th>\n",
       "      <th>street</th>\n",
       "      <th>zipcode</th>\n",
       "      <th>phone</th>\n",
       "      <th>...</th>\n",
       "      <th>Soups</th>\n",
       "      <th>Southwestern</th>\n",
       "      <th>Spanish</th>\n",
       "      <th>Steak</th>\n",
       "      <th>Tapas</th>\n",
       "      <th>Tex-Mex</th>\n",
       "      <th>Thai</th>\n",
       "      <th>Turkish</th>\n",
       "      <th>Vegetarian</th>\n",
       "      <th>Vietnamese/Cambodian/Malaysia</th>\n",
       "    </tr>\n",
       "  </thead>\n",
       "  <tbody>\n",
       "    <tr>\n",
       "      <th>0</th>\n",
       "      <td>#1 Chinese Restaurant---825 W 181ST ST MANHATT...</td>\n",
       "      <td>06C, 06D, 10F</td>\n",
       "      <td>Critical,Critical,NotCritical</td>\n",
       "      <td>50050805</td>\n",
       "      <td>#1 Chinese Restaurant</td>\n",
       "      <td>MANHATTAN</td>\n",
       "      <td>825</td>\n",
       "      <td>W 181ST ST</td>\n",
       "      <td>10033</td>\n",
       "      <td>9173258805</td>\n",
       "      <td>...</td>\n",
       "      <td>0</td>\n",
       "      <td>0</td>\n",
       "      <td>0</td>\n",
       "      <td>0</td>\n",
       "      <td>0</td>\n",
       "      <td>0</td>\n",
       "      <td>0</td>\n",
       "      <td>0</td>\n",
       "      <td>0</td>\n",
       "      <td>0</td>\n",
       "    </tr>\n",
       "    <tr>\n",
       "      <th>1</th>\n",
       "      <td>#1 GARDEN CHINESE---221 PROSPECT PARK WEST BRO...</td>\n",
       "      <td>06A, 02G</td>\n",
       "      <td>Critical,Critical</td>\n",
       "      <td>41568346</td>\n",
       "      <td>#1 GARDEN CHINESE</td>\n",
       "      <td>BROOKLYN</td>\n",
       "      <td>221</td>\n",
       "      <td>PROSPECT PARK WEST</td>\n",
       "      <td>11215</td>\n",
       "      <td>7188321795</td>\n",
       "      <td>...</td>\n",
       "      <td>0</td>\n",
       "      <td>0</td>\n",
       "      <td>0</td>\n",
       "      <td>0</td>\n",
       "      <td>0</td>\n",
       "      <td>0</td>\n",
       "      <td>0</td>\n",
       "      <td>0</td>\n",
       "      <td>0</td>\n",
       "      <td>0</td>\n",
       "    </tr>\n",
       "    <tr>\n",
       "      <th>2</th>\n",
       "      <td>#1 Natural Juice Bar---685 SENECA AVE QUEENS 1...</td>\n",
       "      <td>08A, 04L</td>\n",
       "      <td>NotCritical,Critical</td>\n",
       "      <td>50051964</td>\n",
       "      <td>#1 Natural Juice Bar</td>\n",
       "      <td>QUEENS</td>\n",
       "      <td>685</td>\n",
       "      <td>SENECA AVE</td>\n",
       "      <td>11385</td>\n",
       "      <td>3479565161</td>\n",
       "      <td>...</td>\n",
       "      <td>0</td>\n",
       "      <td>0</td>\n",
       "      <td>0</td>\n",
       "      <td>0</td>\n",
       "      <td>0</td>\n",
       "      <td>0</td>\n",
       "      <td>0</td>\n",
       "      <td>0</td>\n",
       "      <td>0</td>\n",
       "      <td>0</td>\n",
       "    </tr>\n",
       "    <tr>\n",
       "      <th>3</th>\n",
       "      <td>#1 SABOR LATINO RESTAURANT---4120 WHITE PLAINS...</td>\n",
       "      <td>08A, 04L</td>\n",
       "      <td>NotCritical,Critical</td>\n",
       "      <td>41336841</td>\n",
       "      <td>#1 SABOR LATINO RESTAURANT</td>\n",
       "      <td>BRONX</td>\n",
       "      <td>4120</td>\n",
       "      <td>WHITE PLAINS ROAD</td>\n",
       "      <td>10466</td>\n",
       "      <td>7186532222</td>\n",
       "      <td>...</td>\n",
       "      <td>0</td>\n",
       "      <td>0</td>\n",
       "      <td>0</td>\n",
       "      <td>0</td>\n",
       "      <td>0</td>\n",
       "      <td>0</td>\n",
       "      <td>0</td>\n",
       "      <td>0</td>\n",
       "      <td>0</td>\n",
       "      <td>0</td>\n",
       "    </tr>\n",
       "    <tr>\n",
       "      <th>4</th>\n",
       "      <td>$1 PIZZA---1276 FULTON ST BROOKLYN 11216</td>\n",
       "      <td>10H, 06E</td>\n",
       "      <td>NotCritical,Critical</td>\n",
       "      <td>50061194</td>\n",
       "      <td>$1 PIZZA</td>\n",
       "      <td>BROOKLYN</td>\n",
       "      <td>1276</td>\n",
       "      <td>FULTON ST</td>\n",
       "      <td>11216</td>\n",
       "      <td>7186384685</td>\n",
       "      <td>...</td>\n",
       "      <td>0</td>\n",
       "      <td>0</td>\n",
       "      <td>0</td>\n",
       "      <td>0</td>\n",
       "      <td>0</td>\n",
       "      <td>0</td>\n",
       "      <td>0</td>\n",
       "      <td>0</td>\n",
       "      <td>0</td>\n",
       "      <td>0</td>\n",
       "    </tr>\n",
       "  </tbody>\n",
       "</table>\n",
       "<p>5 rows × 108 columns</p>\n",
       "</div>"
      ],
      "text/plain": [
       "                                                 key     violations  \\\n",
       "0  #1 Chinese Restaurant---825 W 181ST ST MANHATT...  06C, 06D, 10F   \n",
       "1  #1 GARDEN CHINESE---221 PROSPECT PARK WEST BRO...       06A, 02G   \n",
       "2  #1 Natural Juice Bar---685 SENECA AVE QUEENS 1...       08A, 04L   \n",
       "3  #1 SABOR LATINO RESTAURANT---4120 WHITE PLAINS...       08A, 04L   \n",
       "4           $1 PIZZA---1276 FULTON ST BROOKLYN 11216       10H, 06E   \n",
       "\n",
       "                        critical     camis                        name  \\\n",
       "0  Critical,Critical,NotCritical  50050805       #1 Chinese Restaurant   \n",
       "1              Critical,Critical  41568346           #1 GARDEN CHINESE   \n",
       "2           NotCritical,Critical  50051964        #1 Natural Juice Bar   \n",
       "3           NotCritical,Critical  41336841  #1 SABOR LATINO RESTAURANT   \n",
       "4           NotCritical,Critical  50061194                    $1 PIZZA   \n",
       "\n",
       "        boro building              street zipcode       phone  \\\n",
       "0  MANHATTAN      825          W 181ST ST   10033  9173258805   \n",
       "1   BROOKLYN      221  PROSPECT PARK WEST   11215  7188321795   \n",
       "2     QUEENS      685          SENECA AVE   11385  3479565161   \n",
       "3      BRONX     4120   WHITE PLAINS ROAD   10466  7186532222   \n",
       "4   BROOKLYN     1276           FULTON ST   11216  7186384685   \n",
       "\n",
       "               ...              Soups Southwestern Spanish Steak Tapas  \\\n",
       "0              ...                  0            0       0     0     0   \n",
       "1              ...                  0            0       0     0     0   \n",
       "2              ...                  0            0       0     0     0   \n",
       "3              ...                  0            0       0     0     0   \n",
       "4              ...                  0            0       0     0     0   \n",
       "\n",
       "  Tex-Mex  Thai Turkish Vegetarian Vietnamese/Cambodian/Malaysia  \n",
       "0       0     0       0          0                             0  \n",
       "1       0     0       0          0                             0  \n",
       "2       0     0       0          0                             0  \n",
       "3       0     0       0          0                             0  \n",
       "4       0     0       0          0                             0  \n",
       "\n",
       "[5 rows x 108 columns]"
      ]
     },
     "execution_count": 203,
     "metadata": {},
     "output_type": "execute_result"
    }
   ],
   "source": [
    "uniqueDF.head()"
   ]
  },
  {
   "cell_type": "code",
   "execution_count": 204,
   "metadata": {
    "ExecuteTime": {
     "end_time": "2017-10-22T15:55:44.907000Z",
     "start_time": "2017-10-22T15:55:44.903908Z"
    },
    "collapsed": true
   },
   "outputs": [],
   "source": [
    "from sklearn.feature_extraction.text import CountVectorizer"
   ]
  },
  {
   "cell_type": "code",
   "execution_count": 205,
   "metadata": {
    "ExecuteTime": {
     "end_time": "2017-10-22T15:55:45.230377Z",
     "start_time": "2017-10-22T15:55:45.145546Z"
    }
   },
   "outputs": [],
   "source": [
    "vectorizer = CountVectorizer()\n",
    "features = vectorizer.fit_transform(uniqueDF.critical)"
   ]
  },
  {
   "cell_type": "code",
   "execution_count": 206,
   "metadata": {
    "ExecuteTime": {
     "end_time": "2017-10-22T15:55:45.396431Z",
     "start_time": "2017-10-22T15:55:45.389462Z"
    }
   },
   "outputs": [
    {
     "data": {
      "text/plain": [
       "['critical', 'notapplicable', 'notcritical']"
      ]
     },
     "execution_count": 206,
     "metadata": {},
     "output_type": "execute_result"
    }
   ],
   "source": [
    "vectorizer.get_feature_names()"
   ]
  },
  {
   "cell_type": "code",
   "execution_count": 207,
   "metadata": {
    "ExecuteTime": {
     "end_time": "2017-10-22T15:55:45.494406Z",
     "start_time": "2017-10-22T15:55:45.490280Z"
    }
   },
   "outputs": [],
   "source": [
    "critDF = pd.DataFrame(features.todense(),columns =vectorizer.get_feature_names())"
   ]
  },
  {
   "cell_type": "code",
   "execution_count": 208,
   "metadata": {
    "ExecuteTime": {
     "end_time": "2017-10-22T15:55:45.744252Z",
     "start_time": "2017-10-22T15:55:45.733646Z"
    }
   },
   "outputs": [
    {
     "data": {
      "text/html": [
       "<div>\n",
       "<style>\n",
       "    .dataframe thead tr:only-child th {\n",
       "        text-align: right;\n",
       "    }\n",
       "\n",
       "    .dataframe thead th {\n",
       "        text-align: left;\n",
       "    }\n",
       "\n",
       "    .dataframe tbody tr th {\n",
       "        vertical-align: top;\n",
       "    }\n",
       "</style>\n",
       "<table border=\"1\" class=\"dataframe\">\n",
       "  <thead>\n",
       "    <tr style=\"text-align: right;\">\n",
       "      <th></th>\n",
       "      <th>critical</th>\n",
       "      <th>notapplicable</th>\n",
       "      <th>notcritical</th>\n",
       "    </tr>\n",
       "  </thead>\n",
       "  <tbody>\n",
       "    <tr>\n",
       "      <th>0</th>\n",
       "      <td>2</td>\n",
       "      <td>0</td>\n",
       "      <td>1</td>\n",
       "    </tr>\n",
       "    <tr>\n",
       "      <th>1</th>\n",
       "      <td>2</td>\n",
       "      <td>0</td>\n",
       "      <td>0</td>\n",
       "    </tr>\n",
       "    <tr>\n",
       "      <th>2</th>\n",
       "      <td>1</td>\n",
       "      <td>0</td>\n",
       "      <td>1</td>\n",
       "    </tr>\n",
       "    <tr>\n",
       "      <th>3</th>\n",
       "      <td>1</td>\n",
       "      <td>0</td>\n",
       "      <td>1</td>\n",
       "    </tr>\n",
       "    <tr>\n",
       "      <th>4</th>\n",
       "      <td>1</td>\n",
       "      <td>0</td>\n",
       "      <td>1</td>\n",
       "    </tr>\n",
       "  </tbody>\n",
       "</table>\n",
       "</div>"
      ],
      "text/plain": [
       "   critical  notapplicable  notcritical\n",
       "0         2              0            1\n",
       "1         2              0            0\n",
       "2         1              0            1\n",
       "3         1              0            1\n",
       "4         1              0            1"
      ]
     },
     "execution_count": 208,
     "metadata": {},
     "output_type": "execute_result"
    }
   ],
   "source": [
    "critDF.head()"
   ]
  },
  {
   "cell_type": "code",
   "execution_count": 209,
   "metadata": {
    "ExecuteTime": {
     "end_time": "2017-10-22T15:55:45.975774Z",
     "start_time": "2017-10-22T15:55:45.968410Z"
    }
   },
   "outputs": [
    {
     "data": {
      "text/plain": [
       "(20284, 3)"
      ]
     },
     "execution_count": 209,
     "metadata": {},
     "output_type": "execute_result"
    }
   ],
   "source": [
    "critDF.shape"
   ]
  },
  {
   "cell_type": "code",
   "execution_count": 210,
   "metadata": {
    "ExecuteTime": {
     "end_time": "2017-10-22T15:55:46.023443Z",
     "start_time": "2017-10-22T15:55:46.018508Z"
    }
   },
   "outputs": [
    {
     "data": {
      "text/plain": [
       "(20284, 108)"
      ]
     },
     "execution_count": 210,
     "metadata": {},
     "output_type": "execute_result"
    }
   ],
   "source": [
    "uniqueDF.shape"
   ]
  },
  {
   "cell_type": "code",
   "execution_count": 211,
   "metadata": {
    "ExecuteTime": {
     "end_time": "2017-10-22T15:55:46.232798Z",
     "start_time": "2017-10-22T15:55:46.189698Z"
    },
    "collapsed": true
   },
   "outputs": [],
   "source": [
    "uniqueDF.drop('critical',axis=1,inplace=True)"
   ]
  },
  {
   "cell_type": "code",
   "execution_count": 212,
   "metadata": {
    "ExecuteTime": {
     "end_time": "2017-10-22T15:55:46.331041Z",
     "start_time": "2017-10-22T15:55:46.316188Z"
    },
    "collapsed": true
   },
   "outputs": [],
   "source": [
    "uniqueDF = uniqueDF.join(critDF\n",
    "             )"
   ]
  },
  {
   "cell_type": "code",
   "execution_count": 213,
   "metadata": {
    "ExecuteTime": {
     "end_time": "2017-10-22T15:55:46.569692Z",
     "start_time": "2017-10-22T15:55:46.524398Z"
    },
    "collapsed": true
   },
   "outputs": [],
   "source": [
    "uniqueDF.drop('critical_flag',inplace=True, axis=1)"
   ]
  },
  {
   "cell_type": "code",
   "execution_count": 214,
   "metadata": {
    "ExecuteTime": {
     "end_time": "2017-10-22T15:55:46.703553Z",
     "start_time": "2017-10-22T15:55:46.688864Z"
    },
    "collapsed": true
   },
   "outputs": [],
   "source": [
    "uniqueDF.drop('Other',inplace=True,axis=1)"
   ]
  },
  {
   "cell_type": "code",
   "execution_count": 215,
   "metadata": {
    "ExecuteTime": {
     "end_time": "2017-10-22T15:55:46.821245Z",
     "start_time": "2017-10-22T15:55:46.804591Z"
    },
    "collapsed": true
   },
   "outputs": [],
   "source": [
    "uniqueDF.drop('cuisine_description',inplace=True, axis=1)"
   ]
  },
  {
   "cell_type": "code",
   "execution_count": 216,
   "metadata": {
    "ExecuteTime": {
     "end_time": "2017-10-22T15:55:47.137678Z",
     "start_time": "2017-10-22T15:55:47.047158Z"
    }
   },
   "outputs": [
    {
     "data": {
      "text/plain": [
       "['contamination',\n",
       " 'facility',\n",
       " 'food_handling',\n",
       " 'hygiene',\n",
       " 'regulatory',\n",
       " 'temperature',\n",
       " 'vermin']"
      ]
     },
     "execution_count": 216,
     "metadata": {},
     "output_type": "execute_result"
    }
   ],
   "source": [
    "vectorizer2 = CountVectorizer()\n",
    "features2 = vectorizer2.fit_transform(uniqueDF.new_violations)\n",
    "vectorizer2.get_feature_names()"
   ]
  },
  {
   "cell_type": "code",
   "execution_count": 217,
   "metadata": {
    "ExecuteTime": {
     "end_time": "2017-10-22T15:55:47.260919Z",
     "start_time": "2017-10-22T15:55:47.256568Z"
    },
    "collapsed": true
   },
   "outputs": [],
   "source": [
    "violationDF = pd.DataFrame(features2.todense(),columns =vectorizer2.get_feature_names())"
   ]
  },
  {
   "cell_type": "code",
   "execution_count": 218,
   "metadata": {
    "ExecuteTime": {
     "end_time": "2017-10-22T15:55:47.360623Z",
     "start_time": "2017-10-22T15:55:47.350955Z"
    }
   },
   "outputs": [
    {
     "data": {
      "text/html": [
       "<div>\n",
       "<style>\n",
       "    .dataframe thead tr:only-child th {\n",
       "        text-align: right;\n",
       "    }\n",
       "\n",
       "    .dataframe thead th {\n",
       "        text-align: left;\n",
       "    }\n",
       "\n",
       "    .dataframe tbody tr th {\n",
       "        vertical-align: top;\n",
       "    }\n",
       "</style>\n",
       "<table border=\"1\" class=\"dataframe\">\n",
       "  <thead>\n",
       "    <tr style=\"text-align: right;\">\n",
       "      <th></th>\n",
       "      <th>contamination</th>\n",
       "      <th>facility</th>\n",
       "      <th>food_handling</th>\n",
       "      <th>hygiene</th>\n",
       "      <th>regulatory</th>\n",
       "      <th>temperature</th>\n",
       "      <th>vermin</th>\n",
       "    </tr>\n",
       "  </thead>\n",
       "  <tbody>\n",
       "    <tr>\n",
       "      <th>0</th>\n",
       "      <td>2</td>\n",
       "      <td>1</td>\n",
       "      <td>0</td>\n",
       "      <td>0</td>\n",
       "      <td>0</td>\n",
       "      <td>0</td>\n",
       "      <td>0</td>\n",
       "    </tr>\n",
       "    <tr>\n",
       "      <th>1</th>\n",
       "      <td>0</td>\n",
       "      <td>0</td>\n",
       "      <td>0</td>\n",
       "      <td>1</td>\n",
       "      <td>0</td>\n",
       "      <td>1</td>\n",
       "      <td>0</td>\n",
       "    </tr>\n",
       "    <tr>\n",
       "      <th>2</th>\n",
       "      <td>0</td>\n",
       "      <td>0</td>\n",
       "      <td>0</td>\n",
       "      <td>0</td>\n",
       "      <td>0</td>\n",
       "      <td>0</td>\n",
       "      <td>2</td>\n",
       "    </tr>\n",
       "    <tr>\n",
       "      <th>3</th>\n",
       "      <td>0</td>\n",
       "      <td>0</td>\n",
       "      <td>0</td>\n",
       "      <td>0</td>\n",
       "      <td>0</td>\n",
       "      <td>0</td>\n",
       "      <td>2</td>\n",
       "    </tr>\n",
       "    <tr>\n",
       "      <th>4</th>\n",
       "      <td>0</td>\n",
       "      <td>1</td>\n",
       "      <td>0</td>\n",
       "      <td>1</td>\n",
       "      <td>0</td>\n",
       "      <td>0</td>\n",
       "      <td>0</td>\n",
       "    </tr>\n",
       "  </tbody>\n",
       "</table>\n",
       "</div>"
      ],
      "text/plain": [
       "   contamination  facility  food_handling  hygiene  regulatory  temperature  \\\n",
       "0              2         1              0        0           0            0   \n",
       "1              0         0              0        1           0            1   \n",
       "2              0         0              0        0           0            0   \n",
       "3              0         0              0        0           0            0   \n",
       "4              0         1              0        1           0            0   \n",
       "\n",
       "   vermin  \n",
       "0       0  \n",
       "1       0  \n",
       "2       2  \n",
       "3       2  \n",
       "4       0  "
      ]
     },
     "execution_count": 218,
     "metadata": {},
     "output_type": "execute_result"
    }
   ],
   "source": [
    "violationDF.head()"
   ]
  },
  {
   "cell_type": "code",
   "execution_count": 219,
   "metadata": {
    "ExecuteTime": {
     "end_time": "2017-10-22T15:55:47.552357Z",
     "start_time": "2017-10-22T15:55:47.545218Z"
    }
   },
   "outputs": [
    {
     "data": {
      "text/plain": [
       "(20284, 7)"
      ]
     },
     "execution_count": 219,
     "metadata": {},
     "output_type": "execute_result"
    }
   ],
   "source": [
    "violationDF.shape"
   ]
  },
  {
   "cell_type": "code",
   "execution_count": 220,
   "metadata": {
    "ExecuteTime": {
     "end_time": "2017-10-22T15:55:47.751370Z",
     "start_time": "2017-10-22T15:55:47.730045Z"
    },
    "collapsed": true
   },
   "outputs": [],
   "source": [
    "uniqueDF = uniqueDF.join(violationDF)"
   ]
  },
  {
   "cell_type": "code",
   "execution_count": 221,
   "metadata": {
    "ExecuteTime": {
     "end_time": "2017-10-22T15:55:47.837939Z",
     "start_time": "2017-10-22T15:55:47.833729Z"
    }
   },
   "outputs": [
    {
     "data": {
      "text/plain": [
       "(20284, 114)"
      ]
     },
     "execution_count": 221,
     "metadata": {},
     "output_type": "execute_result"
    }
   ],
   "source": [
    "uniqueDF.shape"
   ]
  },
  {
   "cell_type": "code",
   "execution_count": 222,
   "metadata": {
    "ExecuteTime": {
     "end_time": "2017-10-22T15:55:48.037065Z",
     "start_time": "2017-10-22T15:55:48.030779Z"
    }
   },
   "outputs": [
    {
     "data": {
      "text/plain": [
       "(20284, 3)"
      ]
     },
     "execution_count": 222,
     "metadata": {},
     "output_type": "execute_result"
    }
   ],
   "source": [
    "restGroup.shape"
   ]
  },
  {
   "cell_type": "code",
   "execution_count": 223,
   "metadata": {
    "ExecuteTime": {
     "end_time": "2017-10-22T15:55:48.135004Z",
     "start_time": "2017-10-22T15:55:48.132610Z"
    },
    "collapsed": true
   },
   "outputs": [],
   "source": [
    "#uniqueDF.drop(['address','violation_count'],axis=1,inplace=True)"
   ]
  },
  {
   "cell_type": "code",
   "execution_count": 224,
   "metadata": {
    "ExecuteTime": {
     "end_time": "2017-10-22T15:55:48.431377Z",
     "start_time": "2017-10-22T15:55:48.396071Z"
    }
   },
   "outputs": [
    {
     "data": {
      "text/html": [
       "<div>\n",
       "<style>\n",
       "    .dataframe thead tr:only-child th {\n",
       "        text-align: right;\n",
       "    }\n",
       "\n",
       "    .dataframe thead th {\n",
       "        text-align: left;\n",
       "    }\n",
       "\n",
       "    .dataframe tbody tr th {\n",
       "        vertical-align: top;\n",
       "    }\n",
       "</style>\n",
       "<table border=\"1\" class=\"dataframe\">\n",
       "  <thead>\n",
       "    <tr style=\"text-align: right;\">\n",
       "      <th></th>\n",
       "      <th>key</th>\n",
       "      <th>violations</th>\n",
       "      <th>camis</th>\n",
       "      <th>name</th>\n",
       "      <th>boro</th>\n",
       "      <th>building</th>\n",
       "      <th>street</th>\n",
       "      <th>zipcode</th>\n",
       "      <th>phone</th>\n",
       "      <th>inspection_date</th>\n",
       "      <th>...</th>\n",
       "      <th>critical</th>\n",
       "      <th>notapplicable</th>\n",
       "      <th>notcritical</th>\n",
       "      <th>contamination</th>\n",
       "      <th>facility</th>\n",
       "      <th>food_handling</th>\n",
       "      <th>hygiene</th>\n",
       "      <th>regulatory</th>\n",
       "      <th>temperature</th>\n",
       "      <th>vermin</th>\n",
       "    </tr>\n",
       "  </thead>\n",
       "  <tbody>\n",
       "    <tr>\n",
       "      <th>0</th>\n",
       "      <td>#1 Chinese Restaurant---825 W 181ST ST MANHATT...</td>\n",
       "      <td>06C, 06D, 10F</td>\n",
       "      <td>50050805</td>\n",
       "      <td>#1 Chinese Restaurant</td>\n",
       "      <td>MANHATTAN</td>\n",
       "      <td>825</td>\n",
       "      <td>W 181ST ST</td>\n",
       "      <td>10033</td>\n",
       "      <td>9173258805</td>\n",
       "      <td>2016-09-30</td>\n",
       "      <td>...</td>\n",
       "      <td>2.0</td>\n",
       "      <td>0.0</td>\n",
       "      <td>1.0</td>\n",
       "      <td>2.0</td>\n",
       "      <td>1.0</td>\n",
       "      <td>0.0</td>\n",
       "      <td>0.0</td>\n",
       "      <td>0.0</td>\n",
       "      <td>0.0</td>\n",
       "      <td>0.0</td>\n",
       "    </tr>\n",
       "    <tr>\n",
       "      <th>1</th>\n",
       "      <td>#1 GARDEN CHINESE---221 PROSPECT PARK WEST BRO...</td>\n",
       "      <td>06A, 02G</td>\n",
       "      <td>41568346</td>\n",
       "      <td>#1 GARDEN CHINESE</td>\n",
       "      <td>BROOKLYN</td>\n",
       "      <td>221</td>\n",
       "      <td>PROSPECT PARK WEST</td>\n",
       "      <td>11215</td>\n",
       "      <td>7188321795</td>\n",
       "      <td>2017-08-23</td>\n",
       "      <td>...</td>\n",
       "      <td>2.0</td>\n",
       "      <td>0.0</td>\n",
       "      <td>0.0</td>\n",
       "      <td>0.0</td>\n",
       "      <td>0.0</td>\n",
       "      <td>0.0</td>\n",
       "      <td>1.0</td>\n",
       "      <td>0.0</td>\n",
       "      <td>1.0</td>\n",
       "      <td>0.0</td>\n",
       "    </tr>\n",
       "    <tr>\n",
       "      <th>2</th>\n",
       "      <td>#1 Natural Juice Bar---685 SENECA AVE QUEENS 1...</td>\n",
       "      <td>08A, 04L</td>\n",
       "      <td>50051964</td>\n",
       "      <td>#1 Natural Juice Bar</td>\n",
       "      <td>QUEENS</td>\n",
       "      <td>685</td>\n",
       "      <td>SENECA AVE</td>\n",
       "      <td>11385</td>\n",
       "      <td>3479565161</td>\n",
       "      <td>2017-08-17</td>\n",
       "      <td>...</td>\n",
       "      <td>1.0</td>\n",
       "      <td>0.0</td>\n",
       "      <td>1.0</td>\n",
       "      <td>0.0</td>\n",
       "      <td>0.0</td>\n",
       "      <td>0.0</td>\n",
       "      <td>0.0</td>\n",
       "      <td>0.0</td>\n",
       "      <td>0.0</td>\n",
       "      <td>2.0</td>\n",
       "    </tr>\n",
       "    <tr>\n",
       "      <th>3</th>\n",
       "      <td>#1 SABOR LATINO RESTAURANT---4120 WHITE PLAINS...</td>\n",
       "      <td>08A, 04L</td>\n",
       "      <td>41336841</td>\n",
       "      <td>#1 SABOR LATINO RESTAURANT</td>\n",
       "      <td>BRONX</td>\n",
       "      <td>4120</td>\n",
       "      <td>WHITE PLAINS ROAD</td>\n",
       "      <td>10466</td>\n",
       "      <td>7186532222</td>\n",
       "      <td>2017-03-16</td>\n",
       "      <td>...</td>\n",
       "      <td>1.0</td>\n",
       "      <td>0.0</td>\n",
       "      <td>1.0</td>\n",
       "      <td>0.0</td>\n",
       "      <td>0.0</td>\n",
       "      <td>0.0</td>\n",
       "      <td>0.0</td>\n",
       "      <td>0.0</td>\n",
       "      <td>0.0</td>\n",
       "      <td>2.0</td>\n",
       "    </tr>\n",
       "    <tr>\n",
       "      <th>4</th>\n",
       "      <td>$1 PIZZA---1276 FULTON ST BROOKLYN 11216</td>\n",
       "      <td>10H, 06E</td>\n",
       "      <td>50061194</td>\n",
       "      <td>$1 PIZZA</td>\n",
       "      <td>BROOKLYN</td>\n",
       "      <td>1276</td>\n",
       "      <td>FULTON ST</td>\n",
       "      <td>11216</td>\n",
       "      <td>7186384685</td>\n",
       "      <td>2017-05-22</td>\n",
       "      <td>...</td>\n",
       "      <td>1.0</td>\n",
       "      <td>0.0</td>\n",
       "      <td>1.0</td>\n",
       "      <td>0.0</td>\n",
       "      <td>1.0</td>\n",
       "      <td>0.0</td>\n",
       "      <td>1.0</td>\n",
       "      <td>0.0</td>\n",
       "      <td>0.0</td>\n",
       "      <td>0.0</td>\n",
       "    </tr>\n",
       "  </tbody>\n",
       "</table>\n",
       "<p>5 rows × 114 columns</p>\n",
       "</div>"
      ],
      "text/plain": [
       "                                                 key     violations     camis  \\\n",
       "0  #1 Chinese Restaurant---825 W 181ST ST MANHATT...  06C, 06D, 10F  50050805   \n",
       "1  #1 GARDEN CHINESE---221 PROSPECT PARK WEST BRO...       06A, 02G  41568346   \n",
       "2  #1 Natural Juice Bar---685 SENECA AVE QUEENS 1...       08A, 04L  50051964   \n",
       "3  #1 SABOR LATINO RESTAURANT---4120 WHITE PLAINS...       08A, 04L  41336841   \n",
       "4           $1 PIZZA---1276 FULTON ST BROOKLYN 11216       10H, 06E  50061194   \n",
       "\n",
       "                         name       boro building              street zipcode  \\\n",
       "0       #1 Chinese Restaurant  MANHATTAN      825          W 181ST ST   10033   \n",
       "1           #1 GARDEN CHINESE   BROOKLYN      221  PROSPECT PARK WEST   11215   \n",
       "2        #1 Natural Juice Bar     QUEENS      685          SENECA AVE   11385   \n",
       "3  #1 SABOR LATINO RESTAURANT      BRONX     4120   WHITE PLAINS ROAD   10466   \n",
       "4                    $1 PIZZA   BROOKLYN     1276           FULTON ST   11216   \n",
       "\n",
       "        phone inspection_date  ...   critical notapplicable notcritical  \\\n",
       "0  9173258805      2016-09-30  ...        2.0           0.0         1.0   \n",
       "1  7188321795      2017-08-23  ...        2.0           0.0         0.0   \n",
       "2  3479565161      2017-08-17  ...        1.0           0.0         1.0   \n",
       "3  7186532222      2017-03-16  ...        1.0           0.0         1.0   \n",
       "4  7186384685      2017-05-22  ...        1.0           0.0         1.0   \n",
       "\n",
       "   contamination facility food_handling hygiene regulatory temperature vermin  \n",
       "0            2.0      1.0           0.0     0.0        0.0         0.0    0.0  \n",
       "1            0.0      0.0           0.0     1.0        0.0         1.0    0.0  \n",
       "2            0.0      0.0           0.0     0.0        0.0         0.0    2.0  \n",
       "3            0.0      0.0           0.0     0.0        0.0         0.0    2.0  \n",
       "4            0.0      1.0           0.0     1.0        0.0         0.0    0.0  \n",
       "\n",
       "[5 rows x 114 columns]"
      ]
     },
     "execution_count": 224,
     "metadata": {},
     "output_type": "execute_result"
    }
   ],
   "source": [
    "uniqueDF.head()"
   ]
  },
  {
   "cell_type": "code",
   "execution_count": 225,
   "metadata": {
    "ExecuteTime": {
     "end_time": "2017-10-22T15:55:48.639553Z",
     "start_time": "2017-10-22T15:55:48.636518Z"
    },
    "collapsed": true
   },
   "outputs": [],
   "source": [
    "#allDF = restGroup.join(uniqueDF,how='left')"
   ]
  },
  {
   "cell_type": "code",
   "execution_count": 226,
   "metadata": {
    "ExecuteTime": {
     "end_time": "2017-10-22T15:55:50.413163Z",
     "start_time": "2017-10-22T15:55:50.409330Z"
    },
    "collapsed": true
   },
   "outputs": [],
   "source": [
    "#allDF.shape"
   ]
  },
  {
   "cell_type": "code",
   "execution_count": 227,
   "metadata": {
    "ExecuteTime": {
     "end_time": "2017-10-22T15:55:50.650511Z",
     "start_time": "2017-10-22T15:55:50.647530Z"
    },
    "collapsed": true
   },
   "outputs": [],
   "source": [
    "#allDF.columns.tolist()"
   ]
  },
  {
   "cell_type": "code",
   "execution_count": 228,
   "metadata": {
    "ExecuteTime": {
     "end_time": "2017-10-22T15:55:50.836322Z",
     "start_time": "2017-10-22T15:55:50.833427Z"
    },
    "collapsed": true
   },
   "outputs": [],
   "source": [
    "#allDF.drop('dba',axis=1,inplace=True)"
   ]
  },
  {
   "cell_type": "code",
   "execution_count": 229,
   "metadata": {
    "ExecuteTime": {
     "end_time": "2017-10-22T15:55:50.993652Z",
     "start_time": "2017-10-22T15:55:50.990120Z"
    },
    "collapsed": true
   },
   "outputs": [],
   "source": [
    "#allDF.head()"
   ]
  },
  {
   "cell_type": "code",
   "execution_count": 230,
   "metadata": {
    "ExecuteTime": {
     "end_time": "2017-10-22T15:55:51.351459Z",
     "start_time": "2017-10-22T15:55:51.099242Z"
    },
    "collapsed": true
   },
   "outputs": [],
   "source": [
    "boroDF = uniqueDF.boro.str.get_dummies()"
   ]
  },
  {
   "cell_type": "code",
   "execution_count": 231,
   "metadata": {
    "ExecuteTime": {
     "end_time": "2017-10-22T15:55:51.356826Z",
     "start_time": "2017-10-22T15:55:51.353396Z"
    },
    "collapsed": true
   },
   "outputs": [],
   "source": [
    "boroDF.columns = map(str.lower, boroDF.columns)"
   ]
  },
  {
   "cell_type": "code",
   "execution_count": 232,
   "metadata": {
    "ExecuteTime": {
     "end_time": "2017-10-22T15:55:51.447507Z",
     "start_time": "2017-10-22T15:55:51.443600Z"
    },
    "collapsed": true
   },
   "outputs": [],
   "source": [
    "boroDF.drop('staten island',axis=1,inplace=True)"
   ]
  },
  {
   "cell_type": "code",
   "execution_count": 233,
   "metadata": {
    "ExecuteTime": {
     "end_time": "2017-10-22T15:55:51.625110Z",
     "start_time": "2017-10-22T15:55:51.608426Z"
    },
    "collapsed": true
   },
   "outputs": [],
   "source": [
    "uniqueDF = uniqueDF.join(boroDF)"
   ]
  },
  {
   "cell_type": "code",
   "execution_count": 234,
   "metadata": {
    "ExecuteTime": {
     "end_time": "2017-10-22T15:55:51.834037Z",
     "start_time": "2017-10-22T15:55:51.794959Z"
    },
    "collapsed": true
   },
   "outputs": [],
   "source": [
    "uniqueDF.drop('boro',axis=1,inplace=True)"
   ]
  },
  {
   "cell_type": "code",
   "execution_count": 235,
   "metadata": {
    "ExecuteTime": {
     "end_time": "2017-10-22T15:55:51.888947Z",
     "start_time": "2017-10-22T15:55:51.885036Z"
    }
   },
   "outputs": [
    {
     "data": {
      "text/plain": [
       "(20284, 117)"
      ]
     },
     "execution_count": 235,
     "metadata": {},
     "output_type": "execute_result"
    }
   ],
   "source": [
    "uniqueDF.shape"
   ]
  },
  {
   "cell_type": "code",
   "execution_count": 236,
   "metadata": {
    "ExecuteTime": {
     "end_time": "2017-10-22T15:55:52.078878Z",
     "start_time": "2017-10-22T15:55:52.074508Z"
    }
   },
   "outputs": [],
   "source": [
    "#uniqueDF.groupby(['name','inspection_date']).violation_code.count()"
   ]
  },
  {
   "cell_type": "code",
   "execution_count": 237,
   "metadata": {
    "ExecuteTime": {
     "end_time": "2017-10-22T15:55:52.245925Z",
     "start_time": "2017-10-22T15:55:52.243220Z"
    }
   },
   "outputs": [],
   "source": [
    "#uniqueDF.head()"
   ]
  },
  {
   "cell_type": "code",
   "execution_count": 238,
   "metadata": {
    "ExecuteTime": {
     "end_time": "2017-10-22T15:55:53.861622Z",
     "start_time": "2017-10-22T15:55:53.858891Z"
    },
    "collapsed": true
   },
   "outputs": [],
   "source": [
    "#testDF = uniqueDF.loc[uniqueDF.groupby(['name','violations'])['inspection_date'].idxmax()]"
   ]
  },
  {
   "cell_type": "code",
   "execution_count": 239,
   "metadata": {
    "ExecuteTime": {
     "end_time": "2017-10-22T15:55:54.234004Z",
     "start_time": "2017-10-22T15:55:54.230443Z"
    },
    "collapsed": true
   },
   "outputs": [],
   "source": [
    "# testDF."
   ]
  },
  {
   "cell_type": "code",
   "execution_count": 240,
   "metadata": {
    "ExecuteTime": {
     "end_time": "2017-10-22T15:55:55.013185Z",
     "start_time": "2017-10-22T15:55:55.004909Z"
    },
    "collapsed": true
   },
   "outputs": [],
   "source": [
    "dfFeatures = ['violation_count' 'zipcode', 'score', 'grade', 'contamination','facility','food_handling','hygiene','temperature','vermin', 'inspection_year', 'Afghan', 'African', 'American', 'Armenian', 'Asian', 'Australian', 'Bagels/Pretzels', 'Bakery', 'Bangladeshi', 'Barbecue', 'Bottle Beverages', 'Brazilian', 'Cajun', 'Californian', 'Caribbean', 'Chicken', 'Chilean', 'Chinese', 'Chinese/Cuban', 'Chinese/Japanese', 'Coffee', 'Continental', 'Creole', 'Creole/Cajun', 'Czech', 'Delicatessen', 'Donuts', 'Eastern European', 'Egyptian', 'English', 'Ethiopian', 'Filipino', 'French', 'Fruits/Vegetables', 'German', 'Greek', 'Hamburgers', 'Hawaiian', 'Hotdogs', 'Hotdogs/Pretzels', 'Ice Cream', 'Indian', 'Indonesian', 'Iranian', 'Irish', 'Italian', 'Japanese', 'Jewish/Kosher', 'Juice, Smoothies, Fruit Salads', 'Korean', 'Latin', 'Mediterranean', 'Mexican', 'Middle Eastern', 'Mixed Buffet', 'Moroccan', 'Not Listed/Not Applicable', 'Nuts/Confectionary', 'Pakistani', 'Pancakes/Waffles', 'Peruvian', 'Pizza', 'Pizza/Italian', 'Polish', 'Polynesian', 'Portuguese', 'Russian', 'Salads', 'Sandwiches', 'Scandinavian', 'Seafood', 'Soul Food', 'Soups', 'Southwestern', 'Spanish', 'Steak', 'Tapas', 'Tex-Mex', 'Thai', 'Turkish', 'Vegetarian', 'Vietnamese/Cambodian/Malaysia', 'bronx', 'brooklyn', 'manhattan', 'queens','match']"
   ]
  },
  {
   "cell_type": "code",
   "execution_count": 241,
   "metadata": {
    "ExecuteTime": {
     "end_time": "2017-10-22T15:55:56.621960Z",
     "start_time": "2017-10-22T15:55:56.618450Z"
    },
    "collapsed": true
   },
   "outputs": [],
   "source": [
    "to_drop = ['key','violations','camis','building','street','phone','action',\n",
    " 'violation_description','violation_code','grade_date','record_date','inspection_type',\n",
    "           'new_violations','inspection_date']"
   ]
  },
  {
   "cell_type": "code",
   "execution_count": 242,
   "metadata": {
    "ExecuteTime": {
     "end_time": "2017-10-22T15:55:57.160112Z",
     "start_time": "2017-10-22T15:55:57.152822Z"
    }
   },
   "outputs": [
    {
     "data": {
      "text/plain": [
       "['key',\n",
       " 'violations',\n",
       " 'camis',\n",
       " 'name',\n",
       " 'building',\n",
       " 'street',\n",
       " 'zipcode',\n",
       " 'phone',\n",
       " 'inspection_date',\n",
       " 'action',\n",
       " 'violation_code',\n",
       " 'violation_description',\n",
       " 'score',\n",
       " 'grade',\n",
       " 'grade_date',\n",
       " 'record_date',\n",
       " 'inspection_type',\n",
       " 'address',\n",
       " 'new_violations',\n",
       " 'inspection_year',\n",
       " 'violation_count',\n",
       " 'Afghan',\n",
       " 'African',\n",
       " 'American',\n",
       " 'Armenian',\n",
       " 'Asian',\n",
       " 'Australian',\n",
       " 'Bagels/Pretzels',\n",
       " 'Bakery',\n",
       " 'Bangladeshi',\n",
       " 'Barbecue',\n",
       " 'Bottle Beverages',\n",
       " 'Brazilian',\n",
       " 'Cajun',\n",
       " 'Californian',\n",
       " 'Caribbean',\n",
       " 'Chicken',\n",
       " 'Chilean',\n",
       " 'Chinese',\n",
       " 'Chinese/Cuban',\n",
       " 'Chinese/Japanese',\n",
       " 'Coffee',\n",
       " 'Continental',\n",
       " 'Creole',\n",
       " 'Creole/Cajun',\n",
       " 'Czech',\n",
       " 'Delicatessen',\n",
       " 'Donuts',\n",
       " 'Eastern European',\n",
       " 'Egyptian',\n",
       " 'English',\n",
       " 'Ethiopian',\n",
       " 'Filipino',\n",
       " 'French',\n",
       " 'Fruits/Vegetables',\n",
       " 'German',\n",
       " 'Greek',\n",
       " 'Hamburgers',\n",
       " 'Hawaiian',\n",
       " 'Hotdogs',\n",
       " 'Hotdogs/Pretzels',\n",
       " 'Ice Cream',\n",
       " 'Indian',\n",
       " 'Indonesian',\n",
       " 'Iranian',\n",
       " 'Irish',\n",
       " 'Italian',\n",
       " 'Japanese',\n",
       " 'Jewish/Kosher',\n",
       " 'Juice, Smoothies, Fruit Salads',\n",
       " 'Korean',\n",
       " 'Latin',\n",
       " 'Mediterranean',\n",
       " 'Mexican',\n",
       " 'Middle Eastern',\n",
       " 'Mixed Buffet',\n",
       " 'Moroccan',\n",
       " 'Not Listed/Not Applicable',\n",
       " 'Nuts/Confectionary',\n",
       " 'Pakistani',\n",
       " 'Pancakes/Waffles',\n",
       " 'Peruvian',\n",
       " 'Pizza',\n",
       " 'Pizza/Italian',\n",
       " 'Polish',\n",
       " 'Polynesian',\n",
       " 'Portuguese',\n",
       " 'Russian',\n",
       " 'Salads',\n",
       " 'Sandwiches',\n",
       " 'Scandinavian',\n",
       " 'Seafood',\n",
       " 'Soul Food',\n",
       " 'Soups',\n",
       " 'Southwestern',\n",
       " 'Spanish',\n",
       " 'Steak',\n",
       " 'Tapas',\n",
       " 'Tex-Mex',\n",
       " 'Thai',\n",
       " 'Turkish',\n",
       " 'Vegetarian',\n",
       " 'Vietnamese/Cambodian/Malaysia',\n",
       " 'critical',\n",
       " 'notapplicable',\n",
       " 'notcritical',\n",
       " 'contamination',\n",
       " 'facility',\n",
       " 'food_handling',\n",
       " 'hygiene',\n",
       " 'regulatory',\n",
       " 'temperature',\n",
       " 'vermin',\n",
       " 'bronx',\n",
       " 'brooklyn',\n",
       " 'manhattan',\n",
       " 'queens']"
      ]
     },
     "execution_count": 242,
     "metadata": {},
     "output_type": "execute_result"
    }
   ],
   "source": [
    "uniqueDF.columns.tolist()"
   ]
  },
  {
   "cell_type": "code",
   "execution_count": 243,
   "metadata": {
    "ExecuteTime": {
     "end_time": "2017-10-22T15:55:59.608739Z",
     "start_time": "2017-10-22T15:55:59.605680Z"
    }
   },
   "outputs": [],
   "source": [
    "sumList = ['contamination','facility','food_handling','hygiene','regulatory','temperature','vermin']\n"
   ]
  },
  {
   "cell_type": "code",
   "execution_count": 244,
   "metadata": {
    "ExecuteTime": {
     "end_time": "2017-10-22T15:55:59.832288Z",
     "start_time": "2017-10-22T15:55:59.827935Z"
    },
    "collapsed": true
   },
   "outputs": [],
   "source": [
    "uniqueDF['violation_count'] = uniqueDF[sumList].sum(axis=1).astype(int)"
   ]
  },
  {
   "cell_type": "code",
   "execution_count": 245,
   "metadata": {
    "ExecuteTime": {
     "end_time": "2017-10-22T15:56:00.065264Z",
     "start_time": "2017-10-22T15:56:00.050923Z"
    }
   },
   "outputs": [],
   "source": [
    "uniqueDF.drop(to_drop,axis=1,inplace=True)"
   ]
  },
  {
   "cell_type": "code",
   "execution_count": 246,
   "metadata": {
    "ExecuteTime": {
     "end_time": "2017-10-22T15:56:00.301178Z",
     "start_time": "2017-10-22T15:56:00.296459Z"
    }
   },
   "outputs": [
    {
     "data": {
      "text/plain": [
       "(20284, 103)"
      ]
     },
     "execution_count": 246,
     "metadata": {},
     "output_type": "execute_result"
    }
   ],
   "source": [
    "uniqueDF.shape"
   ]
  },
  {
   "cell_type": "code",
   "execution_count": 247,
   "metadata": {
    "ExecuteTime": {
     "end_time": "2017-10-22T15:56:00.502859Z",
     "start_time": "2017-10-22T15:56:00.496809Z"
    }
   },
   "outputs": [
    {
     "data": {
      "text/plain": [
       "['name',\n",
       " 'zipcode',\n",
       " 'score',\n",
       " 'grade',\n",
       " 'address',\n",
       " 'inspection_year',\n",
       " 'violation_count',\n",
       " 'Afghan',\n",
       " 'African',\n",
       " 'American',\n",
       " 'Armenian',\n",
       " 'Asian',\n",
       " 'Australian',\n",
       " 'Bagels/Pretzels',\n",
       " 'Bakery',\n",
       " 'Bangladeshi',\n",
       " 'Barbecue',\n",
       " 'Bottle Beverages',\n",
       " 'Brazilian',\n",
       " 'Cajun',\n",
       " 'Californian',\n",
       " 'Caribbean',\n",
       " 'Chicken',\n",
       " 'Chilean',\n",
       " 'Chinese',\n",
       " 'Chinese/Cuban',\n",
       " 'Chinese/Japanese',\n",
       " 'Coffee',\n",
       " 'Continental',\n",
       " 'Creole',\n",
       " 'Creole/Cajun',\n",
       " 'Czech',\n",
       " 'Delicatessen',\n",
       " 'Donuts',\n",
       " 'Eastern European',\n",
       " 'Egyptian',\n",
       " 'English',\n",
       " 'Ethiopian',\n",
       " 'Filipino',\n",
       " 'French',\n",
       " 'Fruits/Vegetables',\n",
       " 'German',\n",
       " 'Greek',\n",
       " 'Hamburgers',\n",
       " 'Hawaiian',\n",
       " 'Hotdogs',\n",
       " 'Hotdogs/Pretzels',\n",
       " 'Ice Cream',\n",
       " 'Indian',\n",
       " 'Indonesian',\n",
       " 'Iranian',\n",
       " 'Irish',\n",
       " 'Italian',\n",
       " 'Japanese',\n",
       " 'Jewish/Kosher',\n",
       " 'Juice, Smoothies, Fruit Salads',\n",
       " 'Korean',\n",
       " 'Latin',\n",
       " 'Mediterranean',\n",
       " 'Mexican',\n",
       " 'Middle Eastern',\n",
       " 'Mixed Buffet',\n",
       " 'Moroccan',\n",
       " 'Not Listed/Not Applicable',\n",
       " 'Nuts/Confectionary',\n",
       " 'Pakistani',\n",
       " 'Pancakes/Waffles',\n",
       " 'Peruvian',\n",
       " 'Pizza',\n",
       " 'Pizza/Italian',\n",
       " 'Polish',\n",
       " 'Polynesian',\n",
       " 'Portuguese',\n",
       " 'Russian',\n",
       " 'Salads',\n",
       " 'Sandwiches',\n",
       " 'Scandinavian',\n",
       " 'Seafood',\n",
       " 'Soul Food',\n",
       " 'Soups',\n",
       " 'Southwestern',\n",
       " 'Spanish',\n",
       " 'Steak',\n",
       " 'Tapas',\n",
       " 'Tex-Mex',\n",
       " 'Thai',\n",
       " 'Turkish',\n",
       " 'Vegetarian',\n",
       " 'Vietnamese/Cambodian/Malaysia',\n",
       " 'critical',\n",
       " 'notapplicable',\n",
       " 'notcritical',\n",
       " 'contamination',\n",
       " 'facility',\n",
       " 'food_handling',\n",
       " 'hygiene',\n",
       " 'regulatory',\n",
       " 'temperature',\n",
       " 'vermin',\n",
       " 'bronx',\n",
       " 'brooklyn',\n",
       " 'manhattan',\n",
       " 'queens']"
      ]
     },
     "execution_count": 247,
     "metadata": {},
     "output_type": "execute_result"
    }
   ],
   "source": [
    "uniqueDF.columns.tolist()"
   ]
  },
  {
   "cell_type": "code",
   "execution_count": 248,
   "metadata": {
    "ExecuteTime": {
     "end_time": "2017-10-22T15:56:00.701224Z",
     "start_time": "2017-10-22T15:56:00.662436Z"
    },
    "collapsed": true
   },
   "outputs": [],
   "source": [
    "uniqueDF.to_pickle('data/clean.pkl')"
   ]
  },
  {
   "cell_type": "code",
   "execution_count": null,
   "metadata": {
    "collapsed": true
   },
   "outputs": [],
   "source": []
  },
  {
   "cell_type": "markdown",
   "metadata": {},
   "source": [
    "## Yelp Data"
   ]
  },
  {
   "cell_type": "code",
   "execution_count": 179,
   "metadata": {
    "ExecuteTime": {
     "end_time": "2017-10-22T15:54:01.974377Z",
     "start_time": "2017-10-22T15:53:59.872628Z"
    },
    "collapsed": true,
    "scrolled": true
   },
   "outputs": [],
   "source": [
    "data = []\n",
    "with open('data/yelp_restaurants.json') as f:\n",
    "    for line in f:\n",
    "        data.append(json.loads(line))\n",
    "    \n",
    "yelpDF = pd.io.json.json_normalize(data)"
   ]
  },
  {
   "cell_type": "code",
   "execution_count": 180,
   "metadata": {
    "ExecuteTime": {
     "end_time": "2017-10-22T15:54:02.001075Z",
     "start_time": "2017-10-22T15:54:01.976694Z"
    }
   },
   "outputs": [
    {
     "data": {
      "text/html": [
       "<div>\n",
       "<style>\n",
       "    .dataframe thead tr:only-child th {\n",
       "        text-align: right;\n",
       "    }\n",
       "\n",
       "    .dataframe thead th {\n",
       "        text-align: left;\n",
       "    }\n",
       "\n",
       "    .dataframe tbody tr th {\n",
       "        vertical-align: top;\n",
       "    }\n",
       "</style>\n",
       "<table border=\"1\" class=\"dataframe\">\n",
       "  <thead>\n",
       "    <tr style=\"text-align: right;\">\n",
       "      <th></th>\n",
       "      <th>business_id</th>\n",
       "      <th>business_name</th>\n",
       "      <th>categories</th>\n",
       "      <th>coordinates.latitude</th>\n",
       "      <th>coordinates.longitude</th>\n",
       "      <th>is_closed</th>\n",
       "      <th>location.address1</th>\n",
       "      <th>location.address2</th>\n",
       "      <th>location.address3</th>\n",
       "      <th>location.city</th>\n",
       "      <th>location.country</th>\n",
       "      <th>location.display_address</th>\n",
       "      <th>location.state</th>\n",
       "      <th>location.zip_code</th>\n",
       "      <th>price</th>\n",
       "      <th>rating</th>\n",
       "      <th>review_count</th>\n",
       "    </tr>\n",
       "  </thead>\n",
       "  <tbody>\n",
       "    <tr>\n",
       "      <th>0</th>\n",
       "      <td>notaro-ristorante-new-york-2</td>\n",
       "      <td>Notaro Ristorante</td>\n",
       "      <td>[{'alias': 'italian', 'title': 'Italian'}]</td>\n",
       "      <td>40.745323</td>\n",
       "      <td>-73.975845</td>\n",
       "      <td>False</td>\n",
       "      <td>635 2nd Ave</td>\n",
       "      <td></td>\n",
       "      <td></td>\n",
       "      <td>New York</td>\n",
       "      <td>US</td>\n",
       "      <td>[635 2nd Ave, New York, NY 10016]</td>\n",
       "      <td>NY</td>\n",
       "      <td>10016</td>\n",
       "      <td>$$</td>\n",
       "      <td>3.0</td>\n",
       "      <td>90</td>\n",
       "    </tr>\n",
       "    <tr>\n",
       "      <th>1</th>\n",
       "      <td>vite-bar-astoria</td>\n",
       "      <td>Vite Bar</td>\n",
       "      <td>[{'alias': 'italian', 'title': 'Italian'}, {'a...</td>\n",
       "      <td>40.763414</td>\n",
       "      <td>-73.928119</td>\n",
       "      <td>False</td>\n",
       "      <td>2507 Broadway</td>\n",
       "      <td></td>\n",
       "      <td></td>\n",
       "      <td>Astoria</td>\n",
       "      <td>US</td>\n",
       "      <td>[2507 Broadway, Astoria, NY 11106]</td>\n",
       "      <td>NY</td>\n",
       "      <td>11106</td>\n",
       "      <td>$$</td>\n",
       "      <td>4.5</td>\n",
       "      <td>76</td>\n",
       "    </tr>\n",
       "    <tr>\n",
       "      <th>2</th>\n",
       "      <td>tacks-chinese-take-out-staten-island</td>\n",
       "      <td>Tack's Chinese Take Out</td>\n",
       "      <td>[{'alias': 'chinese', 'title': 'Chinese'}]</td>\n",
       "      <td>40.604620</td>\n",
       "      <td>-74.121230</td>\n",
       "      <td>False</td>\n",
       "      <td>11C Holden Blvd</td>\n",
       "      <td></td>\n",
       "      <td></td>\n",
       "      <td>Staten Island</td>\n",
       "      <td>US</td>\n",
       "      <td>[11C Holden Blvd, Staten Island, NY 10314]</td>\n",
       "      <td>NY</td>\n",
       "      <td>10314</td>\n",
       "      <td>$$</td>\n",
       "      <td>4.0</td>\n",
       "      <td>52</td>\n",
       "    </tr>\n",
       "    <tr>\n",
       "      <th>3</th>\n",
       "      <td>no-quarter-brooklyn</td>\n",
       "      <td>No Quarter</td>\n",
       "      <td>[{'alias': 'lounges', 'title': 'Lounges'}]</td>\n",
       "      <td>40.625198</td>\n",
       "      <td>-74.024025</td>\n",
       "      <td>False</td>\n",
       "      <td>8015 5th Ave</td>\n",
       "      <td></td>\n",
       "      <td></td>\n",
       "      <td>Brooklyn</td>\n",
       "      <td>US</td>\n",
       "      <td>[8015 5th Ave, Brooklyn, NY 11209]</td>\n",
       "      <td>NY</td>\n",
       "      <td>11209</td>\n",
       "      <td>$</td>\n",
       "      <td>2.5</td>\n",
       "      <td>16</td>\n",
       "    </tr>\n",
       "    <tr>\n",
       "      <th>4</th>\n",
       "      <td>henris-backyard-brooklyn</td>\n",
       "      <td>HENRI's Backyard</td>\n",
       "      <td>[{'alias': 'beerbar', 'title': 'Beer Bar'}, {'...</td>\n",
       "      <td>40.676470</td>\n",
       "      <td>-73.983940</td>\n",
       "      <td>True</td>\n",
       "      <td>256 4th Ave</td>\n",
       "      <td>None</td>\n",
       "      <td></td>\n",
       "      <td>Brooklyn</td>\n",
       "      <td>US</td>\n",
       "      <td>[256 4th Ave, Brooklyn, NY 11215]</td>\n",
       "      <td>NY</td>\n",
       "      <td>11215</td>\n",
       "      <td>$$</td>\n",
       "      <td>4.0</td>\n",
       "      <td>15</td>\n",
       "    </tr>\n",
       "  </tbody>\n",
       "</table>\n",
       "</div>"
      ],
      "text/plain": [
       "                            business_id            business_name  \\\n",
       "0          notaro-ristorante-new-york-2        Notaro Ristorante   \n",
       "1                      vite-bar-astoria                 Vite Bar   \n",
       "2  tacks-chinese-take-out-staten-island  Tack's Chinese Take Out   \n",
       "3                   no-quarter-brooklyn               No Quarter   \n",
       "4              henris-backyard-brooklyn         HENRI's Backyard   \n",
       "\n",
       "                                          categories  coordinates.latitude  \\\n",
       "0         [{'alias': 'italian', 'title': 'Italian'}]             40.745323   \n",
       "1  [{'alias': 'italian', 'title': 'Italian'}, {'a...             40.763414   \n",
       "2         [{'alias': 'chinese', 'title': 'Chinese'}]             40.604620   \n",
       "3         [{'alias': 'lounges', 'title': 'Lounges'}]             40.625198   \n",
       "4  [{'alias': 'beerbar', 'title': 'Beer Bar'}, {'...             40.676470   \n",
       "\n",
       "   coordinates.longitude  is_closed location.address1 location.address2  \\\n",
       "0             -73.975845      False       635 2nd Ave                     \n",
       "1             -73.928119      False     2507 Broadway                     \n",
       "2             -74.121230      False   11C Holden Blvd                     \n",
       "3             -74.024025      False      8015 5th Ave                     \n",
       "4             -73.983940       True       256 4th Ave              None   \n",
       "\n",
       "  location.address3  location.city location.country  \\\n",
       "0                         New York               US   \n",
       "1                          Astoria               US   \n",
       "2                    Staten Island               US   \n",
       "3                         Brooklyn               US   \n",
       "4                         Brooklyn               US   \n",
       "\n",
       "                     location.display_address location.state  \\\n",
       "0           [635 2nd Ave, New York, NY 10016]             NY   \n",
       "1          [2507 Broadway, Astoria, NY 11106]             NY   \n",
       "2  [11C Holden Blvd, Staten Island, NY 10314]             NY   \n",
       "3          [8015 5th Ave, Brooklyn, NY 11209]             NY   \n",
       "4           [256 4th Ave, Brooklyn, NY 11215]             NY   \n",
       "\n",
       "  location.zip_code price  rating  review_count  \n",
       "0             10016    $$     3.0            90  \n",
       "1             11106    $$     4.5            76  \n",
       "2             10314    $$     4.0            52  \n",
       "3             11209     $     2.5            16  \n",
       "4             11215    $$     4.0            15  "
      ]
     },
     "execution_count": 180,
     "metadata": {},
     "output_type": "execute_result"
    }
   ],
   "source": [
    "yelpDF.head()"
   ]
  },
  {
   "cell_type": "code",
   "execution_count": 181,
   "metadata": {
    "ExecuteTime": {
     "end_time": "2017-10-22T15:54:02.299043Z",
     "start_time": "2017-10-22T15:54:02.293452Z"
    }
   },
   "outputs": [
    {
     "data": {
      "text/plain": [
       "(23397, 17)"
      ]
     },
     "execution_count": 181,
     "metadata": {},
     "output_type": "execute_result"
    }
   ],
   "source": [
    "yelpDF.shape"
   ]
  },
  {
   "cell_type": "code",
   "execution_count": 182,
   "metadata": {
    "ExecuteTime": {
     "end_time": "2017-10-22T15:54:02.657883Z",
     "start_time": "2017-10-22T15:54:02.637744Z"
    },
    "collapsed": true
   },
   "outputs": [],
   "source": [
    "yelpDF['clean_address'] = yelpDF['location.display_address'].apply(lambda x: ', '.join(x))"
   ]
  },
  {
   "cell_type": "code",
   "execution_count": 183,
   "metadata": {
    "ExecuteTime": {
     "end_time": "2017-10-22T15:54:03.367025Z",
     "start_time": "2017-10-22T15:54:03.338554Z"
    },
    "collapsed": true
   },
   "outputs": [],
   "source": [
    "yelpDF.drop('location.display_address',axis=1,inplace=True)"
   ]
  },
  {
   "cell_type": "code",
   "execution_count": 184,
   "metadata": {
    "ExecuteTime": {
     "end_time": "2017-10-22T15:54:03.823259Z",
     "start_time": "2017-10-22T15:54:03.814994Z"
    },
    "collapsed": true
   },
   "outputs": [],
   "source": [
    "def convert_categoies(row):\n",
    "    cats = ''\n",
    "    for dic in row['categories']:\n",
    "        for key in dic:\n",
    "            if key == 'alias':\n",
    "                cats += dic[key]+','\n",
    "            else:\n",
    "                next\n",
    "    return cats[:-1]"
   ]
  },
  {
   "cell_type": "code",
   "execution_count": 185,
   "metadata": {
    "ExecuteTime": {
     "end_time": "2017-10-22T15:54:05.690891Z",
     "start_time": "2017-10-22T15:54:05.304830Z"
    },
    "collapsed": true
   },
   "outputs": [],
   "source": [
    "yelpDF['categories_clean'] = yelpDF.apply(lambda row: convert_categoies(row),axis=1)"
   ]
  },
  {
   "cell_type": "code",
   "execution_count": 186,
   "metadata": {
    "ExecuteTime": {
     "end_time": "2017-10-22T15:54:05.721274Z",
     "start_time": "2017-10-22T15:54:05.692576Z"
    }
   },
   "outputs": [
    {
     "data": {
      "text/html": [
       "<div>\n",
       "<style>\n",
       "    .dataframe thead tr:only-child th {\n",
       "        text-align: right;\n",
       "    }\n",
       "\n",
       "    .dataframe thead th {\n",
       "        text-align: left;\n",
       "    }\n",
       "\n",
       "    .dataframe tbody tr th {\n",
       "        vertical-align: top;\n",
       "    }\n",
       "</style>\n",
       "<table border=\"1\" class=\"dataframe\">\n",
       "  <thead>\n",
       "    <tr style=\"text-align: right;\">\n",
       "      <th></th>\n",
       "      <th>business_id</th>\n",
       "      <th>business_name</th>\n",
       "      <th>categories</th>\n",
       "      <th>coordinates.latitude</th>\n",
       "      <th>coordinates.longitude</th>\n",
       "      <th>is_closed</th>\n",
       "      <th>location.address1</th>\n",
       "      <th>location.address2</th>\n",
       "      <th>location.address3</th>\n",
       "      <th>location.city</th>\n",
       "      <th>location.country</th>\n",
       "      <th>location.state</th>\n",
       "      <th>location.zip_code</th>\n",
       "      <th>price</th>\n",
       "      <th>rating</th>\n",
       "      <th>review_count</th>\n",
       "      <th>clean_address</th>\n",
       "      <th>categories_clean</th>\n",
       "    </tr>\n",
       "  </thead>\n",
       "  <tbody>\n",
       "    <tr>\n",
       "      <th>0</th>\n",
       "      <td>notaro-ristorante-new-york-2</td>\n",
       "      <td>Notaro Ristorante</td>\n",
       "      <td>[{'alias': 'italian', 'title': 'Italian'}]</td>\n",
       "      <td>40.745323</td>\n",
       "      <td>-73.975845</td>\n",
       "      <td>False</td>\n",
       "      <td>635 2nd Ave</td>\n",
       "      <td></td>\n",
       "      <td></td>\n",
       "      <td>New York</td>\n",
       "      <td>US</td>\n",
       "      <td>NY</td>\n",
       "      <td>10016</td>\n",
       "      <td>$$</td>\n",
       "      <td>3.0</td>\n",
       "      <td>90</td>\n",
       "      <td>635 2nd Ave, New York, NY 10016</td>\n",
       "      <td>italian</td>\n",
       "    </tr>\n",
       "    <tr>\n",
       "      <th>1</th>\n",
       "      <td>vite-bar-astoria</td>\n",
       "      <td>Vite Bar</td>\n",
       "      <td>[{'alias': 'italian', 'title': 'Italian'}, {'a...</td>\n",
       "      <td>40.763414</td>\n",
       "      <td>-73.928119</td>\n",
       "      <td>False</td>\n",
       "      <td>2507 Broadway</td>\n",
       "      <td></td>\n",
       "      <td></td>\n",
       "      <td>Astoria</td>\n",
       "      <td>US</td>\n",
       "      <td>NY</td>\n",
       "      <td>11106</td>\n",
       "      <td>$$</td>\n",
       "      <td>4.5</td>\n",
       "      <td>76</td>\n",
       "      <td>2507 Broadway, Astoria, NY 11106</td>\n",
       "      <td>italian,tapas</td>\n",
       "    </tr>\n",
       "    <tr>\n",
       "      <th>2</th>\n",
       "      <td>tacks-chinese-take-out-staten-island</td>\n",
       "      <td>Tack's Chinese Take Out</td>\n",
       "      <td>[{'alias': 'chinese', 'title': 'Chinese'}]</td>\n",
       "      <td>40.604620</td>\n",
       "      <td>-74.121230</td>\n",
       "      <td>False</td>\n",
       "      <td>11C Holden Blvd</td>\n",
       "      <td></td>\n",
       "      <td></td>\n",
       "      <td>Staten Island</td>\n",
       "      <td>US</td>\n",
       "      <td>NY</td>\n",
       "      <td>10314</td>\n",
       "      <td>$$</td>\n",
       "      <td>4.0</td>\n",
       "      <td>52</td>\n",
       "      <td>11C Holden Blvd, Staten Island, NY 10314</td>\n",
       "      <td>chinese</td>\n",
       "    </tr>\n",
       "    <tr>\n",
       "      <th>3</th>\n",
       "      <td>no-quarter-brooklyn</td>\n",
       "      <td>No Quarter</td>\n",
       "      <td>[{'alias': 'lounges', 'title': 'Lounges'}]</td>\n",
       "      <td>40.625198</td>\n",
       "      <td>-74.024025</td>\n",
       "      <td>False</td>\n",
       "      <td>8015 5th Ave</td>\n",
       "      <td></td>\n",
       "      <td></td>\n",
       "      <td>Brooklyn</td>\n",
       "      <td>US</td>\n",
       "      <td>NY</td>\n",
       "      <td>11209</td>\n",
       "      <td>$</td>\n",
       "      <td>2.5</td>\n",
       "      <td>16</td>\n",
       "      <td>8015 5th Ave, Brooklyn, NY 11209</td>\n",
       "      <td>lounges</td>\n",
       "    </tr>\n",
       "    <tr>\n",
       "      <th>4</th>\n",
       "      <td>henris-backyard-brooklyn</td>\n",
       "      <td>HENRI's Backyard</td>\n",
       "      <td>[{'alias': 'beerbar', 'title': 'Beer Bar'}, {'...</td>\n",
       "      <td>40.676470</td>\n",
       "      <td>-73.983940</td>\n",
       "      <td>True</td>\n",
       "      <td>256 4th Ave</td>\n",
       "      <td>None</td>\n",
       "      <td></td>\n",
       "      <td>Brooklyn</td>\n",
       "      <td>US</td>\n",
       "      <td>NY</td>\n",
       "      <td>11215</td>\n",
       "      <td>$$</td>\n",
       "      <td>4.0</td>\n",
       "      <td>15</td>\n",
       "      <td>256 4th Ave, Brooklyn, NY 11215</td>\n",
       "      <td>beerbar,newamerican,vegan</td>\n",
       "    </tr>\n",
       "  </tbody>\n",
       "</table>\n",
       "</div>"
      ],
      "text/plain": [
       "                            business_id            business_name  \\\n",
       "0          notaro-ristorante-new-york-2        Notaro Ristorante   \n",
       "1                      vite-bar-astoria                 Vite Bar   \n",
       "2  tacks-chinese-take-out-staten-island  Tack's Chinese Take Out   \n",
       "3                   no-quarter-brooklyn               No Quarter   \n",
       "4              henris-backyard-brooklyn         HENRI's Backyard   \n",
       "\n",
       "                                          categories  coordinates.latitude  \\\n",
       "0         [{'alias': 'italian', 'title': 'Italian'}]             40.745323   \n",
       "1  [{'alias': 'italian', 'title': 'Italian'}, {'a...             40.763414   \n",
       "2         [{'alias': 'chinese', 'title': 'Chinese'}]             40.604620   \n",
       "3         [{'alias': 'lounges', 'title': 'Lounges'}]             40.625198   \n",
       "4  [{'alias': 'beerbar', 'title': 'Beer Bar'}, {'...             40.676470   \n",
       "\n",
       "   coordinates.longitude  is_closed location.address1 location.address2  \\\n",
       "0             -73.975845      False       635 2nd Ave                     \n",
       "1             -73.928119      False     2507 Broadway                     \n",
       "2             -74.121230      False   11C Holden Blvd                     \n",
       "3             -74.024025      False      8015 5th Ave                     \n",
       "4             -73.983940       True       256 4th Ave              None   \n",
       "\n",
       "  location.address3  location.city location.country location.state  \\\n",
       "0                         New York               US             NY   \n",
       "1                          Astoria               US             NY   \n",
       "2                    Staten Island               US             NY   \n",
       "3                         Brooklyn               US             NY   \n",
       "4                         Brooklyn               US             NY   \n",
       "\n",
       "  location.zip_code price  rating  review_count  \\\n",
       "0             10016    $$     3.0            90   \n",
       "1             11106    $$     4.5            76   \n",
       "2             10314    $$     4.0            52   \n",
       "3             11209     $     2.5            16   \n",
       "4             11215    $$     4.0            15   \n",
       "\n",
       "                              clean_address           categories_clean  \n",
       "0           635 2nd Ave, New York, NY 10016                    italian  \n",
       "1          2507 Broadway, Astoria, NY 11106              italian,tapas  \n",
       "2  11C Holden Blvd, Staten Island, NY 10314                    chinese  \n",
       "3          8015 5th Ave, Brooklyn, NY 11209                    lounges  \n",
       "4           256 4th Ave, Brooklyn, NY 11215  beerbar,newamerican,vegan  "
      ]
     },
     "execution_count": 186,
     "metadata": {},
     "output_type": "execute_result"
    }
   ],
   "source": [
    "yelpDF.head()"
   ]
  },
  {
   "cell_type": "code",
   "execution_count": 187,
   "metadata": {
    "ExecuteTime": {
     "end_time": "2017-10-22T15:54:06.364483Z",
     "start_time": "2017-10-22T15:54:06.337750Z"
    },
    "collapsed": true
   },
   "outputs": [],
   "source": [
    "yelpDF.drop('categories',axis=1,inplace=True)"
   ]
  },
  {
   "cell_type": "code",
   "execution_count": 188,
   "metadata": {
    "ExecuteTime": {
     "end_time": "2017-10-22T15:54:08.143539Z",
     "start_time": "2017-10-22T15:54:08.124052Z"
    }
   },
   "outputs": [
    {
     "data": {
      "text/html": [
       "<div>\n",
       "<style>\n",
       "    .dataframe thead tr:only-child th {\n",
       "        text-align: right;\n",
       "    }\n",
       "\n",
       "    .dataframe thead th {\n",
       "        text-align: left;\n",
       "    }\n",
       "\n",
       "    .dataframe tbody tr th {\n",
       "        vertical-align: top;\n",
       "    }\n",
       "</style>\n",
       "<table border=\"1\" class=\"dataframe\">\n",
       "  <thead>\n",
       "    <tr style=\"text-align: right;\">\n",
       "      <th></th>\n",
       "      <th>business_id</th>\n",
       "      <th>business_name</th>\n",
       "      <th>coordinates.latitude</th>\n",
       "      <th>coordinates.longitude</th>\n",
       "      <th>is_closed</th>\n",
       "      <th>location.address1</th>\n",
       "      <th>location.address2</th>\n",
       "      <th>location.address3</th>\n",
       "      <th>location.city</th>\n",
       "      <th>location.country</th>\n",
       "      <th>location.state</th>\n",
       "      <th>location.zip_code</th>\n",
       "      <th>price</th>\n",
       "      <th>rating</th>\n",
       "      <th>review_count</th>\n",
       "      <th>clean_address</th>\n",
       "      <th>categories_clean</th>\n",
       "    </tr>\n",
       "  </thead>\n",
       "  <tbody>\n",
       "    <tr>\n",
       "      <th>0</th>\n",
       "      <td>notaro-ristorante-new-york-2</td>\n",
       "      <td>Notaro Ristorante</td>\n",
       "      <td>40.745323</td>\n",
       "      <td>-73.975845</td>\n",
       "      <td>False</td>\n",
       "      <td>635 2nd Ave</td>\n",
       "      <td></td>\n",
       "      <td></td>\n",
       "      <td>New York</td>\n",
       "      <td>US</td>\n",
       "      <td>NY</td>\n",
       "      <td>10016</td>\n",
       "      <td>$$</td>\n",
       "      <td>3.0</td>\n",
       "      <td>90</td>\n",
       "      <td>635 2nd Ave, New York, NY 10016</td>\n",
       "      <td>italian</td>\n",
       "    </tr>\n",
       "    <tr>\n",
       "      <th>1</th>\n",
       "      <td>vite-bar-astoria</td>\n",
       "      <td>Vite Bar</td>\n",
       "      <td>40.763414</td>\n",
       "      <td>-73.928119</td>\n",
       "      <td>False</td>\n",
       "      <td>2507 Broadway</td>\n",
       "      <td></td>\n",
       "      <td></td>\n",
       "      <td>Astoria</td>\n",
       "      <td>US</td>\n",
       "      <td>NY</td>\n",
       "      <td>11106</td>\n",
       "      <td>$$</td>\n",
       "      <td>4.5</td>\n",
       "      <td>76</td>\n",
       "      <td>2507 Broadway, Astoria, NY 11106</td>\n",
       "      <td>italian,tapas</td>\n",
       "    </tr>\n",
       "    <tr>\n",
       "      <th>2</th>\n",
       "      <td>tacks-chinese-take-out-staten-island</td>\n",
       "      <td>Tack's Chinese Take Out</td>\n",
       "      <td>40.604620</td>\n",
       "      <td>-74.121230</td>\n",
       "      <td>False</td>\n",
       "      <td>11C Holden Blvd</td>\n",
       "      <td></td>\n",
       "      <td></td>\n",
       "      <td>Staten Island</td>\n",
       "      <td>US</td>\n",
       "      <td>NY</td>\n",
       "      <td>10314</td>\n",
       "      <td>$$</td>\n",
       "      <td>4.0</td>\n",
       "      <td>52</td>\n",
       "      <td>11C Holden Blvd, Staten Island, NY 10314</td>\n",
       "      <td>chinese</td>\n",
       "    </tr>\n",
       "    <tr>\n",
       "      <th>3</th>\n",
       "      <td>no-quarter-brooklyn</td>\n",
       "      <td>No Quarter</td>\n",
       "      <td>40.625198</td>\n",
       "      <td>-74.024025</td>\n",
       "      <td>False</td>\n",
       "      <td>8015 5th Ave</td>\n",
       "      <td></td>\n",
       "      <td></td>\n",
       "      <td>Brooklyn</td>\n",
       "      <td>US</td>\n",
       "      <td>NY</td>\n",
       "      <td>11209</td>\n",
       "      <td>$</td>\n",
       "      <td>2.5</td>\n",
       "      <td>16</td>\n",
       "      <td>8015 5th Ave, Brooklyn, NY 11209</td>\n",
       "      <td>lounges</td>\n",
       "    </tr>\n",
       "    <tr>\n",
       "      <th>4</th>\n",
       "      <td>henris-backyard-brooklyn</td>\n",
       "      <td>HENRI's Backyard</td>\n",
       "      <td>40.676470</td>\n",
       "      <td>-73.983940</td>\n",
       "      <td>True</td>\n",
       "      <td>256 4th Ave</td>\n",
       "      <td>None</td>\n",
       "      <td></td>\n",
       "      <td>Brooklyn</td>\n",
       "      <td>US</td>\n",
       "      <td>NY</td>\n",
       "      <td>11215</td>\n",
       "      <td>$$</td>\n",
       "      <td>4.0</td>\n",
       "      <td>15</td>\n",
       "      <td>256 4th Ave, Brooklyn, NY 11215</td>\n",
       "      <td>beerbar,newamerican,vegan</td>\n",
       "    </tr>\n",
       "  </tbody>\n",
       "</table>\n",
       "</div>"
      ],
      "text/plain": [
       "                            business_id            business_name  \\\n",
       "0          notaro-ristorante-new-york-2        Notaro Ristorante   \n",
       "1                      vite-bar-astoria                 Vite Bar   \n",
       "2  tacks-chinese-take-out-staten-island  Tack's Chinese Take Out   \n",
       "3                   no-quarter-brooklyn               No Quarter   \n",
       "4              henris-backyard-brooklyn         HENRI's Backyard   \n",
       "\n",
       "   coordinates.latitude  coordinates.longitude  is_closed location.address1  \\\n",
       "0             40.745323             -73.975845      False       635 2nd Ave   \n",
       "1             40.763414             -73.928119      False     2507 Broadway   \n",
       "2             40.604620             -74.121230      False   11C Holden Blvd   \n",
       "3             40.625198             -74.024025      False      8015 5th Ave   \n",
       "4             40.676470             -73.983940       True       256 4th Ave   \n",
       "\n",
       "  location.address2 location.address3  location.city location.country  \\\n",
       "0                                           New York               US   \n",
       "1                                            Astoria               US   \n",
       "2                                      Staten Island               US   \n",
       "3                                           Brooklyn               US   \n",
       "4              None                         Brooklyn               US   \n",
       "\n",
       "  location.state location.zip_code price  rating  review_count  \\\n",
       "0             NY             10016    $$     3.0            90   \n",
       "1             NY             11106    $$     4.5            76   \n",
       "2             NY             10314    $$     4.0            52   \n",
       "3             NY             11209     $     2.5            16   \n",
       "4             NY             11215    $$     4.0            15   \n",
       "\n",
       "                              clean_address           categories_clean  \n",
       "0           635 2nd Ave, New York, NY 10016                    italian  \n",
       "1          2507 Broadway, Astoria, NY 11106              italian,tapas  \n",
       "2  11C Holden Blvd, Staten Island, NY 10314                    chinese  \n",
       "3          8015 5th Ave, Brooklyn, NY 11209                    lounges  \n",
       "4           256 4th Ave, Brooklyn, NY 11215  beerbar,newamerican,vegan  "
      ]
     },
     "execution_count": 188,
     "metadata": {},
     "output_type": "execute_result"
    }
   ],
   "source": [
    "yelpDF.head()"
   ]
  },
  {
   "cell_type": "code",
   "execution_count": 189,
   "metadata": {
    "ExecuteTime": {
     "end_time": "2017-10-22T15:54:08.547390Z",
     "start_time": "2017-10-22T15:54:08.542237Z"
    },
    "collapsed": true
   },
   "outputs": [],
   "source": [
    "def return_dummies(col):\n",
    "    return col.str.get_dummies(sep=',')\n",
    "    "
   ]
  },
  {
   "cell_type": "code",
   "execution_count": 190,
   "metadata": {
    "ExecuteTime": {
     "end_time": "2017-10-22T15:54:15.438351Z",
     "start_time": "2017-10-22T15:54:09.954345Z"
    },
    "collapsed": true
   },
   "outputs": [],
   "source": [
    "catDF = return_dummies(yelpDF.categories_clean)"
   ]
  },
  {
   "cell_type": "code",
   "execution_count": 191,
   "metadata": {
    "ExecuteTime": {
     "end_time": "2017-10-22T15:54:15.543294Z",
     "start_time": "2017-10-22T15:54:15.440260Z"
    },
    "collapsed": true
   },
   "outputs": [],
   "source": [
    "priceDF = return_dummies(yelpDF.price)"
   ]
  },
  {
   "cell_type": "code",
   "execution_count": 192,
   "metadata": {
    "ExecuteTime": {
     "end_time": "2017-10-22T15:54:15.549995Z",
     "start_time": "2017-10-22T15:54:15.545282Z"
    }
   },
   "outputs": [
    {
     "data": {
      "text/plain": [
       "(23397, 396)"
      ]
     },
     "execution_count": 192,
     "metadata": {},
     "output_type": "execute_result"
    }
   ],
   "source": [
    "catDF.shape"
   ]
  },
  {
   "cell_type": "code",
   "execution_count": 193,
   "metadata": {
    "ExecuteTime": {
     "end_time": "2017-10-22T15:54:15.559165Z",
     "start_time": "2017-10-22T15:54:15.552006Z"
    }
   },
   "outputs": [
    {
     "data": {
      "text/plain": [
       "array(['$$', '$', '$$$', '$$$$'], dtype=object)"
      ]
     },
     "execution_count": 193,
     "metadata": {},
     "output_type": "execute_result"
    }
   ],
   "source": [
    "yelpDF.price.unique()"
   ]
  },
  {
   "cell_type": "code",
   "execution_count": 194,
   "metadata": {
    "ExecuteTime": {
     "end_time": "2017-10-22T15:54:15.566504Z",
     "start_time": "2017-10-22T15:54:15.561386Z"
    },
    "collapsed": true
   },
   "outputs": [],
   "source": [
    "priceDF = priceDF[priceDF.columns.tolist()[0:-1]]"
   ]
  },
  {
   "cell_type": "code",
   "execution_count": 195,
   "metadata": {
    "ExecuteTime": {
     "end_time": "2017-10-22T15:54:15.593106Z",
     "start_time": "2017-10-22T15:54:15.569607Z"
    },
    "collapsed": true
   },
   "outputs": [],
   "source": [
    "catDF = catDF[catDF.columns.tolist()[0:-1]]"
   ]
  },
  {
   "cell_type": "code",
   "execution_count": 196,
   "metadata": {
    "ExecuteTime": {
     "end_time": "2017-10-22T15:54:15.607158Z",
     "start_time": "2017-10-22T15:54:15.595266Z"
    },
    "collapsed": true
   },
   "outputs": [],
   "source": [
    "yelpDF = yelpDF.join(priceDF)"
   ]
  },
  {
   "cell_type": "code",
   "execution_count": 197,
   "metadata": {
    "ExecuteTime": {
     "end_time": "2017-10-22T15:54:15.635365Z",
     "start_time": "2017-10-22T15:54:15.610828Z"
    },
    "collapsed": true
   },
   "outputs": [],
   "source": [
    "yelpDF.drop(['categories_clean','price'],inplace=True,axis=1)"
   ]
  },
  {
   "cell_type": "code",
   "execution_count": 198,
   "metadata": {
    "ExecuteTime": {
     "end_time": "2017-10-22T15:54:15.658354Z",
     "start_time": "2017-10-22T15:54:15.637462Z"
    }
   },
   "outputs": [
    {
     "data": {
      "text/html": [
       "<div>\n",
       "<style>\n",
       "    .dataframe thead tr:only-child th {\n",
       "        text-align: right;\n",
       "    }\n",
       "\n",
       "    .dataframe thead th {\n",
       "        text-align: left;\n",
       "    }\n",
       "\n",
       "    .dataframe tbody tr th {\n",
       "        vertical-align: top;\n",
       "    }\n",
       "</style>\n",
       "<table border=\"1\" class=\"dataframe\">\n",
       "  <thead>\n",
       "    <tr style=\"text-align: right;\">\n",
       "      <th></th>\n",
       "      <th>business_id</th>\n",
       "      <th>business_name</th>\n",
       "      <th>coordinates.latitude</th>\n",
       "      <th>coordinates.longitude</th>\n",
       "      <th>is_closed</th>\n",
       "      <th>location.address1</th>\n",
       "      <th>location.address2</th>\n",
       "      <th>location.address3</th>\n",
       "      <th>location.city</th>\n",
       "      <th>location.country</th>\n",
       "      <th>location.state</th>\n",
       "      <th>location.zip_code</th>\n",
       "      <th>rating</th>\n",
       "      <th>review_count</th>\n",
       "      <th>clean_address</th>\n",
       "      <th>$</th>\n",
       "      <th>$$</th>\n",
       "      <th>$$$</th>\n",
       "    </tr>\n",
       "  </thead>\n",
       "  <tbody>\n",
       "    <tr>\n",
       "      <th>0</th>\n",
       "      <td>notaro-ristorante-new-york-2</td>\n",
       "      <td>Notaro Ristorante</td>\n",
       "      <td>40.745323</td>\n",
       "      <td>-73.975845</td>\n",
       "      <td>False</td>\n",
       "      <td>635 2nd Ave</td>\n",
       "      <td></td>\n",
       "      <td></td>\n",
       "      <td>New York</td>\n",
       "      <td>US</td>\n",
       "      <td>NY</td>\n",
       "      <td>10016</td>\n",
       "      <td>3.0</td>\n",
       "      <td>90</td>\n",
       "      <td>635 2nd Ave, New York, NY 10016</td>\n",
       "      <td>0</td>\n",
       "      <td>1</td>\n",
       "      <td>0</td>\n",
       "    </tr>\n",
       "    <tr>\n",
       "      <th>1</th>\n",
       "      <td>vite-bar-astoria</td>\n",
       "      <td>Vite Bar</td>\n",
       "      <td>40.763414</td>\n",
       "      <td>-73.928119</td>\n",
       "      <td>False</td>\n",
       "      <td>2507 Broadway</td>\n",
       "      <td></td>\n",
       "      <td></td>\n",
       "      <td>Astoria</td>\n",
       "      <td>US</td>\n",
       "      <td>NY</td>\n",
       "      <td>11106</td>\n",
       "      <td>4.5</td>\n",
       "      <td>76</td>\n",
       "      <td>2507 Broadway, Astoria, NY 11106</td>\n",
       "      <td>0</td>\n",
       "      <td>1</td>\n",
       "      <td>0</td>\n",
       "    </tr>\n",
       "    <tr>\n",
       "      <th>2</th>\n",
       "      <td>tacks-chinese-take-out-staten-island</td>\n",
       "      <td>Tack's Chinese Take Out</td>\n",
       "      <td>40.604620</td>\n",
       "      <td>-74.121230</td>\n",
       "      <td>False</td>\n",
       "      <td>11C Holden Blvd</td>\n",
       "      <td></td>\n",
       "      <td></td>\n",
       "      <td>Staten Island</td>\n",
       "      <td>US</td>\n",
       "      <td>NY</td>\n",
       "      <td>10314</td>\n",
       "      <td>4.0</td>\n",
       "      <td>52</td>\n",
       "      <td>11C Holden Blvd, Staten Island, NY 10314</td>\n",
       "      <td>0</td>\n",
       "      <td>1</td>\n",
       "      <td>0</td>\n",
       "    </tr>\n",
       "    <tr>\n",
       "      <th>3</th>\n",
       "      <td>no-quarter-brooklyn</td>\n",
       "      <td>No Quarter</td>\n",
       "      <td>40.625198</td>\n",
       "      <td>-74.024025</td>\n",
       "      <td>False</td>\n",
       "      <td>8015 5th Ave</td>\n",
       "      <td></td>\n",
       "      <td></td>\n",
       "      <td>Brooklyn</td>\n",
       "      <td>US</td>\n",
       "      <td>NY</td>\n",
       "      <td>11209</td>\n",
       "      <td>2.5</td>\n",
       "      <td>16</td>\n",
       "      <td>8015 5th Ave, Brooklyn, NY 11209</td>\n",
       "      <td>1</td>\n",
       "      <td>0</td>\n",
       "      <td>0</td>\n",
       "    </tr>\n",
       "    <tr>\n",
       "      <th>4</th>\n",
       "      <td>henris-backyard-brooklyn</td>\n",
       "      <td>HENRI's Backyard</td>\n",
       "      <td>40.676470</td>\n",
       "      <td>-73.983940</td>\n",
       "      <td>True</td>\n",
       "      <td>256 4th Ave</td>\n",
       "      <td>None</td>\n",
       "      <td></td>\n",
       "      <td>Brooklyn</td>\n",
       "      <td>US</td>\n",
       "      <td>NY</td>\n",
       "      <td>11215</td>\n",
       "      <td>4.0</td>\n",
       "      <td>15</td>\n",
       "      <td>256 4th Ave, Brooklyn, NY 11215</td>\n",
       "      <td>0</td>\n",
       "      <td>1</td>\n",
       "      <td>0</td>\n",
       "    </tr>\n",
       "  </tbody>\n",
       "</table>\n",
       "</div>"
      ],
      "text/plain": [
       "                            business_id            business_name  \\\n",
       "0          notaro-ristorante-new-york-2        Notaro Ristorante   \n",
       "1                      vite-bar-astoria                 Vite Bar   \n",
       "2  tacks-chinese-take-out-staten-island  Tack's Chinese Take Out   \n",
       "3                   no-quarter-brooklyn               No Quarter   \n",
       "4              henris-backyard-brooklyn         HENRI's Backyard   \n",
       "\n",
       "   coordinates.latitude  coordinates.longitude  is_closed location.address1  \\\n",
       "0             40.745323             -73.975845      False       635 2nd Ave   \n",
       "1             40.763414             -73.928119      False     2507 Broadway   \n",
       "2             40.604620             -74.121230      False   11C Holden Blvd   \n",
       "3             40.625198             -74.024025      False      8015 5th Ave   \n",
       "4             40.676470             -73.983940       True       256 4th Ave   \n",
       "\n",
       "  location.address2 location.address3  location.city location.country  \\\n",
       "0                                           New York               US   \n",
       "1                                            Astoria               US   \n",
       "2                                      Staten Island               US   \n",
       "3                                           Brooklyn               US   \n",
       "4              None                         Brooklyn               US   \n",
       "\n",
       "  location.state location.zip_code  rating  review_count  \\\n",
       "0             NY             10016     3.0            90   \n",
       "1             NY             11106     4.5            76   \n",
       "2             NY             10314     4.0            52   \n",
       "3             NY             11209     2.5            16   \n",
       "4             NY             11215     4.0            15   \n",
       "\n",
       "                              clean_address  $  $$  $$$  \n",
       "0           635 2nd Ave, New York, NY 10016  0   1    0  \n",
       "1          2507 Broadway, Astoria, NY 11106  0   1    0  \n",
       "2  11C Holden Blvd, Staten Island, NY 10314  0   1    0  \n",
       "3          8015 5th Ave, Brooklyn, NY 11209  1   0    0  \n",
       "4           256 4th Ave, Brooklyn, NY 11215  0   1    0  "
      ]
     },
     "execution_count": 198,
     "metadata": {},
     "output_type": "execute_result"
    }
   ],
   "source": [
    "yelpDF.head()"
   ]
  },
  {
   "cell_type": "code",
   "execution_count": 199,
   "metadata": {
    "ExecuteTime": {
     "end_time": "2017-10-22T15:54:23.007188Z",
     "start_time": "2017-10-22T15:54:23.002924Z"
    }
   },
   "outputs": [
    {
     "data": {
      "text/plain": [
       "(23397, 18)"
      ]
     },
     "execution_count": 199,
     "metadata": {},
     "output_type": "execute_result"
    }
   ],
   "source": [
    "yelpDF.shape"
   ]
  },
  {
   "cell_type": "code",
   "execution_count": 200,
   "metadata": {
    "ExecuteTime": {
     "end_time": "2017-10-22T15:54:25.949384Z",
     "start_time": "2017-10-22T15:54:25.929785Z"
    }
   },
   "outputs": [
    {
     "data": {
      "text/html": [
       "<div>\n",
       "<style>\n",
       "    .dataframe thead tr:only-child th {\n",
       "        text-align: right;\n",
       "    }\n",
       "\n",
       "    .dataframe thead th {\n",
       "        text-align: left;\n",
       "    }\n",
       "\n",
       "    .dataframe tbody tr th {\n",
       "        vertical-align: top;\n",
       "    }\n",
       "</style>\n",
       "<table border=\"1\" class=\"dataframe\">\n",
       "  <thead>\n",
       "    <tr style=\"text-align: right;\">\n",
       "      <th></th>\n",
       "      <th>business_id</th>\n",
       "      <th>business_name</th>\n",
       "      <th>coordinates.latitude</th>\n",
       "      <th>coordinates.longitude</th>\n",
       "      <th>is_closed</th>\n",
       "      <th>location.address1</th>\n",
       "      <th>location.address2</th>\n",
       "      <th>location.address3</th>\n",
       "      <th>location.city</th>\n",
       "      <th>location.country</th>\n",
       "      <th>location.state</th>\n",
       "      <th>location.zip_code</th>\n",
       "      <th>rating</th>\n",
       "      <th>review_count</th>\n",
       "      <th>clean_address</th>\n",
       "      <th>$</th>\n",
       "      <th>$$</th>\n",
       "      <th>$$$</th>\n",
       "    </tr>\n",
       "  </thead>\n",
       "  <tbody>\n",
       "    <tr>\n",
       "      <th>0</th>\n",
       "      <td>notaro-ristorante-new-york-2</td>\n",
       "      <td>Notaro Ristorante</td>\n",
       "      <td>40.745323</td>\n",
       "      <td>-73.975845</td>\n",
       "      <td>False</td>\n",
       "      <td>635 2nd Ave</td>\n",
       "      <td></td>\n",
       "      <td></td>\n",
       "      <td>New York</td>\n",
       "      <td>US</td>\n",
       "      <td>NY</td>\n",
       "      <td>10016</td>\n",
       "      <td>3.0</td>\n",
       "      <td>90</td>\n",
       "      <td>635 2nd Ave, New York, NY 10016</td>\n",
       "      <td>0</td>\n",
       "      <td>1</td>\n",
       "      <td>0</td>\n",
       "    </tr>\n",
       "    <tr>\n",
       "      <th>1</th>\n",
       "      <td>vite-bar-astoria</td>\n",
       "      <td>Vite Bar</td>\n",
       "      <td>40.763414</td>\n",
       "      <td>-73.928119</td>\n",
       "      <td>False</td>\n",
       "      <td>2507 Broadway</td>\n",
       "      <td></td>\n",
       "      <td></td>\n",
       "      <td>Astoria</td>\n",
       "      <td>US</td>\n",
       "      <td>NY</td>\n",
       "      <td>11106</td>\n",
       "      <td>4.5</td>\n",
       "      <td>76</td>\n",
       "      <td>2507 Broadway, Astoria, NY 11106</td>\n",
       "      <td>0</td>\n",
       "      <td>1</td>\n",
       "      <td>0</td>\n",
       "    </tr>\n",
       "    <tr>\n",
       "      <th>2</th>\n",
       "      <td>tacks-chinese-take-out-staten-island</td>\n",
       "      <td>Tack's Chinese Take Out</td>\n",
       "      <td>40.604620</td>\n",
       "      <td>-74.121230</td>\n",
       "      <td>False</td>\n",
       "      <td>11C Holden Blvd</td>\n",
       "      <td></td>\n",
       "      <td></td>\n",
       "      <td>Staten Island</td>\n",
       "      <td>US</td>\n",
       "      <td>NY</td>\n",
       "      <td>10314</td>\n",
       "      <td>4.0</td>\n",
       "      <td>52</td>\n",
       "      <td>11C Holden Blvd, Staten Island, NY 10314</td>\n",
       "      <td>0</td>\n",
       "      <td>1</td>\n",
       "      <td>0</td>\n",
       "    </tr>\n",
       "    <tr>\n",
       "      <th>3</th>\n",
       "      <td>no-quarter-brooklyn</td>\n",
       "      <td>No Quarter</td>\n",
       "      <td>40.625198</td>\n",
       "      <td>-74.024025</td>\n",
       "      <td>False</td>\n",
       "      <td>8015 5th Ave</td>\n",
       "      <td></td>\n",
       "      <td></td>\n",
       "      <td>Brooklyn</td>\n",
       "      <td>US</td>\n",
       "      <td>NY</td>\n",
       "      <td>11209</td>\n",
       "      <td>2.5</td>\n",
       "      <td>16</td>\n",
       "      <td>8015 5th Ave, Brooklyn, NY 11209</td>\n",
       "      <td>1</td>\n",
       "      <td>0</td>\n",
       "      <td>0</td>\n",
       "    </tr>\n",
       "    <tr>\n",
       "      <th>4</th>\n",
       "      <td>henris-backyard-brooklyn</td>\n",
       "      <td>HENRI's Backyard</td>\n",
       "      <td>40.676470</td>\n",
       "      <td>-73.983940</td>\n",
       "      <td>True</td>\n",
       "      <td>256 4th Ave</td>\n",
       "      <td>None</td>\n",
       "      <td></td>\n",
       "      <td>Brooklyn</td>\n",
       "      <td>US</td>\n",
       "      <td>NY</td>\n",
       "      <td>11215</td>\n",
       "      <td>4.0</td>\n",
       "      <td>15</td>\n",
       "      <td>256 4th Ave, Brooklyn, NY 11215</td>\n",
       "      <td>0</td>\n",
       "      <td>1</td>\n",
       "      <td>0</td>\n",
       "    </tr>\n",
       "  </tbody>\n",
       "</table>\n",
       "</div>"
      ],
      "text/plain": [
       "                            business_id            business_name  \\\n",
       "0          notaro-ristorante-new-york-2        Notaro Ristorante   \n",
       "1                      vite-bar-astoria                 Vite Bar   \n",
       "2  tacks-chinese-take-out-staten-island  Tack's Chinese Take Out   \n",
       "3                   no-quarter-brooklyn               No Quarter   \n",
       "4              henris-backyard-brooklyn         HENRI's Backyard   \n",
       "\n",
       "   coordinates.latitude  coordinates.longitude  is_closed location.address1  \\\n",
       "0             40.745323             -73.975845      False       635 2nd Ave   \n",
       "1             40.763414             -73.928119      False     2507 Broadway   \n",
       "2             40.604620             -74.121230      False   11C Holden Blvd   \n",
       "3             40.625198             -74.024025      False      8015 5th Ave   \n",
       "4             40.676470             -73.983940       True       256 4th Ave   \n",
       "\n",
       "  location.address2 location.address3  location.city location.country  \\\n",
       "0                                           New York               US   \n",
       "1                                            Astoria               US   \n",
       "2                                      Staten Island               US   \n",
       "3                                           Brooklyn               US   \n",
       "4              None                         Brooklyn               US   \n",
       "\n",
       "  location.state location.zip_code  rating  review_count  \\\n",
       "0             NY             10016     3.0            90   \n",
       "1             NY             11106     4.5            76   \n",
       "2             NY             10314     4.0            52   \n",
       "3             NY             11209     2.5            16   \n",
       "4             NY             11215     4.0            15   \n",
       "\n",
       "                              clean_address  $  $$  $$$  \n",
       "0           635 2nd Ave, New York, NY 10016  0   1    0  \n",
       "1          2507 Broadway, Astoria, NY 11106  0   1    0  \n",
       "2  11C Holden Blvd, Staten Island, NY 10314  0   1    0  \n",
       "3          8015 5th Ave, Brooklyn, NY 11209  1   0    0  \n",
       "4           256 4th Ave, Brooklyn, NY 11215  0   1    0  "
      ]
     },
     "execution_count": 200,
     "metadata": {},
     "output_type": "execute_result"
    }
   ],
   "source": [
    "yelpDF.head()"
   ]
  },
  {
   "cell_type": "code",
   "execution_count": 249,
   "metadata": {
    "ExecuteTime": {
     "end_time": "2017-10-22T15:56:17.576792Z",
     "start_time": "2017-10-22T15:56:17.562786Z"
    },
    "collapsed": true
   },
   "outputs": [],
   "source": [
    "yelpDF['match'] = yelpDF['business_name'] +';'+ yelpDF['clean_address']"
   ]
  },
  {
   "cell_type": "markdown",
   "metadata": {},
   "source": [
    "Remove columns without grade"
   ]
  },
  {
   "cell_type": "code",
   "execution_count": 250,
   "metadata": {
    "ExecuteTime": {
     "end_time": "2017-10-22T15:56:18.522613Z",
     "start_time": "2017-10-22T15:56:18.519700Z"
    },
    "collapsed": true
   },
   "outputs": [],
   "source": [
    "#uniqueDF = uniqueDF.dropna(subset=['grade'],axis=0)"
   ]
  },
  {
   "cell_type": "code",
   "execution_count": 251,
   "metadata": {
    "ExecuteTime": {
     "end_time": "2017-10-22T15:56:19.803156Z",
     "start_time": "2017-10-22T15:56:19.794871Z"
    },
    "collapsed": true
   },
   "outputs": [],
   "source": [
    "uniqueDF['match'] = uniqueDF['name'] +';'+uniqueDF['address']"
   ]
  },
  {
   "cell_type": "code",
   "execution_count": 252,
   "metadata": {
    "ExecuteTime": {
     "end_time": "2017-10-22T15:56:21.358366Z",
     "start_time": "2017-10-22T15:56:21.340773Z"
    }
   },
   "outputs": [
    {
     "data": {
      "text/html": [
       "<div>\n",
       "<style>\n",
       "    .dataframe thead tr:only-child th {\n",
       "        text-align: right;\n",
       "    }\n",
       "\n",
       "    .dataframe thead th {\n",
       "        text-align: left;\n",
       "    }\n",
       "\n",
       "    .dataframe tbody tr th {\n",
       "        vertical-align: top;\n",
       "    }\n",
       "</style>\n",
       "<table border=\"1\" class=\"dataframe\">\n",
       "  <thead>\n",
       "    <tr style=\"text-align: right;\">\n",
       "      <th></th>\n",
       "      <th>business_id</th>\n",
       "      <th>business_name</th>\n",
       "      <th>coordinates.latitude</th>\n",
       "      <th>coordinates.longitude</th>\n",
       "      <th>is_closed</th>\n",
       "      <th>location.address1</th>\n",
       "      <th>location.address2</th>\n",
       "      <th>location.address3</th>\n",
       "      <th>location.city</th>\n",
       "      <th>location.country</th>\n",
       "      <th>location.state</th>\n",
       "      <th>location.zip_code</th>\n",
       "      <th>rating</th>\n",
       "      <th>review_count</th>\n",
       "      <th>clean_address</th>\n",
       "      <th>$</th>\n",
       "      <th>$$</th>\n",
       "      <th>$$$</th>\n",
       "      <th>match</th>\n",
       "    </tr>\n",
       "  </thead>\n",
       "  <tbody>\n",
       "    <tr>\n",
       "      <th>0</th>\n",
       "      <td>notaro-ristorante-new-york-2</td>\n",
       "      <td>Notaro Ristorante</td>\n",
       "      <td>40.745323</td>\n",
       "      <td>-73.975845</td>\n",
       "      <td>False</td>\n",
       "      <td>635 2nd Ave</td>\n",
       "      <td></td>\n",
       "      <td></td>\n",
       "      <td>New York</td>\n",
       "      <td>US</td>\n",
       "      <td>NY</td>\n",
       "      <td>10016</td>\n",
       "      <td>3.0</td>\n",
       "      <td>90</td>\n",
       "      <td>635 2nd Ave, New York, NY 10016</td>\n",
       "      <td>0</td>\n",
       "      <td>1</td>\n",
       "      <td>0</td>\n",
       "      <td>Notaro Ristorante;635 2nd Ave, New York, NY 10016</td>\n",
       "    </tr>\n",
       "    <tr>\n",
       "      <th>1</th>\n",
       "      <td>vite-bar-astoria</td>\n",
       "      <td>Vite Bar</td>\n",
       "      <td>40.763414</td>\n",
       "      <td>-73.928119</td>\n",
       "      <td>False</td>\n",
       "      <td>2507 Broadway</td>\n",
       "      <td></td>\n",
       "      <td></td>\n",
       "      <td>Astoria</td>\n",
       "      <td>US</td>\n",
       "      <td>NY</td>\n",
       "      <td>11106</td>\n",
       "      <td>4.5</td>\n",
       "      <td>76</td>\n",
       "      <td>2507 Broadway, Astoria, NY 11106</td>\n",
       "      <td>0</td>\n",
       "      <td>1</td>\n",
       "      <td>0</td>\n",
       "      <td>Vite Bar;2507 Broadway, Astoria, NY 11106</td>\n",
       "    </tr>\n",
       "    <tr>\n",
       "      <th>2</th>\n",
       "      <td>tacks-chinese-take-out-staten-island</td>\n",
       "      <td>Tack's Chinese Take Out</td>\n",
       "      <td>40.604620</td>\n",
       "      <td>-74.121230</td>\n",
       "      <td>False</td>\n",
       "      <td>11C Holden Blvd</td>\n",
       "      <td></td>\n",
       "      <td></td>\n",
       "      <td>Staten Island</td>\n",
       "      <td>US</td>\n",
       "      <td>NY</td>\n",
       "      <td>10314</td>\n",
       "      <td>4.0</td>\n",
       "      <td>52</td>\n",
       "      <td>11C Holden Blvd, Staten Island, NY 10314</td>\n",
       "      <td>0</td>\n",
       "      <td>1</td>\n",
       "      <td>0</td>\n",
       "      <td>Tack's Chinese Take Out;11C Holden Blvd, State...</td>\n",
       "    </tr>\n",
       "    <tr>\n",
       "      <th>3</th>\n",
       "      <td>no-quarter-brooklyn</td>\n",
       "      <td>No Quarter</td>\n",
       "      <td>40.625198</td>\n",
       "      <td>-74.024025</td>\n",
       "      <td>False</td>\n",
       "      <td>8015 5th Ave</td>\n",
       "      <td></td>\n",
       "      <td></td>\n",
       "      <td>Brooklyn</td>\n",
       "      <td>US</td>\n",
       "      <td>NY</td>\n",
       "      <td>11209</td>\n",
       "      <td>2.5</td>\n",
       "      <td>16</td>\n",
       "      <td>8015 5th Ave, Brooklyn, NY 11209</td>\n",
       "      <td>1</td>\n",
       "      <td>0</td>\n",
       "      <td>0</td>\n",
       "      <td>No Quarter;8015 5th Ave, Brooklyn, NY 11209</td>\n",
       "    </tr>\n",
       "    <tr>\n",
       "      <th>4</th>\n",
       "      <td>henris-backyard-brooklyn</td>\n",
       "      <td>HENRI's Backyard</td>\n",
       "      <td>40.676470</td>\n",
       "      <td>-73.983940</td>\n",
       "      <td>True</td>\n",
       "      <td>256 4th Ave</td>\n",
       "      <td>None</td>\n",
       "      <td></td>\n",
       "      <td>Brooklyn</td>\n",
       "      <td>US</td>\n",
       "      <td>NY</td>\n",
       "      <td>11215</td>\n",
       "      <td>4.0</td>\n",
       "      <td>15</td>\n",
       "      <td>256 4th Ave, Brooklyn, NY 11215</td>\n",
       "      <td>0</td>\n",
       "      <td>1</td>\n",
       "      <td>0</td>\n",
       "      <td>HENRI's Backyard;256 4th Ave, Brooklyn, NY 11215</td>\n",
       "    </tr>\n",
       "  </tbody>\n",
       "</table>\n",
       "</div>"
      ],
      "text/plain": [
       "                            business_id            business_name  \\\n",
       "0          notaro-ristorante-new-york-2        Notaro Ristorante   \n",
       "1                      vite-bar-astoria                 Vite Bar   \n",
       "2  tacks-chinese-take-out-staten-island  Tack's Chinese Take Out   \n",
       "3                   no-quarter-brooklyn               No Quarter   \n",
       "4              henris-backyard-brooklyn         HENRI's Backyard   \n",
       "\n",
       "   coordinates.latitude  coordinates.longitude  is_closed location.address1  \\\n",
       "0             40.745323             -73.975845      False       635 2nd Ave   \n",
       "1             40.763414             -73.928119      False     2507 Broadway   \n",
       "2             40.604620             -74.121230      False   11C Holden Blvd   \n",
       "3             40.625198             -74.024025      False      8015 5th Ave   \n",
       "4             40.676470             -73.983940       True       256 4th Ave   \n",
       "\n",
       "  location.address2 location.address3  location.city location.country  \\\n",
       "0                                           New York               US   \n",
       "1                                            Astoria               US   \n",
       "2                                      Staten Island               US   \n",
       "3                                           Brooklyn               US   \n",
       "4              None                         Brooklyn               US   \n",
       "\n",
       "  location.state location.zip_code  rating  review_count  \\\n",
       "0             NY             10016     3.0            90   \n",
       "1             NY             11106     4.5            76   \n",
       "2             NY             10314     4.0            52   \n",
       "3             NY             11209     2.5            16   \n",
       "4             NY             11215     4.0            15   \n",
       "\n",
       "                              clean_address  $  $$  $$$  \\\n",
       "0           635 2nd Ave, New York, NY 10016  0   1    0   \n",
       "1          2507 Broadway, Astoria, NY 11106  0   1    0   \n",
       "2  11C Holden Blvd, Staten Island, NY 10314  0   1    0   \n",
       "3          8015 5th Ave, Brooklyn, NY 11209  1   0    0   \n",
       "4           256 4th Ave, Brooklyn, NY 11215  0   1    0   \n",
       "\n",
       "                                               match  \n",
       "0  Notaro Ristorante;635 2nd Ave, New York, NY 10016  \n",
       "1          Vite Bar;2507 Broadway, Astoria, NY 11106  \n",
       "2  Tack's Chinese Take Out;11C Holden Blvd, State...  \n",
       "3        No Quarter;8015 5th Ave, Brooklyn, NY 11209  \n",
       "4   HENRI's Backyard;256 4th Ave, Brooklyn, NY 11215  "
      ]
     },
     "execution_count": 252,
     "metadata": {},
     "output_type": "execute_result"
    }
   ],
   "source": [
    "yelpDF.head()"
   ]
  },
  {
   "cell_type": "code",
   "execution_count": 253,
   "metadata": {
    "ExecuteTime": {
     "end_time": "2017-10-22T15:56:24.917456Z",
     "start_time": "2017-10-22T15:56:24.896315Z"
    }
   },
   "outputs": [
    {
     "data": {
      "text/html": [
       "<div>\n",
       "<style>\n",
       "    .dataframe thead tr:only-child th {\n",
       "        text-align: right;\n",
       "    }\n",
       "\n",
       "    .dataframe thead th {\n",
       "        text-align: left;\n",
       "    }\n",
       "\n",
       "    .dataframe tbody tr th {\n",
       "        vertical-align: top;\n",
       "    }\n",
       "</style>\n",
       "<table border=\"1\" class=\"dataframe\">\n",
       "  <thead>\n",
       "    <tr style=\"text-align: right;\">\n",
       "      <th></th>\n",
       "      <th>name</th>\n",
       "      <th>zipcode</th>\n",
       "      <th>score</th>\n",
       "      <th>grade</th>\n",
       "      <th>address</th>\n",
       "      <th>inspection_year</th>\n",
       "      <th>violation_count</th>\n",
       "      <th>Afghan</th>\n",
       "      <th>African</th>\n",
       "      <th>American</th>\n",
       "      <th>...</th>\n",
       "      <th>food_handling</th>\n",
       "      <th>hygiene</th>\n",
       "      <th>regulatory</th>\n",
       "      <th>temperature</th>\n",
       "      <th>vermin</th>\n",
       "      <th>bronx</th>\n",
       "      <th>brooklyn</th>\n",
       "      <th>manhattan</th>\n",
       "      <th>queens</th>\n",
       "      <th>match</th>\n",
       "    </tr>\n",
       "  </thead>\n",
       "  <tbody>\n",
       "    <tr>\n",
       "      <th>0</th>\n",
       "      <td>#1 Chinese Restaurant</td>\n",
       "      <td>10033</td>\n",
       "      <td>13.0</td>\n",
       "      <td>A</td>\n",
       "      <td>825 W 181ST ST MANHATTAN 10033</td>\n",
       "      <td>2016</td>\n",
       "      <td>3</td>\n",
       "      <td>0</td>\n",
       "      <td>0</td>\n",
       "      <td>0</td>\n",
       "      <td>...</td>\n",
       "      <td>0.0</td>\n",
       "      <td>0.0</td>\n",
       "      <td>0.0</td>\n",
       "      <td>0.0</td>\n",
       "      <td>0.0</td>\n",
       "      <td>0</td>\n",
       "      <td>0</td>\n",
       "      <td>1</td>\n",
       "      <td>0</td>\n",
       "      <td>#1 Chinese Restaurant;825 W 181ST ST MANHATTAN...</td>\n",
       "    </tr>\n",
       "    <tr>\n",
       "      <th>1</th>\n",
       "      <td>#1 GARDEN CHINESE</td>\n",
       "      <td>11215</td>\n",
       "      <td>12.0</td>\n",
       "      <td>A</td>\n",
       "      <td>221 PROSPECT PARK WEST BROOKLYN 11215</td>\n",
       "      <td>2017</td>\n",
       "      <td>2</td>\n",
       "      <td>0</td>\n",
       "      <td>0</td>\n",
       "      <td>0</td>\n",
       "      <td>...</td>\n",
       "      <td>0.0</td>\n",
       "      <td>1.0</td>\n",
       "      <td>0.0</td>\n",
       "      <td>1.0</td>\n",
       "      <td>0.0</td>\n",
       "      <td>0</td>\n",
       "      <td>1</td>\n",
       "      <td>0</td>\n",
       "      <td>0</td>\n",
       "      <td>#1 GARDEN CHINESE;221 PROSPECT PARK WEST BROOK...</td>\n",
       "    </tr>\n",
       "    <tr>\n",
       "      <th>2</th>\n",
       "      <td>#1 Natural Juice Bar</td>\n",
       "      <td>11385</td>\n",
       "      <td>10.0</td>\n",
       "      <td>A</td>\n",
       "      <td>685 SENECA AVE QUEENS 11385</td>\n",
       "      <td>2017</td>\n",
       "      <td>2</td>\n",
       "      <td>0</td>\n",
       "      <td>0</td>\n",
       "      <td>0</td>\n",
       "      <td>...</td>\n",
       "      <td>0.0</td>\n",
       "      <td>0.0</td>\n",
       "      <td>0.0</td>\n",
       "      <td>0.0</td>\n",
       "      <td>2.0</td>\n",
       "      <td>0</td>\n",
       "      <td>0</td>\n",
       "      <td>0</td>\n",
       "      <td>1</td>\n",
       "      <td>#1 Natural Juice Bar;685 SENECA AVE QUEENS 11385</td>\n",
       "    </tr>\n",
       "    <tr>\n",
       "      <th>3</th>\n",
       "      <td>#1 SABOR LATINO RESTAURANT</td>\n",
       "      <td>10466</td>\n",
       "      <td>11.0</td>\n",
       "      <td>A</td>\n",
       "      <td>4120 WHITE PLAINS ROAD BRONX 10466</td>\n",
       "      <td>2017</td>\n",
       "      <td>2</td>\n",
       "      <td>0</td>\n",
       "      <td>0</td>\n",
       "      <td>0</td>\n",
       "      <td>...</td>\n",
       "      <td>0.0</td>\n",
       "      <td>0.0</td>\n",
       "      <td>0.0</td>\n",
       "      <td>0.0</td>\n",
       "      <td>2.0</td>\n",
       "      <td>1</td>\n",
       "      <td>0</td>\n",
       "      <td>0</td>\n",
       "      <td>0</td>\n",
       "      <td>#1 SABOR LATINO RESTAURANT;4120 WHITE PLAINS R...</td>\n",
       "    </tr>\n",
       "    <tr>\n",
       "      <th>4</th>\n",
       "      <td>$1 PIZZA</td>\n",
       "      <td>11216</td>\n",
       "      <td>10.0</td>\n",
       "      <td>A</td>\n",
       "      <td>1276 FULTON ST BROOKLYN 11216</td>\n",
       "      <td>2017</td>\n",
       "      <td>2</td>\n",
       "      <td>0</td>\n",
       "      <td>0</td>\n",
       "      <td>0</td>\n",
       "      <td>...</td>\n",
       "      <td>0.0</td>\n",
       "      <td>1.0</td>\n",
       "      <td>0.0</td>\n",
       "      <td>0.0</td>\n",
       "      <td>0.0</td>\n",
       "      <td>0</td>\n",
       "      <td>1</td>\n",
       "      <td>0</td>\n",
       "      <td>0</td>\n",
       "      <td>$1 PIZZA;1276 FULTON ST BROOKLYN 11216</td>\n",
       "    </tr>\n",
       "  </tbody>\n",
       "</table>\n",
       "<p>5 rows × 104 columns</p>\n",
       "</div>"
      ],
      "text/plain": [
       "                         name zipcode  score grade  \\\n",
       "0       #1 Chinese Restaurant   10033   13.0     A   \n",
       "1           #1 GARDEN CHINESE   11215   12.0     A   \n",
       "2        #1 Natural Juice Bar   11385   10.0     A   \n",
       "3  #1 SABOR LATINO RESTAURANT   10466   11.0     A   \n",
       "4                    $1 PIZZA   11216   10.0     A   \n",
       "\n",
       "                                 address  inspection_year  violation_count  \\\n",
       "0         825 W 181ST ST MANHATTAN 10033             2016                3   \n",
       "1  221 PROSPECT PARK WEST BROOKLYN 11215             2017                2   \n",
       "2            685 SENECA AVE QUEENS 11385             2017                2   \n",
       "3     4120 WHITE PLAINS ROAD BRONX 10466             2017                2   \n",
       "4          1276 FULTON ST BROOKLYN 11216             2017                2   \n",
       "\n",
       "   Afghan  African  American  \\\n",
       "0       0        0         0   \n",
       "1       0        0         0   \n",
       "2       0        0         0   \n",
       "3       0        0         0   \n",
       "4       0        0         0   \n",
       "\n",
       "                         ...                          food_handling  hygiene  \\\n",
       "0                        ...                                    0.0      0.0   \n",
       "1                        ...                                    0.0      1.0   \n",
       "2                        ...                                    0.0      0.0   \n",
       "3                        ...                                    0.0      0.0   \n",
       "4                        ...                                    0.0      1.0   \n",
       "\n",
       "   regulatory  temperature  vermin  bronx  brooklyn  manhattan  queens  \\\n",
       "0         0.0          0.0     0.0      0         0          1       0   \n",
       "1         0.0          1.0     0.0      0         1          0       0   \n",
       "2         0.0          0.0     2.0      0         0          0       1   \n",
       "3         0.0          0.0     2.0      1         0          0       0   \n",
       "4         0.0          0.0     0.0      0         1          0       0   \n",
       "\n",
       "                                               match  \n",
       "0  #1 Chinese Restaurant;825 W 181ST ST MANHATTAN...  \n",
       "1  #1 GARDEN CHINESE;221 PROSPECT PARK WEST BROOK...  \n",
       "2   #1 Natural Juice Bar;685 SENECA AVE QUEENS 11385  \n",
       "3  #1 SABOR LATINO RESTAURANT;4120 WHITE PLAINS R...  \n",
       "4             $1 PIZZA;1276 FULTON ST BROOKLYN 11216  \n",
       "\n",
       "[5 rows x 104 columns]"
      ]
     },
     "execution_count": 253,
     "metadata": {},
     "output_type": "execute_result"
    }
   ],
   "source": [
    "uniqueDF.head()"
   ]
  },
  {
   "cell_type": "code",
   "execution_count": 254,
   "metadata": {
    "ExecuteTime": {
     "end_time": "2017-10-22T15:56:44.910822Z",
     "start_time": "2017-10-22T15:56:44.907856Z"
    },
    "collapsed": true
   },
   "outputs": [],
   "source": [
    "# a = df2.title.map(lambda x: difflib.get_close_matches(x, box2.name))\n",
    "# df2['merge']= [e[0] if e else '' for e in a]\n",
    "# boxdf = pd.merge(left=df2,left_on='merge', right=box2,right_on='name')"
   ]
  },
  {
   "cell_type": "markdown",
   "metadata": {},
   "source": [
    "Test Merge Data (first 100 for each data frame)"
   ]
  },
  {
   "cell_type": "code",
   "execution_count": 255,
   "metadata": {
    "ExecuteTime": {
     "end_time": "2017-10-22T15:56:45.673170Z",
     "start_time": "2017-10-22T15:56:45.669179Z"
    },
    "collapsed": true
   },
   "outputs": [],
   "source": [
    "# yelpTest = yelpDF.head(100)"
   ]
  },
  {
   "cell_type": "code",
   "execution_count": 256,
   "metadata": {
    "ExecuteTime": {
     "end_time": "2017-10-22T15:56:46.169761Z",
     "start_time": "2017-10-22T15:56:46.166871Z"
    },
    "collapsed": true
   },
   "outputs": [],
   "source": [
    "# yelpTest['business_name'] = yelpTest.business_name.str.lower()\n",
    "# yelpTest['match'] = yelpTest.match.str.lower()"
   ]
  },
  {
   "cell_type": "code",
   "execution_count": 257,
   "metadata": {
    "ExecuteTime": {
     "end_time": "2017-10-22T15:56:46.640305Z",
     "start_time": "2017-10-22T15:56:46.637332Z"
    },
    "collapsed": true
   },
   "outputs": [],
   "source": [
    "# nycTest = uniqueDF.head(100)"
   ]
  },
  {
   "cell_type": "code",
   "execution_count": 258,
   "metadata": {
    "ExecuteTime": {
     "end_time": "2017-10-22T15:56:47.069030Z",
     "start_time": "2017-10-22T15:56:47.064901Z"
    }
   },
   "outputs": [],
   "source": [
    "# nycTest['match'] = nycTest.match.str.lower()"
   ]
  },
  {
   "cell_type": "code",
   "execution_count": 259,
   "metadata": {
    "ExecuteTime": {
     "end_time": "2017-10-22T15:56:48.808330Z",
     "start_time": "2017-10-22T15:56:48.805648Z"
    },
    "collapsed": true
   },
   "outputs": [],
   "source": [
    "# a = yelpTest.match.map(lambda x: difflib.get_close_matches(x, nycTest.match,cutoff=.7,))"
   ]
  },
  {
   "cell_type": "code",
   "execution_count": 260,
   "metadata": {
    "ExecuteTime": {
     "end_time": "2017-10-22T15:56:49.170053Z",
     "start_time": "2017-10-22T15:56:49.166834Z"
    },
    "collapsed": true
   },
   "outputs": [],
   "source": [
    "# yelpTest['merge'] = [e[0] if e else '' for e in a]"
   ]
  },
  {
   "cell_type": "code",
   "execution_count": 261,
   "metadata": {
    "ExecuteTime": {
     "end_time": "2017-10-22T15:56:49.610097Z",
     "start_time": "2017-10-22T15:56:49.606764Z"
    },
    "collapsed": true
   },
   "outputs": [],
   "source": [
    "#yelpTest.head(50)"
   ]
  },
  {
   "cell_type": "code",
   "execution_count": 262,
   "metadata": {
    "ExecuteTime": {
     "end_time": "2017-10-22T15:56:50.301069Z",
     "start_time": "2017-10-22T15:56:50.274157Z"
    },
    "collapsed": true
   },
   "outputs": [],
   "source": [
    "yelpDF['match'] = yelpDF.match.str.lower()\n",
    "uniqueDF['match'] = uniqueDF.match.str.lower()"
   ]
  },
  {
   "cell_type": "code",
   "execution_count": 126,
   "metadata": {
    "ExecuteTime": {
     "end_time": "2017-10-20T19:13:32.944604Z",
     "start_time": "2017-10-20T19:13:32.940984Z"
    },
    "collapsed": true
   },
   "outputs": [],
   "source": [
    "# a = yelpDF.match.map(lambda x: difflib.get_close_matches(x, uniqueDF.match))"
   ]
  },
  {
   "cell_type": "code",
   "execution_count": 131,
   "metadata": {
    "ExecuteTime": {
     "end_time": "2017-10-20T19:13:32.976561Z",
     "start_time": "2017-10-20T19:13:32.973394Z"
    },
    "collapsed": true
   },
   "outputs": [],
   "source": [
    "# yelpDF['merge'] = [e[0] if e else '' for e in a]"
   ]
  },
  {
   "cell_type": "code",
   "execution_count": 132,
   "metadata": {
    "ExecuteTime": {
     "end_time": "2017-10-20T19:13:32.981730Z",
     "start_time": "2017-10-20T19:13:32.978580Z"
    },
    "collapsed": true
   },
   "outputs": [],
   "source": [
    "# yelpDF.head(5)"
   ]
  },
  {
   "cell_type": "code",
   "execution_count": 133,
   "metadata": {
    "ExecuteTime": {
     "end_time": "2017-10-20T19:13:32.988271Z",
     "start_time": "2017-10-20T19:13:32.984603Z"
    },
    "collapsed": true
   },
   "outputs": [],
   "source": [
    "#mergeDF = yelpTest.merge(nycTest,left_on='merge',right_on='match')"
   ]
  },
  {
   "cell_type": "code",
   "execution_count": 135,
   "metadata": {
    "ExecuteTime": {
     "end_time": "2017-10-20T19:13:35.801306Z",
     "start_time": "2017-10-20T19:13:35.798661Z"
    },
    "collapsed": true
   },
   "outputs": [],
   "source": [
    "#mergeDF.to_csv('merge.csv')"
   ]
  },
  {
   "cell_type": "code",
   "execution_count": 136,
   "metadata": {
    "ExecuteTime": {
     "end_time": "2017-10-20T19:13:36.067170Z",
     "start_time": "2017-10-20T19:13:36.062509Z"
    },
    "collapsed": true
   },
   "outputs": [],
   "source": [
    "#uniqueDF = pd.read_pickle('data/inspection.pkl')"
   ]
  },
  {
   "cell_type": "markdown",
   "metadata": {},
   "source": [
    "### Pickle Merge Ready Inspection Data"
   ]
  },
  {
   "cell_type": "code",
   "execution_count": 263,
   "metadata": {
    "ExecuteTime": {
     "end_time": "2017-10-22T15:59:33.026061Z",
     "start_time": "2017-10-22T15:59:32.987234Z"
    },
    "collapsed": true
   },
   "outputs": [],
   "source": [
    "uniqueDF.to_pickle('data/nyc_to_merge.pkl')"
   ]
  },
  {
   "cell_type": "code",
   "execution_count": 264,
   "metadata": {
    "ExecuteTime": {
     "end_time": "2017-10-22T16:00:05.384367Z",
     "start_time": "2017-10-22T16:00:05.324514Z"
    },
    "collapsed": true
   },
   "outputs": [],
   "source": [
    "yelpDF.to_pickle('data/yelp_to_merge.pkl')"
   ]
  },
  {
   "cell_type": "markdown",
   "metadata": {},
   "source": [
    "### Merge Yelp with NYC Inspection Data"
   ]
  },
  {
   "cell_type": "code",
   "execution_count": 154,
   "metadata": {
    "ExecuteTime": {
     "end_time": "2017-10-20T19:13:45.144986Z",
     "start_time": "2017-10-20T19:13:44.993810Z"
    },
    "collapsed": true
   },
   "outputs": [],
   "source": [
    "yelpDF = pd.read_csv('data/yelp_merge.csv')"
   ]
  },
  {
   "cell_type": "code",
   "execution_count": 155,
   "metadata": {
    "ExecuteTime": {
     "end_time": "2017-10-20T19:13:45.305569Z",
     "start_time": "2017-10-20T19:13:45.301432Z"
    }
   },
   "outputs": [
    {
     "data": {
      "text/plain": [
       "(23397, 21)"
      ]
     },
     "execution_count": 155,
     "metadata": {},
     "output_type": "execute_result"
    }
   ],
   "source": [
    "yelpDF.shape"
   ]
  },
  {
   "cell_type": "code",
   "execution_count": 156,
   "metadata": {
    "ExecuteTime": {
     "end_time": "2017-10-20T19:13:45.651697Z",
     "start_time": "2017-10-20T19:13:45.646618Z"
    }
   },
   "outputs": [
    {
     "data": {
      "text/plain": [
       "(22316, 111)"
      ]
     },
     "execution_count": 156,
     "metadata": {},
     "output_type": "execute_result"
    }
   ],
   "source": [
    "uniqueDF.shape"
   ]
  },
  {
   "cell_type": "code",
   "execution_count": 157,
   "metadata": {
    "ExecuteTime": {
     "end_time": "2017-10-20T19:13:45.981621Z",
     "start_time": "2017-10-20T19:13:45.976832Z"
    }
   },
   "outputs": [
    {
     "data": {
      "text/plain": [
       "['index',\n",
       " 'business_id',\n",
       " 'business_name',\n",
       " 'coordinates.latitude',\n",
       " 'coordinates.longitude',\n",
       " 'is_closed',\n",
       " 'location.address1',\n",
       " 'location.address2',\n",
       " 'location.address3',\n",
       " 'location.city',\n",
       " 'location.country',\n",
       " 'location.state',\n",
       " 'location.zip_code',\n",
       " 'rating',\n",
       " 'review_count',\n",
       " 'clean_address',\n",
       " '$',\n",
       " '$$',\n",
       " '$$$',\n",
       " 'match',\n",
       " 'merge']"
      ]
     },
     "execution_count": 157,
     "metadata": {},
     "output_type": "execute_result"
    }
   ],
   "source": [
    "yelpDF.columns.tolist()"
   ]
  },
  {
   "cell_type": "code",
   "execution_count": 158,
   "metadata": {
    "ExecuteTime": {
     "end_time": "2017-10-20T19:13:46.314726Z",
     "start_time": "2017-10-20T19:13:46.311906Z"
    },
    "collapsed": true
   },
   "outputs": [],
   "source": [
    "yelpFeatures = ['business_id', 'is_closed', 'rating', 'review_count', '$', '$$', '$$$', 'merge']"
   ]
  },
  {
   "cell_type": "code",
   "execution_count": 159,
   "metadata": {
    "ExecuteTime": {
     "end_time": "2017-10-20T19:13:46.633167Z",
     "start_time": "2017-10-20T19:13:46.626312Z"
    },
    "collapsed": true
   },
   "outputs": [],
   "source": [
    "yelpDF = yelpDF[yelpFeatures]"
   ]
  },
  {
   "cell_type": "code",
   "execution_count": 160,
   "metadata": {
    "ExecuteTime": {
     "end_time": "2017-10-20T19:13:46.933073Z",
     "start_time": "2017-10-20T19:13:46.895159Z"
    },
    "collapsed": true
   },
   "outputs": [],
   "source": [
    "uniqueDF = uniqueDF[dfFeatures]"
   ]
  },
  {
   "cell_type": "code",
   "execution_count": 161,
   "metadata": {
    "ExecuteTime": {
     "end_time": "2017-10-20T19:13:47.257245Z",
     "start_time": "2017-10-20T19:13:47.227959Z"
    },
    "collapsed": true
   },
   "outputs": [],
   "source": [
    "mergeDF = uniqueDF.merge(yelpDF,left_on='match',right_on='merge')"
   ]
  },
  {
   "cell_type": "code",
   "execution_count": 162,
   "metadata": {
    "ExecuteTime": {
     "end_time": "2017-10-20T19:13:49.784451Z",
     "start_time": "2017-10-20T19:13:49.779425Z"
    }
   },
   "outputs": [
    {
     "data": {
      "text/plain": [
       "['zipcode',\n",
       " 'score',\n",
       " 'grade',\n",
       " 'contamination',\n",
       " 'facility',\n",
       " 'food_handling',\n",
       " 'hygiene',\n",
       " 'temperature',\n",
       " 'vermin',\n",
       " 'inspection_year',\n",
       " 'Afghan',\n",
       " 'African',\n",
       " 'American',\n",
       " 'Armenian',\n",
       " 'Asian',\n",
       " 'Australian',\n",
       " 'Bagels/Pretzels',\n",
       " 'Bakery',\n",
       " 'Bangladeshi',\n",
       " 'Barbecue',\n",
       " 'Bottle Beverages',\n",
       " 'Brazilian',\n",
       " 'Cajun',\n",
       " 'Californian',\n",
       " 'Caribbean',\n",
       " 'Chicken',\n",
       " 'Chilean',\n",
       " 'Chinese',\n",
       " 'Chinese/Cuban',\n",
       " 'Chinese/Japanese',\n",
       " 'Coffee',\n",
       " 'Continental',\n",
       " 'Creole',\n",
       " 'Creole/Cajun',\n",
       " 'Czech',\n",
       " 'Delicatessen',\n",
       " 'Donuts',\n",
       " 'Eastern European',\n",
       " 'Egyptian',\n",
       " 'English',\n",
       " 'Ethiopian',\n",
       " 'Filipino',\n",
       " 'French',\n",
       " 'Fruits/Vegetables',\n",
       " 'German',\n",
       " 'Greek',\n",
       " 'Hamburgers',\n",
       " 'Hawaiian',\n",
       " 'Hotdogs',\n",
       " 'Hotdogs/Pretzels',\n",
       " 'Ice Cream',\n",
       " 'Indian',\n",
       " 'Indonesian',\n",
       " 'Iranian',\n",
       " 'Irish',\n",
       " 'Italian',\n",
       " 'Japanese',\n",
       " 'Jewish/Kosher',\n",
       " 'Juice, Smoothies, Fruit Salads',\n",
       " 'Korean',\n",
       " 'Latin',\n",
       " 'Mediterranean',\n",
       " 'Mexican',\n",
       " 'Middle Eastern',\n",
       " 'Mixed Buffet',\n",
       " 'Moroccan',\n",
       " 'Not Listed/Not Applicable',\n",
       " 'Nuts/Confectionary',\n",
       " 'Pakistani',\n",
       " 'Pancakes/Waffles',\n",
       " 'Peruvian',\n",
       " 'Pizza',\n",
       " 'Pizza/Italian',\n",
       " 'Polish',\n",
       " 'Polynesian',\n",
       " 'Portuguese',\n",
       " 'Russian',\n",
       " 'Salads',\n",
       " 'Sandwiches',\n",
       " 'Scandinavian',\n",
       " 'Seafood',\n",
       " 'Soul Food',\n",
       " 'Soups',\n",
       " 'Southwestern',\n",
       " 'Spanish',\n",
       " 'Steak',\n",
       " 'Tapas',\n",
       " 'Tex-Mex',\n",
       " 'Thai',\n",
       " 'Turkish',\n",
       " 'Vegetarian',\n",
       " 'Vietnamese/Cambodian/Malaysia',\n",
       " 'bronx',\n",
       " 'brooklyn',\n",
       " 'manhattan',\n",
       " 'queens',\n",
       " 'match']"
      ]
     },
     "execution_count": 162,
     "metadata": {},
     "output_type": "execute_result"
    }
   ],
   "source": [
    "uniqueDF.columns.tolist()"
   ]
  },
  {
   "cell_type": "code",
   "execution_count": 163,
   "metadata": {
    "ExecuteTime": {
     "end_time": "2017-10-20T19:13:50.548498Z",
     "start_time": "2017-10-20T19:13:50.544303Z"
    }
   },
   "outputs": [
    {
     "data": {
      "text/plain": [
       "(12150, 105)"
      ]
     },
     "execution_count": 163,
     "metadata": {},
     "output_type": "execute_result"
    }
   ],
   "source": [
    "mergeDF.shape"
   ]
  },
  {
   "cell_type": "code",
   "execution_count": 164,
   "metadata": {
    "ExecuteTime": {
     "end_time": "2017-10-20T19:13:51.255282Z",
     "start_time": "2017-10-20T19:13:51.130995Z"
    },
    "collapsed": true
   },
   "outputs": [],
   "source": [
    "uniqueDF.drop('match',inplace=True,axis=1)"
   ]
  },
  {
   "cell_type": "code",
   "execution_count": 165,
   "metadata": {
    "ExecuteTime": {
     "end_time": "2017-10-20T19:13:51.558008Z",
     "start_time": "2017-10-20T19:13:51.536246Z"
    },
    "collapsed": true
   },
   "outputs": [],
   "source": [
    "mergeDF.drop(['merge','match'],axis=1,inplace=True)"
   ]
  },
  {
   "cell_type": "code",
   "execution_count": 166,
   "metadata": {
    "ExecuteTime": {
     "end_time": "2017-10-20T19:13:51.932829Z",
     "start_time": "2017-10-20T19:13:51.910276Z"
    },
    "collapsed": true
   },
   "outputs": [],
   "source": [
    "mergeDF.to_pickle('data/merge.pkl')"
   ]
  },
  {
   "cell_type": "code",
   "execution_count": 167,
   "metadata": {
    "ExecuteTime": {
     "end_time": "2017-10-20T19:13:52.330751Z",
     "start_time": "2017-10-20T19:13:52.294038Z"
    },
    "collapsed": true
   },
   "outputs": [],
   "source": [
    "uniqueDF.to_pickle('data/inspection.pkl')"
   ]
  },
  {
   "cell_type": "code",
   "execution_count": null,
   "metadata": {
    "collapsed": true
   },
   "outputs": [],
   "source": []
  }
 ],
 "metadata": {
  "kernelspec": {
   "display_name": "Python 3",
   "language": "python",
   "name": "python3"
  },
  "language_info": {
   "codemirror_mode": {
    "name": "ipython",
    "version": 3
   },
   "file_extension": ".py",
   "mimetype": "text/x-python",
   "name": "python",
   "nbconvert_exporter": "python",
   "pygments_lexer": "ipython3",
   "version": "3.6.2"
  }
 },
 "nbformat": 4,
 "nbformat_minor": 2
}
