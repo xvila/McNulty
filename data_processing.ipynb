{
 "cells": [
  {
   "cell_type": "code",
   "execution_count": 701,
   "metadata": {
    "ExecuteTime": {
     "end_time": "2017-10-21T23:52:43.190911Z",
     "start_time": "2017-10-21T23:52:43.171580Z"
    },
    "collapsed": true
   },
   "outputs": [],
   "source": [
    "from __future__ import print_function\n",
    "\n",
    "import pandas as pd\n",
    "import numpy as np\n",
    "import json\n",
    "import difflib\n",
    "import pprint\n",
    "from sklearn.utils import resample\n",
    "\n",
    "%matplotlib inline\n",
    "import seaborn as sns\n",
    "import matplotlib.pyplot as plt\n",
    "plt.style.use('fivethirtyeight')\n",
    "sns.set_style('whitegrid')\n",
    "customFig = (10,8)\n"
   ]
  },
  {
   "cell_type": "code",
   "execution_count": 702,
   "metadata": {
    "ExecuteTime": {
     "end_time": "2017-10-21T23:52:45.212437Z",
     "start_time": "2017-10-21T23:52:43.192191Z"
    },
    "collapsed": true
   },
   "outputs": [],
   "source": [
    "df = pd.read_csv('data/nyc_inspection_results.csv')"
   ]
  },
  {
   "cell_type": "code",
   "execution_count": 703,
   "metadata": {
    "ExecuteTime": {
     "end_time": "2017-10-21T23:52:45.217556Z",
     "start_time": "2017-10-21T23:52:45.214332Z"
    },
    "collapsed": true
   },
   "outputs": [],
   "source": [
    "df.columns = map(str.lower, df.columns)"
   ]
  },
  {
   "cell_type": "code",
   "execution_count": 704,
   "metadata": {
    "ExecuteTime": {
     "end_time": "2017-10-21T23:52:45.222813Z",
     "start_time": "2017-10-21T23:52:45.219577Z"
    },
    "collapsed": true
   },
   "outputs": [],
   "source": [
    "df.columns = [x.strip().replace(' ', '_') for x in df.columns]"
   ]
  },
  {
   "cell_type": "code",
   "execution_count": 705,
   "metadata": {
    "ExecuteTime": {
     "end_time": "2017-10-21T23:52:45.581323Z",
     "start_time": "2017-10-21T23:52:45.224831Z"
    },
    "collapsed": true
   },
   "outputs": [],
   "source": [
    "df['zipcode'] = df.zipcode.astype(str)"
   ]
  },
  {
   "cell_type": "code",
   "execution_count": 706,
   "metadata": {
    "ExecuteTime": {
     "end_time": "2017-10-21T23:52:45.795777Z",
     "start_time": "2017-10-21T23:52:45.583271Z"
    },
    "collapsed": true
   },
   "outputs": [],
   "source": [
    "df['zipcode'] = df['zipcode'].str.slice(0,5)"
   ]
  },
  {
   "cell_type": "code",
   "execution_count": 707,
   "metadata": {
    "ExecuteTime": {
     "end_time": "2017-10-21T23:52:46.449451Z",
     "start_time": "2017-10-21T23:52:45.797917Z"
    },
    "collapsed": true
   },
   "outputs": [],
   "source": [
    "df['address'] = df.building + ' ' + df.street + ' ' + df.boro + ' ' + df.zipcode"
   ]
  },
  {
   "cell_type": "code",
   "execution_count": 708,
   "metadata": {
    "ExecuteTime": {
     "end_time": "2017-10-21T23:52:47.114945Z",
     "start_time": "2017-10-21T23:52:46.451794Z"
    }
   },
   "outputs": [
    {
     "name": "stdout",
     "output_type": "stream",
     "text": [
      "<class 'pandas.core.frame.DataFrame'>\n",
      "RangeIndex: 399918 entries, 0 to 399917\n",
      "Data columns (total 19 columns):\n",
      "camis                    399918 non-null int64\n",
      "dba                      399559 non-null object\n",
      "boro                     399918 non-null object\n",
      "building                 399809 non-null object\n",
      "street                   399909 non-null object\n",
      "zipcode                  399918 non-null object\n",
      "phone                    399913 non-null object\n",
      "cuisine_description      399918 non-null object\n",
      "inspection_date          399918 non-null object\n",
      "action                   398783 non-null object\n",
      "violation_code           393414 non-null object\n",
      "violation_description    392939 non-null object\n",
      "critical_flag            399918 non-null object\n",
      "score                    376704 non-null float64\n",
      "grade                    195413 non-null object\n",
      "grade_date               192820 non-null object\n",
      "record_date              399918 non-null object\n",
      "inspection_type          398783 non-null object\n",
      "address                  399809 non-null object\n",
      "dtypes: float64(1), int64(1), object(17)\n",
      "memory usage: 58.0+ MB\n"
     ]
    }
   ],
   "source": [
    "df.info()"
   ]
  },
  {
   "cell_type": "code",
   "execution_count": 709,
   "metadata": {
    "ExecuteTime": {
     "end_time": "2017-10-21T23:54:57.587855Z",
     "start_time": "2017-10-21T23:52:47.117338Z"
    },
    "collapsed": true
   },
   "outputs": [],
   "source": [
    "df['inspection_date'] = pd.to_datetime(df.inspection_date)\n",
    "df['grade_date'] = pd.to_datetime(df.grade_date)\n",
    "df['record_date'] = pd.to_datetime(df.record_date)"
   ]
  },
  {
   "cell_type": "code",
   "execution_count": 710,
   "metadata": {
    "ExecuteTime": {
     "end_time": "2017-10-21T23:54:57.596053Z",
     "start_time": "2017-10-21T23:54:57.589938Z"
    }
   },
   "outputs": [
    {
     "data": {
      "text/plain": [
       "Timestamp('2017-08-26 00:00:00')"
      ]
     },
     "execution_count": 710,
     "metadata": {},
     "output_type": "execute_result"
    }
   ],
   "source": [
    "df['inspection_date'].max()"
   ]
  },
  {
   "cell_type": "code",
   "execution_count": 711,
   "metadata": {
    "ExecuteTime": {
     "end_time": "2017-10-21T23:54:57.604469Z",
     "start_time": "2017-10-21T23:54:57.598146Z"
    }
   },
   "outputs": [
    {
     "data": {
      "text/plain": [
       "Timestamp('1900-01-01 00:00:00')"
      ]
     },
     "execution_count": 711,
     "metadata": {},
     "output_type": "execute_result"
    }
   ],
   "source": [
    "df['inspection_date'].min()"
   ]
  },
  {
   "cell_type": "code",
   "execution_count": 712,
   "metadata": {
    "ExecuteTime": {
     "end_time": "2017-10-21T23:55:00.418927Z",
     "start_time": "2017-10-21T23:54:57.606374Z"
    }
   },
   "outputs": [],
   "source": [
    "testDF = df.loc[df.groupby(['dba','address'])['inspection_date'].idxmax()]"
   ]
  },
  {
   "cell_type": "code",
   "execution_count": 730,
   "metadata": {
    "ExecuteTime": {
     "end_time": "2017-10-22T00:11:16.717113Z",
     "start_time": "2017-10-22T00:11:16.713226Z"
    }
   },
   "outputs": [
    {
     "data": {
      "text/plain": [
       "(25985, 19)"
      ]
     },
     "execution_count": 730,
     "metadata": {},
     "output_type": "execute_result"
    }
   ],
   "source": [
    "testDF.shape"
   ]
  },
  {
   "cell_type": "code",
   "execution_count": 769,
   "metadata": {
    "ExecuteTime": {
     "end_time": "2017-10-22T00:26:02.748410Z",
     "start_time": "2017-10-22T00:26:02.692177Z"
    }
   },
   "outputs": [
    {
     "data": {
      "text/html": [
       "<div>\n",
       "<style>\n",
       "    .dataframe thead tr:only-child th {\n",
       "        text-align: right;\n",
       "    }\n",
       "\n",
       "    .dataframe thead th {\n",
       "        text-align: left;\n",
       "    }\n",
       "\n",
       "    .dataframe tbody tr th {\n",
       "        vertical-align: top;\n",
       "    }\n",
       "</style>\n",
       "<table border=\"1\" class=\"dataframe\">\n",
       "  <thead>\n",
       "    <tr style=\"text-align: right;\">\n",
       "      <th></th>\n",
       "      <th>camis</th>\n",
       "      <th>dba</th>\n",
       "      <th>boro</th>\n",
       "      <th>building</th>\n",
       "      <th>street</th>\n",
       "      <th>zipcode</th>\n",
       "      <th>phone</th>\n",
       "      <th>cuisine_description</th>\n",
       "      <th>inspection_date</th>\n",
       "      <th>action</th>\n",
       "      <th>violation_code</th>\n",
       "      <th>violation_description</th>\n",
       "      <th>critical_flag</th>\n",
       "      <th>score</th>\n",
       "      <th>grade</th>\n",
       "      <th>grade_date</th>\n",
       "      <th>record_date</th>\n",
       "      <th>inspection_type</th>\n",
       "      <th>address</th>\n",
       "    </tr>\n",
       "  </thead>\n",
       "  <tbody>\n",
       "    <tr>\n",
       "      <th>270497</th>\n",
       "      <td>41336841</td>\n",
       "      <td>#1 SABOR LATINO RESTAURANT</td>\n",
       "      <td>BRONX</td>\n",
       "      <td>4120</td>\n",
       "      <td>WHITE PLAINS ROAD</td>\n",
       "      <td>10466</td>\n",
       "      <td>7186532222</td>\n",
       "      <td>Latin (Cuban, Dominican, Puerto Rican, South &amp;...</td>\n",
       "      <td>2017-03-16</td>\n",
       "      <td>Violations were cited in the following area(s).</td>\n",
       "      <td>08A</td>\n",
       "      <td>Facility not vermin proof. Harborage or condit...</td>\n",
       "      <td>Not Critical</td>\n",
       "      <td>11.0</td>\n",
       "      <td>A</td>\n",
       "      <td>2017-03-16</td>\n",
       "      <td>2017-08-28</td>\n",
       "      <td>Cycle Inspection / Initial Inspection</td>\n",
       "      <td>4120 WHITE PLAINS ROAD BRONX 10466</td>\n",
       "    </tr>\n",
       "    <tr>\n",
       "      <th>284675</th>\n",
       "      <td>41336841</td>\n",
       "      <td>#1 SABOR LATINO RESTAURANT</td>\n",
       "      <td>BRONX</td>\n",
       "      <td>4120</td>\n",
       "      <td>WHITE PLAINS ROAD</td>\n",
       "      <td>10466</td>\n",
       "      <td>7186532222</td>\n",
       "      <td>Latin (Cuban, Dominican, Puerto Rican, South &amp;...</td>\n",
       "      <td>2017-03-16</td>\n",
       "      <td>Violations were cited in the following area(s).</td>\n",
       "      <td>04L</td>\n",
       "      <td>Evidence of mice or live mice present in facil...</td>\n",
       "      <td>Critical</td>\n",
       "      <td>11.0</td>\n",
       "      <td>A</td>\n",
       "      <td>2017-03-16</td>\n",
       "      <td>2017-08-28</td>\n",
       "      <td>Cycle Inspection / Initial Inspection</td>\n",
       "      <td>4120 WHITE PLAINS ROAD BRONX 10466</td>\n",
       "    </tr>\n",
       "  </tbody>\n",
       "</table>\n",
       "</div>"
      ],
      "text/plain": [
       "           camis                         dba   boro building  \\\n",
       "270497  41336841  #1 SABOR LATINO RESTAURANT  BRONX     4120   \n",
       "284675  41336841  #1 SABOR LATINO RESTAURANT  BRONX     4120   \n",
       "\n",
       "                   street zipcode       phone  \\\n",
       "270497  WHITE PLAINS ROAD   10466  7186532222   \n",
       "284675  WHITE PLAINS ROAD   10466  7186532222   \n",
       "\n",
       "                                      cuisine_description inspection_date  \\\n",
       "270497  Latin (Cuban, Dominican, Puerto Rican, South &...      2017-03-16   \n",
       "284675  Latin (Cuban, Dominican, Puerto Rican, South &...      2017-03-16   \n",
       "\n",
       "                                                 action violation_code  \\\n",
       "270497  Violations were cited in the following area(s).            08A   \n",
       "284675  Violations were cited in the following area(s).            04L   \n",
       "\n",
       "                                    violation_description critical_flag  \\\n",
       "270497  Facility not vermin proof. Harborage or condit...  Not Critical   \n",
       "284675  Evidence of mice or live mice present in facil...      Critical   \n",
       "\n",
       "        score grade grade_date record_date  \\\n",
       "270497   11.0     A 2017-03-16  2017-08-28   \n",
       "284675   11.0     A 2017-03-16  2017-08-28   \n",
       "\n",
       "                              inspection_type  \\\n",
       "270497  Cycle Inspection / Initial Inspection   \n",
       "284675  Cycle Inspection / Initial Inspection   \n",
       "\n",
       "                                   address  \n",
       "270497  4120 WHITE PLAINS ROAD BRONX 10466  \n",
       "284675  4120 WHITE PLAINS ROAD BRONX 10466  "
      ]
     },
     "execution_count": 769,
     "metadata": {},
     "output_type": "execute_result"
    }
   ],
   "source": [
    "df[(df.dba == '#1 SABOR LATINO RESTAURANT') & (df.inspection_date == '2017-03-16')]"
   ]
  },
  {
   "cell_type": "code",
   "execution_count": 744,
   "metadata": {
    "ExecuteTime": {
     "end_time": "2017-10-22T00:20:14.131359Z",
     "start_time": "2017-10-22T00:20:13.983772Z"
    }
   },
   "outputs": [],
   "source": [
    "testDF['inspection_date'] = testDF.inspection_date.astype(str)"
   ]
  },
  {
   "cell_type": "code",
   "execution_count": 750,
   "metadata": {
    "ExecuteTime": {
     "end_time": "2017-10-22T00:20:37.798763Z",
     "start_time": "2017-10-22T00:20:37.775059Z"
    }
   },
   "outputs": [
    {
     "data": {
      "text/plain": [
       "[['#1 Chinese Restaurant', '2016-09-30'],\n",
       " ['#1 GARDEN CHINESE', '2017-08-23'],\n",
       " ['#1 Natural Juice Bar', '2017-08-17'],\n",
       " ['#1 SABOR LATINO RESTAURANT', '2017-03-16'],\n",
       " ['$1 PIZZA', '2017-05-22'],\n",
       " ['$1 PIZZA $2 BEER', '2017-08-23']]"
      ]
     },
     "execution_count": 750,
     "metadata": {},
     "output_type": "execute_result"
    }
   ],
   "source": [
    "# create a dictionary of the restaurant name and the inspection date\n",
    "l = testDF.reset_index()[['dba','inspection_date']].values.tolist()\n",
    "l[:6]"
   ]
  },
  {
   "cell_type": "code",
   "execution_count": 758,
   "metadata": {
    "ExecuteTime": {
     "end_time": "2017-10-22T00:22:58.053244Z",
     "start_time": "2017-10-22T00:22:58.049744Z"
    }
   },
   "outputs": [
    {
     "data": {
      "text/plain": [
       "25985"
      ]
     },
     "execution_count": 758,
     "metadata": {},
     "output_type": "execute_result"
    }
   ],
   "source": [
    "len(l)"
   ]
  },
  {
   "cell_type": "code",
   "execution_count": 922,
   "metadata": {
    "ExecuteTime": {
     "end_time": "2017-10-22T03:18:03.349807Z",
     "start_time": "2017-10-22T03:18:03.345937Z"
    }
   },
   "outputs": [
    {
     "data": {
      "text/plain": [
       "(25985, 19)"
      ]
     },
     "execution_count": 922,
     "metadata": {},
     "output_type": "execute_result"
    }
   ],
   "source": [
    "testDF.shape"
   ]
  },
  {
   "cell_type": "code",
   "execution_count": 775,
   "metadata": {
    "ExecuteTime": {
     "end_time": "2017-10-22T00:27:06.143515Z",
     "start_time": "2017-10-22T00:27:06.138609Z"
    }
   },
   "outputs": [
    {
     "data": {
      "text/html": [
       "<div>\n",
       "<style>\n",
       "    .dataframe thead tr:only-child th {\n",
       "        text-align: right;\n",
       "    }\n",
       "\n",
       "    .dataframe thead th {\n",
       "        text-align: left;\n",
       "    }\n",
       "\n",
       "    .dataframe tbody tr th {\n",
       "        vertical-align: top;\n",
       "    }\n",
       "</style>\n",
       "<table border=\"1\" class=\"dataframe\">\n",
       "  <thead>\n",
       "    <tr style=\"text-align: right;\">\n",
       "      <th></th>\n",
       "    </tr>\n",
       "  </thead>\n",
       "  <tbody>\n",
       "  </tbody>\n",
       "</table>\n",
       "</div>"
      ],
      "text/plain": [
       "Empty DataFrame\n",
       "Columns: []\n",
       "Index: []"
      ]
     },
     "execution_count": 775,
     "metadata": {},
     "output_type": "execute_result"
    }
   ],
   "source": [
    "maxDF.head()"
   ]
  },
  {
   "cell_type": "code",
   "execution_count": 786,
   "metadata": {
    "ExecuteTime": {
     "end_time": "2017-10-22T00:30:20.844497Z",
     "start_time": "2017-10-22T00:30:20.837780Z"
    }
   },
   "outputs": [],
   "source": [
    "def date_max(l,df):\n",
    "    maxDF = pd.DataFrame()\n",
    "    \n",
    "    for val in l:\n",
    "        ndf = df[(df.dba == val[0]) & (df.inspection_date == val[1])]\n",
    "        maxDF = maxDF.append(ndf)\n",
    "    return maxDF\n",
    "        "
   ]
  },
  {
   "cell_type": "code",
   "execution_count": 787,
   "metadata": {
    "ExecuteTime": {
     "end_time": "2017-10-22T01:01:07.634187Z",
     "start_time": "2017-10-22T00:30:54.070569Z"
    }
   },
   "outputs": [],
   "source": [
    "dateDF = date_max(l,df)"
   ]
  },
  {
   "cell_type": "code",
   "execution_count": 788,
   "metadata": {
    "ExecuteTime": {
     "end_time": "2017-10-22T01:01:07.640268Z",
     "start_time": "2017-10-22T01:01:07.636340Z"
    }
   },
   "outputs": [
    {
     "data": {
      "text/plain": [
       "(71667, 19)"
      ]
     },
     "execution_count": 788,
     "metadata": {},
     "output_type": "execute_result"
    }
   ],
   "source": [
    "dateDF.shape"
   ]
  },
  {
   "cell_type": "code",
   "execution_count": 790,
   "metadata": {
    "ExecuteTime": {
     "end_time": "2017-10-22T01:49:34.012432Z",
     "start_time": "2017-10-22T01:49:33.857319Z"
    },
    "collapsed": true
   },
   "outputs": [],
   "source": [
    "dateDF.to_pickle('data/date.pkl')"
   ]
  },
  {
   "cell_type": "code",
   "execution_count": 793,
   "metadata": {
    "ExecuteTime": {
     "end_time": "2017-10-22T01:57:38.732553Z",
     "start_time": "2017-10-22T01:57:38.728355Z"
    }
   },
   "outputs": [
    {
     "data": {
      "text/plain": [
       "Timestamp('2017-08-26 00:00:00')"
      ]
     },
     "execution_count": 793,
     "metadata": {},
     "output_type": "execute_result"
    }
   ],
   "source": [
    "dateDF.inspection_date.max()"
   ]
  },
  {
   "cell_type": "code",
   "execution_count": 794,
   "metadata": {
    "ExecuteTime": {
     "end_time": "2017-10-22T01:57:47.660228Z",
     "start_time": "2017-10-22T01:57:47.655359Z"
    }
   },
   "outputs": [
    {
     "data": {
      "text/plain": [
       "Timestamp('2014-06-07 00:00:00')"
      ]
     },
     "execution_count": 794,
     "metadata": {},
     "output_type": "execute_result"
    }
   ],
   "source": [
    "dateDF.inspection_date.min()"
   ]
  },
  {
   "cell_type": "code",
   "execution_count": 792,
   "metadata": {
    "ExecuteTime": {
     "end_time": "2017-10-22T01:54:50.031780Z",
     "start_time": "2017-10-22T01:54:47.669806Z"
    },
    "collapsed": true
   },
   "outputs": [],
   "source": [
    "#dateDF.to_csv('date.csv')"
   ]
  },
  {
   "cell_type": "code",
   "execution_count": 791,
   "metadata": {
    "ExecuteTime": {
     "end_time": "2017-10-22T01:49:42.816732Z",
     "start_time": "2017-10-22T01:49:42.793133Z"
    }
   },
   "outputs": [
    {
     "data": {
      "text/html": [
       "<div>\n",
       "<style>\n",
       "    .dataframe thead tr:only-child th {\n",
       "        text-align: right;\n",
       "    }\n",
       "\n",
       "    .dataframe thead th {\n",
       "        text-align: left;\n",
       "    }\n",
       "\n",
       "    .dataframe tbody tr th {\n",
       "        vertical-align: top;\n",
       "    }\n",
       "</style>\n",
       "<table border=\"1\" class=\"dataframe\">\n",
       "  <thead>\n",
       "    <tr style=\"text-align: right;\">\n",
       "      <th></th>\n",
       "      <th>camis</th>\n",
       "      <th>dba</th>\n",
       "      <th>boro</th>\n",
       "      <th>building</th>\n",
       "      <th>street</th>\n",
       "      <th>zipcode</th>\n",
       "      <th>phone</th>\n",
       "      <th>cuisine_description</th>\n",
       "      <th>inspection_date</th>\n",
       "      <th>action</th>\n",
       "      <th>violation_code</th>\n",
       "      <th>violation_description</th>\n",
       "      <th>critical_flag</th>\n",
       "      <th>score</th>\n",
       "      <th>grade</th>\n",
       "      <th>grade_date</th>\n",
       "      <th>record_date</th>\n",
       "      <th>inspection_type</th>\n",
       "      <th>address</th>\n",
       "    </tr>\n",
       "  </thead>\n",
       "  <tbody>\n",
       "    <tr>\n",
       "      <th>114442</th>\n",
       "      <td>50050805</td>\n",
       "      <td>#1 Chinese Restaurant</td>\n",
       "      <td>MANHATTAN</td>\n",
       "      <td>825</td>\n",
       "      <td>W 181ST ST</td>\n",
       "      <td>10033</td>\n",
       "      <td>9173258805</td>\n",
       "      <td>Chinese</td>\n",
       "      <td>2016-09-30</td>\n",
       "      <td>Violations were cited in the following area(s).</td>\n",
       "      <td>06C</td>\n",
       "      <td>Food not protected from potential source of co...</td>\n",
       "      <td>Critical</td>\n",
       "      <td>13.0</td>\n",
       "      <td>A</td>\n",
       "      <td>2016-09-30</td>\n",
       "      <td>2017-08-28</td>\n",
       "      <td>Pre-permit (Operational) / Initial Inspection</td>\n",
       "      <td>825 W 181ST ST MANHATTAN 10033</td>\n",
       "    </tr>\n",
       "    <tr>\n",
       "      <th>171822</th>\n",
       "      <td>50050805</td>\n",
       "      <td>#1 Chinese Restaurant</td>\n",
       "      <td>MANHATTAN</td>\n",
       "      <td>825</td>\n",
       "      <td>W 181ST ST</td>\n",
       "      <td>10033</td>\n",
       "      <td>9173258805</td>\n",
       "      <td>Chinese</td>\n",
       "      <td>2016-09-30</td>\n",
       "      <td>Violations were cited in the following area(s).</td>\n",
       "      <td>06D</td>\n",
       "      <td>Food contact surface not properly washed, rins...</td>\n",
       "      <td>Critical</td>\n",
       "      <td>13.0</td>\n",
       "      <td>A</td>\n",
       "      <td>2016-09-30</td>\n",
       "      <td>2017-08-28</td>\n",
       "      <td>Pre-permit (Operational) / Initial Inspection</td>\n",
       "      <td>825 W 181ST ST MANHATTAN 10033</td>\n",
       "    </tr>\n",
       "    <tr>\n",
       "      <th>270114</th>\n",
       "      <td>50050805</td>\n",
       "      <td>#1 Chinese Restaurant</td>\n",
       "      <td>MANHATTAN</td>\n",
       "      <td>825</td>\n",
       "      <td>W 181ST ST</td>\n",
       "      <td>10033</td>\n",
       "      <td>9173258805</td>\n",
       "      <td>Chinese</td>\n",
       "      <td>2016-09-30</td>\n",
       "      <td>Violations were cited in the following area(s).</td>\n",
       "      <td>10F</td>\n",
       "      <td>Non-food contact surface improperly constructe...</td>\n",
       "      <td>Not Critical</td>\n",
       "      <td>13.0</td>\n",
       "      <td>A</td>\n",
       "      <td>2016-09-30</td>\n",
       "      <td>2017-08-28</td>\n",
       "      <td>Pre-permit (Operational) / Initial Inspection</td>\n",
       "      <td>825 W 181ST ST MANHATTAN 10033</td>\n",
       "    </tr>\n",
       "    <tr>\n",
       "      <th>147868</th>\n",
       "      <td>41568346</td>\n",
       "      <td>#1 GARDEN CHINESE</td>\n",
       "      <td>BROOKLYN</td>\n",
       "      <td>221</td>\n",
       "      <td>PROSPECT PARK WEST</td>\n",
       "      <td>11215</td>\n",
       "      <td>7188321795</td>\n",
       "      <td>Chinese</td>\n",
       "      <td>2017-08-23</td>\n",
       "      <td>Violations were cited in the following area(s).</td>\n",
       "      <td>06A</td>\n",
       "      <td>Personal cleanliness inadequate. Outer garment...</td>\n",
       "      <td>Critical</td>\n",
       "      <td>12.0</td>\n",
       "      <td>A</td>\n",
       "      <td>2017-08-23</td>\n",
       "      <td>2017-08-28</td>\n",
       "      <td>Cycle Inspection / Initial Inspection</td>\n",
       "      <td>221 PROSPECT PARK WEST BROOKLYN 11215</td>\n",
       "    </tr>\n",
       "    <tr>\n",
       "      <th>350094</th>\n",
       "      <td>41568346</td>\n",
       "      <td>#1 GARDEN CHINESE</td>\n",
       "      <td>BROOKLYN</td>\n",
       "      <td>221</td>\n",
       "      <td>PROSPECT PARK WEST</td>\n",
       "      <td>11215</td>\n",
       "      <td>7188321795</td>\n",
       "      <td>Chinese</td>\n",
       "      <td>2017-08-23</td>\n",
       "      <td>Violations were cited in the following area(s).</td>\n",
       "      <td>02G</td>\n",
       "      <td>Cold food item held above 41Âº F (smoked fish ...</td>\n",
       "      <td>Critical</td>\n",
       "      <td>12.0</td>\n",
       "      <td>A</td>\n",
       "      <td>2017-08-23</td>\n",
       "      <td>2017-08-28</td>\n",
       "      <td>Cycle Inspection / Initial Inspection</td>\n",
       "      <td>221 PROSPECT PARK WEST BROOKLYN 11215</td>\n",
       "    </tr>\n",
       "  </tbody>\n",
       "</table>\n",
       "</div>"
      ],
      "text/plain": [
       "           camis                    dba       boro building  \\\n",
       "114442  50050805  #1 Chinese Restaurant  MANHATTAN      825   \n",
       "171822  50050805  #1 Chinese Restaurant  MANHATTAN      825   \n",
       "270114  50050805  #1 Chinese Restaurant  MANHATTAN      825   \n",
       "147868  41568346      #1 GARDEN CHINESE   BROOKLYN      221   \n",
       "350094  41568346      #1 GARDEN CHINESE   BROOKLYN      221   \n",
       "\n",
       "                    street zipcode       phone cuisine_description  \\\n",
       "114442          W 181ST ST   10033  9173258805             Chinese   \n",
       "171822          W 181ST ST   10033  9173258805             Chinese   \n",
       "270114          W 181ST ST   10033  9173258805             Chinese   \n",
       "147868  PROSPECT PARK WEST   11215  7188321795             Chinese   \n",
       "350094  PROSPECT PARK WEST   11215  7188321795             Chinese   \n",
       "\n",
       "       inspection_date                                           action  \\\n",
       "114442      2016-09-30  Violations were cited in the following area(s).   \n",
       "171822      2016-09-30  Violations were cited in the following area(s).   \n",
       "270114      2016-09-30  Violations were cited in the following area(s).   \n",
       "147868      2017-08-23  Violations were cited in the following area(s).   \n",
       "350094      2017-08-23  Violations were cited in the following area(s).   \n",
       "\n",
       "       violation_code                              violation_description  \\\n",
       "114442            06C  Food not protected from potential source of co...   \n",
       "171822            06D  Food contact surface not properly washed, rins...   \n",
       "270114            10F  Non-food contact surface improperly constructe...   \n",
       "147868            06A  Personal cleanliness inadequate. Outer garment...   \n",
       "350094            02G  Cold food item held above 41Âº F (smoked fish ...   \n",
       "\n",
       "       critical_flag  score grade grade_date record_date  \\\n",
       "114442      Critical   13.0     A 2016-09-30  2017-08-28   \n",
       "171822      Critical   13.0     A 2016-09-30  2017-08-28   \n",
       "270114  Not Critical   13.0     A 2016-09-30  2017-08-28   \n",
       "147868      Critical   12.0     A 2017-08-23  2017-08-28   \n",
       "350094      Critical   12.0     A 2017-08-23  2017-08-28   \n",
       "\n",
       "                                      inspection_type  \\\n",
       "114442  Pre-permit (Operational) / Initial Inspection   \n",
       "171822  Pre-permit (Operational) / Initial Inspection   \n",
       "270114  Pre-permit (Operational) / Initial Inspection   \n",
       "147868          Cycle Inspection / Initial Inspection   \n",
       "350094          Cycle Inspection / Initial Inspection   \n",
       "\n",
       "                                      address  \n",
       "114442         825 W 181ST ST MANHATTAN 10033  \n",
       "171822         825 W 181ST ST MANHATTAN 10033  \n",
       "270114         825 W 181ST ST MANHATTAN 10033  \n",
       "147868  221 PROSPECT PARK WEST BROOKLYN 11215  \n",
       "350094  221 PROSPECT PARK WEST BROOKLYN 11215  "
      ]
     },
     "execution_count": 791,
     "metadata": {},
     "output_type": "execute_result"
    }
   ],
   "source": [
    "dateDF.head()"
   ]
  },
  {
   "cell_type": "code",
   "execution_count": 859,
   "metadata": {
    "ExecuteTime": {
     "end_time": "2017-10-22T02:41:42.348796Z",
     "start_time": "2017-10-22T02:41:42.318009Z"
    },
    "collapsed": true
   },
   "outputs": [],
   "source": [
    "dateDF['key'] = dateDF.dba + '---' + dateDF.address"
   ]
  },
  {
   "cell_type": "code",
   "execution_count": 803,
   "metadata": {
    "ExecuteTime": {
     "end_time": "2017-10-22T02:20:15.461928Z",
     "start_time": "2017-10-22T02:20:15.459377Z"
    },
    "collapsed": true
   },
   "outputs": [],
   "source": [
    "from collections import defaultdict"
   ]
  },
  {
   "cell_type": "code",
   "execution_count": 860,
   "metadata": {
    "ExecuteTime": {
     "end_time": "2017-10-22T02:41:54.742053Z",
     "start_time": "2017-10-22T02:41:54.732470Z"
    }
   },
   "outputs": [],
   "source": [
    "def violation_dict(df):\n",
    "    d = defaultdict(list)\n",
    "    i=0\n",
    "    for i in range(len(df)):\n",
    "        value = df['violation_code'].iloc[i]\n",
    "        name = df['key'].iloc[i]\n",
    "        if name not in d:\n",
    "            d[name] = [value]   \n",
    "        else:\n",
    "            d[name].append(value)\n",
    "    return d   "
   ]
  },
  {
   "cell_type": "code",
   "execution_count": 870,
   "metadata": {
    "ExecuteTime": {
     "end_time": "2017-10-22T02:46:21.368271Z",
     "start_time": "2017-10-22T02:46:19.070481Z"
    }
   },
   "outputs": [],
   "source": [
    "vD = violation_dict(dateDF)"
   ]
  },
  {
   "cell_type": "code",
   "execution_count": 903,
   "metadata": {
    "ExecuteTime": {
     "end_time": "2017-10-22T03:11:11.374307Z",
     "start_time": "2017-10-22T03:10:14.255472Z"
    }
   },
   "outputs": [],
   "source": [
    "vDF = pd.DataFrame(columns=('key','violations'))\n",
    "\n",
    "for k,v in vD.items():\n",
    "    vDF = vDF.append({'key':k,'violations':v},ignore_index=True)\n",
    "    "
   ]
  },
  {
   "cell_type": "code",
   "execution_count": 904,
   "metadata": {
    "ExecuteTime": {
     "end_time": "2017-10-22T03:11:11.379469Z",
     "start_time": "2017-10-22T03:11:11.376065Z"
    }
   },
   "outputs": [
    {
     "data": {
      "text/plain": [
       "(25242, 2)"
      ]
     },
     "execution_count": 904,
     "metadata": {},
     "output_type": "execute_result"
    }
   ],
   "source": [
    "vDF.shape"
   ]
  },
  {
   "cell_type": "code",
   "execution_count": 905,
   "metadata": {
    "ExecuteTime": {
     "end_time": "2017-10-22T03:11:11.391246Z",
     "start_time": "2017-10-22T03:11:11.381373Z"
    },
    "collapsed": true
   },
   "outputs": [],
   "source": [
    "def crit_dict(df):\n",
    "    d = defaultdict(list)\n",
    "    i=0\n",
    "    for i in range(len(df)):\n",
    "        value = df['critical_flag'].iloc[i]\n",
    "        name = df['key'].iloc[i]\n",
    "        if name not in d:\n",
    "            d[name] = [value]   \n",
    "        else:\n",
    "            d[name].append(value)\n",
    "    return d   "
   ]
  },
  {
   "cell_type": "code",
   "execution_count": 906,
   "metadata": {
    "ExecuteTime": {
     "end_time": "2017-10-22T03:11:13.776127Z",
     "start_time": "2017-10-22T03:11:11.392952Z"
    },
    "collapsed": true
   },
   "outputs": [],
   "source": [
    "cD = crit_dict(dateDF)"
   ]
  },
  {
   "cell_type": "code",
   "execution_count": 907,
   "metadata": {
    "ExecuteTime": {
     "end_time": "2017-10-22T03:12:17.699536Z",
     "start_time": "2017-10-22T03:11:13.777658Z"
    }
   },
   "outputs": [],
   "source": [
    "cDF = pd.DataFrame(columns=('key2','critical'))\n",
    "\n",
    "for k,v in cD.items():\n",
    "    cDF = cDF.append({'key2':k,'critical':v},ignore_index=True)"
   ]
  },
  {
   "cell_type": "code",
   "execution_count": 908,
   "metadata": {
    "ExecuteTime": {
     "end_time": "2017-10-22T03:12:17.705383Z",
     "start_time": "2017-10-22T03:12:17.701459Z"
    }
   },
   "outputs": [
    {
     "data": {
      "text/plain": [
       "(25242, 2)"
      ]
     },
     "execution_count": 908,
     "metadata": {},
     "output_type": "execute_result"
    }
   ],
   "source": [
    "cDF.shape"
   ]
  },
  {
   "cell_type": "code",
   "execution_count": 910,
   "metadata": {
    "ExecuteTime": {
     "end_time": "2017-10-22T03:12:52.585794Z",
     "start_time": "2017-10-22T03:12:52.559991Z"
    }
   },
   "outputs": [],
   "source": [
    "aggDF = vDF.merge(cDF,left_on='key',right_on='key2')"
   ]
  },
  {
   "cell_type": "code",
   "execution_count": 912,
   "metadata": {
    "ExecuteTime": {
     "end_time": "2017-10-22T03:13:03.881838Z",
     "start_time": "2017-10-22T03:13:03.877782Z"
    }
   },
   "outputs": [
    {
     "data": {
      "text/plain": [
       "(25242, 4)"
      ]
     },
     "execution_count": 912,
     "metadata": {},
     "output_type": "execute_result"
    }
   ],
   "source": [
    "aggDF.shape"
   ]
  },
  {
   "cell_type": "code",
   "execution_count": 917,
   "metadata": {
    "ExecuteTime": {
     "end_time": "2017-10-22T03:15:27.853913Z",
     "start_time": "2017-10-22T03:15:27.844139Z"
    }
   },
   "outputs": [
    {
     "data": {
      "text/html": [
       "<div>\n",
       "<style>\n",
       "    .dataframe thead tr:only-child th {\n",
       "        text-align: right;\n",
       "    }\n",
       "\n",
       "    .dataframe thead th {\n",
       "        text-align: left;\n",
       "    }\n",
       "\n",
       "    .dataframe tbody tr th {\n",
       "        vertical-align: top;\n",
       "    }\n",
       "</style>\n",
       "<table border=\"1\" class=\"dataframe\">\n",
       "  <thead>\n",
       "    <tr style=\"text-align: right;\">\n",
       "      <th></th>\n",
       "      <th>key</th>\n",
       "      <th>violations</th>\n",
       "      <th>critical</th>\n",
       "    </tr>\n",
       "  </thead>\n",
       "  <tbody>\n",
       "    <tr>\n",
       "      <th>0</th>\n",
       "      <td>#1 Chinese Restaurant---825 W 181ST ST MANHATT...</td>\n",
       "      <td>[06C, 06D, 10F]</td>\n",
       "      <td>Critical, Critical, Not Critical</td>\n",
       "    </tr>\n",
       "    <tr>\n",
       "      <th>1</th>\n",
       "      <td>#1 GARDEN CHINESE---221 PROSPECT PARK WEST BRO...</td>\n",
       "      <td>[06A, 02G]</td>\n",
       "      <td>Critical, Critical</td>\n",
       "    </tr>\n",
       "    <tr>\n",
       "      <th>2</th>\n",
       "      <td>#1 Natural Juice Bar---685 SENECA AVE QUEENS 1...</td>\n",
       "      <td>[08A, 04L]</td>\n",
       "      <td>Not Critical, Critical</td>\n",
       "    </tr>\n",
       "    <tr>\n",
       "      <th>3</th>\n",
       "      <td>#1 SABOR LATINO RESTAURANT---4120 WHITE PLAINS...</td>\n",
       "      <td>[08A, 04L]</td>\n",
       "      <td>Not Critical, Critical</td>\n",
       "    </tr>\n",
       "    <tr>\n",
       "      <th>4</th>\n",
       "      <td>$1 PIZZA---1276 FULTON ST BROOKLYN 11216</td>\n",
       "      <td>[10H, 06E]</td>\n",
       "      <td>Not Critical, Critical</td>\n",
       "    </tr>\n",
       "  </tbody>\n",
       "</table>\n",
       "</div>"
      ],
      "text/plain": [
       "                                                 key       violations  \\\n",
       "0  #1 Chinese Restaurant---825 W 181ST ST MANHATT...  [06C, 06D, 10F]   \n",
       "1  #1 GARDEN CHINESE---221 PROSPECT PARK WEST BRO...       [06A, 02G]   \n",
       "2  #1 Natural Juice Bar---685 SENECA AVE QUEENS 1...       [08A, 04L]   \n",
       "3  #1 SABOR LATINO RESTAURANT---4120 WHITE PLAINS...       [08A, 04L]   \n",
       "4           $1 PIZZA---1276 FULTON ST BROOKLYN 11216       [10H, 06E]   \n",
       "\n",
       "                           critical  \n",
       "0  Critical, Critical, Not Critical  \n",
       "1                Critical, Critical  \n",
       "2            Not Critical, Critical  \n",
       "3            Not Critical, Critical  \n",
       "4            Not Critical, Critical  "
      ]
     },
     "execution_count": 917,
     "metadata": {},
     "output_type": "execute_result"
    }
   ],
   "source": [
    "aggDF.head()"
   ]
  },
  {
   "cell_type": "code",
   "execution_count": 914,
   "metadata": {
    "ExecuteTime": {
     "end_time": "2017-10-22T03:13:33.395538Z",
     "start_time": "2017-10-22T03:13:33.385758Z"
    },
    "collapsed": true
   },
   "outputs": [],
   "source": [
    "aggDF.drop('key2',inplace=True,axis=1)"
   ]
  },
  {
   "cell_type": "code",
   "execution_count": 916,
   "metadata": {
    "ExecuteTime": {
     "end_time": "2017-10-22T03:15:21.365927Z",
     "start_time": "2017-10-22T03:15:21.352664Z"
    }
   },
   "outputs": [],
   "source": [
    "aggDF['critical'] = aggDF['critical'].apply(lambda x: ', '.join(x))"
   ]
  },
  {
   "cell_type": "code",
   "execution_count": 919,
   "metadata": {
    "ExecuteTime": {
     "end_time": "2017-10-22T03:16:26.874057Z",
     "start_time": "2017-10-22T03:16:26.832055Z"
    }
   },
   "outputs": [],
   "source": [
    "aggDF['violations'] = aggDF['violations'].apply(lambda x: ', '.join(str(v) for v in x))"
   ]
  },
  {
   "cell_type": "code",
   "execution_count": 923,
   "metadata": {
    "ExecuteTime": {
     "end_time": "2017-10-22T03:19:15.432575Z",
     "start_time": "2017-10-22T03:19:15.404235Z"
    },
    "collapsed": true
   },
   "outputs": [],
   "source": [
    "aggDF.to_pickle('data/aggregated.pkl')"
   ]
  },
  {
   "cell_type": "code",
   "execution_count": 927,
   "metadata": {
    "ExecuteTime": {
     "end_time": "2017-10-22T03:21:10.648041Z",
     "start_time": "2017-10-22T03:21:10.635076Z"
    }
   },
   "outputs": [],
   "source": [
    "testDF['key'] = testDF.dba + '---' + testDF.address"
   ]
  },
  {
   "cell_type": "code",
   "execution_count": 928,
   "metadata": {
    "ExecuteTime": {
     "end_time": "2017-10-22T03:21:51.476392Z",
     "start_time": "2017-10-22T03:21:51.402010Z"
    },
    "collapsed": true
   },
   "outputs": [],
   "source": [
    "cleanDF = aggDF.merge(testDF,how='left',on='key')"
   ]
  },
  {
   "cell_type": "code",
   "execution_count": 929,
   "metadata": {
    "ExecuteTime": {
     "end_time": "2017-10-22T03:21:55.832701Z",
     "start_time": "2017-10-22T03:21:55.828829Z"
    }
   },
   "outputs": [
    {
     "data": {
      "text/plain": [
       "(25242, 22)"
      ]
     },
     "execution_count": 929,
     "metadata": {},
     "output_type": "execute_result"
    }
   ],
   "source": [
    "cleanDF.shape"
   ]
  },
  {
   "cell_type": "code",
   "execution_count": 930,
   "metadata": {
    "ExecuteTime": {
     "end_time": "2017-10-22T03:22:10.203784Z",
     "start_time": "2017-10-22T03:22:10.199524Z"
    }
   },
   "outputs": [
    {
     "data": {
      "text/plain": [
       "['key',\n",
       " 'violations',\n",
       " 'critical',\n",
       " 'camis',\n",
       " 'dba',\n",
       " 'boro',\n",
       " 'building',\n",
       " 'street',\n",
       " 'zipcode',\n",
       " 'phone',\n",
       " 'cuisine_description',\n",
       " 'inspection_date',\n",
       " 'action',\n",
       " 'violation_code',\n",
       " 'violation_description',\n",
       " 'critical_flag',\n",
       " 'score',\n",
       " 'grade',\n",
       " 'grade_date',\n",
       " 'record_date',\n",
       " 'inspection_type',\n",
       " 'address']"
      ]
     },
     "execution_count": 930,
     "metadata": {},
     "output_type": "execute_result"
    }
   ],
   "source": [
    "cleanDF.columns.tolist()"
   ]
  },
  {
   "cell_type": "code",
   "execution_count": 934,
   "metadata": {
    "ExecuteTime": {
     "end_time": "2017-10-22T03:25:34.390192Z",
     "start_time": "2017-10-22T03:25:34.380317Z"
    }
   },
   "outputs": [
    {
     "data": {
      "text/plain": [
       "'2017-08-26'"
      ]
     },
     "execution_count": 934,
     "metadata": {},
     "output_type": "execute_result"
    }
   ],
   "source": [
    "cleanDF.inspection_date.max()"
   ]
  },
  {
   "cell_type": "code",
   "execution_count": 935,
   "metadata": {
    "ExecuteTime": {
     "end_time": "2017-10-22T03:25:38.299470Z",
     "start_time": "2017-10-22T03:25:38.297102Z"
    },
    "collapsed": true
   },
   "outputs": [],
   "source": [
    "# start_date = '01/01/2014'\n",
    "# end_date = '08/27/2017'\n",
    "# mask = (df['inspection_date'] >= start_date) & (df['inspection_date'] <= end_date)"
   ]
  },
  {
   "cell_type": "code",
   "execution_count": 946,
   "metadata": {
    "ExecuteTime": {
     "end_time": "2017-10-22T03:27:26.843560Z",
     "start_time": "2017-10-22T03:27:26.836233Z"
    },
    "collapsed": true
   },
   "outputs": [],
   "source": [
    "df = cleanDF.copy()"
   ]
  },
  {
   "cell_type": "code",
   "execution_count": 947,
   "metadata": {
    "ExecuteTime": {
     "end_time": "2017-10-22T03:27:27.203439Z",
     "start_time": "2017-10-22T03:27:27.199540Z"
    }
   },
   "outputs": [
    {
     "data": {
      "text/plain": [
       "(25242, 22)"
      ]
     },
     "execution_count": 947,
     "metadata": {},
     "output_type": "execute_result"
    }
   ],
   "source": [
    "df.shape"
   ]
  },
  {
   "cell_type": "code",
   "execution_count": 948,
   "metadata": {
    "ExecuteTime": {
     "end_time": "2017-10-22T03:27:30.270709Z",
     "start_time": "2017-10-22T03:27:30.264534Z"
    }
   },
   "outputs": [
    {
     "data": {
      "text/plain": [
       "356"
      ]
     },
     "execution_count": 948,
     "metadata": {},
     "output_type": "execute_result"
    }
   ],
   "source": [
    "df.violation_code.isnull().sum()"
   ]
  },
  {
   "cell_type": "code",
   "execution_count": 949,
   "metadata": {
    "ExecuteTime": {
     "end_time": "2017-10-22T03:27:33.466416Z",
     "start_time": "2017-10-22T03:27:33.449398Z"
    },
    "collapsed": true
   },
   "outputs": [],
   "source": [
    "df.dropna(subset=['violation_code'],axis=0,inplace=True)"
   ]
  },
  {
   "cell_type": "code",
   "execution_count": 950,
   "metadata": {
    "ExecuteTime": {
     "end_time": "2017-10-22T03:27:37.233354Z",
     "start_time": "2017-10-22T03:27:37.204720Z"
    }
   },
   "outputs": [
    {
     "data": {
      "text/html": [
       "<div>\n",
       "<style>\n",
       "    .dataframe thead tr:only-child th {\n",
       "        text-align: right;\n",
       "    }\n",
       "\n",
       "    .dataframe thead th {\n",
       "        text-align: left;\n",
       "    }\n",
       "\n",
       "    .dataframe tbody tr th {\n",
       "        vertical-align: top;\n",
       "    }\n",
       "</style>\n",
       "<table border=\"1\" class=\"dataframe\">\n",
       "  <thead>\n",
       "    <tr style=\"text-align: right;\">\n",
       "      <th></th>\n",
       "      <th>key</th>\n",
       "      <th>violations</th>\n",
       "      <th>critical</th>\n",
       "      <th>camis</th>\n",
       "      <th>dba</th>\n",
       "      <th>boro</th>\n",
       "      <th>building</th>\n",
       "      <th>street</th>\n",
       "      <th>zipcode</th>\n",
       "      <th>phone</th>\n",
       "      <th>...</th>\n",
       "      <th>action</th>\n",
       "      <th>violation_code</th>\n",
       "      <th>violation_description</th>\n",
       "      <th>critical_flag</th>\n",
       "      <th>score</th>\n",
       "      <th>grade</th>\n",
       "      <th>grade_date</th>\n",
       "      <th>record_date</th>\n",
       "      <th>inspection_type</th>\n",
       "      <th>address</th>\n",
       "    </tr>\n",
       "  </thead>\n",
       "  <tbody>\n",
       "    <tr>\n",
       "      <th>0</th>\n",
       "      <td>#1 Chinese Restaurant---825 W 181ST ST MANHATT...</td>\n",
       "      <td>06C, 06D, 10F</td>\n",
       "      <td>Critical, Critical, Not Critical</td>\n",
       "      <td>50050805</td>\n",
       "      <td>#1 Chinese Restaurant</td>\n",
       "      <td>MANHATTAN</td>\n",
       "      <td>825</td>\n",
       "      <td>W 181ST ST</td>\n",
       "      <td>10033</td>\n",
       "      <td>9173258805</td>\n",
       "      <td>...</td>\n",
       "      <td>Violations were cited in the following area(s).</td>\n",
       "      <td>06C</td>\n",
       "      <td>Food not protected from potential source of co...</td>\n",
       "      <td>Critical</td>\n",
       "      <td>13.0</td>\n",
       "      <td>A</td>\n",
       "      <td>2016-09-30</td>\n",
       "      <td>2017-08-28</td>\n",
       "      <td>Pre-permit (Operational) / Initial Inspection</td>\n",
       "      <td>825 W 181ST ST MANHATTAN 10033</td>\n",
       "    </tr>\n",
       "    <tr>\n",
       "      <th>1</th>\n",
       "      <td>#1 GARDEN CHINESE---221 PROSPECT PARK WEST BRO...</td>\n",
       "      <td>06A, 02G</td>\n",
       "      <td>Critical, Critical</td>\n",
       "      <td>41568346</td>\n",
       "      <td>#1 GARDEN CHINESE</td>\n",
       "      <td>BROOKLYN</td>\n",
       "      <td>221</td>\n",
       "      <td>PROSPECT PARK WEST</td>\n",
       "      <td>11215</td>\n",
       "      <td>7188321795</td>\n",
       "      <td>...</td>\n",
       "      <td>Violations were cited in the following area(s).</td>\n",
       "      <td>06A</td>\n",
       "      <td>Personal cleanliness inadequate. Outer garment...</td>\n",
       "      <td>Critical</td>\n",
       "      <td>12.0</td>\n",
       "      <td>A</td>\n",
       "      <td>2017-08-23</td>\n",
       "      <td>2017-08-28</td>\n",
       "      <td>Cycle Inspection / Initial Inspection</td>\n",
       "      <td>221 PROSPECT PARK WEST BROOKLYN 11215</td>\n",
       "    </tr>\n",
       "    <tr>\n",
       "      <th>2</th>\n",
       "      <td>#1 Natural Juice Bar---685 SENECA AVE QUEENS 1...</td>\n",
       "      <td>08A, 04L</td>\n",
       "      <td>Not Critical, Critical</td>\n",
       "      <td>50051964</td>\n",
       "      <td>#1 Natural Juice Bar</td>\n",
       "      <td>QUEENS</td>\n",
       "      <td>685</td>\n",
       "      <td>SENECA AVE</td>\n",
       "      <td>11385</td>\n",
       "      <td>3479565161</td>\n",
       "      <td>...</td>\n",
       "      <td>Violations were cited in the following area(s).</td>\n",
       "      <td>08A</td>\n",
       "      <td>Facility not vermin proof. Harborage or condit...</td>\n",
       "      <td>Not Critical</td>\n",
       "      <td>10.0</td>\n",
       "      <td>A</td>\n",
       "      <td>2017-08-17</td>\n",
       "      <td>2017-08-28</td>\n",
       "      <td>Cycle Inspection / Initial Inspection</td>\n",
       "      <td>685 SENECA AVE QUEENS 11385</td>\n",
       "    </tr>\n",
       "    <tr>\n",
       "      <th>3</th>\n",
       "      <td>#1 SABOR LATINO RESTAURANT---4120 WHITE PLAINS...</td>\n",
       "      <td>08A, 04L</td>\n",
       "      <td>Not Critical, Critical</td>\n",
       "      <td>41336841</td>\n",
       "      <td>#1 SABOR LATINO RESTAURANT</td>\n",
       "      <td>BRONX</td>\n",
       "      <td>4120</td>\n",
       "      <td>WHITE PLAINS ROAD</td>\n",
       "      <td>10466</td>\n",
       "      <td>7186532222</td>\n",
       "      <td>...</td>\n",
       "      <td>Violations were cited in the following area(s).</td>\n",
       "      <td>08A</td>\n",
       "      <td>Facility not vermin proof. Harborage or condit...</td>\n",
       "      <td>Not Critical</td>\n",
       "      <td>11.0</td>\n",
       "      <td>A</td>\n",
       "      <td>2017-03-16</td>\n",
       "      <td>2017-08-28</td>\n",
       "      <td>Cycle Inspection / Initial Inspection</td>\n",
       "      <td>4120 WHITE PLAINS ROAD BRONX 10466</td>\n",
       "    </tr>\n",
       "    <tr>\n",
       "      <th>4</th>\n",
       "      <td>$1 PIZZA---1276 FULTON ST BROOKLYN 11216</td>\n",
       "      <td>10H, 06E</td>\n",
       "      <td>Not Critical, Critical</td>\n",
       "      <td>50061194</td>\n",
       "      <td>$1 PIZZA</td>\n",
       "      <td>BROOKLYN</td>\n",
       "      <td>1276</td>\n",
       "      <td>FULTON ST</td>\n",
       "      <td>11216</td>\n",
       "      <td>7186384685</td>\n",
       "      <td>...</td>\n",
       "      <td>Violations were cited in the following area(s).</td>\n",
       "      <td>10H</td>\n",
       "      <td>Proper sanitization not provided for utensil w...</td>\n",
       "      <td>Not Critical</td>\n",
       "      <td>10.0</td>\n",
       "      <td>A</td>\n",
       "      <td>2017-05-22</td>\n",
       "      <td>2017-08-28</td>\n",
       "      <td>Pre-permit (Operational) / Re-inspection</td>\n",
       "      <td>1276 FULTON ST BROOKLYN 11216</td>\n",
       "    </tr>\n",
       "  </tbody>\n",
       "</table>\n",
       "<p>5 rows × 22 columns</p>\n",
       "</div>"
      ],
      "text/plain": [
       "                                                 key     violations  \\\n",
       "0  #1 Chinese Restaurant---825 W 181ST ST MANHATT...  06C, 06D, 10F   \n",
       "1  #1 GARDEN CHINESE---221 PROSPECT PARK WEST BRO...       06A, 02G   \n",
       "2  #1 Natural Juice Bar---685 SENECA AVE QUEENS 1...       08A, 04L   \n",
       "3  #1 SABOR LATINO RESTAURANT---4120 WHITE PLAINS...       08A, 04L   \n",
       "4           $1 PIZZA---1276 FULTON ST BROOKLYN 11216       10H, 06E   \n",
       "\n",
       "                           critical     camis                         dba  \\\n",
       "0  Critical, Critical, Not Critical  50050805       #1 Chinese Restaurant   \n",
       "1                Critical, Critical  41568346           #1 GARDEN CHINESE   \n",
       "2            Not Critical, Critical  50051964        #1 Natural Juice Bar   \n",
       "3            Not Critical, Critical  41336841  #1 SABOR LATINO RESTAURANT   \n",
       "4            Not Critical, Critical  50061194                    $1 PIZZA   \n",
       "\n",
       "        boro building              street zipcode       phone  \\\n",
       "0  MANHATTAN      825          W 181ST ST   10033  9173258805   \n",
       "1   BROOKLYN      221  PROSPECT PARK WEST   11215  7188321795   \n",
       "2     QUEENS      685          SENECA AVE   11385  3479565161   \n",
       "3      BRONX     4120   WHITE PLAINS ROAD   10466  7186532222   \n",
       "4   BROOKLYN     1276           FULTON ST   11216  7186384685   \n",
       "\n",
       "                   ...                    \\\n",
       "0                  ...                     \n",
       "1                  ...                     \n",
       "2                  ...                     \n",
       "3                  ...                     \n",
       "4                  ...                     \n",
       "\n",
       "                                            action violation_code  \\\n",
       "0  Violations were cited in the following area(s).            06C   \n",
       "1  Violations were cited in the following area(s).            06A   \n",
       "2  Violations were cited in the following area(s).            08A   \n",
       "3  Violations were cited in the following area(s).            08A   \n",
       "4  Violations were cited in the following area(s).            10H   \n",
       "\n",
       "                               violation_description critical_flag score  \\\n",
       "0  Food not protected from potential source of co...      Critical  13.0   \n",
       "1  Personal cleanliness inadequate. Outer garment...      Critical  12.0   \n",
       "2  Facility not vermin proof. Harborage or condit...  Not Critical  10.0   \n",
       "3  Facility not vermin proof. Harborage or condit...  Not Critical  11.0   \n",
       "4  Proper sanitization not provided for utensil w...  Not Critical  10.0   \n",
       "\n",
       "  grade  grade_date record_date  \\\n",
       "0     A  2016-09-30  2017-08-28   \n",
       "1     A  2017-08-23  2017-08-28   \n",
       "2     A  2017-08-17  2017-08-28   \n",
       "3     A  2017-03-16  2017-08-28   \n",
       "4     A  2017-05-22  2017-08-28   \n",
       "\n",
       "                                 inspection_type  \\\n",
       "0  Pre-permit (Operational) / Initial Inspection   \n",
       "1          Cycle Inspection / Initial Inspection   \n",
       "2          Cycle Inspection / Initial Inspection   \n",
       "3          Cycle Inspection / Initial Inspection   \n",
       "4       Pre-permit (Operational) / Re-inspection   \n",
       "\n",
       "                                 address  \n",
       "0         825 W 181ST ST MANHATTAN 10033  \n",
       "1  221 PROSPECT PARK WEST BROOKLYN 11215  \n",
       "2            685 SENECA AVE QUEENS 11385  \n",
       "3     4120 WHITE PLAINS ROAD BRONX 10466  \n",
       "4          1276 FULTON ST BROOKLYN 11216  \n",
       "\n",
       "[5 rows x 22 columns]"
      ]
     },
     "execution_count": 950,
     "metadata": {},
     "output_type": "execute_result"
    }
   ],
   "source": [
    "df.head()"
   ]
  },
  {
   "cell_type": "code",
   "execution_count": 951,
   "metadata": {
    "ExecuteTime": {
     "end_time": "2017-10-22T03:28:54.068085Z",
     "start_time": "2017-10-22T03:28:54.058947Z"
    },
    "collapsed": true
   },
   "outputs": [],
   "source": [
    "vermin_codes = ['04K','04L','04M','04N','08A']\n",
    "contamination_codes = ['04H','06B','06C','06D','08C']\n",
    "facility_codes = ['10A','10B','10D','10E','10F','10H','15L','22A','22C']\n",
    "food_handling_codes = ['03A','03C','09A','09B','09C']\n",
    "hygiene_codes = ['04D','04F','06A','06E','06F','08B','10I']\n",
    "regulatory_codes = ['04A','16B','20D','20F']\n",
    "temperature_codes = ['02B','02G','02H','05F']"
   ]
  },
  {
   "cell_type": "code",
   "execution_count": 990,
   "metadata": {
    "ExecuteTime": {
     "end_time": "2017-10-22T03:52:26.021441Z",
     "start_time": "2017-10-22T03:52:26.007827Z"
    }
   },
   "outputs": [],
   "source": [
    "vDict = {'04K':'vermin','04L':'vermin','04M':'vermin','04N':'vermin','08A':'vermin',\n",
    "'04H':'contamination','06B':'contamination','06C':'contamination','06D':'contamination',\n",
    "'08C':'contamination','10A':'facility','10B':'facility','10D':'facility','10E':'facility',\n",
    "'10F':'facility','10H':'facility','15L':'facility','22A':'facility','22C':'facility',\n",
    "'03A':'food_handling','03C':'food_handling','09A':'food_handling','09B':'food_handling',\n",
    "'09C':'food_handling','04D':'hygiene','04F':'hygiene','06A':'hygiene','06E':'hygiene',\n",
    "'06F':'hygiene','08B':'hygiene','10I':'hygiene','04A':'regulatory','16B':'regulatory',\n",
    "'20D':'regulatory','20F':'regulatory','02B':'temperature','02G':'temperature','02H':'temperature',\n",
    "'05F':'temperature'}"
   ]
  },
  {
   "cell_type": "code",
   "execution_count": 1010,
   "metadata": {
    "ExecuteTime": {
     "end_time": "2017-10-22T03:57:14.541626Z",
     "start_time": "2017-10-22T03:57:14.534370Z"
    }
   },
   "outputs": [],
   "source": [
    "def violations(row,d):\n",
    "    s = ''\n",
    "    for word in row['violations'].split(', '):\n",
    "        for k,v in d.items():\n",
    "            if word == k:\n",
    "                s += v+', '\n",
    "    return s.rstrip(', ')\n",
    "    "
   ]
  },
  {
   "cell_type": "code",
   "execution_count": 1011,
   "metadata": {
    "ExecuteTime": {
     "end_time": "2017-10-22T03:57:17.300507Z",
     "start_time": "2017-10-22T03:57:15.078754Z"
    }
   },
   "outputs": [],
   "source": [
    "df['new_violations'] = df.apply(lambda x: violations(x,vDict),axis=1)"
   ]
  },
  {
   "cell_type": "code",
   "execution_count": 1012,
   "metadata": {
    "ExecuteTime": {
     "end_time": "2017-10-22T03:57:17.327059Z",
     "start_time": "2017-10-22T03:57:17.302210Z"
    }
   },
   "outputs": [
    {
     "data": {
      "text/html": [
       "<div>\n",
       "<style>\n",
       "    .dataframe thead tr:only-child th {\n",
       "        text-align: right;\n",
       "    }\n",
       "\n",
       "    .dataframe thead th {\n",
       "        text-align: left;\n",
       "    }\n",
       "\n",
       "    .dataframe tbody tr th {\n",
       "        vertical-align: top;\n",
       "    }\n",
       "</style>\n",
       "<table border=\"1\" class=\"dataframe\">\n",
       "  <thead>\n",
       "    <tr style=\"text-align: right;\">\n",
       "      <th></th>\n",
       "      <th>key</th>\n",
       "      <th>violations</th>\n",
       "      <th>critical</th>\n",
       "      <th>camis</th>\n",
       "      <th>dba</th>\n",
       "      <th>boro</th>\n",
       "      <th>building</th>\n",
       "      <th>street</th>\n",
       "      <th>zipcode</th>\n",
       "      <th>phone</th>\n",
       "      <th>...</th>\n",
       "      <th>violation_code</th>\n",
       "      <th>violation_description</th>\n",
       "      <th>critical_flag</th>\n",
       "      <th>score</th>\n",
       "      <th>grade</th>\n",
       "      <th>grade_date</th>\n",
       "      <th>record_date</th>\n",
       "      <th>inspection_type</th>\n",
       "      <th>address</th>\n",
       "      <th>new_violations</th>\n",
       "    </tr>\n",
       "  </thead>\n",
       "  <tbody>\n",
       "    <tr>\n",
       "      <th>0</th>\n",
       "      <td>#1 Chinese Restaurant---825 W 181ST ST MANHATT...</td>\n",
       "      <td>06C, 06D, 10F</td>\n",
       "      <td>Critical, Critical, Not Critical</td>\n",
       "      <td>50050805</td>\n",
       "      <td>#1 Chinese Restaurant</td>\n",
       "      <td>MANHATTAN</td>\n",
       "      <td>825</td>\n",
       "      <td>W 181ST ST</td>\n",
       "      <td>10033</td>\n",
       "      <td>9173258805</td>\n",
       "      <td>...</td>\n",
       "      <td>06C</td>\n",
       "      <td>Food not protected from potential source of co...</td>\n",
       "      <td>Critical</td>\n",
       "      <td>13.0</td>\n",
       "      <td>A</td>\n",
       "      <td>2016-09-30</td>\n",
       "      <td>2017-08-28</td>\n",
       "      <td>Pre-permit (Operational) / Initial Inspection</td>\n",
       "      <td>825 W 181ST ST MANHATTAN 10033</td>\n",
       "      <td>contamination, contamination, facility</td>\n",
       "    </tr>\n",
       "    <tr>\n",
       "      <th>1</th>\n",
       "      <td>#1 GARDEN CHINESE---221 PROSPECT PARK WEST BRO...</td>\n",
       "      <td>06A, 02G</td>\n",
       "      <td>Critical, Critical</td>\n",
       "      <td>41568346</td>\n",
       "      <td>#1 GARDEN CHINESE</td>\n",
       "      <td>BROOKLYN</td>\n",
       "      <td>221</td>\n",
       "      <td>PROSPECT PARK WEST</td>\n",
       "      <td>11215</td>\n",
       "      <td>7188321795</td>\n",
       "      <td>...</td>\n",
       "      <td>06A</td>\n",
       "      <td>Personal cleanliness inadequate. Outer garment...</td>\n",
       "      <td>Critical</td>\n",
       "      <td>12.0</td>\n",
       "      <td>A</td>\n",
       "      <td>2017-08-23</td>\n",
       "      <td>2017-08-28</td>\n",
       "      <td>Cycle Inspection / Initial Inspection</td>\n",
       "      <td>221 PROSPECT PARK WEST BROOKLYN 11215</td>\n",
       "      <td>hygiene, temperature</td>\n",
       "    </tr>\n",
       "    <tr>\n",
       "      <th>2</th>\n",
       "      <td>#1 Natural Juice Bar---685 SENECA AVE QUEENS 1...</td>\n",
       "      <td>08A, 04L</td>\n",
       "      <td>Not Critical, Critical</td>\n",
       "      <td>50051964</td>\n",
       "      <td>#1 Natural Juice Bar</td>\n",
       "      <td>QUEENS</td>\n",
       "      <td>685</td>\n",
       "      <td>SENECA AVE</td>\n",
       "      <td>11385</td>\n",
       "      <td>3479565161</td>\n",
       "      <td>...</td>\n",
       "      <td>08A</td>\n",
       "      <td>Facility not vermin proof. Harborage or condit...</td>\n",
       "      <td>Not Critical</td>\n",
       "      <td>10.0</td>\n",
       "      <td>A</td>\n",
       "      <td>2017-08-17</td>\n",
       "      <td>2017-08-28</td>\n",
       "      <td>Cycle Inspection / Initial Inspection</td>\n",
       "      <td>685 SENECA AVE QUEENS 11385</td>\n",
       "      <td>vermin, vermin</td>\n",
       "    </tr>\n",
       "    <tr>\n",
       "      <th>3</th>\n",
       "      <td>#1 SABOR LATINO RESTAURANT---4120 WHITE PLAINS...</td>\n",
       "      <td>08A, 04L</td>\n",
       "      <td>Not Critical, Critical</td>\n",
       "      <td>41336841</td>\n",
       "      <td>#1 SABOR LATINO RESTAURANT</td>\n",
       "      <td>BRONX</td>\n",
       "      <td>4120</td>\n",
       "      <td>WHITE PLAINS ROAD</td>\n",
       "      <td>10466</td>\n",
       "      <td>7186532222</td>\n",
       "      <td>...</td>\n",
       "      <td>08A</td>\n",
       "      <td>Facility not vermin proof. Harborage or condit...</td>\n",
       "      <td>Not Critical</td>\n",
       "      <td>11.0</td>\n",
       "      <td>A</td>\n",
       "      <td>2017-03-16</td>\n",
       "      <td>2017-08-28</td>\n",
       "      <td>Cycle Inspection / Initial Inspection</td>\n",
       "      <td>4120 WHITE PLAINS ROAD BRONX 10466</td>\n",
       "      <td>vermin, vermin</td>\n",
       "    </tr>\n",
       "    <tr>\n",
       "      <th>4</th>\n",
       "      <td>$1 PIZZA---1276 FULTON ST BROOKLYN 11216</td>\n",
       "      <td>10H, 06E</td>\n",
       "      <td>Not Critical, Critical</td>\n",
       "      <td>50061194</td>\n",
       "      <td>$1 PIZZA</td>\n",
       "      <td>BROOKLYN</td>\n",
       "      <td>1276</td>\n",
       "      <td>FULTON ST</td>\n",
       "      <td>11216</td>\n",
       "      <td>7186384685</td>\n",
       "      <td>...</td>\n",
       "      <td>10H</td>\n",
       "      <td>Proper sanitization not provided for utensil w...</td>\n",
       "      <td>Not Critical</td>\n",
       "      <td>10.0</td>\n",
       "      <td>A</td>\n",
       "      <td>2017-05-22</td>\n",
       "      <td>2017-08-28</td>\n",
       "      <td>Pre-permit (Operational) / Re-inspection</td>\n",
       "      <td>1276 FULTON ST BROOKLYN 11216</td>\n",
       "      <td>facility, hygiene</td>\n",
       "    </tr>\n",
       "  </tbody>\n",
       "</table>\n",
       "<p>5 rows × 23 columns</p>\n",
       "</div>"
      ],
      "text/plain": [
       "                                                 key     violations  \\\n",
       "0  #1 Chinese Restaurant---825 W 181ST ST MANHATT...  06C, 06D, 10F   \n",
       "1  #1 GARDEN CHINESE---221 PROSPECT PARK WEST BRO...       06A, 02G   \n",
       "2  #1 Natural Juice Bar---685 SENECA AVE QUEENS 1...       08A, 04L   \n",
       "3  #1 SABOR LATINO RESTAURANT---4120 WHITE PLAINS...       08A, 04L   \n",
       "4           $1 PIZZA---1276 FULTON ST BROOKLYN 11216       10H, 06E   \n",
       "\n",
       "                           critical     camis                         dba  \\\n",
       "0  Critical, Critical, Not Critical  50050805       #1 Chinese Restaurant   \n",
       "1                Critical, Critical  41568346           #1 GARDEN CHINESE   \n",
       "2            Not Critical, Critical  50051964        #1 Natural Juice Bar   \n",
       "3            Not Critical, Critical  41336841  #1 SABOR LATINO RESTAURANT   \n",
       "4            Not Critical, Critical  50061194                    $1 PIZZA   \n",
       "\n",
       "        boro building              street zipcode       phone  \\\n",
       "0  MANHATTAN      825          W 181ST ST   10033  9173258805   \n",
       "1   BROOKLYN      221  PROSPECT PARK WEST   11215  7188321795   \n",
       "2     QUEENS      685          SENECA AVE   11385  3479565161   \n",
       "3      BRONX     4120   WHITE PLAINS ROAD   10466  7186532222   \n",
       "4   BROOKLYN     1276           FULTON ST   11216  7186384685   \n",
       "\n",
       "                    ...                   violation_code  \\\n",
       "0                   ...                              06C   \n",
       "1                   ...                              06A   \n",
       "2                   ...                              08A   \n",
       "3                   ...                              08A   \n",
       "4                   ...                              10H   \n",
       "\n",
       "                               violation_description critical_flag score  \\\n",
       "0  Food not protected from potential source of co...      Critical  13.0   \n",
       "1  Personal cleanliness inadequate. Outer garment...      Critical  12.0   \n",
       "2  Facility not vermin proof. Harborage or condit...  Not Critical  10.0   \n",
       "3  Facility not vermin proof. Harborage or condit...  Not Critical  11.0   \n",
       "4  Proper sanitization not provided for utensil w...  Not Critical  10.0   \n",
       "\n",
       "  grade grade_date  record_date  \\\n",
       "0     A 2016-09-30   2017-08-28   \n",
       "1     A 2017-08-23   2017-08-28   \n",
       "2     A 2017-08-17   2017-08-28   \n",
       "3     A 2017-03-16   2017-08-28   \n",
       "4     A 2017-05-22   2017-08-28   \n",
       "\n",
       "                                 inspection_type  \\\n",
       "0  Pre-permit (Operational) / Initial Inspection   \n",
       "1          Cycle Inspection / Initial Inspection   \n",
       "2          Cycle Inspection / Initial Inspection   \n",
       "3          Cycle Inspection / Initial Inspection   \n",
       "4       Pre-permit (Operational) / Re-inspection   \n",
       "\n",
       "                                 address  \\\n",
       "0         825 W 181ST ST MANHATTAN 10033   \n",
       "1  221 PROSPECT PARK WEST BROOKLYN 11215   \n",
       "2            685 SENECA AVE QUEENS 11385   \n",
       "3     4120 WHITE PLAINS ROAD BRONX 10466   \n",
       "4          1276 FULTON ST BROOKLYN 11216   \n",
       "\n",
       "                           new_violations  \n",
       "0  contamination, contamination, facility  \n",
       "1                    hygiene, temperature  \n",
       "2                          vermin, vermin  \n",
       "3                          vermin, vermin  \n",
       "4                       facility, hygiene  \n",
       "\n",
       "[5 rows x 23 columns]"
      ]
     },
     "execution_count": 1012,
     "metadata": {},
     "output_type": "execute_result"
    }
   ],
   "source": [
    "df.head()"
   ]
  },
  {
   "cell_type": "code",
   "execution_count": 576,
   "metadata": {
    "ExecuteTime": {
     "end_time": "2017-10-21T23:07:51.972528Z",
     "start_time": "2017-10-21T23:07:51.970221Z"
    },
    "collapsed": true
   },
   "outputs": [],
   "source": [
    "#df.drop(['violation_code','violation_description','action'],axis=1,inplace=True)"
   ]
  },
  {
   "cell_type": "code",
   "execution_count": 577,
   "metadata": {
    "ExecuteTime": {
     "end_time": "2017-10-21T23:07:51.999198Z",
     "start_time": "2017-10-21T23:07:51.974594Z"
    }
   },
   "outputs": [
    {
     "data": {
      "text/plain": [
       "array(['Cycle Inspection / Initial Inspection',\n",
       "       'Administrative Miscellaneous / Initial Inspection',\n",
       "       'Pre-permit (Operational) / Initial Inspection',\n",
       "       'Pre-permit (Operational) / Compliance Inspection',\n",
       "       'Cycle Inspection / Re-inspection',\n",
       "       'Cycle Inspection / Compliance Inspection',\n",
       "       'Trans Fat / Initial Inspection',\n",
       "       'Administrative Miscellaneous / Reopening Inspection',\n",
       "       'Smoke-Free Air Act / Re-inspection',\n",
       "       'Administrative Miscellaneous / Re-inspection',\n",
       "       'Smoke-Free Air Act / Initial Inspection',\n",
       "       'Pre-permit (Operational) / Re-inspection',\n",
       "       'Cycle Inspection / Reopening Inspection',\n",
       "       'Pre-permit (Non-operational) / Re-inspection',\n",
       "       'Pre-permit (Non-operational) / Initial Inspection',\n",
       "       'Inter-Agency Task Force / Initial Inspection',\n",
       "       'Trans Fat / Re-inspection', 'Calorie Posting / Initial Inspection',\n",
       "       'Calorie Posting / Re-inspection',\n",
       "       'Administrative Miscellaneous / Compliance Inspection',\n",
       "       'Trans Fat / Compliance Inspection',\n",
       "       'Pre-permit (Operational) / Reopening Inspection',\n",
       "       'Trans Fat / Second Compliance Inspection',\n",
       "       'Smoke-Free Air Act / Compliance Inspection',\n",
       "       'Pre-permit (Operational) / Second Compliance Inspection',\n",
       "       'Cycle Inspection / Second Compliance Inspection',\n",
       "       'Administrative Miscellaneous / Second Compliance Inspection',\n",
       "       'Pre-permit (Non-operational) / Compliance Inspection',\n",
       "       'Calorie Posting / Compliance Inspection',\n",
       "       'Inter-Agency Task Force / Re-inspection',\n",
       "       'Smoke-Free Air Act / Second Compliance Inspection',\n",
       "       'Smoke-Free Air Act / Limited Inspection',\n",
       "       'Trans Fat / Limited Inspection'], dtype=object)"
      ]
     },
     "execution_count": 577,
     "metadata": {},
     "output_type": "execute_result"
    }
   ],
   "source": [
    "df.inspection_type.unique()"
   ]
  },
  {
   "cell_type": "code",
   "execution_count": 578,
   "metadata": {
    "ExecuteTime": {
     "end_time": "2017-10-21T23:07:52.021781Z",
     "start_time": "2017-10-21T23:07:52.001492Z"
    }
   },
   "outputs": [
    {
     "data": {
      "text/plain": [
       "array(['Italian', 'Pakistani', 'American', 'Japanese', 'Caribbean',\n",
       "       'Seafood', 'Chinese', 'Pizza', 'Indian', 'Soul Food',\n",
       "       'Bagels/Pretzels', 'Steak', 'Tapas', 'Chinese/Japanese',\n",
       "       'Vegetarian', 'Mexican', 'Turkish', 'Spanish', 'CafÃ©/Coffee/Tea',\n",
       "       'Greek', 'Hamburgers', 'Bakery',\n",
       "       'Latin (Cuban, Dominican, Puerto Rican, South & Central American)',\n",
       "       'Continental', 'Brazilian', 'Mediterranean', 'Thai', 'Donuts',\n",
       "       'Delicatessen', 'Jewish/Kosher', 'Sandwiches', 'Russian',\n",
       "       'Vietnamese/Cambodian/Malaysia', 'Sandwiches/Salads/Mixed Buffet',\n",
       "       'Tex-Mex',\n",
       "       'Bottled beverages, including water, sodas, juices, etc.', 'Irish',\n",
       "       'Korean', 'French', 'Ice Cream, Gelato, Yogurt, Ices',\n",
       "       'Middle Eastern', 'Asian', 'Juice, Smoothies, Fruit Salads',\n",
       "       'Pizza/Italian', 'Chicken', 'Australian', 'Bangladeshi', 'African',\n",
       "       'Peruvian', 'Creole', 'Hotdogs', 'Hotdogs/Pretzels', 'English',\n",
       "       'German', 'Hawaiian', 'Pancakes/Waffles', 'Scandinavian', 'Polish',\n",
       "       'Barbecue', 'Salads', 'Afghan', 'Eastern European', 'Cajun',\n",
       "       'Egyptian', 'Indonesian', 'Moroccan', 'Ethiopian',\n",
       "       'Soups & Sandwiches', 'Other', 'Fruits/Vegetables', 'Filipino',\n",
       "       'Southwestern', 'Nuts/Confectionary', 'Armenian', 'Soups',\n",
       "       'Chinese/Cuban', 'Not Listed/Not Applicable', 'Creole/Cajun',\n",
       "       'Portuguese', 'Chilean', 'Polynesian', 'Czech', 'Iranian',\n",
       "       'Californian'], dtype=object)"
      ]
     },
     "execution_count": 578,
     "metadata": {},
     "output_type": "execute_result"
    }
   ],
   "source": [
    "df.cuisine_description.unique()"
   ]
  },
  {
   "cell_type": "code",
   "execution_count": 1013,
   "metadata": {
    "ExecuteTime": {
     "end_time": "2017-10-22T03:57:43.439645Z",
     "start_time": "2017-10-22T03:57:43.422861Z"
    },
    "collapsed": true
   },
   "outputs": [],
   "source": [
    "gradeMask = (df['grade'] == 'A') | (df['grade'] == 'B') | (df['grade']== 'C')\n",
    "gradeDF = df[gradeMask]"
   ]
  },
  {
   "cell_type": "code",
   "execution_count": 1014,
   "metadata": {
    "ExecuteTime": {
     "end_time": "2017-10-22T03:57:44.145612Z",
     "start_time": "2017-10-22T03:57:44.141935Z"
    }
   },
   "outputs": [
    {
     "data": {
      "text/plain": [
       "(20283, 23)"
      ]
     },
     "execution_count": 1014,
     "metadata": {},
     "output_type": "execute_result"
    }
   ],
   "source": [
    "gradeDF.shape"
   ]
  },
  {
   "cell_type": "code",
   "execution_count": 1015,
   "metadata": {
    "ExecuteTime": {
     "end_time": "2017-10-22T03:57:50.247674Z",
     "start_time": "2017-10-22T03:57:50.113351Z"
    }
   },
   "outputs": [
    {
     "data": {
      "text/plain": [
       "<matplotlib.text.Text at 0x11edcdef0>"
      ]
     },
     "execution_count": 1015,
     "metadata": {},
     "output_type": "execute_result"
    },
    {
     "data": {
      "image/png": "[encoded data removed]",
      "text/plain": [
       "<matplotlib.figure.Figure at 0x18a553d30>"
      ]
     },
     "metadata": {},
     "output_type": "display_data"
    }
   ],
   "source": [
    "gradeGroup = gradeDF.groupby('grade').grade.count()\n",
    "gradeGroup.plot(kind='bar')\n",
    "plt.ylabel(\"Count\")\n",
    "plt.xlabel(\"Health Grade\")"
   ]
  },
  {
   "cell_type": "code",
   "execution_count": 1017,
   "metadata": {
    "ExecuteTime": {
     "end_time": "2017-10-22T03:58:43.163284Z",
     "start_time": "2017-10-22T03:58:43.160139Z"
    }
   },
   "outputs": [
    {
     "data": {
      "text/plain": [
       "(20283, 23)"
      ]
     },
     "execution_count": 1017,
     "metadata": {},
     "output_type": "execute_result"
    }
   ],
   "source": [
    "gradeDF.shape"
   ]
  },
  {
   "cell_type": "code",
   "execution_count": 1018,
   "metadata": {
    "ExecuteTime": {
     "end_time": "2017-10-22T03:58:43.171623Z",
     "start_time": "2017-10-22T03:58:43.164850Z"
    }
   },
   "outputs": [
    {
     "data": {
      "text/plain": [
       "grade\n",
       "A    19240\n",
       "B      947\n",
       "C       96\n",
       "Name: grade, dtype: int64"
      ]
     },
     "execution_count": 1018,
     "metadata": {},
     "output_type": "execute_result"
    }
   ],
   "source": [
    "gradeGroup"
   ]
  },
  {
   "cell_type": "code",
   "execution_count": 1019,
   "metadata": {
    "ExecuteTime": {
     "end_time": "2017-10-22T03:58:43.176145Z",
     "start_time": "2017-10-22T03:58:43.173601Z"
    },
    "collapsed": true
   },
   "outputs": [],
   "source": [
    "df = gradeDF"
   ]
  },
  {
   "cell_type": "code",
   "execution_count": 1023,
   "metadata": {
    "ExecuteTime": {
     "end_time": "2017-10-22T03:59:51.882307Z",
     "start_time": "2017-10-22T03:59:51.867633Z"
    },
    "collapsed": true
   },
   "outputs": [],
   "source": [
    "df['inspection_date'] = pd.to_datetime(df.inspection_date)"
   ]
  },
  {
   "cell_type": "code",
   "execution_count": 1024,
   "metadata": {
    "ExecuteTime": {
     "end_time": "2017-10-22T03:59:52.576712Z",
     "start_time": "2017-10-22T03:59:52.571964Z"
    }
   },
   "outputs": [],
   "source": [
    "df['inspection_year'] = df.inspection_date.dt.year "
   ]
  },
  {
   "cell_type": "code",
   "execution_count": 1025,
   "metadata": {
    "ExecuteTime": {
     "end_time": "2017-10-22T03:59:55.284149Z",
     "start_time": "2017-10-22T03:59:55.069827Z"
    }
   },
   "outputs": [
    {
     "data": {
      "text/plain": [
       "<matplotlib.text.Text at 0x189a49710>"
      ]
     },
     "execution_count": 1025,
     "metadata": {},
     "output_type": "execute_result"
    },
    {
     "data": {
      "image/png": "[encoded data removed]",
      "text/plain": [
       "<matplotlib.figure.Figure at 0x189f2c748>"
      ]
     },
     "metadata": {},
     "output_type": "display_data"
    }
   ],
   "source": [
    "gradeYearGroup = df.groupby(['inspection_year','grade']).camis.count().reset_index()\n",
    "year_ticks = ('2014','2015','2016')\n",
    "#entry_ticks = (200,300,400)\n",
    "plot_out = gradeYearGroup.pivot('inspection_year','grade','camis').plot(kind='line',figsize=(11,6))\n",
    "plt.xticks(range(2014,2017),year_ticks)\n",
    "plt.xlabel(\"Inspection Year\")\n",
    "plt.xlabel(\"Grade Count\")"
   ]
  },
  {
   "cell_type": "markdown",
   "metadata": {},
   "source": [
    "### Agregate Violations by Restaurant"
   ]
  },
  {
   "cell_type": "code",
   "execution_count": 1026,
   "metadata": {
    "ExecuteTime": {
     "end_time": "2017-10-22T04:01:30.643419Z",
     "start_time": "2017-10-22T04:01:30.624530Z"
    },
    "collapsed": true
   },
   "outputs": [],
   "source": [
    "df.dropna(subset=['dba','zipcode'],inplace=True,axis=0)"
   ]
  },
  {
   "cell_type": "code",
   "execution_count": 1027,
   "metadata": {
    "ExecuteTime": {
     "end_time": "2017-10-22T04:01:33.664911Z",
     "start_time": "2017-10-22T04:01:33.656335Z"
    },
    "collapsed": true
   },
   "outputs": [],
   "source": [
    "df.address.replace(\"MANHATTAN\",\"NEW YORK\",inplace=True)"
   ]
  },
  {
   "cell_type": "code",
   "execution_count": 1028,
   "metadata": {
    "ExecuteTime": {
     "end_time": "2017-10-22T04:01:35.117805Z",
     "start_time": "2017-10-22T04:01:35.113871Z"
    }
   },
   "outputs": [
    {
     "data": {
      "text/plain": [
       "(20283, 24)"
      ]
     },
     "execution_count": 1028,
     "metadata": {},
     "output_type": "execute_result"
    }
   ],
   "source": [
    "df.shape"
   ]
  },
  {
   "cell_type": "code",
   "execution_count": 1029,
   "metadata": {
    "ExecuteTime": {
     "end_time": "2017-10-22T04:01:36.434317Z",
     "start_time": "2017-10-22T04:01:36.370007Z"
    }
   },
   "outputs": [],
   "source": [
    "df['violation_count'] = 1\n",
    "restGroup = df.groupby(['dba','address']).violation_count.sum().reset_index()\n",
    "restGroup.sort_values('violation_count',ascending=False,inplace=True)"
   ]
  },
  {
   "cell_type": "code",
   "execution_count": 1030,
   "metadata": {
    "ExecuteTime": {
     "end_time": "2017-10-22T04:01:41.075297Z",
     "start_time": "2017-10-22T04:01:41.072998Z"
    },
    "collapsed": true
   },
   "outputs": [],
   "source": [
    "#df.to_csv('test.csv')"
   ]
  },
  {
   "cell_type": "code",
   "execution_count": 1031,
   "metadata": {
    "ExecuteTime": {
     "end_time": "2017-10-22T04:01:41.487088Z",
     "start_time": "2017-10-22T04:01:41.477840Z"
    }
   },
   "outputs": [
    {
     "data": {
      "text/html": [
       "<div>\n",
       "<style>\n",
       "    .dataframe thead tr:only-child th {\n",
       "        text-align: right;\n",
       "    }\n",
       "\n",
       "    .dataframe thead th {\n",
       "        text-align: left;\n",
       "    }\n",
       "\n",
       "    .dataframe tbody tr th {\n",
       "        vertical-align: top;\n",
       "    }\n",
       "</style>\n",
       "<table border=\"1\" class=\"dataframe\">\n",
       "  <thead>\n",
       "    <tr style=\"text-align: right;\">\n",
       "      <th></th>\n",
       "      <th>dba</th>\n",
       "      <th>address</th>\n",
       "      <th>violation_count</th>\n",
       "    </tr>\n",
       "  </thead>\n",
       "  <tbody>\n",
       "    <tr>\n",
       "      <th>0</th>\n",
       "      <td>#1 Chinese Restaurant</td>\n",
       "      <td>825 W 181ST ST MANHATTAN 10033</td>\n",
       "      <td>1</td>\n",
       "    </tr>\n",
       "    <tr>\n",
       "      <th>13519</th>\n",
       "      <td>OVER THE EIGHT</td>\n",
       "      <td>594 UNION AVENUE BROOKLYN 11211</td>\n",
       "      <td>1</td>\n",
       "    </tr>\n",
       "    <tr>\n",
       "      <th>13526</th>\n",
       "      <td>OXFORD BAKE SHOP</td>\n",
       "      <td>10401 LIBERTY AVENUE QUEENS 11417</td>\n",
       "      <td>1</td>\n",
       "    </tr>\n",
       "    <tr>\n",
       "      <th>13525</th>\n",
       "      <td>OX VERTE</td>\n",
       "      <td>63 READE ST MANHATTAN 10007</td>\n",
       "      <td>1</td>\n",
       "    </tr>\n",
       "    <tr>\n",
       "      <th>13524</th>\n",
       "      <td>OWL JUICE PUB</td>\n",
       "      <td>483 DRIGGS AVE BROOKLYN 11211</td>\n",
       "      <td>1</td>\n",
       "    </tr>\n",
       "  </tbody>\n",
       "</table>\n",
       "</div>"
      ],
      "text/plain": [
       "                         dba                            address  \\\n",
       "0      #1 Chinese Restaurant     825 W 181ST ST MANHATTAN 10033   \n",
       "13519         OVER THE EIGHT    594 UNION AVENUE BROOKLYN 11211   \n",
       "13526       OXFORD BAKE SHOP  10401 LIBERTY AVENUE QUEENS 11417   \n",
       "13525               OX VERTE        63 READE ST MANHATTAN 10007   \n",
       "13524          OWL JUICE PUB      483 DRIGGS AVE BROOKLYN 11211   \n",
       "\n",
       "       violation_count  \n",
       "0                    1  \n",
       "13519                1  \n",
       "13526                1  \n",
       "13525                1  \n",
       "13524                1  "
      ]
     },
     "execution_count": 1031,
     "metadata": {},
     "output_type": "execute_result"
    }
   ],
   "source": [
    "restGroup.head()"
   ]
  },
  {
   "cell_type": "code",
   "execution_count": 1032,
   "metadata": {
    "ExecuteTime": {
     "end_time": "2017-10-22T04:01:44.510654Z",
     "start_time": "2017-10-22T04:01:44.507039Z"
    }
   },
   "outputs": [
    {
     "data": {
      "text/plain": [
       "(20283, 3)"
      ]
     },
     "execution_count": 1032,
     "metadata": {},
     "output_type": "execute_result"
    }
   ],
   "source": [
    "restGroup.shape"
   ]
  },
  {
   "cell_type": "markdown",
   "metadata": {},
   "source": [
    "### Prepare to match with Yelp"
   ]
  },
  {
   "cell_type": "code",
   "execution_count": 1033,
   "metadata": {
    "ExecuteTime": {
     "end_time": "2017-10-22T04:01:46.004498Z",
     "start_time": "2017-10-22T04:01:46.000222Z"
    }
   },
   "outputs": [
    {
     "data": {
      "text/plain": [
       "['key',\n",
       " 'violations',\n",
       " 'critical',\n",
       " 'camis',\n",
       " 'dba',\n",
       " 'boro',\n",
       " 'building',\n",
       " 'street',\n",
       " 'zipcode',\n",
       " 'phone',\n",
       " 'cuisine_description',\n",
       " 'inspection_date',\n",
       " 'action',\n",
       " 'violation_code',\n",
       " 'violation_description',\n",
       " 'critical_flag',\n",
       " 'score',\n",
       " 'grade',\n",
       " 'grade_date',\n",
       " 'record_date',\n",
       " 'inspection_type',\n",
       " 'address',\n",
       " 'new_violations',\n",
       " 'inspection_year',\n",
       " 'violation_count']"
      ]
     },
     "execution_count": 1033,
     "metadata": {},
     "output_type": "execute_result"
    }
   ],
   "source": [
    "df.columns.tolist()"
   ]
  },
  {
   "cell_type": "code",
   "execution_count": 1034,
   "metadata": {
    "ExecuteTime": {
     "end_time": "2017-10-22T04:01:48.125753Z",
     "start_time": "2017-10-22T04:01:48.096672Z"
    }
   },
   "outputs": [
    {
     "data": {
      "text/html": [
       "<div>\n",
       "<style>\n",
       "    .dataframe thead tr:only-child th {\n",
       "        text-align: right;\n",
       "    }\n",
       "\n",
       "    .dataframe thead th {\n",
       "        text-align: left;\n",
       "    }\n",
       "\n",
       "    .dataframe tbody tr th {\n",
       "        vertical-align: top;\n",
       "    }\n",
       "</style>\n",
       "<table border=\"1\" class=\"dataframe\">\n",
       "  <thead>\n",
       "    <tr style=\"text-align: right;\">\n",
       "      <th></th>\n",
       "      <th>key</th>\n",
       "      <th>violations</th>\n",
       "      <th>critical</th>\n",
       "      <th>camis</th>\n",
       "      <th>dba</th>\n",
       "      <th>boro</th>\n",
       "      <th>building</th>\n",
       "      <th>street</th>\n",
       "      <th>zipcode</th>\n",
       "      <th>phone</th>\n",
       "      <th>...</th>\n",
       "      <th>critical_flag</th>\n",
       "      <th>score</th>\n",
       "      <th>grade</th>\n",
       "      <th>grade_date</th>\n",
       "      <th>record_date</th>\n",
       "      <th>inspection_type</th>\n",
       "      <th>address</th>\n",
       "      <th>new_violations</th>\n",
       "      <th>inspection_year</th>\n",
       "      <th>violation_count</th>\n",
       "    </tr>\n",
       "  </thead>\n",
       "  <tbody>\n",
       "    <tr>\n",
       "      <th>0</th>\n",
       "      <td>#1 Chinese Restaurant---825 W 181ST ST MANHATT...</td>\n",
       "      <td>06C, 06D, 10F</td>\n",
       "      <td>Critical, Critical, Not Critical</td>\n",
       "      <td>50050805</td>\n",
       "      <td>#1 Chinese Restaurant</td>\n",
       "      <td>MANHATTAN</td>\n",
       "      <td>825</td>\n",
       "      <td>W 181ST ST</td>\n",
       "      <td>10033</td>\n",
       "      <td>9173258805</td>\n",
       "      <td>...</td>\n",
       "      <td>Critical</td>\n",
       "      <td>13.0</td>\n",
       "      <td>A</td>\n",
       "      <td>2016-09-30</td>\n",
       "      <td>2017-08-28</td>\n",
       "      <td>Pre-permit (Operational) / Initial Inspection</td>\n",
       "      <td>825 W 181ST ST MANHATTAN 10033</td>\n",
       "      <td>contamination, contamination, facility</td>\n",
       "      <td>2016</td>\n",
       "      <td>1</td>\n",
       "    </tr>\n",
       "    <tr>\n",
       "      <th>1</th>\n",
       "      <td>#1 GARDEN CHINESE---221 PROSPECT PARK WEST BRO...</td>\n",
       "      <td>06A, 02G</td>\n",
       "      <td>Critical, Critical</td>\n",
       "      <td>41568346</td>\n",
       "      <td>#1 GARDEN CHINESE</td>\n",
       "      <td>BROOKLYN</td>\n",
       "      <td>221</td>\n",
       "      <td>PROSPECT PARK WEST</td>\n",
       "      <td>11215</td>\n",
       "      <td>7188321795</td>\n",
       "      <td>...</td>\n",
       "      <td>Critical</td>\n",
       "      <td>12.0</td>\n",
       "      <td>A</td>\n",
       "      <td>2017-08-23</td>\n",
       "      <td>2017-08-28</td>\n",
       "      <td>Cycle Inspection / Initial Inspection</td>\n",
       "      <td>221 PROSPECT PARK WEST BROOKLYN 11215</td>\n",
       "      <td>hygiene, temperature</td>\n",
       "      <td>2017</td>\n",
       "      <td>1</td>\n",
       "    </tr>\n",
       "    <tr>\n",
       "      <th>2</th>\n",
       "      <td>#1 Natural Juice Bar---685 SENECA AVE QUEENS 1...</td>\n",
       "      <td>08A, 04L</td>\n",
       "      <td>Not Critical, Critical</td>\n",
       "      <td>50051964</td>\n",
       "      <td>#1 Natural Juice Bar</td>\n",
       "      <td>QUEENS</td>\n",
       "      <td>685</td>\n",
       "      <td>SENECA AVE</td>\n",
       "      <td>11385</td>\n",
       "      <td>3479565161</td>\n",
       "      <td>...</td>\n",
       "      <td>Not Critical</td>\n",
       "      <td>10.0</td>\n",
       "      <td>A</td>\n",
       "      <td>2017-08-17</td>\n",
       "      <td>2017-08-28</td>\n",
       "      <td>Cycle Inspection / Initial Inspection</td>\n",
       "      <td>685 SENECA AVE QUEENS 11385</td>\n",
       "      <td>vermin, vermin</td>\n",
       "      <td>2017</td>\n",
       "      <td>1</td>\n",
       "    </tr>\n",
       "    <tr>\n",
       "      <th>3</th>\n",
       "      <td>#1 SABOR LATINO RESTAURANT---4120 WHITE PLAINS...</td>\n",
       "      <td>08A, 04L</td>\n",
       "      <td>Not Critical, Critical</td>\n",
       "      <td>41336841</td>\n",
       "      <td>#1 SABOR LATINO RESTAURANT</td>\n",
       "      <td>BRONX</td>\n",
       "      <td>4120</td>\n",
       "      <td>WHITE PLAINS ROAD</td>\n",
       "      <td>10466</td>\n",
       "      <td>7186532222</td>\n",
       "      <td>...</td>\n",
       "      <td>Not Critical</td>\n",
       "      <td>11.0</td>\n",
       "      <td>A</td>\n",
       "      <td>2017-03-16</td>\n",
       "      <td>2017-08-28</td>\n",
       "      <td>Cycle Inspection / Initial Inspection</td>\n",
       "      <td>4120 WHITE PLAINS ROAD BRONX 10466</td>\n",
       "      <td>vermin, vermin</td>\n",
       "      <td>2017</td>\n",
       "      <td>1</td>\n",
       "    </tr>\n",
       "    <tr>\n",
       "      <th>4</th>\n",
       "      <td>$1 PIZZA---1276 FULTON ST BROOKLYN 11216</td>\n",
       "      <td>10H, 06E</td>\n",
       "      <td>Not Critical, Critical</td>\n",
       "      <td>50061194</td>\n",
       "      <td>$1 PIZZA</td>\n",
       "      <td>BROOKLYN</td>\n",
       "      <td>1276</td>\n",
       "      <td>FULTON ST</td>\n",
       "      <td>11216</td>\n",
       "      <td>7186384685</td>\n",
       "      <td>...</td>\n",
       "      <td>Not Critical</td>\n",
       "      <td>10.0</td>\n",
       "      <td>A</td>\n",
       "      <td>2017-05-22</td>\n",
       "      <td>2017-08-28</td>\n",
       "      <td>Pre-permit (Operational) / Re-inspection</td>\n",
       "      <td>1276 FULTON ST BROOKLYN 11216</td>\n",
       "      <td>facility, hygiene</td>\n",
       "      <td>2017</td>\n",
       "      <td>1</td>\n",
       "    </tr>\n",
       "  </tbody>\n",
       "</table>\n",
       "<p>5 rows × 25 columns</p>\n",
       "</div>"
      ],
      "text/plain": [
       "                                                 key     violations  \\\n",
       "0  #1 Chinese Restaurant---825 W 181ST ST MANHATT...  06C, 06D, 10F   \n",
       "1  #1 GARDEN CHINESE---221 PROSPECT PARK WEST BRO...       06A, 02G   \n",
       "2  #1 Natural Juice Bar---685 SENECA AVE QUEENS 1...       08A, 04L   \n",
       "3  #1 SABOR LATINO RESTAURANT---4120 WHITE PLAINS...       08A, 04L   \n",
       "4           $1 PIZZA---1276 FULTON ST BROOKLYN 11216       10H, 06E   \n",
       "\n",
       "                           critical     camis                         dba  \\\n",
       "0  Critical, Critical, Not Critical  50050805       #1 Chinese Restaurant   \n",
       "1                Critical, Critical  41568346           #1 GARDEN CHINESE   \n",
       "2            Not Critical, Critical  50051964        #1 Natural Juice Bar   \n",
       "3            Not Critical, Critical  41336841  #1 SABOR LATINO RESTAURANT   \n",
       "4            Not Critical, Critical  50061194                    $1 PIZZA   \n",
       "\n",
       "        boro building              street zipcode       phone       ...        \\\n",
       "0  MANHATTAN      825          W 181ST ST   10033  9173258805       ...         \n",
       "1   BROOKLYN      221  PROSPECT PARK WEST   11215  7188321795       ...         \n",
       "2     QUEENS      685          SENECA AVE   11385  3479565161       ...         \n",
       "3      BRONX     4120   WHITE PLAINS ROAD   10466  7186532222       ...         \n",
       "4   BROOKLYN     1276           FULTON ST   11216  7186384685       ...         \n",
       "\n",
       "  critical_flag score grade grade_date record_date  \\\n",
       "0      Critical  13.0     A 2016-09-30  2017-08-28   \n",
       "1      Critical  12.0     A 2017-08-23  2017-08-28   \n",
       "2  Not Critical  10.0     A 2017-08-17  2017-08-28   \n",
       "3  Not Critical  11.0     A 2017-03-16  2017-08-28   \n",
       "4  Not Critical  10.0     A 2017-05-22  2017-08-28   \n",
       "\n",
       "                                 inspection_type  \\\n",
       "0  Pre-permit (Operational) / Initial Inspection   \n",
       "1          Cycle Inspection / Initial Inspection   \n",
       "2          Cycle Inspection / Initial Inspection   \n",
       "3          Cycle Inspection / Initial Inspection   \n",
       "4       Pre-permit (Operational) / Re-inspection   \n",
       "\n",
       "                                 address  \\\n",
       "0         825 W 181ST ST MANHATTAN 10033   \n",
       "1  221 PROSPECT PARK WEST BROOKLYN 11215   \n",
       "2            685 SENECA AVE QUEENS 11385   \n",
       "3     4120 WHITE PLAINS ROAD BRONX 10466   \n",
       "4          1276 FULTON ST BROOKLYN 11216   \n",
       "\n",
       "                           new_violations inspection_year violation_count  \n",
       "0  contamination, contamination, facility            2016               1  \n",
       "1                    hygiene, temperature            2017               1  \n",
       "2                          vermin, vermin            2017               1  \n",
       "3                          vermin, vermin            2017               1  \n",
       "4                       facility, hygiene            2017               1  \n",
       "\n",
       "[5 rows x 25 columns]"
      ]
     },
     "execution_count": 1034,
     "metadata": {},
     "output_type": "execute_result"
    }
   ],
   "source": [
    "df.head()"
   ]
  },
  {
   "cell_type": "code",
   "execution_count": 1035,
   "metadata": {
    "ExecuteTime": {
     "end_time": "2017-10-22T04:01:50.690947Z",
     "start_time": "2017-10-22T04:01:50.688512Z"
    },
    "collapsed": true
   },
   "outputs": [],
   "source": [
    "uniqueDF = df"
   ]
  },
  {
   "cell_type": "code",
   "execution_count": 1036,
   "metadata": {
    "ExecuteTime": {
     "end_time": "2017-10-22T04:01:51.046939Z",
     "start_time": "2017-10-22T04:01:51.001531Z"
    }
   },
   "outputs": [
    {
     "name": "stdout",
     "output_type": "stream",
     "text": [
      "<class 'pandas.core.frame.DataFrame'>\n",
      "Int64Index: 20283 entries, 0 to 25241\n",
      "Data columns (total 25 columns):\n",
      "key                      20283 non-null object\n",
      "violations               20283 non-null object\n",
      "critical                 20283 non-null object\n",
      "camis                    20283 non-null int64\n",
      "dba                      20283 non-null object\n",
      "boro                     20283 non-null object\n",
      "building                 20283 non-null object\n",
      "street                   20283 non-null object\n",
      "zipcode                  20283 non-null object\n",
      "phone                    20283 non-null object\n",
      "cuisine_description      20283 non-null object\n",
      "inspection_date          20283 non-null datetime64[ns]\n",
      "action                   20283 non-null object\n",
      "violation_code           20283 non-null object\n",
      "violation_description    20253 non-null object\n",
      "critical_flag            20283 non-null object\n",
      "score                    20283 non-null float64\n",
      "grade                    20283 non-null object\n",
      "grade_date               20283 non-null datetime64[ns]\n",
      "record_date              20283 non-null datetime64[ns]\n",
      "inspection_type          20283 non-null object\n",
      "address                  20283 non-null object\n",
      "new_violations           20283 non-null object\n",
      "inspection_year          20283 non-null int64\n",
      "violation_count          20283 non-null int64\n",
      "dtypes: datetime64[ns](3), float64(1), int64(3), object(18)\n",
      "memory usage: 4.0+ MB\n"
     ]
    }
   ],
   "source": [
    "uniqueDF.info()"
   ]
  },
  {
   "cell_type": "code",
   "execution_count": 1037,
   "metadata": {
    "ExecuteTime": {
     "end_time": "2017-10-22T04:01:54.000244Z",
     "start_time": "2017-10-22T04:01:53.995479Z"
    }
   },
   "outputs": [
    {
     "data": {
      "text/plain": [
       "0"
      ]
     },
     "execution_count": 1037,
     "metadata": {},
     "output_type": "execute_result"
    }
   ],
   "source": [
    "uniqueDF.grade.isnull().sum()"
   ]
  },
  {
   "cell_type": "code",
   "execution_count": 1038,
   "metadata": {
    "ExecuteTime": {
     "end_time": "2017-10-22T04:01:55.030017Z",
     "start_time": "2017-10-22T04:01:55.005629Z"
    }
   },
   "outputs": [
    {
     "data": {
      "text/html": [
       "<div>\n",
       "<style>\n",
       "    .dataframe thead tr:only-child th {\n",
       "        text-align: right;\n",
       "    }\n",
       "\n",
       "    .dataframe thead th {\n",
       "        text-align: left;\n",
       "    }\n",
       "\n",
       "    .dataframe tbody tr th {\n",
       "        vertical-align: top;\n",
       "    }\n",
       "</style>\n",
       "<table border=\"1\" class=\"dataframe\">\n",
       "  <thead>\n",
       "    <tr style=\"text-align: right;\">\n",
       "      <th></th>\n",
       "      <th>key</th>\n",
       "      <th>violations</th>\n",
       "      <th>critical</th>\n",
       "      <th>camis</th>\n",
       "      <th>dba</th>\n",
       "      <th>boro</th>\n",
       "      <th>building</th>\n",
       "      <th>street</th>\n",
       "      <th>zipcode</th>\n",
       "      <th>phone</th>\n",
       "      <th>...</th>\n",
       "      <th>critical_flag</th>\n",
       "      <th>score</th>\n",
       "      <th>grade</th>\n",
       "      <th>grade_date</th>\n",
       "      <th>record_date</th>\n",
       "      <th>inspection_type</th>\n",
       "      <th>address</th>\n",
       "      <th>new_violations</th>\n",
       "      <th>inspection_year</th>\n",
       "      <th>violation_count</th>\n",
       "    </tr>\n",
       "  </thead>\n",
       "  <tbody>\n",
       "    <tr>\n",
       "      <th>0</th>\n",
       "      <td>#1 Chinese Restaurant---825 W 181ST ST MANHATT...</td>\n",
       "      <td>06C, 06D, 10F</td>\n",
       "      <td>Critical, Critical, Not Critical</td>\n",
       "      <td>50050805</td>\n",
       "      <td>#1 Chinese Restaurant</td>\n",
       "      <td>MANHATTAN</td>\n",
       "      <td>825</td>\n",
       "      <td>W 181ST ST</td>\n",
       "      <td>10033</td>\n",
       "      <td>9173258805</td>\n",
       "      <td>...</td>\n",
       "      <td>Critical</td>\n",
       "      <td>13.0</td>\n",
       "      <td>A</td>\n",
       "      <td>2016-09-30</td>\n",
       "      <td>2017-08-28</td>\n",
       "      <td>Pre-permit (Operational) / Initial Inspection</td>\n",
       "      <td>825 W 181ST ST MANHATTAN 10033</td>\n",
       "      <td>contamination, contamination, facility</td>\n",
       "      <td>2016</td>\n",
       "      <td>1</td>\n",
       "    </tr>\n",
       "    <tr>\n",
       "      <th>1</th>\n",
       "      <td>#1 GARDEN CHINESE---221 PROSPECT PARK WEST BRO...</td>\n",
       "      <td>06A, 02G</td>\n",
       "      <td>Critical, Critical</td>\n",
       "      <td>41568346</td>\n",
       "      <td>#1 GARDEN CHINESE</td>\n",
       "      <td>BROOKLYN</td>\n",
       "      <td>221</td>\n",
       "      <td>PROSPECT PARK WEST</td>\n",
       "      <td>11215</td>\n",
       "      <td>7188321795</td>\n",
       "      <td>...</td>\n",
       "      <td>Critical</td>\n",
       "      <td>12.0</td>\n",
       "      <td>A</td>\n",
       "      <td>2017-08-23</td>\n",
       "      <td>2017-08-28</td>\n",
       "      <td>Cycle Inspection / Initial Inspection</td>\n",
       "      <td>221 PROSPECT PARK WEST BROOKLYN 11215</td>\n",
       "      <td>hygiene, temperature</td>\n",
       "      <td>2017</td>\n",
       "      <td>1</td>\n",
       "    </tr>\n",
       "    <tr>\n",
       "      <th>2</th>\n",
       "      <td>#1 Natural Juice Bar---685 SENECA AVE QUEENS 1...</td>\n",
       "      <td>08A, 04L</td>\n",
       "      <td>Not Critical, Critical</td>\n",
       "      <td>50051964</td>\n",
       "      <td>#1 Natural Juice Bar</td>\n",
       "      <td>QUEENS</td>\n",
       "      <td>685</td>\n",
       "      <td>SENECA AVE</td>\n",
       "      <td>11385</td>\n",
       "      <td>3479565161</td>\n",
       "      <td>...</td>\n",
       "      <td>Not Critical</td>\n",
       "      <td>10.0</td>\n",
       "      <td>A</td>\n",
       "      <td>2017-08-17</td>\n",
       "      <td>2017-08-28</td>\n",
       "      <td>Cycle Inspection / Initial Inspection</td>\n",
       "      <td>685 SENECA AVE QUEENS 11385</td>\n",
       "      <td>vermin, vermin</td>\n",
       "      <td>2017</td>\n",
       "      <td>1</td>\n",
       "    </tr>\n",
       "    <tr>\n",
       "      <th>3</th>\n",
       "      <td>#1 SABOR LATINO RESTAURANT---4120 WHITE PLAINS...</td>\n",
       "      <td>08A, 04L</td>\n",
       "      <td>Not Critical, Critical</td>\n",
       "      <td>41336841</td>\n",
       "      <td>#1 SABOR LATINO RESTAURANT</td>\n",
       "      <td>BRONX</td>\n",
       "      <td>4120</td>\n",
       "      <td>WHITE PLAINS ROAD</td>\n",
       "      <td>10466</td>\n",
       "      <td>7186532222</td>\n",
       "      <td>...</td>\n",
       "      <td>Not Critical</td>\n",
       "      <td>11.0</td>\n",
       "      <td>A</td>\n",
       "      <td>2017-03-16</td>\n",
       "      <td>2017-08-28</td>\n",
       "      <td>Cycle Inspection / Initial Inspection</td>\n",
       "      <td>4120 WHITE PLAINS ROAD BRONX 10466</td>\n",
       "      <td>vermin, vermin</td>\n",
       "      <td>2017</td>\n",
       "      <td>1</td>\n",
       "    </tr>\n",
       "    <tr>\n",
       "      <th>4</th>\n",
       "      <td>$1 PIZZA---1276 FULTON ST BROOKLYN 11216</td>\n",
       "      <td>10H, 06E</td>\n",
       "      <td>Not Critical, Critical</td>\n",
       "      <td>50061194</td>\n",
       "      <td>$1 PIZZA</td>\n",
       "      <td>BROOKLYN</td>\n",
       "      <td>1276</td>\n",
       "      <td>FULTON ST</td>\n",
       "      <td>11216</td>\n",
       "      <td>7186384685</td>\n",
       "      <td>...</td>\n",
       "      <td>Not Critical</td>\n",
       "      <td>10.0</td>\n",
       "      <td>A</td>\n",
       "      <td>2017-05-22</td>\n",
       "      <td>2017-08-28</td>\n",
       "      <td>Pre-permit (Operational) / Re-inspection</td>\n",
       "      <td>1276 FULTON ST BROOKLYN 11216</td>\n",
       "      <td>facility, hygiene</td>\n",
       "      <td>2017</td>\n",
       "      <td>1</td>\n",
       "    </tr>\n",
       "  </tbody>\n",
       "</table>\n",
       "<p>5 rows × 25 columns</p>\n",
       "</div>"
      ],
      "text/plain": [
       "                                                 key     violations  \\\n",
       "0  #1 Chinese Restaurant---825 W 181ST ST MANHATT...  06C, 06D, 10F   \n",
       "1  #1 GARDEN CHINESE---221 PROSPECT PARK WEST BRO...       06A, 02G   \n",
       "2  #1 Natural Juice Bar---685 SENECA AVE QUEENS 1...       08A, 04L   \n",
       "3  #1 SABOR LATINO RESTAURANT---4120 WHITE PLAINS...       08A, 04L   \n",
       "4           $1 PIZZA---1276 FULTON ST BROOKLYN 11216       10H, 06E   \n",
       "\n",
       "                           critical     camis                         dba  \\\n",
       "0  Critical, Critical, Not Critical  50050805       #1 Chinese Restaurant   \n",
       "1                Critical, Critical  41568346           #1 GARDEN CHINESE   \n",
       "2            Not Critical, Critical  50051964        #1 Natural Juice Bar   \n",
       "3            Not Critical, Critical  41336841  #1 SABOR LATINO RESTAURANT   \n",
       "4            Not Critical, Critical  50061194                    $1 PIZZA   \n",
       "\n",
       "        boro building              street zipcode       phone       ...        \\\n",
       "0  MANHATTAN      825          W 181ST ST   10033  9173258805       ...         \n",
       "1   BROOKLYN      221  PROSPECT PARK WEST   11215  7188321795       ...         \n",
       "2     QUEENS      685          SENECA AVE   11385  3479565161       ...         \n",
       "3      BRONX     4120   WHITE PLAINS ROAD   10466  7186532222       ...         \n",
       "4   BROOKLYN     1276           FULTON ST   11216  7186384685       ...         \n",
       "\n",
       "  critical_flag score grade grade_date record_date  \\\n",
       "0      Critical  13.0     A 2016-09-30  2017-08-28   \n",
       "1      Critical  12.0     A 2017-08-23  2017-08-28   \n",
       "2  Not Critical  10.0     A 2017-08-17  2017-08-28   \n",
       "3  Not Critical  11.0     A 2017-03-16  2017-08-28   \n",
       "4  Not Critical  10.0     A 2017-05-22  2017-08-28   \n",
       "\n",
       "                                 inspection_type  \\\n",
       "0  Pre-permit (Operational) / Initial Inspection   \n",
       "1          Cycle Inspection / Initial Inspection   \n",
       "2          Cycle Inspection / Initial Inspection   \n",
       "3          Cycle Inspection / Initial Inspection   \n",
       "4       Pre-permit (Operational) / Re-inspection   \n",
       "\n",
       "                                 address  \\\n",
       "0         825 W 181ST ST MANHATTAN 10033   \n",
       "1  221 PROSPECT PARK WEST BROOKLYN 11215   \n",
       "2            685 SENECA AVE QUEENS 11385   \n",
       "3     4120 WHITE PLAINS ROAD BRONX 10466   \n",
       "4          1276 FULTON ST BROOKLYN 11216   \n",
       "\n",
       "                           new_violations inspection_year violation_count  \n",
       "0  contamination, contamination, facility            2016               1  \n",
       "1                    hygiene, temperature            2017               1  \n",
       "2                          vermin, vermin            2017               1  \n",
       "3                          vermin, vermin            2017               1  \n",
       "4                       facility, hygiene            2017               1  \n",
       "\n",
       "[5 rows x 25 columns]"
      ]
     },
     "execution_count": 1038,
     "metadata": {},
     "output_type": "execute_result"
    }
   ],
   "source": [
    "uniqueDF.head()"
   ]
  },
  {
   "cell_type": "code",
   "execution_count": 602,
   "metadata": {
    "ExecuteTime": {
     "end_time": "2017-10-21T23:07:53.806354Z",
     "start_time": "2017-10-21T23:07:53.803989Z"
    }
   },
   "outputs": [],
   "source": [
    "#uniqueDF.shape"
   ]
  },
  {
   "cell_type": "code",
   "execution_count": 603,
   "metadata": {
    "ExecuteTime": {
     "end_time": "2017-10-21T23:07:53.811534Z",
     "start_time": "2017-10-21T23:07:53.808549Z"
    },
    "collapsed": true
   },
   "outputs": [],
   "source": [
    "#dupes = ['dba','address']"
   ]
  },
  {
   "cell_type": "code",
   "execution_count": 604,
   "metadata": {
    "ExecuteTime": {
     "end_time": "2017-10-21T23:07:53.815951Z",
     "start_time": "2017-10-21T23:07:53.813541Z"
    },
    "collapsed": true
   },
   "outputs": [],
   "source": [
    "#df2 = uniqueDF.drop_duplicates(subset=dupes,keep='first')"
   ]
  },
  {
   "cell_type": "code",
   "execution_count": 605,
   "metadata": {
    "ExecuteTime": {
     "end_time": "2017-10-21T23:07:53.820180Z",
     "start_time": "2017-10-21T23:07:53.817872Z"
    }
   },
   "outputs": [],
   "source": [
    "#df2.shape"
   ]
  },
  {
   "cell_type": "code",
   "execution_count": 606,
   "metadata": {
    "ExecuteTime": {
     "end_time": "2017-10-21T23:07:53.824691Z",
     "start_time": "2017-10-21T23:07:53.822177Z"
    }
   },
   "outputs": [],
   "source": [
    "#df2.head()"
   ]
  },
  {
   "cell_type": "code",
   "execution_count": 607,
   "metadata": {
    "ExecuteTime": {
     "end_time": "2017-10-21T23:07:53.829436Z",
     "start_time": "2017-10-21T23:07:53.826907Z"
    }
   },
   "outputs": [],
   "source": [
    "#df2.dropna(subset=['address'],inplace=True,axis=0)"
   ]
  },
  {
   "cell_type": "code",
   "execution_count": 608,
   "metadata": {
    "ExecuteTime": {
     "end_time": "2017-10-21T23:07:53.834304Z",
     "start_time": "2017-10-21T23:07:53.831576Z"
    }
   },
   "outputs": [],
   "source": [
    "#"
   ]
  },
  {
   "cell_type": "code",
   "execution_count": 1039,
   "metadata": {
    "ExecuteTime": {
     "end_time": "2017-10-22T04:02:02.229440Z",
     "start_time": "2017-10-22T04:02:02.221380Z"
    }
   },
   "outputs": [],
   "source": [
    "df.rename(columns={'dba':'name'},inplace=True)"
   ]
  },
  {
   "cell_type": "code",
   "execution_count": 1073,
   "metadata": {
    "ExecuteTime": {
     "end_time": "2017-10-22T04:06:10.628321Z",
     "start_time": "2017-10-22T04:06:10.621336Z"
    },
    "collapsed": true
   },
   "outputs": [],
   "source": [
    "uniqueDF = df.copy()"
   ]
  },
  {
   "cell_type": "code",
   "execution_count": 1074,
   "metadata": {
    "ExecuteTime": {
     "end_time": "2017-10-22T04:06:11.318769Z",
     "start_time": "2017-10-22T04:06:11.313228Z"
    }
   },
   "outputs": [
    {
     "data": {
      "text/plain": [
       "0"
      ]
     },
     "execution_count": 1074,
     "metadata": {},
     "output_type": "execute_result"
    }
   ],
   "source": [
    "uniqueDF.grade.isnull().sum()"
   ]
  },
  {
   "cell_type": "code",
   "execution_count": 1075,
   "metadata": {
    "ExecuteTime": {
     "end_time": "2017-10-22T04:06:11.971747Z",
     "start_time": "2017-10-22T04:06:11.833978Z"
    }
   },
   "outputs": [
    {
     "data": {
      "text/plain": [
       "<matplotlib.text.Text at 0x17ccb7ac8>"
      ]
     },
     "execution_count": 1075,
     "metadata": {},
     "output_type": "execute_result"
    },
    {
     "data": {
      "image/png": "[encoded data removed]",
      "text/plain": [
       "<matplotlib.figure.Figure at 0x17fd85978>"
      ]
     },
     "metadata": {},
     "output_type": "display_data"
    }
   ],
   "source": [
    "gradeGroup = uniqueDF.groupby('grade').grade.count()\n",
    "gradeGroup.plot(kind='bar')\n",
    "plt.ylabel(\"Count\")\n",
    "plt.xlabel(\"Health Grade\")"
   ]
  },
  {
   "cell_type": "code",
   "execution_count": 1076,
   "metadata": {
    "ExecuteTime": {
     "end_time": "2017-10-22T04:06:12.174415Z",
     "start_time": "2017-10-22T04:06:12.151211Z"
    }
   },
   "outputs": [
    {
     "data": {
      "text/plain": [
       "grade\n",
       "A    15394\n",
       "B      919\n",
       "C       96\n",
       "Name: name, dtype: int64"
      ]
     },
     "execution_count": 1076,
     "metadata": {},
     "output_type": "execute_result"
    }
   ],
   "source": [
    "uniqueDF.groupby('grade').name.nunique()"
   ]
  },
  {
   "cell_type": "code",
   "execution_count": 1077,
   "metadata": {
    "ExecuteTime": {
     "end_time": "2017-10-22T04:06:12.407188Z",
     "start_time": "2017-10-22T04:06:12.404517Z"
    },
    "collapsed": true
   },
   "outputs": [],
   "source": [
    "# def replace_cuisine(row,s,r):\n",
    "# #     "
   ]
  },
  {
   "cell_type": "code",
   "execution_count": 1078,
   "metadata": {
    "ExecuteTime": {
     "end_time": "2017-10-22T04:06:12.680070Z",
     "start_time": "2017-10-22T04:06:12.675098Z"
    },
    "collapsed": true
   },
   "outputs": [],
   "source": [
    "uniqueDF.cuisine_description.replace('CafÃ©/Coffee/Tea','Coffee',inplace=True)"
   ]
  },
  {
   "cell_type": "code",
   "execution_count": 1079,
   "metadata": {
    "ExecuteTime": {
     "end_time": "2017-10-22T04:06:12.929370Z",
     "start_time": "2017-10-22T04:06:12.924472Z"
    },
    "collapsed": true
   },
   "outputs": [],
   "source": [
    "uniqueDF.cuisine_description.replace('Latin (Cuban, Dominican, Puerto Rican, South & Central American)','Latin',inplace=True)"
   ]
  },
  {
   "cell_type": "code",
   "execution_count": 1080,
   "metadata": {
    "ExecuteTime": {
     "end_time": "2017-10-22T04:06:13.164782Z",
     "start_time": "2017-10-22T04:06:13.159821Z"
    },
    "collapsed": true
   },
   "outputs": [],
   "source": [
    "uniqueDF.cuisine_description.replace('Bottled beverages, including water, sodas, juices, etc.','Bottle Beverages',inplace=True)"
   ]
  },
  {
   "cell_type": "code",
   "execution_count": 1081,
   "metadata": {
    "ExecuteTime": {
     "end_time": "2017-10-22T04:06:13.337951Z",
     "start_time": "2017-10-22T04:06:13.332438Z"
    },
    "collapsed": true
   },
   "outputs": [],
   "source": [
    "uniqueDF.cuisine_description.replace('Sandwiches/Salads/Mixed Buffet','Mixed Buffet',inplace=True)"
   ]
  },
  {
   "cell_type": "code",
   "execution_count": 1082,
   "metadata": {
    "ExecuteTime": {
     "end_time": "2017-10-22T04:06:13.649944Z",
     "start_time": "2017-10-22T04:06:13.644962Z"
    },
    "collapsed": true
   },
   "outputs": [],
   "source": [
    "uniqueDF.cuisine_description.replace('Ice Cream, Gelato, Yogurt, Ices','Ice Cream',inplace=True)"
   ]
  },
  {
   "cell_type": "code",
   "execution_count": 1083,
   "metadata": {
    "ExecuteTime": {
     "end_time": "2017-10-22T04:06:13.886258Z",
     "start_time": "2017-10-22T04:06:13.881501Z"
    },
    "collapsed": true
   },
   "outputs": [],
   "source": [
    "uniqueDF.cuisine_description.replace('Soups & Sandwiches','Sandwiches',inplace=True)"
   ]
  },
  {
   "cell_type": "code",
   "execution_count": 1084,
   "metadata": {
    "ExecuteTime": {
     "end_time": "2017-10-22T04:06:14.070590Z",
     "start_time": "2017-10-22T04:06:14.055970Z"
    }
   },
   "outputs": [
    {
     "data": {
      "text/html": [
       "<div>\n",
       "<style>\n",
       "    .dataframe thead tr:only-child th {\n",
       "        text-align: right;\n",
       "    }\n",
       "\n",
       "    .dataframe thead th {\n",
       "        text-align: left;\n",
       "    }\n",
       "\n",
       "    .dataframe tbody tr th {\n",
       "        vertical-align: top;\n",
       "    }\n",
       "</style>\n",
       "<table border=\"1\" class=\"dataframe\">\n",
       "  <thead>\n",
       "    <tr style=\"text-align: right;\">\n",
       "      <th></th>\n",
       "      <th>cuisine_description</th>\n",
       "      <th>grade</th>\n",
       "    </tr>\n",
       "  </thead>\n",
       "  <tbody>\n",
       "    <tr>\n",
       "      <th>2</th>\n",
       "      <td>American</td>\n",
       "      <td>4876</td>\n",
       "    </tr>\n",
       "    <tr>\n",
       "      <th>17</th>\n",
       "      <td>Chinese</td>\n",
       "      <td>1937</td>\n",
       "    </tr>\n",
       "    <tr>\n",
       "      <th>20</th>\n",
       "      <td>Coffee</td>\n",
       "      <td>1286</td>\n",
       "    </tr>\n",
       "    <tr>\n",
       "      <th>62</th>\n",
       "      <td>Pizza</td>\n",
       "      <td>960</td>\n",
       "    </tr>\n",
       "    <tr>\n",
       "      <th>45</th>\n",
       "      <td>Italian</td>\n",
       "      <td>815</td>\n",
       "    </tr>\n",
       "  </tbody>\n",
       "</table>\n",
       "</div>"
      ],
      "text/plain": [
       "   cuisine_description  grade\n",
       "2             American   4876\n",
       "17             Chinese   1937\n",
       "20              Coffee   1286\n",
       "62               Pizza    960\n",
       "45             Italian    815"
      ]
     },
     "execution_count": 1084,
     "metadata": {},
     "output_type": "execute_result"
    }
   ],
   "source": [
    "cuisineGroup = uniqueDF.groupby('cuisine_description').grade.count().reset_index()\n",
    "cuisineGroup.sort_values('grade',ascending=False,inplace=True)\n",
    "cuisineGroup.head()"
   ]
  },
  {
   "cell_type": "code",
   "execution_count": 1085,
   "metadata": {
    "ExecuteTime": {
     "end_time": "2017-10-22T04:06:15.589434Z",
     "start_time": "2017-10-22T04:06:14.316872Z"
    },
    "collapsed": true
   },
   "outputs": [],
   "source": [
    "cuisineDF = uniqueDF.cuisine_description.str.get_dummies()"
   ]
  },
  {
   "cell_type": "code",
   "execution_count": 1086,
   "metadata": {
    "ExecuteTime": {
     "end_time": "2017-10-22T04:06:15.596516Z",
     "start_time": "2017-10-22T04:06:15.591370Z"
    }
   },
   "outputs": [
    {
     "data": {
      "text/plain": [
       "['Afghan',\n",
       " 'African',\n",
       " 'American',\n",
       " 'Armenian',\n",
       " 'Asian',\n",
       " 'Australian',\n",
       " 'Bagels/Pretzels',\n",
       " 'Bakery',\n",
       " 'Bangladeshi',\n",
       " 'Barbecue',\n",
       " 'Bottle Beverages',\n",
       " 'Brazilian',\n",
       " 'Cajun',\n",
       " 'Californian',\n",
       " 'Caribbean',\n",
       " 'Chicken',\n",
       " 'Chilean',\n",
       " 'Chinese',\n",
       " 'Chinese/Cuban',\n",
       " 'Chinese/Japanese',\n",
       " 'Coffee',\n",
       " 'Continental',\n",
       " 'Creole',\n",
       " 'Creole/Cajun',\n",
       " 'Czech',\n",
       " 'Delicatessen',\n",
       " 'Donuts',\n",
       " 'Eastern European',\n",
       " 'Egyptian',\n",
       " 'English',\n",
       " 'Ethiopian',\n",
       " 'Filipino',\n",
       " 'French',\n",
       " 'Fruits/Vegetables',\n",
       " 'German',\n",
       " 'Greek',\n",
       " 'Hamburgers',\n",
       " 'Hawaiian',\n",
       " 'Hotdogs',\n",
       " 'Hotdogs/Pretzels',\n",
       " 'Ice Cream',\n",
       " 'Indian',\n",
       " 'Indonesian',\n",
       " 'Iranian',\n",
       " 'Irish',\n",
       " 'Italian',\n",
       " 'Japanese',\n",
       " 'Jewish/Kosher',\n",
       " 'Juice, Smoothies, Fruit Salads',\n",
       " 'Korean',\n",
       " 'Latin',\n",
       " 'Mediterranean',\n",
       " 'Mexican',\n",
       " 'Middle Eastern',\n",
       " 'Mixed Buffet',\n",
       " 'Moroccan',\n",
       " 'Not Listed/Not Applicable',\n",
       " 'Nuts/Confectionary',\n",
       " 'Other',\n",
       " 'Pakistani',\n",
       " 'Pancakes/Waffles',\n",
       " 'Peruvian',\n",
       " 'Pizza',\n",
       " 'Pizza/Italian',\n",
       " 'Polish',\n",
       " 'Polynesian',\n",
       " 'Portuguese',\n",
       " 'Russian',\n",
       " 'Salads',\n",
       " 'Sandwiches',\n",
       " 'Scandinavian',\n",
       " 'Seafood',\n",
       " 'Soul Food',\n",
       " 'Soups',\n",
       " 'Southwestern',\n",
       " 'Spanish',\n",
       " 'Steak',\n",
       " 'Tapas',\n",
       " 'Tex-Mex',\n",
       " 'Thai',\n",
       " 'Turkish',\n",
       " 'Vegetarian',\n",
       " 'Vietnamese/Cambodian/Malaysia']"
      ]
     },
     "execution_count": 1086,
     "metadata": {},
     "output_type": "execute_result"
    }
   ],
   "source": [
    "cuisineDF.columns.tolist()"
   ]
  },
  {
   "cell_type": "code",
   "execution_count": 1087,
   "metadata": {
    "ExecuteTime": {
     "end_time": "2017-10-22T04:06:15.761943Z",
     "start_time": "2017-10-22T04:06:15.741074Z"
    }
   },
   "outputs": [
    {
     "data": {
      "text/html": [
       "<div>\n",
       "<style>\n",
       "    .dataframe thead tr:only-child th {\n",
       "        text-align: right;\n",
       "    }\n",
       "\n",
       "    .dataframe thead th {\n",
       "        text-align: left;\n",
       "    }\n",
       "\n",
       "    .dataframe tbody tr th {\n",
       "        vertical-align: top;\n",
       "    }\n",
       "</style>\n",
       "<table border=\"1\" class=\"dataframe\">\n",
       "  <thead>\n",
       "    <tr style=\"text-align: right;\">\n",
       "      <th></th>\n",
       "      <th>Afghan</th>\n",
       "      <th>African</th>\n",
       "      <th>American</th>\n",
       "      <th>Armenian</th>\n",
       "      <th>Asian</th>\n",
       "      <th>Australian</th>\n",
       "      <th>Bagels/Pretzels</th>\n",
       "      <th>Bakery</th>\n",
       "      <th>Bangladeshi</th>\n",
       "      <th>Barbecue</th>\n",
       "      <th>...</th>\n",
       "      <th>Soups</th>\n",
       "      <th>Southwestern</th>\n",
       "      <th>Spanish</th>\n",
       "      <th>Steak</th>\n",
       "      <th>Tapas</th>\n",
       "      <th>Tex-Mex</th>\n",
       "      <th>Thai</th>\n",
       "      <th>Turkish</th>\n",
       "      <th>Vegetarian</th>\n",
       "      <th>Vietnamese/Cambodian/Malaysia</th>\n",
       "    </tr>\n",
       "  </thead>\n",
       "  <tbody>\n",
       "    <tr>\n",
       "      <th>0</th>\n",
       "      <td>0</td>\n",
       "      <td>0</td>\n",
       "      <td>0</td>\n",
       "      <td>0</td>\n",
       "      <td>0</td>\n",
       "      <td>0</td>\n",
       "      <td>0</td>\n",
       "      <td>0</td>\n",
       "      <td>0</td>\n",
       "      <td>0</td>\n",
       "      <td>...</td>\n",
       "      <td>0</td>\n",
       "      <td>0</td>\n",
       "      <td>0</td>\n",
       "      <td>0</td>\n",
       "      <td>0</td>\n",
       "      <td>0</td>\n",
       "      <td>0</td>\n",
       "      <td>0</td>\n",
       "      <td>0</td>\n",
       "      <td>0</td>\n",
       "    </tr>\n",
       "    <tr>\n",
       "      <th>1</th>\n",
       "      <td>0</td>\n",
       "      <td>0</td>\n",
       "      <td>0</td>\n",
       "      <td>0</td>\n",
       "      <td>0</td>\n",
       "      <td>0</td>\n",
       "      <td>0</td>\n",
       "      <td>0</td>\n",
       "      <td>0</td>\n",
       "      <td>0</td>\n",
       "      <td>...</td>\n",
       "      <td>0</td>\n",
       "      <td>0</td>\n",
       "      <td>0</td>\n",
       "      <td>0</td>\n",
       "      <td>0</td>\n",
       "      <td>0</td>\n",
       "      <td>0</td>\n",
       "      <td>0</td>\n",
       "      <td>0</td>\n",
       "      <td>0</td>\n",
       "    </tr>\n",
       "    <tr>\n",
       "      <th>2</th>\n",
       "      <td>0</td>\n",
       "      <td>0</td>\n",
       "      <td>0</td>\n",
       "      <td>0</td>\n",
       "      <td>0</td>\n",
       "      <td>0</td>\n",
       "      <td>0</td>\n",
       "      <td>0</td>\n",
       "      <td>0</td>\n",
       "      <td>0</td>\n",
       "      <td>...</td>\n",
       "      <td>0</td>\n",
       "      <td>0</td>\n",
       "      <td>0</td>\n",
       "      <td>0</td>\n",
       "      <td>0</td>\n",
       "      <td>0</td>\n",
       "      <td>0</td>\n",
       "      <td>0</td>\n",
       "      <td>0</td>\n",
       "      <td>0</td>\n",
       "    </tr>\n",
       "    <tr>\n",
       "      <th>3</th>\n",
       "      <td>0</td>\n",
       "      <td>0</td>\n",
       "      <td>0</td>\n",
       "      <td>0</td>\n",
       "      <td>0</td>\n",
       "      <td>0</td>\n",
       "      <td>0</td>\n",
       "      <td>0</td>\n",
       "      <td>0</td>\n",
       "      <td>0</td>\n",
       "      <td>...</td>\n",
       "      <td>0</td>\n",
       "      <td>0</td>\n",
       "      <td>0</td>\n",
       "      <td>0</td>\n",
       "      <td>0</td>\n",
       "      <td>0</td>\n",
       "      <td>0</td>\n",
       "      <td>0</td>\n",
       "      <td>0</td>\n",
       "      <td>0</td>\n",
       "    </tr>\n",
       "    <tr>\n",
       "      <th>4</th>\n",
       "      <td>0</td>\n",
       "      <td>0</td>\n",
       "      <td>0</td>\n",
       "      <td>0</td>\n",
       "      <td>0</td>\n",
       "      <td>0</td>\n",
       "      <td>0</td>\n",
       "      <td>0</td>\n",
       "      <td>0</td>\n",
       "      <td>0</td>\n",
       "      <td>...</td>\n",
       "      <td>0</td>\n",
       "      <td>0</td>\n",
       "      <td>0</td>\n",
       "      <td>0</td>\n",
       "      <td>0</td>\n",
       "      <td>0</td>\n",
       "      <td>0</td>\n",
       "      <td>0</td>\n",
       "      <td>0</td>\n",
       "      <td>0</td>\n",
       "    </tr>\n",
       "  </tbody>\n",
       "</table>\n",
       "<p>5 rows × 83 columns</p>\n",
       "</div>"
      ],
      "text/plain": [
       "   Afghan  African  American  Armenian  Asian  Australian  Bagels/Pretzels  \\\n",
       "0       0        0         0         0      0           0                0   \n",
       "1       0        0         0         0      0           0                0   \n",
       "2       0        0         0         0      0           0                0   \n",
       "3       0        0         0         0      0           0                0   \n",
       "4       0        0         0         0      0           0                0   \n",
       "\n",
       "   Bakery  Bangladeshi  Barbecue              ...                Soups  \\\n",
       "0       0            0         0              ...                    0   \n",
       "1       0            0         0              ...                    0   \n",
       "2       0            0         0              ...                    0   \n",
       "3       0            0         0              ...                    0   \n",
       "4       0            0         0              ...                    0   \n",
       "\n",
       "   Southwestern  Spanish  Steak  Tapas  Tex-Mex  Thai  Turkish  Vegetarian  \\\n",
       "0             0        0      0      0        0     0        0           0   \n",
       "1             0        0      0      0        0     0        0           0   \n",
       "2             0        0      0      0        0     0        0           0   \n",
       "3             0        0      0      0        0     0        0           0   \n",
       "4             0        0      0      0        0     0        0           0   \n",
       "\n",
       "   Vietnamese/Cambodian/Malaysia  \n",
       "0                              0  \n",
       "1                              0  \n",
       "2                              0  \n",
       "3                              0  \n",
       "4                              0  \n",
       "\n",
       "[5 rows x 83 columns]"
      ]
     },
     "execution_count": 1087,
     "metadata": {},
     "output_type": "execute_result"
    }
   ],
   "source": [
    "cuisineDF.head()"
   ]
  },
  {
   "cell_type": "code",
   "execution_count": 1088,
   "metadata": {
    "ExecuteTime": {
     "end_time": "2017-10-22T04:06:17.648911Z",
     "start_time": "2017-10-22T04:06:17.628600Z"
    },
    "collapsed": true
   },
   "outputs": [],
   "source": [
    "uniqueDF = uniqueDF.join(cuisineDF)"
   ]
  },
  {
   "cell_type": "code",
   "execution_count": 1089,
   "metadata": {
    "ExecuteTime": {
     "end_time": "2017-10-22T04:06:18.024586Z",
     "start_time": "2017-10-22T04:06:18.022315Z"
    },
    "collapsed": true
   },
   "outputs": [],
   "source": [
    "#uniqueDF.to_pickle('data/inspection.pkl')"
   ]
  },
  {
   "cell_type": "code",
   "execution_count": 1090,
   "metadata": {
    "ExecuteTime": {
     "end_time": "2017-10-22T04:06:19.153739Z",
     "start_time": "2017-10-22T04:06:19.013628Z"
    }
   },
   "outputs": [],
   "source": [
    "criticalDF = uniqueDF.critical.str.get_dummies(', ')"
   ]
  },
  {
   "cell_type": "code",
   "execution_count": 1091,
   "metadata": {
    "ExecuteTime": {
     "end_time": "2017-10-22T04:06:20.911435Z",
     "start_time": "2017-10-22T04:06:20.908592Z"
    },
    "collapsed": true
   },
   "outputs": [],
   "source": [
    "criticalDF.columns = map(str.lower,criticalDF.columns)"
   ]
  },
  {
   "cell_type": "code",
   "execution_count": 1092,
   "metadata": {
    "ExecuteTime": {
     "end_time": "2017-10-22T04:06:29.691270Z",
     "start_time": "2017-10-22T04:06:29.683148Z"
    }
   },
   "outputs": [
    {
     "data": {
      "text/html": [
       "<div>\n",
       "<style>\n",
       "    .dataframe thead tr:only-child th {\n",
       "        text-align: right;\n",
       "    }\n",
       "\n",
       "    .dataframe thead th {\n",
       "        text-align: left;\n",
       "    }\n",
       "\n",
       "    .dataframe tbody tr th {\n",
       "        vertical-align: top;\n",
       "    }\n",
       "</style>\n",
       "<table border=\"1\" class=\"dataframe\">\n",
       "  <thead>\n",
       "    <tr style=\"text-align: right;\">\n",
       "      <th></th>\n",
       "      <th>critical</th>\n",
       "      <th>not applicable</th>\n",
       "      <th>not critical</th>\n",
       "    </tr>\n",
       "  </thead>\n",
       "  <tbody>\n",
       "    <tr>\n",
       "      <th>0</th>\n",
       "      <td>1</td>\n",
       "      <td>0</td>\n",
       "      <td>1</td>\n",
       "    </tr>\n",
       "    <tr>\n",
       "      <th>1</th>\n",
       "      <td>1</td>\n",
       "      <td>0</td>\n",
       "      <td>0</td>\n",
       "    </tr>\n",
       "    <tr>\n",
       "      <th>2</th>\n",
       "      <td>1</td>\n",
       "      <td>0</td>\n",
       "      <td>1</td>\n",
       "    </tr>\n",
       "    <tr>\n",
       "      <th>3</th>\n",
       "      <td>1</td>\n",
       "      <td>0</td>\n",
       "      <td>1</td>\n",
       "    </tr>\n",
       "    <tr>\n",
       "      <th>4</th>\n",
       "      <td>1</td>\n",
       "      <td>0</td>\n",
       "      <td>1</td>\n",
       "    </tr>\n",
       "  </tbody>\n",
       "</table>\n",
       "</div>"
      ],
      "text/plain": [
       "   critical  not applicable  not critical\n",
       "0         1               0             1\n",
       "1         1               0             0\n",
       "2         1               0             1\n",
       "3         1               0             1\n",
       "4         1               0             1"
      ]
     },
     "execution_count": 1092,
     "metadata": {},
     "output_type": "execute_result"
    }
   ],
   "source": [
    "criticalDF.head()"
   ]
  },
  {
   "cell_type": "code",
   "execution_count": 1058,
   "metadata": {
    "ExecuteTime": {
     "end_time": "2017-10-22T04:03:01.661926Z",
     "start_time": "2017-10-22T04:03:01.630491Z"
    },
    "collapsed": true
   },
   "outputs": [],
   "source": [
    "criticalDF.drop('not applicable',axis=1,inplace=\n",
    "               True)"
   ]
  },
  {
   "cell_type": "code",
   "execution_count": 1060,
   "metadata": {
    "ExecuteTime": {
     "end_time": "2017-10-22T04:03:40.224552Z",
     "start_time": "2017-10-22T04:03:40.175544Z"
    },
    "collapsed": true
   },
   "outputs": [],
   "source": [
    "uniqueDF.drop('critical',axis=1,inplace=True)"
   ]
  },
  {
   "cell_type": "code",
   "execution_count": 1061,
   "metadata": {
    "ExecuteTime": {
     "end_time": "2017-10-22T04:03:40.918749Z",
     "start_time": "2017-10-22T04:03:40.882661Z"
    }
   },
   "outputs": [],
   "source": [
    "uniqueDF = uniqueDF.join(criticalDF\n",
    "             )"
   ]
  },
  {
   "cell_type": "code",
   "execution_count": 1062,
   "metadata": {
    "ExecuteTime": {
     "end_time": "2017-10-22T04:03:44.486822Z",
     "start_time": "2017-10-22T04:03:44.310508Z"
    },
    "collapsed": true
   },
   "outputs": [],
   "source": [
    "uniqueDF.drop('critical_flag',inplace=True, axis=1)"
   ]
  },
  {
   "cell_type": "code",
   "execution_count": 1063,
   "metadata": {
    "ExecuteTime": {
     "end_time": "2017-10-22T04:03:51.804287Z",
     "start_time": "2017-10-22T04:03:51.761401Z"
    },
    "collapsed": true
   },
   "outputs": [],
   "source": [
    "uniqueDF.drop('Other',inplace=True,axis=1)"
   ]
  },
  {
   "cell_type": "code",
   "execution_count": 1064,
   "metadata": {
    "ExecuteTime": {
     "end_time": "2017-10-22T04:03:54.544506Z",
     "start_time": "2017-10-22T04:03:54.502268Z"
    },
    "collapsed": true
   },
   "outputs": [],
   "source": [
    "uniqueDF.drop('cuisine_description',inplace=True, axis=1)"
   ]
  },
  {
   "cell_type": "code",
   "execution_count": 1067,
   "metadata": {
    "ExecuteTime": {
     "end_time": "2017-10-22T04:05:04.564558Z",
     "start_time": "2017-10-22T04:05:04.375084Z"
    },
    "collapsed": true
   },
   "outputs": [],
   "source": [
    "violationDF = uniqueDF.new_violations.str.get_dummies(\", \")"
   ]
  },
  {
   "cell_type": "code",
   "execution_count": 1068,
   "metadata": {
    "ExecuteTime": {
     "end_time": "2017-10-22T04:05:05.125260Z",
     "start_time": "2017-10-22T04:05:05.115226Z"
    }
   },
   "outputs": [
    {
     "data": {
      "text/html": [
       "<div>\n",
       "<style>\n",
       "    .dataframe thead tr:only-child th {\n",
       "        text-align: right;\n",
       "    }\n",
       "\n",
       "    .dataframe thead th {\n",
       "        text-align: left;\n",
       "    }\n",
       "\n",
       "    .dataframe tbody tr th {\n",
       "        vertical-align: top;\n",
       "    }\n",
       "</style>\n",
       "<table border=\"1\" class=\"dataframe\">\n",
       "  <thead>\n",
       "    <tr style=\"text-align: right;\">\n",
       "      <th></th>\n",
       "      <th>contamination</th>\n",
       "      <th>facility</th>\n",
       "      <th>food_handling</th>\n",
       "      <th>hygiene</th>\n",
       "      <th>regulatory</th>\n",
       "      <th>temperature</th>\n",
       "      <th>vermin</th>\n",
       "    </tr>\n",
       "  </thead>\n",
       "  <tbody>\n",
       "    <tr>\n",
       "      <th>0</th>\n",
       "      <td>1</td>\n",
       "      <td>1</td>\n",
       "      <td>0</td>\n",
       "      <td>0</td>\n",
       "      <td>0</td>\n",
       "      <td>0</td>\n",
       "      <td>0</td>\n",
       "    </tr>\n",
       "    <tr>\n",
       "      <th>1</th>\n",
       "      <td>0</td>\n",
       "      <td>0</td>\n",
       "      <td>0</td>\n",
       "      <td>1</td>\n",
       "      <td>0</td>\n",
       "      <td>1</td>\n",
       "      <td>0</td>\n",
       "    </tr>\n",
       "    <tr>\n",
       "      <th>2</th>\n",
       "      <td>0</td>\n",
       "      <td>0</td>\n",
       "      <td>0</td>\n",
       "      <td>0</td>\n",
       "      <td>0</td>\n",
       "      <td>0</td>\n",
       "      <td>1</td>\n",
       "    </tr>\n",
       "    <tr>\n",
       "      <th>3</th>\n",
       "      <td>0</td>\n",
       "      <td>0</td>\n",
       "      <td>0</td>\n",
       "      <td>0</td>\n",
       "      <td>0</td>\n",
       "      <td>0</td>\n",
       "      <td>1</td>\n",
       "    </tr>\n",
       "    <tr>\n",
       "      <th>4</th>\n",
       "      <td>0</td>\n",
       "      <td>1</td>\n",
       "      <td>0</td>\n",
       "      <td>1</td>\n",
       "      <td>0</td>\n",
       "      <td>0</td>\n",
       "      <td>0</td>\n",
       "    </tr>\n",
       "  </tbody>\n",
       "</table>\n",
       "</div>"
      ],
      "text/plain": [
       "   contamination  facility  food_handling  hygiene  regulatory  temperature  \\\n",
       "0              1         1              0        0           0            0   \n",
       "1              0         0              0        1           0            1   \n",
       "2              0         0              0        0           0            0   \n",
       "3              0         0              0        0           0            0   \n",
       "4              0         1              0        1           0            0   \n",
       "\n",
       "   vermin  \n",
       "0       0  \n",
       "1       0  \n",
       "2       1  \n",
       "3       1  \n",
       "4       0  "
      ]
     },
     "execution_count": 1068,
     "metadata": {},
     "output_type": "execute_result"
    }
   ],
   "source": [
    "violationDF.head()"
   ]
  },
  {
   "cell_type": "code",
   "execution_count": 1069,
   "metadata": {
    "ExecuteTime": {
     "end_time": "2017-10-22T04:05:25.007132Z",
     "start_time": "2017-10-22T04:05:24.924823Z"
    },
    "collapsed": true
   },
   "outputs": [],
   "source": [
    "uniqueDF = uniqueDF.join(violationDF)"
   ]
  },
  {
   "cell_type": "code",
   "execution_count": 1070,
   "metadata": {
    "ExecuteTime": {
     "end_time": "2017-10-22T04:05:25.421159Z",
     "start_time": "2017-10-22T04:05:25.417099Z"
    }
   },
   "outputs": [
    {
     "data": {
      "text/plain": [
       "(20283, 559)"
      ]
     },
     "execution_count": 1070,
     "metadata": {},
     "output_type": "execute_result"
    }
   ],
   "source": [
    "uniqueDF.shape"
   ]
  },
  {
   "cell_type": "code",
   "execution_count": 638,
   "metadata": {
    "ExecuteTime": {
     "end_time": "2017-10-21T23:08:07.410869Z",
     "start_time": "2017-10-21T23:08:07.404204Z"
    }
   },
   "outputs": [
    {
     "data": {
      "text/plain": [
       "(22316, 3)"
      ]
     },
     "execution_count": 638,
     "metadata": {},
     "output_type": "execute_result"
    }
   ],
   "source": [
    "restGroup.shape"
   ]
  },
  {
   "cell_type": "code",
   "execution_count": 639,
   "metadata": {
    "ExecuteTime": {
     "end_time": "2017-10-21T23:08:07.415047Z",
     "start_time": "2017-10-21T23:08:07.412896Z"
    }
   },
   "outputs": [],
   "source": [
    "#uniqueDF.drop(['address','violation_count'],axis=1,inplace=True)"
   ]
  },
  {
   "cell_type": "code",
   "execution_count": 1071,
   "metadata": {
    "ExecuteTime": {
     "end_time": "2017-10-22T04:05:33.427726Z",
     "start_time": "2017-10-22T04:05:33.401472Z"
    }
   },
   "outputs": [
    {
     "data": {
      "text/html": [
       "<div>\n",
       "<style>\n",
       "    .dataframe thead tr:only-child th {\n",
       "        text-align: right;\n",
       "    }\n",
       "\n",
       "    .dataframe thead th {\n",
       "        text-align: left;\n",
       "    }\n",
       "\n",
       "    .dataframe tbody tr th {\n",
       "        vertical-align: top;\n",
       "    }\n",
       "</style>\n",
       "<table border=\"1\" class=\"dataframe\">\n",
       "  <thead>\n",
       "    <tr style=\"text-align: right;\">\n",
       "      <th></th>\n",
       "      <th>key</th>\n",
       "      <th>violations</th>\n",
       "      <th>camis</th>\n",
       "      <th>name</th>\n",
       "      <th>boro</th>\n",
       "      <th>building</th>\n",
       "      <th>street</th>\n",
       "      <th>zipcode</th>\n",
       "      <th>phone</th>\n",
       "      <th>inspection_date</th>\n",
       "      <th>...</th>\n",
       "      <th>not critical, not critical, not critical, not critical, not critical, not critical, not critical, not critical, not critical, not critical, not critical, not critical, not critical</th>\n",
       "      <th>not critical, not critical, not critical, not critical, not critical, not critical, not critical, not critical, not critical, not critical, not critical, not critical, not critical, not critical, not critical, not critical</th>\n",
       "      <th>not critical, not critical, not critical, not critical, not critical, not critical, not critical, not critical, not critical, not critical, not critical, not critical, not critical, not critical, not critical, not critical, not critical, not critical, not critical, not critical, not critical, not critical, not critical, not critical, not critical</th>\n",
       "      <th>contamination</th>\n",
       "      <th>facility</th>\n",
       "      <th>food_handling</th>\n",
       "      <th>hygiene</th>\n",
       "      <th>regulatory</th>\n",
       "      <th>temperature</th>\n",
       "      <th>vermin</th>\n",
       "    </tr>\n",
       "  </thead>\n",
       "  <tbody>\n",
       "    <tr>\n",
       "      <th>0</th>\n",
       "      <td>#1 Chinese Restaurant---825 W 181ST ST MANHATT...</td>\n",
       "      <td>06C, 06D, 10F</td>\n",
       "      <td>50050805</td>\n",
       "      <td>#1 Chinese Restaurant</td>\n",
       "      <td>MANHATTAN</td>\n",
       "      <td>825</td>\n",
       "      <td>W 181ST ST</td>\n",
       "      <td>10033</td>\n",
       "      <td>9173258805</td>\n",
       "      <td>2016-09-30</td>\n",
       "      <td>...</td>\n",
       "      <td>0</td>\n",
       "      <td>0</td>\n",
       "      <td>0</td>\n",
       "      <td>1</td>\n",
       "      <td>1</td>\n",
       "      <td>0</td>\n",
       "      <td>0</td>\n",
       "      <td>0</td>\n",
       "      <td>0</td>\n",
       "      <td>0</td>\n",
       "    </tr>\n",
       "    <tr>\n",
       "      <th>1</th>\n",
       "      <td>#1 GARDEN CHINESE---221 PROSPECT PARK WEST BRO...</td>\n",
       "      <td>06A, 02G</td>\n",
       "      <td>41568346</td>\n",
       "      <td>#1 GARDEN CHINESE</td>\n",
       "      <td>BROOKLYN</td>\n",
       "      <td>221</td>\n",
       "      <td>PROSPECT PARK WEST</td>\n",
       "      <td>11215</td>\n",
       "      <td>7188321795</td>\n",
       "      <td>2017-08-23</td>\n",
       "      <td>...</td>\n",
       "      <td>0</td>\n",
       "      <td>0</td>\n",
       "      <td>0</td>\n",
       "      <td>0</td>\n",
       "      <td>0</td>\n",
       "      <td>0</td>\n",
       "      <td>1</td>\n",
       "      <td>0</td>\n",
       "      <td>1</td>\n",
       "      <td>0</td>\n",
       "    </tr>\n",
       "    <tr>\n",
       "      <th>2</th>\n",
       "      <td>#1 Natural Juice Bar---685 SENECA AVE QUEENS 1...</td>\n",
       "      <td>08A, 04L</td>\n",
       "      <td>50051964</td>\n",
       "      <td>#1 Natural Juice Bar</td>\n",
       "      <td>QUEENS</td>\n",
       "      <td>685</td>\n",
       "      <td>SENECA AVE</td>\n",
       "      <td>11385</td>\n",
       "      <td>3479565161</td>\n",
       "      <td>2017-08-17</td>\n",
       "      <td>...</td>\n",
       "      <td>0</td>\n",
       "      <td>0</td>\n",
       "      <td>0</td>\n",
       "      <td>0</td>\n",
       "      <td>0</td>\n",
       "      <td>0</td>\n",
       "      <td>0</td>\n",
       "      <td>0</td>\n",
       "      <td>0</td>\n",
       "      <td>1</td>\n",
       "    </tr>\n",
       "    <tr>\n",
       "      <th>3</th>\n",
       "      <td>#1 SABOR LATINO RESTAURANT---4120 WHITE PLAINS...</td>\n",
       "      <td>08A, 04L</td>\n",
       "      <td>41336841</td>\n",
       "      <td>#1 SABOR LATINO RESTAURANT</td>\n",
       "      <td>BRONX</td>\n",
       "      <td>4120</td>\n",
       "      <td>WHITE PLAINS ROAD</td>\n",
       "      <td>10466</td>\n",
       "      <td>7186532222</td>\n",
       "      <td>2017-03-16</td>\n",
       "      <td>...</td>\n",
       "      <td>0</td>\n",
       "      <td>0</td>\n",
       "      <td>0</td>\n",
       "      <td>0</td>\n",
       "      <td>0</td>\n",
       "      <td>0</td>\n",
       "      <td>0</td>\n",
       "      <td>0</td>\n",
       "      <td>0</td>\n",
       "      <td>1</td>\n",
       "    </tr>\n",
       "    <tr>\n",
       "      <th>4</th>\n",
       "      <td>$1 PIZZA---1276 FULTON ST BROOKLYN 11216</td>\n",
       "      <td>10H, 06E</td>\n",
       "      <td>50061194</td>\n",
       "      <td>$1 PIZZA</td>\n",
       "      <td>BROOKLYN</td>\n",
       "      <td>1276</td>\n",
       "      <td>FULTON ST</td>\n",
       "      <td>11216</td>\n",
       "      <td>7186384685</td>\n",
       "      <td>2017-05-22</td>\n",
       "      <td>...</td>\n",
       "      <td>0</td>\n",
       "      <td>0</td>\n",
       "      <td>0</td>\n",
       "      <td>0</td>\n",
       "      <td>1</td>\n",
       "      <td>0</td>\n",
       "      <td>1</td>\n",
       "      <td>0</td>\n",
       "      <td>0</td>\n",
       "      <td>0</td>\n",
       "    </tr>\n",
       "  </tbody>\n",
       "</table>\n",
       "<p>5 rows × 559 columns</p>\n",
       "</div>"
      ],
      "text/plain": [
       "                                                 key     violations     camis  \\\n",
       "0  #1 Chinese Restaurant---825 W 181ST ST MANHATT...  06C, 06D, 10F  50050805   \n",
       "1  #1 GARDEN CHINESE---221 PROSPECT PARK WEST BRO...       06A, 02G  41568346   \n",
       "2  #1 Natural Juice Bar---685 SENECA AVE QUEENS 1...       08A, 04L  50051964   \n",
       "3  #1 SABOR LATINO RESTAURANT---4120 WHITE PLAINS...       08A, 04L  41336841   \n",
       "4           $1 PIZZA---1276 FULTON ST BROOKLYN 11216       10H, 06E  50061194   \n",
       "\n",
       "                         name       boro building              street zipcode  \\\n",
       "0       #1 Chinese Restaurant  MANHATTAN      825          W 181ST ST   10033   \n",
       "1           #1 GARDEN CHINESE   BROOKLYN      221  PROSPECT PARK WEST   11215   \n",
       "2        #1 Natural Juice Bar     QUEENS      685          SENECA AVE   11385   \n",
       "3  #1 SABOR LATINO RESTAURANT      BRONX     4120   WHITE PLAINS ROAD   10466   \n",
       "4                    $1 PIZZA   BROOKLYN     1276           FULTON ST   11216   \n",
       "\n",
       "        phone inspection_date  ...    \\\n",
       "0  9173258805      2016-09-30  ...     \n",
       "1  7188321795      2017-08-23  ...     \n",
       "2  3479565161      2017-08-17  ...     \n",
       "3  7186532222      2017-03-16  ...     \n",
       "4  7186384685      2017-05-22  ...     \n",
       "\n",
       "  not critical, not critical, not critical, not critical, not critical, not critical, not critical, not critical, not critical, not critical, not critical, not critical, not critical  \\\n",
       "0                                                  0                                                                                                                                     \n",
       "1                                                  0                                                                                                                                     \n",
       "2                                                  0                                                                                                                                     \n",
       "3                                                  0                                                                                                                                     \n",
       "4                                                  0                                                                                                                                     \n",
       "\n",
       "  not critical, not critical, not critical, not critical, not critical, not critical, not critical, not critical, not critical, not critical, not critical, not critical, not critical, not critical, not critical, not critical  \\\n",
       "0                                                  0                                                                                                                                                                               \n",
       "1                                                  0                                                                                                                                                                               \n",
       "2                                                  0                                                                                                                                                                               \n",
       "3                                                  0                                                                                                                                                                               \n",
       "4                                                  0                                                                                                                                                                               \n",
       "\n",
       "  not critical, not critical, not critical, not critical, not critical, not critical, not critical, not critical, not critical, not critical, not critical, not critical, not critical, not critical, not critical, not critical, not critical, not critical, not critical, not critical, not critical, not critical, not critical, not critical, not critical  \\\n",
       "0                                                  0                                                                                                                                                                                                                                                                                                             \n",
       "1                                                  0                                                                                                                                                                                                                                                                                                             \n",
       "2                                                  0                                                                                                                                                                                                                                                                                                             \n",
       "3                                                  0                                                                                                                                                                                                                                                                                                             \n",
       "4                                                  0                                                                                                                                                                                                                                                                                                             \n",
       "\n",
       "   contamination facility food_handling hygiene regulatory temperature vermin  \n",
       "0              1        1             0       0          0           0      0  \n",
       "1              0        0             0       1          0           1      0  \n",
       "2              0        0             0       0          0           0      1  \n",
       "3              0        0             0       0          0           0      1  \n",
       "4              0        1             0       1          0           0      0  \n",
       "\n",
       "[5 rows x 559 columns]"
      ]
     },
     "execution_count": 1071,
     "metadata": {},
     "output_type": "execute_result"
    }
   ],
   "source": [
    "uniqueDF.head()"
   ]
  },
  {
   "cell_type": "code",
   "execution_count": 641,
   "metadata": {
    "ExecuteTime": {
     "end_time": "2017-10-21T23:08:07.443301Z",
     "start_time": "2017-10-21T23:08:07.440990Z"
    }
   },
   "outputs": [],
   "source": [
    "#allDF = restGroup.join(uniqueDF,how='left')"
   ]
  },
  {
   "cell_type": "code",
   "execution_count": 642,
   "metadata": {
    "ExecuteTime": {
     "end_time": "2017-10-21T23:08:07.447210Z",
     "start_time": "2017-10-21T23:08:07.445048Z"
    }
   },
   "outputs": [],
   "source": [
    "#allDF.shape"
   ]
  },
  {
   "cell_type": "code",
   "execution_count": 643,
   "metadata": {
    "ExecuteTime": {
     "end_time": "2017-10-21T23:08:07.451031Z",
     "start_time": "2017-10-21T23:08:07.448976Z"
    }
   },
   "outputs": [],
   "source": [
    "#allDF.columns.tolist()"
   ]
  },
  {
   "cell_type": "code",
   "execution_count": 644,
   "metadata": {
    "ExecuteTime": {
     "end_time": "2017-10-21T23:08:07.455428Z",
     "start_time": "2017-10-21T23:08:07.453198Z"
    }
   },
   "outputs": [],
   "source": [
    "#allDF.drop('dba',axis=1,inplace=True)"
   ]
  },
  {
   "cell_type": "code",
   "execution_count": 645,
   "metadata": {
    "ExecuteTime": {
     "end_time": "2017-10-21T23:08:07.459368Z",
     "start_time": "2017-10-21T23:08:07.457186Z"
    }
   },
   "outputs": [],
   "source": [
    "#allDF.head()"
   ]
  },
  {
   "cell_type": "code",
   "execution_count": 646,
   "metadata": {
    "ExecuteTime": {
     "end_time": "2017-10-21T23:08:08.451186Z",
     "start_time": "2017-10-21T23:08:07.461538Z"
    },
    "collapsed": true
   },
   "outputs": [],
   "source": [
    "boroDF = uniqueDF.boro.str.get_dummies()"
   ]
  },
  {
   "cell_type": "code",
   "execution_count": 647,
   "metadata": {
    "ExecuteTime": {
     "end_time": "2017-10-21T23:08:08.456360Z",
     "start_time": "2017-10-21T23:08:08.453228Z"
    },
    "collapsed": true
   },
   "outputs": [],
   "source": [
    "boroDF.columns = map(str.lower, boroDF.columns)"
   ]
  },
  {
   "cell_type": "code",
   "execution_count": 648,
   "metadata": {
    "ExecuteTime": {
     "end_time": "2017-10-21T23:08:08.464957Z",
     "start_time": "2017-10-21T23:08:08.458453Z"
    },
    "collapsed": true
   },
   "outputs": [],
   "source": [
    "boroDF.drop('staten island',axis=1,inplace=True)"
   ]
  },
  {
   "cell_type": "code",
   "execution_count": 649,
   "metadata": {
    "ExecuteTime": {
     "end_time": "2017-10-21T23:08:08.561793Z",
     "start_time": "2017-10-21T23:08:08.467031Z"
    },
    "collapsed": true
   },
   "outputs": [],
   "source": [
    "uniqueDF = uniqueDF.join(boroDF)"
   ]
  },
  {
   "cell_type": "code",
   "execution_count": 650,
   "metadata": {
    "ExecuteTime": {
     "end_time": "2017-10-21T23:08:08.851194Z",
     "start_time": "2017-10-21T23:08:08.563695Z"
    },
    "collapsed": true
   },
   "outputs": [],
   "source": [
    "uniqueDF.drop('boro',axis=1,inplace=True)"
   ]
  },
  {
   "cell_type": "code",
   "execution_count": 652,
   "metadata": {
    "ExecuteTime": {
     "end_time": "2017-10-21T23:08:08.931432Z",
     "start_time": "2017-10-21T23:08:08.858406Z"
    },
    "collapsed": true
   },
   "outputs": [],
   "source": [
    "uniqueDF.drop(to_drop,axis=1,inplace=True)"
   ]
  },
  {
   "cell_type": "code",
   "execution_count": 653,
   "metadata": {
    "ExecuteTime": {
     "end_time": "2017-10-21T23:08:08.937257Z",
     "start_time": "2017-10-21T23:08:08.932944Z"
    }
   },
   "outputs": [
    {
     "data": {
      "text/plain": [
       "(150893, 105)"
      ]
     },
     "execution_count": 653,
     "metadata": {},
     "output_type": "execute_result"
    }
   ],
   "source": [
    "uniqueDF.shape"
   ]
  },
  {
   "cell_type": "code",
   "execution_count": 660,
   "metadata": {
    "ExecuteTime": {
     "end_time": "2017-10-21T23:10:27.265542Z",
     "start_time": "2017-10-21T23:10:27.186326Z"
    }
   },
   "outputs": [
    {
     "data": {
      "text/plain": [
       "name                                                                 inspection_date\n",
       "#1 Chinese Restaurant                                                2016-09-30         3\n",
       "#1 GARDEN CHINESE                                                    2014-10-29         2\n",
       "                                                                     2015-04-06         1\n",
       "                                                                     2015-09-09         2\n",
       "                                                                     2016-03-10         2\n",
       "                                                                     2016-12-07         2\n",
       "#1 Natural Juice Bar                                                 2016-07-13         4\n",
       "#1 SABOR LATINO RESTAURANT                                           2014-04-15         6\n",
       "                                                                     2014-09-30         3\n",
       "                                                                     2015-04-24         3\n",
       "                                                                     2016-01-20         5\n",
       "                                                                     2016-09-29         4\n",
       "$1 PIZZA $2 BEER                                                     2014-11-21         4\n",
       "                                                                     2015-06-09         2\n",
       "                                                                     2016-01-12         2\n",
       "                                                                     2016-08-08         4\n",
       "''W'' CAFE                                                           2015-01-29         4\n",
       "                                                                     2015-09-09         2\n",
       "                                                                     2015-12-03         3\n",
       "(LEWIS DRUG STORE) LOCANDA VINI E OLII                               2015-03-11         1\n",
       "                                                                     2016-05-31         1\n",
       "(LIBRARY)  FOUR & TWENTY BLACKBIRDS                                  2014-11-21         1\n",
       "                                                                     2015-12-05         2\n",
       "                                                                     2016-05-31         3\n",
       "(PUBLIC FARE) 81st street and central park west (Delacorte Theatre)  2015-05-22         3\n",
       "                                                                     2016-05-24         2\n",
       ".TAO                                                                 2014-01-14         2\n",
       "                                                                     2014-10-07         2\n",
       "                                                                     2015-04-28         2\n",
       "                                                                     2016-01-27         2\n",
       "                                                                                       ..\n",
       "ZZ CLAM BAR                                                          2014-05-15         2\n",
       "                                                                     2015-03-04         1\n",
       "                                                                     2015-09-10         2\n",
       "ZZ'S PIZZA & GRILL                                                   2014-07-24         2\n",
       "                                                                     2015-01-13         1\n",
       "                                                                     2015-08-26         2\n",
       "                                                                     2016-06-16         3\n",
       "Zenon Taverna                                                        2016-12-14         2\n",
       "cats on the bay                                                      2014-02-19         3\n",
       "                                                                     2015-04-09         2\n",
       "                                                                     2016-05-12         3\n",
       "                                                                     2016-10-22         3\n",
       "city of saints coffee roasters                                       2014-09-11         2\n",
       "                                                                     2015-08-26         1\n",
       "                                                                     2016-09-29         1\n",
       "cloud social                                                         2015-01-15         1\n",
       "                                                                     2015-05-13         3\n",
       "                                                                     2016-04-18         2\n",
       "energy fuel                                                          2014-04-01         2\n",
       "                                                                     2015-03-19         2\n",
       "                                                                     2016-03-04         2\n",
       "re.union                                                             2014-09-09         2\n",
       "                                                                     2015-10-08         2\n",
       "                                                                     2016-04-14         2\n",
       "                                                                     2016-11-09         2\n",
       "taci's beyti restaurant                                              2014-09-18         2\n",
       "                                                                     2015-12-01         1\n",
       "tutto il giorno                                                      2014-08-05         1\n",
       "                                                                     2015-03-18         3\n",
       "                                                                     2016-05-03         3\n",
       "Name: violation_code, Length: 63034, dtype: int64"
      ]
     },
     "execution_count": 660,
     "metadata": {},
     "output_type": "execute_result"
    }
   ],
   "source": [
    "uniqueDF.groupby(['name','inspection_date']).violation_code.count()"
   ]
  },
  {
   "cell_type": "code",
   "execution_count": 654,
   "metadata": {
    "ExecuteTime": {
     "end_time": "2017-10-21T23:08:08.963379Z",
     "start_time": "2017-10-21T23:08:08.939141Z"
    }
   },
   "outputs": [
    {
     "data": {
      "text/html": [
       "<div>\n",
       "<style>\n",
       "    .dataframe thead tr:only-child th {\n",
       "        text-align: right;\n",
       "    }\n",
       "\n",
       "    .dataframe thead th {\n",
       "        text-align: left;\n",
       "    }\n",
       "\n",
       "    .dataframe tbody tr th {\n",
       "        vertical-align: top;\n",
       "    }\n",
       "</style>\n",
       "<table border=\"1\" class=\"dataframe\">\n",
       "  <thead>\n",
       "    <tr style=\"text-align: right;\">\n",
       "      <th></th>\n",
       "      <th>name</th>\n",
       "      <th>zipcode</th>\n",
       "      <th>inspection_date</th>\n",
       "      <th>violation_code</th>\n",
       "      <th>score</th>\n",
       "      <th>grade</th>\n",
       "      <th>violations</th>\n",
       "      <th>inspection_year</th>\n",
       "      <th>address</th>\n",
       "      <th>violation_count</th>\n",
       "      <th>...</th>\n",
       "      <th>facility</th>\n",
       "      <th>food_handling</th>\n",
       "      <th>hygiene</th>\n",
       "      <th>regulatory</th>\n",
       "      <th>temperature</th>\n",
       "      <th>vermin</th>\n",
       "      <th>bronx</th>\n",
       "      <th>brooklyn</th>\n",
       "      <th>manhattan</th>\n",
       "      <th>queens</th>\n",
       "    </tr>\n",
       "  </thead>\n",
       "  <tbody>\n",
       "    <tr>\n",
       "      <th>9</th>\n",
       "      <td>TOMOE SUSHI</td>\n",
       "      <td>10012</td>\n",
       "      <td>2015-10-06</td>\n",
       "      <td>02G</td>\n",
       "      <td>13.0</td>\n",
       "      <td>A</td>\n",
       "      <td>temperature</td>\n",
       "      <td>2015</td>\n",
       "      <td>172 THOMPSON STREET MANHATTAN 10012</td>\n",
       "      <td>1</td>\n",
       "      <td>...</td>\n",
       "      <td>0</td>\n",
       "      <td>0</td>\n",
       "      <td>0</td>\n",
       "      <td>0</td>\n",
       "      <td>1</td>\n",
       "      <td>0</td>\n",
       "      <td>0</td>\n",
       "      <td>0</td>\n",
       "      <td>1</td>\n",
       "      <td>0</td>\n",
       "    </tr>\n",
       "    <tr>\n",
       "      <th>12</th>\n",
       "      <td>CRAB SPOT RESTAURANT</td>\n",
       "      <td>11215</td>\n",
       "      <td>2016-07-28</td>\n",
       "      <td>09C</td>\n",
       "      <td>12.0</td>\n",
       "      <td>A</td>\n",
       "      <td>food_handling</td>\n",
       "      <td>2016</td>\n",
       "      <td>833 UNION STREET BROOKLYN 11215</td>\n",
       "      <td>1</td>\n",
       "      <td>...</td>\n",
       "      <td>0</td>\n",
       "      <td>1</td>\n",
       "      <td>0</td>\n",
       "      <td>0</td>\n",
       "      <td>0</td>\n",
       "      <td>0</td>\n",
       "      <td>0</td>\n",
       "      <td>1</td>\n",
       "      <td>0</td>\n",
       "      <td>0</td>\n",
       "    </tr>\n",
       "    <tr>\n",
       "      <th>16</th>\n",
       "      <td>NOM WAH TEA/DIM SUM PALOR</td>\n",
       "      <td>10013</td>\n",
       "      <td>2014-09-02</td>\n",
       "      <td>02G</td>\n",
       "      <td>18.0</td>\n",
       "      <td>B</td>\n",
       "      <td>temperature</td>\n",
       "      <td>2014</td>\n",
       "      <td>13 DOYERS STREET MANHATTAN 10013</td>\n",
       "      <td>1</td>\n",
       "      <td>...</td>\n",
       "      <td>0</td>\n",
       "      <td>0</td>\n",
       "      <td>0</td>\n",
       "      <td>0</td>\n",
       "      <td>1</td>\n",
       "      <td>0</td>\n",
       "      <td>0</td>\n",
       "      <td>0</td>\n",
       "      <td>1</td>\n",
       "      <td>0</td>\n",
       "    </tr>\n",
       "    <tr>\n",
       "      <th>17</th>\n",
       "      <td>LUIGI'S PIZZA &amp; PASTA</td>\n",
       "      <td>10452</td>\n",
       "      <td>2014-10-27</td>\n",
       "      <td>10B</td>\n",
       "      <td>13.0</td>\n",
       "      <td>A</td>\n",
       "      <td>facility</td>\n",
       "      <td>2014</td>\n",
       "      <td>119 EAST MOUNT EDEN AVENUE BRONX 10452</td>\n",
       "      <td>1</td>\n",
       "      <td>...</td>\n",
       "      <td>1</td>\n",
       "      <td>0</td>\n",
       "      <td>0</td>\n",
       "      <td>0</td>\n",
       "      <td>0</td>\n",
       "      <td>0</td>\n",
       "      <td>1</td>\n",
       "      <td>0</td>\n",
       "      <td>0</td>\n",
       "      <td>0</td>\n",
       "    </tr>\n",
       "    <tr>\n",
       "      <th>22</th>\n",
       "      <td>SERVICE BAR 7</td>\n",
       "      <td>11420</td>\n",
       "      <td>2016-04-07</td>\n",
       "      <td>10B</td>\n",
       "      <td>7.0</td>\n",
       "      <td>A</td>\n",
       "      <td>facility</td>\n",
       "      <td>2016</td>\n",
       "      <td>11000 ROCKAWAY BOULEVARD QUEENS 11420</td>\n",
       "      <td>1</td>\n",
       "      <td>...</td>\n",
       "      <td>1</td>\n",
       "      <td>0</td>\n",
       "      <td>0</td>\n",
       "      <td>0</td>\n",
       "      <td>0</td>\n",
       "      <td>0</td>\n",
       "      <td>0</td>\n",
       "      <td>0</td>\n",
       "      <td>0</td>\n",
       "      <td>1</td>\n",
       "    </tr>\n",
       "  </tbody>\n",
       "</table>\n",
       "<p>5 rows × 105 columns</p>\n",
       "</div>"
      ],
      "text/plain": [
       "                         name zipcode inspection_date violation_code  score  \\\n",
       "9                 TOMOE SUSHI   10012      2015-10-06            02G   13.0   \n",
       "12       CRAB SPOT RESTAURANT   11215      2016-07-28            09C   12.0   \n",
       "16  NOM WAH TEA/DIM SUM PALOR   10013      2014-09-02            02G   18.0   \n",
       "17      LUIGI'S PIZZA & PASTA   10452      2014-10-27            10B   13.0   \n",
       "22              SERVICE BAR 7   11420      2016-04-07            10B    7.0   \n",
       "\n",
       "   grade     violations  inspection_year  \\\n",
       "9      A    temperature             2015   \n",
       "12     A  food_handling             2016   \n",
       "16     B    temperature             2014   \n",
       "17     A       facility             2014   \n",
       "22     A       facility             2016   \n",
       "\n",
       "                                   address  violation_count   ...    facility  \\\n",
       "9      172 THOMPSON STREET MANHATTAN 10012                1   ...           0   \n",
       "12         833 UNION STREET BROOKLYN 11215                1   ...           0   \n",
       "16        13 DOYERS STREET MANHATTAN 10013                1   ...           0   \n",
       "17  119 EAST MOUNT EDEN AVENUE BRONX 10452                1   ...           1   \n",
       "22   11000 ROCKAWAY BOULEVARD QUEENS 11420                1   ...           1   \n",
       "\n",
       "    food_handling  hygiene  regulatory  temperature  vermin  bronx  brooklyn  \\\n",
       "9               0        0           0            1       0      0         0   \n",
       "12              1        0           0            0       0      0         1   \n",
       "16              0        0           0            1       0      0         0   \n",
       "17              0        0           0            0       0      1         0   \n",
       "22              0        0           0            0       0      0         0   \n",
       "\n",
       "    manhattan  queens  \n",
       "9           1       0  \n",
       "12          0       0  \n",
       "16          1       0  \n",
       "17          0       0  \n",
       "22          0       1  \n",
       "\n",
       "[5 rows x 105 columns]"
      ]
     },
     "execution_count": 654,
     "metadata": {},
     "output_type": "execute_result"
    }
   ],
   "source": [
    "uniqueDF.head()"
   ]
  },
  {
   "cell_type": "code",
   "execution_count": 655,
   "metadata": {
    "ExecuteTime": {
     "end_time": "2017-10-21T23:08:17.527652Z",
     "start_time": "2017-10-21T23:08:08.965212Z"
    }
   },
   "outputs": [],
   "source": [
    "uniqueDF.to_csv('test.csv')"
   ]
  },
  {
   "cell_type": "code",
   "execution_count": 656,
   "metadata": {
    "ExecuteTime": {
     "end_time": "2017-10-21T23:08:17.532407Z",
     "start_time": "2017-10-21T23:08:17.529398Z"
    }
   },
   "outputs": [],
   "source": [
    "#testDF = uniqueDF.loc[uniqueDF.groupby(['name','violations'])['inspection_date'].idxmax()]"
   ]
  },
  {
   "cell_type": "code",
   "execution_count": 549,
   "metadata": {
    "ExecuteTime": {
     "end_time": "2017-10-21T22:59:22.450723Z",
     "start_time": "2017-10-21T22:59:22.448266Z"
    }
   },
   "outputs": [],
   "source": [
    "# testDF."
   ]
  },
  {
   "cell_type": "code",
   "execution_count": 550,
   "metadata": {
    "ExecuteTime": {
     "end_time": "2017-10-21T22:59:26.038407Z",
     "start_time": "2017-10-21T22:59:22.452855Z"
    },
    "collapsed": true
   },
   "outputs": [],
   "source": [
    "testDF.to_csv('maxtest.csv')"
   ]
  },
  {
   "cell_type": "code",
   "execution_count": 200,
   "metadata": {
    "ExecuteTime": {
     "end_time": "2017-10-21T21:16:53.647761Z",
     "start_time": "2017-10-21T21:16:53.611315Z"
    },
    "collapsed": true
   },
   "outputs": [],
   "source": [
    "dfFeatures = ['violation_count' 'zipcode', 'score', 'grade', 'contamination','facility','food_handling','hygiene','temperature','vermin', 'inspection_year', 'Afghan', 'African', 'American', 'Armenian', 'Asian', 'Australian', 'Bagels/Pretzels', 'Bakery', 'Bangladeshi', 'Barbecue', 'Bottle Beverages', 'Brazilian', 'Cajun', 'Californian', 'Caribbean', 'Chicken', 'Chilean', 'Chinese', 'Chinese/Cuban', 'Chinese/Japanese', 'Coffee', 'Continental', 'Creole', 'Creole/Cajun', 'Czech', 'Delicatessen', 'Donuts', 'Eastern European', 'Egyptian', 'English', 'Ethiopian', 'Filipino', 'French', 'Fruits/Vegetables', 'German', 'Greek', 'Hamburgers', 'Hawaiian', 'Hotdogs', 'Hotdogs/Pretzels', 'Ice Cream', 'Indian', 'Indonesian', 'Iranian', 'Irish', 'Italian', 'Japanese', 'Jewish/Kosher', 'Juice, Smoothies, Fruit Salads', 'Korean', 'Latin', 'Mediterranean', 'Mexican', 'Middle Eastern', 'Mixed Buffet', 'Moroccan', 'Not Listed/Not Applicable', 'Nuts/Confectionary', 'Pakistani', 'Pancakes/Waffles', 'Peruvian', 'Pizza', 'Pizza/Italian', 'Polish', 'Polynesian', 'Portuguese', 'Russian', 'Salads', 'Sandwiches', 'Scandinavian', 'Seafood', 'Soul Food', 'Soups', 'Southwestern', 'Spanish', 'Steak', 'Tapas', 'Tex-Mex', 'Thai', 'Turkish', 'Vegetarian', 'Vietnamese/Cambodian/Malaysia', 'bronx', 'brooklyn', 'manhattan', 'queens','match']"
   ]
  },
  {
   "cell_type": "code",
   "execution_count": 931,
   "metadata": {
    "ExecuteTime": {
     "end_time": "2017-10-22T03:24:52.835503Z",
     "start_time": "2017-10-22T03:24:52.832549Z"
    },
    "collapsed": true
   },
   "outputs": [],
   "source": [
    "to_drop = ['key','camis','dba','boro','building','street','phone','action',\n",
    " 'violation_description','grade_date','record_date','inspection_type',]"
   ]
  },
  {
   "cell_type": "code",
   "execution_count": 218,
   "metadata": {
    "ExecuteTime": {
     "end_time": "2017-10-21T21:28:42.974341Z",
     "start_time": "2017-10-21T21:28:42.961934Z"
    }
   },
   "outputs": [
    {
     "data": {
      "text/plain": [
       "0"
      ]
     },
     "execution_count": 218,
     "metadata": {},
     "output_type": "execute_result"
    }
   ],
   "source": []
  },
  {
   "cell_type": "markdown",
   "metadata": {},
   "source": [
    "## Yelp Data"
   ]
  },
  {
   "cell_type": "code",
   "execution_count": 114,
   "metadata": {
    "ExecuteTime": {
     "end_time": "2017-10-21T21:07:36.225699Z",
     "start_time": "2017-10-21T21:07:33.693988Z"
    },
    "collapsed": true,
    "scrolled": true
   },
   "outputs": [],
   "source": [
    "data = []\n",
    "with open('data/yelp_restaurants.json') as f:\n",
    "    for line in f:\n",
    "        data.append(json.loads(line))\n",
    "    \n",
    "yelpDF = pd.io.json.json_normalize(data)"
   ]
  },
  {
   "cell_type": "code",
   "execution_count": 115,
   "metadata": {
    "ExecuteTime": {
     "end_time": "2017-10-21T21:07:36.251103Z",
     "start_time": "2017-10-21T21:07:36.227556Z"
    }
   },
   "outputs": [
    {
     "data": {
      "text/html": [
       "<div>\n",
       "<style>\n",
       "    .dataframe thead tr:only-child th {\n",
       "        text-align: right;\n",
       "    }\n",
       "\n",
       "    .dataframe thead th {\n",
       "        text-align: left;\n",
       "    }\n",
       "\n",
       "    .dataframe tbody tr th {\n",
       "        vertical-align: top;\n",
       "    }\n",
       "</style>\n",
       "<table border=\"1\" class=\"dataframe\">\n",
       "  <thead>\n",
       "    <tr style=\"text-align: right;\">\n",
       "      <th></th>\n",
       "      <th>business_id</th>\n",
       "      <th>business_name</th>\n",
       "      <th>categories</th>\n",
       "      <th>coordinates.latitude</th>\n",
       "      <th>coordinates.longitude</th>\n",
       "      <th>is_closed</th>\n",
       "      <th>location.address1</th>\n",
       "      <th>location.address2</th>\n",
       "      <th>location.address3</th>\n",
       "      <th>location.city</th>\n",
       "      <th>location.country</th>\n",
       "      <th>location.display_address</th>\n",
       "      <th>location.state</th>\n",
       "      <th>location.zip_code</th>\n",
       "      <th>price</th>\n",
       "      <th>rating</th>\n",
       "      <th>review_count</th>\n",
       "    </tr>\n",
       "  </thead>\n",
       "  <tbody>\n",
       "    <tr>\n",
       "      <th>0</th>\n",
       "      <td>notaro-ristorante-new-york-2</td>\n",
       "      <td>Notaro Ristorante</td>\n",
       "      <td>[{'alias': 'italian', 'title': 'Italian'}]</td>\n",
       "      <td>40.745323</td>\n",
       "      <td>-73.975845</td>\n",
       "      <td>False</td>\n",
       "      <td>635 2nd Ave</td>\n",
       "      <td></td>\n",
       "      <td></td>\n",
       "      <td>New York</td>\n",
       "      <td>US</td>\n",
       "      <td>[635 2nd Ave, New York, NY 10016]</td>\n",
       "      <td>NY</td>\n",
       "      <td>10016</td>\n",
       "      <td>$$</td>\n",
       "      <td>3.0</td>\n",
       "      <td>90</td>\n",
       "    </tr>\n",
       "    <tr>\n",
       "      <th>1</th>\n",
       "      <td>vite-bar-astoria</td>\n",
       "      <td>Vite Bar</td>\n",
       "      <td>[{'alias': 'italian', 'title': 'Italian'}, {'a...</td>\n",
       "      <td>40.763414</td>\n",
       "      <td>-73.928119</td>\n",
       "      <td>False</td>\n",
       "      <td>2507 Broadway</td>\n",
       "      <td></td>\n",
       "      <td></td>\n",
       "      <td>Astoria</td>\n",
       "      <td>US</td>\n",
       "      <td>[2507 Broadway, Astoria, NY 11106]</td>\n",
       "      <td>NY</td>\n",
       "      <td>11106</td>\n",
       "      <td>$$</td>\n",
       "      <td>4.5</td>\n",
       "      <td>76</td>\n",
       "    </tr>\n",
       "    <tr>\n",
       "      <th>2</th>\n",
       "      <td>tacks-chinese-take-out-staten-island</td>\n",
       "      <td>Tack's Chinese Take Out</td>\n",
       "      <td>[{'alias': 'chinese', 'title': 'Chinese'}]</td>\n",
       "      <td>40.604620</td>\n",
       "      <td>-74.121230</td>\n",
       "      <td>False</td>\n",
       "      <td>11C Holden Blvd</td>\n",
       "      <td></td>\n",
       "      <td></td>\n",
       "      <td>Staten Island</td>\n",
       "      <td>US</td>\n",
       "      <td>[11C Holden Blvd, Staten Island, NY 10314]</td>\n",
       "      <td>NY</td>\n",
       "      <td>10314</td>\n",
       "      <td>$$</td>\n",
       "      <td>4.0</td>\n",
       "      <td>52</td>\n",
       "    </tr>\n",
       "    <tr>\n",
       "      <th>3</th>\n",
       "      <td>no-quarter-brooklyn</td>\n",
       "      <td>No Quarter</td>\n",
       "      <td>[{'alias': 'lounges', 'title': 'Lounges'}]</td>\n",
       "      <td>40.625198</td>\n",
       "      <td>-74.024025</td>\n",
       "      <td>False</td>\n",
       "      <td>8015 5th Ave</td>\n",
       "      <td></td>\n",
       "      <td></td>\n",
       "      <td>Brooklyn</td>\n",
       "      <td>US</td>\n",
       "      <td>[8015 5th Ave, Brooklyn, NY 11209]</td>\n",
       "      <td>NY</td>\n",
       "      <td>11209</td>\n",
       "      <td>$</td>\n",
       "      <td>2.5</td>\n",
       "      <td>16</td>\n",
       "    </tr>\n",
       "    <tr>\n",
       "      <th>4</th>\n",
       "      <td>henris-backyard-brooklyn</td>\n",
       "      <td>HENRI's Backyard</td>\n",
       "      <td>[{'alias': 'beerbar', 'title': 'Beer Bar'}, {'...</td>\n",
       "      <td>40.676470</td>\n",
       "      <td>-73.983940</td>\n",
       "      <td>True</td>\n",
       "      <td>256 4th Ave</td>\n",
       "      <td>None</td>\n",
       "      <td></td>\n",
       "      <td>Brooklyn</td>\n",
       "      <td>US</td>\n",
       "      <td>[256 4th Ave, Brooklyn, NY 11215]</td>\n",
       "      <td>NY</td>\n",
       "      <td>11215</td>\n",
       "      <td>$$</td>\n",
       "      <td>4.0</td>\n",
       "      <td>15</td>\n",
       "    </tr>\n",
       "  </tbody>\n",
       "</table>\n",
       "</div>"
      ],
      "text/plain": [
       "                            business_id            business_name  \\\n",
       "0          notaro-ristorante-new-york-2        Notaro Ristorante   \n",
       "1                      vite-bar-astoria                 Vite Bar   \n",
       "2  tacks-chinese-take-out-staten-island  Tack's Chinese Take Out   \n",
       "3                   no-quarter-brooklyn               No Quarter   \n",
       "4              henris-backyard-brooklyn         HENRI's Backyard   \n",
       "\n",
       "                                          categories  coordinates.latitude  \\\n",
       "0         [{'alias': 'italian', 'title': 'Italian'}]             40.745323   \n",
       "1  [{'alias': 'italian', 'title': 'Italian'}, {'a...             40.763414   \n",
       "2         [{'alias': 'chinese', 'title': 'Chinese'}]             40.604620   \n",
       "3         [{'alias': 'lounges', 'title': 'Lounges'}]             40.625198   \n",
       "4  [{'alias': 'beerbar', 'title': 'Beer Bar'}, {'...             40.676470   \n",
       "\n",
       "   coordinates.longitude  is_closed location.address1 location.address2  \\\n",
       "0             -73.975845      False       635 2nd Ave                     \n",
       "1             -73.928119      False     2507 Broadway                     \n",
       "2             -74.121230      False   11C Holden Blvd                     \n",
       "3             -74.024025      False      8015 5th Ave                     \n",
       "4             -73.983940       True       256 4th Ave              None   \n",
       "\n",
       "  location.address3  location.city location.country  \\\n",
       "0                         New York               US   \n",
       "1                          Astoria               US   \n",
       "2                    Staten Island               US   \n",
       "3                         Brooklyn               US   \n",
       "4                         Brooklyn               US   \n",
       "\n",
       "                     location.display_address location.state  \\\n",
       "0           [635 2nd Ave, New York, NY 10016]             NY   \n",
       "1          [2507 Broadway, Astoria, NY 11106]             NY   \n",
       "2  [11C Holden Blvd, Staten Island, NY 10314]             NY   \n",
       "3          [8015 5th Ave, Brooklyn, NY 11209]             NY   \n",
       "4           [256 4th Ave, Brooklyn, NY 11215]             NY   \n",
       "\n",
       "  location.zip_code price  rating  review_count  \n",
       "0             10016    $$     3.0            90  \n",
       "1             11106    $$     4.5            76  \n",
       "2             10314    $$     4.0            52  \n",
       "3             11209     $     2.5            16  \n",
       "4             11215    $$     4.0            15  "
      ]
     },
     "execution_count": 115,
     "metadata": {},
     "output_type": "execute_result"
    }
   ],
   "source": [
    "yelpDF.head()"
   ]
  },
  {
   "cell_type": "code",
   "execution_count": 116,
   "metadata": {
    "ExecuteTime": {
     "end_time": "2017-10-21T21:07:36.258614Z",
     "start_time": "2017-10-21T21:07:36.253108Z"
    }
   },
   "outputs": [
    {
     "data": {
      "text/plain": [
       "(23397, 17)"
      ]
     },
     "execution_count": 116,
     "metadata": {},
     "output_type": "execute_result"
    }
   ],
   "source": [
    "yelpDF.shape"
   ]
  },
  {
   "cell_type": "code",
   "execution_count": 117,
   "metadata": {
    "ExecuteTime": {
     "end_time": "2017-10-21T21:07:36.275269Z",
     "start_time": "2017-10-21T21:07:36.260322Z"
    },
    "collapsed": true
   },
   "outputs": [],
   "source": [
    "yelpDF['clean_address'] = yelpDF['location.display_address'].apply(lambda x: ', '.join(x))"
   ]
  },
  {
   "cell_type": "code",
   "execution_count": 118,
   "metadata": {
    "ExecuteTime": {
     "end_time": "2017-10-21T21:07:36.302112Z",
     "start_time": "2017-10-21T21:07:36.276946Z"
    },
    "collapsed": true
   },
   "outputs": [],
   "source": [
    "yelpDF.drop('location.display_address',axis=1,inplace=True)"
   ]
  },
  {
   "cell_type": "code",
   "execution_count": 119,
   "metadata": {
    "ExecuteTime": {
     "end_time": "2017-10-21T21:07:36.309577Z",
     "start_time": "2017-10-21T21:07:36.303553Z"
    },
    "collapsed": true
   },
   "outputs": [],
   "source": [
    "def convert_categoies(row):\n",
    "    cats = ''\n",
    "    for dic in row['categories']:\n",
    "        for key in dic:\n",
    "            if key == 'alias':\n",
    "                cats += dic[key]+','\n",
    "            else:\n",
    "                next\n",
    "    return cats[:-1]"
   ]
  },
  {
   "cell_type": "code",
   "execution_count": 120,
   "metadata": {
    "ExecuteTime": {
     "end_time": "2017-10-21T21:07:36.852428Z",
     "start_time": "2017-10-21T21:07:36.310926Z"
    },
    "collapsed": true
   },
   "outputs": [],
   "source": [
    "yelpDF['categories_clean'] = yelpDF.apply(lambda row: convert_categoies(row),axis=1)"
   ]
  },
  {
   "cell_type": "code",
   "execution_count": 121,
   "metadata": {
    "ExecuteTime": {
     "end_time": "2017-10-21T21:07:36.878586Z",
     "start_time": "2017-10-21T21:07:36.854421Z"
    }
   },
   "outputs": [
    {
     "data": {
      "text/html": [
       "<div>\n",
       "<style>\n",
       "    .dataframe thead tr:only-child th {\n",
       "        text-align: right;\n",
       "    }\n",
       "\n",
       "    .dataframe thead th {\n",
       "        text-align: left;\n",
       "    }\n",
       "\n",
       "    .dataframe tbody tr th {\n",
       "        vertical-align: top;\n",
       "    }\n",
       "</style>\n",
       "<table border=\"1\" class=\"dataframe\">\n",
       "  <thead>\n",
       "    <tr style=\"text-align: right;\">\n",
       "      <th></th>\n",
       "      <th>business_id</th>\n",
       "      <th>business_name</th>\n",
       "      <th>categories</th>\n",
       "      <th>coordinates.latitude</th>\n",
       "      <th>coordinates.longitude</th>\n",
       "      <th>is_closed</th>\n",
       "      <th>location.address1</th>\n",
       "      <th>location.address2</th>\n",
       "      <th>location.address3</th>\n",
       "      <th>location.city</th>\n",
       "      <th>location.country</th>\n",
       "      <th>location.state</th>\n",
       "      <th>location.zip_code</th>\n",
       "      <th>price</th>\n",
       "      <th>rating</th>\n",
       "      <th>review_count</th>\n",
       "      <th>clean_address</th>\n",
       "      <th>categories_clean</th>\n",
       "    </tr>\n",
       "  </thead>\n",
       "  <tbody>\n",
       "    <tr>\n",
       "      <th>0</th>\n",
       "      <td>notaro-ristorante-new-york-2</td>\n",
       "      <td>Notaro Ristorante</td>\n",
       "      <td>[{'alias': 'italian', 'title': 'Italian'}]</td>\n",
       "      <td>40.745323</td>\n",
       "      <td>-73.975845</td>\n",
       "      <td>False</td>\n",
       "      <td>635 2nd Ave</td>\n",
       "      <td></td>\n",
       "      <td></td>\n",
       "      <td>New York</td>\n",
       "      <td>US</td>\n",
       "      <td>NY</td>\n",
       "      <td>10016</td>\n",
       "      <td>$$</td>\n",
       "      <td>3.0</td>\n",
       "      <td>90</td>\n",
       "      <td>635 2nd Ave, New York, NY 10016</td>\n",
       "      <td>italian</td>\n",
       "    </tr>\n",
       "    <tr>\n",
       "      <th>1</th>\n",
       "      <td>vite-bar-astoria</td>\n",
       "      <td>Vite Bar</td>\n",
       "      <td>[{'alias': 'italian', 'title': 'Italian'}, {'a...</td>\n",
       "      <td>40.763414</td>\n",
       "      <td>-73.928119</td>\n",
       "      <td>False</td>\n",
       "      <td>2507 Broadway</td>\n",
       "      <td></td>\n",
       "      <td></td>\n",
       "      <td>Astoria</td>\n",
       "      <td>US</td>\n",
       "      <td>NY</td>\n",
       "      <td>11106</td>\n",
       "      <td>$$</td>\n",
       "      <td>4.5</td>\n",
       "      <td>76</td>\n",
       "      <td>2507 Broadway, Astoria, NY 11106</td>\n",
       "      <td>italian,tapas</td>\n",
       "    </tr>\n",
       "    <tr>\n",
       "      <th>2</th>\n",
       "      <td>tacks-chinese-take-out-staten-island</td>\n",
       "      <td>Tack's Chinese Take Out</td>\n",
       "      <td>[{'alias': 'chinese', 'title': 'Chinese'}]</td>\n",
       "      <td>40.604620</td>\n",
       "      <td>-74.121230</td>\n",
       "      <td>False</td>\n",
       "      <td>11C Holden Blvd</td>\n",
       "      <td></td>\n",
       "      <td></td>\n",
       "      <td>Staten Island</td>\n",
       "      <td>US</td>\n",
       "      <td>NY</td>\n",
       "      <td>10314</td>\n",
       "      <td>$$</td>\n",
       "      <td>4.0</td>\n",
       "      <td>52</td>\n",
       "      <td>11C Holden Blvd, Staten Island, NY 10314</td>\n",
       "      <td>chinese</td>\n",
       "    </tr>\n",
       "    <tr>\n",
       "      <th>3</th>\n",
       "      <td>no-quarter-brooklyn</td>\n",
       "      <td>No Quarter</td>\n",
       "      <td>[{'alias': 'lounges', 'title': 'Lounges'}]</td>\n",
       "      <td>40.625198</td>\n",
       "      <td>-74.024025</td>\n",
       "      <td>False</td>\n",
       "      <td>8015 5th Ave</td>\n",
       "      <td></td>\n",
       "      <td></td>\n",
       "      <td>Brooklyn</td>\n",
       "      <td>US</td>\n",
       "      <td>NY</td>\n",
       "      <td>11209</td>\n",
       "      <td>$</td>\n",
       "      <td>2.5</td>\n",
       "      <td>16</td>\n",
       "      <td>8015 5th Ave, Brooklyn, NY 11209</td>\n",
       "      <td>lounges</td>\n",
       "    </tr>\n",
       "    <tr>\n",
       "      <th>4</th>\n",
       "      <td>henris-backyard-brooklyn</td>\n",
       "      <td>HENRI's Backyard</td>\n",
       "      <td>[{'alias': 'beerbar', 'title': 'Beer Bar'}, {'...</td>\n",
       "      <td>40.676470</td>\n",
       "      <td>-73.983940</td>\n",
       "      <td>True</td>\n",
       "      <td>256 4th Ave</td>\n",
       "      <td>None</td>\n",
       "      <td></td>\n",
       "      <td>Brooklyn</td>\n",
       "      <td>US</td>\n",
       "      <td>NY</td>\n",
       "      <td>11215</td>\n",
       "      <td>$$</td>\n",
       "      <td>4.0</td>\n",
       "      <td>15</td>\n",
       "      <td>256 4th Ave, Brooklyn, NY 11215</td>\n",
       "      <td>beerbar,newamerican,vegan</td>\n",
       "    </tr>\n",
       "  </tbody>\n",
       "</table>\n",
       "</div>"
      ],
      "text/plain": [
       "                            business_id            business_name  \\\n",
       "0          notaro-ristorante-new-york-2        Notaro Ristorante   \n",
       "1                      vite-bar-astoria                 Vite Bar   \n",
       "2  tacks-chinese-take-out-staten-island  Tack's Chinese Take Out   \n",
       "3                   no-quarter-brooklyn               No Quarter   \n",
       "4              henris-backyard-brooklyn         HENRI's Backyard   \n",
       "\n",
       "                                          categories  coordinates.latitude  \\\n",
       "0         [{'alias': 'italian', 'title': 'Italian'}]             40.745323   \n",
       "1  [{'alias': 'italian', 'title': 'Italian'}, {'a...             40.763414   \n",
       "2         [{'alias': 'chinese', 'title': 'Chinese'}]             40.604620   \n",
       "3         [{'alias': 'lounges', 'title': 'Lounges'}]             40.625198   \n",
       "4  [{'alias': 'beerbar', 'title': 'Beer Bar'}, {'...             40.676470   \n",
       "\n",
       "   coordinates.longitude  is_closed location.address1 location.address2  \\\n",
       "0             -73.975845      False       635 2nd Ave                     \n",
       "1             -73.928119      False     2507 Broadway                     \n",
       "2             -74.121230      False   11C Holden Blvd                     \n",
       "3             -74.024025      False      8015 5th Ave                     \n",
       "4             -73.983940       True       256 4th Ave              None   \n",
       "\n",
       "  location.address3  location.city location.country location.state  \\\n",
       "0                         New York               US             NY   \n",
       "1                          Astoria               US             NY   \n",
       "2                    Staten Island               US             NY   \n",
       "3                         Brooklyn               US             NY   \n",
       "4                         Brooklyn               US             NY   \n",
       "\n",
       "  location.zip_code price  rating  review_count  \\\n",
       "0             10016    $$     3.0            90   \n",
       "1             11106    $$     4.5            76   \n",
       "2             10314    $$     4.0            52   \n",
       "3             11209     $     2.5            16   \n",
       "4             11215    $$     4.0            15   \n",
       "\n",
       "                              clean_address           categories_clean  \n",
       "0           635 2nd Ave, New York, NY 10016                    italian  \n",
       "1          2507 Broadway, Astoria, NY 11106              italian,tapas  \n",
       "2  11C Holden Blvd, Staten Island, NY 10314                    chinese  \n",
       "3          8015 5th Ave, Brooklyn, NY 11209                    lounges  \n",
       "4           256 4th Ave, Brooklyn, NY 11215  beerbar,newamerican,vegan  "
      ]
     },
     "execution_count": 121,
     "metadata": {},
     "output_type": "execute_result"
    }
   ],
   "source": [
    "yelpDF.head()"
   ]
  },
  {
   "cell_type": "code",
   "execution_count": 122,
   "metadata": {
    "ExecuteTime": {
     "end_time": "2017-10-21T21:07:36.908159Z",
     "start_time": "2017-10-21T21:07:36.880269Z"
    },
    "collapsed": true
   },
   "outputs": [],
   "source": [
    "yelpDF.drop('categories',axis=1,inplace=True)"
   ]
  },
  {
   "cell_type": "code",
   "execution_count": 123,
   "metadata": {
    "ExecuteTime": {
     "end_time": "2017-10-21T21:07:36.986079Z",
     "start_time": "2017-10-21T21:07:36.964414Z"
    }
   },
   "outputs": [
    {
     "data": {
      "text/html": [
       "<div>\n",
       "<style>\n",
       "    .dataframe thead tr:only-child th {\n",
       "        text-align: right;\n",
       "    }\n",
       "\n",
       "    .dataframe thead th {\n",
       "        text-align: left;\n",
       "    }\n",
       "\n",
       "    .dataframe tbody tr th {\n",
       "        vertical-align: top;\n",
       "    }\n",
       "</style>\n",
       "<table border=\"1\" class=\"dataframe\">\n",
       "  <thead>\n",
       "    <tr style=\"text-align: right;\">\n",
       "      <th></th>\n",
       "      <th>business_id</th>\n",
       "      <th>business_name</th>\n",
       "      <th>coordinates.latitude</th>\n",
       "      <th>coordinates.longitude</th>\n",
       "      <th>is_closed</th>\n",
       "      <th>location.address1</th>\n",
       "      <th>location.address2</th>\n",
       "      <th>location.address3</th>\n",
       "      <th>location.city</th>\n",
       "      <th>location.country</th>\n",
       "      <th>location.state</th>\n",
       "      <th>location.zip_code</th>\n",
       "      <th>price</th>\n",
       "      <th>rating</th>\n",
       "      <th>review_count</th>\n",
       "      <th>clean_address</th>\n",
       "      <th>categories_clean</th>\n",
       "    </tr>\n",
       "  </thead>\n",
       "  <tbody>\n",
       "    <tr>\n",
       "      <th>0</th>\n",
       "      <td>notaro-ristorante-new-york-2</td>\n",
       "      <td>Notaro Ristorante</td>\n",
       "      <td>40.745323</td>\n",
       "      <td>-73.975845</td>\n",
       "      <td>False</td>\n",
       "      <td>635 2nd Ave</td>\n",
       "      <td></td>\n",
       "      <td></td>\n",
       "      <td>New York</td>\n",
       "      <td>US</td>\n",
       "      <td>NY</td>\n",
       "      <td>10016</td>\n",
       "      <td>$$</td>\n",
       "      <td>3.0</td>\n",
       "      <td>90</td>\n",
       "      <td>635 2nd Ave, New York, NY 10016</td>\n",
       "      <td>italian</td>\n",
       "    </tr>\n",
       "    <tr>\n",
       "      <th>1</th>\n",
       "      <td>vite-bar-astoria</td>\n",
       "      <td>Vite Bar</td>\n",
       "      <td>40.763414</td>\n",
       "      <td>-73.928119</td>\n",
       "      <td>False</td>\n",
       "      <td>2507 Broadway</td>\n",
       "      <td></td>\n",
       "      <td></td>\n",
       "      <td>Astoria</td>\n",
       "      <td>US</td>\n",
       "      <td>NY</td>\n",
       "      <td>11106</td>\n",
       "      <td>$$</td>\n",
       "      <td>4.5</td>\n",
       "      <td>76</td>\n",
       "      <td>2507 Broadway, Astoria, NY 11106</td>\n",
       "      <td>italian,tapas</td>\n",
       "    </tr>\n",
       "    <tr>\n",
       "      <th>2</th>\n",
       "      <td>tacks-chinese-take-out-staten-island</td>\n",
       "      <td>Tack's Chinese Take Out</td>\n",
       "      <td>40.604620</td>\n",
       "      <td>-74.121230</td>\n",
       "      <td>False</td>\n",
       "      <td>11C Holden Blvd</td>\n",
       "      <td></td>\n",
       "      <td></td>\n",
       "      <td>Staten Island</td>\n",
       "      <td>US</td>\n",
       "      <td>NY</td>\n",
       "      <td>10314</td>\n",
       "      <td>$$</td>\n",
       "      <td>4.0</td>\n",
       "      <td>52</td>\n",
       "      <td>11C Holden Blvd, Staten Island, NY 10314</td>\n",
       "      <td>chinese</td>\n",
       "    </tr>\n",
       "    <tr>\n",
       "      <th>3</th>\n",
       "      <td>no-quarter-brooklyn</td>\n",
       "      <td>No Quarter</td>\n",
       "      <td>40.625198</td>\n",
       "      <td>-74.024025</td>\n",
       "      <td>False</td>\n",
       "      <td>8015 5th Ave</td>\n",
       "      <td></td>\n",
       "      <td></td>\n",
       "      <td>Brooklyn</td>\n",
       "      <td>US</td>\n",
       "      <td>NY</td>\n",
       "      <td>11209</td>\n",
       "      <td>$</td>\n",
       "      <td>2.5</td>\n",
       "      <td>16</td>\n",
       "      <td>8015 5th Ave, Brooklyn, NY 11209</td>\n",
       "      <td>lounges</td>\n",
       "    </tr>\n",
       "    <tr>\n",
       "      <th>4</th>\n",
       "      <td>henris-backyard-brooklyn</td>\n",
       "      <td>HENRI's Backyard</td>\n",
       "      <td>40.676470</td>\n",
       "      <td>-73.983940</td>\n",
       "      <td>True</td>\n",
       "      <td>256 4th Ave</td>\n",
       "      <td>None</td>\n",
       "      <td></td>\n",
       "      <td>Brooklyn</td>\n",
       "      <td>US</td>\n",
       "      <td>NY</td>\n",
       "      <td>11215</td>\n",
       "      <td>$$</td>\n",
       "      <td>4.0</td>\n",
       "      <td>15</td>\n",
       "      <td>256 4th Ave, Brooklyn, NY 11215</td>\n",
       "      <td>beerbar,newamerican,vegan</td>\n",
       "    </tr>\n",
       "  </tbody>\n",
       "</table>\n",
       "</div>"
      ],
      "text/plain": [
       "                            business_id            business_name  \\\n",
       "0          notaro-ristorante-new-york-2        Notaro Ristorante   \n",
       "1                      vite-bar-astoria                 Vite Bar   \n",
       "2  tacks-chinese-take-out-staten-island  Tack's Chinese Take Out   \n",
       "3                   no-quarter-brooklyn               No Quarter   \n",
       "4              henris-backyard-brooklyn         HENRI's Backyard   \n",
       "\n",
       "   coordinates.latitude  coordinates.longitude  is_closed location.address1  \\\n",
       "0             40.745323             -73.975845      False       635 2nd Ave   \n",
       "1             40.763414             -73.928119      False     2507 Broadway   \n",
       "2             40.604620             -74.121230      False   11C Holden Blvd   \n",
       "3             40.625198             -74.024025      False      8015 5th Ave   \n",
       "4             40.676470             -73.983940       True       256 4th Ave   \n",
       "\n",
       "  location.address2 location.address3  location.city location.country  \\\n",
       "0                                           New York               US   \n",
       "1                                            Astoria               US   \n",
       "2                                      Staten Island               US   \n",
       "3                                           Brooklyn               US   \n",
       "4              None                         Brooklyn               US   \n",
       "\n",
       "  location.state location.zip_code price  rating  review_count  \\\n",
       "0             NY             10016    $$     3.0            90   \n",
       "1             NY             11106    $$     4.5            76   \n",
       "2             NY             10314    $$     4.0            52   \n",
       "3             NY             11209     $     2.5            16   \n",
       "4             NY             11215    $$     4.0            15   \n",
       "\n",
       "                              clean_address           categories_clean  \n",
       "0           635 2nd Ave, New York, NY 10016                    italian  \n",
       "1          2507 Broadway, Astoria, NY 11106              italian,tapas  \n",
       "2  11C Holden Blvd, Staten Island, NY 10314                    chinese  \n",
       "3          8015 5th Ave, Brooklyn, NY 11209                    lounges  \n",
       "4           256 4th Ave, Brooklyn, NY 11215  beerbar,newamerican,vegan  "
      ]
     },
     "execution_count": 123,
     "metadata": {},
     "output_type": "execute_result"
    }
   ],
   "source": [
    "yelpDF.head()"
   ]
  },
  {
   "cell_type": "code",
   "execution_count": 124,
   "metadata": {
    "ExecuteTime": {
     "end_time": "2017-10-21T21:07:37.458588Z",
     "start_time": "2017-10-21T21:07:37.454952Z"
    },
    "collapsed": true
   },
   "outputs": [],
   "source": [
    "def return_dummies(col):\n",
    "    return col.str.get_dummies(sep=',')\n",
    "    "
   ]
  },
  {
   "cell_type": "code",
   "execution_count": 125,
   "metadata": {
    "ExecuteTime": {
     "end_time": "2017-10-21T21:07:45.818767Z",
     "start_time": "2017-10-21T21:07:39.410308Z"
    },
    "collapsed": true
   },
   "outputs": [],
   "source": [
    "catDF = return_dummies(yelpDF.categories_clean)"
   ]
  },
  {
   "cell_type": "code",
   "execution_count": 126,
   "metadata": {
    "ExecuteTime": {
     "end_time": "2017-10-21T21:07:45.947881Z",
     "start_time": "2017-10-21T21:07:45.820883Z"
    },
    "collapsed": true
   },
   "outputs": [],
   "source": [
    "priceDF = return_dummies(yelpDF.price)"
   ]
  },
  {
   "cell_type": "code",
   "execution_count": 127,
   "metadata": {
    "ExecuteTime": {
     "end_time": "2017-10-21T21:07:45.953979Z",
     "start_time": "2017-10-21T21:07:45.949851Z"
    }
   },
   "outputs": [
    {
     "data": {
      "text/plain": [
       "(23397, 396)"
      ]
     },
     "execution_count": 127,
     "metadata": {},
     "output_type": "execute_result"
    }
   ],
   "source": [
    "catDF.shape"
   ]
  },
  {
   "cell_type": "code",
   "execution_count": 128,
   "metadata": {
    "ExecuteTime": {
     "end_time": "2017-10-21T21:07:45.964451Z",
     "start_time": "2017-10-21T21:07:45.955787Z"
    }
   },
   "outputs": [
    {
     "data": {
      "text/plain": [
       "array(['$$', '$', '$$$', '$$$$'], dtype=object)"
      ]
     },
     "execution_count": 128,
     "metadata": {},
     "output_type": "execute_result"
    }
   ],
   "source": [
    "yelpDF.price.unique()"
   ]
  },
  {
   "cell_type": "code",
   "execution_count": 129,
   "metadata": {
    "ExecuteTime": {
     "end_time": "2017-10-21T21:07:45.970106Z",
     "start_time": "2017-10-21T21:07:45.966182Z"
    },
    "collapsed": true
   },
   "outputs": [],
   "source": [
    "priceDF = priceDF[priceDF.columns.tolist()[0:-1]]"
   ]
  },
  {
   "cell_type": "code",
   "execution_count": 130,
   "metadata": {
    "ExecuteTime": {
     "end_time": "2017-10-21T21:07:45.993400Z",
     "start_time": "2017-10-21T21:07:45.971914Z"
    },
    "collapsed": true
   },
   "outputs": [],
   "source": [
    "catDF = catDF[catDF.columns.tolist()[0:-1]]"
   ]
  },
  {
   "cell_type": "code",
   "execution_count": 131,
   "metadata": {
    "ExecuteTime": {
     "end_time": "2017-10-21T21:07:46.009689Z",
     "start_time": "2017-10-21T21:07:45.995363Z"
    },
    "collapsed": true
   },
   "outputs": [],
   "source": [
    "yelpDF = yelpDF.join(priceDF)"
   ]
  },
  {
   "cell_type": "code",
   "execution_count": 132,
   "metadata": {
    "ExecuteTime": {
     "end_time": "2017-10-21T21:07:46.043405Z",
     "start_time": "2017-10-21T21:07:46.011510Z"
    },
    "collapsed": true
   },
   "outputs": [],
   "source": [
    "yelpDF.drop(['categories_clean','price'],inplace=True,axis=1)"
   ]
  },
  {
   "cell_type": "code",
   "execution_count": 133,
   "metadata": {
    "ExecuteTime": {
     "end_time": "2017-10-21T21:07:46.068454Z",
     "start_time": "2017-10-21T21:07:46.045827Z"
    }
   },
   "outputs": [
    {
     "data": {
      "text/html": [
       "<div>\n",
       "<style>\n",
       "    .dataframe thead tr:only-child th {\n",
       "        text-align: right;\n",
       "    }\n",
       "\n",
       "    .dataframe thead th {\n",
       "        text-align: left;\n",
       "    }\n",
       "\n",
       "    .dataframe tbody tr th {\n",
       "        vertical-align: top;\n",
       "    }\n",
       "</style>\n",
       "<table border=\"1\" class=\"dataframe\">\n",
       "  <thead>\n",
       "    <tr style=\"text-align: right;\">\n",
       "      <th></th>\n",
       "      <th>business_id</th>\n",
       "      <th>business_name</th>\n",
       "      <th>coordinates.latitude</th>\n",
       "      <th>coordinates.longitude</th>\n",
       "      <th>is_closed</th>\n",
       "      <th>location.address1</th>\n",
       "      <th>location.address2</th>\n",
       "      <th>location.address3</th>\n",
       "      <th>location.city</th>\n",
       "      <th>location.country</th>\n",
       "      <th>location.state</th>\n",
       "      <th>location.zip_code</th>\n",
       "      <th>rating</th>\n",
       "      <th>review_count</th>\n",
       "      <th>clean_address</th>\n",
       "      <th>$</th>\n",
       "      <th>$$</th>\n",
       "      <th>$$$</th>\n",
       "    </tr>\n",
       "  </thead>\n",
       "  <tbody>\n",
       "    <tr>\n",
       "      <th>0</th>\n",
       "      <td>notaro-ristorante-new-york-2</td>\n",
       "      <td>Notaro Ristorante</td>\n",
       "      <td>40.745323</td>\n",
       "      <td>-73.975845</td>\n",
       "      <td>False</td>\n",
       "      <td>635 2nd Ave</td>\n",
       "      <td></td>\n",
       "      <td></td>\n",
       "      <td>New York</td>\n",
       "      <td>US</td>\n",
       "      <td>NY</td>\n",
       "      <td>10016</td>\n",
       "      <td>3.0</td>\n",
       "      <td>90</td>\n",
       "      <td>635 2nd Ave, New York, NY 10016</td>\n",
       "      <td>0</td>\n",
       "      <td>1</td>\n",
       "      <td>0</td>\n",
       "    </tr>\n",
       "    <tr>\n",
       "      <th>1</th>\n",
       "      <td>vite-bar-astoria</td>\n",
       "      <td>Vite Bar</td>\n",
       "      <td>40.763414</td>\n",
       "      <td>-73.928119</td>\n",
       "      <td>False</td>\n",
       "      <td>2507 Broadway</td>\n",
       "      <td></td>\n",
       "      <td></td>\n",
       "      <td>Astoria</td>\n",
       "      <td>US</td>\n",
       "      <td>NY</td>\n",
       "      <td>11106</td>\n",
       "      <td>4.5</td>\n",
       "      <td>76</td>\n",
       "      <td>2507 Broadway, Astoria, NY 11106</td>\n",
       "      <td>0</td>\n",
       "      <td>1</td>\n",
       "      <td>0</td>\n",
       "    </tr>\n",
       "    <tr>\n",
       "      <th>2</th>\n",
       "      <td>tacks-chinese-take-out-staten-island</td>\n",
       "      <td>Tack's Chinese Take Out</td>\n",
       "      <td>40.604620</td>\n",
       "      <td>-74.121230</td>\n",
       "      <td>False</td>\n",
       "      <td>11C Holden Blvd</td>\n",
       "      <td></td>\n",
       "      <td></td>\n",
       "      <td>Staten Island</td>\n",
       "      <td>US</td>\n",
       "      <td>NY</td>\n",
       "      <td>10314</td>\n",
       "      <td>4.0</td>\n",
       "      <td>52</td>\n",
       "      <td>11C Holden Blvd, Staten Island, NY 10314</td>\n",
       "      <td>0</td>\n",
       "      <td>1</td>\n",
       "      <td>0</td>\n",
       "    </tr>\n",
       "    <tr>\n",
       "      <th>3</th>\n",
       "      <td>no-quarter-brooklyn</td>\n",
       "      <td>No Quarter</td>\n",
       "      <td>40.625198</td>\n",
       "      <td>-74.024025</td>\n",
       "      <td>False</td>\n",
       "      <td>8015 5th Ave</td>\n",
       "      <td></td>\n",
       "      <td></td>\n",
       "      <td>Brooklyn</td>\n",
       "      <td>US</td>\n",
       "      <td>NY</td>\n",
       "      <td>11209</td>\n",
       "      <td>2.5</td>\n",
       "      <td>16</td>\n",
       "      <td>8015 5th Ave, Brooklyn, NY 11209</td>\n",
       "      <td>1</td>\n",
       "      <td>0</td>\n",
       "      <td>0</td>\n",
       "    </tr>\n",
       "    <tr>\n",
       "      <th>4</th>\n",
       "      <td>henris-backyard-brooklyn</td>\n",
       "      <td>HENRI's Backyard</td>\n",
       "      <td>40.676470</td>\n",
       "      <td>-73.983940</td>\n",
       "      <td>True</td>\n",
       "      <td>256 4th Ave</td>\n",
       "      <td>None</td>\n",
       "      <td></td>\n",
       "      <td>Brooklyn</td>\n",
       "      <td>US</td>\n",
       "      <td>NY</td>\n",
       "      <td>11215</td>\n",
       "      <td>4.0</td>\n",
       "      <td>15</td>\n",
       "      <td>256 4th Ave, Brooklyn, NY 11215</td>\n",
       "      <td>0</td>\n",
       "      <td>1</td>\n",
       "      <td>0</td>\n",
       "    </tr>\n",
       "  </tbody>\n",
       "</table>\n",
       "</div>"
      ],
      "text/plain": [
       "                            business_id            business_name  \\\n",
       "0          notaro-ristorante-new-york-2        Notaro Ristorante   \n",
       "1                      vite-bar-astoria                 Vite Bar   \n",
       "2  tacks-chinese-take-out-staten-island  Tack's Chinese Take Out   \n",
       "3                   no-quarter-brooklyn               No Quarter   \n",
       "4              henris-backyard-brooklyn         HENRI's Backyard   \n",
       "\n",
       "   coordinates.latitude  coordinates.longitude  is_closed location.address1  \\\n",
       "0             40.745323             -73.975845      False       635 2nd Ave   \n",
       "1             40.763414             -73.928119      False     2507 Broadway   \n",
       "2             40.604620             -74.121230      False   11C Holden Blvd   \n",
       "3             40.625198             -74.024025      False      8015 5th Ave   \n",
       "4             40.676470             -73.983940       True       256 4th Ave   \n",
       "\n",
       "  location.address2 location.address3  location.city location.country  \\\n",
       "0                                           New York               US   \n",
       "1                                            Astoria               US   \n",
       "2                                      Staten Island               US   \n",
       "3                                           Brooklyn               US   \n",
       "4              None                         Brooklyn               US   \n",
       "\n",
       "  location.state location.zip_code  rating  review_count  \\\n",
       "0             NY             10016     3.0            90   \n",
       "1             NY             11106     4.5            76   \n",
       "2             NY             10314     4.0            52   \n",
       "3             NY             11209     2.5            16   \n",
       "4             NY             11215     4.0            15   \n",
       "\n",
       "                              clean_address  $  $$  $$$  \n",
       "0           635 2nd Ave, New York, NY 10016  0   1    0  \n",
       "1          2507 Broadway, Astoria, NY 11106  0   1    0  \n",
       "2  11C Holden Blvd, Staten Island, NY 10314  0   1    0  \n",
       "3          8015 5th Ave, Brooklyn, NY 11209  1   0    0  \n",
       "4           256 4th Ave, Brooklyn, NY 11215  0   1    0  "
      ]
     },
     "execution_count": 133,
     "metadata": {},
     "output_type": "execute_result"
    }
   ],
   "source": [
    "yelpDF.head()"
   ]
  },
  {
   "cell_type": "code",
   "execution_count": 134,
   "metadata": {
    "ExecuteTime": {
     "end_time": "2017-10-21T21:07:46.105921Z",
     "start_time": "2017-10-21T21:07:46.071129Z"
    }
   },
   "outputs": [
    {
     "data": {
      "text/plain": [
       "9         False\n",
       "12        False\n",
       "16        False\n",
       "17        False\n",
       "22        False\n",
       "26        False\n",
       "27        False\n",
       "29        False\n",
       "30        False\n",
       "34        False\n",
       "39        False\n",
       "40        False\n",
       "42        False\n",
       "50        False\n",
       "57        False\n",
       "58        False\n",
       "60        False\n",
       "67        False\n",
       "69        False\n",
       "72        False\n",
       "73        False\n",
       "74        False\n",
       "76        False\n",
       "78        False\n",
       "81        False\n",
       "83        False\n",
       "85        False\n",
       "87        False\n",
       "91        False\n",
       "92        False\n",
       "          ...  \n",
       "399841     True\n",
       "399843     True\n",
       "399850     True\n",
       "399852     True\n",
       "399854     True\n",
       "399855     True\n",
       "399858     True\n",
       "399859     True\n",
       "399860     True\n",
       "399862     True\n",
       "399863     True\n",
       "399868     True\n",
       "399870     True\n",
       "399879     True\n",
       "399880     True\n",
       "399881     True\n",
       "399884     True\n",
       "399886     True\n",
       "399887     True\n",
       "399889     True\n",
       "399898     True\n",
       "399899     True\n",
       "399901     True\n",
       "399902     True\n",
       "399903     True\n",
       "399909     True\n",
       "399910     True\n",
       "399914     True\n",
       "399916     True\n",
       "399917     True\n",
       "Length: 150893, dtype: bool"
      ]
     },
     "execution_count": 134,
     "metadata": {},
     "output_type": "execute_result"
    }
   ],
   "source": [
    "uniqueDF.duplicated(subset=['name'],keep='first')"
   ]
  },
  {
   "cell_type": "code",
   "execution_count": 135,
   "metadata": {
    "ExecuteTime": {
     "end_time": "2017-10-21T21:07:46.111513Z",
     "start_time": "2017-10-21T21:07:46.107867Z"
    }
   },
   "outputs": [
    {
     "data": {
      "text/plain": [
       "(23397, 18)"
      ]
     },
     "execution_count": 135,
     "metadata": {},
     "output_type": "execute_result"
    }
   ],
   "source": [
    "yelpDF.shape"
   ]
  },
  {
   "cell_type": "code",
   "execution_count": 136,
   "metadata": {
    "ExecuteTime": {
     "end_time": "2017-10-21T21:07:46.134150Z",
     "start_time": "2017-10-21T21:07:46.113177Z"
    }
   },
   "outputs": [
    {
     "data": {
      "text/html": [
       "<div>\n",
       "<style>\n",
       "    .dataframe thead tr:only-child th {\n",
       "        text-align: right;\n",
       "    }\n",
       "\n",
       "    .dataframe thead th {\n",
       "        text-align: left;\n",
       "    }\n",
       "\n",
       "    .dataframe tbody tr th {\n",
       "        vertical-align: top;\n",
       "    }\n",
       "</style>\n",
       "<table border=\"1\" class=\"dataframe\">\n",
       "  <thead>\n",
       "    <tr style=\"text-align: right;\">\n",
       "      <th></th>\n",
       "      <th>business_id</th>\n",
       "      <th>business_name</th>\n",
       "      <th>coordinates.latitude</th>\n",
       "      <th>coordinates.longitude</th>\n",
       "      <th>is_closed</th>\n",
       "      <th>location.address1</th>\n",
       "      <th>location.address2</th>\n",
       "      <th>location.address3</th>\n",
       "      <th>location.city</th>\n",
       "      <th>location.country</th>\n",
       "      <th>location.state</th>\n",
       "      <th>location.zip_code</th>\n",
       "      <th>rating</th>\n",
       "      <th>review_count</th>\n",
       "      <th>clean_address</th>\n",
       "      <th>$</th>\n",
       "      <th>$$</th>\n",
       "      <th>$$$</th>\n",
       "    </tr>\n",
       "  </thead>\n",
       "  <tbody>\n",
       "    <tr>\n",
       "      <th>0</th>\n",
       "      <td>notaro-ristorante-new-york-2</td>\n",
       "      <td>Notaro Ristorante</td>\n",
       "      <td>40.745323</td>\n",
       "      <td>-73.975845</td>\n",
       "      <td>False</td>\n",
       "      <td>635 2nd Ave</td>\n",
       "      <td></td>\n",
       "      <td></td>\n",
       "      <td>New York</td>\n",
       "      <td>US</td>\n",
       "      <td>NY</td>\n",
       "      <td>10016</td>\n",
       "      <td>3.0</td>\n",
       "      <td>90</td>\n",
       "      <td>635 2nd Ave, New York, NY 10016</td>\n",
       "      <td>0</td>\n",
       "      <td>1</td>\n",
       "      <td>0</td>\n",
       "    </tr>\n",
       "    <tr>\n",
       "      <th>1</th>\n",
       "      <td>vite-bar-astoria</td>\n",
       "      <td>Vite Bar</td>\n",
       "      <td>40.763414</td>\n",
       "      <td>-73.928119</td>\n",
       "      <td>False</td>\n",
       "      <td>2507 Broadway</td>\n",
       "      <td></td>\n",
       "      <td></td>\n",
       "      <td>Astoria</td>\n",
       "      <td>US</td>\n",
       "      <td>NY</td>\n",
       "      <td>11106</td>\n",
       "      <td>4.5</td>\n",
       "      <td>76</td>\n",
       "      <td>2507 Broadway, Astoria, NY 11106</td>\n",
       "      <td>0</td>\n",
       "      <td>1</td>\n",
       "      <td>0</td>\n",
       "    </tr>\n",
       "    <tr>\n",
       "      <th>2</th>\n",
       "      <td>tacks-chinese-take-out-staten-island</td>\n",
       "      <td>Tack's Chinese Take Out</td>\n",
       "      <td>40.604620</td>\n",
       "      <td>-74.121230</td>\n",
       "      <td>False</td>\n",
       "      <td>11C Holden Blvd</td>\n",
       "      <td></td>\n",
       "      <td></td>\n",
       "      <td>Staten Island</td>\n",
       "      <td>US</td>\n",
       "      <td>NY</td>\n",
       "      <td>10314</td>\n",
       "      <td>4.0</td>\n",
       "      <td>52</td>\n",
       "      <td>11C Holden Blvd, Staten Island, NY 10314</td>\n",
       "      <td>0</td>\n",
       "      <td>1</td>\n",
       "      <td>0</td>\n",
       "    </tr>\n",
       "    <tr>\n",
       "      <th>3</th>\n",
       "      <td>no-quarter-brooklyn</td>\n",
       "      <td>No Quarter</td>\n",
       "      <td>40.625198</td>\n",
       "      <td>-74.024025</td>\n",
       "      <td>False</td>\n",
       "      <td>8015 5th Ave</td>\n",
       "      <td></td>\n",
       "      <td></td>\n",
       "      <td>Brooklyn</td>\n",
       "      <td>US</td>\n",
       "      <td>NY</td>\n",
       "      <td>11209</td>\n",
       "      <td>2.5</td>\n",
       "      <td>16</td>\n",
       "      <td>8015 5th Ave, Brooklyn, NY 11209</td>\n",
       "      <td>1</td>\n",
       "      <td>0</td>\n",
       "      <td>0</td>\n",
       "    </tr>\n",
       "    <tr>\n",
       "      <th>4</th>\n",
       "      <td>henris-backyard-brooklyn</td>\n",
       "      <td>HENRI's Backyard</td>\n",
       "      <td>40.676470</td>\n",
       "      <td>-73.983940</td>\n",
       "      <td>True</td>\n",
       "      <td>256 4th Ave</td>\n",
       "      <td>None</td>\n",
       "      <td></td>\n",
       "      <td>Brooklyn</td>\n",
       "      <td>US</td>\n",
       "      <td>NY</td>\n",
       "      <td>11215</td>\n",
       "      <td>4.0</td>\n",
       "      <td>15</td>\n",
       "      <td>256 4th Ave, Brooklyn, NY 11215</td>\n",
       "      <td>0</td>\n",
       "      <td>1</td>\n",
       "      <td>0</td>\n",
       "    </tr>\n",
       "  </tbody>\n",
       "</table>\n",
       "</div>"
      ],
      "text/plain": [
       "                            business_id            business_name  \\\n",
       "0          notaro-ristorante-new-york-2        Notaro Ristorante   \n",
       "1                      vite-bar-astoria                 Vite Bar   \n",
       "2  tacks-chinese-take-out-staten-island  Tack's Chinese Take Out   \n",
       "3                   no-quarter-brooklyn               No Quarter   \n",
       "4              henris-backyard-brooklyn         HENRI's Backyard   \n",
       "\n",
       "   coordinates.latitude  coordinates.longitude  is_closed location.address1  \\\n",
       "0             40.745323             -73.975845      False       635 2nd Ave   \n",
       "1             40.763414             -73.928119      False     2507 Broadway   \n",
       "2             40.604620             -74.121230      False   11C Holden Blvd   \n",
       "3             40.625198             -74.024025      False      8015 5th Ave   \n",
       "4             40.676470             -73.983940       True       256 4th Ave   \n",
       "\n",
       "  location.address2 location.address3  location.city location.country  \\\n",
       "0                                           New York               US   \n",
       "1                                            Astoria               US   \n",
       "2                                      Staten Island               US   \n",
       "3                                           Brooklyn               US   \n",
       "4              None                         Brooklyn               US   \n",
       "\n",
       "  location.state location.zip_code  rating  review_count  \\\n",
       "0             NY             10016     3.0            90   \n",
       "1             NY             11106     4.5            76   \n",
       "2             NY             10314     4.0            52   \n",
       "3             NY             11209     2.5            16   \n",
       "4             NY             11215     4.0            15   \n",
       "\n",
       "                              clean_address  $  $$  $$$  \n",
       "0           635 2nd Ave, New York, NY 10016  0   1    0  \n",
       "1          2507 Broadway, Astoria, NY 11106  0   1    0  \n",
       "2  11C Holden Blvd, Staten Island, NY 10314  0   1    0  \n",
       "3          8015 5th Ave, Brooklyn, NY 11209  1   0    0  \n",
       "4           256 4th Ave, Brooklyn, NY 11215  0   1    0  "
      ]
     },
     "execution_count": 136,
     "metadata": {},
     "output_type": "execute_result"
    }
   ],
   "source": [
    "yelpDF.head()"
   ]
  },
  {
   "cell_type": "code",
   "execution_count": 137,
   "metadata": {
    "ExecuteTime": {
     "end_time": "2017-10-21T21:07:46.417657Z",
     "start_time": "2017-10-21T21:07:46.405418Z"
    },
    "collapsed": true
   },
   "outputs": [],
   "source": [
    "yelpDF['match'] = yelpDF['business_name'] +';'+ yelpDF['clean_address']"
   ]
  },
  {
   "cell_type": "markdown",
   "metadata": {},
   "source": [
    "Remove columns without grade"
   ]
  },
  {
   "cell_type": "code",
   "execution_count": 113,
   "metadata": {
    "ExecuteTime": {
     "end_time": "2017-10-20T19:13:32.688297Z",
     "start_time": "2017-10-20T19:13:32.684691Z"
    },
    "collapsed": true
   },
   "outputs": [],
   "source": [
    "#uniqueDF = uniqueDF.dropna(subset=['grade'],axis=0)"
   ]
  },
  {
   "cell_type": "code",
   "execution_count": 114,
   "metadata": {
    "ExecuteTime": {
     "end_time": "2017-10-20T19:13:32.703885Z",
     "start_time": "2017-10-20T19:13:32.690394Z"
    },
    "collapsed": true
   },
   "outputs": [],
   "source": [
    "uniqueDF['match'] = uniqueDF['name'] +';'+uniqueDF['address']"
   ]
  },
  {
   "cell_type": "code",
   "execution_count": 115,
   "metadata": {
    "ExecuteTime": {
     "end_time": "2017-10-20T19:13:32.728203Z",
     "start_time": "2017-10-20T19:13:32.706576Z"
    }
   },
   "outputs": [
    {
     "data": {
      "text/html": [
       "<div>\n",
       "<style>\n",
       "    .dataframe thead tr:only-child th {\n",
       "        text-align: right;\n",
       "    }\n",
       "\n",
       "    .dataframe thead th {\n",
       "        text-align: left;\n",
       "    }\n",
       "\n",
       "    .dataframe tbody tr th {\n",
       "        vertical-align: top;\n",
       "    }\n",
       "</style>\n",
       "<table border=\"1\" class=\"dataframe\">\n",
       "  <thead>\n",
       "    <tr style=\"text-align: right;\">\n",
       "      <th></th>\n",
       "      <th>business_id</th>\n",
       "      <th>business_name</th>\n",
       "      <th>coordinates.latitude</th>\n",
       "      <th>coordinates.longitude</th>\n",
       "      <th>is_closed</th>\n",
       "      <th>location.address1</th>\n",
       "      <th>location.address2</th>\n",
       "      <th>location.address3</th>\n",
       "      <th>location.city</th>\n",
       "      <th>location.country</th>\n",
       "      <th>location.state</th>\n",
       "      <th>location.zip_code</th>\n",
       "      <th>rating</th>\n",
       "      <th>review_count</th>\n",
       "      <th>clean_address</th>\n",
       "      <th>$</th>\n",
       "      <th>$$</th>\n",
       "      <th>$$$</th>\n",
       "      <th>match</th>\n",
       "    </tr>\n",
       "  </thead>\n",
       "  <tbody>\n",
       "    <tr>\n",
       "      <th>0</th>\n",
       "      <td>notaro-ristorante-new-york-2</td>\n",
       "      <td>Notaro Ristorante</td>\n",
       "      <td>40.745323</td>\n",
       "      <td>-73.975845</td>\n",
       "      <td>False</td>\n",
       "      <td>635 2nd Ave</td>\n",
       "      <td></td>\n",
       "      <td></td>\n",
       "      <td>New York</td>\n",
       "      <td>US</td>\n",
       "      <td>NY</td>\n",
       "      <td>10016</td>\n",
       "      <td>3.0</td>\n",
       "      <td>90</td>\n",
       "      <td>635 2nd Ave, New York, NY 10016</td>\n",
       "      <td>0</td>\n",
       "      <td>1</td>\n",
       "      <td>0</td>\n",
       "      <td>Notaro Ristorante;635 2nd Ave, New York, NY 10016</td>\n",
       "    </tr>\n",
       "    <tr>\n",
       "      <th>1</th>\n",
       "      <td>vite-bar-astoria</td>\n",
       "      <td>Vite Bar</td>\n",
       "      <td>40.763414</td>\n",
       "      <td>-73.928119</td>\n",
       "      <td>False</td>\n",
       "      <td>2507 Broadway</td>\n",
       "      <td></td>\n",
       "      <td></td>\n",
       "      <td>Astoria</td>\n",
       "      <td>US</td>\n",
       "      <td>NY</td>\n",
       "      <td>11106</td>\n",
       "      <td>4.5</td>\n",
       "      <td>76</td>\n",
       "      <td>2507 Broadway, Astoria, NY 11106</td>\n",
       "      <td>0</td>\n",
       "      <td>1</td>\n",
       "      <td>0</td>\n",
       "      <td>Vite Bar;2507 Broadway, Astoria, NY 11106</td>\n",
       "    </tr>\n",
       "    <tr>\n",
       "      <th>2</th>\n",
       "      <td>tacks-chinese-take-out-staten-island</td>\n",
       "      <td>Tack's Chinese Take Out</td>\n",
       "      <td>40.604620</td>\n",
       "      <td>-74.121230</td>\n",
       "      <td>False</td>\n",
       "      <td>11C Holden Blvd</td>\n",
       "      <td></td>\n",
       "      <td></td>\n",
       "      <td>Staten Island</td>\n",
       "      <td>US</td>\n",
       "      <td>NY</td>\n",
       "      <td>10314</td>\n",
       "      <td>4.0</td>\n",
       "      <td>52</td>\n",
       "      <td>11C Holden Blvd, Staten Island, NY 10314</td>\n",
       "      <td>0</td>\n",
       "      <td>1</td>\n",
       "      <td>0</td>\n",
       "      <td>Tack's Chinese Take Out;11C Holden Blvd, State...</td>\n",
       "    </tr>\n",
       "    <tr>\n",
       "      <th>3</th>\n",
       "      <td>no-quarter-brooklyn</td>\n",
       "      <td>No Quarter</td>\n",
       "      <td>40.625198</td>\n",
       "      <td>-74.024025</td>\n",
       "      <td>False</td>\n",
       "      <td>8015 5th Ave</td>\n",
       "      <td></td>\n",
       "      <td></td>\n",
       "      <td>Brooklyn</td>\n",
       "      <td>US</td>\n",
       "      <td>NY</td>\n",
       "      <td>11209</td>\n",
       "      <td>2.5</td>\n",
       "      <td>16</td>\n",
       "      <td>8015 5th Ave, Brooklyn, NY 11209</td>\n",
       "      <td>1</td>\n",
       "      <td>0</td>\n",
       "      <td>0</td>\n",
       "      <td>No Quarter;8015 5th Ave, Brooklyn, NY 11209</td>\n",
       "    </tr>\n",
       "    <tr>\n",
       "      <th>4</th>\n",
       "      <td>henris-backyard-brooklyn</td>\n",
       "      <td>HENRI's Backyard</td>\n",
       "      <td>40.676470</td>\n",
       "      <td>-73.983940</td>\n",
       "      <td>True</td>\n",
       "      <td>256 4th Ave</td>\n",
       "      <td>None</td>\n",
       "      <td></td>\n",
       "      <td>Brooklyn</td>\n",
       "      <td>US</td>\n",
       "      <td>NY</td>\n",
       "      <td>11215</td>\n",
       "      <td>4.0</td>\n",
       "      <td>15</td>\n",
       "      <td>256 4th Ave, Brooklyn, NY 11215</td>\n",
       "      <td>0</td>\n",
       "      <td>1</td>\n",
       "      <td>0</td>\n",
       "      <td>HENRI's Backyard;256 4th Ave, Brooklyn, NY 11215</td>\n",
       "    </tr>\n",
       "  </tbody>\n",
       "</table>\n",
       "</div>"
      ],
      "text/plain": [
       "                            business_id            business_name  \\\n",
       "0          notaro-ristorante-new-york-2        Notaro Ristorante   \n",
       "1                      vite-bar-astoria                 Vite Bar   \n",
       "2  tacks-chinese-take-out-staten-island  Tack's Chinese Take Out   \n",
       "3                   no-quarter-brooklyn               No Quarter   \n",
       "4              henris-backyard-brooklyn         HENRI's Backyard   \n",
       "\n",
       "   coordinates.latitude  coordinates.longitude  is_closed location.address1  \\\n",
       "0             40.745323             -73.975845      False       635 2nd Ave   \n",
       "1             40.763414             -73.928119      False     2507 Broadway   \n",
       "2             40.604620             -74.121230      False   11C Holden Blvd   \n",
       "3             40.625198             -74.024025      False      8015 5th Ave   \n",
       "4             40.676470             -73.983940       True       256 4th Ave   \n",
       "\n",
       "  location.address2 location.address3  location.city location.country  \\\n",
       "0                                           New York               US   \n",
       "1                                            Astoria               US   \n",
       "2                                      Staten Island               US   \n",
       "3                                           Brooklyn               US   \n",
       "4              None                         Brooklyn               US   \n",
       "\n",
       "  location.state location.zip_code  rating  review_count  \\\n",
       "0             NY             10016     3.0            90   \n",
       "1             NY             11106     4.5            76   \n",
       "2             NY             10314     4.0            52   \n",
       "3             NY             11209     2.5            16   \n",
       "4             NY             11215     4.0            15   \n",
       "\n",
       "                              clean_address  $  $$  $$$  \\\n",
       "0           635 2nd Ave, New York, NY 10016  0   1    0   \n",
       "1          2507 Broadway, Astoria, NY 11106  0   1    0   \n",
       "2  11C Holden Blvd, Staten Island, NY 10314  0   1    0   \n",
       "3          8015 5th Ave, Brooklyn, NY 11209  1   0    0   \n",
       "4           256 4th Ave, Brooklyn, NY 11215  0   1    0   \n",
       "\n",
       "                                               match  \n",
       "0  Notaro Ristorante;635 2nd Ave, New York, NY 10016  \n",
       "1          Vite Bar;2507 Broadway, Astoria, NY 11106  \n",
       "2  Tack's Chinese Take Out;11C Holden Blvd, State...  \n",
       "3        No Quarter;8015 5th Ave, Brooklyn, NY 11209  \n",
       "4   HENRI's Backyard;256 4th Ave, Brooklyn, NY 11215  "
      ]
     },
     "execution_count": 115,
     "metadata": {},
     "output_type": "execute_result"
    }
   ],
   "source": [
    "yelpDF.head()"
   ]
  },
  {
   "cell_type": "code",
   "execution_count": 116,
   "metadata": {
    "ExecuteTime": {
     "end_time": "2017-10-20T19:13:32.752309Z",
     "start_time": "2017-10-20T19:13:32.730260Z"
    }
   },
   "outputs": [
    {
     "data": {
      "text/html": [
       "<div>\n",
       "<style>\n",
       "    .dataframe thead tr:only-child th {\n",
       "        text-align: right;\n",
       "    }\n",
       "\n",
       "    .dataframe thead th {\n",
       "        text-align: left;\n",
       "    }\n",
       "\n",
       "    .dataframe tbody tr th {\n",
       "        vertical-align: top;\n",
       "    }\n",
       "</style>\n",
       "<table border=\"1\" class=\"dataframe\">\n",
       "  <thead>\n",
       "    <tr style=\"text-align: right;\">\n",
       "      <th></th>\n",
       "      <th>camis</th>\n",
       "      <th>name</th>\n",
       "      <th>boro</th>\n",
       "      <th>building</th>\n",
       "      <th>street</th>\n",
       "      <th>zipcode</th>\n",
       "      <th>phone</th>\n",
       "      <th>cuisine_description</th>\n",
       "      <th>inspection_date</th>\n",
       "      <th>critical_flag</th>\n",
       "      <th>...</th>\n",
       "      <th>Southwestern</th>\n",
       "      <th>Spanish</th>\n",
       "      <th>Steak</th>\n",
       "      <th>Tapas</th>\n",
       "      <th>Tex-Mex</th>\n",
       "      <th>Thai</th>\n",
       "      <th>Turkish</th>\n",
       "      <th>Vegetarian</th>\n",
       "      <th>Vietnamese/Cambodian/Malaysia</th>\n",
       "      <th>match</th>\n",
       "    </tr>\n",
       "  </thead>\n",
       "  <tbody>\n",
       "    <tr>\n",
       "      <th>9</th>\n",
       "      <td>40376944</td>\n",
       "      <td>TOMOE SUSHI</td>\n",
       "      <td>MANHATTAN</td>\n",
       "      <td>172</td>\n",
       "      <td>THOMPSON STREET</td>\n",
       "      <td>10012</td>\n",
       "      <td>2127779346</td>\n",
       "      <td>Japanese</td>\n",
       "      <td>2015-10-06</td>\n",
       "      <td>Critical</td>\n",
       "      <td>...</td>\n",
       "      <td>0</td>\n",
       "      <td>0</td>\n",
       "      <td>0</td>\n",
       "      <td>0</td>\n",
       "      <td>0</td>\n",
       "      <td>0</td>\n",
       "      <td>0</td>\n",
       "      <td>0</td>\n",
       "      <td>0</td>\n",
       "      <td>TOMOE SUSHI;172 THOMPSON STREET MANHATTAN 10012</td>\n",
       "    </tr>\n",
       "    <tr>\n",
       "      <th>12</th>\n",
       "      <td>41701178</td>\n",
       "      <td>CRAB SPOT RESTAURANT</td>\n",
       "      <td>BROOKLYN</td>\n",
       "      <td>833</td>\n",
       "      <td>UNION STREET</td>\n",
       "      <td>11215</td>\n",
       "      <td>7186222722</td>\n",
       "      <td>Seafood</td>\n",
       "      <td>2016-07-28</td>\n",
       "      <td>Not Critical</td>\n",
       "      <td>...</td>\n",
       "      <td>0</td>\n",
       "      <td>0</td>\n",
       "      <td>0</td>\n",
       "      <td>0</td>\n",
       "      <td>0</td>\n",
       "      <td>0</td>\n",
       "      <td>0</td>\n",
       "      <td>0</td>\n",
       "      <td>0</td>\n",
       "      <td>CRAB SPOT RESTAURANT;833 UNION STREET BROOKLYN...</td>\n",
       "    </tr>\n",
       "    <tr>\n",
       "      <th>16</th>\n",
       "      <td>41552184</td>\n",
       "      <td>NOM WAH TEA/DIM SUM PALOR</td>\n",
       "      <td>MANHATTAN</td>\n",
       "      <td>13</td>\n",
       "      <td>DOYERS STREET</td>\n",
       "      <td>10013</td>\n",
       "      <td>2129626047</td>\n",
       "      <td>Chinese</td>\n",
       "      <td>2014-09-02</td>\n",
       "      <td>Critical</td>\n",
       "      <td>...</td>\n",
       "      <td>0</td>\n",
       "      <td>0</td>\n",
       "      <td>0</td>\n",
       "      <td>0</td>\n",
       "      <td>0</td>\n",
       "      <td>0</td>\n",
       "      <td>0</td>\n",
       "      <td>0</td>\n",
       "      <td>0</td>\n",
       "      <td>NOM WAH TEA/DIM SUM PALOR;13 DOYERS STREET MAN...</td>\n",
       "    </tr>\n",
       "    <tr>\n",
       "      <th>17</th>\n",
       "      <td>41696159</td>\n",
       "      <td>LUIGI'S PIZZA &amp; PASTA</td>\n",
       "      <td>BRONX</td>\n",
       "      <td>119</td>\n",
       "      <td>EAST MOUNT EDEN AVENUE</td>\n",
       "      <td>10452</td>\n",
       "      <td>7182941800</td>\n",
       "      <td>Pizza</td>\n",
       "      <td>2014-10-27</td>\n",
       "      <td>Not Critical</td>\n",
       "      <td>...</td>\n",
       "      <td>0</td>\n",
       "      <td>0</td>\n",
       "      <td>0</td>\n",
       "      <td>0</td>\n",
       "      <td>0</td>\n",
       "      <td>0</td>\n",
       "      <td>0</td>\n",
       "      <td>0</td>\n",
       "      <td>0</td>\n",
       "      <td>LUIGI'S PIZZA &amp; PASTA;119 EAST MOUNT EDEN AVEN...</td>\n",
       "    </tr>\n",
       "    <tr>\n",
       "      <th>22</th>\n",
       "      <td>41611667</td>\n",
       "      <td>SERVICE BAR 7</td>\n",
       "      <td>QUEENS</td>\n",
       "      <td>11000</td>\n",
       "      <td>ROCKAWAY BOULEVARD</td>\n",
       "      <td>11420</td>\n",
       "      <td>6465881074</td>\n",
       "      <td>American</td>\n",
       "      <td>2016-04-07</td>\n",
       "      <td>Not Critical</td>\n",
       "      <td>...</td>\n",
       "      <td>0</td>\n",
       "      <td>0</td>\n",
       "      <td>0</td>\n",
       "      <td>0</td>\n",
       "      <td>0</td>\n",
       "      <td>0</td>\n",
       "      <td>0</td>\n",
       "      <td>0</td>\n",
       "      <td>0</td>\n",
       "      <td>SERVICE BAR 7;11000 ROCKAWAY BOULEVARD QUEENS ...</td>\n",
       "    </tr>\n",
       "  </tbody>\n",
       "</table>\n",
       "<p>5 rows × 102 columns</p>\n",
       "</div>"
      ],
      "text/plain": [
       "       camis                       name       boro building  \\\n",
       "9   40376944                TOMOE SUSHI  MANHATTAN      172   \n",
       "12  41701178       CRAB SPOT RESTAURANT   BROOKLYN      833   \n",
       "16  41552184  NOM WAH TEA/DIM SUM PALOR  MANHATTAN       13   \n",
       "17  41696159      LUIGI'S PIZZA & PASTA      BRONX      119   \n",
       "22  41611667              SERVICE BAR 7     QUEENS    11000   \n",
       "\n",
       "                    street zipcode       phone cuisine_description  \\\n",
       "9          THOMPSON STREET   10012  2127779346            Japanese   \n",
       "12            UNION STREET   11215  7186222722             Seafood   \n",
       "16           DOYERS STREET   10013  2129626047             Chinese   \n",
       "17  EAST MOUNT EDEN AVENUE   10452  7182941800               Pizza   \n",
       "22      ROCKAWAY BOULEVARD   11420  6465881074            American   \n",
       "\n",
       "   inspection_date critical_flag  \\\n",
       "9       2015-10-06      Critical   \n",
       "12      2016-07-28  Not Critical   \n",
       "16      2014-09-02      Critical   \n",
       "17      2014-10-27  Not Critical   \n",
       "22      2016-04-07  Not Critical   \n",
       "\n",
       "                          ...                          Southwestern Spanish  \\\n",
       "9                         ...                                     0       0   \n",
       "12                        ...                                     0       0   \n",
       "16                        ...                                     0       0   \n",
       "17                        ...                                     0       0   \n",
       "22                        ...                                     0       0   \n",
       "\n",
       "   Steak Tapas Tex-Mex Thai  Turkish Vegetarian  \\\n",
       "9      0     0       0    0        0          0   \n",
       "12     0     0       0    0        0          0   \n",
       "16     0     0       0    0        0          0   \n",
       "17     0     0       0    0        0          0   \n",
       "22     0     0       0    0        0          0   \n",
       "\n",
       "    Vietnamese/Cambodian/Malaysia  \\\n",
       "9                               0   \n",
       "12                              0   \n",
       "16                              0   \n",
       "17                              0   \n",
       "22                              0   \n",
       "\n",
       "                                                match  \n",
       "9     TOMOE SUSHI;172 THOMPSON STREET MANHATTAN 10012  \n",
       "12  CRAB SPOT RESTAURANT;833 UNION STREET BROOKLYN...  \n",
       "16  NOM WAH TEA/DIM SUM PALOR;13 DOYERS STREET MAN...  \n",
       "17  LUIGI'S PIZZA & PASTA;119 EAST MOUNT EDEN AVEN...  \n",
       "22  SERVICE BAR 7;11000 ROCKAWAY BOULEVARD QUEENS ...  \n",
       "\n",
       "[5 rows x 102 columns]"
      ]
     },
     "execution_count": 116,
     "metadata": {},
     "output_type": "execute_result"
    }
   ],
   "source": [
    "uniqueDF.head()"
   ]
  },
  {
   "cell_type": "code",
   "execution_count": 117,
   "metadata": {
    "ExecuteTime": {
     "end_time": "2017-10-20T19:13:32.756975Z",
     "start_time": "2017-10-20T19:13:32.754264Z"
    },
    "collapsed": true
   },
   "outputs": [],
   "source": [
    "# a = df2.title.map(lambda x: difflib.get_close_matches(x, box2.name))\n",
    "# df2['merge']= [e[0] if e else '' for e in a]\n",
    "# boxdf = pd.merge(left=df2,left_on='merge', right=box2,right_on='name')"
   ]
  },
  {
   "cell_type": "markdown",
   "metadata": {},
   "source": [
    "Test Merge Data (first 100 for each data frame)"
   ]
  },
  {
   "cell_type": "code",
   "execution_count": 118,
   "metadata": {
    "ExecuteTime": {
     "end_time": "2017-10-20T19:13:32.761641Z",
     "start_time": "2017-10-20T19:13:32.759182Z"
    },
    "collapsed": true
   },
   "outputs": [],
   "source": [
    "# yelpTest = yelpDF.head(100)"
   ]
  },
  {
   "cell_type": "code",
   "execution_count": 119,
   "metadata": {
    "ExecuteTime": {
     "end_time": "2017-10-20T19:13:32.765503Z",
     "start_time": "2017-10-20T19:13:32.763234Z"
    },
    "collapsed": true
   },
   "outputs": [],
   "source": [
    "# yelpTest['business_name'] = yelpTest.business_name.str.lower()\n",
    "# yelpTest['match'] = yelpTest.match.str.lower()"
   ]
  },
  {
   "cell_type": "code",
   "execution_count": 120,
   "metadata": {
    "ExecuteTime": {
     "end_time": "2017-10-20T19:13:32.770610Z",
     "start_time": "2017-10-20T19:13:32.767350Z"
    },
    "collapsed": true
   },
   "outputs": [],
   "source": [
    "nycTest = uniqueDF.head(100)"
   ]
  },
  {
   "cell_type": "code",
   "execution_count": 121,
   "metadata": {
    "ExecuteTime": {
     "end_time": "2017-10-20T19:13:32.892488Z",
     "start_time": "2017-10-20T19:13:32.772381Z"
    }
   },
   "outputs": [
    {
     "name": "stderr",
     "output_type": "stream",
     "text": [
      "/Users/xavier/anaconda/lib/python3.6/site-packages/ipykernel_launcher.py:1: SettingWithCopyWarning: \n",
      "A value is trying to be set on a copy of a slice from a DataFrame.\n",
      "Try using .loc[row_indexer,col_indexer] = value instead\n",
      "\n",
      "See the caveats in the documentation: http://pandas.pydata.org/pandas-docs/stable/indexing.html#indexing-view-versus-copy\n",
      "  \"\"\"Entry point for launching an IPython kernel.\n"
     ]
    }
   ],
   "source": [
    "nycTest['match'] = nycTest.match.str.lower()"
   ]
  },
  {
   "cell_type": "code",
   "execution_count": 122,
   "metadata": {
    "ExecuteTime": {
     "end_time": "2017-10-20T19:13:32.897565Z",
     "start_time": "2017-10-20T19:13:32.894700Z"
    },
    "collapsed": true
   },
   "outputs": [],
   "source": [
    "# a = yelpTest.match.map(lambda x: difflib.get_close_matches(x, nycTest.match,cutoff=.7,))"
   ]
  },
  {
   "cell_type": "code",
   "execution_count": 123,
   "metadata": {
    "ExecuteTime": {
     "end_time": "2017-10-20T19:13:32.903210Z",
     "start_time": "2017-10-20T19:13:32.899813Z"
    },
    "collapsed": true
   },
   "outputs": [],
   "source": [
    "# yelpTest['merge'] = [e[0] if e else '' for e in a]"
   ]
  },
  {
   "cell_type": "code",
   "execution_count": 124,
   "metadata": {
    "ExecuteTime": {
     "end_time": "2017-10-20T19:13:32.908013Z",
     "start_time": "2017-10-20T19:13:32.905103Z"
    },
    "collapsed": true
   },
   "outputs": [],
   "source": [
    "#yelpTest.head(50)"
   ]
  },
  {
   "cell_type": "code",
   "execution_count": 125,
   "metadata": {
    "ExecuteTime": {
     "end_time": "2017-10-20T19:13:32.938475Z",
     "start_time": "2017-10-20T19:13:32.910536Z"
    },
    "collapsed": true
   },
   "outputs": [],
   "source": [
    "yelpDF['match'] = yelpDF.match.str.lower()\n",
    "uniqueDF['match'] = uniqueDF.match.str.lower()"
   ]
  },
  {
   "cell_type": "code",
   "execution_count": 126,
   "metadata": {
    "ExecuteTime": {
     "end_time": "2017-10-20T19:13:32.944604Z",
     "start_time": "2017-10-20T19:13:32.940984Z"
    },
    "collapsed": true
   },
   "outputs": [],
   "source": [
    "# a = yelpDF.match.map(lambda x: difflib.get_close_matches(x, uniqueDF.match))"
   ]
  },
  {
   "cell_type": "code",
   "execution_count": 127,
   "metadata": {
    "ExecuteTime": {
     "end_time": "2017-10-20T19:13:32.950040Z",
     "start_time": "2017-10-20T19:13:32.946790Z"
    },
    "collapsed": true
   },
   "outputs": [],
   "source": [
    "# yelp10k = yelpDF.head(10000)"
   ]
  },
  {
   "cell_type": "code",
   "execution_count": 128,
   "metadata": {
    "ExecuteTime": {
     "end_time": "2017-10-20T19:13:32.955518Z",
     "start_time": "2017-10-20T19:13:32.952316Z"
    },
    "collapsed": true
   },
   "outputs": [],
   "source": [
    "# yelp10k.shape"
   ]
  },
  {
   "cell_type": "code",
   "execution_count": 129,
   "metadata": {
    "ExecuteTime": {
     "end_time": "2017-10-20T19:13:32.962730Z",
     "start_time": "2017-10-20T19:13:32.958302Z"
    },
    "collapsed": true
   },
   "outputs": [],
   "source": [
    "# a = yelp10k.match.map(lambda x: difflib.get_close_matches(x, gradeDF.match))"
   ]
  },
  {
   "cell_type": "code",
   "execution_count": 130,
   "metadata": {
    "ExecuteTime": {
     "end_time": "2017-10-20T19:13:32.971405Z",
     "start_time": "2017-10-20T19:13:32.966550Z"
    },
    "collapsed": true
   },
   "outputs": [],
   "source": [
    "# yelp10k['merge'] = [e[0] if e else '' for e in a]"
   ]
  },
  {
   "cell_type": "code",
   "execution_count": 131,
   "metadata": {
    "ExecuteTime": {
     "end_time": "2017-10-20T19:13:32.976561Z",
     "start_time": "2017-10-20T19:13:32.973394Z"
    },
    "collapsed": true
   },
   "outputs": [],
   "source": [
    "# yelpDF['merge'] = [e[0] if e else '' for e in a]"
   ]
  },
  {
   "cell_type": "code",
   "execution_count": 132,
   "metadata": {
    "ExecuteTime": {
     "end_time": "2017-10-20T19:13:32.981730Z",
     "start_time": "2017-10-20T19:13:32.978580Z"
    },
    "collapsed": true
   },
   "outputs": [],
   "source": [
    "# yelpDF.head(5)"
   ]
  },
  {
   "cell_type": "code",
   "execution_count": 133,
   "metadata": {
    "ExecuteTime": {
     "end_time": "2017-10-20T19:13:32.988271Z",
     "start_time": "2017-10-20T19:13:32.984603Z"
    },
    "collapsed": true
   },
   "outputs": [],
   "source": [
    "#mergeDF = yelpTest.merge(nycTest,left_on='merge',right_on='match')"
   ]
  },
  {
   "cell_type": "code",
   "execution_count": 135,
   "metadata": {
    "ExecuteTime": {
     "end_time": "2017-10-20T19:13:35.801306Z",
     "start_time": "2017-10-20T19:13:35.798661Z"
    },
    "collapsed": true
   },
   "outputs": [],
   "source": [
    "#mergeDF.to_csv('merge.csv')"
   ]
  },
  {
   "cell_type": "code",
   "execution_count": 136,
   "metadata": {
    "ExecuteTime": {
     "end_time": "2017-10-20T19:13:36.067170Z",
     "start_time": "2017-10-20T19:13:36.062509Z"
    },
    "collapsed": true
   },
   "outputs": [],
   "source": [
    "#uniqueDF = pd.read_pickle('data/inspection.pkl')"
   ]
  },
  {
   "cell_type": "markdown",
   "metadata": {},
   "source": [
    "### Merge Yelp with NYC Inspection Data"
   ]
  },
  {
   "cell_type": "code",
   "execution_count": 154,
   "metadata": {
    "ExecuteTime": {
     "end_time": "2017-10-20T19:13:45.144986Z",
     "start_time": "2017-10-20T19:13:44.993810Z"
    },
    "collapsed": true
   },
   "outputs": [],
   "source": [
    "yelpDF = pd.read_csv('data/yelp_merge.csv')"
   ]
  },
  {
   "cell_type": "code",
   "execution_count": 155,
   "metadata": {
    "ExecuteTime": {
     "end_time": "2017-10-20T19:13:45.305569Z",
     "start_time": "2017-10-20T19:13:45.301432Z"
    }
   },
   "outputs": [
    {
     "data": {
      "text/plain": [
       "(23397, 21)"
      ]
     },
     "execution_count": 155,
     "metadata": {},
     "output_type": "execute_result"
    }
   ],
   "source": [
    "yelpDF.shape"
   ]
  },
  {
   "cell_type": "code",
   "execution_count": 156,
   "metadata": {
    "ExecuteTime": {
     "end_time": "2017-10-20T19:13:45.651697Z",
     "start_time": "2017-10-20T19:13:45.646618Z"
    }
   },
   "outputs": [
    {
     "data": {
      "text/plain": [
       "(22316, 111)"
      ]
     },
     "execution_count": 156,
     "metadata": {},
     "output_type": "execute_result"
    }
   ],
   "source": [
    "uniqueDF.shape"
   ]
  },
  {
   "cell_type": "code",
   "execution_count": 157,
   "metadata": {
    "ExecuteTime": {
     "end_time": "2017-10-20T19:13:45.981621Z",
     "start_time": "2017-10-20T19:13:45.976832Z"
    }
   },
   "outputs": [
    {
     "data": {
      "text/plain": [
       "['index',\n",
       " 'business_id',\n",
       " 'business_name',\n",
       " 'coordinates.latitude',\n",
       " 'coordinates.longitude',\n",
       " 'is_closed',\n",
       " 'location.address1',\n",
       " 'location.address2',\n",
       " 'location.address3',\n",
       " 'location.city',\n",
       " 'location.country',\n",
       " 'location.state',\n",
       " 'location.zip_code',\n",
       " 'rating',\n",
       " 'review_count',\n",
       " 'clean_address',\n",
       " '$',\n",
       " '$$',\n",
       " '$$$',\n",
       " 'match',\n",
       " 'merge']"
      ]
     },
     "execution_count": 157,
     "metadata": {},
     "output_type": "execute_result"
    }
   ],
   "source": [
    "yelpDF.columns.tolist()"
   ]
  },
  {
   "cell_type": "code",
   "execution_count": 158,
   "metadata": {
    "ExecuteTime": {
     "end_time": "2017-10-20T19:13:46.314726Z",
     "start_time": "2017-10-20T19:13:46.311906Z"
    },
    "collapsed": true
   },
   "outputs": [],
   "source": [
    "yelpFeatures = ['business_id', 'is_closed', 'rating', 'review_count', '$', '$$', '$$$', 'merge']"
   ]
  },
  {
   "cell_type": "code",
   "execution_count": 159,
   "metadata": {
    "ExecuteTime": {
     "end_time": "2017-10-20T19:13:46.633167Z",
     "start_time": "2017-10-20T19:13:46.626312Z"
    },
    "collapsed": true
   },
   "outputs": [],
   "source": [
    "yelpDF = yelpDF[yelpFeatures]"
   ]
  },
  {
   "cell_type": "code",
   "execution_count": 160,
   "metadata": {
    "ExecuteTime": {
     "end_time": "2017-10-20T19:13:46.933073Z",
     "start_time": "2017-10-20T19:13:46.895159Z"
    },
    "collapsed": true
   },
   "outputs": [],
   "source": [
    "uniqueDF = uniqueDF[dfFeatures]"
   ]
  },
  {
   "cell_type": "code",
   "execution_count": 161,
   "metadata": {
    "ExecuteTime": {
     "end_time": "2017-10-20T19:13:47.257245Z",
     "start_time": "2017-10-20T19:13:47.227959Z"
    },
    "collapsed": true
   },
   "outputs": [],
   "source": [
    "mergeDF = uniqueDF.merge(yelpDF,left_on='match',right_on='merge')"
   ]
  },
  {
   "cell_type": "code",
   "execution_count": 162,
   "metadata": {
    "ExecuteTime": {
     "end_time": "2017-10-20T19:13:49.784451Z",
     "start_time": "2017-10-20T19:13:49.779425Z"
    }
   },
   "outputs": [
    {
     "data": {
      "text/plain": [
       "['zipcode',\n",
       " 'score',\n",
       " 'grade',\n",
       " 'contamination',\n",
       " 'facility',\n",
       " 'food_handling',\n",
       " 'hygiene',\n",
       " 'temperature',\n",
       " 'vermin',\n",
       " 'inspection_year',\n",
       " 'Afghan',\n",
       " 'African',\n",
       " 'American',\n",
       " 'Armenian',\n",
       " 'Asian',\n",
       " 'Australian',\n",
       " 'Bagels/Pretzels',\n",
       " 'Bakery',\n",
       " 'Bangladeshi',\n",
       " 'Barbecue',\n",
       " 'Bottle Beverages',\n",
       " 'Brazilian',\n",
       " 'Cajun',\n",
       " 'Californian',\n",
       " 'Caribbean',\n",
       " 'Chicken',\n",
       " 'Chilean',\n",
       " 'Chinese',\n",
       " 'Chinese/Cuban',\n",
       " 'Chinese/Japanese',\n",
       " 'Coffee',\n",
       " 'Continental',\n",
       " 'Creole',\n",
       " 'Creole/Cajun',\n",
       " 'Czech',\n",
       " 'Delicatessen',\n",
       " 'Donuts',\n",
       " 'Eastern European',\n",
       " 'Egyptian',\n",
       " 'English',\n",
       " 'Ethiopian',\n",
       " 'Filipino',\n",
       " 'French',\n",
       " 'Fruits/Vegetables',\n",
       " 'German',\n",
       " 'Greek',\n",
       " 'Hamburgers',\n",
       " 'Hawaiian',\n",
       " 'Hotdogs',\n",
       " 'Hotdogs/Pretzels',\n",
       " 'Ice Cream',\n",
       " 'Indian',\n",
       " 'Indonesian',\n",
       " 'Iranian',\n",
       " 'Irish',\n",
       " 'Italian',\n",
       " 'Japanese',\n",
       " 'Jewish/Kosher',\n",
       " 'Juice, Smoothies, Fruit Salads',\n",
       " 'Korean',\n",
       " 'Latin',\n",
       " 'Mediterranean',\n",
       " 'Mexican',\n",
       " 'Middle Eastern',\n",
       " 'Mixed Buffet',\n",
       " 'Moroccan',\n",
       " 'Not Listed/Not Applicable',\n",
       " 'Nuts/Confectionary',\n",
       " 'Pakistani',\n",
       " 'Pancakes/Waffles',\n",
       " 'Peruvian',\n",
       " 'Pizza',\n",
       " 'Pizza/Italian',\n",
       " 'Polish',\n",
       " 'Polynesian',\n",
       " 'Portuguese',\n",
       " 'Russian',\n",
       " 'Salads',\n",
       " 'Sandwiches',\n",
       " 'Scandinavian',\n",
       " 'Seafood',\n",
       " 'Soul Food',\n",
       " 'Soups',\n",
       " 'Southwestern',\n",
       " 'Spanish',\n",
       " 'Steak',\n",
       " 'Tapas',\n",
       " 'Tex-Mex',\n",
       " 'Thai',\n",
       " 'Turkish',\n",
       " 'Vegetarian',\n",
       " 'Vietnamese/Cambodian/Malaysia',\n",
       " 'bronx',\n",
       " 'brooklyn',\n",
       " 'manhattan',\n",
       " 'queens',\n",
       " 'match']"
      ]
     },
     "execution_count": 162,
     "metadata": {},
     "output_type": "execute_result"
    }
   ],
   "source": [
    "uniqueDF.columns.tolist()"
   ]
  },
  {
   "cell_type": "code",
   "execution_count": 163,
   "metadata": {
    "ExecuteTime": {
     "end_time": "2017-10-20T19:13:50.548498Z",
     "start_time": "2017-10-20T19:13:50.544303Z"
    }
   },
   "outputs": [
    {
     "data": {
      "text/plain": [
       "(12150, 105)"
      ]
     },
     "execution_count": 163,
     "metadata": {},
     "output_type": "execute_result"
    }
   ],
   "source": [
    "mergeDF.shape"
   ]
  },
  {
   "cell_type": "code",
   "execution_count": 164,
   "metadata": {
    "ExecuteTime": {
     "end_time": "2017-10-20T19:13:51.255282Z",
     "start_time": "2017-10-20T19:13:51.130995Z"
    },
    "collapsed": true
   },
   "outputs": [],
   "source": [
    "uniqueDF.drop('match',inplace=True,axis=1)"
   ]
  },
  {
   "cell_type": "code",
   "execution_count": 165,
   "metadata": {
    "ExecuteTime": {
     "end_time": "2017-10-20T19:13:51.558008Z",
     "start_time": "2017-10-20T19:13:51.536246Z"
    },
    "collapsed": true
   },
   "outputs": [],
   "source": [
    "mergeDF.drop(['merge','match'],axis=1,inplace=True)"
   ]
  },
  {
   "cell_type": "code",
   "execution_count": 166,
   "metadata": {
    "ExecuteTime": {
     "end_time": "2017-10-20T19:13:51.932829Z",
     "start_time": "2017-10-20T19:13:51.910276Z"
    },
    "collapsed": true
   },
   "outputs": [],
   "source": [
    "mergeDF.to_pickle('data/merge.pkl')"
   ]
  },
  {
   "cell_type": "code",
   "execution_count": 167,
   "metadata": {
    "ExecuteTime": {
     "end_time": "2017-10-20T19:13:52.330751Z",
     "start_time": "2017-10-20T19:13:52.294038Z"
    },
    "collapsed": true
   },
   "outputs": [],
   "source": [
    "uniqueDF.to_pickle('data/inspection.pkl')"
   ]
  },
  {
   "cell_type": "code",
   "execution_count": null,
   "metadata": {
    "collapsed": true
   },
   "outputs": [],
   "source": []
  }
 ],
 "metadata": {
  "kernelspec": {
   "display_name": "Python 3",
   "language": "python",
   "name": "python3"
  },
  "language_info": {
   "codemirror_mode": {
    "name": "ipython",
    "version": 3
   },
   "file_extension": ".py",
   "mimetype": "text/x-python",
   "name": "python",
   "nbconvert_exporter": "python",
   "pygments_lexer": "ipython3",
   "version": "3.6.2"
  }
 },
 "nbformat": 4,
 "nbformat_minor": 2
}
