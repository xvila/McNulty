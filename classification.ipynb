{
 "cells": [
  {
   "cell_type": "code",
   "execution_count": 104,
   "metadata": {
    "ExecuteTime": {
     "end_time": "2017-10-20T21:32:21.391117Z",
     "start_time": "2017-10-20T21:32:21.368371Z"
    }
   },
   "outputs": [],
   "source": [
    "import pandas as pd\n",
    "import numpy as np\n",
    "from sklearn.cross_validation import train_test_split\n",
    "from sklearn.neighbors import KNeighborsClassifier\n",
    "from sklearn.metrics import accuracy_score, confusion_matrix\n",
    "from sklearn.metrics import precision_score\n",
    "from sklearn.metrics import recall_score\n",
    "from sklearn.metrics import f1_score\n",
    "from sklearn.metrics import roc_curve\n",
    "from sklearn.metrics import classification_report\n",
    "from sklearn.metrics import roc_auc_score\n",
    "from sklearn.model_selection import cross_val_score\n",
    "from sklearn.linear_model import LogisticRegression\n",
    "from sklearn.ensemble import RandomForestClassifier\n",
    "from sklearn import cross_validation\n",
    "from sklearn.utils import resample\n",
    "from sklearn import svm\n",
    "\n",
    "%matplotlib inline\n",
    "import seaborn as sns\n",
    "import matplotlib.pyplot as plt\n",
    "plt.style.use('fivethirtyeight')\n",
    "sns.set_style('whitegrid')\n"
   ]
  },
  {
   "cell_type": "markdown",
   "metadata": {},
   "source": [
    "### Inspection Data"
   ]
  },
  {
   "cell_type": "code",
   "execution_count": 16,
   "metadata": {
    "ExecuteTime": {
     "end_time": "2017-10-20T19:14:07.382276Z",
     "start_time": "2017-10-20T19:14:07.356910Z"
    }
   },
   "outputs": [],
   "source": [
    "df = pd.read_pickle('data/inspection.pkl')"
   ]
  },
  {
   "cell_type": "markdown",
   "metadata": {},
   "source": [
    "### Merged Data"
   ]
  },
  {
   "cell_type": "code",
   "execution_count": 17,
   "metadata": {
    "ExecuteTime": {
     "end_time": "2017-10-20T19:14:08.065520Z",
     "start_time": "2017-10-20T19:14:08.051227Z"
    },
    "collapsed": true
   },
   "outputs": [],
   "source": [
    "mergeDF = pd.read_pickle('data/merge.pkl')"
   ]
  },
  {
   "cell_type": "code",
   "execution_count": 41,
   "metadata": {
    "ExecuteTime": {
     "end_time": "2017-10-20T19:36:36.330814Z",
     "start_time": "2017-10-20T19:36:36.325565Z"
    }
   },
   "outputs": [
    {
     "data": {
      "text/plain": [
       "['zipcode',\n",
       " 'score',\n",
       " 'grade',\n",
       " 'contamination',\n",
       " 'facility',\n",
       " 'food_handling',\n",
       " 'hygiene',\n",
       " 'temperature',\n",
       " 'vermin',\n",
       " 'inspection_year',\n",
       " 'Afghan',\n",
       " 'African',\n",
       " 'American',\n",
       " 'Armenian',\n",
       " 'Asian',\n",
       " 'Australian',\n",
       " 'Bagels/Pretzels',\n",
       " 'Bakery',\n",
       " 'Bangladeshi',\n",
       " 'Barbecue',\n",
       " 'Bottle Beverages',\n",
       " 'Brazilian',\n",
       " 'Cajun',\n",
       " 'Californian',\n",
       " 'Caribbean',\n",
       " 'Chicken',\n",
       " 'Chilean',\n",
       " 'Chinese',\n",
       " 'Chinese/Cuban',\n",
       " 'Chinese/Japanese',\n",
       " 'Coffee',\n",
       " 'Continental',\n",
       " 'Creole',\n",
       " 'Creole/Cajun',\n",
       " 'Czech',\n",
       " 'Delicatessen',\n",
       " 'Donuts',\n",
       " 'Eastern European',\n",
       " 'Egyptian',\n",
       " 'English',\n",
       " 'Ethiopian',\n",
       " 'Filipino',\n",
       " 'French',\n",
       " 'Fruits/Vegetables',\n",
       " 'German',\n",
       " 'Greek',\n",
       " 'Hamburgers',\n",
       " 'Hawaiian',\n",
       " 'Hotdogs',\n",
       " 'Hotdogs/Pretzels',\n",
       " 'Ice Cream',\n",
       " 'Indian',\n",
       " 'Indonesian',\n",
       " 'Iranian',\n",
       " 'Irish',\n",
       " 'Italian',\n",
       " 'Japanese',\n",
       " 'Jewish/Kosher',\n",
       " 'Juice, Smoothies, Fruit Salads',\n",
       " 'Korean',\n",
       " 'Latin',\n",
       " 'Mediterranean',\n",
       " 'Mexican',\n",
       " 'Middle Eastern',\n",
       " 'Mixed Buffet',\n",
       " 'Moroccan',\n",
       " 'Not Listed/Not Applicable',\n",
       " 'Nuts/Confectionary',\n",
       " 'Pakistani',\n",
       " 'Pancakes/Waffles',\n",
       " 'Peruvian',\n",
       " 'Pizza',\n",
       " 'Pizza/Italian',\n",
       " 'Polish',\n",
       " 'Polynesian',\n",
       " 'Portuguese',\n",
       " 'Russian',\n",
       " 'Salads',\n",
       " 'Sandwiches',\n",
       " 'Scandinavian',\n",
       " 'Seafood',\n",
       " 'Soul Food',\n",
       " 'Soups',\n",
       " 'Southwestern',\n",
       " 'Spanish',\n",
       " 'Steak',\n",
       " 'Tapas',\n",
       " 'Tex-Mex',\n",
       " 'Thai',\n",
       " 'Turkish',\n",
       " 'Vegetarian',\n",
       " 'Vietnamese/Cambodian/Malaysia',\n",
       " 'bronx',\n",
       " 'brooklyn',\n",
       " 'manhattan',\n",
       " 'queens',\n",
       " 'business_id',\n",
       " 'is_closed',\n",
       " 'rating',\n",
       " 'review_count',\n",
       " '$',\n",
       " '$$',\n",
       " '$$$']"
      ]
     },
     "execution_count": 41,
     "metadata": {},
     "output_type": "execute_result"
    }
   ],
   "source": [
    "mergeDF.columns.tolist()"
   ]
  },
  {
   "cell_type": "code",
   "execution_count": 42,
   "metadata": {
    "ExecuteTime": {
     "end_time": "2017-10-20T19:38:02.426213Z",
     "start_time": "2017-10-20T19:38:02.419462Z"
    },
    "collapsed": true
   },
   "outputs": [],
   "source": [
    "mergeDF.drop('business_id',axis=1, inplace=True)"
   ]
  },
  {
   "cell_type": "markdown",
   "metadata": {},
   "source": [
    "## Predict Health Grade for Inspections"
   ]
  },
  {
   "cell_type": "markdown",
   "metadata": {},
   "source": [
    "### Dummy Prediction"
   ]
  },
  {
   "cell_type": "code",
   "execution_count": 25,
   "metadata": {
    "ExecuteTime": {
     "end_time": "2017-10-20T19:23:24.272048Z",
     "start_time": "2017-10-20T19:23:24.266452Z"
    },
    "collapsed": true
   },
   "outputs": [],
   "source": [
    "df['dummy'] = 'A'"
   ]
  },
  {
   "cell_type": "code",
   "execution_count": 28,
   "metadata": {
    "ExecuteTime": {
     "end_time": "2017-10-20T19:24:50.350446Z",
     "start_time": "2017-10-20T19:24:50.330209Z"
    }
   },
   "outputs": [
    {
     "data": {
      "text/plain": [
       "0.86897293421760169"
      ]
     },
     "execution_count": 28,
     "metadata": {},
     "output_type": "execute_result"
    }
   ],
   "source": [
    "accuracy_score(df.grade,df.dummy)"
   ]
  },
  {
   "cell_type": "code",
   "execution_count": 29,
   "metadata": {
    "ExecuteTime": {
     "end_time": "2017-10-20T19:27:47.166507Z",
     "start_time": "2017-10-20T19:27:47.153036Z"
    }
   },
   "outputs": [],
   "source": [
    "X = df.drop(['grade','score','dummy'],axis=1)\n",
    "y = df.grade"
   ]
  },
  {
   "cell_type": "code",
   "execution_count": 30,
   "metadata": {
    "ExecuteTime": {
     "end_time": "2017-10-20T19:27:48.139642Z",
     "start_time": "2017-10-20T19:27:47.811645Z"
    }
   },
   "outputs": [
    {
     "name": "stdout",
     "output_type": "stream",
     "text": [
      "0.82285287528\n"
     ]
    }
   ],
   "source": [
    "rf = RandomForestClassifier()\n",
    "X_train,X_test,y_train,y_test = train_test_split(X,y,test_size=.3,random_state=1234)\n",
    "rf.fit(X_train,y_train)\n",
    "pred = rf.predict(X_test)\n",
    "print(accuracy_score(y_test,pred))"
   ]
  },
  {
   "cell_type": "code",
   "execution_count": null,
   "metadata": {
    "collapsed": true
   },
   "outputs": [],
   "source": [
    "# importances = pd.DataFrame.from_dict(feats, orient='index').rename(columns={0: 'Gini-importance'})\n",
    "# importances.sort_values(by='Gini-importance').plot(kind='bar', rot=45)"
   ]
  },
  {
   "cell_type": "code",
   "execution_count": 35,
   "metadata": {
    "ExecuteTime": {
     "end_time": "2017-10-20T19:30:38.199293Z",
     "start_time": "2017-10-20T19:30:38.193591Z"
    },
    "collapsed": true
   },
   "outputs": [],
   "source": [
    "def important_features(model,X):\n",
    "    feats = {} # a dict to hold feature_name: feature_importance\n",
    "    for feature, importance in zip(X.columns, model.feature_importances_):\n",
    "        feats[feature] = importance\n",
    "    feats = [(k, feats[k]) for k in sorted(feats, key=feats.get, reverse=True)]\n",
    "    return feats"
   ]
  },
  {
   "cell_type": "code",
   "execution_count": 36,
   "metadata": {
    "ExecuteTime": {
     "end_time": "2017-10-20T19:30:38.611743Z",
     "start_time": "2017-10-20T19:30:38.602011Z"
    }
   },
   "outputs": [
    {
     "data": {
      "text/plain": [
       "[('zipcode', 0.56116937550418255),\n",
       " ('inspection_year', 0.084551034641104056),\n",
       " ('facility', 0.027286032117059704),\n",
       " ('vermin', 0.025707329792599133),\n",
       " ('brooklyn', 0.014027426762568618),\n",
       " ('manhattan', 0.01402212780502549),\n",
       " ('temperature', 0.013316693449029762),\n",
       " ('queens', 0.013110341553127135),\n",
       " ('contamination', 0.012955972270073413),\n",
       " ('Chinese', 0.010223492431279069),\n",
       " ('bronx', 0.0099761443506340766),\n",
       " ('hygiene', 0.0098124920004093764),\n",
       " ('American', 0.008918034388797666),\n",
       " ('Bakery', 0.0076797098145991449),\n",
       " ('Japanese', 0.0076659437608896817),\n",
       " ('Pizza', 0.0072804343363598988),\n",
       " ('Latin', 0.0071463620270211543),\n",
       " ('Mexican', 0.0071262477695392488),\n",
       " ('Italian', 0.006471467630227626),\n",
       " ('Spanish', 0.0064358118957950298),\n",
       " ('Pizza/Italian', 0.0062800829512630833),\n",
       " ('Caribbean', 0.0059189236393798854),\n",
       " ('food_handling', 0.0057417883911590577),\n",
       " ('Asian', 0.0056951033901271493),\n",
       " ('Indian', 0.005592624232414212),\n",
       " ('Chicken', 0.0053588763729674862),\n",
       " ('Delicatessen', 0.0050403355009984163),\n",
       " ('Thai', 0.0049553831483018602),\n",
       " ('Coffee', 0.0044453172397045503),\n",
       " ('Jewish/Kosher', 0.0042987244918929572),\n",
       " ('Donuts', 0.0041066030275724603),\n",
       " ('Seafood', 0.0039246554217465665),\n",
       " ('French', 0.0038534870291537008),\n",
       " ('Korean', 0.0038020479180573114),\n",
       " ('Hamburgers', 0.0033894508058105637),\n",
       " ('Bagels/Pretzels', 0.003225119820039661),\n",
       " ('Juice, Smoothies, Fruit Salads', 0.0029672965467100305),\n",
       " ('Ice Cream', 0.002957118609317052),\n",
       " ('Irish', 0.002927041987626903),\n",
       " ('Middle Eastern', 0.0028619403270427313),\n",
       " ('Sandwiches', 0.0028577850851990239),\n",
       " ('Peruvian', 0.0027272888904013698),\n",
       " ('Bangladeshi', 0.0027186788995449641),\n",
       " ('Tex-Mex', 0.0027131049381173599),\n",
       " ('Vietnamese/Cambodian/Malaysia', 0.0026261239176300659),\n",
       " ('Chinese/Japanese', 0.0026168791957548268),\n",
       " ('Vegetarian', 0.0024348293015934862),\n",
       " ('African', 0.0022304578332254404),\n",
       " ('Mediterranean', 0.0021991954733574194),\n",
       " ('Eastern European', 0.0021578066093159076),\n",
       " ('Pakistani', 0.0021039017874498536),\n",
       " ('Greek', 0.0020521991261616473),\n",
       " ('Mixed Buffet', 0.0018601362643328235),\n",
       " ('Bottle Beverages', 0.0018357050198498192),\n",
       " ('Russian', 0.0017853030448309784),\n",
       " ('Turkish', 0.0014753289460963897),\n",
       " ('Soul Food', 0.0014737574965017161),\n",
       " ('Continental', 0.0014225028176286759),\n",
       " ('Tapas', 0.0012827377568416279),\n",
       " ('Egyptian', 0.0011916742266560873),\n",
       " ('Creole', 0.0011814385617533133),\n",
       " ('Chinese/Cuban', 0.0011800439070224055),\n",
       " ('Steak', 0.001142878386340669),\n",
       " ('Filipino', 0.0010994097432059184),\n",
       " ('Ethiopian', 0.00099450353755625048),\n",
       " ('Polish', 0.00091831966771913922),\n",
       " ('Barbecue', 0.00087552389532482568),\n",
       " ('Brazilian', 0.00084797026485565095),\n",
       " ('English', 0.00081409119511262806),\n",
       " ('Hotdogs', 0.00080337507913730863),\n",
       " ('Salads', 0.00074256331123698867),\n",
       " ('Pancakes/Waffles', 0.00066144970769399308),\n",
       " ('German', 0.00065741605210270959),\n",
       " ('Moroccan', 0.00060481244243792412),\n",
       " ('Indonesian', 0.00051845065070571885),\n",
       " ('Hotdogs/Pretzels', 0.00049387452946184724),\n",
       " ('Chilean', 0.00048389810062055493),\n",
       " ('Creole/Cajun', 0.00047368701450494903),\n",
       " ('Afghan', 0.00037024348997891505),\n",
       " ('Portuguese', 0.00028993111163300438),\n",
       " ('Hawaiian', 0.00017739715856216379),\n",
       " ('Southwestern', 0.00015992372072094098),\n",
       " ('Armenian', 0.00015538212898014842),\n",
       " ('Cajun', 0.00014570460431476286),\n",
       " ('Australian', 8.1516018646669668e-05),\n",
       " ('Fruits/Vegetables', 6.1016875294773436e-05),\n",
       " ('Scandinavian', 2.6673740897456664e-05),\n",
       " ('Not Listed/Not Applicable', 1.7177659976814862e-05),\n",
       " ('Iranian', 1.4401792045482179e-05),\n",
       " ('Czech', 1.1863685779185575e-05),\n",
       " ('Nuts/Confectionary', 3.9575400865293428e-06),\n",
       " ('Californian', 4.623268116599984e-07),\n",
       " ('Polynesian', 4.3206381979535049e-07),\n",
       " ('Soups', 4.1825356191722702e-07)]"
      ]
     },
     "execution_count": 36,
     "metadata": {},
     "output_type": "execute_result"
    }
   ],
   "source": [
    "important_features(rf,X)"
   ]
  },
  {
   "cell_type": "markdown",
   "metadata": {},
   "source": [
    "## Upsample Inspection Data"
   ]
  },
  {
   "cell_type": "code",
   "execution_count": 96,
   "metadata": {
    "ExecuteTime": {
     "end_time": "2017-10-20T20:55:54.446234Z",
     "start_time": "2017-10-20T20:55:54.432307Z"
    },
    "collapsed": true
   },
   "outputs": [],
   "source": [
    "train_set = pd.concat((X_train,y_train),axis=1)"
   ]
  },
  {
   "cell_type": "code",
   "execution_count": 97,
   "metadata": {
    "ExecuteTime": {
     "end_time": "2017-10-20T20:55:55.144399Z",
     "start_time": "2017-10-20T20:55:55.136712Z"
    }
   },
   "outputs": [
    {
     "data": {
      "text/plain": [
       "A    13573\n",
       "B     1710\n",
       "C      338\n",
       "Name: grade, dtype: int64"
      ]
     },
     "execution_count": 97,
     "metadata": {},
     "output_type": "execute_result"
    }
   ],
   "source": [
    "train_set.grade.value_counts()"
   ]
  },
  {
   "cell_type": "code",
   "execution_count": 98,
   "metadata": {
    "ExecuteTime": {
     "end_time": "2017-10-20T20:57:45.055407Z",
     "start_time": "2017-10-20T20:57:44.996032Z"
    },
    "collapsed": true
   },
   "outputs": [],
   "source": [
    "df_A = train_set[train_set.grade=='A']\n",
    "df_B = train_set[train_set.grade=='B']\n",
    "df_C = train_set[train_set.grade=='C']\n",
    "upsample_B = resample(df_B,replace=True,n_samples=13573,random_state=123)\n",
    "upsample_C = resample(df_C,replace=True,n_samples=13573,random_state=123)\n",
    "upsampleDF = df_A.append(upsample_B)\n",
    "upsampleDF = upsampleDF.append(upsample_C)"
   ]
  },
  {
   "cell_type": "code",
   "execution_count": 99,
   "metadata": {
    "ExecuteTime": {
     "end_time": "2017-10-20T20:57:54.721695Z",
     "start_time": "2017-10-20T20:57:54.707742Z"
    }
   },
   "outputs": [
    {
     "data": {
      "text/plain": [
       "B    13573\n",
       "C    13573\n",
       "A    13573\n",
       "Name: grade, dtype: int64"
      ]
     },
     "execution_count": 99,
     "metadata": {},
     "output_type": "execute_result"
    }
   ],
   "source": [
    "upsampleDF.grade.value_counts()"
   ]
  },
  {
   "cell_type": "code",
   "execution_count": 100,
   "metadata": {
    "ExecuteTime": {
     "end_time": "2017-10-20T20:58:03.384683Z",
     "start_time": "2017-10-20T20:58:03.359471Z"
    },
    "collapsed": true
   },
   "outputs": [],
   "source": [
    "upX = upsampleDF.drop('grade',axis=1)\n",
    "upY = upsampleDF.grade"
   ]
  },
  {
   "cell_type": "code",
   "execution_count": 102,
   "metadata": {
    "ExecuteTime": {
     "end_time": "2017-10-20T20:58:44.010073Z",
     "start_time": "2017-10-20T20:58:43.348464Z"
    }
   },
   "outputs": [
    {
     "name": "stdout",
     "output_type": "stream",
     "text": [
      "0.749663928305\n",
      "             precision    recall  f1-score   support\n",
      "\n",
      "          A       0.88      0.83      0.86      5819\n",
      "          B       0.17      0.23      0.19       727\n",
      "          C       0.03      0.05      0.04       149\n",
      "\n",
      "avg / total       0.79      0.75      0.77      6695\n",
      "\n"
     ]
    }
   ],
   "source": [
    "rfUP2 = RandomForestClassifier()\n",
    "rfUP2.fit(upX,upY)\n",
    "pred4 = rfUP2.predict(X_test)\n",
    "print(accuracy_score(y_test,pred4))\n",
    "print(classification_report(y_test,pred4))"
   ]
  },
  {
   "cell_type": "markdown",
   "metadata": {},
   "source": [
    "## Predict Health Grade with Yelp Data"
   ]
  },
  {
   "cell_type": "code",
   "execution_count": 43,
   "metadata": {
    "ExecuteTime": {
     "end_time": "2017-10-20T19:38:34.170092Z",
     "start_time": "2017-10-20T19:38:34.162595Z"
    }
   },
   "outputs": [],
   "source": [
    "yelpX = mergeDF.drop(['grade','score'],axis=1)\n",
    "yelpY = mergeDF.grade"
   ]
  },
  {
   "cell_type": "code",
   "execution_count": 47,
   "metadata": {
    "ExecuteTime": {
     "end_time": "2017-10-20T19:39:49.442446Z",
     "start_time": "2017-10-20T19:39:49.240513Z"
    }
   },
   "outputs": [
    {
     "name": "stdout",
     "output_type": "stream",
     "text": [
      "0.899862825789\n",
      "             precision    recall  f1-score   support\n",
      "\n",
      "          A       0.91      0.99      0.95      3187\n",
      "          B       0.77      0.30      0.43       380\n",
      "          C       0.78      0.23      0.36        78\n",
      "\n",
      "avg / total       0.89      0.90      0.88      3645\n",
      "\n"
     ]
    }
   ],
   "source": [
    "rf2 = RandomForestClassifier()\n",
    "X2_train,X2_test,y2_train,y2_test = train_test_split(yelpX,yelpY,test_size=.3,random_state=1234)\n",
    "rf2.fit(X2_train,y2_train)\n",
    "pred2 = rf2.predict(X2_test)\n",
    "print(accuracy_score(y2_test,pred2))\n",
    "print(classification_report(y2_test,pred2))"
   ]
  },
  {
   "cell_type": "code",
   "execution_count": 60,
   "metadata": {
    "ExecuteTime": {
     "end_time": "2017-10-20T19:56:52.338640Z",
     "start_time": "2017-10-20T19:56:52.328361Z"
    }
   },
   "outputs": [
    {
     "name": "stdout",
     "output_type": "stream",
     "text": [
      "[('A', 6182), ('B', 450), ('C', 63)]\n"
     ]
    }
   ],
   "source": [
    "unique_items, counts = np.unique(pred,return_counts=True)\n",
    "zipped = zip(unique_items,counts)\n",
    "print(list(zipped))"
   ]
  },
  {
   "cell_type": "code",
   "execution_count": 61,
   "metadata": {
    "ExecuteTime": {
     "end_time": "2017-10-20T20:06:01.375795Z",
     "start_time": "2017-10-20T20:06:01.369823Z"
    }
   },
   "outputs": [
    {
     "data": {
      "text/plain": [
       "0.021069958847736627"
      ]
     },
     "execution_count": 61,
     "metadata": {},
     "output_type": "execute_result"
    }
   ],
   "source": [
    "mergeDF.grade.value_counts().C/len(mergeDF)"
   ]
  },
  {
   "cell_type": "code",
   "execution_count": 62,
   "metadata": {
    "ExecuteTime": {
     "end_time": "2017-10-20T20:06:35.866312Z",
     "start_time": "2017-10-20T20:06:35.858902Z"
    }
   },
   "outputs": [
    {
     "data": {
      "text/plain": [
       "0.10880658436213991"
      ]
     },
     "execution_count": 62,
     "metadata": {},
     "output_type": "execute_result"
    }
   ],
   "source": [
    "mergeDF.grade.value_counts().B/len(mergeDF)"
   ]
  },
  {
   "cell_type": "code",
   "execution_count": 63,
   "metadata": {
    "ExecuteTime": {
     "end_time": "2017-10-20T20:06:43.946189Z",
     "start_time": "2017-10-20T20:06:43.936151Z"
    }
   },
   "outputs": [
    {
     "data": {
      "text/plain": [
       "0.87012345679012348"
      ]
     },
     "execution_count": 63,
     "metadata": {},
     "output_type": "execute_result"
    }
   ],
   "source": [
    "mergeDF.grade.value_counts().A/len(mergeDF)"
   ]
  },
  {
   "cell_type": "code",
   "execution_count": 48,
   "metadata": {
    "ExecuteTime": {
     "end_time": "2017-10-20T19:40:48.514155Z",
     "start_time": "2017-10-20T19:40:48.503114Z"
    }
   },
   "outputs": [
    {
     "data": {
      "text/plain": [
       "[('review_count', 0.23197454515558932),\n",
       " ('zipcode', 0.20260654215050772),\n",
       " ('rating', 0.097569923602276745),\n",
       " ('inspection_year', 0.059895435004619003),\n",
       " ('vermin', 0.025940614623702118),\n",
       " ('facility', 0.019688816785327412),\n",
       " ('brooklyn', 0.019138216783309993),\n",
       " ('American', 0.018174740332887917),\n",
       " ('queens', 0.018085624388118456),\n",
       " ('Chinese', 0.015627562239785821),\n",
       " ('$$', 0.014343056240216617),\n",
       " ('contamination', 0.014097279442702521),\n",
       " ('Mexican', 0.013848587869768161),\n",
       " ('Pizza', 0.013508617313725024),\n",
       " ('$', 0.012260523166750779),\n",
       " ('bronx', 0.01181722391996764),\n",
       " ('temperature', 0.01176563607936645),\n",
       " ('Latin', 0.0096391382951042052),\n",
       " ('Spanish', 0.0094725600610040556),\n",
       " ('hygiene', 0.0093165876755770937),\n",
       " ('Japanese', 0.0079015335381926524),\n",
       " ('Bakery', 0.0078118952468897692),\n",
       " ('Caribbean', 0.0072507254648407184),\n",
       " ('is_closed', 0.0071393140044337128),\n",
       " ('Asian', 0.0071005655634129696),\n",
       " ('Indian', 0.0062386816820634832),\n",
       " ('Seafood', 0.0062163372082347937),\n",
       " ('Italian', 0.0060043997949571996),\n",
       " ('Chicken', 0.00564864690152989),\n",
       " ('Coffee', 0.0055370594267203132),\n",
       " ('Pizza/Italian', 0.0051949930643611919),\n",
       " ('food_handling', 0.0050394465104096915),\n",
       " ('Vegetarian', 0.0045724901843897294),\n",
       " ('$$$', 0.0045071857052214961),\n",
       " ('Jewish/Kosher', 0.0041172149934440554),\n",
       " ('Thai', 0.0039894632854959398),\n",
       " ('Delicatessen', 0.0039854781694128923),\n",
       " ('Vietnamese/Cambodian/Malaysia', 0.0038830901517950232),\n",
       " ('Bagels/Pretzels', 0.0038590067052273391),\n",
       " ('Korean', 0.0037853243685268684),\n",
       " ('Greek', 0.0036298540603333291),\n",
       " ('Donuts', 0.0035118647716004558),\n",
       " ('Sandwiches', 0.0032525692982869358),\n",
       " ('Hamburgers', 0.0030049041110666716),\n",
       " ('French', 0.002801894864922203),\n",
       " ('Creole', 0.0025203351505625358),\n",
       " ('Tex-Mex', 0.0024413839921738453),\n",
       " ('Mediterranean', 0.0021263312859009622),\n",
       " ('Middle Eastern', 0.0020875168860077014),\n",
       " ('Peruvian', 0.0019618502868518012),\n",
       " ('Hotdogs/Pretzels', 0.0017574288372822794),\n",
       " ('Mixed Buffet', 0.0016912354450263633),\n",
       " ('Portuguese', 0.0016661657281108147),\n",
       " ('Turkish', 0.0016560248385999205),\n",
       " ('Eastern European', 0.0016550959053896774),\n",
       " ('Ice Cream', 0.0015970954711654879),\n",
       " ('Indonesian', 0.0015605202789366964),\n",
       " ('Irish', 0.0015303331920435801),\n",
       " ('African', 0.0014533465675860171),\n",
       " ('Russian', 0.0014357939440695685),\n",
       " ('Soul Food', 0.0014081585039343795),\n",
       " ('Bangladeshi', 0.0013879976729156117),\n",
       " ('Brazilian', 0.0013292203962801646),\n",
       " ('Chinese/Cuban', 0.0012695900123975133),\n",
       " ('Egyptian', 0.0011360897820304416),\n",
       " ('Continental', 0.0011107863724818038),\n",
       " ('Salads', 0.0010801695716060335),\n",
       " ('Tapas', 0.00099671419374776078),\n",
       " ('Juice, Smoothies, Fruit Salads', 0.00093072020324541768),\n",
       " ('Chinese/Japanese', 0.00086955403018384449),\n",
       " ('Pakistani', 0.0007195356940895367),\n",
       " ('Polish', 0.00061403938836188999),\n",
       " ('German', 0.00060897605207989682),\n",
       " ('Chilean', 0.00058979531576439591),\n",
       " ('Hotdogs', 0.00057882647299366491),\n",
       " ('Afghan', 0.00057102577068628125),\n",
       " ('Barbecue', 0.00051939901142381982),\n",
       " ('English', 0.00051586047478565137),\n",
       " ('Pancakes/Waffles', 0.00042464804918996115),\n",
       " ('Ethiopian', 0.00040860661635826916),\n",
       " ('Filipino', 0.00035806869007668889),\n",
       " ('Steak', 0.00033089952509213406),\n",
       " ('Cajun', 8.9154584875894793e-05),\n",
       " ('Bottle Beverages', 6.3028445067566671e-05),\n",
       " ('Australian', 5.5506104889037756e-05),\n",
       " ('Armenian', 4.3961972863520132e-05),\n",
       " ('Hawaiian', 4.1634749587683626e-05),\n",
       " ('Soups', 2.0715982797830874e-05),\n",
       " ('Nuts/Confectionary', 1.6695120838912676e-05),\n",
       " ('Creole/Cajun', 7.018558997698085e-06),\n",
       " ('Fruits/Vegetables', 5.8803411460241e-06),\n",
       " ('Not Listed/Not Applicable', 1.367401764853358e-06),\n",
       " ('Southwestern', 7.2692166218898797e-07),\n",
       " ('Californian', 0.0),\n",
       " ('Czech', 0.0),\n",
       " ('Iranian', 0.0),\n",
       " ('Moroccan', 0.0),\n",
       " ('Polynesian', 0.0),\n",
       " ('Scandinavian', 0.0),\n",
       " ('manhattan', 0.0)]"
      ]
     },
     "execution_count": 48,
     "metadata": {},
     "output_type": "execute_result"
    }
   ],
   "source": [
    "important_features(rf2,yelpX)"
   ]
  },
  {
   "cell_type": "code",
   "execution_count": 54,
   "metadata": {
    "ExecuteTime": {
     "end_time": "2017-10-20T19:47:14.611614Z",
     "start_time": "2017-10-20T19:47:14.601238Z"
    }
   },
   "outputs": [],
   "source": [
    "unique_items, counts = np.unique(pred2,return_counts=True)"
   ]
  },
  {
   "cell_type": "code",
   "execution_count": 55,
   "metadata": {
    "ExecuteTime": {
     "end_time": "2017-10-20T19:47:53.623920Z",
     "start_time": "2017-10-20T19:47:53.621241Z"
    },
    "collapsed": true
   },
   "outputs": [],
   "source": [
    "zipped = zip(unique_items,counts)"
   ]
  },
  {
   "cell_type": "code",
   "execution_count": 58,
   "metadata": {
    "ExecuteTime": {
     "end_time": "2017-10-20T19:49:48.331518Z",
     "start_time": "2017-10-20T19:49:48.326200Z"
    }
   },
   "outputs": [
    {
     "name": "stdout",
     "output_type": "stream",
     "text": [
      "[('A', 3473), ('B', 149), ('C', 23)]\n"
     ]
    }
   ],
   "source": [
    "print(list(zipped))"
   ]
  },
  {
   "cell_type": "code",
   "execution_count": 59,
   "metadata": {
    "ExecuteTime": {
     "end_time": "2017-10-20T19:50:24.315574Z",
     "start_time": "2017-10-20T19:50:24.305254Z"
    }
   },
   "outputs": [
    {
     "data": {
      "text/plain": [
       "A    10572\n",
       "B     1322\n",
       "C      256\n",
       "Name: grade, dtype: int64"
      ]
     },
     "execution_count": 59,
     "metadata": {},
     "output_type": "execute_result"
    }
   ],
   "source": [
    "mergeDF.grade.value_counts()"
   ]
  },
  {
   "cell_type": "markdown",
   "metadata": {},
   "source": [
    "## Upsampling Yelp"
   ]
  },
  {
   "cell_type": "code",
   "execution_count": 105,
   "metadata": {
    "ExecuteTime": {
     "end_time": "2017-10-20T21:35:15.153070Z",
     "start_time": "2017-10-20T21:35:15.138140Z"
    }
   },
   "outputs": [],
   "source": [
    "train_set = pd.concat((X2_train,y2_train),axis=1)"
   ]
  },
  {
   "cell_type": "code",
   "execution_count": 106,
   "metadata": {
    "ExecuteTime": {
     "end_time": "2017-10-20T21:35:15.387141Z",
     "start_time": "2017-10-20T21:35:15.379646Z"
    }
   },
   "outputs": [
    {
     "data": {
      "text/plain": [
       "A    7385\n",
       "B     942\n",
       "C     178\n",
       "Name: grade, dtype: int64"
      ]
     },
     "execution_count": 106,
     "metadata": {},
     "output_type": "execute_result"
    }
   ],
   "source": [
    "train_set.grade.value_counts()"
   ]
  },
  {
   "cell_type": "code",
   "execution_count": 107,
   "metadata": {
    "ExecuteTime": {
     "end_time": "2017-10-20T21:35:15.640092Z",
     "start_time": "2017-10-20T21:35:15.617745Z"
    },
    "collapsed": true
   },
   "outputs": [],
   "source": [
    "df_A = train_set[train_set.grade=='A']\n",
    "df_B = train_set[train_set.grade=='B']\n",
    "df_C = train_set[train_set.grade=='C']"
   ]
  },
  {
   "cell_type": "code",
   "execution_count": 108,
   "metadata": {
    "ExecuteTime": {
     "end_time": "2017-10-20T21:35:16.086106Z",
     "start_time": "2017-10-20T21:35:16.074469Z"
    }
   },
   "outputs": [],
   "source": [
    "upsample_B = resample(df_B,replace=True,n_samples=7385,random_state=123)\n",
    "upsample_C = resample(df_C,replace=True,n_samples=7385,random_state=123)"
   ]
  },
  {
   "cell_type": "code",
   "execution_count": 109,
   "metadata": {
    "ExecuteTime": {
     "end_time": "2017-10-20T21:35:16.421926Z",
     "start_time": "2017-10-20T21:35:16.405155Z"
    },
    "collapsed": true
   },
   "outputs": [],
   "source": [
    "upsampleDF = df_A.append(upsample_B)"
   ]
  },
  {
   "cell_type": "code",
   "execution_count": 110,
   "metadata": {
    "ExecuteTime": {
     "end_time": "2017-10-20T21:35:16.787651Z",
     "start_time": "2017-10-20T21:35:16.760604Z"
    },
    "collapsed": true
   },
   "outputs": [],
   "source": [
    "upsampleDF = upsampleDF.append(upsample_C)"
   ]
  },
  {
   "cell_type": "code",
   "execution_count": 111,
   "metadata": {
    "ExecuteTime": {
     "end_time": "2017-10-20T21:35:17.081494Z",
     "start_time": "2017-10-20T21:35:17.073082Z"
    }
   },
   "outputs": [
    {
     "data": {
      "text/plain": [
       "B    7385\n",
       "C    7385\n",
       "A    7385\n",
       "Name: grade, dtype: int64"
      ]
     },
     "execution_count": 111,
     "metadata": {},
     "output_type": "execute_result"
    }
   ],
   "source": [
    "upsampleDF.grade.value_counts()"
   ]
  },
  {
   "cell_type": "code",
   "execution_count": 112,
   "metadata": {
    "ExecuteTime": {
     "end_time": "2017-10-20T21:35:17.641805Z",
     "start_time": "2017-10-20T21:35:17.616151Z"
    }
   },
   "outputs": [],
   "source": [
    "upX = upsampleDF.drop('grade',axis=1)\n",
    "upY = upsampleDF.grade"
   ]
  },
  {
   "cell_type": "code",
   "execution_count": 113,
   "metadata": {
    "ExecuteTime": {
     "end_time": "2017-10-20T21:35:18.985734Z",
     "start_time": "2017-10-20T21:35:18.657060Z"
    }
   },
   "outputs": [
    {
     "name": "stdout",
     "output_type": "stream",
     "text": [
      "0.891632373114\n",
      "             precision    recall  f1-score   support\n",
      "\n",
      "          A       0.92      0.97      0.94      3187\n",
      "          B       0.59      0.38      0.46       380\n",
      "          C       0.67      0.31      0.42        78\n",
      "\n",
      "avg / total       0.88      0.89      0.88      3645\n",
      "\n"
     ]
    }
   ],
   "source": [
    "rfUP = RandomForestClassifier()\n",
    "rfUP.fit(upX,upY)\n",
    "pred3 = rfUP.predict(X2_test)\n",
    "print(accuracy_score(y2_test,pred3))\n",
    "print(classification_report(y2_test,pred3))"
   ]
  },
  {
   "cell_type": "markdown",
   "metadata": {},
   "source": [
    "run the model on the test set and the train set"
   ]
  },
  {
   "cell_type": "markdown",
   "metadata": {},
   "source": [
    "## SVM Test"
   ]
  },
  {
   "cell_type": "code",
   "execution_count": 115,
   "metadata": {
    "ExecuteTime": {
     "end_time": "2017-10-20T21:42:05.730238Z",
     "start_time": "2017-10-20T21:40:52.552806Z"
    }
   },
   "outputs": [
    {
     "name": "stdout",
     "output_type": "stream",
     "text": [
      "0.430452674897\n",
      "             precision    recall  f1-score   support\n",
      "\n",
      "          A       0.91      0.43      0.59      3187\n",
      "          B       0.13      0.41      0.20       380\n",
      "          C       0.03      0.40      0.06        78\n",
      "\n",
      "avg / total       0.81      0.43      0.53      3645\n",
      "\n"
     ]
    }
   ],
   "source": [
    "model_svm = svm.SVC(kernel='rbf', gamma = 0.001)\n",
    "model_svm.fit(upX, upY);\n",
    "y_pred = model_svm.predict(X2_test)\n",
    "print(accuracy_score(y2_test,y_pred))\n",
    "print(classification_report(y2_test,y_pred))"
   ]
  },
  {
   "cell_type": "code",
   "execution_count": null,
   "metadata": {
    "collapsed": true
   },
   "outputs": [],
   "source": []
  }
 ],
 "metadata": {
  "kernelspec": {
   "display_name": "Python 3",
   "language": "python",
   "name": "python3"
  },
  "language_info": {
   "codemirror_mode": {
    "name": "ipython",
    "version": 3
   },
   "file_extension": ".py",
   "mimetype": "text/x-python",
   "name": "python",
   "nbconvert_exporter": "python",
   "pygments_lexer": "ipython3",
   "version": "3.6.2"
  }
 },
 "nbformat": 4,
 "nbformat_minor": 2
}
