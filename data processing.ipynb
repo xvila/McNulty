{
 "cells": [
  {
   "cell_type": "code",
   "execution_count": 108,
   "metadata": {
    "collapsed": true
   },
   "outputs": [],
   "source": [
    "from sqlalchemy import create_engine\n",
    "import pandas as pd\n",
    "from sqlkey import keystring\n",
    "db_conn = create_engine(keystring)"
   ]
  },
  {
   "cell_type": "code",
   "execution_count": 2,
   "metadata": {
    "collapsed": true
   },
   "outputs": [],
   "source": [
    "#pd.read_sql_query('''SELECT * FROM allstarfull LIMIT 5''',cnx)"
   ]
  },
  {
   "cell_type": "markdown",
   "metadata": {},
   "source": [
    "Cleanup the business csv file to get it ready to import into postgres"
   ]
  },
  {
   "cell_type": "code",
   "execution_count": 69,
   "metadata": {
    "collapsed": true
   },
   "outputs": [],
   "source": [
    "#nyDF = pd.read_csv('data/nyc/nyc_inspection_results.csv')\n",
    "businessDF = pd.read_csv('data/yelp/business.csv')"
   ]
  },
  {
   "cell_type": "code",
   "execution_count": 70,
   "metadata": {},
   "outputs": [
    {
     "data": {
      "text/plain": [
       "(156639, 101)"
      ]
     },
     "execution_count": 70,
     "metadata": {},
     "output_type": "execute_result"
    }
   ],
   "source": [
    "businessDF.shape"
   ]
  },
  {
   "cell_type": "code",
   "execution_count": 71,
   "metadata": {
    "collapsed": true
   },
   "outputs": [],
   "source": [
    "attributecols = [col for col in businessDF.columns if 'attributes' in col]"
   ]
  },
  {
   "cell_type": "code",
   "execution_count": 72,
   "metadata": {},
   "outputs": [
    {
     "data": {
      "text/plain": [
       "81"
      ]
     },
     "execution_count": 72,
     "metadata": {},
     "output_type": "execute_result"
    }
   ],
   "source": [
    "len(attributecols)"
   ]
  },
  {
   "cell_type": "code",
   "execution_count": 73,
   "metadata": {
    "collapsed": true
   },
   "outputs": [],
   "source": [
    "allAttributeCols = attributecols.copy()\n",
    "allAttributeCols.append('business_id')\n",
    "attributeDF = businessDF[allAttributeCols]"
   ]
  },
  {
   "cell_type": "code",
   "execution_count": 74,
   "metadata": {
    "collapsed": true
   },
   "outputs": [],
   "source": [
    "hourcols = [hour for hour in businessDF.columns if 'hours' in hour]"
   ]
  },
  {
   "cell_type": "code",
   "execution_count": 75,
   "metadata": {
    "collapsed": true
   },
   "outputs": [],
   "source": [
    "allHourCols = hourcols.copy()\n",
    "allHourCols.append('business_id')\n",
    "hourDF = businessDF[allHourCols]"
   ]
  },
  {
   "cell_type": "code",
   "execution_count": 76,
   "metadata": {},
   "outputs": [
    {
     "data": {
      "text/plain": [
       "(156639, 8)"
      ]
     },
     "execution_count": 76,
     "metadata": {},
     "output_type": "execute_result"
    }
   ],
   "source": [
    "hourDF.shape"
   ]
  },
  {
   "cell_type": "code",
   "execution_count": 77,
   "metadata": {
    "collapsed": true
   },
   "outputs": [],
   "source": [
    "businessDropCols = attributecols + hourcols"
   ]
  },
  {
   "cell_type": "code",
   "execution_count": 78,
   "metadata": {
    "collapsed": true
   },
   "outputs": [],
   "source": [
    "businessDF.drop(businessDropCols,axis=1,inplace=True)"
   ]
  },
  {
   "cell_type": "code",
   "execution_count": 79,
   "metadata": {
    "collapsed": true
   },
   "outputs": [],
   "source": [
    "#businessDF.drop(hourcols,axis=1, inplace=True)"
   ]
  },
  {
   "cell_type": "code",
   "execution_count": 80,
   "metadata": {},
   "outputs": [
    {
     "data": {
      "text/plain": [
       "Index(['postal_code', 'latitude', 'business_id', 'categories', 'name',\n",
       "       'is_open', 'neighborhood', 'review_count', 'state', 'address', 'city',\n",
       "       'stars', 'longitude'],\n",
       "      dtype='object')"
      ]
     },
     "execution_count": 80,
     "metadata": {},
     "output_type": "execute_result"
    }
   ],
   "source": [
    "businessDF.columns"
   ]
  },
  {
   "cell_type": "code",
   "execution_count": 63,
   "metadata": {},
   "outputs": [
    {
     "data": {
      "text/plain": [
       "['hours.Thursday',\n",
       " 'hours.Friday',\n",
       " 'hours.Sunday',\n",
       " 'hours.Wednesday',\n",
       " 'hours.Monday',\n",
       " 'hours.Tuesday',\n",
       " 'hours.Saturday']"
      ]
     },
     "execution_count": 63,
     "metadata": {},
     "output_type": "execute_result"
    }
   ],
   "source": [
    "hourcols"
   ]
  },
  {
   "cell_type": "code",
   "execution_count": 65,
   "metadata": {},
   "outputs": [
    {
     "data": {
      "text/plain": [
       "Index(['hours.Thursday', 'hours.Friday', 'hours.Sunday', 'hours.Wednesday',\n",
       "       'hours.Monday', 'hours.Tuesday', 'hours.Saturday', 'business_id'],\n",
       "      dtype='object')"
      ]
     },
     "execution_count": 65,
     "metadata": {},
     "output_type": "execute_result"
    }
   ],
   "source": [
    "hourDF.columns"
   ]
  },
  {
   "cell_type": "code",
   "execution_count": 81,
   "metadata": {},
   "outputs": [
    {
     "data": {
      "text/plain": [
       "Index(['attributes.Ambience.divey', 'attributes.RestaurantsDelivery',\n",
       "       'attributes.DogsAllowed', 'attributes.HairSpecializesIn.coloring',\n",
       "       'attributes.BestNights.sunday', 'attributes.BYOB',\n",
       "       'attributes.AgesAllowed', 'attributes.Music.video',\n",
       "       'attributes.Alcohol', 'attributes.Ambience.classy',\n",
       "       'attributes.RestaurantsTableService', 'attributes.Ambience.touristy',\n",
       "       'attributes.RestaurantsCounterService', 'attributes.Corkage',\n",
       "       'attributes.RestaurantsGoodForGroups',\n",
       "       'attributes.BusinessAcceptsBitcoin', 'attributes.HappyHour',\n",
       "       'attributes.WheelchairAccessible', 'attributes.Ambience.hipster',\n",
       "       'attributes.BusinessAcceptsCreditCards',\n",
       "       'attributes.DietaryRestrictions.vegetarian', 'attributes.Music.live',\n",
       "       'attributes.Music.background_music', 'attributes.BusinessParking.lot',\n",
       "       'attributes.Music.karaoke', 'attributes.GoodForMeal.breakfast',\n",
       "       'attributes.NoiseLevel', 'attributes.HairSpecializesIn.perms',\n",
       "       'attributes.DriveThru', 'attributes.HasTV',\n",
       "       'attributes.GoodForMeal.dinner', 'attributes.BusinessParking.street',\n",
       "       'attributes.RestaurantsAttire', 'attributes.BestNights.tuesday',\n",
       "       'attributes.AcceptsInsurance', 'attributes.BestNights.wednesday',\n",
       "       'attributes.HairSpecializesIn.kids', 'attributes.Open24Hours',\n",
       "       'attributes.Ambience.trendy', 'attributes.CoatCheck',\n",
       "       'attributes.HairSpecializesIn.straightperms',\n",
       "       'attributes.HairSpecializesIn.curly', 'attributes.Music.no_music',\n",
       "       'attributes.HairSpecializesIn.africanamerican',\n",
       "       'attributes.RestaurantsPriceRange2', 'attributes.Ambience.intimate',\n",
       "       'attributes.GoodForMeal.latenight', 'attributes.GoodForMeal.dessert',\n",
       "       'attributes.BusinessParking.validated', 'attributes.GoodForMeal.lunch',\n",
       "       'attributes.GoodForKids', 'attributes.DietaryRestrictions.soy-free',\n",
       "       'attributes.GoodForMeal.brunch', 'attributes.BusinessParking.valet',\n",
       "       'attributes.DietaryRestrictions.gluten-free', 'attributes.BYOBCorkage',\n",
       "       'attributes.BusinessParking.garage', 'attributes.BestNights.friday',\n",
       "       'attributes.Music.dj', 'attributes.HairSpecializesIn.extensions',\n",
       "       'attributes.BestNights.saturday', 'attributes.Ambience.casual',\n",
       "       'attributes.BestNights.thursday', 'attributes.BestNights.monday',\n",
       "       'attributes.HairSpecializesIn.asian',\n",
       "       'attributes.DietaryRestrictions.kosher', 'attributes.WiFi',\n",
       "       'attributes.Smoking', 'attributes.DietaryRestrictions.halal',\n",
       "       'attributes.GoodForDancing', 'attributes.ByAppointmentOnly',\n",
       "       'attributes.Caters', 'attributes.RestaurantsReservations',\n",
       "       'attributes.DietaryRestrictions.dairy-free',\n",
       "       'attributes.DietaryRestrictions.vegan', 'attributes.Ambience.romantic',\n",
       "       'attributes.Music.jukebox', 'attributes.Ambience.upscale',\n",
       "       'attributes.RestaurantsTakeOut', 'attributes.BikeParking',\n",
       "       'attributes.OutdoorSeating', 'business_id'],\n",
       "      dtype='object')"
      ]
     },
     "execution_count": 81,
     "metadata": {},
     "output_type": "execute_result"
    }
   ],
   "source": [
    "attributeDF.columns"
   ]
  },
  {
   "cell_type": "code",
   "execution_count": 82,
   "metadata": {},
   "outputs": [
    {
     "data": {
      "text/html": [
       "<div>\n",
       "<style>\n",
       "    .dataframe thead tr:only-child th {\n",
       "        text-align: right;\n",
       "    }\n",
       "\n",
       "    .dataframe thead th {\n",
       "        text-align: left;\n",
       "    }\n",
       "\n",
       "    .dataframe tbody tr th {\n",
       "        vertical-align: top;\n",
       "    }\n",
       "</style>\n",
       "<table border=\"1\" class=\"dataframe\">\n",
       "  <thead>\n",
       "    <tr style=\"text-align: right;\">\n",
       "      <th></th>\n",
       "      <th>postal_code</th>\n",
       "      <th>latitude</th>\n",
       "      <th>business_id</th>\n",
       "      <th>categories</th>\n",
       "      <th>name</th>\n",
       "      <th>is_open</th>\n",
       "      <th>neighborhood</th>\n",
       "      <th>review_count</th>\n",
       "      <th>state</th>\n",
       "      <th>address</th>\n",
       "      <th>city</th>\n",
       "      <th>stars</th>\n",
       "      <th>longitude</th>\n",
       "    </tr>\n",
       "  </thead>\n",
       "  <tbody>\n",
       "    <tr>\n",
       "      <th>0</th>\n",
       "      <td>44143</td>\n",
       "      <td>41.541716</td>\n",
       "      <td>YDf95gJZaq05wvo7hTQbbQ</td>\n",
       "      <td>[u'Shopping', u'Shopping Centers']</td>\n",
       "      <td>Richmond Town Square</td>\n",
       "      <td>1</td>\n",
       "      <td>NaN</td>\n",
       "      <td>17</td>\n",
       "      <td>OH</td>\n",
       "      <td>691 Richmond Rd</td>\n",
       "      <td>Richmond Heights</td>\n",
       "      <td>2.0</td>\n",
       "      <td>-81.493116</td>\n",
       "    </tr>\n",
       "    <tr>\n",
       "      <th>1</th>\n",
       "      <td>28215</td>\n",
       "      <td>35.236870</td>\n",
       "      <td>mLwM-h2YhXl2NCgdS84_Bw</td>\n",
       "      <td>[u'Food', u'Soul Food', u'Convenience Stores',...</td>\n",
       "      <td>South Florida Style Chicken &amp; Ribs</td>\n",
       "      <td>0</td>\n",
       "      <td>Eastland</td>\n",
       "      <td>4</td>\n",
       "      <td>NC</td>\n",
       "      <td>2824 Milton Rd</td>\n",
       "      <td>Charlotte</td>\n",
       "      <td>4.5</td>\n",
       "      <td>-80.741976</td>\n",
       "    </tr>\n",
       "    <tr>\n",
       "      <th>2</th>\n",
       "      <td>M4K 1N7</td>\n",
       "      <td>43.677126</td>\n",
       "      <td>v2WhjAB3PIBA8J8VxG3wEg</td>\n",
       "      <td>[u'Food', u'Coffee &amp; Tea']</td>\n",
       "      <td>The Tea Emporium</td>\n",
       "      <td>0</td>\n",
       "      <td>Riverdale</td>\n",
       "      <td>7</td>\n",
       "      <td>ON</td>\n",
       "      <td>337 Danforth Avenue</td>\n",
       "      <td>Toronto</td>\n",
       "      <td>4.5</td>\n",
       "      <td>-79.353285</td>\n",
       "    </tr>\n",
       "    <tr>\n",
       "      <th>3</th>\n",
       "      <td>85258</td>\n",
       "      <td>33.565082</td>\n",
       "      <td>CVtCbSB1zUcUWg-9TNGTuQ</td>\n",
       "      <td>[u'Professional Services', u'Matchmakers']</td>\n",
       "      <td>TRUmatch</td>\n",
       "      <td>1</td>\n",
       "      <td>NaN</td>\n",
       "      <td>3</td>\n",
       "      <td>AZ</td>\n",
       "      <td>7702 E Doubletree Ranch Rd, Ste 300</td>\n",
       "      <td>Scottsdale</td>\n",
       "      <td>3.0</td>\n",
       "      <td>-111.916400</td>\n",
       "    </tr>\n",
       "    <tr>\n",
       "      <th>4</th>\n",
       "      <td>85016</td>\n",
       "      <td>33.505928</td>\n",
       "      <td>duHFBe87uNSXImQmvBh87Q</td>\n",
       "      <td>[u'Sandwiches', u'Restaurants']</td>\n",
       "      <td>Blimpie</td>\n",
       "      <td>0</td>\n",
       "      <td>NaN</td>\n",
       "      <td>10</td>\n",
       "      <td>AZ</td>\n",
       "      <td>4719 N 20Th St</td>\n",
       "      <td>Phoenix</td>\n",
       "      <td>4.5</td>\n",
       "      <td>-112.038847</td>\n",
       "    </tr>\n",
       "  </tbody>\n",
       "</table>\n",
       "</div>"
      ],
      "text/plain": [
       "  postal_code   latitude             business_id  \\\n",
       "0       44143  41.541716  YDf95gJZaq05wvo7hTQbbQ   \n",
       "1       28215  35.236870  mLwM-h2YhXl2NCgdS84_Bw   \n",
       "2     M4K 1N7  43.677126  v2WhjAB3PIBA8J8VxG3wEg   \n",
       "3       85258  33.565082  CVtCbSB1zUcUWg-9TNGTuQ   \n",
       "4       85016  33.505928  duHFBe87uNSXImQmvBh87Q   \n",
       "\n",
       "                                          categories  \\\n",
       "0                 [u'Shopping', u'Shopping Centers']   \n",
       "1  [u'Food', u'Soul Food', u'Convenience Stores',...   \n",
       "2                         [u'Food', u'Coffee & Tea']   \n",
       "3         [u'Professional Services', u'Matchmakers']   \n",
       "4                    [u'Sandwiches', u'Restaurants']   \n",
       "\n",
       "                                 name  is_open neighborhood  review_count  \\\n",
       "0                Richmond Town Square        1          NaN            17   \n",
       "1  South Florida Style Chicken & Ribs        0     Eastland             4   \n",
       "2                    The Tea Emporium        0    Riverdale             7   \n",
       "3                            TRUmatch        1          NaN             3   \n",
       "4                             Blimpie        0          NaN            10   \n",
       "\n",
       "  state                              address              city  stars  \\\n",
       "0    OH                      691 Richmond Rd  Richmond Heights    2.0   \n",
       "1    NC                       2824 Milton Rd         Charlotte    4.5   \n",
       "2    ON                  337 Danforth Avenue           Toronto    4.5   \n",
       "3    AZ  7702 E Doubletree Ranch Rd, Ste 300        Scottsdale    3.0   \n",
       "4    AZ                       4719 N 20Th St           Phoenix    4.5   \n",
       "\n",
       "    longitude  \n",
       "0  -81.493116  \n",
       "1  -80.741976  \n",
       "2  -79.353285  \n",
       "3 -111.916400  \n",
       "4 -112.038847  "
      ]
     },
     "execution_count": 82,
     "metadata": {},
     "output_type": "execute_result"
    }
   ],
   "source": [
    "businessDF.head()"
   ]
  },
  {
   "cell_type": "code",
   "execution_count": 84,
   "metadata": {
    "collapsed": true
   },
   "outputs": [],
   "source": [
    "categoryDF = businessDF[['business_id','categories']]"
   ]
  },
  {
   "cell_type": "code",
   "execution_count": 86,
   "metadata": {
    "collapsed": true
   },
   "outputs": [],
   "source": [
    "businessDF.drop('categories',axis=1, inplace=True)"
   ]
  },
  {
   "cell_type": "code",
   "execution_count": 87,
   "metadata": {
    "collapsed": true
   },
   "outputs": [],
   "source": [
    "orderedCols = ['business_id', 'name', 'neighborhood', 'address', 'city', 'state', 'postal_code', 'latitude', \n",
    "        'longitude', 'stars', 'review_count', 'is_open']"
   ]
  },
  {
   "cell_type": "code",
   "execution_count": 88,
   "metadata": {
    "collapsed": true
   },
   "outputs": [],
   "source": [
    "businessDF = businessDF[orderedCols]"
   ]
  },
  {
   "cell_type": "code",
   "execution_count": 91,
   "metadata": {
    "collapsed": true
   },
   "outputs": [],
   "source": [
    "businessDF.to_csv('data/yelp/pgBusiness.csv',index=False)"
   ]
  },
  {
   "cell_type": "code",
   "execution_count": 98,
   "metadata": {
    "collapsed": true
   },
   "outputs": [],
   "source": [
    "userDF = pd.read_csv('data/yelp/user.csv')"
   ]
  },
  {
   "cell_type": "code",
   "execution_count": 99,
   "metadata": {},
   "outputs": [
    {
     "data": {
      "text/plain": [
       "(1183362, 22)"
      ]
     },
     "execution_count": 99,
     "metadata": {},
     "output_type": "execute_result"
    }
   ],
   "source": [
    "userDF.shape"
   ]
  },
  {
   "cell_type": "code",
   "execution_count": 100,
   "metadata": {},
   "outputs": [
    {
     "data": {
      "text/plain": [
       "Index(['yelping_since', 'useful', 'compliment_photos', 'compliment_list',\n",
       "       'compliment_funny', 'compliment_plain', 'review_count', 'elite', 'fans',\n",
       "       'compliment_note', 'funny', 'compliment_writer', 'compliment_cute',\n",
       "       'average_stars', 'user_id', 'compliment_more', 'friends',\n",
       "       'compliment_hot', 'cool', 'name', 'compliment_profile',\n",
       "       'compliment_cool'],\n",
       "      dtype='object')"
      ]
     },
     "execution_count": 100,
     "metadata": {},
     "output_type": "execute_result"
    }
   ],
   "source": [
    "userDF.columns"
   ]
  },
  {
   "cell_type": "code",
   "execution_count": 101,
   "metadata": {
    "collapsed": true
   },
   "outputs": [],
   "source": [
    "userOrderedCols = ['user_id','name','review_count','yelping_since','useful','funny','cool','fans',\n",
    "                   'average_stars','compliment_hot','compliment_more','compliment_profile','compliment_cute',\n",
    "                   'compliment_list','compliment_note','compliment_plain','compliment_cool','compliment_funny',\n",
    "                   'compliment_writer','compliment_photos']"
   ]
  },
  {
   "cell_type": "code",
   "execution_count": 102,
   "metadata": {
    "collapsed": true
   },
   "outputs": [],
   "source": [
    "userDF = userDF[userOrderedCols]#"
   ]
  },
  {
   "cell_type": "code",
   "execution_count": 103,
   "metadata": {
    "collapsed": true
   },
   "outputs": [],
   "source": [
    "userDF.to_csv('data/yelp/pgUser.csv',index=False)"
   ]
  },
  {
   "cell_type": "code",
   "execution_count": 122,
   "metadata": {
    "collapsed": true
   },
   "outputs": [],
   "source": [
    "tipDF = pd.read_csv('data/yelp/tip.csv')"
   ]
  },
  {
   "cell_type": "code",
   "execution_count": 125,
   "metadata": {},
   "outputs": [
    {
     "data": {
      "text/plain": [
       "(1028802, 5)"
      ]
     },
     "execution_count": 125,
     "metadata": {},
     "output_type": "execute_result"
    }
   ],
   "source": [
    "tipDF.shape"
   ]
  },
  {
   "cell_type": "code",
   "execution_count": 126,
   "metadata": {},
   "outputs": [
    {
     "data": {
      "text/html": [
       "<div>\n",
       "<style>\n",
       "    .dataframe thead tr:only-child th {\n",
       "        text-align: right;\n",
       "    }\n",
       "\n",
       "    .dataframe thead th {\n",
       "        text-align: left;\n",
       "    }\n",
       "\n",
       "    .dataframe tbody tr th {\n",
       "        vertical-align: top;\n",
       "    }\n",
       "</style>\n",
       "<table border=\"1\" class=\"dataframe\">\n",
       "  <thead>\n",
       "    <tr style=\"text-align: right;\">\n",
       "      <th></th>\n",
       "      <th>user_id</th>\n",
       "      <th>text</th>\n",
       "      <th>business_id</th>\n",
       "      <th>likes</th>\n",
       "      <th>date</th>\n",
       "    </tr>\n",
       "  </thead>\n",
       "  <tbody>\n",
       "    <tr>\n",
       "      <th>0</th>\n",
       "      <td>zcTZk7OG8ovAmh_fenH21g</td>\n",
       "      <td>Get here early enough to have dinner.</td>\n",
       "      <td>tJRDll5yqpZwehenzE2cSg</td>\n",
       "      <td>0</td>\n",
       "      <td>2012-07-15</td>\n",
       "    </tr>\n",
       "    <tr>\n",
       "      <th>1</th>\n",
       "      <td>ZcLKXikTHYOnYt5VYRO5sg</td>\n",
       "      <td>Great breakfast large portions and friendly wa...</td>\n",
       "      <td>jH19V2I9fIslnNhDzPmdkA</td>\n",
       "      <td>0</td>\n",
       "      <td>2015-08-12</td>\n",
       "    </tr>\n",
       "    <tr>\n",
       "      <th>2</th>\n",
       "      <td>oaYhjqBbh18ZhU0bpyzSuw</td>\n",
       "      <td>Nice place. Great staff.  A fixture in the tow...</td>\n",
       "      <td>dAa0hB2yrnHzVmsCkN4YvQ</td>\n",
       "      <td>0</td>\n",
       "      <td>2014-06-20</td>\n",
       "    </tr>\n",
       "    <tr>\n",
       "      <th>3</th>\n",
       "      <td>ulQ8Nyj7jCUR8M83SUMoRQ</td>\n",
       "      <td>Happy hour 5-7 Monday - Friday</td>\n",
       "      <td>dAa0hB2yrnHzVmsCkN4YvQ</td>\n",
       "      <td>0</td>\n",
       "      <td>2016-10-12</td>\n",
       "    </tr>\n",
       "    <tr>\n",
       "      <th>4</th>\n",
       "      <td>ulQ8Nyj7jCUR8M83SUMoRQ</td>\n",
       "      <td>Parking is a premium, keep circling, you will ...</td>\n",
       "      <td>ESzO3Av0b1_TzKOiqzbQYQ</td>\n",
       "      <td>0</td>\n",
       "      <td>2017-01-28</td>\n",
       "    </tr>\n",
       "  </tbody>\n",
       "</table>\n",
       "</div>"
      ],
      "text/plain": [
       "                  user_id                                               text  \\\n",
       "0  zcTZk7OG8ovAmh_fenH21g              Get here early enough to have dinner.   \n",
       "1  ZcLKXikTHYOnYt5VYRO5sg  Great breakfast large portions and friendly wa...   \n",
       "2  oaYhjqBbh18ZhU0bpyzSuw  Nice place. Great staff.  A fixture in the tow...   \n",
       "3  ulQ8Nyj7jCUR8M83SUMoRQ                     Happy hour 5-7 Monday - Friday   \n",
       "4  ulQ8Nyj7jCUR8M83SUMoRQ  Parking is a premium, keep circling, you will ...   \n",
       "\n",
       "              business_id  likes        date  \n",
       "0  tJRDll5yqpZwehenzE2cSg      0  2012-07-15  \n",
       "1  jH19V2I9fIslnNhDzPmdkA      0  2015-08-12  \n",
       "2  dAa0hB2yrnHzVmsCkN4YvQ      0  2014-06-20  \n",
       "3  dAa0hB2yrnHzVmsCkN4YvQ      0  2016-10-12  \n",
       "4  ESzO3Av0b1_TzKOiqzbQYQ      0  2017-01-28  "
      ]
     },
     "execution_count": 126,
     "metadata": {},
     "output_type": "execute_result"
    }
   ],
   "source": [
    "tipDF.head()"
   ]
  },
  {
   "cell_type": "code",
   "execution_count": 127,
   "metadata": {
    "collapsed": true
   },
   "outputs": [],
   "source": [
    "tipOrderedColumns = ['user_id','business_id','text','date','likes']"
   ]
  },
  {
   "cell_type": "code",
   "execution_count": 128,
   "metadata": {
    "collapsed": true
   },
   "outputs": [],
   "source": [
    "tipDF = tipDF[tipOrderedColumns]"
   ]
  },
  {
   "cell_type": "code",
   "execution_count": 129,
   "metadata": {
    "collapsed": true
   },
   "outputs": [],
   "source": [
    "tipDF.to_csv('data/yelp/pgTip.csv',index=False)"
   ]
  },
  {
   "cell_type": "code",
   "execution_count": null,
   "metadata": {
    "collapsed": true
   },
   "outputs": [],
   "source": []
  },
  {
   "cell_type": "code",
   "execution_count": 192,
   "metadata": {},
   "outputs": [],
   "source": [
    "reviewDF = pd.read_csv('data/yelp/review.csv')"
   ]
  },
  {
   "cell_type": "code",
   "execution_count": 193,
   "metadata": {},
   "outputs": [
    {
     "data": {
      "text/plain": [
       "(4736897, 9)"
      ]
     },
     "execution_count": 193,
     "metadata": {},
     "output_type": "execute_result"
    }
   ],
   "source": [
    "reviewDF.shape"
   ]
  },
  {
   "cell_type": "code",
   "execution_count": 194,
   "metadata": {},
   "outputs": [
    {
     "data": {
      "text/plain": [
       "Index(['funny', 'user_id', 'review_id', 'text', 'business_id', 'stars', 'date',\n",
       "       'useful', 'cool'],\n",
       "      dtype='object')"
      ]
     },
     "execution_count": 194,
     "metadata": {},
     "output_type": "execute_result"
    }
   ],
   "source": [
    "reviewDF.columns"
   ]
  },
  {
   "cell_type": "code",
   "execution_count": 195,
   "metadata": {},
   "outputs": [
    {
     "data": {
      "text/html": [
       "<div>\n",
       "<style>\n",
       "    .dataframe thead tr:only-child th {\n",
       "        text-align: right;\n",
       "    }\n",
       "\n",
       "    .dataframe thead th {\n",
       "        text-align: left;\n",
       "    }\n",
       "\n",
       "    .dataframe tbody tr th {\n",
       "        vertical-align: top;\n",
       "    }\n",
       "</style>\n",
       "<table border=\"1\" class=\"dataframe\">\n",
       "  <thead>\n",
       "    <tr style=\"text-align: right;\">\n",
       "      <th></th>\n",
       "      <th>funny</th>\n",
       "      <th>user_id</th>\n",
       "      <th>review_id</th>\n",
       "      <th>text</th>\n",
       "      <th>business_id</th>\n",
       "      <th>stars</th>\n",
       "      <th>date</th>\n",
       "      <th>useful</th>\n",
       "      <th>cool</th>\n",
       "    </tr>\n",
       "  </thead>\n",
       "  <tbody>\n",
       "    <tr>\n",
       "      <th>0</th>\n",
       "      <td>0</td>\n",
       "      <td>cjpdDjZyprfyDG3RlkVG3w</td>\n",
       "      <td>VfBHSwC5Vz_pbFluy07i9Q</td>\n",
       "      <td>My girlfriend and I stayed here for 3 nights a...</td>\n",
       "      <td>uYHaNptLzDLoV_JZ_MuzUA</td>\n",
       "      <td>5</td>\n",
       "      <td>2016-07-12</td>\n",
       "      <td>0</td>\n",
       "      <td>0</td>\n",
       "    </tr>\n",
       "    <tr>\n",
       "      <th>1</th>\n",
       "      <td>0</td>\n",
       "      <td>bjTcT8Ty4cJZhEOEo01FGA</td>\n",
       "      <td>3zRpneRKDsOPq92tq7ybAA</td>\n",
       "      <td>If you need an inexpensive place to stay for a...</td>\n",
       "      <td>uYHaNptLzDLoV_JZ_MuzUA</td>\n",
       "      <td>3</td>\n",
       "      <td>2016-10-02</td>\n",
       "      <td>0</td>\n",
       "      <td>0</td>\n",
       "    </tr>\n",
       "    <tr>\n",
       "      <th>2</th>\n",
       "      <td>0</td>\n",
       "      <td>AXgRULmWcME7J6Ix3I--ww</td>\n",
       "      <td>ne5WhI1jUFOcRn-b-gAzHA</td>\n",
       "      <td>Mittlerweile gibt es in Edinburgh zwei Ableger...</td>\n",
       "      <td>uYHaNptLzDLoV_JZ_MuzUA</td>\n",
       "      <td>3</td>\n",
       "      <td>2015-09-17</td>\n",
       "      <td>0</td>\n",
       "      <td>0</td>\n",
       "    </tr>\n",
       "    <tr>\n",
       "      <th>3</th>\n",
       "      <td>0</td>\n",
       "      <td>oU2SSOmsp_A8JYI7Z2JJ5w</td>\n",
       "      <td>llmdwOgDReucVoWEry61Lw</td>\n",
       "      <td>Location is everything and this hotel has it! ...</td>\n",
       "      <td>uYHaNptLzDLoV_JZ_MuzUA</td>\n",
       "      <td>4</td>\n",
       "      <td>2016-08-21</td>\n",
       "      <td>0</td>\n",
       "      <td>0</td>\n",
       "    </tr>\n",
       "    <tr>\n",
       "      <th>4</th>\n",
       "      <td>0</td>\n",
       "      <td>0xtbPEna2Kei11vsU-U2Mw</td>\n",
       "      <td>DuffS87NaSMDmIfluvT83g</td>\n",
       "      <td>gute lage im stadtzentrum. shoppingmeile und s...</td>\n",
       "      <td>uYHaNptLzDLoV_JZ_MuzUA</td>\n",
       "      <td>5</td>\n",
       "      <td>2013-11-20</td>\n",
       "      <td>0</td>\n",
       "      <td>0</td>\n",
       "    </tr>\n",
       "  </tbody>\n",
       "</table>\n",
       "</div>"
      ],
      "text/plain": [
       "   funny                 user_id               review_id  \\\n",
       "0      0  cjpdDjZyprfyDG3RlkVG3w  VfBHSwC5Vz_pbFluy07i9Q   \n",
       "1      0  bjTcT8Ty4cJZhEOEo01FGA  3zRpneRKDsOPq92tq7ybAA   \n",
       "2      0  AXgRULmWcME7J6Ix3I--ww  ne5WhI1jUFOcRn-b-gAzHA   \n",
       "3      0  oU2SSOmsp_A8JYI7Z2JJ5w  llmdwOgDReucVoWEry61Lw   \n",
       "4      0  0xtbPEna2Kei11vsU-U2Mw  DuffS87NaSMDmIfluvT83g   \n",
       "\n",
       "                                                text             business_id  \\\n",
       "0  My girlfriend and I stayed here for 3 nights a...  uYHaNptLzDLoV_JZ_MuzUA   \n",
       "1  If you need an inexpensive place to stay for a...  uYHaNptLzDLoV_JZ_MuzUA   \n",
       "2  Mittlerweile gibt es in Edinburgh zwei Ableger...  uYHaNptLzDLoV_JZ_MuzUA   \n",
       "3  Location is everything and this hotel has it! ...  uYHaNptLzDLoV_JZ_MuzUA   \n",
       "4  gute lage im stadtzentrum. shoppingmeile und s...  uYHaNptLzDLoV_JZ_MuzUA   \n",
       "\n",
       "   stars        date  useful  cool  \n",
       "0      5  2016-07-12       0     0  \n",
       "1      3  2016-10-02       0     0  \n",
       "2      3  2015-09-17       0     0  \n",
       "3      4  2016-08-21       0     0  \n",
       "4      5  2013-11-20       0     0  "
      ]
     },
     "execution_count": 195,
     "metadata": {},
     "output_type": "execute_result"
    }
   ],
   "source": [
    "reviewDF.head()"
   ]
  },
  {
   "cell_type": "code",
   "execution_count": 196,
   "metadata": {
    "collapsed": true
   },
   "outputs": [],
   "source": [
    "reviewDF.rename(columns={'text':'review_text','date':'review_date'},inplace=True)"
   ]
  },
  {
   "cell_type": "code",
   "execution_count": 197,
   "metadata": {
    "collapsed": true
   },
   "outputs": [],
   "source": [
    "reviewOrderedColumns = ['review_id','stars','review_date','review_text','useful',\n",
    "                        'funny','cool','business_id','user_id']"
   ]
  },
  {
   "cell_type": "code",
   "execution_count": 198,
   "metadata": {
    "collapsed": true
   },
   "outputs": [],
   "source": [
    "reviewDF = reviewDF[reviewOrderedColumns]"
   ]
  },
  {
   "cell_type": "code",
   "execution_count": 199,
   "metadata": {},
   "outputs": [],
   "source": [
    "reviewDF['review_text'] = reviewDF['review_text'].str.strip()"
   ]
  },
  {
   "cell_type": "code",
   "execution_count": 200,
   "metadata": {
    "collapsed": true
   },
   "outputs": [],
   "source": [
    "reviewDF['review_text'] = reviewDF['review_text'] .str.replace('\\n', '')"
   ]
  },
  {
   "cell_type": "code",
   "execution_count": 201,
   "metadata": {
    "collapsed": true
   },
   "outputs": [],
   "source": [
    "#reviewDF['review_text'] = reviewDF['review_text'] .str.replace('\\r', '')"
   ]
  },
  {
   "cell_type": "code",
   "execution_count": 209,
   "metadata": {},
   "outputs": [],
   "source": [
    "reviewDF['review_text'] = reviewDF['review_text'] .str.replace('\\\\', '')"
   ]
  },
  {
   "cell_type": "code",
   "execution_count": 226,
   "metadata": {},
   "outputs": [],
   "source": [
    "#v = reviewDF['review_text'].iloc[3283796]"
   ]
  },
  {
   "cell_type": "code",
   "execution_count": 229,
   "metadata": {
    "collapsed": true
   },
   "outputs": [],
   "source": [
    "reviewDF['tlen'] = reviewDF.review_text.str.len()"
   ]
  },
  {
   "cell_type": "code",
   "execution_count": 233,
   "metadata": {
    "collapsed": true
   },
   "outputs": [],
   "source": [
    "reviewDF.drop('review_text',axis=1,inplace=True)"
   ]
  },
  {
   "cell_type": "code",
   "execution_count": 230,
   "metadata": {},
   "outputs": [
    {
     "data": {
      "text/html": [
       "<div>\n",
       "<style>\n",
       "    .dataframe thead tr:only-child th {\n",
       "        text-align: right;\n",
       "    }\n",
       "\n",
       "    .dataframe thead th {\n",
       "        text-align: left;\n",
       "    }\n",
       "\n",
       "    .dataframe tbody tr th {\n",
       "        vertical-align: top;\n",
       "    }\n",
       "</style>\n",
       "<table border=\"1\" class=\"dataframe\">\n",
       "  <thead>\n",
       "    <tr style=\"text-align: right;\">\n",
       "      <th></th>\n",
       "      <th>review_id</th>\n",
       "      <th>stars</th>\n",
       "      <th>review_date</th>\n",
       "      <th>review_text</th>\n",
       "      <th>useful</th>\n",
       "      <th>funny</th>\n",
       "      <th>cool</th>\n",
       "      <th>business_id</th>\n",
       "      <th>user_id</th>\n",
       "      <th>tlen</th>\n",
       "    </tr>\n",
       "  </thead>\n",
       "  <tbody>\n",
       "    <tr>\n",
       "      <th>0</th>\n",
       "      <td>VfBHSwC5Vz_pbFluy07i9Q</td>\n",
       "      <td>5</td>\n",
       "      <td>2016-07-12</td>\n",
       "      <td>My girlfriend and I stayed here for 3 nights a...</td>\n",
       "      <td>0</td>\n",
       "      <td>0</td>\n",
       "      <td>0</td>\n",
       "      <td>uYHaNptLzDLoV_JZ_MuzUA</td>\n",
       "      <td>cjpdDjZyprfyDG3RlkVG3w</td>\n",
       "      <td>1146</td>\n",
       "    </tr>\n",
       "    <tr>\n",
       "      <th>1</th>\n",
       "      <td>3zRpneRKDsOPq92tq7ybAA</td>\n",
       "      <td>3</td>\n",
       "      <td>2016-10-02</td>\n",
       "      <td>If you need an inexpensive place to stay for a...</td>\n",
       "      <td>0</td>\n",
       "      <td>0</td>\n",
       "      <td>0</td>\n",
       "      <td>uYHaNptLzDLoV_JZ_MuzUA</td>\n",
       "      <td>bjTcT8Ty4cJZhEOEo01FGA</td>\n",
       "      <td>887</td>\n",
       "    </tr>\n",
       "    <tr>\n",
       "      <th>2</th>\n",
       "      <td>ne5WhI1jUFOcRn-b-gAzHA</td>\n",
       "      <td>3</td>\n",
       "      <td>2015-09-17</td>\n",
       "      <td>Mittlerweile gibt es in Edinburgh zwei Ableger...</td>\n",
       "      <td>0</td>\n",
       "      <td>0</td>\n",
       "      <td>0</td>\n",
       "      <td>uYHaNptLzDLoV_JZ_MuzUA</td>\n",
       "      <td>AXgRULmWcME7J6Ix3I--ww</td>\n",
       "      <td>2398</td>\n",
       "    </tr>\n",
       "    <tr>\n",
       "      <th>3</th>\n",
       "      <td>llmdwOgDReucVoWEry61Lw</td>\n",
       "      <td>4</td>\n",
       "      <td>2016-08-21</td>\n",
       "      <td>Location is everything and this hotel has it! ...</td>\n",
       "      <td>0</td>\n",
       "      <td>0</td>\n",
       "      <td>0</td>\n",
       "      <td>uYHaNptLzDLoV_JZ_MuzUA</td>\n",
       "      <td>oU2SSOmsp_A8JYI7Z2JJ5w</td>\n",
       "      <td>809</td>\n",
       "    </tr>\n",
       "    <tr>\n",
       "      <th>4</th>\n",
       "      <td>DuffS87NaSMDmIfluvT83g</td>\n",
       "      <td>5</td>\n",
       "      <td>2013-11-20</td>\n",
       "      <td>gute lage im stadtzentrum. shoppingmeile und s...</td>\n",
       "      <td>0</td>\n",
       "      <td>0</td>\n",
       "      <td>0</td>\n",
       "      <td>uYHaNptLzDLoV_JZ_MuzUA</td>\n",
       "      <td>0xtbPEna2Kei11vsU-U2Mw</td>\n",
       "      <td>265</td>\n",
       "    </tr>\n",
       "  </tbody>\n",
       "</table>\n",
       "</div>"
      ],
      "text/plain": [
       "                review_id  stars review_date  \\\n",
       "0  VfBHSwC5Vz_pbFluy07i9Q      5  2016-07-12   \n",
       "1  3zRpneRKDsOPq92tq7ybAA      3  2016-10-02   \n",
       "2  ne5WhI1jUFOcRn-b-gAzHA      3  2015-09-17   \n",
       "3  llmdwOgDReucVoWEry61Lw      4  2016-08-21   \n",
       "4  DuffS87NaSMDmIfluvT83g      5  2013-11-20   \n",
       "\n",
       "                                         review_text  useful  funny  cool  \\\n",
       "0  My girlfriend and I stayed here for 3 nights a...       0      0     0   \n",
       "1  If you need an inexpensive place to stay for a...       0      0     0   \n",
       "2  Mittlerweile gibt es in Edinburgh zwei Ableger...       0      0     0   \n",
       "3  Location is everything and this hotel has it! ...       0      0     0   \n",
       "4  gute lage im stadtzentrum. shoppingmeile und s...       0      0     0   \n",
       "\n",
       "              business_id                 user_id  tlen  \n",
       "0  uYHaNptLzDLoV_JZ_MuzUA  cjpdDjZyprfyDG3RlkVG3w  1146  \n",
       "1  uYHaNptLzDLoV_JZ_MuzUA  bjTcT8Ty4cJZhEOEo01FGA   887  \n",
       "2  uYHaNptLzDLoV_JZ_MuzUA  AXgRULmWcME7J6Ix3I--ww  2398  \n",
       "3  uYHaNptLzDLoV_JZ_MuzUA  oU2SSOmsp_A8JYI7Z2JJ5w   809  \n",
       "4  uYHaNptLzDLoV_JZ_MuzUA  0xtbPEna2Kei11vsU-U2Mw   265  "
      ]
     },
     "execution_count": 230,
     "metadata": {},
     "output_type": "execute_result"
    }
   ],
   "source": [
    "reviewDF.head()"
   ]
  },
  {
   "cell_type": "code",
   "execution_count": 234,
   "metadata": {
    "collapsed": true
   },
   "outputs": [],
   "source": [
    "reviewDF.to_csv('data/yelp/pgReview.csv',index=False)"
   ]
  },
  {
   "cell_type": "code",
   "execution_count": 235,
   "metadata": {},
   "outputs": [
    {
     "data": {
      "text/html": [
       "<div>\n",
       "<style>\n",
       "    .dataframe thead tr:only-child th {\n",
       "        text-align: right;\n",
       "    }\n",
       "\n",
       "    .dataframe thead th {\n",
       "        text-align: left;\n",
       "    }\n",
       "\n",
       "    .dataframe tbody tr th {\n",
       "        vertical-align: top;\n",
       "    }\n",
       "</style>\n",
       "<table border=\"1\" class=\"dataframe\">\n",
       "  <thead>\n",
       "    <tr style=\"text-align: right;\">\n",
       "      <th></th>\n",
       "      <th>attributes.Ambience.divey</th>\n",
       "      <th>attributes.RestaurantsDelivery</th>\n",
       "      <th>attributes.DogsAllowed</th>\n",
       "      <th>attributes.HairSpecializesIn.coloring</th>\n",
       "      <th>attributes.BestNights.sunday</th>\n",
       "      <th>attributes.BYOB</th>\n",
       "      <th>attributes.AgesAllowed</th>\n",
       "      <th>attributes.Music.video</th>\n",
       "      <th>attributes.Alcohol</th>\n",
       "      <th>attributes.Ambience.classy</th>\n",
       "      <th>...</th>\n",
       "      <th>attributes.RestaurantsReservations</th>\n",
       "      <th>attributes.DietaryRestrictions.dairy-free</th>\n",
       "      <th>attributes.DietaryRestrictions.vegan</th>\n",
       "      <th>attributes.Ambience.romantic</th>\n",
       "      <th>attributes.Music.jukebox</th>\n",
       "      <th>attributes.Ambience.upscale</th>\n",
       "      <th>attributes.RestaurantsTakeOut</th>\n",
       "      <th>attributes.BikeParking</th>\n",
       "      <th>attributes.OutdoorSeating</th>\n",
       "      <th>business_id</th>\n",
       "    </tr>\n",
       "  </thead>\n",
       "  <tbody>\n",
       "    <tr>\n",
       "      <th>0</th>\n",
       "      <td>NaN</td>\n",
       "      <td>NaN</td>\n",
       "      <td>NaN</td>\n",
       "      <td>NaN</td>\n",
       "      <td>NaN</td>\n",
       "      <td>NaN</td>\n",
       "      <td>NaN</td>\n",
       "      <td>NaN</td>\n",
       "      <td>NaN</td>\n",
       "      <td>NaN</td>\n",
       "      <td>...</td>\n",
       "      <td>NaN</td>\n",
       "      <td>NaN</td>\n",
       "      <td>NaN</td>\n",
       "      <td>NaN</td>\n",
       "      <td>NaN</td>\n",
       "      <td>NaN</td>\n",
       "      <td>NaN</td>\n",
       "      <td>True</td>\n",
       "      <td>NaN</td>\n",
       "      <td>YDf95gJZaq05wvo7hTQbbQ</td>\n",
       "    </tr>\n",
       "    <tr>\n",
       "      <th>1</th>\n",
       "      <td>False</td>\n",
       "      <td>True</td>\n",
       "      <td>NaN</td>\n",
       "      <td>NaN</td>\n",
       "      <td>NaN</td>\n",
       "      <td>NaN</td>\n",
       "      <td>NaN</td>\n",
       "      <td>NaN</td>\n",
       "      <td>NaN</td>\n",
       "      <td>False</td>\n",
       "      <td>...</td>\n",
       "      <td>False</td>\n",
       "      <td>NaN</td>\n",
       "      <td>NaN</td>\n",
       "      <td>False</td>\n",
       "      <td>NaN</td>\n",
       "      <td>False</td>\n",
       "      <td>True</td>\n",
       "      <td>NaN</td>\n",
       "      <td>False</td>\n",
       "      <td>mLwM-h2YhXl2NCgdS84_Bw</td>\n",
       "    </tr>\n",
       "    <tr>\n",
       "      <th>2</th>\n",
       "      <td>NaN</td>\n",
       "      <td>NaN</td>\n",
       "      <td>NaN</td>\n",
       "      <td>NaN</td>\n",
       "      <td>NaN</td>\n",
       "      <td>NaN</td>\n",
       "      <td>NaN</td>\n",
       "      <td>NaN</td>\n",
       "      <td>NaN</td>\n",
       "      <td>NaN</td>\n",
       "      <td>...</td>\n",
       "      <td>NaN</td>\n",
       "      <td>NaN</td>\n",
       "      <td>NaN</td>\n",
       "      <td>NaN</td>\n",
       "      <td>NaN</td>\n",
       "      <td>NaN</td>\n",
       "      <td>NaN</td>\n",
       "      <td>True</td>\n",
       "      <td>False</td>\n",
       "      <td>v2WhjAB3PIBA8J8VxG3wEg</td>\n",
       "    </tr>\n",
       "    <tr>\n",
       "      <th>3</th>\n",
       "      <td>NaN</td>\n",
       "      <td>NaN</td>\n",
       "      <td>NaN</td>\n",
       "      <td>NaN</td>\n",
       "      <td>NaN</td>\n",
       "      <td>NaN</td>\n",
       "      <td>NaN</td>\n",
       "      <td>NaN</td>\n",
       "      <td>NaN</td>\n",
       "      <td>NaN</td>\n",
       "      <td>...</td>\n",
       "      <td>NaN</td>\n",
       "      <td>NaN</td>\n",
       "      <td>NaN</td>\n",
       "      <td>NaN</td>\n",
       "      <td>NaN</td>\n",
       "      <td>NaN</td>\n",
       "      <td>NaN</td>\n",
       "      <td>NaN</td>\n",
       "      <td>NaN</td>\n",
       "      <td>CVtCbSB1zUcUWg-9TNGTuQ</td>\n",
       "    </tr>\n",
       "    <tr>\n",
       "      <th>4</th>\n",
       "      <td>False</td>\n",
       "      <td>False</td>\n",
       "      <td>NaN</td>\n",
       "      <td>NaN</td>\n",
       "      <td>NaN</td>\n",
       "      <td>NaN</td>\n",
       "      <td>NaN</td>\n",
       "      <td>NaN</td>\n",
       "      <td>none</td>\n",
       "      <td>False</td>\n",
       "      <td>...</td>\n",
       "      <td>False</td>\n",
       "      <td>NaN</td>\n",
       "      <td>NaN</td>\n",
       "      <td>False</td>\n",
       "      <td>NaN</td>\n",
       "      <td>False</td>\n",
       "      <td>True</td>\n",
       "      <td>True</td>\n",
       "      <td>False</td>\n",
       "      <td>duHFBe87uNSXImQmvBh87Q</td>\n",
       "    </tr>\n",
       "  </tbody>\n",
       "</table>\n",
       "<p>5 rows × 82 columns</p>\n",
       "</div>"
      ],
      "text/plain": [
       "  attributes.Ambience.divey attributes.RestaurantsDelivery  \\\n",
       "0                       NaN                            NaN   \n",
       "1                     False                           True   \n",
       "2                       NaN                            NaN   \n",
       "3                       NaN                            NaN   \n",
       "4                     False                          False   \n",
       "\n",
       "  attributes.DogsAllowed attributes.HairSpecializesIn.coloring  \\\n",
       "0                    NaN                                   NaN   \n",
       "1                    NaN                                   NaN   \n",
       "2                    NaN                                   NaN   \n",
       "3                    NaN                                   NaN   \n",
       "4                    NaN                                   NaN   \n",
       "\n",
       "  attributes.BestNights.sunday attributes.BYOB attributes.AgesAllowed  \\\n",
       "0                          NaN             NaN                    NaN   \n",
       "1                          NaN             NaN                    NaN   \n",
       "2                          NaN             NaN                    NaN   \n",
       "3                          NaN             NaN                    NaN   \n",
       "4                          NaN             NaN                    NaN   \n",
       "\n",
       "  attributes.Music.video attributes.Alcohol attributes.Ambience.classy  \\\n",
       "0                    NaN                NaN                        NaN   \n",
       "1                    NaN                NaN                      False   \n",
       "2                    NaN                NaN                        NaN   \n",
       "3                    NaN                NaN                        NaN   \n",
       "4                    NaN               none                      False   \n",
       "\n",
       "            ...           attributes.RestaurantsReservations  \\\n",
       "0           ...                                          NaN   \n",
       "1           ...                                        False   \n",
       "2           ...                                          NaN   \n",
       "3           ...                                          NaN   \n",
       "4           ...                                        False   \n",
       "\n",
       "  attributes.DietaryRestrictions.dairy-free  \\\n",
       "0                                       NaN   \n",
       "1                                       NaN   \n",
       "2                                       NaN   \n",
       "3                                       NaN   \n",
       "4                                       NaN   \n",
       "\n",
       "  attributes.DietaryRestrictions.vegan attributes.Ambience.romantic  \\\n",
       "0                                  NaN                          NaN   \n",
       "1                                  NaN                        False   \n",
       "2                                  NaN                          NaN   \n",
       "3                                  NaN                          NaN   \n",
       "4                                  NaN                        False   \n",
       "\n",
       "  attributes.Music.jukebox attributes.Ambience.upscale  \\\n",
       "0                      NaN                         NaN   \n",
       "1                      NaN                       False   \n",
       "2                      NaN                         NaN   \n",
       "3                      NaN                         NaN   \n",
       "4                      NaN                       False   \n",
       "\n",
       "  attributes.RestaurantsTakeOut attributes.BikeParking  \\\n",
       "0                           NaN                   True   \n",
       "1                          True                    NaN   \n",
       "2                           NaN                   True   \n",
       "3                           NaN                    NaN   \n",
       "4                          True                   True   \n",
       "\n",
       "  attributes.OutdoorSeating             business_id  \n",
       "0                       NaN  YDf95gJZaq05wvo7hTQbbQ  \n",
       "1                     False  mLwM-h2YhXl2NCgdS84_Bw  \n",
       "2                     False  v2WhjAB3PIBA8J8VxG3wEg  \n",
       "3                       NaN  CVtCbSB1zUcUWg-9TNGTuQ  \n",
       "4                     False  duHFBe87uNSXImQmvBh87Q  \n",
       "\n",
       "[5 rows x 82 columns]"
      ]
     },
     "execution_count": 235,
     "metadata": {},
     "output_type": "execute_result"
    }
   ],
   "source": [
    "attributeDF.head()"
   ]
  },
  {
   "cell_type": "code",
   "execution_count": 236,
   "metadata": {},
   "outputs": [
    {
     "data": {
      "text/html": [
       "<div>\n",
       "<style>\n",
       "    .dataframe thead tr:only-child th {\n",
       "        text-align: right;\n",
       "    }\n",
       "\n",
       "    .dataframe thead th {\n",
       "        text-align: left;\n",
       "    }\n",
       "\n",
       "    .dataframe tbody tr th {\n",
       "        vertical-align: top;\n",
       "    }\n",
       "</style>\n",
       "<table border=\"1\" class=\"dataframe\">\n",
       "  <thead>\n",
       "    <tr style=\"text-align: right;\">\n",
       "      <th></th>\n",
       "      <th>business_id</th>\n",
       "      <th>name</th>\n",
       "      <th>neighborhood</th>\n",
       "      <th>address</th>\n",
       "      <th>city</th>\n",
       "      <th>state</th>\n",
       "      <th>postal_code</th>\n",
       "      <th>latitude</th>\n",
       "      <th>longitude</th>\n",
       "      <th>stars</th>\n",
       "      <th>review_count</th>\n",
       "      <th>is_open</th>\n",
       "    </tr>\n",
       "  </thead>\n",
       "  <tbody>\n",
       "    <tr>\n",
       "      <th>0</th>\n",
       "      <td>YDf95gJZaq05wvo7hTQbbQ</td>\n",
       "      <td>Richmond Town Square</td>\n",
       "      <td>NaN</td>\n",
       "      <td>691 Richmond Rd</td>\n",
       "      <td>Richmond Heights</td>\n",
       "      <td>OH</td>\n",
       "      <td>44143</td>\n",
       "      <td>41.541716</td>\n",
       "      <td>-81.493116</td>\n",
       "      <td>2.0</td>\n",
       "      <td>17</td>\n",
       "      <td>1</td>\n",
       "    </tr>\n",
       "    <tr>\n",
       "      <th>1</th>\n",
       "      <td>mLwM-h2YhXl2NCgdS84_Bw</td>\n",
       "      <td>South Florida Style Chicken &amp; Ribs</td>\n",
       "      <td>Eastland</td>\n",
       "      <td>2824 Milton Rd</td>\n",
       "      <td>Charlotte</td>\n",
       "      <td>NC</td>\n",
       "      <td>28215</td>\n",
       "      <td>35.236870</td>\n",
       "      <td>-80.741976</td>\n",
       "      <td>4.5</td>\n",
       "      <td>4</td>\n",
       "      <td>0</td>\n",
       "    </tr>\n",
       "    <tr>\n",
       "      <th>2</th>\n",
       "      <td>v2WhjAB3PIBA8J8VxG3wEg</td>\n",
       "      <td>The Tea Emporium</td>\n",
       "      <td>Riverdale</td>\n",
       "      <td>337 Danforth Avenue</td>\n",
       "      <td>Toronto</td>\n",
       "      <td>ON</td>\n",
       "      <td>M4K 1N7</td>\n",
       "      <td>43.677126</td>\n",
       "      <td>-79.353285</td>\n",
       "      <td>4.5</td>\n",
       "      <td>7</td>\n",
       "      <td>0</td>\n",
       "    </tr>\n",
       "    <tr>\n",
       "      <th>3</th>\n",
       "      <td>CVtCbSB1zUcUWg-9TNGTuQ</td>\n",
       "      <td>TRUmatch</td>\n",
       "      <td>NaN</td>\n",
       "      <td>7702 E Doubletree Ranch Rd, Ste 300</td>\n",
       "      <td>Scottsdale</td>\n",
       "      <td>AZ</td>\n",
       "      <td>85258</td>\n",
       "      <td>33.565082</td>\n",
       "      <td>-111.916400</td>\n",
       "      <td>3.0</td>\n",
       "      <td>3</td>\n",
       "      <td>1</td>\n",
       "    </tr>\n",
       "    <tr>\n",
       "      <th>4</th>\n",
       "      <td>duHFBe87uNSXImQmvBh87Q</td>\n",
       "      <td>Blimpie</td>\n",
       "      <td>NaN</td>\n",
       "      <td>4719 N 20Th St</td>\n",
       "      <td>Phoenix</td>\n",
       "      <td>AZ</td>\n",
       "      <td>85016</td>\n",
       "      <td>33.505928</td>\n",
       "      <td>-112.038847</td>\n",
       "      <td>4.5</td>\n",
       "      <td>10</td>\n",
       "      <td>0</td>\n",
       "    </tr>\n",
       "  </tbody>\n",
       "</table>\n",
       "</div>"
      ],
      "text/plain": [
       "              business_id                                name neighborhood  \\\n",
       "0  YDf95gJZaq05wvo7hTQbbQ                Richmond Town Square          NaN   \n",
       "1  mLwM-h2YhXl2NCgdS84_Bw  South Florida Style Chicken & Ribs     Eastland   \n",
       "2  v2WhjAB3PIBA8J8VxG3wEg                    The Tea Emporium    Riverdale   \n",
       "3  CVtCbSB1zUcUWg-9TNGTuQ                            TRUmatch          NaN   \n",
       "4  duHFBe87uNSXImQmvBh87Q                             Blimpie          NaN   \n",
       "\n",
       "                               address              city state postal_code  \\\n",
       "0                      691 Richmond Rd  Richmond Heights    OH       44143   \n",
       "1                       2824 Milton Rd         Charlotte    NC       28215   \n",
       "2                  337 Danforth Avenue           Toronto    ON     M4K 1N7   \n",
       "3  7702 E Doubletree Ranch Rd, Ste 300        Scottsdale    AZ       85258   \n",
       "4                       4719 N 20Th St           Phoenix    AZ       85016   \n",
       "\n",
       "    latitude   longitude  stars  review_count  is_open  \n",
       "0  41.541716  -81.493116    2.0            17        1  \n",
       "1  35.236870  -80.741976    4.5             4        0  \n",
       "2  43.677126  -79.353285    4.5             7        0  \n",
       "3  33.565082 -111.916400    3.0             3        1  \n",
       "4  33.505928 -112.038847    4.5            10        0  "
      ]
     },
     "execution_count": 236,
     "metadata": {},
     "output_type": "execute_result"
    }
   ],
   "source": [
    "businessDF.head()"
   ]
  },
  {
   "cell_type": "code",
   "execution_count": 237,
   "metadata": {},
   "outputs": [
    {
     "data": {
      "text/html": [
       "<div>\n",
       "<style>\n",
       "    .dataframe thead tr:only-child th {\n",
       "        text-align: right;\n",
       "    }\n",
       "\n",
       "    .dataframe thead th {\n",
       "        text-align: left;\n",
       "    }\n",
       "\n",
       "    .dataframe tbody tr th {\n",
       "        vertical-align: top;\n",
       "    }\n",
       "</style>\n",
       "<table border=\"1\" class=\"dataframe\">\n",
       "  <thead>\n",
       "    <tr style=\"text-align: right;\">\n",
       "      <th></th>\n",
       "      <th>business_id</th>\n",
       "      <th>categories</th>\n",
       "    </tr>\n",
       "  </thead>\n",
       "  <tbody>\n",
       "    <tr>\n",
       "      <th>0</th>\n",
       "      <td>YDf95gJZaq05wvo7hTQbbQ</td>\n",
       "      <td>[u'Shopping', u'Shopping Centers']</td>\n",
       "    </tr>\n",
       "    <tr>\n",
       "      <th>1</th>\n",
       "      <td>mLwM-h2YhXl2NCgdS84_Bw</td>\n",
       "      <td>[u'Food', u'Soul Food', u'Convenience Stores',...</td>\n",
       "    </tr>\n",
       "    <tr>\n",
       "      <th>2</th>\n",
       "      <td>v2WhjAB3PIBA8J8VxG3wEg</td>\n",
       "      <td>[u'Food', u'Coffee &amp; Tea']</td>\n",
       "    </tr>\n",
       "    <tr>\n",
       "      <th>3</th>\n",
       "      <td>CVtCbSB1zUcUWg-9TNGTuQ</td>\n",
       "      <td>[u'Professional Services', u'Matchmakers']</td>\n",
       "    </tr>\n",
       "    <tr>\n",
       "      <th>4</th>\n",
       "      <td>duHFBe87uNSXImQmvBh87Q</td>\n",
       "      <td>[u'Sandwiches', u'Restaurants']</td>\n",
       "    </tr>\n",
       "    <tr>\n",
       "      <th>5</th>\n",
       "      <td>uUEMrhJiL1a1pCA_I1SU7Q</td>\n",
       "      <td>[u'Shopping', u'Tobacco Shops']</td>\n",
       "    </tr>\n",
       "    <tr>\n",
       "      <th>6</th>\n",
       "      <td>2eJEUJIP54tex7T9YOcLSw</td>\n",
       "      <td>[u'Chiropractors', u'Health &amp; Medical']</td>\n",
       "    </tr>\n",
       "    <tr>\n",
       "      <th>7</th>\n",
       "      <td>fEylCY3UEH8YJ0Xa7lu6lA</td>\n",
       "      <td>[u'Automotive', u'Oil Change Stations', u'Car ...</td>\n",
       "    </tr>\n",
       "    <tr>\n",
       "      <th>8</th>\n",
       "      <td>kFtuYklkAIlmYw8RZAieGw</td>\n",
       "      <td>[u'Jewelry Repair', u'Gold Buyers', u'Local Se...</td>\n",
       "    </tr>\n",
       "    <tr>\n",
       "      <th>9</th>\n",
       "      <td>NqiQdFa93wzUJGo29NbTPQ</td>\n",
       "      <td>[u'Health &amp; Medical', u'Optometrists']</td>\n",
       "    </tr>\n",
       "    <tr>\n",
       "      <th>10</th>\n",
       "      <td>N9BN9ldVl1FNzcB9_eAstw</td>\n",
       "      <td>[u'Bowling', u'Active Life']</td>\n",
       "    </tr>\n",
       "    <tr>\n",
       "      <th>11</th>\n",
       "      <td>6s3z3TlpHOIecuSyPEOp7A</td>\n",
       "      <td>[u'Barbers', u\"Men's Hair Salons\", u'Hair Remo...</td>\n",
       "    </tr>\n",
       "    <tr>\n",
       "      <th>12</th>\n",
       "      <td>n33Izvzk_z9_51H6NsQF-A</td>\n",
       "      <td>[u'Flowers &amp; Gifts', u'Bakeries', u'Grocery', ...</td>\n",
       "    </tr>\n",
       "    <tr>\n",
       "      <th>13</th>\n",
       "      <td>m06OZRFTaKKi6U0omfLq4g</td>\n",
       "      <td>[u'Landscape Architects', u'Home &amp; Garden', u'...</td>\n",
       "    </tr>\n",
       "    <tr>\n",
       "      <th>14</th>\n",
       "      <td>SDMRxmcKPNt1AHPBKqO64Q</td>\n",
       "      <td>[u'Burgers', u'Bars', u'Restaurants', u'Sports...</td>\n",
       "    </tr>\n",
       "    <tr>\n",
       "      <th>15</th>\n",
       "      <td>iFEiMJoEqyB9O8OUNSdLzA</td>\n",
       "      <td>[u'Chinese', u'Restaurants']</td>\n",
       "    </tr>\n",
       "    <tr>\n",
       "      <th>16</th>\n",
       "      <td>qrAHt4wWRYWj1sEjxq574A</td>\n",
       "      <td>[u'Contractors', u'Roofing', u'Home Services']</td>\n",
       "    </tr>\n",
       "    <tr>\n",
       "      <th>17</th>\n",
       "      <td>jqp5TibmgJZVFKHTp3XfqQ</td>\n",
       "      <td>[u'Car Wash', u'Automotive', u'Auto Detailing']</td>\n",
       "    </tr>\n",
       "    <tr>\n",
       "      <th>18</th>\n",
       "      <td>1cLXGXThDYZ5WK_KpBLtkw</td>\n",
       "      <td>[u'Food', u'Bakeries', u'Coffee &amp; Tea']</td>\n",
       "    </tr>\n",
       "    <tr>\n",
       "      <th>19</th>\n",
       "      <td>BmSJ6C7Y9s3tHotRetVbmA</td>\n",
       "      <td>[u'Financial Services', u'Banks &amp; Credit Unions']</td>\n",
       "    </tr>\n",
       "    <tr>\n",
       "      <th>20</th>\n",
       "      <td>Av-ODv7-hV12If005Pj6wA</td>\n",
       "      <td>[u'Automotive', u'Auto Repair', u'Tires', u'Oi...</td>\n",
       "    </tr>\n",
       "    <tr>\n",
       "      <th>21</th>\n",
       "      <td>HmI9nhgOkrXlUr6KZGZZew</td>\n",
       "      <td>[u'Sandwiches', u'Restaurants', u'Italian', u'...</td>\n",
       "    </tr>\n",
       "    <tr>\n",
       "      <th>22</th>\n",
       "      <td>qnpvw-uQyRn9nlClWFK9aA</td>\n",
       "      <td>[u'Chicken Wings', u'Restaurants']</td>\n",
       "    </tr>\n",
       "    <tr>\n",
       "      <th>23</th>\n",
       "      <td>igcy3ojJbgbpS8K70gvFQg</td>\n",
       "      <td>[u'Life Coach', u'Health &amp; Medical', u'Profess...</td>\n",
       "    </tr>\n",
       "    <tr>\n",
       "      <th>24</th>\n",
       "      <td>5Ghe0btvM7tXqANnhNB5eg</td>\n",
       "      <td>[u'Advertising', u'Marketing', u'Professional ...</td>\n",
       "    </tr>\n",
       "    <tr>\n",
       "      <th>25</th>\n",
       "      <td>vvB8ebrUsjfNqwWjk4G4OQ</td>\n",
       "      <td>[u'Pubs', u'Nightlife', u'Bars']</td>\n",
       "    </tr>\n",
       "    <tr>\n",
       "      <th>26</th>\n",
       "      <td>l9ABoPi9j_pH9588tk0-6w</td>\n",
       "      <td>[u'Arts &amp; Entertainment', u'Performing Arts']</td>\n",
       "    </tr>\n",
       "    <tr>\n",
       "      <th>27</th>\n",
       "      <td>eW9vw2fE_6EuTWErZRo3mQ</td>\n",
       "      <td>[u'Toy Stores', u'Hobby Shops', u'Shopping']</td>\n",
       "    </tr>\n",
       "    <tr>\n",
       "      <th>28</th>\n",
       "      <td>ZFGYEsHFo6G4KtlTpYmMRQ</td>\n",
       "      <td>[u\"Men's Hair Salons\", u'Hair Stylists', u'Bea...</td>\n",
       "    </tr>\n",
       "    <tr>\n",
       "      <th>29</th>\n",
       "      <td>ATsUb_sLzDSZkIoBdoO_mg</td>\n",
       "      <td>[u'Home Services', u'Shades &amp; Blinds']</td>\n",
       "    </tr>\n",
       "    <tr>\n",
       "      <th>...</th>\n",
       "      <td>...</td>\n",
       "      <td>...</td>\n",
       "    </tr>\n",
       "    <tr>\n",
       "      <th>156609</th>\n",
       "      <td>1E1je_htFWU-CCcCRqGcHQ</td>\n",
       "      <td>[u'Transportation', u'Public Transportation', ...</td>\n",
       "    </tr>\n",
       "    <tr>\n",
       "      <th>156610</th>\n",
       "      <td>HUKbH7r9TBJPri6LJbBKtw</td>\n",
       "      <td>[u'Restaurants', u'Mexican']</td>\n",
       "    </tr>\n",
       "    <tr>\n",
       "      <th>156611</th>\n",
       "      <td>caws6UF4lcxleonolhNgBQ</td>\n",
       "      <td>[u'Piercing', u'Tattoo', u'Beauty &amp; Spas']</td>\n",
       "    </tr>\n",
       "    <tr>\n",
       "      <th>156612</th>\n",
       "      <td>AYAgMAqdg3AtG87mae5W6w</td>\n",
       "      <td>[u'Hair Stylists', u'Hair Removal', u'Beauty &amp;...</td>\n",
       "    </tr>\n",
       "    <tr>\n",
       "      <th>156613</th>\n",
       "      <td>a8pmtlVKf7NiSLI-4KejIw</td>\n",
       "      <td>[u'Mexican', u'Tapas/Small Plates', u'Restaura...</td>\n",
       "    </tr>\n",
       "    <tr>\n",
       "      <th>156614</th>\n",
       "      <td>AuUZ-3tH6FcA97t0pLMkxQ</td>\n",
       "      <td>[u'Accessories', u'Fashion', u'Arts &amp; Crafts',...</td>\n",
       "    </tr>\n",
       "    <tr>\n",
       "      <th>156615</th>\n",
       "      <td>nKph91qATrPCbJ-QwZjDZw</td>\n",
       "      <td>[u'Gas Stations', u'Restaurants', u'Car Wash',...</td>\n",
       "    </tr>\n",
       "    <tr>\n",
       "      <th>156616</th>\n",
       "      <td>4B5Ec4VTXty--_Vco9njNw</td>\n",
       "      <td>[u'Lawyers', u'Immigration Law', u'Professiona...</td>\n",
       "    </tr>\n",
       "    <tr>\n",
       "      <th>156617</th>\n",
       "      <td>Ee2d2D0pjQF4oExg9PQ5tQ</td>\n",
       "      <td>[u'Restaurants', u'Chicken Wings', u'Fast Food...</td>\n",
       "    </tr>\n",
       "    <tr>\n",
       "      <th>156618</th>\n",
       "      <td>bYfEp3NMskYfEzWL8tVb4w</td>\n",
       "      <td>[u'Restaurants', u'Argentine']</td>\n",
       "    </tr>\n",
       "    <tr>\n",
       "      <th>156619</th>\n",
       "      <td>G-w4z0nYnLcYwQYXMbEb5w</td>\n",
       "      <td>[u'Automotive', u'Oil Change Stations', u'Auto...</td>\n",
       "    </tr>\n",
       "    <tr>\n",
       "      <th>156620</th>\n",
       "      <td>oVji4RtNNaGJU119CaCU1w</td>\n",
       "      <td>[u'Coffee &amp; Tea', u'Food']</td>\n",
       "    </tr>\n",
       "    <tr>\n",
       "      <th>156621</th>\n",
       "      <td>euUGjobp4ig838a0DE06bQ</td>\n",
       "      <td>[u'Restaurants', u'Hot Dogs']</td>\n",
       "    </tr>\n",
       "    <tr>\n",
       "      <th>156622</th>\n",
       "      <td>3WFFPdui6B80x9wPP0gHUg</td>\n",
       "      <td>[u'Orthopedists', u'Doctors', u'Health &amp; Medic...</td>\n",
       "    </tr>\n",
       "    <tr>\n",
       "      <th>156623</th>\n",
       "      <td>j8KDhwMpM3srQ40rZDedlA</td>\n",
       "      <td>[u'Bail Bondsmen', u'Professional Services', u...</td>\n",
       "    </tr>\n",
       "    <tr>\n",
       "      <th>156624</th>\n",
       "      <td>Pb5AfEWAB8GWlHyy-p-l1g</td>\n",
       "      <td>[u'Restaurants', u'Mexican']</td>\n",
       "    </tr>\n",
       "    <tr>\n",
       "      <th>156625</th>\n",
       "      <td>7IQoE-EXnRCBUzaVHYlhmw</td>\n",
       "      <td>[u'Pizza', u'Restaurants']</td>\n",
       "    </tr>\n",
       "    <tr>\n",
       "      <th>156626</th>\n",
       "      <td>KcFfciiA1lmui6r_h5OwTg</td>\n",
       "      <td>[u'Restaurants', u'Delis', u'Sandwiches', u'Fo...</td>\n",
       "    </tr>\n",
       "    <tr>\n",
       "      <th>156627</th>\n",
       "      <td>1ZsjYgvmtiwZameWm1sCrg</td>\n",
       "      <td>[u'Furniture Reupholstery', u'Flooring', u'Hom...</td>\n",
       "    </tr>\n",
       "    <tr>\n",
       "      <th>156628</th>\n",
       "      <td>ZEatGDrIaEDX7eZjfQlkvw</td>\n",
       "      <td>[u'Telecommunications', u'Mobile Phones', u'Sh...</td>\n",
       "    </tr>\n",
       "    <tr>\n",
       "      <th>156629</th>\n",
       "      <td>ixggn3Iud-mt5ebPl3VXbw</td>\n",
       "      <td>[u'Beauty &amp; Spas', u'Health &amp; Medical', u'Refl...</td>\n",
       "    </tr>\n",
       "    <tr>\n",
       "      <th>156630</th>\n",
       "      <td>bueyFacDvtY0ot2e1aujLA</td>\n",
       "      <td>[u'Massage', u'Chiropractors', u'Health &amp; Medi...</td>\n",
       "    </tr>\n",
       "    <tr>\n",
       "      <th>156631</th>\n",
       "      <td>HzUxQ1WpeNmeecXN-HPlPw</td>\n",
       "      <td>[u'Food', u'Taiwanese', u'Restaurants', u'Coff...</td>\n",
       "    </tr>\n",
       "    <tr>\n",
       "      <th>156632</th>\n",
       "      <td>hdNOL59QqvGlg70E4yHrsQ</td>\n",
       "      <td>[u'Restaurants', u'Burgers']</td>\n",
       "    </tr>\n",
       "    <tr>\n",
       "      <th>156633</th>\n",
       "      <td>LR0IRY1LvTRsPKAFalXlYA</td>\n",
       "      <td>[u'Day Spas', u'Beauty &amp; Spas', u'Hair Salons']</td>\n",
       "    </tr>\n",
       "    <tr>\n",
       "      <th>156634</th>\n",
       "      <td>MW4yO70jP70b9uNjZF2OVw</td>\n",
       "      <td>[u'Art Galleries', u'Flowers &amp; Gifts', u'Event...</td>\n",
       "    </tr>\n",
       "    <tr>\n",
       "      <th>156635</th>\n",
       "      <td>9QtHDX71JnaQbmzWWVbi-A</td>\n",
       "      <td>[u'American (New)', u'Restaurants']</td>\n",
       "    </tr>\n",
       "    <tr>\n",
       "      <th>156636</th>\n",
       "      <td>pj97DoTfO6FcJpW9PnyWtQ</td>\n",
       "      <td>[u'Auto Repair', u'Automotive']</td>\n",
       "    </tr>\n",
       "    <tr>\n",
       "      <th>156637</th>\n",
       "      <td>O6BhCUuMA6sp0N24oEIjfw</td>\n",
       "      <td>[u'Zoos', u'Active Life']</td>\n",
       "    </tr>\n",
       "    <tr>\n",
       "      <th>156638</th>\n",
       "      <td>scMIE4jyGp7FkWrMKAgjxA</td>\n",
       "      <td>[u'Fashion', u'Shopping', u'Food', u'Departmen...</td>\n",
       "    </tr>\n",
       "  </tbody>\n",
       "</table>\n",
       "<p>156639 rows × 2 columns</p>\n",
       "</div>"
      ],
      "text/plain": [
       "                   business_id  \\\n",
       "0       YDf95gJZaq05wvo7hTQbbQ   \n",
       "1       mLwM-h2YhXl2NCgdS84_Bw   \n",
       "2       v2WhjAB3PIBA8J8VxG3wEg   \n",
       "3       CVtCbSB1zUcUWg-9TNGTuQ   \n",
       "4       duHFBe87uNSXImQmvBh87Q   \n",
       "5       uUEMrhJiL1a1pCA_I1SU7Q   \n",
       "6       2eJEUJIP54tex7T9YOcLSw   \n",
       "7       fEylCY3UEH8YJ0Xa7lu6lA   \n",
       "8       kFtuYklkAIlmYw8RZAieGw   \n",
       "9       NqiQdFa93wzUJGo29NbTPQ   \n",
       "10      N9BN9ldVl1FNzcB9_eAstw   \n",
       "11      6s3z3TlpHOIecuSyPEOp7A   \n",
       "12      n33Izvzk_z9_51H6NsQF-A   \n",
       "13      m06OZRFTaKKi6U0omfLq4g   \n",
       "14      SDMRxmcKPNt1AHPBKqO64Q   \n",
       "15      iFEiMJoEqyB9O8OUNSdLzA   \n",
       "16      qrAHt4wWRYWj1sEjxq574A   \n",
       "17      jqp5TibmgJZVFKHTp3XfqQ   \n",
       "18      1cLXGXThDYZ5WK_KpBLtkw   \n",
       "19      BmSJ6C7Y9s3tHotRetVbmA   \n",
       "20      Av-ODv7-hV12If005Pj6wA   \n",
       "21      HmI9nhgOkrXlUr6KZGZZew   \n",
       "22      qnpvw-uQyRn9nlClWFK9aA   \n",
       "23      igcy3ojJbgbpS8K70gvFQg   \n",
       "24      5Ghe0btvM7tXqANnhNB5eg   \n",
       "25      vvB8ebrUsjfNqwWjk4G4OQ   \n",
       "26      l9ABoPi9j_pH9588tk0-6w   \n",
       "27      eW9vw2fE_6EuTWErZRo3mQ   \n",
       "28      ZFGYEsHFo6G4KtlTpYmMRQ   \n",
       "29      ATsUb_sLzDSZkIoBdoO_mg   \n",
       "...                        ...   \n",
       "156609  1E1je_htFWU-CCcCRqGcHQ   \n",
       "156610  HUKbH7r9TBJPri6LJbBKtw   \n",
       "156611  caws6UF4lcxleonolhNgBQ   \n",
       "156612  AYAgMAqdg3AtG87mae5W6w   \n",
       "156613  a8pmtlVKf7NiSLI-4KejIw   \n",
       "156614  AuUZ-3tH6FcA97t0pLMkxQ   \n",
       "156615  nKph91qATrPCbJ-QwZjDZw   \n",
       "156616  4B5Ec4VTXty--_Vco9njNw   \n",
       "156617  Ee2d2D0pjQF4oExg9PQ5tQ   \n",
       "156618  bYfEp3NMskYfEzWL8tVb4w   \n",
       "156619  G-w4z0nYnLcYwQYXMbEb5w   \n",
       "156620  oVji4RtNNaGJU119CaCU1w   \n",
       "156621  euUGjobp4ig838a0DE06bQ   \n",
       "156622  3WFFPdui6B80x9wPP0gHUg   \n",
       "156623  j8KDhwMpM3srQ40rZDedlA   \n",
       "156624  Pb5AfEWAB8GWlHyy-p-l1g   \n",
       "156625  7IQoE-EXnRCBUzaVHYlhmw   \n",
       "156626  KcFfciiA1lmui6r_h5OwTg   \n",
       "156627  1ZsjYgvmtiwZameWm1sCrg   \n",
       "156628  ZEatGDrIaEDX7eZjfQlkvw   \n",
       "156629  ixggn3Iud-mt5ebPl3VXbw   \n",
       "156630  bueyFacDvtY0ot2e1aujLA   \n",
       "156631  HzUxQ1WpeNmeecXN-HPlPw   \n",
       "156632  hdNOL59QqvGlg70E4yHrsQ   \n",
       "156633  LR0IRY1LvTRsPKAFalXlYA   \n",
       "156634  MW4yO70jP70b9uNjZF2OVw   \n",
       "156635  9QtHDX71JnaQbmzWWVbi-A   \n",
       "156636  pj97DoTfO6FcJpW9PnyWtQ   \n",
       "156637  O6BhCUuMA6sp0N24oEIjfw   \n",
       "156638  scMIE4jyGp7FkWrMKAgjxA   \n",
       "\n",
       "                                               categories  \n",
       "0                      [u'Shopping', u'Shopping Centers']  \n",
       "1       [u'Food', u'Soul Food', u'Convenience Stores',...  \n",
       "2                              [u'Food', u'Coffee & Tea']  \n",
       "3              [u'Professional Services', u'Matchmakers']  \n",
       "4                         [u'Sandwiches', u'Restaurants']  \n",
       "5                         [u'Shopping', u'Tobacco Shops']  \n",
       "6                 [u'Chiropractors', u'Health & Medical']  \n",
       "7       [u'Automotive', u'Oil Change Stations', u'Car ...  \n",
       "8       [u'Jewelry Repair', u'Gold Buyers', u'Local Se...  \n",
       "9                  [u'Health & Medical', u'Optometrists']  \n",
       "10                           [u'Bowling', u'Active Life']  \n",
       "11      [u'Barbers', u\"Men's Hair Salons\", u'Hair Remo...  \n",
       "12      [u'Flowers & Gifts', u'Bakeries', u'Grocery', ...  \n",
       "13      [u'Landscape Architects', u'Home & Garden', u'...  \n",
       "14      [u'Burgers', u'Bars', u'Restaurants', u'Sports...  \n",
       "15                           [u'Chinese', u'Restaurants']  \n",
       "16         [u'Contractors', u'Roofing', u'Home Services']  \n",
       "17        [u'Car Wash', u'Automotive', u'Auto Detailing']  \n",
       "18                [u'Food', u'Bakeries', u'Coffee & Tea']  \n",
       "19      [u'Financial Services', u'Banks & Credit Unions']  \n",
       "20      [u'Automotive', u'Auto Repair', u'Tires', u'Oi...  \n",
       "21      [u'Sandwiches', u'Restaurants', u'Italian', u'...  \n",
       "22                     [u'Chicken Wings', u'Restaurants']  \n",
       "23      [u'Life Coach', u'Health & Medical', u'Profess...  \n",
       "24      [u'Advertising', u'Marketing', u'Professional ...  \n",
       "25                       [u'Pubs', u'Nightlife', u'Bars']  \n",
       "26          [u'Arts & Entertainment', u'Performing Arts']  \n",
       "27           [u'Toy Stores', u'Hobby Shops', u'Shopping']  \n",
       "28      [u\"Men's Hair Salons\", u'Hair Stylists', u'Bea...  \n",
       "29                 [u'Home Services', u'Shades & Blinds']  \n",
       "...                                                   ...  \n",
       "156609  [u'Transportation', u'Public Transportation', ...  \n",
       "156610                       [u'Restaurants', u'Mexican']  \n",
       "156611         [u'Piercing', u'Tattoo', u'Beauty & Spas']  \n",
       "156612  [u'Hair Stylists', u'Hair Removal', u'Beauty &...  \n",
       "156613  [u'Mexican', u'Tapas/Small Plates', u'Restaura...  \n",
       "156614  [u'Accessories', u'Fashion', u'Arts & Crafts',...  \n",
       "156615  [u'Gas Stations', u'Restaurants', u'Car Wash',...  \n",
       "156616  [u'Lawyers', u'Immigration Law', u'Professiona...  \n",
       "156617  [u'Restaurants', u'Chicken Wings', u'Fast Food...  \n",
       "156618                     [u'Restaurants', u'Argentine']  \n",
       "156619  [u'Automotive', u'Oil Change Stations', u'Auto...  \n",
       "156620                         [u'Coffee & Tea', u'Food']  \n",
       "156621                      [u'Restaurants', u'Hot Dogs']  \n",
       "156622  [u'Orthopedists', u'Doctors', u'Health & Medic...  \n",
       "156623  [u'Bail Bondsmen', u'Professional Services', u...  \n",
       "156624                       [u'Restaurants', u'Mexican']  \n",
       "156625                         [u'Pizza', u'Restaurants']  \n",
       "156626  [u'Restaurants', u'Delis', u'Sandwiches', u'Fo...  \n",
       "156627  [u'Furniture Reupholstery', u'Flooring', u'Hom...  \n",
       "156628  [u'Telecommunications', u'Mobile Phones', u'Sh...  \n",
       "156629  [u'Beauty & Spas', u'Health & Medical', u'Refl...  \n",
       "156630  [u'Massage', u'Chiropractors', u'Health & Medi...  \n",
       "156631  [u'Food', u'Taiwanese', u'Restaurants', u'Coff...  \n",
       "156632                       [u'Restaurants', u'Burgers']  \n",
       "156633    [u'Day Spas', u'Beauty & Spas', u'Hair Salons']  \n",
       "156634  [u'Art Galleries', u'Flowers & Gifts', u'Event...  \n",
       "156635                [u'American (New)', u'Restaurants']  \n",
       "156636                    [u'Auto Repair', u'Automotive']  \n",
       "156637                          [u'Zoos', u'Active Life']  \n",
       "156638  [u'Fashion', u'Shopping', u'Food', u'Departmen...  \n",
       "\n",
       "[156639 rows x 2 columns]"
      ]
     },
     "execution_count": 237,
     "metadata": {},
     "output_type": "execute_result"
    }
   ],
   "source": [
    "categoryDF"
   ]
  },
  {
   "cell_type": "code",
   "execution_count": null,
   "metadata": {
    "collapsed": true
   },
   "outputs": [],
   "source": []
  }
 ],
 "metadata": {
  "kernelspec": {
   "display_name": "Python 3",
   "language": "python",
   "name": "python3"
  },
  "language_info": {
   "codemirror_mode": {
    "name": "ipython",
    "version": 3
   },
   "file_extension": ".py",
   "mimetype": "text/x-python",
   "name": "python",
   "nbconvert_exporter": "python",
   "pygments_lexer": "ipython3",
   "version": "3.6.2"
  }
 },
 "nbformat": 4,
 "nbformat_minor": 2
}
